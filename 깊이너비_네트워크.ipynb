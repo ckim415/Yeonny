{
  "nbformat": 4,
  "nbformat_minor": 0,
  "metadata": {
    "colab": {
      "name": "깊이너비_네트워크.ipynb",
      "provenance": [],
      "authorship_tag": "ABX9TyOn1q6c9xXfhIqz++7snckt",
      "include_colab_link": true
    },
    "kernelspec": {
      "name": "python3",
      "display_name": "Python 3"
    },
    "language_info": {
      "name": "python"
    }
  },
  "cells": [
    {
      "cell_type": "markdown",
      "metadata": {
        "id": "view-in-github",
        "colab_type": "text"
      },
      "source": [
        "<a href=\"https://colab.research.google.com/github/ckim415/Yeonny/blob/master/%EA%B9%8A%EC%9D%B4%EB%84%88%EB%B9%84_%EB%84%A4%ED%8A%B8%EC%9B%8C%ED%81%AC.ipynb\" target=\"_parent\"><img src=\"https://colab.research.google.com/assets/colab-badge.svg\" alt=\"Open In Colab\"/></a>"
      ]
    },
    {
      "cell_type": "markdown",
      "metadata": {
        "id": "u4z92p8gjEmI"
      },
      "source": [
        "#문제설명\n",
        "네트워크란 컴퓨터 상호 간에 정보를 교환할 수 있도록 연결된 형태를 의미합니다. 예를 들어, 컴퓨터 A와 컴퓨터 B가 직접적으로 연결되어있고, 컴퓨터 B와 컴퓨터 C가 직접적으로 연결되어 있을 때 컴퓨터 A와 컴퓨터 C도 간접적으로 연결되어 정보를 교환할 수 있습니다. 따라서 컴퓨터 A, B, C는 모두 같은 네트워크 상에 있다고 할 수 있습니다.\n",
        "\n",
        "컴퓨터의 개수 n, 연결에 대한 정보가 담긴 2차원 배열 computers가 매개변수로 주어질 때, 네트워크의 개수를 return 하도록 solution 함수를 작성하시오."
      ]
    },
    {
      "cell_type": "markdown",
      "metadata": {
        "id": "gCx0wuk0jLG6"
      },
      "source": [
        "# 제한 사항\n",
        "- 컴퓨터의 개수 n은 1 이상 200 이하인 자연수입니다.\n",
        "- 각 컴퓨터는 0부터 n-1인 정수로 표현합니다.\n",
        "- i번 컴퓨터와 j번 컴퓨터가 연결되어 있으면 computers[i][j]를 1로 표현합니다.\n",
        "- computer[i][i]는 항상 1입니다."
      ]
    },
    {
      "cell_type": "markdown",
      "metadata": {
        "id": "btb642YWjSqK"
      },
      "source": [
        "# 입출력 예\n",
        "\n",
        "```\n",
        "\n",
        "n\t         computers\t                     return\n",
        "3\t  [[1, 1, 0], [1, 1, 0], [0, 0, 1]]\t       2\n",
        "3\t  [[1, 1, 0], [1, 1, 1], [0, 1, 1]]\t       1\n",
        "```\n",
        "\n",
        "\n"
      ]
    },
    {
      "cell_type": "code",
      "metadata": {
        "id": "NGRVVVyPfBeV"
      },
      "source": [
        "def solution(n, computers):\n",
        "    answer = 0\n",
        "    return answer"
      ],
      "execution_count": 2,
      "outputs": []
    },
    {
      "cell_type": "code",
      "metadata": {
        "id": "UeU0BKKkjwsx"
      },
      "source": [
        "computers = [[1, 1, 0], [1, 1, 0], [0, 0, 1]]\n"
      ],
      "execution_count": 3,
      "outputs": []
    },
    {
      "cell_type": "markdown",
      "metadata": {
        "id": "a6-WLY75osWh"
      },
      "source": [
        "## remove duplicates in list of list "
      ]
    },
    {
      "cell_type": "code",
      "metadata": {
        "colab": {
          "base_uri": "https://localhost:8080/"
        },
        "id": "A5_S8kLwnfgc",
        "outputId": "7537fff0-c906-4fdf-a703-4c8b74ef0e04"
      },
      "source": [
        "from itertools import groupby\n",
        "\n",
        "new_computers = list(i for i,_ in groupby(computers))\n",
        "new_computers"
      ],
      "execution_count": 4,
      "outputs": [
        {
          "output_type": "execute_result",
          "data": {
            "text/plain": [
              "[[1, 1, 0], [0, 0, 1]]"
            ]
          },
          "metadata": {
            "tags": []
          },
          "execution_count": 4
        }
      ]
    },
    {
      "cell_type": "code",
      "metadata": {
        "colab": {
          "base_uri": "https://localhost:8080/"
        },
        "id": "bW8K85sPpP41",
        "outputId": "ca884403-887e-4451-e88c-a8f58650ff60"
      },
      "source": [
        "list(groupby(computers))"
      ],
      "execution_count": 5,
      "outputs": [
        {
          "output_type": "execute_result",
          "data": {
            "text/plain": [
              "[([1, 1, 0], <itertools._grouper at 0x7f23ba2ed510>),\n",
              " ([0, 0, 1], <itertools._grouper at 0x7f23ba2ed4d0>)]"
            ]
          },
          "metadata": {
            "tags": []
          },
          "execution_count": 5
        }
      ]
    },
    {
      "cell_type": "code",
      "metadata": {
        "colab": {
          "base_uri": "https://localhost:8080/"
        },
        "id": "lqw1HJ8tqJtz",
        "outputId": "2b003cb4-f9f8-47bc-cda5-eb7781e5ca45"
      },
      "source": [
        "computers2 =\t[[1, 1, 0], [1, 1, 1], [0, 1, 1]]\n",
        "list(groupby(computers2))"
      ],
      "execution_count": 7,
      "outputs": [
        {
          "output_type": "execute_result",
          "data": {
            "text/plain": [
              "[([1, 1, 0], <itertools._grouper at 0x7f23ba302890>),\n",
              " ([1, 1, 1], <itertools._grouper at 0x7f23ba302210>),\n",
              " ([0, 1, 1], <itertools._grouper at 0x7f23ba302e50>)]"
            ]
          },
          "metadata": {
            "tags": []
          },
          "execution_count": 7
        }
      ]
    },
    {
      "cell_type": "code",
      "metadata": {
        "id": "Uf8mOJxGqKuY"
      },
      "source": [
        ""
      ],
      "execution_count": null,
      "outputs": []
    },
    {
      "cell_type": "markdown",
      "metadata": {
        "id": "nqSGcFhmGotl"
      },
      "source": [
        "#너비 우선 탐색(BFS)\n",
        "- G = (V,E)와 시작점이 주어질때, 시작점에서 도달 가능한 모든 간선을 탐색하여 찾는 과정\n",
        "  1. 시작점 방문\n",
        "  2. 시작점에 연결된(인접한) 노드들을 차례로 방문\n",
        "  3. 방문된 노드들과 연결된 노드들을 차례로 방문\n",
        "  4. 방문되지 않은 노드가 없어질때까지, 1-3을 계속 반복\n"
      ]
    },
    {
      "cell_type": "markdown",
      "metadata": {
        "id": "T1IJxa8jNn4N"
      },
      "source": [
        "\n",
        "\n",
        "```\n",
        "def bfs(graph, root):\n",
        "  visited = []\n",
        "  queue = [root]\n",
        "  while queue:\n",
        "    now = queue.pop(0)\n",
        "    if now not in visited:\n",
        "      visited.append(now)\n",
        "      queue.extend(graph[now])\n",
        "    \n",
        "  return visited\n",
        "```\n",
        "\n"
      ]
    },
    {
      "cell_type": "markdown",
      "metadata": {
        "id": "IXCfy3dVN6Cc"
      },
      "source": [
        "#너비 우선 탐색(DFS)\n",
        "- G = (V,E)와 시작점이 주어질때, 시작점에서부터 다음 분기로 넘어가기 전에 해당 분기를 완벽하게 탐색하는 방법\n",
        "  1. 시작점 방문\n",
        "  2. 시작점에 연결된 노드 A 방문\n",
        "  3. 시작점에 연결된다른 노드를 방문하기 전에, A의 이웃 노드를 방문\n",
        "  4. 모든 노드를 방문 할 때 까지, 1-3 반복"
      ]
    },
    {
      "cell_type": "markdown",
      "metadata": {
        "id": "2wkzu-efOXDf"
      },
      "source": [
        "\n",
        "```\n",
        "## 반목문 이용\n",
        "def dfs_iteration(graph, root):\n",
        "  visited = []\n",
        "  stack = [root]\n",
        "  while stack:\n",
        "    now = stack.pop(0)\n",
        "    if now not in visited:\n",
        "      visited.append(now)\n",
        "      stack.extend(graph[now])\n",
        "\n",
        "  return visited\n",
        "```\n",
        "\n",
        "\n",
        "```\n",
        "## 재귀이용\n",
        "def dfs_recursive(graph, start, visited=[]):\n",
        "  visited.append(start):\n",
        "  for node in graph[start]:\n",
        "    if node not in visited:\n",
        "      dfs_recursive(graph, node, visited)\n",
        "  return visited\n",
        "```\n",
        "\n"
      ]
    },
    {
      "cell_type": "code",
      "metadata": {
        "id": "UmIqd1l6NH8D"
      },
      "source": [
        ""
      ],
      "execution_count": null,
      "outputs": []
    },
    {
      "cell_type": "markdown",
      "metadata": {
        "id": "cIaB25MEUqnc"
      },
      "source": [
        "# -\n",
        "- 그래프의 깊이를 알아내지 않아도 되기 때문에 BFS를 이용\n",
        "- 탐색 queue, 방문한 노드\n",
        "  - queue = []\n",
        "  - visited = [0] * n  "
      ]
    },
    {
      "cell_type": "code",
      "metadata": {
        "id": "dSPXrhuBUpzG"
      },
      "source": [
        "def solution(n, computers):\n",
        "  answer = 0\n",
        "  queue = []\n",
        "  visited = [0] * n\n",
        "\n",
        "\n",
        "  while 0 in visited:\n",
        "    x = visited.index(0)\n",
        "    queue.append(x)\n",
        "    visited[x] = 1\n",
        "\n",
        "    while queue:\n",
        "      node = queue.pop(0)\n",
        "    \n",
        "      for i in range(n):\n",
        "        if computers[node][i] == 1 and visited[i] == 0:\n",
        "          queue.append(i)\n",
        "          visited[i] = 1\n",
        "\n",
        "\n",
        "    answer += 1\n",
        "  return answer"
      ],
      "execution_count": 17,
      "outputs": []
    },
    {
      "cell_type": "code",
      "metadata": {
        "id": "jntL7T22X8rz"
      },
      "source": [
        ""
      ],
      "execution_count": null,
      "outputs": []
    },
    {
      "cell_type": "code",
      "metadata": {
        "colab": {
          "base_uri": "https://localhost:8080/"
        },
        "id": "mh12qHIUX8w2",
        "outputId": "3f56f64f-386f-4070-c662-0220f16bea0f"
      },
      "source": [
        "answer = 0\n",
        "queue = []\n",
        "visited = [1,0,0]\n",
        "x = visited.index(0)\n",
        "print(x)\n",
        "  \n"
      ],
      "execution_count": 21,
      "outputs": [
        {
          "output_type": "stream",
          "text": [
            "1\n"
          ],
          "name": "stdout"
        }
      ]
    },
    {
      "cell_type": "code",
      "metadata": {
        "id": "Q5-YdCxdX5lB"
      },
      "source": [
        ""
      ],
      "execution_count": null,
      "outputs": []
    },
    {
      "cell_type": "code",
      "metadata": {
        "colab": {
          "base_uri": "https://localhost:8080/"
        },
        "id": "ZNQqLUXtWvYl",
        "outputId": "de344927-de17-4612-a524-16efbc04cff2"
      },
      "source": [
        "computers = [[1, 1, 0], [1, 1, 0], [0, 0, 1]] \n",
        "solution(3, computers)"
      ],
      "execution_count": 18,
      "outputs": [
        {
          "output_type": "execute_result",
          "data": {
            "text/plain": [
              "2"
            ]
          },
          "metadata": {
            "tags": []
          },
          "execution_count": 18
        }
      ]
    }
  ]
}