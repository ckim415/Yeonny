{
  "nbformat": 4,
  "nbformat_minor": 0,
  "metadata": {
    "colab": {
      "name": "깊이너비_여행경로.ipynb",
      "provenance": [],
      "authorship_tag": "ABX9TyPy+vxfU0p09otOsW3DtrFZ",
      "include_colab_link": true
    },
    "kernelspec": {
      "name": "python3",
      "display_name": "Python 3"
    },
    "language_info": {
      "name": "python"
    }
  },
  "cells": [
    {
      "cell_type": "markdown",
      "metadata": {
        "id": "view-in-github",
        "colab_type": "text"
      },
      "source": [
        "<a href=\"https://colab.research.google.com/github/ckim415/Yeonny/blob/master/%EA%B9%8A%EC%9D%B4%EB%84%88%EB%B9%84_%EC%97%AC%ED%96%89%EA%B2%BD%EB%A1%9C.ipynb\" target=\"_parent\"><img src=\"https://colab.research.google.com/assets/colab-badge.svg\" alt=\"Open In Colab\"/></a>"
      ]
    },
    {
      "cell_type": "markdown",
      "metadata": {
        "id": "HmTi7f_Jg_XK"
      },
      "source": [
        "# 문제설명\n",
        "주어진 항공권을 모두 이용하여 여행경로를 짜려고 합니다. 항상 \"ICN\" 공항에서 출발합니다.\n",
        "\n",
        "항공권 정보가 담긴 2차원 배열 tickets가 매개변수로 주어질 때, 방문하는 공항 경로를 배열에 담아 return 하도록 solution 함수를 작성해주세요."
      ]
    },
    {
      "cell_type": "markdown",
      "metadata": {
        "id": "soiSTJbFhEvZ"
      },
      "source": [
        "# 제한사항\n",
        "- 모든 공항은 알파벳 대문자 3글자로 이루어집니다.\n",
        "- 주어진 공항 수는 3개 이상 10,000개 이하입니다.\n",
        "- tickets의 각 행 [a, b]는 a 공항에서 b 공항으로 가는 항공권이 있다는 의미입니다.\n",
        "- 주어진 항공권은 모두 사용해야 합니다.\n",
        "- 만일 가능한 경로가 2개 이상일 경우 알파벳 순서가 앞서는 경로를 return 합니다.\n",
        "- 모든 도시를 방문할 수 없는 경우는 주어지지 않습니다."
      ]
    },
    {
      "cell_type": "markdown",
      "metadata": {
        "id": "CNPjcoZ5hQM4"
      },
      "source": [
        "# 입출력 예\n",
        "\n",
        "\n",
        "\n",
        "```\n",
        "tickets\t                                                                        return\n",
        "[[\"ICN\", \"JFK\"], [\"HND\", \"IAD\"], [\"JFK\", \"HND\"]]\t                               [\"ICN\", \"JFK\", \"HND\", \"IAD\"]\n",
        "[[\"ICN\", \"SFO\"], [\"ICN\", \"ATL\"], [\"SFO\", \"ATL\"], [\"ATL\", \"ICN\"], [\"ATL\",\"SFO\"]]\t[\"ICN\", \"ATL\", \"ICN\", \"SFO\", \"ATL\", \"SFO\"]\n",
        "```\n",
        "\n",
        "입출력 예 설명\n",
        "예제 #1\n",
        "\n",
        "[\"ICN\", \"JFK\", \"HND\", \"IAD\"] 순으로 방문할 수 있습니다.\n",
        "\n",
        "예제 #2\n",
        "\n",
        "[\"ICN\", \"SFO\", \"ATL\", \"ICN\", \"ATL\", \"SFO\"] 순으로 방문할 수도 있지만 [\"ICN\", \"ATL\", \"ICN\", \"SFO\", \"ATL\", \"SFO\"] 가 알파벳 순으로 앞섭니다."
      ]
    },
    {
      "cell_type": "code",
      "metadata": {
        "id": "Ccfbc8eEOsli"
      },
      "source": [
        "from collections import deque"
      ],
      "execution_count": 5,
      "outputs": []
    },
    {
      "cell_type": "code",
      "metadata": {
        "id": "OsINNIWWhy2l"
      },
      "source": [
        "#1 ICH to SFO\n",
        "#  ICH to Atl  \n",
        "#  [SFO, ATL] consider alphabetical order return ATL then remove [ICH, ATL] from tickets\n",
        "\n",
        "#2 take the ATL to queue and search ticket[i][0] == ATL\n",
        "  "
      ],
      "execution_count": null,
      "outputs": []
    },
    {
      "cell_type": "code",
      "metadata": {
        "colab": {
          "base_uri": "https://localhost:8080/"
        },
        "id": "r8gfrzyeMm38",
        "outputId": "3385c6bf-fe73-4af6-95cd-536b8c4de0e1"
      },
      "source": [
        "alist = ['w','a','e']\n",
        "alist.sort()\n",
        "alist"
      ],
      "execution_count": 3,
      "outputs": [
        {
          "output_type": "execute_result",
          "data": {
            "text/plain": [
              "['a', 'e', 'w']"
            ]
          },
          "metadata": {
            "tags": []
          },
          "execution_count": 3
        }
      ]
    },
    {
      "cell_type": "code",
      "metadata": {
        "colab": {
          "base_uri": "https://localhost:8080/"
        },
        "id": "aMbbc0KPMm6C",
        "outputId": "0c4351ac-dad9-4b38-eb69-424c2c8579fd"
      },
      "source": [
        "tickets = [[\"ICN\", \"SFO\"], [\"ICN\", \"ATL\"], [\"SFO\", \"ATL\"], [\"ATL\", \"ICN\"], [\"ATL\",\"SFO\"]] \n",
        "\n",
        "def takeSecond(element):\n",
        "  return element[1]\n",
        "\n",
        "tickets.sort(key= takeSecond )\n",
        "From,To = [i[0] for i in tickets], [i[1] for i in tickets]\n",
        "queue = deque(['ICN'])\n",
        "visited = []\n",
        "\n",
        "while queue:\n",
        "  if len(visited) == len(tickets) +1:\n",
        "    print(visited)\n",
        "    break\n",
        "  \n",
        "  now = queue.popleft()\n",
        "  print('temp1',temp)\n",
        "  temp = deque([])\n",
        "  \n",
        "  for i in range(len(tickets)):\n",
        "    if From[i] == now:\n",
        "      queue.append(To[i])\n",
        "      temp.append(From[i])\n",
        "      print('temp2',temp)\n",
        "  visited.append(temp.popleft())\n",
        "  print('temp3', temp)\n",
        "  \n",
        "\n"
      ],
      "execution_count": 84,
      "outputs": [
        {
          "output_type": "stream",
          "text": [
            "temp1 deque(['ATL'])\n",
            "temp2 deque(['ICN'])\n",
            "temp2 deque(['ICN', 'ICN'])\n",
            "temp3 deque(['ICN'])\n",
            "temp1 deque(['ICN'])\n",
            "temp2 deque(['ATL'])\n",
            "temp2 deque(['ATL', 'ATL'])\n",
            "temp3 deque(['ATL'])\n",
            "temp1 deque(['ATL'])\n",
            "temp2 deque(['SFO'])\n",
            "temp3 deque([])\n",
            "temp1 deque([])\n",
            "temp2 deque(['ICN'])\n",
            "temp2 deque(['ICN', 'ICN'])\n",
            "temp3 deque(['ICN'])\n",
            "temp1 deque(['ICN'])\n",
            "temp2 deque(['SFO'])\n",
            "temp3 deque([])\n",
            "temp1 deque([])\n",
            "temp2 deque(['ATL'])\n",
            "temp2 deque(['ATL', 'ATL'])\n",
            "temp3 deque(['ATL'])\n",
            "['ICN', 'ATL', 'SFO', 'ICN', 'SFO', 'ATL']\n"
          ],
          "name": "stdout"
        }
      ]
    },
    {
      "cell_type": "code",
      "metadata": {
        "colab": {
          "base_uri": "https://localhost:8080/"
        },
        "id": "ZpDAkohiOnH0",
        "outputId": "389f4c98-3619-42a2-e0c2-21441f68b174"
      },
      "source": [
        "tickets = sorted([[\"ICN\", \"JFK\"], [\"HND\", \"IAD\"], [\"JFK\", \"HND\"]])\n",
        "print(tickets)\n",
        "From = [i[0] for i in tickets]\n",
        "To = [i[1] for i in tickets]\n",
        "From, To"
      ],
      "execution_count": 26,
      "outputs": [
        {
          "output_type": "stream",
          "text": [
            "[['HND', 'IAD'], ['ICN', 'JFK'], ['JFK', 'HND']]\n"
          ],
          "name": "stdout"
        },
        {
          "output_type": "execute_result",
          "data": {
            "text/plain": [
              "(['HND', 'ICN', 'JFK'], ['IAD', 'JFK', 'HND'])"
            ]
          },
          "metadata": {
            "tags": []
          },
          "execution_count": 26
        }
      ]
    },
    {
      "cell_type": "code",
      "metadata": {
        "colab": {
          "base_uri": "https://localhost:8080/"
        },
        "id": "l3EU8vB3XFBZ",
        "outputId": "d9a42539-1f66-4e37-b2bf-324cddf7a467"
      },
      "source": [
        "queue = ['ICN']\n",
        "now = deque(sorted(queue)).popleft()\n",
        "queue, now"
      ],
      "execution_count": 24,
      "outputs": [
        {
          "output_type": "execute_result",
          "data": {
            "text/plain": [
              "(['ICN'], 'ICN')"
            ]
          },
          "metadata": {
            "tags": []
          },
          "execution_count": 24
        }
      ]
    },
    {
      "cell_type": "code",
      "metadata": {
        "colab": {
          "base_uri": "https://localhost:8080/"
        },
        "id": "8sx0U5I4YVTI",
        "outputId": "3318ce52-31df-4783-cb7c-efeb89da9ad8"
      },
      "source": [
        "tickets = [[\"ICN\", \"SFO\"], [\"ICN\", \"ATL\"], [\"SFO\", \"ATL\"], [\"ATL\", \"ICN\"], [\"ATL\",\"SFO\"]] \n",
        "def takeSecond(element):\n",
        "  return element[1]\n",
        "tickets.sort(key= takeSecond )\n",
        "From = [i[0] for i in tickets]\n",
        "To = [i[1] for i in tickets]\n",
        "tickets,From,To"
      ],
      "execution_count": 36,
      "outputs": [
        {
          "output_type": "execute_result",
          "data": {
            "text/plain": [
              "([['ICN', 'ATL'],\n",
              "  ['SFO', 'ATL'],\n",
              "  ['ATL', 'ICN'],\n",
              "  ['ICN', 'SFO'],\n",
              "  ['ATL', 'SFO']],\n",
              " ['ICN', 'SFO', 'ATL', 'ICN', 'ATL'],\n",
              " ['ATL', 'ATL', 'ICN', 'SFO', 'SFO'])"
            ]
          },
          "metadata": {
            "tags": []
          },
          "execution_count": 36
        }
      ]
    },
    {
      "cell_type": "code",
      "metadata": {
        "colab": {
          "base_uri": "https://localhost:8080/"
        },
        "id": "idqgd_ajcElm",
        "outputId": "559aa8a2-add3-4050-a58f-c74590624828"
      },
      "source": [
        "a = []\n",
        "a.append('a')\n",
        "a.append('a')\n",
        "a"
      ],
      "execution_count": 41,
      "outputs": [
        {
          "output_type": "execute_result",
          "data": {
            "text/plain": [
              "['a', 'a']"
            ]
          },
          "metadata": {
            "tags": []
          },
          "execution_count": 41
        }
      ]
    },
    {
      "cell_type": "code",
      "metadata": {
        "id": "9vomZQfTil3L"
      },
      "source": [
        "from collections import deque\n",
        "def solution(tickets):\n",
        "\n",
        "    def takeSecond(element):\n",
        "        return element[1]\n",
        "    \n",
        "    tickets.sort(key= takeSecond )\n",
        "    From = [i[0] for i in tickets]\n",
        "    To = [i[1] for i in tickets]\n",
        "    queue = deque(['ICN'])\n",
        "    visited = []\n",
        "\n",
        "    while len(visited) != len(tickets) +1:\n",
        "        \n",
        "        now = queue.popleft()\n",
        "        temp = deque([])\n",
        "        for i in range(len(tickets)):\n",
        "            if From[i] == now:\n",
        "                queue.append(To[i])\n",
        "                temp.append(From[i])\n",
        "                \n",
        "        visited.append(temp.popleft())\n",
        "    return visited"
      ],
      "execution_count": 85,
      "outputs": []
    },
    {
      "cell_type": "code",
      "metadata": {
        "colab": {
          "base_uri": "https://localhost:8080/"
        },
        "id": "eA_TP9KzioN8",
        "outputId": "b66d200b-3f94-4c99-b5d0-9950cdd257cc"
      },
      "source": [
        "solution(tickets)"
      ],
      "execution_count": 86,
      "outputs": [
        {
          "output_type": "execute_result",
          "data": {
            "text/plain": [
              "['ICN', 'ATL', 'SFO', 'ICN', 'SFO', 'ATL']"
            ]
          },
          "metadata": {
            "tags": []
          },
          "execution_count": 86
        }
      ]
    },
    {
      "cell_type": "code",
      "metadata": {
        "id": "LHc8rlABn3K0"
      },
      "source": [
        "def solution(tickets):\n",
        "\n",
        "  def takeSecond(element):\n",
        "        return element[1]\n",
        "    \n",
        "  tickets.sort(key= takeSecond )\n",
        "\n",
        "  answer = ['ICN']\n",
        "  queue = ['ICN']\n",
        "\n",
        "  while tickets:\n",
        "    now = queue.pop()\n",
        "\n",
        "    for x,y in tickets:\n",
        "      if x == now:\n",
        "        queue.append(y)\n",
        "\n",
        "\n",
        "    print(queue)\n",
        "    to = queue[0]\n",
        "    answer.append(to)\n",
        "    tickets.pop(tickets.index([now, to]))\n",
        "    queue = [answer[-1]]\n",
        "\n",
        "  return answer"
      ],
      "execution_count": 122,
      "outputs": []
    },
    {
      "cell_type": "code",
      "metadata": {
        "id": "xWTIz2OnxJ4X"
      },
      "source": [
        "def takeSecond(element):\n",
        "    return element[1]\n",
        "\n",
        "tickets = [[\"ICN\", \"SFO\"], [\"ICN\", \"ATL\"], [\"SFO\", \"ATL\"], [\"ATL\", \"ICN\"], [\"ATL\",\"SFO\"]] \n",
        "tickets.sort(key= takeSecond )\n"
      ],
      "execution_count": 120,
      "outputs": []
    },
    {
      "cell_type": "code",
      "metadata": {
        "colab": {
          "base_uri": "https://localhost:8080/"
        },
        "id": "nKJODMuDxl6r",
        "outputId": "7b6c461b-68dd-404d-b9b5-77db6d348aa1"
      },
      "source": [
        "tickets"
      ],
      "execution_count": 121,
      "outputs": [
        {
          "output_type": "execute_result",
          "data": {
            "text/plain": [
              "[['ICN', 'ATL'],\n",
              " ['SFO', 'ATL'],\n",
              " ['ATL', 'ICN'],\n",
              " ['ICN', 'SFO'],\n",
              " ['ATL', 'SFO']]"
            ]
          },
          "metadata": {
            "tags": []
          },
          "execution_count": 121
        }
      ]
    },
    {
      "cell_type": "code",
      "metadata": {
        "colab": {
          "base_uri": "https://localhost:8080/"
        },
        "id": "LTaQSl0epTpG",
        "outputId": "1ad06dfb-84c1-46e9-cd42-47ef5f9f4a88"
      },
      "source": [
        "tickets = [[\"ICN\", \"SFO\"], [\"ICN\", \"ATL\"], [\"SFO\", \"ATL\"], [\"ATL\", \"ICN\"], [\"ATL\",\"SFO\"]]\n",
        "solution(tickets)"
      ],
      "execution_count": 123,
      "outputs": [
        {
          "output_type": "stream",
          "text": [
            "['ATL', 'SFO']\n",
            "['ICN', 'SFO']\n",
            "['SFO']\n",
            "['ATL']\n",
            "['SFO']\n"
          ],
          "name": "stdout"
        },
        {
          "output_type": "execute_result",
          "data": {
            "text/plain": [
              "['ICN', 'ATL', 'ICN', 'SFO', 'ATL', 'SFO']"
            ]
          },
          "metadata": {
            "tags": []
          },
          "execution_count": 123
        }
      ]
    }
  ]
}