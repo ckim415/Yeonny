{
  "nbformat": 4,
  "nbformat_minor": 0,
  "metadata": {
    "colab": {
      "name": "깊이너비_단어변환.ipynb",
      "provenance": [],
      "authorship_tag": "ABX9TyP2v6s0j8zjOqzy2ieHk8Gl",
      "include_colab_link": true
    },
    "kernelspec": {
      "name": "python3",
      "display_name": "Python 3"
    },
    "language_info": {
      "name": "python"
    }
  },
  "cells": [
    {
      "cell_type": "markdown",
      "metadata": {
        "id": "view-in-github",
        "colab_type": "text"
      },
      "source": [
        "<a href=\"https://colab.research.google.com/github/ckim415/Yeonny/blob/master/%EA%B9%8A%EC%9D%B4%EB%84%88%EB%B9%84_%EB%8B%A8%EC%96%B4%EB%B3%80%ED%99%98.ipynb\" target=\"_parent\"><img src=\"https://colab.research.google.com/assets/colab-badge.svg\" alt=\"Open In Colab\"/></a>"
      ]
    },
    {
      "cell_type": "markdown",
      "metadata": {
        "id": "g1nBiNiqdHls"
      },
      "source": [
        "# 문제 설명\n",
        "두 개의 단어 begin, target과 단어의 집합 words가 있습니다. 아래와 같은 규칙을 이용하여 begin에서 target으로 변환하는 가장 짧은 변환 과정을 찾으려고 합니다.\n",
        "\n",
        "\n",
        "\n",
        "```\n",
        "1. 한 번에 한 개의 알파벳만 바꿀 수 있습니다.\n",
        "2. words에 있는 단어로만 변환할 수 있습니다.\n",
        "```\n",
        "예를 들어 begin이 \"hit\", target가 \"cog\", words가 [\"hot\",\"dot\",\"dog\",\"lot\",\"log\",\"cog\"]라면 \"hit\" -> \"hot\" -> \"dot\" -> \"dog\" -> \"cog\"와 같이 4단계를 거쳐 변환할 수 있습니다.\n",
        "\n",
        "두 개의 단어 begin, target과 단어의 집합 words가 매개변수로 주어질 때, 최소 몇 단계의 과정을 거쳐 begin을 target으로 변환할 수 있는지 return 하도록 solution 함수를 작성해주세요.\n"
      ]
    },
    {
      "cell_type": "markdown",
      "metadata": {
        "id": "i52PhQFmdSYv"
      },
      "source": [
        "# 제한사항\n",
        "- 각 단어는 알파벳 소문자로만 이루어져 있습니다.\n",
        "- 각 단어의 길이는 3 이상 10 이하이며 모든 단어의 길이는 같습니다.\n",
        "- words에는 3개 이상 50개 이하의 단어가 있으며 중복되는 단어는 없습니다.\n",
        "- begin과 target은 같지 않습니다.\n",
        "- 변환할 수 없는 경우에는 0를 return 합니다."
      ]
    },
    {
      "cell_type": "markdown",
      "metadata": {
        "id": "co163MnldaUS"
      },
      "source": [
        "# 입출력 예\n",
        "\n",
        "\n",
        "\n",
        "```\n",
        "begin\ttarget\t       words\t                              return\n",
        "\"hit\"\t\"cog\"\t   [\"hot\", \"dot\", \"dog\", \"lot\", \"log\", \"cog\"]\t  4\n",
        "\"hit\"\t\"cog\"\t   [\"hot\", \"dot\", \"dog\", \"lot\", \"log\"]\t        0\n",
        "```\n",
        "예제 #1\n",
        "문제에 나온 예와 같습니다.\n",
        "\n",
        "예제 #2\n",
        "target인 \"cog\"는 words 안에 없기 때문에 변환할 수 없습니다.\n"
      ]
    },
    {
      "cell_type": "markdown",
      "metadata": {
        "id": "bcm7CoMRdv6M"
      },
      "source": [
        "# - DFS?\n",
        "- 왜? : 글자 하나가 같으면 연결된 상태로 파악\n",
        "\n"
      ]
    },
    {
      "cell_type": "code",
      "metadata": {
        "id": "PCy6_KOhg7ls"
      },
      "source": [
        "0. 시작 = hit, begin\n",
        "  queue = ['hit']\n",
        "  visited = []\n",
        "1. 시작과의 단어와 한단어만 다른 단어를 찾는다./ visited에 추가한다.\n",
        "  -  hot \n",
        "  queue = ['hit']\n",
        "  visited = ['hot']\n",
        "2. 1에서 찾은 단어와 한단어만 다른 단어를 찾는다.visited에 추가한다.\n",
        "  - dot\n",
        "  queue = ['hot']\n",
        "  visited = ['dot']\n",
        "3. 2에서 찾은 단어와 한단어만 다른 단어를 찾는다.visited에 추가한다.\n",
        "  - dog, lot\n",
        "  queue = ['dot']\n",
        "  visited = ['dog', 'lot']\n",
        "\n",
        "4, 3에서 찾은 단어와 한단어만 다른 단어를 찾는다.visited에 추가한다.\n",
        "  - dog -> cog\n",
        "  - lot -> log \n",
        "  queue = ['dog', 'lot'] \n",
        "  visited = ['cog', 'log']\n",
        "\n",
        "  \n",
        "5. target과 같은 값이 리스트에 들어오면 탐색을 그만한다.\n",
        "  반복된 횟수를 반환한다."
      ],
      "execution_count": null,
      "outputs": []
    },
    {
      "cell_type": "code",
      "metadata": {
        "id": "UjxiLfu--X4S"
      },
      "source": [
        "1. 시작과의 단어와 한단어만 다른 단어를 찾는다./ visited에 추가한다."
      ],
      "execution_count": null,
      "outputs": []
    },
    {
      "cell_type": "code",
      "metadata": {
        "colab": {
          "base_uri": "https://localhost:8080/"
        },
        "id": "WRWnPv0-B8KQ",
        "outputId": "1ebd3387-5aca-4f59-f333-e83bbd0ee528"
      },
      "source": [
        "words = ['hot',\"dot\", \"dog\", \"lot\", \"log\", \"cog\"]\n",
        "begin = 'hit'\n",
        "target = 'cog'\n",
        "queue = [begin] # 탐색을 위한 큐\n",
        "answer = 0 #정답 변수\n",
        "visited = []\n",
        "\n",
        "\n",
        "\n",
        "while target not in visited:\n",
        "  print('queue1:',queue)\n",
        "  node = queue.pop(0)\n",
        "\n",
        "  # if target in visited:\n",
        "  #   print(answer)\n",
        "  #   break\n",
        "    \n",
        "  for word in words:\n",
        "    list_begin = list(node)\n",
        "    list_word = list(word)\n",
        "    \n",
        "    diff = Counter(list_begin) - Counter(list_word)\n",
        "\n",
        "\n",
        "    if len(diff) == 1 and word not in visited:\n",
        "      queue.append(word)\n",
        "      visited.append(word)\n",
        "    print('answer:',answer)\n",
        "    print('queue2:',queue)\n",
        "    print('-'*20)\n",
        "  answer +=1\n",
        "  print('-'*40)\n",
        "print(answer)\n",
        "\n"
      ],
      "execution_count": 46,
      "outputs": [
        {
          "output_type": "stream",
          "text": [
            "queue1: ['hit']\n",
            "answer: 0\n",
            "queue2: ['hot']\n",
            "--------------------\n",
            "answer: 0\n",
            "queue2: ['hot']\n",
            "--------------------\n",
            "answer: 0\n",
            "queue2: ['hot']\n",
            "--------------------\n",
            "answer: 0\n",
            "queue2: ['hot']\n",
            "--------------------\n",
            "answer: 0\n",
            "queue2: ['hot']\n",
            "--------------------\n",
            "answer: 0\n",
            "queue2: ['hot']\n",
            "--------------------\n",
            "----------------------------------------\n",
            "queue1: ['hot']\n",
            "answer: 1\n",
            "queue2: []\n",
            "--------------------\n",
            "answer: 1\n",
            "queue2: ['dot']\n",
            "--------------------\n",
            "answer: 1\n",
            "queue2: ['dot']\n",
            "--------------------\n",
            "answer: 1\n",
            "queue2: ['dot', 'lot']\n",
            "--------------------\n",
            "answer: 1\n",
            "queue2: ['dot', 'lot']\n",
            "--------------------\n",
            "answer: 1\n",
            "queue2: ['dot', 'lot']\n",
            "--------------------\n",
            "----------------------------------------\n",
            "queue1: ['dot', 'lot']\n",
            "answer: 2\n",
            "queue2: ['lot']\n",
            "--------------------\n",
            "answer: 2\n",
            "queue2: ['lot']\n",
            "--------------------\n",
            "answer: 2\n",
            "queue2: ['lot', 'dog']\n",
            "--------------------\n",
            "answer: 2\n",
            "queue2: ['lot', 'dog']\n",
            "--------------------\n",
            "answer: 2\n",
            "queue2: ['lot', 'dog']\n",
            "--------------------\n",
            "answer: 2\n",
            "queue2: ['lot', 'dog']\n",
            "--------------------\n",
            "----------------------------------------\n",
            "queue1: ['lot', 'dog']\n",
            "answer: 3\n",
            "queue2: ['dog']\n",
            "--------------------\n",
            "answer: 3\n",
            "queue2: ['dog']\n",
            "--------------------\n",
            "answer: 3\n",
            "queue2: ['dog']\n",
            "--------------------\n",
            "answer: 3\n",
            "queue2: ['dog']\n",
            "--------------------\n",
            "answer: 3\n",
            "queue2: ['dog', 'log']\n",
            "--------------------\n",
            "answer: 3\n",
            "queue2: ['dog', 'log']\n",
            "--------------------\n",
            "----------------------------------------\n",
            "queue1: ['dog', 'log']\n",
            "answer: 4\n",
            "queue2: ['log']\n",
            "--------------------\n",
            "answer: 4\n",
            "queue2: ['log']\n",
            "--------------------\n",
            "answer: 4\n",
            "queue2: ['log']\n",
            "--------------------\n",
            "answer: 4\n",
            "queue2: ['log']\n",
            "--------------------\n",
            "answer: 4\n",
            "queue2: ['log']\n",
            "--------------------\n",
            "answer: 4\n",
            "queue2: ['log', 'cog']\n",
            "--------------------\n",
            "----------------------------------------\n",
            "5\n"
          ],
          "name": "stdout"
        }
      ]
    },
    {
      "cell_type": "markdown",
      "metadata": {
        "id": "YTM_vRvlfxvC"
      },
      "source": [
        "#### 이거 안됨"
      ]
    },
    {
      "cell_type": "markdown",
      "metadata": {
        "id": "B1BOdQ7EF6GM"
      },
      "source": [
        "# 시간 확인"
      ]
    },
    {
      "cell_type": "code",
      "metadata": {
        "id": "iDJBH8aKG5jG"
      },
      "source": [
        "from collections import Counter, deque\n",
        "import timeit"
      ],
      "execution_count": 16,
      "outputs": []
    },
    {
      "cell_type": "code",
      "metadata": {
        "colab": {
          "base_uri": "https://localhost:8080/"
        },
        "id": "ao1r7H7PF8Ec",
        "outputId": "035ed65a-f3ad-4e82-8f1a-e105e51fd06e"
      },
      "source": [
        "code = Counter(list('hot')) - Counter(list('hit'))\n",
        "time = timeit.timeit(lambda:code, number=1)\n",
        "time"
      ],
      "execution_count": 10,
      "outputs": [
        {
          "output_type": "execute_result",
          "data": {
            "text/plain": [
              "1.085000008060888e-06"
            ]
          },
          "metadata": {
            "tags": []
          },
          "execution_count": 10
        }
      ]
    },
    {
      "cell_type": "markdown",
      "metadata": {
        "id": "uM8sepGVJrsq"
      },
      "source": [
        "## 1. 한글자 다른거 찾기"
      ]
    },
    {
      "cell_type": "code",
      "metadata": {
        "id": "Hfu5PNQmH3-L"
      },
      "source": [
        "def length2(word1, word2):\n",
        "  word1 = list(word1)\n",
        "  word2 = list(word2)\n",
        "  diff = Counter(word1) - Counter(word2)\n",
        "  if diff ==1 :\n",
        "    return True\n",
        "  \n",
        "  return False"
      ],
      "execution_count": 13,
      "outputs": []
    },
    {
      "cell_type": "code",
      "metadata": {
        "id": "f0NCOpmMHAZV"
      },
      "source": [
        "def diff_1(word1, word2):\n",
        "  length = 0\n",
        "  for x,y in zip(word1, word2):\n",
        "    if x != y:\n",
        "      length += 1\n",
        "      if length > 1:\n",
        "        return False\n",
        "      \n",
        "  return True\n",
        "# 이게 더 빠름"
      ],
      "execution_count": 25,
      "outputs": []
    },
    {
      "cell_type": "code",
      "metadata": {
        "colab": {
          "base_uri": "https://localhost:8080/"
        },
        "id": "BdYQ5IGmHoFg",
        "outputId": "fc006251-0d8f-4671-9c35-6580215d9ff4"
      },
      "source": [
        "time = timeit.timeit(lambda:diff_1('hot', 'hit'), number=1)\n",
        "time"
      ],
      "execution_count": 12,
      "outputs": [
        {
          "output_type": "execute_result",
          "data": {
            "text/plain": [
              "6.735999932061532e-06"
            ]
          },
          "metadata": {
            "tags": []
          },
          "execution_count": 12
        }
      ]
    },
    {
      "cell_type": "code",
      "metadata": {
        "colab": {
          "base_uri": "https://localhost:8080/"
        },
        "id": "fb-ekjwtIONw",
        "outputId": "33c904bd-8d83-43d5-ee85-6937be7cd299"
      },
      "source": [
        "time = timeit.timeit(lambda:length2('hot', 'hit'), number=1)\n",
        "time"
      ],
      "execution_count": 14,
      "outputs": [
        {
          "output_type": "execute_result",
          "data": {
            "text/plain": [
              "5.514499991932098e-05"
            ]
          },
          "metadata": {
            "tags": []
          },
          "execution_count": 14
        }
      ]
    },
    {
      "cell_type": "markdown",
      "metadata": {
        "id": "7y6kJ0O3Jx00"
      },
      "source": [
        "## 2. BFS\n",
        "- 그래프 그리기\n",
        "- depth 와 방문한 노드 기록"
      ]
    },
    {
      "cell_type": "code",
      "metadata": {
        "colab": {
          "base_uri": "https://localhost:8080/"
        },
        "id": "s1A_CnZLJ0-Z",
        "outputId": "76cd79fe-1e6c-4767-d3bd-c34bcd2e05e4"
      },
      "source": [
        "def BFS(root, target, words):\n",
        "  visited = {} # 노드와 depth를 저장하기 위해\n",
        "  depth = 0 #begin depth\n",
        "  queue= deque([(root, depth)]) #탐색 큐\n",
        "\n",
        "  while queue:\n",
        "    now, depth = queue.popleft() #맨 왼쪽 element를 가져옴\n",
        "\n",
        "    if now == target:\n",
        "      return visited[target] #now가 queue에 들어가면 dict visited 의 target value를 반환함\n",
        "\n",
        "    for word in words:\n",
        "      if diff_1(now,word) and word not in visited : #한글자 다르고 아직 방문하지 않았다면\n",
        "        queue.append((word, depth+1)) \n",
        "        visited[word] = depth+1  #visted의 모든 depth를 +1 해줌\n",
        "        print(visited)\n",
        "      \n",
        "  \n",
        "\n",
        "\n",
        "BFS('hit','cog',[\"hot\", \"dot\", \"dog\", \"lot\", \"log\", \"cog\"])"
      ],
      "execution_count": 69,
      "outputs": [
        {
          "output_type": "stream",
          "text": [
            "{'hot': 1}\n",
            "{'hot': 1, 'dot': 2}\n",
            "{'hot': 1, 'dot': 2, 'lot': 2}\n",
            "{'hot': 1, 'dot': 2, 'lot': 2, 'dog': 3}\n",
            "{'hot': 1, 'dot': 2, 'lot': 2, 'dog': 3, 'log': 3}\n",
            "{'hot': 1, 'dot': 2, 'lot': 2, 'dog': 3, 'log': 3, 'cog': 4}\n"
          ],
          "name": "stdout"
        },
        {
          "output_type": "execute_result",
          "data": {
            "text/plain": [
              "4"
            ]
          },
          "metadata": {
            "tags": []
          },
          "execution_count": 69
        }
      ]
    },
    {
      "cell_type": "markdown",
      "metadata": {
        "id": "JB_RpBT5fiQ7"
      },
      "source": [
        "## BFS 이용해서 solution "
      ]
    },
    {
      "cell_type": "code",
      "metadata": {
        "id": "z7Z2Oy_5Y4q9"
      },
      "source": [
        "def solution(begin, target, words):\n",
        "  if target not in words:\n",
        "    return 0\n",
        "\n",
        "  visited = {}\n",
        "  depth = 0\n",
        "  queue= deque([(begin, depth)])\n",
        "\n",
        "  while queue:\n",
        "    now, depth = queue.popleft()\n",
        "\n",
        "    if now == target:\n",
        "      visited[word] = depth\n",
        "      return visited[now]\n",
        "\n",
        "    for word in words:\n",
        "      if diff_1(now,word) and word not in visited :\n",
        "        queue.append((word, depth+1))\n",
        "        visited[word] = depth+1\n",
        "      \n",
        "  return  visited[target]"
      ],
      "execution_count": 63,
      "outputs": []
    },
    {
      "cell_type": "code",
      "metadata": {
        "colab": {
          "base_uri": "https://localhost:8080/"
        },
        "id": "tnybfd2gZTke",
        "outputId": "717cc93a-dd2c-4800-f502-2160ec961208"
      },
      "source": [
        "solution('hit','cog',[\"hot\", \"dot\", \"dog\", \"lot\", \"log\", \"cog\"])"
      ],
      "execution_count": 64,
      "outputs": [
        {
          "output_type": "execute_result",
          "data": {
            "text/plain": [
              "4"
            ]
          },
          "metadata": {
            "tags": []
          },
          "execution_count": 64
        }
      ]
    },
    {
      "cell_type": "code",
      "metadata": {
        "id": "jnx6WbmfcSb3"
      },
      "source": [
        ""
      ],
      "execution_count": null,
      "outputs": []
    }
  ]
}