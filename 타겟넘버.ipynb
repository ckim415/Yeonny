{
  "nbformat": 4,
  "nbformat_minor": 0,
  "metadata": {
    "colab": {
      "name": "타겟넘버.ipynb",
      "provenance": [],
      "authorship_tag": "ABX9TyNo0SjKRI1qW3ji2cfnxkXX",
      "include_colab_link": true
    },
    "kernelspec": {
      "name": "python3",
      "display_name": "Python 3"
    },
    "language_info": {
      "name": "python"
    }
  },
  "cells": [
    {
      "cell_type": "markdown",
      "metadata": {
        "id": "view-in-github",
        "colab_type": "text"
      },
      "source": [
        "<a href=\"https://colab.research.google.com/github/ckim415/Yeonny/blob/master/%ED%83%80%EA%B2%9F%EB%84%98%EB%B2%84.ipynb\" target=\"_parent\"><img src=\"https://colab.research.google.com/assets/colab-badge.svg\" alt=\"Open In Colab\"/></a>"
      ]
    },
    {
      "cell_type": "code",
      "metadata": {
        "id": "aDqvGyQvuOtN"
      },
      "source": [
        "from itertools import product"
      ],
      "execution_count": 4,
      "outputs": []
    },
    {
      "cell_type": "code",
      "metadata": {
        "id": "cXCqB5zEuqaJ"
      },
      "source": [
        "numbers = [1, 1, 1, 1, 1]\n",
        "target = 3"
      ],
      "execution_count": 5,
      "outputs": []
    },
    {
      "cell_type": "code",
      "metadata": {
        "colab": {
          "base_uri": "https://localhost:8080/"
        },
        "id": "YiSAbSJ0ur2D",
        "outputId": "275ba191-0638-43c2-86be-51a3b4e8eb0e"
      },
      "source": [
        "alist = [(+i, -i) for i in numbers]\n",
        "alist"
      ],
      "execution_count": 6,
      "outputs": [
        {
          "output_type": "execute_result",
          "data": {
            "text/plain": [
              "[(1, -1), (1, -1), (1, -1), (1, -1), (1, -1)]"
            ]
          },
          "metadata": {
            "tags": []
          },
          "execution_count": 6
        }
      ]
    },
    {
      "cell_type": "code",
      "metadata": {
        "colab": {
          "base_uri": "https://localhost:8080/"
        },
        "id": "P4ULdClGur38",
        "outputId": "114bac41-0ae8-4aae-b4e1-468f86f605ad"
      },
      "source": [
        "answer = list(map(sum, product(*alist)))\n",
        "answer"
      ],
      "execution_count": 23,
      "outputs": [
        {
          "output_type": "execute_result",
          "data": {
            "text/plain": [
              "[5,\n",
              " 3,\n",
              " 3,\n",
              " 1,\n",
              " 3,\n",
              " 1,\n",
              " 1,\n",
              " -1,\n",
              " 3,\n",
              " 1,\n",
              " 1,\n",
              " -1,\n",
              " 1,\n",
              " -1,\n",
              " -1,\n",
              " -3,\n",
              " 3,\n",
              " 1,\n",
              " 1,\n",
              " -1,\n",
              " 1,\n",
              " -1,\n",
              " -1,\n",
              " -3,\n",
              " 1,\n",
              " -1,\n",
              " -1,\n",
              " -3,\n",
              " -1,\n",
              " -3,\n",
              " -3,\n",
              " -5]"
            ]
          },
          "metadata": {
            "tags": []
          },
          "execution_count": 23
        }
      ]
    },
    {
      "cell_type": "code",
      "metadata": {
        "colab": {
          "base_uri": "https://localhost:8080/"
        },
        "id": "DnBnKQ_s4J2N",
        "outputId": "e5e2da2e-cb17-487e-c301-968c085e91f8"
      },
      "source": [
        "answer.count(target)"
      ],
      "execution_count": 24,
      "outputs": [
        {
          "output_type": "execute_result",
          "data": {
            "text/plain": [
              "5"
            ]
          },
          "metadata": {
            "tags": []
          },
          "execution_count": 24
        }
      ]
    },
    {
      "cell_type": "markdown",
      "metadata": {
        "id": "YbRS6R9ivgdX"
      },
      "source": [
        "# from itertools import product\n",
        "\n",
        "1. returns cartesian product of iterable\n",
        "  - cartesian product = set of all possible pair with elements from two different set\n",
        "  - two ways to use itertools.product\n",
        "    1. itertools.product(*iterables, repeat = #)\n",
        "      - returns the cartesian product of iterables for the sepecified number of \n",
        "      keyword repeat\n",
        "      - iterable = []\n",
        "      - ex) product([1,2,3], repeat =3 ) is the same as the product of ([1,2,3],[1,2,3],[1,2,3])\n",
        "    2. itertools.product(*iterables)\n",
        "      - iterable = list of list or list of set\n",
        "\n",
        "\n"
      ]
    },
    {
      "cell_type": "code",
      "metadata": {
        "colab": {
          "base_uri": "https://localhost:8080/"
        },
        "id": "USKZCwcJ0kdI",
        "outputId": "89871ea7-c627-4986-aef4-04a9d753cd9a"
      },
      "source": [
        "print(list(product([1,2,3],[1,2,3],[1,2,3])))"
      ],
      "execution_count": 15,
      "outputs": [
        {
          "output_type": "stream",
          "text": [
            "[(1, 1, 1), (1, 1, 2), (1, 1, 3), (1, 2, 1), (1, 2, 2), (1, 2, 3), (1, 3, 1), (1, 3, 2), (1, 3, 3), (2, 1, 1), (2, 1, 2), (2, 1, 3), (2, 2, 1), (2, 2, 2), (2, 2, 3), (2, 3, 1), (2, 3, 2), (2, 3, 3), (3, 1, 1), (3, 1, 2), (3, 1, 3), (3, 2, 1), (3, 2, 2), (3, 2, 3), (3, 3, 1), (3, 3, 2), (3, 3, 3)]\n"
          ],
          "name": "stdout"
        }
      ]
    },
    {
      "cell_type": "code",
      "metadata": {
        "colab": {
          "base_uri": "https://localhost:8080/"
        },
        "id": "ZZTK3eyX1MBr",
        "outputId": "59de9742-ad1e-42fd-f3f6-36727304a3e4"
      },
      "source": [
        "print(list(product([1,2,3],repeat=3)), len(list(product([1,2,3],repeat=3))))"
      ],
      "execution_count": 19,
      "outputs": [
        {
          "output_type": "stream",
          "text": [
            "[(1, 1, 1), (1, 1, 2), (1, 1, 3), (1, 2, 1), (1, 2, 2), (1, 2, 3), (1, 3, 1), (1, 3, 2), (1, 3, 3), (2, 1, 1), (2, 1, 2), (2, 1, 3), (2, 2, 1), (2, 2, 2), (2, 2, 3), (2, 3, 1), (2, 3, 2), (2, 3, 3), (3, 1, 1), (3, 1, 2), (3, 1, 3), (3, 2, 1), (3, 2, 2), (3, 2, 3), (3, 3, 1), (3, 3, 2), (3, 3, 3)] 27\n"
          ],
          "name": "stdout"
        }
      ]
    },
    {
      "cell_type": "code",
      "metadata": {
        "colab": {
          "base_uri": "https://localhost:8080/"
        },
        "id": "QpFU-O7M0vdC",
        "outputId": "e499551a-5c60-4ecf-bb0b-dfab26d69cfb"
      },
      "source": [
        "a = [(1,2,3),(1,2,3),(1,2,3)]\n",
        "print(list(product(*a)),len(list(product(*a))))"
      ],
      "execution_count": 20,
      "outputs": [
        {
          "output_type": "stream",
          "text": [
            "[(1, 1, 1), (1, 1, 2), (1, 1, 3), (1, 2, 1), (1, 2, 2), (1, 2, 3), (1, 3, 1), (1, 3, 2), (1, 3, 3), (2, 1, 1), (2, 1, 2), (2, 1, 3), (2, 2, 1), (2, 2, 2), (2, 2, 3), (2, 3, 1), (2, 3, 2), (2, 3, 3), (3, 1, 1), (3, 1, 2), (3, 1, 3), (3, 2, 1), (3, 2, 2), (3, 2, 3), (3, 3, 1), (3, 3, 2), (3, 3, 3)] 27\n"
          ],
          "name": "stdout"
        }
      ]
    },
    {
      "cell_type": "code",
      "metadata": {
        "colab": {
          "base_uri": "https://localhost:8080/"
        },
        "id": "71Ax8s7w2VuJ",
        "outputId": "19015bf6-0bfc-4552-da28-09abb3019085"
      },
      "source": [
        "b= [[1,2],[3,4]]\n",
        "print(list(product(*b)))"
      ],
      "execution_count": 22,
      "outputs": [
        {
          "output_type": "stream",
          "text": [
            "[(1, 3), (1, 4), (2, 3), (2, 4)]\n"
          ],
          "name": "stdout"
        }
      ]
    },
    {
      "cell_type": "markdown",
      "metadata": {
        "id": "A5M8Q3sZ3aG-"
      },
      "source": [
        "# map \n",
        "\n",
        "\n",
        "*   map(function, iterable)\n",
        "  - returns iterable after applying the given function to the each element of given iterable\n",
        "  - function : function to which map passes each element fo given iterable\n",
        "\n",
        "\n"
      ]
    },
    {
      "cell_type": "code",
      "metadata": {
        "colab": {
          "base_uri": "https://localhost:8080/"
        },
        "id": "LOZX6sYG5KKx",
        "outputId": "616812b1-0ad3-45e2-a955-57b697e76ce2"
      },
      "source": [
        "list(map(sum, [[1,2,3]]))"
      ],
      "execution_count": 29,
      "outputs": [
        {
          "output_type": "execute_result",
          "data": {
            "text/plain": [
              "[6]"
            ]
          },
          "metadata": {
            "tags": []
          },
          "execution_count": 29
        }
      ]
    },
    {
      "cell_type": "code",
      "metadata": {
        "colab": {
          "base_uri": "https://localhost:8080/"
        },
        "id": "GKOJPPDG5cfS",
        "outputId": "72d918a3-2b23-4cf1-fd3e-644338214b8b"
      },
      "source": [
        "print(list(product([1,2,3],[1,2,3])))\n",
        "print(list(map(min, product([1,2,3],[1,2,3]))))"
      ],
      "execution_count": 35,
      "outputs": [
        {
          "output_type": "stream",
          "text": [
            "[(1, 1), (1, 2), (1, 3), (2, 1), (2, 2), (2, 3), (3, 1), (3, 2), (3, 3)]\n",
            "[1, 1, 1, 1, 2, 2, 1, 2, 3]\n"
          ],
          "name": "stdout"
        }
      ]
    }
  ]
}