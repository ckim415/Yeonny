{
  "nbformat": 4,
  "nbformat_minor": 0,
  "metadata": {
    "colab": {
      "name": "타겟넘버.ipynb",
      "provenance": [],
      "authorship_tag": "ABX9TyPKbLYZ/6Kg+uMK6f7PlWiI",
      "include_colab_link": true
    },
    "kernelspec": {
      "name": "python3",
      "display_name": "Python 3"
    },
    "language_info": {
      "name": "python"
    }
  },
  "cells": [
    {
      "cell_type": "markdown",
      "metadata": {
        "id": "view-in-github",
        "colab_type": "text"
      },
      "source": [
        "<a href=\"https://colab.research.google.com/github/ckim415/Yeonny/blob/master/%ED%83%80%EA%B2%9F%EB%84%98%EB%B2%84.ipynb\" target=\"_parent\"><img src=\"https://colab.research.google.com/assets/colab-badge.svg\" alt=\"Open In Colab\"/></a>"
      ]
    },
    {
      "cell_type": "markdown",
      "metadata": {
        "id": "NPKfCJ2pBwbb"
      },
      "source": [
        "# solution of problem"
      ]
    },
    {
      "cell_type": "code",
      "metadata": {
        "id": "aDqvGyQvuOtN"
      },
      "source": [
        "from itertools import product"
      ],
      "execution_count": 4,
      "outputs": []
    },
    {
      "cell_type": "code",
      "metadata": {
        "id": "cXCqB5zEuqaJ"
      },
      "source": [
        "numbers = [1, 1, 1, 1, 1]\n",
        "target = 3"
      ],
      "execution_count": 5,
      "outputs": []
    },
    {
      "cell_type": "code",
      "metadata": {
        "colab": {
          "base_uri": "https://localhost:8080/"
        },
        "id": "YiSAbSJ0ur2D",
        "outputId": "275ba191-0638-43c2-86be-51a3b4e8eb0e"
      },
      "source": [
        "alist = [(+i, -i) for i in numbers]\n",
        "alist"
      ],
      "execution_count": 6,
      "outputs": [
        {
          "output_type": "execute_result",
          "data": {
            "text/plain": [
              "[(1, -1), (1, -1), (1, -1), (1, -1), (1, -1)]"
            ]
          },
          "metadata": {
            "tags": []
          },
          "execution_count": 6
        }
      ]
    },
    {
      "cell_type": "code",
      "metadata": {
        "colab": {
          "base_uri": "https://localhost:8080/"
        },
        "id": "P4ULdClGur38",
        "outputId": "114bac41-0ae8-4aae-b4e1-468f86f605ad"
      },
      "source": [
        "answer = list(map(sum, product(*alist)))\n",
        "answer"
      ],
      "execution_count": 23,
      "outputs": [
        {
          "output_type": "execute_result",
          "data": {
            "text/plain": [
              "[5,\n",
              " 3,\n",
              " 3,\n",
              " 1,\n",
              " 3,\n",
              " 1,\n",
              " 1,\n",
              " -1,\n",
              " 3,\n",
              " 1,\n",
              " 1,\n",
              " -1,\n",
              " 1,\n",
              " -1,\n",
              " -1,\n",
              " -3,\n",
              " 3,\n",
              " 1,\n",
              " 1,\n",
              " -1,\n",
              " 1,\n",
              " -1,\n",
              " -1,\n",
              " -3,\n",
              " 1,\n",
              " -1,\n",
              " -1,\n",
              " -3,\n",
              " -1,\n",
              " -3,\n",
              " -3,\n",
              " -5]"
            ]
          },
          "metadata": {
            "tags": []
          },
          "execution_count": 23
        }
      ]
    },
    {
      "cell_type": "code",
      "metadata": {
        "colab": {
          "base_uri": "https://localhost:8080/"
        },
        "id": "DnBnKQ_s4J2N",
        "outputId": "e5e2da2e-cb17-487e-c301-968c085e91f8"
      },
      "source": [
        "answer.count(target)"
      ],
      "execution_count": 24,
      "outputs": [
        {
          "output_type": "execute_result",
          "data": {
            "text/plain": [
              "5"
            ]
          },
          "metadata": {
            "tags": []
          },
          "execution_count": 24
        }
      ]
    },
    {
      "cell_type": "markdown",
      "metadata": {
        "id": "NwSzj3WBB4tS"
      },
      "source": [
        "# package used"
      ]
    },
    {
      "cell_type": "markdown",
      "metadata": {
        "id": "YbRS6R9ivgdX"
      },
      "source": [
        "## from itertools import product\n",
        "\n",
        "1. returns cartesian product of iterable\n",
        "  - cartesian product = set of all possible pair with elements from two different set\n",
        "  - two ways to use itertools.product\n",
        "    1. itertools.product(*iterables, repeat = #)\n",
        "      - returns the cartesian product of iterables for the sepecified number of \n",
        "      keyword repeat\n",
        "      - iterable = []\n",
        "      - ex) product([1,2,3], repeat =3 ) is the same as the product of ([1,2,3],[1,2,3],[1,2,3])\n",
        "    2. itertools.product(*iterables)\n",
        "      - iterable = list of list or list of set\n",
        "\n",
        "\n"
      ]
    },
    {
      "cell_type": "code",
      "metadata": {
        "colab": {
          "base_uri": "https://localhost:8080/"
        },
        "id": "USKZCwcJ0kdI",
        "outputId": "89871ea7-c627-4986-aef4-04a9d753cd9a"
      },
      "source": [
        "print(list(product([1,2,3],[1,2,3],[1,2,3])))"
      ],
      "execution_count": 15,
      "outputs": [
        {
          "output_type": "stream",
          "text": [
            "[(1, 1, 1), (1, 1, 2), (1, 1, 3), (1, 2, 1), (1, 2, 2), (1, 2, 3), (1, 3, 1), (1, 3, 2), (1, 3, 3), (2, 1, 1), (2, 1, 2), (2, 1, 3), (2, 2, 1), (2, 2, 2), (2, 2, 3), (2, 3, 1), (2, 3, 2), (2, 3, 3), (3, 1, 1), (3, 1, 2), (3, 1, 3), (3, 2, 1), (3, 2, 2), (3, 2, 3), (3, 3, 1), (3, 3, 2), (3, 3, 3)]\n"
          ],
          "name": "stdout"
        }
      ]
    },
    {
      "cell_type": "code",
      "metadata": {
        "colab": {
          "base_uri": "https://localhost:8080/"
        },
        "id": "ZZTK3eyX1MBr",
        "outputId": "59de9742-ad1e-42fd-f3f6-36727304a3e4"
      },
      "source": [
        "print(list(product([1,2,3],repeat=3)), len(list(product([1,2,3],repeat=3))))"
      ],
      "execution_count": 19,
      "outputs": [
        {
          "output_type": "stream",
          "text": [
            "[(1, 1, 1), (1, 1, 2), (1, 1, 3), (1, 2, 1), (1, 2, 2), (1, 2, 3), (1, 3, 1), (1, 3, 2), (1, 3, 3), (2, 1, 1), (2, 1, 2), (2, 1, 3), (2, 2, 1), (2, 2, 2), (2, 2, 3), (2, 3, 1), (2, 3, 2), (2, 3, 3), (3, 1, 1), (3, 1, 2), (3, 1, 3), (3, 2, 1), (3, 2, 2), (3, 2, 3), (3, 3, 1), (3, 3, 2), (3, 3, 3)] 27\n"
          ],
          "name": "stdout"
        }
      ]
    },
    {
      "cell_type": "code",
      "metadata": {
        "colab": {
          "base_uri": "https://localhost:8080/"
        },
        "id": "QpFU-O7M0vdC",
        "outputId": "e499551a-5c60-4ecf-bb0b-dfab26d69cfb"
      },
      "source": [
        "a = [(1,2,3),(1,2,3),(1,2,3)]\n",
        "print(list(product(*a)),len(list(product(*a))))"
      ],
      "execution_count": 20,
      "outputs": [
        {
          "output_type": "stream",
          "text": [
            "[(1, 1, 1), (1, 1, 2), (1, 1, 3), (1, 2, 1), (1, 2, 2), (1, 2, 3), (1, 3, 1), (1, 3, 2), (1, 3, 3), (2, 1, 1), (2, 1, 2), (2, 1, 3), (2, 2, 1), (2, 2, 2), (2, 2, 3), (2, 3, 1), (2, 3, 2), (2, 3, 3), (3, 1, 1), (3, 1, 2), (3, 1, 3), (3, 2, 1), (3, 2, 2), (3, 2, 3), (3, 3, 1), (3, 3, 2), (3, 3, 3)] 27\n"
          ],
          "name": "stdout"
        }
      ]
    },
    {
      "cell_type": "code",
      "metadata": {
        "colab": {
          "base_uri": "https://localhost:8080/"
        },
        "id": "71Ax8s7w2VuJ",
        "outputId": "19015bf6-0bfc-4552-da28-09abb3019085"
      },
      "source": [
        "b= [[1,2],[3,4]]\n",
        "print(list(product(*b)))"
      ],
      "execution_count": 22,
      "outputs": [
        {
          "output_type": "stream",
          "text": [
            "[(1, 3), (1, 4), (2, 3), (2, 4)]\n"
          ],
          "name": "stdout"
        }
      ]
    },
    {
      "cell_type": "markdown",
      "metadata": {
        "id": "A5M8Q3sZ3aG-"
      },
      "source": [
        "## map \n",
        "\n",
        "\n",
        "*   map(function, iterable)\n",
        "  - returns iterable after applying the given function to the each element of given iterable\n",
        "  - function : function to which map passes each element fo given iterable\n",
        "\n",
        "\n"
      ]
    },
    {
      "cell_type": "code",
      "metadata": {
        "colab": {
          "base_uri": "https://localhost:8080/"
        },
        "id": "LOZX6sYG5KKx",
        "outputId": "616812b1-0ad3-45e2-a955-57b697e76ce2"
      },
      "source": [
        "list(map(sum, [[1,2,3]]))"
      ],
      "execution_count": 29,
      "outputs": [
        {
          "output_type": "execute_result",
          "data": {
            "text/plain": [
              "[6]"
            ]
          },
          "metadata": {
            "tags": []
          },
          "execution_count": 29
        }
      ]
    },
    {
      "cell_type": "code",
      "metadata": {
        "colab": {
          "base_uri": "https://localhost:8080/"
        },
        "id": "4dXmtK8u8qpM",
        "outputId": "ce787cad-cf0b-4265-a352-d48cfc1e54f2"
      },
      "source": [
        "list(map(sum, [[1,2,3],[1,2,3]]))"
      ],
      "execution_count": 36,
      "outputs": [
        {
          "output_type": "execute_result",
          "data": {
            "text/plain": [
              "[6, 6]"
            ]
          },
          "metadata": {
            "tags": []
          },
          "execution_count": 36
        }
      ]
    },
    {
      "cell_type": "code",
      "metadata": {
        "colab": {
          "base_uri": "https://localhost:8080/"
        },
        "id": "GKOJPPDG5cfS",
        "outputId": "72d918a3-2b23-4cf1-fd3e-644338214b8b"
      },
      "source": [
        "print(list(product([1,2,3],[1,2,3])))\n",
        "print(list(map(min, product([1,2,3],[1,2,3]))))"
      ],
      "execution_count": 35,
      "outputs": [
        {
          "output_type": "stream",
          "text": [
            "[(1, 1), (1, 2), (1, 3), (2, 1), (2, 2), (2, 3), (3, 1), (3, 2), (3, 3)]\n",
            "[1, 1, 1, 1, 2, 2, 1, 2, 3]\n"
          ],
          "name": "stdout"
        }
      ]
    },
    {
      "cell_type": "markdown",
      "metadata": {
        "id": "m3SpJ90k9F3x"
      },
      "source": [
        "## Asterisk(*)\n",
        "\n",
        "\n",
        "*   to enable various operations more than just multiplying the two numbers\n",
        "  1. multiplication and power operations\n",
        "  2. repeatedly extending the list-type containers\n",
        "      - [0] * 100\n",
        "      - (0,) * 100\n",
        "  3. using the variadic arguments(packing)\n",
        "      - arguments\n",
        "        - only positional : *args   \n",
        "        - only keyword : **kwargs\n",
        "        - *args, **kwargs are called packing\n",
        "  4. unpacking the containers\n",
        "      - for list and tuple : *\n",
        "      - for dict : **\n",
        "\n",
        "\n"
      ]
    },
    {
      "cell_type": "code",
      "metadata": {
        "id": "Ow98vVOeBpbB"
      },
      "source": [
        ""
      ],
      "execution_count": null,
      "outputs": []
    },
    {
      "cell_type": "markdown",
      "metadata": {
        "id": "2y4O8rilBrFu"
      },
      "source": [
        "# another solution"
      ]
    },
    {
      "cell_type": "code",
      "metadata": {
        "id": "bbAhu8EABpjZ"
      },
      "source": [
        "def solution(numbers, target):\n",
        "  # 끝나는 조건\n",
        "  if not numbers and target == 0:\n",
        "    return 1\n",
        "  \n",
        "  elif not numbers:\n",
        "    return 0\n",
        "\n",
        "  # 반복 구문\n",
        "  else:\n",
        "    return solution(numbers[1:], \n",
        "                    target-numbers[0]+solution(numbers[1:], target+numbers[0]))"
      ],
      "execution_count": 38,
      "outputs": []
    },
    {
      "cell_type": "code",
      "metadata": {
        "colab": {
          "base_uri": "https://localhost:8080/"
        },
        "id": "kKIZJEdgCiWW",
        "outputId": "ae9d7c20-8759-4ea3-854b-1155aee83e4a"
      },
      "source": [
        "print(numbers, target)\n",
        "solution(numbers, target)"
      ],
      "execution_count": 40,
      "outputs": [
        {
          "output_type": "stream",
          "text": [
            "[1, 1, 1, 1, 1] 3\n"
          ],
          "name": "stdout"
        },
        {
          "output_type": "execute_result",
          "data": {
            "text/plain": [
              "0"
            ]
          },
          "metadata": {
            "tags": []
          },
          "execution_count": 40
        }
      ]
    },
    {
      "cell_type": "code",
      "metadata": {
        "colab": {
          "base_uri": "https://localhost:8080/"
        },
        "id": "CsaDE-GPCpt4",
        "outputId": "9af14d6c-6b04-4ee1-ad67-2cf26e9b73c3"
      },
      "source": [
        "not numbers"
      ],
      "execution_count": 41,
      "outputs": [
        {
          "output_type": "execute_result",
          "data": {
            "text/plain": [
              "False"
            ]
          },
          "metadata": {
            "tags": []
          },
          "execution_count": 41
        }
      ]
    },
    {
      "cell_type": "code",
      "metadata": {
        "colab": {
          "base_uri": "https://localhost:8080/"
        },
        "id": "C0ULM7TMDKVn",
        "outputId": "180b5493-eb19-4982-e66a-7fbf5c0d5058"
      },
      "source": [
        "a = []\n",
        "not a"
      ],
      "execution_count": 42,
      "outputs": [
        {
          "output_type": "execute_result",
          "data": {
            "text/plain": [
              "True"
            ]
          },
          "metadata": {
            "tags": []
          },
          "execution_count": 42
        }
      ]
    }
  ]
}