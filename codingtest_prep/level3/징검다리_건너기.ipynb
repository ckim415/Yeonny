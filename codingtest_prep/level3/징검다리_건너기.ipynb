{
  "nbformat": 4,
  "nbformat_minor": 0,
  "metadata": {
    "colab": {
      "name": "징검다리 건너기.ipynb",
      "provenance": [],
      "authorship_tag": "ABX9TyMIVzWHAvXxVK8mYoPMHa5e",
      "include_colab_link": true
    },
    "kernelspec": {
      "name": "python3",
      "display_name": "Python 3"
    },
    "language_info": {
      "name": "python"
    }
  },
  "cells": [
    {
      "cell_type": "markdown",
      "metadata": {
        "id": "view-in-github",
        "colab_type": "text"
      },
      "source": [
        "<a href=\"https://colab.research.google.com/github/ckim415/Yeonny/blob/master/codingtest_prep/level3/%EC%A7%95%EA%B2%80%EB%8B%A4%EB%A6%AC_%EA%B1%B4%EB%84%88%EA%B8%B0.ipynb\" target=\"_parent\"><img src=\"https://colab.research.google.com/assets/colab-badge.svg\" alt=\"Open In Colab\"/></a>"
      ]
    },
    {
      "cell_type": "code",
      "execution_count": null,
      "metadata": {
        "id": "1ESHFbwxKXwL"
      },
      "outputs": [],
      "source": [
        "stones = [2, 4, 5, 3, 2, 1, 4, 2, 5, 1]\n",
        "k = 3"
      ]
    },
    {
      "cell_type": "markdown",
      "source": [
        "# 이분탐색\n",
        " - start, end \n",
        " - while start <= end:\n",
        "  - mid = (start + end) // 2\n",
        "\n",
        "  - if "
      ],
      "metadata": {
        "id": "6ltPHjOUNVGc"
      }
    },
    {
      "cell_type": "code",
      "source": [
        "start, end = 1, 200000000\n",
        "while start <= end:\n",
        "  mid = (start+end) // 2\n",
        "  tmp = stones.copy()\n",
        "  cnt = 0\n",
        "  for t in tmp:\n",
        "    if t - mid <= 0:\n",
        "      cnt += 1\n",
        "    else:\n",
        "      cnt = 0\n",
        "    \n",
        "    if cnt >= k:\n",
        "      break\n",
        "  \n",
        "  if cnt >= k:\n",
        "    end = mid - 1\n",
        "  else:\n",
        "    start = mid + 1\n",
        "\n",
        "  print(start, end)\n",
        "print(start)"
      ],
      "metadata": {
        "colab": {
          "base_uri": "https://localhost:8080/"
        },
        "id": "yH8J2lkqNUrv",
        "outputId": "877f5096-7bc7-4447-cdf1-c6b351da4687"
      },
      "execution_count": null,
      "outputs": [
        {
          "output_type": "stream",
          "name": "stdout",
          "text": [
            "1 99999999\n",
            "1 49999999\n",
            "1 24999999\n",
            "1 12499999\n",
            "1 6249999\n",
            "1 3124999\n",
            "1 1562499\n",
            "1 781249\n",
            "1 390624\n",
            "1 195311\n",
            "1 97655\n",
            "1 48827\n",
            "1 24413\n",
            "1 12206\n",
            "1 6102\n",
            "1 3050\n",
            "1 1524\n",
            "1 761\n",
            "1 380\n",
            "1 189\n",
            "1 94\n",
            "1 46\n",
            "1 22\n",
            "1 10\n",
            "1 4\n",
            "3 4\n",
            "3 2\n",
            "3\n"
          ]
        }
      ]
    },
    {
      "cell_type": "code",
      "source": [
        "start, end = 1, max(stones)\n",
        "answer = 1\n",
        "while start <= end:\n",
        "  mid = (start+end) // 2\n",
        "  cnt = 0\n",
        "  for s in stones:\n",
        "    if s - mid <= 0:\n",
        "      cnt += 1\n",
        "    else:\n",
        "      cnt = 0\n",
        "    \n",
        "    if cnt >= k:\n",
        "      break\n",
        "\n",
        "  print(start, end, answer)\n",
        "  \n",
        "  if cnt >= k:\n",
        "    end = mid - 1\n",
        "    answer = max(answer, mid)\n",
        "  else:\n",
        "    start = mid + 1\n",
        "print(answer)"
      ],
      "metadata": {
        "colab": {
          "base_uri": "https://localhost:8080/"
        },
        "id": "uxT9fp5_Sbzr",
        "outputId": "a81ca2e7-1086-4e24-cdf5-adfc566b67de"
      },
      "execution_count": null,
      "outputs": [
        {
          "output_type": "stream",
          "name": "stdout",
          "text": [
            "1 5 1\n",
            "1 2 3\n",
            "2 2 3\n",
            "3\n"
          ]
        }
      ]
    }
  ]
}