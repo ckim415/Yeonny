{
  "nbformat": 4,
  "nbformat_minor": 0,
  "metadata": {
    "colab": {
      "name": "디스크 컨트롤러.ipynb",
      "provenance": [],
      "authorship_tag": "ABX9TyNOvTiPpxnH2XdPCRByxq6I",
      "include_colab_link": true
    },
    "kernelspec": {
      "name": "python3",
      "display_name": "Python 3"
    },
    "language_info": {
      "name": "python"
    }
  },
  "cells": [
    {
      "cell_type": "markdown",
      "metadata": {
        "id": "view-in-github",
        "colab_type": "text"
      },
      "source": [
        "<a href=\"https://colab.research.google.com/github/ckim415/Yeonny/blob/master/codingtest_prep/level3/%EB%94%94%EC%8A%A4%ED%81%AC_%EC%BB%A8%ED%8A%B8%EB%A1%A4%EB%9F%AC.ipynb\" target=\"_parent\"><img src=\"https://colab.research.google.com/assets/colab-badge.svg\" alt=\"Open In Colab\"/></a>"
      ]
    },
    {
      "cell_type": "code",
      "metadata": {
        "id": "_aGYhgM4T12N"
      },
      "source": [
        "jobs = [[0, 3], [1, 9], [2, 6]]"
      ],
      "execution_count": 22,
      "outputs": []
    },
    {
      "cell_type": "code",
      "metadata": {
        "id": "vM9EFpemUG0d"
      },
      "source": [
        "import heapq"
      ],
      "execution_count": 3,
      "outputs": []
    },
    {
      "cell_type": "code",
      "metadata": {
        "colab": {
          "base_uri": "https://localhost:8080/"
        },
        "id": "Crxiqy-kUxFX",
        "outputId": "e09aa7c3-7ec8-4e6f-d465-d2b0563602e9"
      },
      "source": [
        "jobs = [[0, 3], [1, 9], [2, 6]]\n"
      ],
      "execution_count": 39,
      "outputs": [
        {
          "output_type": "execute_result",
          "data": {
            "text/plain": [
              "[[0, 3], [1, 9], [2, 6]]"
            ]
          },
          "metadata": {},
          "execution_count": 39
        }
      ]
    },
    {
      "cell_type": "code",
      "metadata": {
        "colab": {
          "base_uri": "https://localhost:8080/"
        },
        "id": "Xuu3Ev9Dcf_Q",
        "outputId": "dac6d3e1-f8fa-4bd6-91c2-be627616e3e1"
      },
      "source": [
        "t, total_t = 0, 0 \n",
        "length = len(jobs)\n",
        "while len(jobs) >= 1:\n",
        "  at_t1, t1 = heapq.heappop(jobs)\n",
        "  at_t2, t2 = heapq.heappop(jobs)\n",
        "\n",
        "\n",
        "  if t1-at_t1 > t2 - at_t2:\n",
        "    heapq.heappush(jobs, [at_t1, t1])\n",
        "    total_t += (t-at_t2) + t2\n",
        "    t += t2\n",
        "\n",
        "  else:\n",
        "    heapq.heappush(jobs, [at_t2, t2])\n",
        "    total_t += (t-at_t1) + t1\n",
        "    t += t1\n",
        "  \n",
        "  print(jobs)\n",
        "  print(total_t)\n",
        "\n",
        "final_at, final_t = heapq.heappop(jobs)\n",
        "total_t += (t-final_at) + final_at\n",
        "print(total_t// length)"
      ],
      "execution_count": 40,
      "outputs": [
        {
          "output_type": "stream",
          "name": "stdout",
          "text": [
            "[[1, 9], [2, 6]]\n",
            "3\n",
            "[[1, 9]]\n",
            "10\n",
            "6\n"
          ]
        }
      ]
    },
    {
      "cell_type": "code",
      "metadata": {
        "colab": {
          "base_uri": "https://localhost:8080/"
        },
        "id": "z1ugCvCUb_zg",
        "outputId": "0b4fb31d-1060-4927-f89b-1cdda6457633"
      },
      "source": [
        "jobs = [[0, 3], [1, 9], [2, 6]]\n",
        "jobs.sort(key = lambda x:x[1])\n",
        "jobs\n",
        "\n",
        "  \n"
      ],
      "execution_count": 49,
      "outputs": [
        {
          "output_type": "execute_result",
          "data": {
            "text/plain": [
              "[[0, 3], [2, 6], [1, 9]]"
            ]
          },
          "metadata": {},
          "execution_count": 49
        }
      ]
    },
    {
      "cell_type": "code",
      "metadata": {
        "id": "blqdJohcoB38"
      },
      "source": [
        "jobs = [[0, 3], [1, 9], [2, 6]]\n",
        "def solution(jobs):\n",
        "  jobs.sort(key = lambda x:x[1])\n",
        "  now, answer = 0,0\n",
        "  length = len(jobs)\n",
        "  while jobs:\n",
        "    for i in range(len(jobs)):\n",
        "      if now >= jobs[i][0]:\n",
        "        now += jobs[i][1]\n",
        "        answer += now - jobs[i][0]\n",
        "        jobs.pop(i)\n",
        "        break\n",
        "      \n",
        "      if i == len(jobs)-1:\n",
        "        now += 1\n",
        "\n",
        "  return answer // length\n"
      ],
      "execution_count": 52,
      "outputs": []
    },
    {
      "cell_type": "code",
      "metadata": {
        "colab": {
          "base_uri": "https://localhost:8080/"
        },
        "id": "PUfb6uVFpVkz",
        "outputId": "01b2a3be-ef61-4891-96b3-a8316e795be5"
      },
      "source": [
        "solution([[0, 3], [1, 9], [2, 6]])"
      ],
      "execution_count": 53,
      "outputs": [
        {
          "output_type": "execute_result",
          "data": {
            "text/plain": [
              "9"
            ]
          },
          "metadata": {},
          "execution_count": 53
        }
      ]
    }
  ]
}