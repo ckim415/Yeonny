{
  "nbformat": 4,
  "nbformat_minor": 0,
  "metadata": {
    "colab": {
      "name": "정수 삼각형.ipynb",
      "provenance": [],
      "authorship_tag": "ABX9TyOpElAkif/syGTdZSwKW0Uy",
      "include_colab_link": true
    },
    "kernelspec": {
      "name": "python3",
      "display_name": "Python 3"
    },
    "language_info": {
      "name": "python"
    }
  },
  "cells": [
    {
      "cell_type": "markdown",
      "metadata": {
        "id": "view-in-github",
        "colab_type": "text"
      },
      "source": [
        "<a href=\"https://colab.research.google.com/github/ckim415/Yeonny/blob/master/codingtest_prep/level3/%EC%A0%95%EC%88%98_%EC%82%BC%EA%B0%81%ED%98%95.ipynb\" target=\"_parent\"><img src=\"https://colab.research.google.com/assets/colab-badge.svg\" alt=\"Open In Colab\"/></a>"
      ]
    },
    {
      "cell_type": "code",
      "execution_count": 1,
      "metadata": {
        "id": "iz6JGmfWCUgH"
      },
      "outputs": [],
      "source": [
        "triangle = [[7], [3, 8], [8, 1, 0], [2, 7, 4, 4], [4, 5, 2, 6, 5]]"
      ]
    },
    {
      "cell_type": "code",
      "source": [
        "for t in triangle:\n",
        "  print(t)"
      ],
      "metadata": {
        "colab": {
          "base_uri": "https://localhost:8080/"
        },
        "id": "LbSERMshKk-k",
        "outputId": "ec5c9278-3835-44d6-b838-c77ed3a62503"
      },
      "execution_count": 2,
      "outputs": [
        {
          "output_type": "stream",
          "name": "stdout",
          "text": [
            "[7]\n",
            "[3, 8]\n",
            "[8, 1, 0]\n",
            "[2, 7, 4, 4]\n",
            "[4, 5, 2, 6, 5]\n"
          ]
        }
      ]
    },
    {
      "cell_type": "code",
      "source": [
        "dp = [[0]*(i) for i in range(1,len(triangle)+1)]\n",
        "dp[0] = triangle[0]\n",
        "dp"
      ],
      "metadata": {
        "colab": {
          "base_uri": "https://localhost:8080/"
        },
        "id": "amyiK2INKpLU",
        "outputId": "77ae5c02-c8be-4ce8-ee4c-a194f6e65b35"
      },
      "execution_count": 20,
      "outputs": [
        {
          "output_type": "execute_result",
          "data": {
            "text/plain": [
              "[[7], [0, 0], [0, 0, 0], [0, 0, 0, 0], [0, 0, 0, 0, 0]]"
            ]
          },
          "metadata": {},
          "execution_count": 20
        }
      ]
    },
    {
      "cell_type": "code",
      "source": [
        "for i in range(1, len(triangle)):\n",
        "  b = len(dp[i]) \n",
        "  for j in range(b):\n",
        "   \n",
        "    if j == 0:\n",
        "      dp[i][j] = dp[i-1][j] + triangle[i][j]\n",
        "    \n",
        "    elif j == b-1:\n",
        "      dp[i][j] = dp[i-1][j-1] + triangle[i][j]\n",
        "    \n",
        "    else:\n",
        "      dp[i][j] = max(dp[i-1][j-1]+triangle[i][j], dp[i-1][j]+triangle[i][j])\n",
        "\n",
        "\n",
        "\n",
        "print(max(dp[-1]))"
      ],
      "metadata": {
        "colab": {
          "base_uri": "https://localhost:8080/"
        },
        "id": "rjEprY6NLHb4",
        "outputId": "6448d93d-e8ee-46c8-ae3b-facced1b6dfe"
      },
      "execution_count": 36,
      "outputs": [
        {
          "output_type": "stream",
          "name": "stdout",
          "text": [
            "30\n"
          ]
        }
      ]
    }
  ]
}