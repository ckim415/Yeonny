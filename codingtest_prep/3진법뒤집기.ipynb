{
  "nbformat": 4,
  "nbformat_minor": 0,
  "metadata": {
    "colab": {
      "name": "3진법뒤집기.ipynb",
      "provenance": [],
      "authorship_tag": "ABX9TyMfjwWgtxZF38vKcsFdSo9Q",
      "include_colab_link": true
    },
    "kernelspec": {
      "name": "python3",
      "display_name": "Python 3"
    },
    "language_info": {
      "name": "python"
    }
  },
  "cells": [
    {
      "cell_type": "markdown",
      "metadata": {
        "id": "view-in-github",
        "colab_type": "text"
      },
      "source": [
        "<a href=\"https://colab.research.google.com/github/ckim415/Yeonny/blob/master/codingtest_prep/3%EC%A7%84%EB%B2%95%EB%92%A4%EC%A7%91%EA%B8%B0.ipynb\" target=\"_parent\"><img src=\"https://colab.research.google.com/assets/colab-badge.svg\" alt=\"Open In Colab\"/></a>"
      ]
    },
    {
      "cell_type": "markdown",
      "metadata": {
        "id": "iJutcxp1Az9J"
      },
      "source": [
        "# 3진법 뒤집기"
      ]
    },
    {
      "cell_type": "markdown",
      "metadata": {
        "id": "b3-chbC2A4A-"
      },
      "source": [
        "# 문제 설명\n",
        "- 자연수 n이 매개변수로 주어집니다. n을 3진법 상에서 앞뒤로 뒤집은 후, 이를 다시 10진법으로 표현한 수를 return 하도록 solution 함수를 완성해주세요."
      ]
    },
    {
      "cell_type": "code",
      "metadata": {
        "id": "ibM5htj5AsIR"
      },
      "source": [
        "from collections import deque\n",
        "def solution(n):\n",
        "  remainder = deque([])\n",
        "  while n>0:\n",
        "      remainder.appendleft(n % 3)\n",
        "      n //= 3\n",
        "  return sum([ num*(3**i) for i,num in enumerate(remainder) ])"
      ],
      "execution_count": 1,
      "outputs": []
    },
    {
      "cell_type": "code",
      "metadata": {
        "colab": {
          "base_uri": "https://localhost:8080/"
        },
        "id": "GCBawaRDBBog",
        "outputId": "b99c1101-fb2d-4e71-d76e-16e4fae4176e"
      },
      "source": [
        "solution(125)"
      ],
      "execution_count": 2,
      "outputs": [
        {
          "output_type": "execute_result",
          "data": {
            "text/plain": [
              "229"
            ]
          },
          "metadata": {
            "tags": []
          },
          "execution_count": 2
        }
      ]
    },
    {
      "cell_type": "markdown",
      "metadata": {
        "id": "Q1mWlsDUBHW-"
      },
      "source": [
        "# 다른 풀이"
      ]
    },
    {
      "cell_type": "code",
      "metadata": {
        "id": "FKqw5-FNBGjH"
      },
      "source": [
        "def solution(n):\n",
        "  answer = ''\n",
        "  while n>0:\n",
        "      answer += str(n % 3)\n",
        "      n //= 3\n",
        "\n",
        "  return int(answer,3)"
      ],
      "execution_count": 3,
      "outputs": []
    },
    {
      "cell_type": "code",
      "metadata": {
        "colab": {
          "base_uri": "https://localhost:8080/"
        },
        "id": "HAVvIlyqBWuR",
        "outputId": "324458ca-2a18-468e-e131-7c3b46035972"
      },
      "source": [
        "solution(125)"
      ],
      "execution_count": 4,
      "outputs": [
        {
          "output_type": "execute_result",
          "data": {
            "text/plain": [
              "229"
            ]
          },
          "metadata": {
            "tags": []
          },
          "execution_count": 4
        }
      ]
    },
    {
      "cell_type": "markdown",
      "metadata": {
        "id": "GwWQfvZ0BmZA"
      },
      "source": [
        "# int(value, base)\n",
        "- value : number or string\n",
        "- base : number representing the number format / default : 10"
      ]
    }
  ]
}