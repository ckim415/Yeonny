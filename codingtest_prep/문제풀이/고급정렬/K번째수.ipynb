{
  "nbformat": 4,
  "nbformat_minor": 0,
  "metadata": {
    "colab": {
      "name": "K번째수.ipynb",
      "provenance": [],
      "authorship_tag": "ABX9TyM0kgn/5WVEPGifLcNpyq9R",
      "include_colab_link": true
    },
    "kernelspec": {
      "name": "python3",
      "display_name": "Python 3"
    },
    "language_info": {
      "name": "python"
    }
  },
  "cells": [
    {
      "cell_type": "markdown",
      "metadata": {
        "id": "view-in-github",
        "colab_type": "text"
      },
      "source": [
        "<a href=\"https://colab.research.google.com/github/ckim415/Yeonny/blob/master/codingtest_prep/%EB%AC%B8%EC%A0%9C%ED%92%80%EC%9D%B4/%EA%B3%A0%EA%B8%89%EC%A0%95%EB%A0%AC/K%EB%B2%88%EC%A7%B8%EC%88%98.ipynb\" target=\"_parent\"><img src=\"https://colab.research.google.com/assets/colab-badge.svg\" alt=\"Open In Colab\"/></a>"
      ]
    },
    {
      "cell_type": "code",
      "metadata": {
        "colab": {
          "base_uri": "https://localhost:8080/"
        },
        "id": "fhZxpHIq7GaC",
        "outputId": "052fb113-814a-47cd-8a7a-e0624b928ff0"
      },
      "source": [
        "n, k = input().split(' ')\n",
        "numbers = [int(i) for i in input().split(' ')]"
      ],
      "execution_count": 1,
      "outputs": [
        {
          "output_type": "stream",
          "text": [
            "5 2\n",
            "4 1 2 3 5\n"
          ],
          "name": "stdout"
        }
      ]
    },
    {
      "cell_type": "code",
      "metadata": {
        "colab": {
          "base_uri": "https://localhost:8080/"
        },
        "id": "gRerzSAW7b0D",
        "outputId": "cb8745ef-9261-4c2a-f07b-aa73b38635bb"
      },
      "source": [
        "numbers"
      ],
      "execution_count": 2,
      "outputs": [
        {
          "output_type": "execute_result",
          "data": {
            "text/plain": [
              "[4, 1, 2, 3, 5]"
            ]
          },
          "metadata": {
            "tags": []
          },
          "execution_count": 2
        }
      ]
    },
    {
      "cell_type": "code",
      "metadata": {
        "colab": {
          "base_uri": "https://localhost:8080/"
        },
        "id": "rn4nOqof7dpJ",
        "outputId": "f3755702-ee8d-4553-8810-68993d94ece7"
      },
      "source": [
        "numbers.sort()\n",
        "print(numbers)\n",
        "numbers[int(k)-1]"
      ],
      "execution_count": 8,
      "outputs": [
        {
          "output_type": "stream",
          "text": [
            "[1, 2, 3, 4, 5]\n"
          ],
          "name": "stdout"
        },
        {
          "output_type": "execute_result",
          "data": {
            "text/plain": [
              "2"
            ]
          },
          "metadata": {
            "tags": []
          },
          "execution_count": 8
        }
      ]
    },
    {
      "cell_type": "code",
      "metadata": {
        "colab": {
          "base_uri": "https://localhost:8080/"
        },
        "id": "61QmqVES8Gux",
        "outputId": "32ef330e-6c9b-4773-aca7-87d2215f719f"
      },
      "source": [
        "n, k = map(int, input().split(' '))\n",
        "numbers = list(map(int, input().split(' ')))\n",
        "numbers.sort()\n",
        "numbers[k-1]"
      ],
      "execution_count": 10,
      "outputs": [
        {
          "output_type": "stream",
          "text": [
            "5 2\n",
            "4 1 2 3 5\n"
          ],
          "name": "stdout"
        },
        {
          "output_type": "execute_result",
          "data": {
            "text/plain": [
              "2"
            ]
          },
          "metadata": {
            "tags": []
          },
          "execution_count": 10
        }
      ]
    },
    {
      "cell_type": "markdown",
      "metadata": {
        "id": "Da2aH7J4V7Sl"
      },
      "source": [
        "# 문제풀이\n",
        "- 내장함수 sort()를 이용하는 것이 실제 코딩테스트에서는 좋다\n",
        "- 연습용으로 merge_sort()로 풀어보기"
      ]
    },
    {
      "cell_type": "code",
      "metadata": {
        "id": "xBHwWfIsV6hi"
      },
      "source": [
        "def merge_sort(array):\n",
        "  if len(array) <= 1:\n",
        "    return array\n",
        "\n",
        "  mid = len(array) // 2\n",
        "  left = merge_sort(array[:mid])\n",
        "  right = merge_sort(array[mid:])\n",
        "  i,j,k = 0,0,0\n",
        "\n",
        "  while i < len(left) and j < len(right):\n",
        "    if left[i] < right[j]:\n",
        "      array[k] = left[i]\n",
        "      i += 1\n",
        "    else:\n",
        "      array[k] = right[j]\n",
        "      j += 1\n",
        "    k +=1\n",
        "\n",
        "  if i == len(left):\n",
        "    while j < len(right):\n",
        "      array[k] = right[j]\n",
        "      j += 1\n",
        "      k += 1\n",
        "\n",
        "  elif j == len(right):\n",
        "    while i < len(left):\n",
        "      array[k] = left[i]\n",
        "      i += 1\n",
        "      k += 1\n",
        "\n",
        "  return array"
      ],
      "execution_count": 1,
      "outputs": []
    },
    {
      "cell_type": "code",
      "metadata": {
        "colab": {
          "base_uri": "https://localhost:8080/"
        },
        "id": "ZuPuiTnMW9DH",
        "outputId": "f3acb9e2-866b-4cee-e70e-56a9d64a6288"
      },
      "source": [
        "n, k = map(int, input().split(' '))\n",
        "numbers = list(map(int, input().split(' ')))\n",
        "numbers = merge_sort(numbers)\n",
        "print(numbers[k-1])"
      ],
      "execution_count": 4,
      "outputs": [
        {
          "output_type": "stream",
          "text": [
            "5 2\n",
            "4 1 2 3 5\n",
            "2\n"
          ],
          "name": "stdout"
        }
      ]
    }
  ]
}