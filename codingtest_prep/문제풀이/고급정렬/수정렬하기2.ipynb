{
  "nbformat": 4,
  "nbformat_minor": 0,
  "metadata": {
    "colab": {
      "name": "수정렬하기2.ipynb",
      "provenance": [],
      "authorship_tag": "ABX9TyORky0TgsJl37Ris5zdEDfQ",
      "include_colab_link": true
    },
    "kernelspec": {
      "name": "python3",
      "display_name": "Python 3"
    },
    "language_info": {
      "name": "python"
    }
  },
  "cells": [
    {
      "cell_type": "markdown",
      "metadata": {
        "id": "view-in-github",
        "colab_type": "text"
      },
      "source": [
        "<a href=\"https://colab.research.google.com/github/ckim415/Yeonny/blob/master/codingtest_prep/%EB%AC%B8%EC%A0%9C%ED%92%80%EC%9D%B4/%ED%95%B5%EC%8B%AC%EC%A0%95%EB%A0%AC/%EC%88%98%EC%A0%95%EB%A0%AC%ED%95%98%EA%B8%B02.ipynb\" target=\"_parent\"><img src=\"https://colab.research.google.com/assets/colab-badge.svg\" alt=\"Open In Colab\"/></a>"
      ]
    },
    {
      "cell_type": "markdown",
      "metadata": {
        "id": "QWSA3h001uJx"
      },
      "source": [
        "# 수정렬하기2\n",
        " - 백준 : 2751\n",
        " - 예\n",
        "\n",
        " test_case = 5\n",
        " \n",
        "5\n",
        "4\n",
        "3\n",
        "2\n",
        "1"
      ]
    },
    {
      "cell_type": "code",
      "metadata": {
        "colab": {
          "base_uri": "https://localhost:8080/"
        },
        "id": "E2zBx0oR1njg",
        "outputId": "e207cc15-e895-4f9e-cc7e-350940fbc315"
      },
      "source": [
        "test_case = int(input())\n",
        "numbers = []\n",
        "for _ in range(test_case):\n",
        "  n = int(input())\n",
        "  numbers.append(n)\n",
        "\n",
        "\n",
        "\n",
        "\n",
        "print(sorted(numbers))"
      ],
      "execution_count": 10,
      "outputs": [
        {
          "output_type": "stream",
          "text": [
            "5\n",
            "5\n",
            "4\n",
            "3\n",
            "2\n",
            "1\n",
            "[1, 2, 3, 4, 5]\n"
          ],
          "name": "stdout"
        }
      ]
    },
    {
      "cell_type": "code",
      "metadata": {
        "id": "3a0juVFgUVaW"
      },
      "source": [
        "def merge_sort(array):\n",
        "  if len(array) <= 1:\n",
        "    return array\n",
        "\n",
        "  mid = len(array) // 2\n",
        "  left = merge_sort(array[:mid])\n",
        "  right = merge_sort(array[mid:])\n",
        "  i, j, k = 0,0,0\n",
        "\n",
        "  while i < len(left) and j < len(right):\n",
        "    if left[i] < right[j]:\n",
        "      array[k] = left[i]\n",
        "      i += 1\n",
        "    else:\n",
        "      array[k] = right[j]\n",
        "      j += 1\n",
        "\n",
        "    k += 1\n",
        "\n",
        "  if i == len(left):\n",
        "    while j < len(right):\n",
        "      array[k] = right[j]\n",
        "      j += 1\n",
        "      k += 1\n",
        "\n",
        "  elif j == len(right):\n",
        "    while i < len(left):\n",
        "      array[k] = left[i]\n",
        "      i += 1\n",
        "      k += 1\n",
        "\n",
        "  return array"
      ],
      "execution_count": 1,
      "outputs": []
    },
    {
      "cell_type": "code",
      "metadata": {
        "colab": {
          "base_uri": "https://localhost:8080/"
        },
        "id": "_abNlvpAVIa7",
        "outputId": "185626d9-c362-448f-aeb8-cde7d402d178"
      },
      "source": [
        "test_case = int(input())\n",
        "numbers = []\n",
        "for _ in range(test_case):\n",
        "  n = int(input())\n",
        "  numbers.append(n)\n",
        "\n",
        "numbers = merge_sort(numbers)\n",
        "for i in numbers:\n",
        "  print(i)"
      ],
      "execution_count": 2,
      "outputs": [
        {
          "output_type": "stream",
          "text": [
            "5\n",
            "5\n",
            "4\n",
            "3\n",
            "2\n",
            "1\n",
            "1\n",
            "2\n",
            "3\n",
            "4\n",
            "5\n"
          ],
          "name": "stdout"
        }
      ]
    }
  ]
}
