{
  "nbformat": 4,
  "nbformat_minor": 0,
  "metadata": {
    "colab": {
      "name": "기타리스트.ipynb",
      "provenance": [],
      "authorship_tag": "ABX9TyPTGGtZ/tKyiZa0Ua842G+R",
      "include_colab_link": true
    },
    "kernelspec": {
      "name": "python3",
      "display_name": "Python 3"
    },
    "language_info": {
      "name": "python"
    }
  },
  "cells": [
    {
      "cell_type": "markdown",
      "metadata": {
        "id": "view-in-github",
        "colab_type": "text"
      },
      "source": [
        "<a href=\"https://colab.research.google.com/github/ckim415/Yeonny/blob/master/codingtest_prep/%EB%AC%B8%EC%A0%9C%ED%92%80%EC%9D%B4/%EB%8F%99%EC%A0%81%ED%95%B5%EC%8B%AC/%EA%B8%B0%ED%83%80%EB%A6%AC%EC%8A%A4%ED%8A%B8.ipynb\" target=\"_parent\"><img src=\"https://colab.research.google.com/assets/colab-badge.svg\" alt=\"Open In Colab\"/></a>"
      ]
    },
    {
      "cell_type": "markdown",
      "metadata": {
        "id": "3h9mdnSKxitf"
      },
      "source": [
        "# 기타리스트 \n",
        "- 백준 : 1495"
      ]
    },
    {
      "cell_type": "code",
      "metadata": {
        "colab": {
          "base_uri": "https://localhost:8080/"
        },
        "id": "oG4KGxIXxhF1",
        "outputId": "edb15bbc-0cd9-4ca6-a3cf-b7ff086185f5"
      },
      "source": [
        "n, s, m = map(int, input().split())\n",
        "v = list(map(int, input().split()))"
      ],
      "execution_count": null,
      "outputs": [
        {
          "output_type": "stream",
          "text": [
            "3 5 10\n",
            "5 3 7\n"
          ],
          "name": "stdout"
        }
      ]
    },
    {
      "cell_type": "code",
      "metadata": {
        "colab": {
          "base_uri": "https://localhost:8080/"
        },
        "id": "Xn4FO1UIyLMx",
        "outputId": "fca138d3-970c-4b13-cf40-35a3be9c6355"
      },
      "source": [
        "v"
      ],
      "execution_count": null,
      "outputs": [
        {
          "output_type": "execute_result",
          "data": {
            "text/plain": [
              "[5, 3, 7]"
            ]
          },
          "metadata": {
            "tags": []
          },
          "execution_count": 9
        }
      ]
    },
    {
      "cell_type": "markdown",
      "metadata": {
        "id": "jJBoimTLAot6"
      },
      "source": [
        "# 내가 푼 문제풀이\n",
        " - O(n^2)으로 시도했으나, 끝까지 풀지 못함"
      ]
    },
    {
      "cell_type": "code",
      "metadata": {
        "id": "sKLkTT3p6CIS"
      },
      "source": [
        "dp = [5] * (n+1)\n",
        "for i in range(1,n+1):\n",
        "  if dp[i-1] + v[i-1] <= m and dp[i-1]-v[i-1] >= 0:\n",
        "    dp[i] = max(dp[i-1] + v[i-1], dp[i-1])\n",
        "\n",
        "  else:\n",
        "    if dp[i-1] + v[i-1] > m:\n",
        "      dp[i] = dp[]"
      ],
      "execution_count": null,
      "outputs": []
    },
    {
      "cell_type": "markdown",
      "metadata": {
        "id": "sIKMFnqs7B_U"
      },
      "source": [
        "# 강의 문제풀이\n",
        " - 보통 주어진 조건에서 반복문과 시간 복잡도에 대한 힌트를 얻을수 있음\n"
      ]
    },
    {
      "cell_type": "code",
      "metadata": {
        "colab": {
          "base_uri": "https://localhost:8080/"
        },
        "id": "hGAJL-f1-tio",
        "outputId": "2c263ca0-5290-478c-b726-2a1d4cee239c"
      },
      "source": [
        "dp = [[False]*(m+1) for i in range(n+1)]\n",
        "dp"
      ],
      "execution_count": null,
      "outputs": [
        {
          "output_type": "execute_result",
          "data": {
            "text/plain": [
              "[[False, False, False, False, False, False, False, False, False, False, False],\n",
              " [False, False, False, False, False, False, False, False, False, False, False],\n",
              " [False, False, False, False, False, False, False, False, False, False, False],\n",
              " [False, False, False, False, False, False, False, False, False, False, False]]"
            ]
          },
          "metadata": {
            "tags": []
          },
          "execution_count": 10
        }
      ]
    },
    {
      "cell_type": "code",
      "metadata": {
        "colab": {
          "base_uri": "https://localhost:8080/"
        },
        "id": "avdT2uZ_-07T",
        "outputId": "1474469d-37e7-4f3e-871b-81da0787099d"
      },
      "source": [
        "dp[0][s] = True\n",
        "dp"
      ],
      "execution_count": null,
      "outputs": [
        {
          "output_type": "execute_result",
          "data": {
            "text/plain": [
              "[[False, False, False, False, False, True, False, False, False, False, False],\n",
              " [False, False, False, False, False, False, False, False, False, False, False],\n",
              " [False, False, False, False, False, False, False, False, False, False, False],\n",
              " [False, False, False, False, False, False, False, False, False, False, False]]"
            ]
          },
          "metadata": {
            "tags": []
          },
          "execution_count": 11
        }
      ]
    },
    {
      "cell_type": "code",
      "metadata": {
        "colab": {
          "base_uri": "https://localhost:8080/"
        },
        "id": "BdqwJsnU_slB",
        "outputId": "440cb330-a775-4809-a4ce-a6acda266ba7"
      },
      "source": [
        "n, s, m"
      ],
      "execution_count": null,
      "outputs": [
        {
          "output_type": "execute_result",
          "data": {
            "text/plain": [
              "(3, 5, 10)"
            ]
          },
          "metadata": {
            "tags": []
          },
          "execution_count": 15
        }
      ]
    },
    {
      "cell_type": "code",
      "metadata": {
        "colab": {
          "base_uri": "https://localhost:8080/"
        },
        "id": "aG7P5bPq-5Wz",
        "outputId": "828fb64e-3f32-46aa-c927-b7a70a9ec703"
      },
      "source": [
        "for i in range(1, n+1):\n",
        "  for j in range(m+1):\n",
        "    if dp[i-1][j] == False:\n",
        "      continue\n",
        "    if j - v[i-1] >= 0:\n",
        "      dp[i][j-v[i-1]] = True\n",
        "\n",
        "    if j + v[i-1] <= m:\n",
        "      dp[i][j+v[i-1]] = True\n",
        "\n",
        "dp"
      ],
      "execution_count": null,
      "outputs": [
        {
          "output_type": "execute_result",
          "data": {
            "text/plain": [
              "[[False, False, False, False, False, True, False, False, False, False, False],\n",
              " [True, False, False, False, False, False, False, False, False, False, True],\n",
              " [False, False, False, True, False, False, False, True, False, False, False],\n",
              " [True, False, False, False, False, False, False, False, False, False, True]]"
            ]
          },
          "metadata": {
            "tags": []
          },
          "execution_count": 16
        }
      ]
    },
    {
      "cell_type": "code",
      "metadata": {
        "colab": {
          "base_uri": "https://localhost:8080/"
        },
        "id": "PrVWrUxRAL-o",
        "outputId": "492e924b-eca5-4a12-bf54-8adcc9663276"
      },
      "source": [
        "answer = -1\n",
        "for i in range(m,-1,-1):\n",
        "  if dp[-1][i] == True:\n",
        "    answer = i\n",
        "    break\n",
        "\n",
        "print(answer)"
      ],
      "execution_count": null,
      "outputs": [
        {
          "output_type": "stream",
          "text": [
            "10\n"
          ],
          "name": "stdout"
        }
      ]
    },
    {
      "cell_type": "markdown",
      "metadata": {
        "id": "NdKh9rGi3vJD"
      },
      "source": [
        "# 기타리스트 복기"
      ]
    },
    {
      "cell_type": "code",
      "metadata": {
        "colab": {
          "base_uri": "https://localhost:8080/"
        },
        "id": "s060bc6_3xTs",
        "outputId": "a5772c71-45fd-4864-c449-37a191138bc6"
      },
      "source": [
        "n,s,m = map(int, input().split())\n",
        "v = list(map(int, input().split()))"
      ],
      "execution_count": 1,
      "outputs": [
        {
          "name": "stdout",
          "output_type": "stream",
          "text": [
            "3 5 10\n",
            "5 3 7\n"
          ]
        }
      ]
    },
    {
      "cell_type": "code",
      "metadata": {
        "colab": {
          "base_uri": "https://localhost:8080/"
        },
        "id": "nl4IKEoE38ZA",
        "outputId": "5238ac0a-b843-4337-f0bf-e6b83d213307"
      },
      "source": [
        "v"
      ],
      "execution_count": 2,
      "outputs": [
        {
          "output_type": "execute_result",
          "data": {
            "text/plain": [
              "[5, 3, 7]"
            ]
          },
          "metadata": {},
          "execution_count": 2
        }
      ]
    },
    {
      "cell_type": "code",
      "metadata": {
        "colab": {
          "base_uri": "https://localhost:8080/"
        },
        "id": "a8O25N_L39c-",
        "outputId": "35dba13d-edd5-4281-de41-ea0cb43371ef"
      },
      "source": [
        "dp = [[False]*(m+1) for _ in range(n+1)]\n",
        "dp[0][s] = True\n",
        "dp"
      ],
      "execution_count": 3,
      "outputs": [
        {
          "output_type": "execute_result",
          "data": {
            "text/plain": [
              "[[False, False, False, False, False, True, False, False, False, False, False],\n",
              " [False, False, False, False, False, False, False, False, False, False, False],\n",
              " [False, False, False, False, False, False, False, False, False, False, False],\n",
              " [False, False, False, False, False, False, False, False, False, False, False]]"
            ]
          },
          "metadata": {},
          "execution_count": 3
        }
      ]
    },
    {
      "cell_type": "code",
      "metadata": {
        "colab": {
          "base_uri": "https://localhost:8080/"
        },
        "id": "VAK_qc354G3y",
        "outputId": "ca4a4045-973d-4d5d-c817-7dffb1e73e7f"
      },
      "source": [
        "for i in range(1, n+1):\n",
        "  for j in range(m+1):\n",
        "    if dp[i-1][j] == False:\n",
        "      continue\n",
        "    if j-v[i-1] >= 0:\n",
        "      dp[i][j-v[i-1]] = True\n",
        "    if j+v[i-1] <= m:\n",
        "      dp[i][j+v[i-1]] = True\n",
        "dp"
      ],
      "execution_count": 5,
      "outputs": [
        {
          "output_type": "execute_result",
          "data": {
            "text/plain": [
              "[[False, False, False, False, False, True, False, False, False, False, False],\n",
              " [True, False, False, False, False, False, False, False, False, False, True],\n",
              " [False, False, False, True, False, False, False, True, False, False, False],\n",
              " [True, False, False, False, False, False, False, False, False, False, True]]"
            ]
          },
          "metadata": {},
          "execution_count": 5
        }
      ]
    },
    {
      "cell_type": "code",
      "metadata": {
        "colab": {
          "base_uri": "https://localhost:8080/"
        },
        "id": "Ot5hb8xH4l-H",
        "outputId": "d2182c39-a5f4-4a51-cbc3-1b49a49967cc"
      },
      "source": [
        "answer = -1\n",
        "for i in range(m,-1,-1):\n",
        "  if dp[-1][i] == True:\n",
        "    answer = i\n",
        "    break\n",
        "print(answer)"
      ],
      "execution_count": 7,
      "outputs": [
        {
          "output_type": "stream",
          "name": "stdout",
          "text": [
            "10\n"
          ]
        }
      ]
    }
  ]
}