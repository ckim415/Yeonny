{
  "nbformat": 4,
  "nbformat_minor": 0,
  "metadata": {
    "colab": {
      "name": "가장높은탑쌓기.ipynb",
      "provenance": [],
      "authorship_tag": "ABX9TyPofmkwfBzWpI+xo+sm8gj/",
      "include_colab_link": true
    },
    "kernelspec": {
      "name": "python3",
      "display_name": "Python 3"
    },
    "language_info": {
      "name": "python"
    }
  },
  "cells": [
    {
      "cell_type": "markdown",
      "metadata": {
        "id": "view-in-github",
        "colab_type": "text"
      },
      "source": [
        "<a href=\"https://colab.research.google.com/github/ckim415/Yeonny/blob/master/codingtest_prep/%EB%AC%B8%EC%A0%9C%ED%92%80%EC%9D%B4/%EB%8F%99%EC%A0%81%ED%95%B5%EC%8B%AC/%EA%B0%80%EC%9E%A5%EB%86%92%EC%9D%80%ED%83%91%EC%8C%93%EA%B8%B0.ipynb\" target=\"_parent\"><img src=\"https://colab.research.google.com/assets/colab-badge.svg\" alt=\"Open In Colab\"/></a>"
      ]
    },
    {
      "cell_type": "markdown",
      "metadata": {
        "id": "Gfr93Z3VmXiB"
      },
      "source": [
        "# 가장 높은 탑 쌓기\n",
        " - 백준 : 2655\n",
        " - 5\n",
        "\n",
        "25 3 4\n",
        "\n",
        "4 4 6\n",
        "\n",
        "9 2 3\n",
        "\n",
        "16 2 5\n",
        "\n",
        "1 5 2"
      ]
    },
    {
      "cell_type": "code",
      "metadata": {
        "colab": {
          "base_uri": "https://localhost:8080/"
        },
        "id": "qCW59VcImQgm",
        "outputId": "454e185c-28da-4a95-ea0e-1218141291e5"
      },
      "source": [
        "n = int(input())\n",
        "data = []\n",
        "data.append((0,0,0,0))\n",
        "for i in range(1,n+1):\n",
        "  area, height, weight = map(int, input().split())\n",
        "  data.append((i,area,height,weight))\n",
        "\n",
        "data"
      ],
      "execution_count": null,
      "outputs": [
        {
          "output_type": "stream",
          "text": [
            "5\n",
            "25 3 4\n",
            "4 4 6\n",
            "9 2 3\n",
            "16 2 5\n",
            "1 5 2\n"
          ],
          "name": "stdout"
        },
        {
          "output_type": "execute_result",
          "data": {
            "text/plain": [
              "[(0, 0, 0, 0),\n",
              " (1, 25, 3, 4),\n",
              " (2, 4, 4, 6),\n",
              " (3, 9, 2, 3),\n",
              " (4, 16, 2, 5),\n",
              " (5, 1, 5, 2)]"
            ]
          },
          "metadata": {},
          "execution_count": 26
        }
      ]
    },
    {
      "cell_type": "code",
      "metadata": {
        "colab": {
          "base_uri": "https://localhost:8080/"
        },
        "id": "oiTcH0CQm5QG",
        "outputId": "a3bf24d3-fc23-4fd2-b4e6-979a046b23ef"
      },
      "source": [
        "data = sorted(data, key = lambda x: x[-1])\n",
        "for i in data:\n",
        "  print(i)"
      ],
      "execution_count": null,
      "outputs": [
        {
          "output_type": "stream",
          "text": [
            "(0, 0, 0, 0)\n",
            "(5, 1, 5, 2)\n",
            "(3, 9, 2, 3)\n",
            "(1, 25, 3, 4)\n",
            "(4, 16, 2, 5)\n",
            "(2, 4, 4, 6)\n"
          ],
          "name": "stdout"
        }
      ]
    },
    {
      "cell_type": "code",
      "metadata": {
        "colab": {
          "base_uri": "https://localhost:8080/"
        },
        "id": "pFKLoqojncsx",
        "outputId": "a22ef26b-ab57-435a-8e1e-eb0c87f5ea97"
      },
      "source": [
        "dp = [0] *(n+1)\n",
        "for i in range(1,n+1):\n",
        "  for j in range(0,i):\n",
        "    if data[i][1] > data[j][1]:\n",
        "      dp[i] = max(dp[i], dp[j]+data[i][2])\n",
        "     \n"
      ],
      "execution_count": null,
      "outputs": [
        {
          "output_type": "stream",
          "text": [
            "10\n"
          ],
          "name": "stdout"
        }
      ]
    },
    {
      "cell_type": "code",
      "metadata": {
        "colab": {
          "base_uri": "https://localhost:8080/"
        },
        "id": "0mUAfh46zZQx",
        "outputId": "e009bc05-3fb6-407a-8f82-70472bff6dc0"
      },
      "source": [
        "max_h = max(dp)\n",
        "dp, max_h, n"
      ],
      "execution_count": null,
      "outputs": [
        {
          "output_type": "execute_result",
          "data": {
            "text/plain": [
              "([0, 5, 7, 10, 9, 9], 10, 5)"
            ]
          },
          "metadata": {},
          "execution_count": 59
        }
      ]
    },
    {
      "cell_type": "code",
      "metadata": {
        "id": "1n4SvfyI3lRq"
      },
      "source": [
        "answer = []\n",
        "idx = n\n",
        "while idx != 0:\n",
        "  if dp[idx] == max_h:\n",
        "    \n",
        "    answer.append(data[idx][0])\n",
        "    max_h -= data[idx][2]\n",
        "  idx -= 1"
      ],
      "execution_count": null,
      "outputs": []
    },
    {
      "cell_type": "code",
      "metadata": {
        "colab": {
          "base_uri": "https://localhost:8080/"
        },
        "id": "F-WuPypZ49_R",
        "outputId": "41e35296-d8dc-418e-e817-da22e53ce024"
      },
      "source": [
        "answer"
      ],
      "execution_count": null,
      "outputs": [
        {
          "output_type": "execute_result",
          "data": {
            "text/plain": [
              "[1, 3, 5]"
            ]
          },
          "metadata": {},
          "execution_count": 61
        }
      ]
    },
    {
      "cell_type": "code",
      "metadata": {
        "colab": {
          "base_uri": "https://localhost:8080/"
        },
        "id": "8okqBhl56Fjj",
        "outputId": "8d2586a7-8b6d-4468-e5f9-8d550287e198"
      },
      "source": [
        "print(len(answer))\n",
        "for i in range(len(answer)-1,-1,-1):\n",
        "  print(answer[i])"
      ],
      "execution_count": null,
      "outputs": [
        {
          "output_type": "stream",
          "text": [
            "3\n",
            "5\n",
            "3\n",
            "1\n"
          ],
          "name": "stdout"
        }
      ]
    },
    {
      "cell_type": "markdown",
      "metadata": {
        "id": "Dog36nRXl0js"
      },
      "source": [
        "25 3 4\n",
        "\n",
        "4 4 6\n",
        "\n",
        "9 2 3\n",
        "\n",
        "16 2 5\n",
        "\n",
        "1 5 2"
      ]
    },
    {
      "cell_type": "code",
      "metadata": {
        "colab": {
          "base_uri": "https://localhost:8080/"
        },
        "id": "pWjN3cx_l2Jh",
        "outputId": "376cb864-585f-491c-d2df-45f42038f671"
      },
      "source": [
        "n = int(input())\n",
        "data = [(0,0,0,0)]\n",
        "for i in range(1,n+1):\n",
        "  area, height, weight = map(int, input().split())\n",
        "  data.append((i, area, height, weight))\n",
        "\n",
        "data = sorted(data, key = lambda x: x[-1])\n",
        "data"
      ],
      "execution_count": 1,
      "outputs": [
        {
          "output_type": "stream",
          "text": [
            "5\n",
            "25 3 4\n",
            "4 4 6\n",
            "9 2 3\n",
            "16 2 5\n",
            "1 5 2\n"
          ],
          "name": "stdout"
        },
        {
          "output_type": "execute_result",
          "data": {
            "text/plain": [
              "[(0, 0, 0, 0),\n",
              " (5, 1, 5, 2),\n",
              " (3, 9, 2, 3),\n",
              " (1, 25, 3, 4),\n",
              " (4, 16, 2, 5),\n",
              " (2, 4, 4, 6)]"
            ]
          },
          "metadata": {},
          "execution_count": 1
        }
      ]
    },
    {
      "cell_type": "code",
      "metadata": {
        "colab": {
          "base_uri": "https://localhost:8080/"
        },
        "id": "-lT9tbjEmZWP",
        "outputId": "5fe1c582-75e3-4f5d-a58d-4c14ece1bda4"
      },
      "source": [
        "dp = [0] * (n+1)\n",
        "for i in range(1, n+1):\n",
        "  for j in range(0,i):\n",
        "    if data[i][1] > data[j][1]:\n",
        "      dp[i] = max(dp[j]+data[i][2], dp[j])\n",
        "\n",
        "dp"
      ],
      "execution_count": 9,
      "outputs": [
        {
          "output_type": "execute_result",
          "data": {
            "text/plain": [
              "[0, 5, 7, 10, 9, 9]"
            ]
          },
          "metadata": {},
          "execution_count": 9
        }
      ]
    },
    {
      "cell_type": "code",
      "metadata": {
        "colab": {
          "base_uri": "https://localhost:8080/"
        },
        "id": "Hy2KFi-U5Elk",
        "outputId": "bc020210-dffb-4757-8fe9-36a54f4030af"
      },
      "source": [
        "max_val = max(dp)\n",
        "max_val, n"
      ],
      "execution_count": 18,
      "outputs": [
        {
          "output_type": "execute_result",
          "data": {
            "text/plain": [
              "(10, 5)"
            ]
          },
          "metadata": {},
          "execution_count": 18
        }
      ]
    },
    {
      "cell_type": "code",
      "metadata": {
        "colab": {
          "base_uri": "https://localhost:8080/"
        },
        "id": "SmlQ1IL33849",
        "outputId": "ded2365c-e04f-41ff-eabb-c2f6e83b612a"
      },
      "source": [
        "max_val = max(dp)\n",
        "answer = []\n",
        "idx = n\n",
        "while idx != 0:\n",
        "  if dp[idx] == max_val:\n",
        "    answer.append(data[idx][0])\n",
        "    max_val -= data[idx][2]\n",
        "  idx -= 1\n",
        "\n",
        "print(len(answer))\n",
        "for i in range(len(answer)-1, -1,-1):\n",
        "  print(answer[i])"
      ],
      "execution_count": 19,
      "outputs": [
        {
          "output_type": "stream",
          "text": [
            "3\n",
            "5\n",
            "3\n",
            "1\n"
          ],
          "name": "stdout"
        }
      ]
    }
  ]
}