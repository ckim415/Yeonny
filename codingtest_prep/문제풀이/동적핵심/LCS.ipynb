{
  "nbformat": 4,
  "nbformat_minor": 0,
  "metadata": {
    "colab": {
      "name": "LCS.ipynb",
      "provenance": [],
      "authorship_tag": "ABX9TyOo8kAZbu5wVV9UumFli2iF",
      "include_colab_link": true
    },
    "kernelspec": {
      "name": "python3",
      "display_name": "Python 3"
    },
    "language_info": {
      "name": "python"
    }
  },
  "cells": [
    {
      "cell_type": "markdown",
      "metadata": {
        "id": "view-in-github",
        "colab_type": "text"
      },
      "source": [
        "<a href=\"https://colab.research.google.com/github/ckim415/Yeonny/blob/master/codingtest_prep/%EB%AC%B8%EC%A0%9C%ED%92%80%EC%9D%B4/%EB%8F%99%EC%A0%81%ED%95%B5%EC%8B%AC/LCS.ipynb\" target=\"_parent\"><img src=\"https://colab.research.google.com/assets/colab-badge.svg\" alt=\"Open In Colab\"/></a>"
      ]
    },
    {
      "cell_type": "markdown",
      "metadata": {
        "id": "ENzH-hyjkTc-"
      },
      "source": [
        "# LCS\n",
        " - 백준 : 9251\n",
        " - LCS : longest common subsequence"
      ]
    },
    {
      "cell_type": "code",
      "metadata": {
        "colab": {
          "base_uri": "https://localhost:8080/"
        },
        "id": "EgDlqVrWkOri",
        "outputId": "fe79cd6d-77ec-4537-9467-9e545c941f5b"
      },
      "source": [
        "a = input()\n",
        "b = input()\n",
        "\n",
        "dp = [[0]*(len(a)+1) for i in range(len(b)+1) ]"
      ],
      "execution_count": 23,
      "outputs": [
        {
          "output_type": "stream",
          "text": [
            "ACAYKP\n",
            "CAPCAK\n"
          ],
          "name": "stdout"
        }
      ]
    },
    {
      "cell_type": "code",
      "metadata": {
        "colab": {
          "base_uri": "https://localhost:8080/"
        },
        "id": "f2wKk6wBqegF",
        "outputId": "0d03111e-d32e-410d-ad43-13e1ac0399c2"
      },
      "source": [
        "dp"
      ],
      "execution_count": 24,
      "outputs": [
        {
          "output_type": "execute_result",
          "data": {
            "text/plain": [
              "[[0, 0, 0, 0, 0, 0, 0],\n",
              " [0, 0, 0, 0, 0, 0, 0],\n",
              " [0, 0, 0, 0, 0, 0, 0],\n",
              " [0, 0, 0, 0, 0, 0, 0],\n",
              " [0, 0, 0, 0, 0, 0, 0],\n",
              " [0, 0, 0, 0, 0, 0, 0],\n",
              " [0, 0, 0, 0, 0, 0, 0]]"
            ]
          },
          "metadata": {
            "tags": []
          },
          "execution_count": 24
        }
      ]
    },
    {
      "cell_type": "code",
      "metadata": {
        "id": "gIz8gFovpgkf"
      },
      "source": [
        "for i in range(1, len(a)+1):\n",
        "  for j in range(1, len(b)+1):\n",
        "    if a[i-1] == b[j-1]:\n",
        "      dp[i][j] = dp[i-1][j-1] + 1\n",
        "    else:\n",
        "      dp[i][j] = max(dp[i-1][j], dp[i][j-1])"
      ],
      "execution_count": 26,
      "outputs": []
    },
    {
      "cell_type": "code",
      "metadata": {
        "colab": {
          "base_uri": "https://localhost:8080/"
        },
        "id": "1Bq5MbL5uuMX",
        "outputId": "6871a309-ed85-43fe-da43-93feec5c7b48"
      },
      "source": [
        "for i in dp:\n",
        "  print(i)"
      ],
      "execution_count": 29,
      "outputs": [
        {
          "output_type": "stream",
          "text": [
            "[0, 0, 0, 0, 0, 0, 0]\n",
            "[0, 0, 1, 1, 1, 1, 1]\n",
            "[0, 1, 1, 1, 2, 2, 2]\n",
            "[0, 1, 2, 2, 2, 3, 3]\n",
            "[0, 1, 2, 2, 2, 3, 3]\n",
            "[0, 1, 2, 2, 2, 3, 4]\n",
            "[0, 1, 2, 3, 3, 3, 4]\n"
          ],
          "name": "stdout"
        }
      ]
    },
    {
      "cell_type": "code",
      "metadata": {
        "colab": {
          "base_uri": "https://localhost:8080/"
        },
        "id": "5nfe4z5UuwxD",
        "outputId": "a611b0da-5a4d-4766-f65f-acff19a565c7"
      },
      "source": [
        "print(dp[len(a)][len(b)])"
      ],
      "execution_count": 28,
      "outputs": [
        {
          "output_type": "stream",
          "text": [
            "4\n"
          ],
          "name": "stdout"
        }
      ]
    }
  ]
}