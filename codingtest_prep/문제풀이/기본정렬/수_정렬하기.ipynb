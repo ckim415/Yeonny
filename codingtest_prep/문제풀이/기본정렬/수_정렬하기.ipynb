{
  "nbformat": 4,
  "nbformat_minor": 0,
  "metadata": {
    "colab": {
      "name": "수 정렬하기.ipynb",
      "provenance": [],
      "toc_visible": true,
      "authorship_tag": "ABX9TyMllBLLe23iiL3wSAiQ0gZA",
      "include_colab_link": true
    },
    "kernelspec": {
      "name": "python3",
      "display_name": "Python 3"
    },
    "language_info": {
      "name": "python"
    }
  },
  "cells": [
    {
      "cell_type": "markdown",
      "metadata": {
        "id": "view-in-github",
        "colab_type": "text"
      },
      "source": [
        "<a href=\"https://colab.research.google.com/github/ckim415/Yeonny/blob/master/codingtest_prep/%EB%AC%B8%EC%A0%9C%ED%92%80%EC%9D%B4/%EA%B8%B0%EB%B3%B8%EC%A0%95%EB%A0%AC/%EC%88%98_%EC%A0%95%EB%A0%AC%ED%95%98%EA%B8%B0.ipynb\" target=\"_parent\"><img src=\"https://colab.research.google.com/assets/colab-badge.svg\" alt=\"Open In Colab\"/></a>"
      ]
    },
    {
      "cell_type": "markdown",
      "metadata": {
        "id": "3KLzmVUBupJV"
      },
      "source": [
        "# 내 문제풀이"
      ]
    },
    {
      "cell_type": "code",
      "metadata": {
        "colab": {
          "base_uri": "https://localhost:8080/"
        },
        "id": "O-Z1F3nVs-F1",
        "outputId": "8755ea15-91f1-4164-c28e-aba18ec9bd2a"
      },
      "source": [
        "n = int(input())\n",
        "alist = [int(input()) for i in range(n)]\n",
        "for i in sorted(alist):\n",
        "  print(i)"
      ],
      "execution_count": null,
      "outputs": [
        {
          "output_type": "stream",
          "text": [
            "5\n",
            "2\n",
            "1\n",
            "3\n",
            "4\n",
            "5\n",
            "1\n",
            "2\n",
            "3\n",
            "4\n",
            "5\n"
          ],
          "name": "stdout"
        }
      ]
    },
    {
      "cell_type": "code",
      "metadata": {
        "id": "Y0vLXFpy1cpS"
      },
      "source": [
        "import datetime"
      ],
      "execution_count": null,
      "outputs": []
    },
    {
      "cell_type": "code",
      "metadata": {
        "colab": {
          "base_uri": "https://localhost:8080/"
        },
        "id": "Ol6MIA1a1alv",
        "outputId": "2da3ce0d-b538-44d8-f94f-cc9bde2721b5"
      },
      "source": [
        "n = int(input())\n",
        "alist = [int(input()) for i in range(n)]\n",
        "start = datetime.datetime.now()\n",
        "for i in sorted(alist):\n",
        "  print(i)\n",
        "\n",
        "end = datetime.datetime.now()\n",
        "print('duration', end-start)"
      ],
      "execution_count": null,
      "outputs": [
        {
          "output_type": "stream",
          "text": [
            "5\n",
            "5\n",
            "2\n",
            "3\n",
            "4\n",
            "1\n",
            "1\n",
            "2\n",
            "3\n",
            "4\n",
            "5\n",
            "duration 0:00:00.000318\n"
          ],
          "name": "stdout"
        }
      ]
    },
    {
      "cell_type": "markdown",
      "metadata": {
        "id": "3oV7ziu5uni1"
      },
      "source": [
        "# 정렬 알고리즘을 이용하여 풀어보기\n",
        " - quicksort\n",
        " - 선택정렬\n",
        " - 삽입정렬"
      ]
    },
    {
      "cell_type": "markdown",
      "metadata": {
        "id": "kg0fWDxRu13x"
      },
      "source": [
        "## 1. quicksort"
      ]
    },
    {
      "cell_type": "code",
      "metadata": {
        "colab": {
          "base_uri": "https://localhost:8080/"
        },
        "id": "YJIAjFMOu0d_",
        "outputId": "241a9f27-8b8c-4072-d123-fd24ff3099fa"
      },
      "source": [
        "n = int(input())\n",
        "alist = [int(input()) for i in range(n)]\n",
        "\n",
        "def quicksort(alist):\n",
        "  if len(alist) <= 1:\n",
        "    return alist\n",
        "  pivot = alist[0]\n",
        "  left = [i for i in alist[1:] if i < pivot ]\n",
        "  right = [i for i in alist[1:] if i > pivot]\n",
        "  return quicksort(left) + [pivot] + quicksort(right)"
      ],
      "execution_count": null,
      "outputs": [
        {
          "output_type": "stream",
          "text": [
            "5\n",
            "5\n",
            "2\n",
            "3\n",
            "4\n",
            "1\n"
          ],
          "name": "stdout"
        }
      ]
    },
    {
      "cell_type": "code",
      "metadata": {
        "colab": {
          "base_uri": "https://localhost:8080/"
        },
        "id": "TSpGP8Lvy3rT",
        "outputId": "9d19a6b4-fb82-493c-8807-f4e60e8bf4c0"
      },
      "source": [
        "for i in quicksort(alist):\n",
        "  print(i)"
      ],
      "execution_count": null,
      "outputs": [
        {
          "output_type": "stream",
          "text": [
            "1\n",
            "2\n",
            "3\n",
            "4\n",
            "5\n"
          ],
          "name": "stdout"
        }
      ]
    },
    {
      "cell_type": "markdown",
      "metadata": {
        "id": "tLIKTiKzzoSr"
      },
      "source": [
        "## 2. 선택정렬"
      ]
    },
    {
      "cell_type": "code",
      "metadata": {
        "colab": {
          "base_uri": "https://localhost:8080/"
        },
        "id": "xGqaLvUuzvgQ",
        "outputId": "5f12a355-e67d-46ea-ea9a-a92342f70713"
      },
      "source": [
        "n = int(input())\n",
        "alist = [int(input()) for i in range(n)]\n",
        "start = datetime.datetime.now()\n",
        "for i in range(len(alist)-1):\n",
        "  lowest = i\n",
        "  for index2 in range(i+1, len(alist)):\n",
        "    if alist[lowest] > alist[index2]:\n",
        "      lowest = index2\n",
        "  \n",
        "  alist[lowest], alist[i] = alist[i], alist[lowest]\n",
        "# print('*'*20)\n",
        "for i in alist:\n",
        "  print(i)\n",
        "end = datetime.datetime.now()\n",
        "print('duration', end-start)"
      ],
      "execution_count": null,
      "outputs": [
        {
          "output_type": "stream",
          "text": [
            "5\n",
            "5\n",
            "2\n",
            "3\n",
            "4\n",
            "1\n",
            "1\n",
            "2\n",
            "3\n",
            "4\n",
            "5\n",
            "duration 0:00:00.001795\n"
          ],
          "name": "stdout"
        }
      ]
    },
    {
      "cell_type": "markdown",
      "metadata": {
        "id": "M21AzMXj0j6A"
      },
      "source": [
        "## 3. 삽입정렬"
      ]
    },
    {
      "cell_type": "code",
      "metadata": {
        "colab": {
          "base_uri": "https://localhost:8080/"
        },
        "id": "Vmve1hCi0v_6",
        "outputId": "5b455f6c-173d-478b-c566-4122051d6707"
      },
      "source": [
        "n = int(input())\n",
        "alist = [int(input()) for i in range(n)]\n",
        "start = datetime.datetime.now()\n",
        "for index in range(len(alist)-1):\n",
        "  for index2 in range(index+1,0,-1):\n",
        "    if alist[index2] < alist[index2-1]:\n",
        "      alist[index2], alist[index2-1] = alist[index2-1], alist[index2]\n",
        "    else:\n",
        "      break\n",
        "# print('*'*20)\n",
        "\n",
        "for i in alist:\n",
        "  print(i)\n",
        "\n",
        "end = datetime.datetime.now()\n",
        "print('duration', end-start)"
      ],
      "execution_count": null,
      "outputs": [
        {
          "output_type": "stream",
          "text": [
            "5\n",
            "5\n",
            "2\n",
            "3\n",
            "4\n",
            "1\n",
            "1\n",
            "2\n",
            "3\n",
            "4\n",
            "5\n",
            "duration 0:00:00.002246\n"
          ],
          "name": "stdout"
        }
      ]
    },
    {
      "cell_type": "markdown",
      "metadata": {
        "id": "kzgb0FGgg3ra"
      },
      "source": [
        "# 알아둘점\n",
        "- list sort 메소드는 시간 복잡도가 O(logn)\n",
        "- 선택 정렬 : O(n^2) "
      ]
    }
  ]
}