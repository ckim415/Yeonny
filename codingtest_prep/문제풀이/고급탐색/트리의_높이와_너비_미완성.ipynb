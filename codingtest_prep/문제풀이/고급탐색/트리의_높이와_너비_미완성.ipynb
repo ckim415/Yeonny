{
  "nbformat": 4,
  "nbformat_minor": 0,
  "metadata": {
    "colab": {
      "name": "트리의 높이와 너비.ipynb",
      "provenance": [],
      "authorship_tag": "ABX9TyMGuIZA66FkAsfa5pdVf7na",
      "include_colab_link": true
    },
    "kernelspec": {
      "display_name": "Python 3",
      "name": "python3"
    },
    "language_info": {
      "name": "python"
    }
  },
  "cells": [
    {
      "cell_type": "markdown",
      "metadata": {
        "id": "view-in-github",
        "colab_type": "text"
      },
      "source": [
        "<a href=\"https://colab.research.google.com/github/ckim415/Yeonny/blob/master/codingtest_prep/%EB%AC%B8%EC%A0%9C%ED%92%80%EC%9D%B4/%EA%B3%A0%EA%B8%89%ED%83%90%EC%83%89/%ED%8A%B8%EB%A6%AC%EC%9D%98_%EB%86%92%EC%9D%B4%EC%99%80_%EB%84%88%EB%B9%84_%EB%AF%B8%EC%99%84%EC%84%B1.ipynb\" target=\"_parent\"><img src=\"https://colab.research.google.com/assets/colab-badge.svg\" alt=\"Open In Colab\"/></a>"
      ]
    },
    {
      "cell_type": "code",
      "metadata": {
        "id": "M9L5ml0hSfDL"
      },
      "source": [
        "from collections import defaultdict"
      ],
      "execution_count": null,
      "outputs": []
    },
    {
      "cell_type": "code",
      "metadata": {
        "colab": {
          "background_save": true
        },
        "id": "k8I91qwwim3j",
        "outputId": "1a943c93-64ac-495b-ad9a-95754ae251ba"
      },
      "source": [
        "adict = defaultdict(list)\n",
        "adict['A'] = [1,1]\n",
        "adict['']"
      ],
      "execution_count": null,
      "outputs": [
        {
          "data": {
            "text/plain": [
              "[1, 1]"
            ]
          },
          "execution_count": null,
          "metadata": {},
          "output_type": "execute_result"
        }
      ]
    }
  ]
}