{
  "nbformat": 4,
  "nbformat_minor": 0,
  "metadata": {
    "colab": {
      "name": "키로그.ipynb",
      "provenance": [],
      "authorship_tag": "ABX9TyPtYmS/TGAKa9sVpBI7sY4T",
      "include_colab_link": true
    },
    "kernelspec": {
      "name": "python3",
      "display_name": "Python 3"
    },
    "language_info": {
      "name": "python"
    }
  },
  "cells": [
    {
      "cell_type": "markdown",
      "metadata": {
        "id": "view-in-github",
        "colab_type": "text"
      },
      "source": [
        "<a href=\"https://colab.research.google.com/github/ckim415/Yeonny/blob/master/codingtest_prep/%EB%AC%B8%EC%A0%9C%ED%92%80%EC%9D%B4/%ED%82%A4%EB%A1%9C%EA%B7%B8.ipynb\" target=\"_parent\"><img src=\"https://colab.research.google.com/assets/colab-badge.svg\" alt=\"Open In Colab\"/></a>"
      ]
    },
    {
      "cell_type": "code",
      "metadata": {
        "colab": {
          "base_uri": "https://localhost:8080/"
        },
        "id": "TQYvPk29xMUp",
        "outputId": "b18c535c-c1d4-42a6-efc1-23cff642c711"
      },
      "source": [
        "'A'.isalpha()"
      ],
      "execution_count": 1,
      "outputs": [
        {
          "output_type": "execute_result",
          "data": {
            "text/plain": [
              "True"
            ]
          },
          "metadata": {
            "tags": []
          },
          "execution_count": 1
        }
      ]
    },
    {
      "cell_type": "code",
      "metadata": {
        "colab": {
          "base_uri": "https://localhost:8080/"
        },
        "id": "iJa1gp9V301X",
        "outputId": "95730204-9813-42aa-d4e8-4e428c75b1b9"
      },
      "source": [
        "alist = [1,2,3,4]\n",
        "alist[:-1]"
      ],
      "execution_count": 3,
      "outputs": [
        {
          "output_type": "execute_result",
          "data": {
            "text/plain": [
              "[1, 2, 3]"
            ]
          },
          "metadata": {
            "tags": []
          },
          "execution_count": 3
        }
      ]
    },
    {
      "cell_type": "code",
      "metadata": {
        "colab": {
          "base_uri": "https://localhost:8080/"
        },
        "id": "3MD9YYo335kb",
        "outputId": "ec4d4594-0ca0-45f8-9779-9154306b51d6"
      },
      "source": [
        "# test_case = int(input())\n",
        "\n",
        "# for turn in range(test_case):\n",
        "keys = [i for i in input()]\n",
        "answer = []\n",
        "idx = 0\n",
        "for key in keys:\n",
        "  count = 0\n",
        "  if key.isdigit() or key.isalpha():\n",
        "    answer.append(key)\n",
        "    idx += 1\n",
        "\n",
        "  else:\n",
        "    count += 1\n",
        "    if key == '<':\n",
        "      if idx - count >= 0:\n",
        "        idx -= count\n",
        "    elif key == '>':\n",
        "      if idx + count <= len(answer):\n",
        "        idx += count\n",
        "    else:\n",
        "      answer = answer[:-1]\n",
        "print(''.join(answer))"
      ],
      "execution_count": 5,
      "outputs": [
        {
          "output_type": "stream",
          "text": [
            "2\n",
            "ThIsIsS3Cr3t\n",
            "ThIsIsS3Cr3t\n",
            "<<BP<A>>Cd-\n",
            "BPAC\n"
          ],
          "name": "stdout"
        }
      ]
    },
    {
      "cell_type": "code",
      "metadata": {
        "id": "Z6kYO9D7AhjS"
      },
      "source": [
        "import datetime"
      ],
      "execution_count": 1,
      "outputs": []
    },
    {
      "cell_type": "code",
      "metadata": {
        "colab": {
          "base_uri": "https://localhost:8080/"
        },
        "id": "H9fv5tT8AcWz",
        "outputId": "a9d4c834-cfbd-4fbf-8af6-7f527047df0b"
      },
      "source": [
        "start = datetime.datetime.now()\n",
        "keys = '<<BP<A>>Cd-'\n",
        "answer = []\n",
        "idx = 0\n",
        "for key in keys:\n",
        "  count = 0\n",
        "  if key.isdigit() or key.isalpha():\n",
        "    answer.append(key)\n",
        "    idx += 1\n",
        "\n",
        "  else:\n",
        "    count += 1\n",
        "    if key == '<':\n",
        "      if idx - count >= 0:\n",
        "        idx -= count\n",
        "    elif key == '>':\n",
        "      if idx + count <= len(answer):\n",
        "        idx += count\n",
        "    else:\n",
        "      answer = answer[:-1]\n",
        "print(''.join(answer))\n",
        "end = datetime.datetime.now()\n",
        "print('duration', end-start)"
      ],
      "execution_count": 11,
      "outputs": [
        {
          "output_type": "stream",
          "text": [
            "BPAC\n",
            "duration 0:00:00.001028\n"
          ],
          "name": "stdout"
        }
      ]
    },
    {
      "cell_type": "code",
      "metadata": {
        "colab": {
          "base_uri": "https://localhost:8080/"
        },
        "id": "Fhd11PzU_01_",
        "outputId": "5630f086-26a4-4492-c72a-b96c6f2bbc60"
      },
      "source": [
        "# 문제풀이 답\n",
        "start = datetime.datetime.now()\n",
        "data = '<<BP<A>>Cd-'\n",
        "left = []\n",
        "right = []\n",
        "for i in data:\n",
        "  if i == '-':\n",
        "    if left:\n",
        "      left.pop()\n",
        "  elif i == '<':\n",
        "    if left:\n",
        "      right.append(left.pop())\n",
        "  elif i == '>':\n",
        "    if right:\n",
        "      left.append(right.pop())\n",
        "  else:\n",
        "    left.append(i)\n",
        "left.extend(reversed(right))\n",
        "print(''.join(left))\n",
        "end = datetime.datetime.now()\n",
        "print('duration', end-start)"
      ],
      "execution_count": 2,
      "outputs": [
        {
          "output_type": "stream",
          "text": [
            "BAPC\n",
            "duration 0:00:00.000710\n"
          ],
          "name": "stdout"
        }
      ]
    }
  ]
}
