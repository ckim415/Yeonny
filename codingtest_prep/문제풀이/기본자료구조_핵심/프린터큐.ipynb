{
  "nbformat": 4,
  "nbformat_minor": 0,
  "metadata": {
    "colab": {
      "name": "프린터큐.ipynb",
      "provenance": [],
      "authorship_tag": "ABX9TyM6kzBW/XGZcfRNFVIoHekc",
      "include_colab_link": true
    },
    "kernelspec": {
      "name": "python3",
      "display_name": "Python 3"
    },
    "language_info": {
      "name": "python"
    }
  },
  "cells": [
    {
      "cell_type": "markdown",
      "metadata": {
        "id": "view-in-github",
        "colab_type": "text"
      },
      "source": [
        "<a href=\"https://colab.research.google.com/github/ckim415/Yeonny/blob/master/codingtest_prep/%EB%AC%B8%EC%A0%9C%ED%92%80%EC%9D%B4/%EA%B8%B0%EB%B3%B8%EC%9E%90%EB%A3%8C%EA%B5%AC%EC%A1%B0_%ED%95%B5%EC%8B%AC/%ED%94%84%EB%A6%B0%ED%84%B0%ED%81%90.ipynb\" target=\"_parent\"><img src=\"https://colab.research.google.com/assets/colab-badge.svg\" alt=\"Open In Colab\"/></a>"
      ]
    },
    {
      "cell_type": "code",
      "metadata": {
        "colab": {
          "base_uri": "https://localhost:8080/"
        },
        "id": "5rMurAibdw2T",
        "outputId": "2a8fcade-ae0b-47a1-f301-8423229b6338"
      },
      "source": [
        "n, idx = input().split(' ')"
      ],
      "execution_count": null,
      "outputs": [
        {
          "output_type": "stream",
          "text": [
            "6 0\n"
          ],
          "name": "stdout"
        }
      ]
    },
    {
      "cell_type": "code",
      "metadata": {
        "colab": {
          "base_uri": "https://localhost:8080/"
        },
        "id": "q8KbYSSCisi9",
        "outputId": "10aa12d0-6234-43af-e033-d7aa087e2b48"
      },
      "source": [
        "print(n)\n",
        "print(idx)"
      ],
      "execution_count": null,
      "outputs": [
        {
          "output_type": "stream",
          "text": [
            "6\n",
            "0\n"
          ],
          "name": "stdout"
        }
      ]
    },
    {
      "cell_type": "code",
      "metadata": {
        "colab": {
          "base_uri": "https://localhost:8080/"
        },
        "id": "pS1wWOElixYO",
        "outputId": "00b40fe7-72e3-4223-9084-8acf3d54bd60"
      },
      "source": [
        "alist = [int(i) for i in input().split(' ')]"
      ],
      "execution_count": null,
      "outputs": [
        {
          "output_type": "stream",
          "text": [
            "1 2 3 4\n"
          ],
          "name": "stdout"
        }
      ]
    },
    {
      "cell_type": "code",
      "metadata": {
        "colab": {
          "base_uri": "https://localhost:8080/"
        },
        "id": "AM7rAFpGi7US",
        "outputId": "1ffa4870-c81b-4bcf-96b6-5c8c950e73a3"
      },
      "source": [
        "alist"
      ],
      "execution_count": null,
      "outputs": [
        {
          "output_type": "execute_result",
          "data": {
            "text/plain": [
              "[1, 2, 3, 4]"
            ]
          },
          "metadata": {
            "tags": []
          },
          "execution_count": 7
        }
      ]
    },
    {
      "cell_type": "code",
      "metadata": {
        "colab": {
          "base_uri": "https://localhost:8080/"
        },
        "id": "PizSk8Fgi_1v",
        "outputId": "19c54898-6235-4e14-911a-dd8d1e31e9b2"
      },
      "source": [
        "n, idx = input().split(' ')\n",
        "alist = [int(i) for i in input().split(' ')]\n",
        "\n",
        "if n == 1:\n",
        "  print(1)\n",
        "\n",
        "num = alist[int(idx)]\n",
        "count = 1\n",
        "for i, num_list in enumerate(alist):\n",
        "  if num < num_list:\n",
        "    count +=1\n",
        "  \n",
        "  elif num == num_list and int(idx) < i:\n",
        "    count +=1\n",
        "\n",
        "print(count)\n"
      ],
      "execution_count": null,
      "outputs": [
        {
          "output_type": "stream",
          "text": [
            "6 0\n",
            "1 1 9 1 1 1\n",
            "6\n"
          ],
          "name": "stdout"
        }
      ]
    },
    {
      "cell_type": "code",
      "metadata": {
        "colab": {
          "base_uri": "https://localhost:8080/"
        },
        "id": "x8ACpuF7rbHc",
        "outputId": "04205e6f-f5e9-4050-bfa8-bc4c2cfa545a"
      },
      "source": [
        "test_case = int(input())\n",
        "for turn in range(test_case):\n",
        "\n",
        "  n, m = list(map(int, input().split(' ')))\n",
        "  queue = list(map(int, input().split(' ')))\n",
        "  \n",
        "  queue = [(i, idx) for idx,i in enumerate(queue)]\n",
        "\n",
        "  count = 0\n",
        "  while True:\n",
        "\n",
        "    if queue[0][0] == max(queue, key=lambda x: x[0])[0]:\n",
        "      count += 1\n",
        "      if queue[0][1] == m:\n",
        "        print(count)\n",
        "        break\n",
        "      else:\n",
        "        queue.pop(0)\n",
        "    else:\n",
        "      queue.append(queue.pop(0))"
      ],
      "execution_count": null,
      "outputs": [
        {
          "output_type": "stream",
          "text": [
            "3\n",
            "1 0\n",
            "5\n",
            "1\n",
            "4 2\n",
            "1 2 3 4\n",
            "2\n",
            "6 0\n",
            "1 1 9 1 1 1\n",
            "5\n"
          ],
          "name": "stdout"
        }
      ]
    },
    {
      "cell_type": "markdown",
      "metadata": {
        "id": "sNomzjo_UJu-"
      },
      "source": [
        "# 프린터큐 복기\n",
        " - 백준 : 1966"
      ]
    },
    {
      "cell_type": "code",
      "metadata": {
        "id": "BSLohfjsWZmo"
      },
      "source": [
        "from collections import deque"
      ],
      "execution_count": 9,
      "outputs": []
    },
    {
      "cell_type": "code",
      "metadata": {
        "colab": {
          "base_uri": "https://localhost:8080/"
        },
        "id": "nWMODdOcUHDU",
        "outputId": "76234e8f-0baf-4afc-fcaa-b3d3c6c31849"
      },
      "source": [
        "priority = list(map(int, input().split()))"
      ],
      "execution_count": 1,
      "outputs": [
        {
          "name": "stdout",
          "output_type": "stream",
          "text": [
            "1 1 9 1 1 1\n"
          ]
        }
      ]
    },
    {
      "cell_type": "code",
      "metadata": {
        "colab": {
          "base_uri": "https://localhost:8080/"
        },
        "id": "p6iqj0YPUqGE",
        "outputId": "39a74a29-7f67-4484-8c45-cac2e6f319f0"
      },
      "source": [
        "q = deque([])\n",
        "for i,n in enumerate(priority):\n",
        "  q.append((i,n))\n",
        "q"
      ],
      "execution_count": 19,
      "outputs": [
        {
          "output_type": "execute_result",
          "data": {
            "text/plain": [
              "deque([(0, 1), (1, 1), (2, 9), (3, 1), (4, 1), (5, 1)])"
            ]
          },
          "metadata": {},
          "execution_count": 19
        }
      ]
    },
    {
      "cell_type": "code",
      "metadata": {
        "colab": {
          "base_uri": "https://localhost:8080/"
        },
        "id": "dN-i_fatU2lW",
        "outputId": "c1830ac6-d9d7-4fa4-e39d-2ba5f51f7ca4"
      },
      "source": [
        "max_p = max(q,key = lambda x: x[-1])[-1]\n",
        "max_p"
      ],
      "execution_count": 8,
      "outputs": [
        {
          "output_type": "execute_result",
          "data": {
            "text/plain": [
              "9"
            ]
          },
          "metadata": {},
          "execution_count": 8
        }
      ]
    },
    {
      "cell_type": "code",
      "metadata": {
        "colab": {
          "base_uri": "https://localhost:8080/"
        },
        "id": "H9tjVHAQVYcP",
        "outputId": "8e30806b-b4ee-4560-8650-510493584621"
      },
      "source": [
        "count = 0\n",
        "idx = -1\n",
        "while idx != 0:\n",
        "  max_p = max(q,key = lambda x: x[-1])[-1]\n",
        "  i, p = q.popleft()\n",
        "  if p == max_p:\n",
        "    count += 1\n",
        "    idx = i\n",
        "  else:\n",
        "    q.append((i,p))\n",
        "\n",
        "print(count)\n",
        "\n"
      ],
      "execution_count": 20,
      "outputs": [
        {
          "output_type": "stream",
          "name": "stdout",
          "text": [
            "5\n"
          ]
        }
      ]
    },
    {
      "cell_type": "code",
      "metadata": {
        "colab": {
          "base_uri": "https://localhost:8080/"
        },
        "id": "KdPwnHZCZYp4",
        "outputId": "b1c83f9b-2ff7-4dd2-e6ba-c0967c8a4077"
      },
      "source": [
        "test_case = int(input())\n",
        "for _ in range(test_case):\n",
        "  n,m = map(int, input().split())\n",
        "  priority = list(map(int, input().split()))\n",
        "  q = deque([])\n",
        "  for i,n in enumerate(priority):\n",
        "    q.append((i,n))\n",
        "\n",
        "  count = 0\n",
        "  idx = -1\n",
        "  while idx != m:\n",
        "    max_p = max(q,key = lambda x: x[-1])[-1]\n",
        "    i, p = q.popleft()\n",
        "    if p == max_p:\n",
        "      count += 1\n",
        "      idx = i\n",
        "    else:\n",
        "      q.append((i,p))\n",
        "\n",
        "  print(count)"
      ],
      "execution_count": 22,
      "outputs": [
        {
          "output_type": "stream",
          "name": "stdout",
          "text": [
            "3\n",
            "1 0\n",
            "5\n",
            "1\n",
            "4 2\n",
            "1 2 3 4\n",
            "2\n",
            "6 0\n",
            "1 1 9 1 1 1\n",
            "5\n"
          ]
        }
      ]
    }
  ]
}