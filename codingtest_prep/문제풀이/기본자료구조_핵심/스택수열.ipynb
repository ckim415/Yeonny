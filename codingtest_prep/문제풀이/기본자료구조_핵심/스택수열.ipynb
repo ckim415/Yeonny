{
  "nbformat": 4,
  "nbformat_minor": 0,
  "metadata": {
    "colab": {
      "name": "스택수열.ipynb",
      "provenance": [],
      "authorship_tag": "ABX9TyNLKyUWuT/H5OYyb82WjuXL",
      "include_colab_link": true
    },
    "kernelspec": {
      "name": "python3",
      "display_name": "Python 3"
    },
    "language_info": {
      "name": "python"
    }
  },
  "cells": [
    {
      "cell_type": "markdown",
      "metadata": {
        "id": "view-in-github",
        "colab_type": "text"
      },
      "source": [
        "<a href=\"https://colab.research.google.com/github/ckim415/Yeonny/blob/master/codingtest_prep/%EB%AC%B8%EC%A0%9C%ED%92%80%EC%9D%B4/%EA%B8%B0%EB%B3%B8%EC%9E%90%EB%A3%8C%EA%B5%AC%EC%A1%B0_%ED%95%B5%EC%8B%AC/%EC%8A%A4%ED%83%9D%EC%88%98%EC%97%B4.ipynb\" target=\"_parent\"><img src=\"https://colab.research.google.com/assets/colab-badge.svg\" alt=\"Open In Colab\"/></a>"
      ]
    },
    {
      "cell_type": "markdown",
      "metadata": {
        "id": "vlFGpXCpFJoJ"
      },
      "source": [
        "# 스택 수열\n",
        " - 백준 : 1874"
      ]
    },
    {
      "cell_type": "code",
      "metadata": {
        "id": "kLrq43cMEyK5",
        "colab": {
          "base_uri": "https://localhost:8080/"
        },
        "outputId": "f193f80f-f536-4d19-c988-2d2f1bb7c4cc"
      },
      "source": [
        "n = int(input())"
      ],
      "execution_count": 1,
      "outputs": [
        {
          "name": "stdout",
          "output_type": "stream",
          "text": [
            "8\n"
          ]
        }
      ]
    },
    {
      "cell_type": "code",
      "metadata": {
        "colab": {
          "base_uri": "https://localhost:8080/"
        },
        "id": "DlBFehDTFVZ-",
        "outputId": "d884c349-747c-4efb-a333-b90fbd1c02d0"
      },
      "source": [
        "stack = []\n",
        "count = 1\n",
        "\n",
        "for _ in range(n):\n",
        "  n = int(input())\n",
        "\n",
        "  while count <= n:\n",
        "    stack.append(count)\n",
        "    print('+')\n",
        "    count += 1\n",
        "\n",
        "  if stack[-1] == n:\n",
        "    stack.pop()\n",
        "    print('-')\n",
        "\n",
        "  else:\n",
        "    print('No')\n",
        "    exit(0)"
      ],
      "execution_count": 2,
      "outputs": [
        {
          "output_type": "stream",
          "name": "stdout",
          "text": [
            "4\n",
            "+\n",
            "+\n",
            "+\n",
            "+\n",
            "-\n",
            "3\n",
            "-\n",
            "6\n",
            "+\n",
            "+\n",
            "-\n",
            "8\n",
            "+\n",
            "+\n",
            "-\n",
            "7\n",
            "-\n",
            "5\n",
            "-\n",
            "2\n",
            "-\n",
            "1\n",
            "-\n"
          ]
        }
      ]
    },
    {
      "cell_type": "code",
      "metadata": {
        "colab": {
          "base_uri": "https://localhost:8080/"
        },
        "id": "QdV31QE9GEIJ",
        "outputId": "aaf37796-3c2b-4ae0-eb7f-893cb9062bfb"
      },
      "source": [
        "N = int(input())\n",
        "stack = []\n",
        "count = 1\n",
        "result = []\n",
        "for _ in range(N):\n",
        "  n = int(input())\n",
        "\n",
        "  while count <= n:\n",
        "    stack.append(count)\n",
        "    result.append('+')\n",
        "    count += 1\n",
        "\n",
        "  if stack[-1] == n:\n",
        "    stack.pop()\n",
        "    result.append('-')\n",
        "\n",
        "  else:\n",
        "    print('No')\n",
        "    exit(0)\n",
        "\n",
        "print('\\n'.join(result))"
      ],
      "execution_count": 3,
      "outputs": [
        {
          "output_type": "stream",
          "name": "stdout",
          "text": [
            "8\n",
            "4\n",
            "3\n",
            "6\n",
            "8\n",
            "7\n",
            "5\n",
            "2\n",
            "1\n",
            "+\n",
            "+\n",
            "+\n",
            "+\n",
            "-\n",
            "-\n",
            "+\n",
            "+\n",
            "-\n",
            "+\n",
            "+\n",
            "-\n",
            "-\n",
            "-\n",
            "-\n",
            "-\n"
          ]
        }
      ]
    },
    {
      "cell_type": "code",
      "metadata": {
        "colab": {
          "base_uri": "https://localhost:8080/"
        },
        "id": "JrPgjogHH_1U",
        "outputId": "15346997-083a-4264-98c7-535d9098c156"
      },
      "source": [
        "N = int(input())\n",
        "stack = []\n",
        "count = 1\n",
        "result = []\n",
        "for _ in range(N):\n",
        "  n = int(input())\n",
        "\n",
        "  while count <= n:\n",
        "    stack.append(count)\n",
        "    result.append('+')\n",
        "    count += 1\n",
        "\n",
        "  if stack[-1] == n:\n",
        "    stack.pop()\n",
        "    result.append('-')\n",
        "\n",
        "  else:\n",
        "    print('No')\n",
        "    exit(0)\n",
        "\n",
        "print('\\n'.join(result))"
      ],
      "execution_count": 4,
      "outputs": [
        {
          "output_type": "stream",
          "name": "stdout",
          "text": [
            "5\n",
            "1\n",
            "2\n",
            "5\n",
            "3\n",
            "No\n",
            "4\n",
            "+\n",
            "-\n",
            "+\n",
            "-\n",
            "+\n",
            "+\n",
            "+\n",
            "-\n",
            "-\n"
          ]
        }
      ]
    }
  ]
}