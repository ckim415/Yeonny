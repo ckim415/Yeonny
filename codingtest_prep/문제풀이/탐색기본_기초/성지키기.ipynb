{
  "nbformat": 4,
  "nbformat_minor": 0,
  "metadata": {
    "colab": {
      "name": "성지키기.ipynb",
      "provenance": [],
      "authorship_tag": "ABX9TyPYFNa5eJX3aVbV7FBh4UWQ",
      "include_colab_link": true
    },
    "kernelspec": {
      "name": "python3",
      "display_name": "Python 3"
    },
    "language_info": {
      "name": "python"
    }
  },
  "cells": [
    {
      "cell_type": "markdown",
      "metadata": {
        "id": "view-in-github",
        "colab_type": "text"
      },
      "source": [
        "<a href=\"https://colab.research.google.com/github/ckim415/Yeonny/blob/master/codingtest_prep/%EB%AC%B8%EC%A0%9C%ED%92%80%EC%9D%B4/%EA%B8%B0%EB%B3%B8%ED%83%90%EC%83%89/%EC%84%B1%EC%A7%80%ED%82%A4%EA%B8%B0.ipynb\" target=\"_parent\"><img src=\"https://colab.research.google.com/assets/colab-badge.svg\" alt=\"Open In Colab\"/></a>"
      ]
    },
    {
      "cell_type": "markdown",
      "metadata": {
        "id": "2CM_7ONbG_2f"
      },
      "source": [
        "# 성지키기\n",
        " - 백준 : 1236"
      ]
    },
    {
      "cell_type": "markdown",
      "metadata": {
        "id": "oImWksMvHHhe"
      },
      "source": [
        "# 내문제풀이"
      ]
    },
    {
      "cell_type": "code",
      "metadata": {
        "colab": {
          "base_uri": "https://localhost:8080/"
        },
        "id": "EgrVF-qaG-Rr",
        "outputId": "6ac592b2-f1df-4b1c-adcf-f80e6930c648"
      },
      "source": [
        "n, m = map(int, input().split(' '))\n",
        "array = []\n",
        "for _ in range(n):\n",
        "  array.append(input().split())\n",
        "\n",
        "row = [0] * n\n",
        "colum = [0] * m\n",
        "for i in range(n):\n",
        "  for j in range(m):\n",
        "    if array[i][j] == 'X':\n",
        "      row[i] = 1\n",
        "      column[j] = 1\n",
        "\n",
        "row_count = row.count(0)\n",
        "colum_count = colum.count(0)\n",
        "\n",
        "print(max(row_count, colum_count))"
      ],
      "execution_count": 5,
      "outputs": [
        {
          "output_type": "stream",
          "name": "stdout",
          "text": [
            "4 4\n",
            ". . . .\n",
            ". . . .\n",
            ". . . .\n",
            ". . . .\n",
            "4\n"
          ]
        }
      ]
    },
    {
      "cell_type": "code",
      "metadata": {
        "colab": {
          "base_uri": "https://localhost:8080/"
        },
        "id": "BWBXg3dA7Mqb",
        "outputId": "5a28b236-e085-40e8-c2a0-1ecc9c9a905e"
      },
      "source": [
        "array"
      ],
      "execution_count": 6,
      "outputs": [
        {
          "output_type": "execute_result",
          "data": {
            "text/plain": [
              "[['.', '.', '.', '.'],\n",
              " ['.', '.', '.', '.'],\n",
              " ['.', '.', '.', '.'],\n",
              " ['.', '.', '.', '.']]"
            ]
          },
          "metadata": {},
          "execution_count": 6
        }
      ]
    },
    {
      "cell_type": "code",
      "metadata": {
        "colab": {
          "base_uri": "https://localhost:8080/"
        },
        "id": "vSEpIBjQ7RAv",
        "outputId": "18c12c70-78d9-4de0-8708-15daf809c3c6"
      },
      "source": [
        "for i in range(n):\n",
        "  for j in range(m):\n",
        "    print(i,j,array[i][j])"
      ],
      "execution_count": 7,
      "outputs": [
        {
          "output_type": "stream",
          "name": "stdout",
          "text": [
            "0 0 .\n",
            "0 1 .\n",
            "0 2 .\n",
            "0 3 .\n",
            "1 0 .\n",
            "1 1 .\n",
            "1 2 .\n",
            "1 3 .\n",
            "2 0 .\n",
            "2 1 .\n",
            "2 2 .\n",
            "2 3 .\n",
            "3 0 .\n",
            "3 1 .\n",
            "3 2 .\n",
            "3 3 .\n"
          ]
        }
      ]
    }
  ]
}
