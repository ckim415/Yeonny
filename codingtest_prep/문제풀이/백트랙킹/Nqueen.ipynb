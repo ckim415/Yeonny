{
  "nbformat": 4,
  "nbformat_minor": 0,
  "metadata": {
    "colab": {
      "name": "Nqueen.ipynb",
      "provenance": [],
      "authorship_tag": "ABX9TyMpBo4LHrm+k383M2sXe7Vk",
      "include_colab_link": true
    },
    "kernelspec": {
      "name": "python3",
      "display_name": "Python 3"
    },
    "language_info": {
      "name": "python"
    }
  },
  "cells": [
    {
      "cell_type": "markdown",
      "metadata": {
        "id": "view-in-github",
        "colab_type": "text"
      },
      "source": [
        "<a href=\"https://colab.research.google.com/github/ckim415/Yeonny/blob/master/codingtest_prep/%EB%AC%B8%EC%A0%9C%ED%92%80%EC%9D%B4/%EB%B0%B1%ED%8A%B8%EB%9E%99%ED%82%B9/Nqueen.ipynb\" target=\"_parent\"><img src=\"https://colab.research.google.com/assets/colab-badge.svg\" alt=\"Open In Colab\"/></a>"
      ]
    },
    {
      "cell_type": "markdown",
      "metadata": {
        "id": "84Y2XpaJ00iK"
      },
      "source": [
        "# Nqueen\n",
        " - 백준 : 9663"
      ]
    },
    {
      "cell_type": "code",
      "metadata": {
        "id": "gAfhkegs0wWA"
      },
      "source": [
        "def dfs(n, current_row, current_candidate, final_result):\n",
        "  if current_row == n:\n",
        "    final_result.append(current_candidate[:])\n",
        "    return\n",
        "  \n",
        "  for current_col in range(n):\n",
        "    if is_available(current_candidate, current_col):\n",
        "      current_candidate.append(current_col)\n",
        "      dfs(n, current_row+1, current_candidate, final_result)\n",
        "\n",
        "      current_candidate.pop()\n"
      ],
      "execution_count": 5,
      "outputs": []
    },
    {
      "cell_type": "code",
      "metadata": {
        "id": "zXy9GCb11tNI"
      },
      "source": [
        "def is_available(candidate, current_col):\n",
        "  current_row = len(candidate)\n",
        "  for queen_row in range(current_row):\n",
        "    if candidate[queen_row] == current_col or abs(candidate[queen_row]-current_col) == current_row - queen_row:\n",
        "      return False\n",
        "  \n",
        "  return True"
      ],
      "execution_count": 2,
      "outputs": []
    },
    {
      "cell_type": "code",
      "metadata": {
        "id": "pc3em_uJ2Mkd"
      },
      "source": [
        "def n_queen(n):\n",
        "  final_result = []\n",
        "  dfs(n, 0, [], final_result)\n",
        "  return final_result"
      ],
      "execution_count": 6,
      "outputs": []
    },
    {
      "cell_type": "code",
      "metadata": {
        "colab": {
          "base_uri": "https://localhost:8080/"
        },
        "id": "w8KIdomk2YJV",
        "outputId": "57140224-1de8-4899-92c0-399066659818"
      },
      "source": [
        "len(n_queen(4))"
      ],
      "execution_count": 8,
      "outputs": [
        {
          "output_type": "execute_result",
          "data": {
            "text/plain": [
              "2"
            ]
          },
          "metadata": {},
          "execution_count": 8
        }
      ]
    },
    {
      "cell_type": "code",
      "metadata": {
        "colab": {
          "base_uri": "https://localhost:8080/"
        },
        "id": "AabFjMcq2j-J",
        "outputId": "e7def63c-c8a4-4cb1-8463-e809808bc072"
      },
      "source": [
        "len(n_queen(8))"
      ],
      "execution_count": 9,
      "outputs": [
        {
          "output_type": "execute_result",
          "data": {
            "text/plain": [
              "92"
            ]
          },
          "metadata": {},
          "execution_count": 9
        }
      ]
    },
    {
      "cell_type": "markdown",
      "metadata": {
        "id": "EU7DGH194QZ8"
      },
      "source": [
        "# 강의 문제 풀이"
      ]
    },
    {
      "cell_type": "code",
      "metadata": {
        "id": "OHNKJDuo4R5s"
      },
      "source": [
        "def check(x):\n",
        "  for i in range(x):\n",
        "    if row[x] == row[i]:\n",
        "      return False\n",
        "\n",
        "    if abs(row[x]-row[i]) == x-i:\n",
        "      return False\n",
        "  \n",
        "  return True"
      ],
      "execution_count": 10,
      "outputs": []
    },
    {
      "cell_type": "code",
      "metadata": {
        "id": "Q23vBO4x4f7b"
      },
      "source": [
        "def dfs(x):\n",
        "  global result\n",
        "  if x == n:\n",
        "    result += 1\n",
        "\n",
        "  else:\n",
        "    for i in range(n):\n",
        "      row[x] = i\n",
        "      if check(x):\n",
        "        dfs(x+1)\n"
      ],
      "execution_count": 11,
      "outputs": []
    },
    {
      "cell_type": "code",
      "metadata": {
        "colab": {
          "base_uri": "https://localhost:8080/"
        },
        "id": "p9Rhp-0c4wWc",
        "outputId": "f9370c60-32a1-47f0-b5ad-c634161578e8"
      },
      "source": [
        "n = int(input())\n",
        "row = [0]*n\n",
        "result =0\n",
        "dfs(0)\n",
        "print(result)"
      ],
      "execution_count": 12,
      "outputs": [
        {
          "output_type": "stream",
          "text": [
            "8\n",
            "92\n"
          ],
          "name": "stdout"
        }
      ]
    }
  ]
}