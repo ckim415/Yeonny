{
  "nbformat": 4,
  "nbformat_minor": 0,
  "metadata": {
    "colab": {
      "name": "알파벳.ipynb",
      "provenance": [],
      "authorship_tag": "ABX9TyOXvoGhpA6XuBFfHtGeFkRz",
      "include_colab_link": true
    },
    "kernelspec": {
      "name": "python3",
      "display_name": "Python 3"
    },
    "language_info": {
      "name": "python"
    }
  },
  "cells": [
    {
      "cell_type": "markdown",
      "metadata": {
        "id": "view-in-github",
        "colab_type": "text"
      },
      "source": [
        "<a href=\"https://colab.research.google.com/github/ckim415/Yeonny/blob/master/codingtest_prep/%EB%AC%B8%EC%A0%9C%ED%92%80%EC%9D%B4/%EB%B0%B1%ED%8A%B8%EB%9E%99%ED%82%B9/%EC%95%8C%ED%8C%8C%EB%B2%B3.ipynb\" target=\"_parent\"><img src=\"https://colab.research.google.com/assets/colab-badge.svg\" alt=\"Open In Colab\"/></a>"
      ]
    },
    {
      "cell_type": "markdown",
      "metadata": {
        "id": "d4Pu6IxN1BBC"
      },
      "source": [
        "# 알파벳\n",
        " - 백준 : 1987\n",
        " "
      ]
    },
    {
      "cell_type": "markdown",
      "metadata": {
        "id": "tsJDKA6I1HIP"
      },
      "source": [
        "# 내 문제 풀이\n",
        " - dfs를 이용해서 풀려고 햇으나 암됨"
      ]
    },
    {
      "cell_type": "markdown",
      "metadata": {
        "id": "CA7p1Y8h1NtN"
      },
      "source": [
        "# 강의 문제풀이\n",
        " - bfs를 이용해 다음으로 갈 수 있는 조건에 부합하면, step에 추가"
      ]
    },
    {
      "cell_type": "code",
      "metadata": {
        "id": "bSix-ZCp09Cl"
      },
      "source": [
        "dx = [-1,1,0,0]\n",
        "dy = [0,0,-1,1]\n",
        "\n",
        "def bfs(x,y):\n",
        "  global result \n",
        "\n",
        "  q = set()\n",
        "  q.add((x,y,array[x][y]))\n",
        "\n",
        "  while q:\n",
        "    x,y,step = q.pop()\n",
        "\n",
        "    result = max(result, len(step))\n",
        "\n",
        "    for i in range(4):\n",
        "      nx = x + dx[i]\n",
        "      ny = y + dy[i]\n",
        "\n",
        "      if 0 <= nx and nx < r and 0 <= ny and ny < c and array[nx][ny] not in step:\n",
        "        q.add((nx, ny, step + array[nx][ny]))"
      ],
      "execution_count": 9,
      "outputs": []
    },
    {
      "cell_type": "code",
      "metadata": {
        "colab": {
          "base_uri": "https://localhost:8080/"
        },
        "id": "3KheA4902xsy",
        "outputId": "88b1a130-382f-4cad-e042-9a219e1a4646"
      },
      "source": [
        "r,c = map(int, input().split())\n",
        "array = []\n",
        "for i in range(r):\n",
        "  array.append(input())\n",
        "\n",
        "result = 0\n",
        "bfs(0,0)\n",
        "print(result)"
      ],
      "execution_count": 10,
      "outputs": [
        {
          "output_type": "stream",
          "text": [
            "2 4\n",
            "caab\n",
            "adcb\n",
            "3\n"
          ],
          "name": "stdout"
        }
      ]
    }
  ]
}