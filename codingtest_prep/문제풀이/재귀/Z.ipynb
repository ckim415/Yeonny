{
  "nbformat": 4,
  "nbformat_minor": 0,
  "metadata": {
    "colab": {
      "name": "Z.ipynb",
      "provenance": [],
      "authorship_tag": "ABX9TyMmsOp3pDwtHy5S0fOowYzF",
      "include_colab_link": true
    },
    "kernelspec": {
      "name": "python3",
      "display_name": "Python 3"
    },
    "language_info": {
      "name": "python"
    }
  },
  "cells": [
    {
      "cell_type": "markdown",
      "metadata": {
        "id": "view-in-github",
        "colab_type": "text"
      },
      "source": [
        "<a href=\"https://colab.research.google.com/github/ckim415/Yeonny/blob/master/codingtest_prep/%EB%AC%B8%EC%A0%9C%ED%92%80%EC%9D%B4/%EC%9E%AC%EA%B7%80/Z.ipynb\" target=\"_parent\"><img src=\"https://colab.research.google.com/assets/colab-badge.svg\" alt=\"Open In Colab\"/></a>"
      ]
    },
    {
      "cell_type": "markdown",
      "metadata": {
        "id": "GCl148x3Z38y"
      },
      "source": [
        "# Z\n",
        " - 백준 : 1074\n",
        " - 재귀"
      ]
    },
    {
      "cell_type": "code",
      "metadata": {
        "id": "fYwdyFzuZ1gW"
      },
      "source": [
        "def solve(n, x, y):\n",
        "  global result\n",
        "  if n == 2:\n",
        "    if x == X and y == Y:\n",
        "      print(result)\n",
        "      return \n",
        "    result += 1\n",
        "\n",
        "    if x == X and y+1 == Y:\n",
        "      print(result)\n",
        "      return \n",
        "    result += 1\n",
        "\n",
        "    if x+1 == X and y == Y:\n",
        "      print(result)\n",
        "      return \n",
        "    result += 1\n",
        "\n",
        "    if x+1 == X and y+1 == Y:\n",
        "      print(result)\n",
        "      return \n",
        "    result += 1\n",
        "    return\n",
        "\n",
        "  solve(n/2, x, y)\n",
        "  solve(n/2, x, y+n/2)\n",
        "  solve(n/2, x+n/2, y)\n",
        "  solve(n/2, x+n/2, y+n/2)\n",
        "\n",
        "\n",
        "  "
      ],
      "execution_count": 1,
      "outputs": []
    },
    {
      "cell_type": "code",
      "metadata": {
        "colab": {
          "base_uri": "https://localhost:8080/"
        },
        "id": "aFY18xEyaux5",
        "outputId": "612b5b42-fbe6-4118-e950-0f2e8c0c69a5"
      },
      "source": [
        "result = 0\n",
        "n, X, Y = 2,3,1\n",
        "solve(2*n, 0, 0)"
      ],
      "execution_count": 3,
      "outputs": [
        {
          "output_type": "stream",
          "text": [
            "11\n"
          ],
          "name": "stdout"
        }
      ]
    }
  ]
}