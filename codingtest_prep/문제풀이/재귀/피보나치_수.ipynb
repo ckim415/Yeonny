{
  "nbformat": 4,
  "nbformat_minor": 0,
  "metadata": {
    "colab": {
      "name": "피보나치 수.ipynb",
      "provenance": [],
      "toc_visible": true,
      "authorship_tag": "ABX9TyMVBEQzWCbYXOIef3gN49Fn",
      "include_colab_link": true
    },
    "kernelspec": {
      "name": "python3",
      "display_name": "Python 3"
    },
    "language_info": {
      "name": "python"
    }
  },
  "cells": [
    {
      "cell_type": "markdown",
      "metadata": {
        "id": "view-in-github",
        "colab_type": "text"
      },
      "source": [
        "<a href=\"https://colab.research.google.com/github/ckim415/Yeonny/blob/master/codingtest_prep/%EB%AC%B8%EC%A0%9C%ED%92%80%EC%9D%B4/%EC%9E%AC%EA%B7%80/%ED%94%BC%EB%B3%B4%EB%82%98%EC%B9%98_%EC%88%98.ipynb\" target=\"_parent\"><img src=\"https://colab.research.google.com/assets/colab-badge.svg\" alt=\"Open In Colab\"/></a>"
      ]
    },
    {
      "cell_type": "markdown",
      "metadata": {
        "id": "cBJw-AF0GpN2"
      },
      "source": [
        "# 피보나치 수\n",
        " - n <= 45\n",
        " - 백준 : 2747"
      ]
    },
    {
      "cell_type": "markdown",
      "metadata": {
        "id": "cu41Ff63JdvV"
      },
      "source": [
        "# 내 문제 풀이"
      ]
    },
    {
      "cell_type": "code",
      "metadata": {
        "colab": {
          "base_uri": "https://localhost:8080/"
        },
        "id": "MZlC14moEmjy",
        "outputId": "a6e5f2fc-f56f-4221-c7e0-0c7279178f7e"
      },
      "source": [
        "n = int(input())\n",
        "fibo = [0] * (n +1)\n",
        "fibo[1] = 1\n",
        "for i in range(2, n+1):\n",
        "  fibo[i] = fibo[i-2] + fibo[i-1]\n",
        "print(fibo[-1])"
      ],
      "execution_count": null,
      "outputs": [
        {
          "output_type": "stream",
          "text": [
            "10\n",
            "55\n"
          ],
          "name": "stdout"
        }
      ]
    },
    {
      "cell_type": "code",
      "metadata": {
        "id": "ySTCAntTIGyp"
      },
      "source": [
        "def fibo_n(n):\n",
        "  fibo = [0] * (n +1)\n",
        "  fibo[1] = 1\n",
        "  for i in range(2, n+1):\n",
        "    fibo[i] = fibo[i-2] + fibo[i-1]\n",
        "  return fibo[-1]\n"
      ],
      "execution_count": null,
      "outputs": []
    },
    {
      "cell_type": "code",
      "metadata": {
        "id": "Zg8cM7dXISMN"
      },
      "source": [
        "import datetime"
      ],
      "execution_count": null,
      "outputs": []
    },
    {
      "cell_type": "code",
      "metadata": {
        "colab": {
          "base_uri": "https://localhost:8080/"
        },
        "id": "s-f28SzYIQzV",
        "outputId": "73434c07-b2e4-43d7-cc8e-7ee1133a62b0"
      },
      "source": [
        "start = datetime.datetime.now()\n",
        "print(fibo_n(20))\n",
        "end = datetime.datetime.now()\n",
        "print('duration', end-start)"
      ],
      "execution_count": null,
      "outputs": [
        {
          "output_type": "stream",
          "text": [
            "6765\n",
            "duration 0:00:00.001637\n"
          ],
          "name": "stdout"
        }
      ]
    },
    {
      "cell_type": "code",
      "metadata": {
        "id": "mQ2b2khlHWSI"
      },
      "source": [
        "#재귀함수로\n",
        "def fibo(n):\n",
        "  if n <= 1:\n",
        "    return n\n",
        "  return fibo(n-1) + fibo(n-2)"
      ],
      "execution_count": null,
      "outputs": []
    },
    {
      "cell_type": "code",
      "metadata": {
        "colab": {
          "base_uri": "https://localhost:8080/"
        },
        "id": "v1EnDD8PHhkJ",
        "outputId": "19ce3c16-8f86-491c-82d0-43fd52898210"
      },
      "source": [
        "start = datetime.datetime.now()\n",
        "print(fibo(20))\n",
        "end = datetime.datetime.now()\n",
        "print('duration', end-start)"
      ],
      "execution_count": null,
      "outputs": [
        {
          "output_type": "stream",
          "text": [
            "6765\n",
            "duration 0:00:00.007330\n"
          ],
          "name": "stdout"
        }
      ]
    },
    {
      "cell_type": "markdown",
      "metadata": {
        "id": "aRJH5kypI3Dl"
      },
      "source": [
        "# 강의 문제풀이\n",
        " - 재귀함수의 한계: n 이 커질 때 마다 연산이 늘어남\n",
        " - 이 문제의 시간 복잡도 : O(2^n)"
      ]
    },
    {
      "cell_type": "code",
      "metadata": {
        "colab": {
          "base_uri": "https://localhost:8080/"
        },
        "id": "qKgklh9xI460",
        "outputId": "2ed7eafa-4164-4683-845a-84d90ca802fc"
      },
      "source": [
        "n = int(input())\n",
        "a, b = 0,1\n",
        "while n> 0:\n",
        "  a,b = b, a+b\n",
        "  n -= 1\n",
        "\n",
        "print(a)"
      ],
      "execution_count": null,
      "outputs": [
        {
          "output_type": "stream",
          "text": [
            "10\n",
            "55\n"
          ],
          "name": "stdout"
        }
      ]
    },
    {
      "cell_type": "code",
      "metadata": {
        "id": "QMGmKg-bJGWr"
      },
      "source": [
        "def fibo_a(n):\n",
        "  a, b = 0,1\n",
        "  while n> 0:\n",
        "    a,b = b, a+b\n",
        "    n -= 1\n",
        "\n",
        "  return a  \n"
      ],
      "execution_count": null,
      "outputs": []
    },
    {
      "cell_type": "code",
      "metadata": {
        "colab": {
          "base_uri": "https://localhost:8080/"
        },
        "id": "8v7x0m1sJPHd",
        "outputId": "afd83b1a-c8c8-4cfd-aa68-6c4b06e07020"
      },
      "source": [
        "start = datetime.datetime.now()\n",
        "print(fibo_a(20))\n",
        "end = datetime.datetime.now()\n",
        "print('duration', end-start)"
      ],
      "execution_count": null,
      "outputs": [
        {
          "output_type": "stream",
          "text": [
            "6765\n",
            "duration 0:00:00.000896\n"
          ],
          "name": "stdout"
        }
      ]
    }
  ]
}