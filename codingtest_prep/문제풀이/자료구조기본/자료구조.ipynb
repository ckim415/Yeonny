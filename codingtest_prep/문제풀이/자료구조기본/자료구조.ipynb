{
  "nbformat": 4,
  "nbformat_minor": 0,
  "metadata": {
    "colab": {
      "name": "자료구조.ipynb",
      "provenance": [],
      "authorship_tag": "ABX9TyN5GfZXG62oAMbvIim3wPuz",
      "include_colab_link": true
    },
    "kernelspec": {
      "name": "python3",
      "display_name": "Python 3"
    },
    "language_info": {
      "name": "python"
    }
  },
  "cells": [
    {
      "cell_type": "markdown",
      "metadata": {
        "id": "view-in-github",
        "colab_type": "text"
      },
      "source": [
        "<a href=\"https://colab.research.google.com/github/ckim415/Yeonny/blob/master/codingtest_prep/%EB%AC%B8%EC%A0%9C%ED%92%80%EC%9D%B4/%EC%9E%90%EB%A3%8C%EA%B5%AC%EC%A1%B0%EA%B8%B0%EB%B3%B8/%EC%9E%90%EB%A3%8C%EA%B5%AC%EC%A1%B0.ipynb\" target=\"_parent\"><img src=\"https://colab.research.google.com/assets/colab-badge.svg\" alt=\"Open In Colab\"/></a>"
      ]
    },
    {
      "cell_type": "code",
      "metadata": {
        "colab": {
          "base_uri": "https://localhost:8080/"
        },
        "id": "4VSWDDqgjl2h",
        "outputId": "836ea6b4-810b-4ba8-b6d6-2a730046c236"
      },
      "source": [
        "notes = list(map(int, input().split(' ')))\n",
        "\n",
        "asending = True\n",
        "desending = True\n",
        "\n",
        "for idx in range(1, len(notes)):\n",
        "  if notes[idx] > notes[idx-1]:\n",
        "    desending = False\n",
        "  elif notes[idx] < notes[idx-1]:\n",
        "    asending = False\n",
        "\n",
        "if asending:\n",
        "  print('asending')\n",
        "elif desending:\n",
        "  print('desending')\n",
        "else:\n",
        "  print('mixed')\n"
      ],
      "execution_count": null,
      "outputs": [
        {
          "output_type": "stream",
          "text": [
            "1 2 3 4 5 6 7 8\n",
            "asending\n"
          ],
          "name": "stdout"
        }
      ]
    },
    {
      "cell_type": "code",
      "metadata": {
        "colab": {
          "base_uri": "https://localhost:8080/"
        },
        "id": "u-6xafoMm_w3",
        "outputId": "e8679240-f425-463c-eb3b-1746accf0d22"
      },
      "source": [
        "notes = list(map(int, input().split(' ')))\n",
        "\n",
        "asending = True\n",
        "desending = True\n",
        "\n",
        "for idx in range(1, len(notes)):\n",
        "  if notes[idx] > notes[idx-1]:\n",
        "    desending = False\n",
        "  elif notes[idx] < notes[idx-1]:\n",
        "    asending = False\n",
        "\n",
        "if asending:\n",
        "  print('asending')\n",
        "elif desending:\n",
        "  print('desending')\n",
        "else:\n",
        "  print('mixed')\n"
      ],
      "execution_count": null,
      "outputs": [
        {
          "output_type": "stream",
          "text": [
            "8 1 7 2 6 3 5 4\n",
            "mixed\n"
          ],
          "name": "stdout"
        }
      ]
    },
    {
      "cell_type": "code",
      "metadata": {
        "id": "_BptH1e8oeZI"
      },
      "source": [
        "n = 5 \n",
        "sum = 21\n",
        "nums = [5, 6, 7, 8, 9]"
      ],
      "execution_count": null,
      "outputs": []
    },
    {
      "cell_type": "code",
      "metadata": {
        "colab": {
          "base_uri": "https://localhost:8080/"
        },
        "id": "AImC4IbEG-5w",
        "outputId": "6c029ae2-9e27-4e18-b02b-eb8db79e97f4"
      },
      "source": [
        "len = len(nums)\n",
        "answer = 0\n",
        "for i in range(len):\n",
        "  for j in range(i+1, len):\n",
        "    for k in range(j+1, len):\n",
        "      total_sum = nums[i] + nums[j] + nums[k]\n",
        "      if total_sum <= sum:\n",
        "        answer = max(total_sum, answer)\n",
        "\n",
        "print(answer)"
      ],
      "execution_count": null,
      "outputs": [
        {
          "output_type": "stream",
          "text": [
            "21\n"
          ],
          "name": "stdout"
        }
      ]
    },
    {
      "cell_type": "markdown",
      "metadata": {
        "id": "zJ2tHrNm0414"
      },
      "source": [
        "# 음계 (복기)\n",
        " - 백준 : 2920"
      ]
    },
    {
      "cell_type": "code",
      "metadata": {
        "colab": {
          "base_uri": "https://localhost:8080/"
        },
        "id": "gzP0r7lk0-7q",
        "outputId": "06161c7d-7fcc-4630-9c35-ac0c8e80f8eb"
      },
      "source": [
        "test_case = int(input())\n",
        "for i in range(test_case):\n",
        "  notes = list(map(int, input().split()))\n",
        "\n",
        "  ascending = False\n",
        "  descending = False\n",
        "\n",
        "  for i in range(len(notes)-1):\n",
        "    if notes[i] +1 == notes[i+1]:\n",
        "      ascending = True\n",
        "    \n",
        "    elif notes[i] -1 == notes[i+1]:\n",
        "      descending = True\n",
        "\n",
        "    else:\n",
        "      print('mixed')\n",
        "      break\n",
        "   \n",
        "  if ascending:\n",
        "\n",
        "    print('ascending')\n",
        "\n",
        "  else:\n",
        "    print('descending')\n",
        "    \n"
      ],
      "execution_count": 4,
      "outputs": [
        {
          "output_type": "stream",
          "name": "stdout",
          "text": [
            "3\n",
            "1 2 3 4 5 6 7 8\n",
            "ascending\n",
            "8 7 6 5 4 3 2 1\n",
            "descending\n",
            "8 1 7 2 6 3 5 4\n",
            "mixed\n",
            "descending\n"
          ]
        }
      ]
    },
    {
      "cell_type": "code",
      "metadata": {
        "colab": {
          "base_uri": "https://localhost:8080/"
        },
        "id": "wIdenpC24Tqy",
        "outputId": "cc29a233-acc1-4316-82b2-675b5d457cbf"
      },
      "source": [
        "\n",
        "notes = list(map(int, input().split()))\n",
        "\n",
        "ascending = False\n",
        "descending = False\n",
        "\n",
        "for i in range(len(notes)-1):\n",
        "  if notes[i] +1 == notes[i+1]:\n",
        "    ascending = True\n",
        "  \n",
        "  elif notes[i] -1 == notes[i+1]:\n",
        "    descending = True\n",
        "\n",
        "if ascending:\n",
        "  print('ascending')\n",
        "\n",
        "elif descending:\n",
        "  print('descending')\n",
        "\n",
        "else:\n",
        "  print('mixed')"
      ],
      "execution_count": 8,
      "outputs": [
        {
          "output_type": "stream",
          "name": "stdout",
          "text": [
            "1 2 3 4 5 6 7 8\n",
            "ascending\n"
          ]
        }
      ]
    },
    {
      "cell_type": "code",
      "metadata": {
        "colab": {
          "base_uri": "https://localhost:8080/"
        },
        "id": "YK1gUOUN3qhK",
        "outputId": "8a56bf5a-b10b-4d61-bd0c-2b4e4975f6f9"
      },
      "source": [
        "\n",
        "notes = list(map(int, input().split()))\n",
        "\n",
        "ascending = False\n",
        "descending = False\n",
        "\n",
        "for i in range(len(notes)-1):\n",
        "  if notes[i] +1 == notes[i+1]:\n",
        "    ascending = True\n",
        "  \n",
        "  elif notes[i] -1 == notes[i+1]:\n",
        "    descending = True\n",
        "    \n",
        "  else:\n",
        "    break\n",
        "\n",
        "if ascending:\n",
        "  print('ascending')\n",
        "\n",
        "elif descending:\n",
        "  print('descending')\n",
        "\n",
        "else:\n",
        "  print('mixed')"
      ],
      "execution_count": 11,
      "outputs": [
        {
          "output_type": "stream",
          "name": "stdout",
          "text": [
            "8 7 5 4 2 1 3 6\n",
            "descending\n"
          ]
        }
      ]
    },
    {
      "cell_type": "markdown",
      "metadata": {
        "id": "HvHganOk_-kb"
      },
      "source": [
        "# 블랙잭 (복기)\n",
        " - 백준 : 2798"
      ]
    },
    {
      "cell_type": "code",
      "metadata": {
        "colab": {
          "base_uri": "https://localhost:8080/"
        },
        "id": "rLj3mG1jAFEb",
        "outputId": "5286cd96-c3b8-44e6-fa5e-2bc1f9f51c69"
      },
      "source": [
        "n, m = map(int, input().split())\n",
        "cards = list(map(int, input().split()))"
      ],
      "execution_count": 12,
      "outputs": [
        {
          "name": "stdout",
          "output_type": "stream",
          "text": [
            "5 21\n",
            "5 6 7 8 9\n"
          ]
        }
      ]
    },
    {
      "cell_type": "code",
      "metadata": {
        "colab": {
          "base_uri": "https://localhost:8080/"
        },
        "id": "CqzrJvTcATzF",
        "outputId": "177741a8-20f8-4d97-ea56-a2e24daaca6a"
      },
      "source": [
        "len = len(cards)\n",
        "answer = 0\n",
        "for i in range(len-2):\n",
        "  for j in range(i, len-1):\n",
        "    for k in range(j, len):\n",
        "      sum_ = cards[i] + cards[j] + cards[k]\n",
        "\n",
        "      if sum_ <= m:\n",
        "        answer = max(sum_, answer)\n",
        "\n",
        "print(answer)\n"
      ],
      "execution_count": 13,
      "outputs": [
        {
          "output_type": "stream",
          "name": "stdout",
          "text": [
            "21\n"
          ]
        }
      ]
    },
    {
      "cell_type": "code",
      "metadata": {
        "colab": {
          "base_uri": "https://localhost:8080/"
        },
        "id": "p9eNkLeIAtUC",
        "outputId": "ca6458db-01fa-4b89-821c-ebc6f5dec5c5"
      },
      "source": [
        "n, m = map(int, input().split())\n",
        "cards = list(map(int, input().split()))\n",
        "length = len(cards)\n",
        "count = 0\n",
        "answer = 0\n",
        "card = []\n",
        "for i in range(length-2):\n",
        "  for j in range(i+1, length-1):\n",
        "    for k in range(j+1, length):\n",
        "      count += 1 \n",
        "      sum_ = cards[i] + cards[j] + cards[k]\n",
        "\n",
        "      if sum_ <= m:\n",
        "        answer = max(sum_, answer)\n",
        "        card.append((cards[i],cards[j],cards[k], answer))\n",
        "\n",
        "print(answer)\n",
        "print(card)\n",
        "print(count)"
      ],
      "execution_count": 15,
      "outputs": [
        {
          "output_type": "stream",
          "name": "stdout",
          "text": [
            "10 500\n",
            "93 181 245 214 315 36 185 138 216 295\n",
            "497\n",
            "[(93, 181, 214, 488), (93, 181, 36, 488), (93, 181, 185, 488), (93, 181, 138, 488), (93, 181, 216, 490), (93, 245, 36, 490), (93, 245, 138, 490), (93, 214, 36, 490), (93, 214, 185, 492), (93, 214, 138, 492), (93, 315, 36, 492), (93, 36, 185, 492), (93, 36, 138, 492), (93, 36, 216, 492), (93, 36, 295, 492), (93, 185, 138, 492), (93, 185, 216, 494), (93, 138, 216, 494), (181, 245, 36, 494), (181, 214, 36, 494), (181, 36, 185, 494), (181, 36, 138, 494), (181, 36, 216, 494), (245, 214, 36, 495), (245, 36, 185, 495), (245, 36, 138, 495), (245, 36, 216, 497), (214, 36, 185, 497), (214, 36, 138, 497), (214, 36, 216, 497), (315, 36, 138, 497), (36, 185, 138, 497), (36, 185, 216, 497), (36, 138, 216, 497), (36, 138, 295, 497)]\n",
            "120\n"
          ]
        }
      ]
    },
    {
      "cell_type": "code",
      "metadata": {
        "colab": {
          "base_uri": "https://localhost:8080/"
        },
        "id": "9Ld3B7KMCbPl",
        "outputId": "1538ea45-fff2-4266-f5e6-ad5fbc2ab265"
      },
      "source": [
        "card"
      ],
      "execution_count": 12,
      "outputs": [
        {
          "output_type": "execute_result",
          "data": {
            "text/plain": [
              "[(93, 181, 214, 488),\n",
              " (93, 181, 36, 488),\n",
              " (93, 181, 185, 488),\n",
              " (93, 181, 138, 488),\n",
              " (93, 181, 216, 490),\n",
              " (93, 245, 36, 490),\n",
              " (93, 245, 138, 490),\n",
              " (93, 214, 36, 490),\n",
              " (93, 214, 185, 492),\n",
              " (93, 214, 138, 492),\n",
              " (93, 315, 36, 492),\n",
              " (93, 36, 185, 492),\n",
              " (93, 36, 138, 492),\n",
              " (93, 36, 216, 492),\n",
              " (93, 36, 295, 492),\n",
              " (93, 185, 138, 492),\n",
              " (93, 185, 216, 494),\n",
              " (93, 138, 216, 494),\n",
              " (181, 245, 36, 494),\n",
              " (181, 214, 36, 494),\n",
              " (181, 36, 185, 494),\n",
              " (181, 36, 138, 494),\n",
              " (181, 36, 216, 494),\n",
              " (245, 214, 36, 495),\n",
              " (245, 36, 185, 495),\n",
              " (245, 36, 138, 495),\n",
              " (245, 36, 216, 497),\n",
              " (214, 36, 185, 497),\n",
              " (214, 36, 138, 497),\n",
              " (214, 36, 216, 497),\n",
              " (315, 36, 138, 497),\n",
              " (36, 185, 138, 497),\n",
              " (36, 185, 216, 497),\n",
              " (36, 138, 216, 497),\n",
              " (36, 138, 295, 497)]"
            ]
          },
          "metadata": {},
          "execution_count": 12
        }
      ]
    },
    {
      "cell_type": "code",
      "metadata": {
        "colab": {
          "base_uri": "https://localhost:8080/"
        },
        "id": "qB1kHvtkB4nC",
        "outputId": "eee2a985-e741-4de8-db75-1c7caf9b9ada"
      },
      "source": [
        "n, m = map(int, input().split())\n",
        "cards = list(map(int, input().split()))\n",
        "length = len(cards)\n",
        "answer = 0\n",
        "card = []\n",
        "count = 0\n",
        "for i in range(length):\n",
        "  for j in range(i+1, length):\n",
        "    for k in range(j+1, length):\n",
        "      count += 1\n",
        "      sum_ = cards[i] + cards[j] + cards[k]\n",
        "\n",
        "      if sum_ <= m:\n",
        "        answer = max(sum_, answer)\n",
        "        card.append((cards[i],cards[j],cards[k], answer))\n",
        "\n",
        "print(answer)\n",
        "print(card)\n",
        "print(count)"
      ],
      "execution_count": 16,
      "outputs": [
        {
          "output_type": "stream",
          "name": "stdout",
          "text": [
            "10 500\n",
            "93 181 245 214 315 36 185 138 216 295\n",
            "497\n",
            "[(93, 181, 214, 488), (93, 181, 36, 488), (93, 181, 185, 488), (93, 181, 138, 488), (93, 181, 216, 490), (93, 245, 36, 490), (93, 245, 138, 490), (93, 214, 36, 490), (93, 214, 185, 492), (93, 214, 138, 492), (93, 315, 36, 492), (93, 36, 185, 492), (93, 36, 138, 492), (93, 36, 216, 492), (93, 36, 295, 492), (93, 185, 138, 492), (93, 185, 216, 494), (93, 138, 216, 494), (181, 245, 36, 494), (181, 214, 36, 494), (181, 36, 185, 494), (181, 36, 138, 494), (181, 36, 216, 494), (245, 214, 36, 495), (245, 36, 185, 495), (245, 36, 138, 495), (245, 36, 216, 497), (214, 36, 185, 497), (214, 36, 138, 497), (214, 36, 216, 497), (315, 36, 138, 497), (36, 185, 138, 497), (36, 185, 216, 497), (36, 138, 216, 497), (36, 138, 295, 497)]\n",
            "120\n"
          ]
        }
      ]
    },
    {
      "cell_type": "code",
      "metadata": {
        "colab": {
          "base_uri": "https://localhost:8080/"
        },
        "id": "L90T6fCgC27U",
        "outputId": "cce05cfb-17f3-47d3-c94f-0b6c0ab6b9fa"
      },
      "source": [
        "card"
      ],
      "execution_count": 14,
      "outputs": [
        {
          "output_type": "execute_result",
          "data": {
            "text/plain": [
              "[(93, 181, 214, 488),\n",
              " (93, 181, 36, 488),\n",
              " (93, 181, 185, 488),\n",
              " (93, 181, 138, 488),\n",
              " (93, 181, 216, 490),\n",
              " (93, 245, 36, 490),\n",
              " (93, 245, 138, 490),\n",
              " (93, 214, 36, 490),\n",
              " (93, 214, 185, 492),\n",
              " (93, 214, 138, 492),\n",
              " (93, 315, 36, 492),\n",
              " (93, 36, 185, 492),\n",
              " (93, 36, 138, 492),\n",
              " (93, 36, 216, 492),\n",
              " (93, 36, 295, 492),\n",
              " (93, 185, 138, 492),\n",
              " (93, 185, 216, 494),\n",
              " (93, 138, 216, 494),\n",
              " (181, 245, 36, 494),\n",
              " (181, 214, 36, 494),\n",
              " (181, 36, 185, 494),\n",
              " (181, 36, 138, 494),\n",
              " (181, 36, 216, 494),\n",
              " (245, 214, 36, 495),\n",
              " (245, 36, 185, 495),\n",
              " (245, 36, 138, 495),\n",
              " (245, 36, 216, 497),\n",
              " (214, 36, 185, 497),\n",
              " (214, 36, 138, 497),\n",
              " (214, 36, 216, 497),\n",
              " (315, 36, 138, 497),\n",
              " (36, 185, 138, 497),\n",
              " (36, 185, 216, 497),\n",
              " (36, 138, 216, 497),\n",
              " (36, 138, 295, 497)]"
            ]
          },
          "metadata": {},
          "execution_count": 14
        }
      ]
    },
    {
      "cell_type": "code",
      "metadata": {
        "colab": {
          "base_uri": "https://localhost:8080/"
        },
        "id": "2sKZXObJE1Y9",
        "outputId": "2fdc20d4-589f-465c-ef8f-63b8466edefa"
      },
      "source": [
        "from itertools import combinations\n",
        "answer = 0\n",
        "for i,j,k in combinations(cards, 3):\n",
        "  sum_ = i+j+k\n",
        "  if sum_ <= m:\n",
        "    answer = max(answer, sum_)\n",
        "print(answer)"
      ],
      "execution_count": 17,
      "outputs": [
        {
          "output_type": "stream",
          "name": "stdout",
          "text": [
            "497\n"
          ]
        }
      ]
    }
  ]
}