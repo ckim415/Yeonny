{
  "nbformat": 4,
  "nbformat_minor": 0,
  "metadata": {
    "colab": {
      "name": "배달.ipynb",
      "provenance": [],
      "authorship_tag": "ABX9TyPIIzCyULG+efYeKgS1Rk+A",
      "include_colab_link": true
    },
    "kernelspec": {
      "name": "python3",
      "display_name": "Python 3"
    },
    "language_info": {
      "name": "python"
    }
  },
  "cells": [
    {
      "cell_type": "markdown",
      "metadata": {
        "id": "view-in-github",
        "colab_type": "text"
      },
      "source": [
        "<a href=\"https://colab.research.google.com/github/ckim415/Yeonny/blob/master/codingtest_prep/%EB%AC%B8%EC%A0%9C%ED%92%80%EC%9D%B4/level2/%EB%B0%B0%EB%8B%AC.ipynb\" target=\"_parent\"><img src=\"https://colab.research.google.com/assets/colab-badge.svg\" alt=\"Open In Colab\"/></a>"
      ]
    },
    {
      "cell_type": "code",
      "metadata": {
        "id": "8BCjkLV1_OoY"
      },
      "source": [
        "import heapq"
      ],
      "execution_count": 1,
      "outputs": []
    },
    {
      "cell_type": "code",
      "metadata": {
        "id": "uq1fjiqLFt3a"
      },
      "source": [
        "n = 5\n",
        "road = [[1,2,1],[2,3,3],[5,2,2],[1,4,2],[5,3,1],[5,4,2]]\n",
        "K = 3\n",
        "\n",
        "graph = [[] for _ in range(n+1)]\n",
        "for a,b,c in road:\n",
        "  graph[a].append((b,c))\n",
        "  graph[b].append((a,c))\n",
        "\n",
        "distance = [float('inf')] * (n+1)\n",
        "start = 1\n",
        "distance[start] = 0\n",
        "q = []\n",
        "heapq.heappush(q, (distance[start], start))\n",
        "\n",
        "while q:  \n",
        "  now_d, now = heapq.heappop(q)\n",
        "  for next,next_d in graph[now]:\n",
        "    d = next_d + now_d\n",
        "    if d < distance[next]:\n",
        "      distance[next] = d\n",
        "      heapq.heappush(q, (d, next))\n"
      ],
      "execution_count": 26,
      "outputs": []
    },
    {
      "cell_type": "code",
      "metadata": {
        "colab": {
          "base_uri": "https://localhost:8080/"
        },
        "id": "dwIfdoK3GCec",
        "outputId": "4431a62c-443e-4ab9-9c93-58c89607b73f"
      },
      "source": [
        "distance"
      ],
      "execution_count": 27,
      "outputs": [
        {
          "output_type": "execute_result",
          "data": {
            "text/plain": [
              "[inf, 0, 1, 4, 2, 3]"
            ]
          },
          "metadata": {},
          "execution_count": 27
        }
      ]
    },
    {
      "cell_type": "code",
      "metadata": {
        "colab": {
          "base_uri": "https://localhost:8080/"
        },
        "id": "JlcYzbyJIMcC",
        "outputId": "56dc605d-35c1-4d64-baca-47c8a82131c0"
      },
      "source": [
        "answer = [i  for i,x in enumerate(distance) if i > 0 and x <= K]\n",
        "answer"
      ],
      "execution_count": 28,
      "outputs": [
        {
          "output_type": "execute_result",
          "data": {
            "text/plain": [
              "[1, 2, 4, 5]"
            ]
          },
          "metadata": {},
          "execution_count": 28
        }
      ]
    }
  ]
}