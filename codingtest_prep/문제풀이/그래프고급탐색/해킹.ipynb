{
  "nbformat": 4,
  "nbformat_minor": 0,
  "metadata": {
    "colab": {
      "name": "해킹.ipynb",
      "provenance": [],
      "authorship_tag": "ABX9TyOEJBgtgO92/NQ2o4vo8bnT",
      "include_colab_link": true
    },
    "kernelspec": {
      "name": "python3",
      "display_name": "Python 3"
    },
    "language_info": {
      "name": "python"
    }
  },
  "cells": [
    {
      "cell_type": "markdown",
      "metadata": {
        "id": "view-in-github",
        "colab_type": "text"
      },
      "source": [
        "<a href=\"https://colab.research.google.com/github/ckim415/Yeonny/blob/master/codingtest_prep/%EB%AC%B8%EC%A0%9C%ED%92%80%EC%9D%B4/%EA%B7%B8%EB%9E%98%ED%94%84%EA%B3%A0%EA%B8%89%ED%83%90%EC%83%89/%ED%95%B4%ED%82%B9.ipynb\" target=\"_parent\"><img src=\"https://colab.research.google.com/assets/colab-badge.svg\" alt=\"Open In Colab\"/></a>"
      ]
    },
    {
      "cell_type": "markdown",
      "metadata": {
        "id": "ebhc4zVUscFd"
      },
      "source": [
        "# 해킹\n",
        " - 백준 : 10282"
      ]
    },
    {
      "cell_type": "code",
      "metadata": {
        "id": "UC1-xPbOsaZL"
      },
      "source": [
        " from collections import defaultdict"
      ],
      "execution_count": null,
      "outputs": []
    },
    {
      "cell_type": "code",
      "metadata": {
        "id": "O64He4TXF5Zi"
      },
      "source": [
        "adict = defaultdict(dict)\n",
        "adict[1] = 3"
      ],
      "execution_count": null,
      "outputs": []
    },
    {
      "cell_type": "code",
      "metadata": {
        "colab": {
          "base_uri": "https://localhost:8080/"
        },
        "id": "-gfCYEqZGDhi",
        "outputId": "eb317745-afc5-464c-beaa-2b6dd46cb5e0"
      },
      "source": [
        "adict[1] = {2:3}\n",
        "adict[1]\n",
        "adict"
      ],
      "execution_count": 11,
      "outputs": [
        {
          "output_type": "execute_result",
          "data": {
            "text/plain": [
              "defaultdict(dict, {1: {2: 3}})"
            ]
          },
          "metadata": {},
          "execution_count": 11
        }
      ]
    },
    {
      "cell_type": "code",
      "metadata": {
        "colab": {
          "base_uri": "https://localhost:8080/"
        },
        "id": "eeX0LUUKGtHU",
        "outputId": "a276fe61-61ab-4552-9ee1-efbc4f546ecc"
      },
      "source": [
        "n,d,c = map(int, input().split())"
      ],
      "execution_count": 12,
      "outputs": [
        {
          "output_type": "stream",
          "text": [
            "3 2 2\n"
          ],
          "name": "stdout"
        }
      ]
    },
    {
      "cell_type": "code",
      "metadata": {
        "colab": {
          "base_uri": "https://localhost:8080/"
        },
        "id": "XzQnwzhlGz8G",
        "outputId": "80f8bf89-0e4d-4172-add6-ba26b2be95ef"
      },
      "source": [
        "graph = defaultdict(dict)\n",
        "for i in range(d):\n",
        "  a,b,s = map(int, input().split())\n",
        "  graph[b][a] = s\n",
        "graph"
      ],
      "execution_count": 18,
      "outputs": [
        {
          "output_type": "stream",
          "text": [
            "2 1 5\n",
            "3 2 5\n"
          ],
          "name": "stdout"
        },
        {
          "output_type": "execute_result",
          "data": {
            "text/plain": [
              "defaultdict(dict, {1: {2: 5}, 2: {3: 5}})"
            ]
          },
          "metadata": {},
          "execution_count": 18
        }
      ]
    },
    {
      "cell_type": "code",
      "metadata": {
        "id": "gHuNplw8IQ6S"
      },
      "source": [
        "import heapq"
      ],
      "execution_count": 19,
      "outputs": []
    },
    {
      "cell_type": "code",
      "metadata": {
        "id": "_3JtfzsAHpd5"
      },
      "source": [
        "def dijkstra(graph, start):\n",
        "  distances = {i:float('inf') for i in range(1,n+1)}\n",
        "  q = []\n",
        "  distances[start] = 0\n",
        "  heapq.heappush(q, [distances[start],start])\n",
        "  while q:\n",
        "    now_d, now_node = heapq.heappop(q)\n",
        "    if now_d > distances[now_node]:\n",
        "      continue\n",
        "    for adj,weight in graph[now_node].items():\n",
        "      distance = now_d + weight\n",
        "      print(distance,distances[adj],adj)\n",
        "      if distance < distances[adj]:\n",
        "        distances[adj] = distances\n",
        "        heapq.heappush(q, [distance, adj])\n",
        "\n",
        "  return distances[-1]\n"
      ],
      "execution_count": 53,
      "outputs": []
    },
    {
      "cell_type": "code",
      "metadata": {
        "colab": {
          "base_uri": "https://localhost:8080/",
          "height": 300
        },
        "id": "MVqJl1aRJCa8",
        "outputId": "5a80c03e-36b8-467f-e13b-774282fae153"
      },
      "source": [
        "dijkstra(graph, c)"
      ],
      "execution_count": 54,
      "outputs": [
        {
          "output_type": "stream",
          "text": [
            "5 inf 3\n"
          ],
          "name": "stdout"
        },
        {
          "output_type": "error",
          "ename": "TypeError",
          "evalue": "ignored",
          "traceback": [
            "\u001b[0;31m---------------------------------------------------------------------------\u001b[0m",
            "\u001b[0;31mTypeError\u001b[0m                                 Traceback (most recent call last)",
            "\u001b[0;32m<ipython-input-54-47f4512d03f3>\u001b[0m in \u001b[0;36m<module>\u001b[0;34m()\u001b[0m\n\u001b[0;32m----> 1\u001b[0;31m \u001b[0mdijkstra\u001b[0m\u001b[0;34m(\u001b[0m\u001b[0mgraph\u001b[0m\u001b[0;34m,\u001b[0m \u001b[0mc\u001b[0m\u001b[0;34m)\u001b[0m\u001b[0;34m\u001b[0m\u001b[0;34m\u001b[0m\u001b[0m\n\u001b[0m",
            "\u001b[0;32m<ipython-input-53-43e1ed54fa53>\u001b[0m in \u001b[0;36mdijkstra\u001b[0;34m(graph, start)\u001b[0m\n\u001b[1;32m      6\u001b[0m   \u001b[0;32mwhile\u001b[0m \u001b[0mq\u001b[0m\u001b[0;34m:\u001b[0m\u001b[0;34m\u001b[0m\u001b[0;34m\u001b[0m\u001b[0m\n\u001b[1;32m      7\u001b[0m     \u001b[0mnow_d\u001b[0m\u001b[0;34m,\u001b[0m \u001b[0mnow_node\u001b[0m \u001b[0;34m=\u001b[0m \u001b[0mheapq\u001b[0m\u001b[0;34m.\u001b[0m\u001b[0mheappop\u001b[0m\u001b[0;34m(\u001b[0m\u001b[0mq\u001b[0m\u001b[0;34m)\u001b[0m\u001b[0;34m\u001b[0m\u001b[0;34m\u001b[0m\u001b[0m\n\u001b[0;32m----> 8\u001b[0;31m     \u001b[0;32mif\u001b[0m \u001b[0mnow_d\u001b[0m \u001b[0;34m>\u001b[0m \u001b[0mdistances\u001b[0m\u001b[0;34m[\u001b[0m\u001b[0mnow_node\u001b[0m\u001b[0;34m]\u001b[0m\u001b[0;34m:\u001b[0m\u001b[0;34m\u001b[0m\u001b[0;34m\u001b[0m\u001b[0m\n\u001b[0m\u001b[1;32m      9\u001b[0m       \u001b[0;32mcontinue\u001b[0m\u001b[0;34m\u001b[0m\u001b[0;34m\u001b[0m\u001b[0m\n\u001b[1;32m     10\u001b[0m     \u001b[0;32mfor\u001b[0m \u001b[0madj\u001b[0m\u001b[0;34m,\u001b[0m\u001b[0mweight\u001b[0m \u001b[0;32min\u001b[0m \u001b[0mgraph\u001b[0m\u001b[0;34m[\u001b[0m\u001b[0mnow_node\u001b[0m\u001b[0;34m]\u001b[0m\u001b[0;34m.\u001b[0m\u001b[0mitems\u001b[0m\u001b[0;34m(\u001b[0m\u001b[0;34m)\u001b[0m\u001b[0;34m:\u001b[0m\u001b[0;34m\u001b[0m\u001b[0;34m\u001b[0m\u001b[0m\n",
            "\u001b[0;31mTypeError\u001b[0m: '>' not supported between instances of 'int' and 'dict'"
          ]
        }
      ]
    },
    {
      "cell_type": "code",
      "metadata": {
        "colab": {
          "base_uri": "https://localhost:8080/"
        },
        "id": "3Nr13Ci3J9pP",
        "outputId": "20b6eeaa-42f0-44ea-b270-56534b8cad0c"
      },
      "source": [
        "distances = {i:float('inf') for i in range(1, n+1)}\n",
        "distances"
      ],
      "execution_count": 43,
      "outputs": [
        {
          "output_type": "execute_result",
          "data": {
            "text/plain": [
              "{1: inf, 2: inf, 3: inf}"
            ]
          },
          "metadata": {},
          "execution_count": 43
        }
      ]
    },
    {
      "cell_type": "code",
      "metadata": {
        "colab": {
          "base_uri": "https://localhost:8080/"
        },
        "id": "0oUYZZ4aLbUc",
        "outputId": "c1231d61-6b8b-4aab-f109-1bac7e31ba4c"
      },
      "source": [
        "5 < float('inf')"
      ],
      "execution_count": 52,
      "outputs": [
        {
          "output_type": "execute_result",
          "data": {
            "text/plain": [
              "True"
            ]
          },
          "metadata": {},
          "execution_count": 52
        }
      ]
    },
    {
      "cell_type": "markdown",
      "metadata": {
        "id": "E1U2Zf4rlD7_"
      },
      "source": [
        "# try2"
      ]
    },
    {
      "cell_type": "code",
      "metadata": {
        "colab": {
          "base_uri": "https://localhost:8080/"
        },
        "id": "AqhpJRanlGZz",
        "outputId": "b78cde92-c6da-43eb-c51d-a6e00aae9626"
      },
      "source": [
        "n,d,c = map(int, input().split())\n",
        "adj = [[] for i in range(n+1)]\n",
        "distances = [float('inf')] * (n+1)"
      ],
      "execution_count": 2,
      "outputs": [
        {
          "output_type": "stream",
          "text": [
            "3 2 2\n"
          ],
          "name": "stdout"
        }
      ]
    },
    {
      "cell_type": "code",
      "metadata": {
        "colab": {
          "base_uri": "https://localhost:8080/"
        },
        "id": "hsWqMrX3lDcT",
        "outputId": "b87138df-ae9d-4172-afc7-3a2524e9542e"
      },
      "source": [
        "for i in range(d):\n",
        "  a,b,s = map(int, input().split())\n",
        "  adj[b].append((a,s))"
      ],
      "execution_count": 5,
      "outputs": [
        {
          "output_type": "stream",
          "text": [
            "2 1 5\n",
            "3 2 5\n"
          ],
          "name": "stdout"
        }
      ]
    },
    {
      "cell_type": "code",
      "metadata": {
        "colab": {
          "base_uri": "https://localhost:8080/"
        },
        "id": "crkdR7CilqM1",
        "outputId": "921648a9-6a17-4476-b4bc-adb0caf28e79"
      },
      "source": [
        "import heapq\n",
        "adj"
      ],
      "execution_count": 7,
      "outputs": [
        {
          "output_type": "execute_result",
          "data": {
            "text/plain": [
              "[[], [(2, 5)], [(3, 5)], []]"
            ]
          },
          "metadata": {},
          "execution_count": 7
        }
      ]
    },
    {
      "cell_type": "code",
      "metadata": {
        "id": "41-R8n_Als9b"
      },
      "source": [
        "distances = [float('inf')] * (n+1)\n",
        "def dijskra(start):\n",
        "  q = []\n",
        "  distances[start] = 0\n",
        "  heapq.heappush(q, (distances[start], start))\n",
        "  while q:\n",
        "    now_d, now_node = heapq.heappop(q)\n",
        "    if now_d > distances[now_node]:\n",
        "      continue\n",
        "    \n",
        "    for next_node, next_d in adj[now_node]:\n",
        "      distance = now_d + next_d\n",
        "      if distance < distances[next_node]:\n",
        "        distances[next_node] = distance\n",
        "        heapq.heappush(q,(distance, next_node))"
      ],
      "execution_count": 25,
      "outputs": []
    },
    {
      "cell_type": "code",
      "metadata": {
        "colab": {
          "base_uri": "https://localhost:8080/"
        },
        "id": "tQJ0XHj7ml5u",
        "outputId": "0e6f4472-d678-467c-921d-a75040bbb9ad"
      },
      "source": [
        "dijskra(c)\n",
        "distances"
      ],
      "execution_count": 26,
      "outputs": [
        {
          "output_type": "execute_result",
          "data": {
            "text/plain": [
              "[inf, inf, 0, 5]"
            ]
          },
          "metadata": {},
          "execution_count": 26
        }
      ]
    },
    {
      "cell_type": "code",
      "metadata": {
        "colab": {
          "base_uri": "https://localhost:8080/"
        },
        "id": "LAT0HyUKomHf",
        "outputId": "fd535da8-379d-43ca-dd3e-168926e09cd6"
      },
      "source": [
        "count = 0\n",
        "max_d = 0\n",
        "for i in range(c, n+1):\n",
        "  if distances[i] != float('inf'):\n",
        "    count += 1\n",
        "    if distances[i] > max_d:\n",
        "      max_d += distances[i]\n",
        "count, max_d"
      ],
      "execution_count": 29,
      "outputs": [
        {
          "output_type": "execute_result",
          "data": {
            "text/plain": [
              "(2, 5)"
            ]
          },
          "metadata": {},
          "execution_count": 29
        }
      ]
    },
    {
      "cell_type": "markdown",
      "metadata": {
        "id": "AtCi_ET9pqJq"
      },
      "source": [
        "# 정답\n",
        "2\n",
        "\n",
        "3 2 2\n",
        "\n",
        "2 1 5\n",
        "\n",
        "3 2 5\n",
        "\n",
        "3 3 1\n",
        "\n",
        "2 1 2\n",
        "\n",
        "3 1 8\n",
        "\n",
        "3 2 4"
      ]
    },
    {
      "cell_type": "code",
      "metadata": {
        "colab": {
          "base_uri": "https://localhost:8080/"
        },
        "id": "3NJD26ncpsU6",
        "outputId": "e6cf7b46-568f-43c2-8422-6950db6f6481"
      },
      "source": [
        "def djiskra(start):\n",
        "  q = []\n",
        "  distances[start] = 0\n",
        "  heapq.heappush(q, (distances[start],start))\n",
        "  while q:\n",
        "    now_d, now_node = heapq.heappop(q)\n",
        "    if now_d > distances[now_node]:\n",
        "      continue\n",
        "    for next_node, next_d in adj[now_node]:\n",
        "      distance = now_d + next_d\n",
        "      if distance < distances[next_node]:\n",
        "        distances[next_node] = distance\n",
        "        heapq.heappush(q, (distance, next_node))\n",
        "        \n",
        "test_case = int(input())\n",
        "for i in range(test_case):\n",
        "  n,d,c = map(int, input().split())\n",
        "\n",
        "  adj = [[] for i in range(n+1)]\n",
        "  distances = [float('inf')] * (n+1)\n",
        "\n",
        "  for i in range(d):\n",
        "    a,b,s = map(int, input().split())\n",
        "    adj[b].append((a,s))\n",
        "\n",
        "  djiskra(c)\n",
        "  count = 0\n",
        "  max_d = 0\n",
        "  for i in range(c, n+1):\n",
        "    if distances[i] != float('inf'):\n",
        "      count += 1\n",
        "      if distances[i] > max_d:\n",
        "        max_d = distances[i]\n",
        "  \n",
        "  print(count, max_d)\n",
        "\n",
        "\n",
        "\n"
      ],
      "execution_count": 41,
      "outputs": [
        {
          "output_type": "stream",
          "text": [
            "2\n",
            "3 2 2\n",
            "2 1 5\n",
            "3 2 5\n",
            "2 5\n",
            "3 3 1\n",
            "2 1 2\n",
            "3 1 8\n",
            "3 2 4\n",
            "3 6\n"
          ],
          "name": "stdout"
        }
      ]
    }
  ]
}