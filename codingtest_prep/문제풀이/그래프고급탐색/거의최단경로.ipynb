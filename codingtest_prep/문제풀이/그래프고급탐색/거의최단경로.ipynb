{
  "nbformat": 4,
  "nbformat_minor": 0,
  "metadata": {
    "colab": {
      "name": "거의최단경로.ipynb",
      "provenance": [],
      "authorship_tag": "ABX9TyNF+bMOkdLO79SzMl2tgJ+L",
      "include_colab_link": true
    },
    "kernelspec": {
      "name": "python3",
      "display_name": "Python 3"
    },
    "language_info": {
      "name": "python"
    }
  },
  "cells": [
    {
      "cell_type": "markdown",
      "metadata": {
        "id": "view-in-github",
        "colab_type": "text"
      },
      "source": [
        "<a href=\"https://colab.research.google.com/github/ckim415/Yeonny/blob/master/codingtest_prep/%EB%AC%B8%EC%A0%9C%ED%92%80%EC%9D%B4/%EA%B7%B8%EB%9E%98%ED%94%84%EA%B3%A0%EA%B8%89%ED%83%90%EC%83%89/%EA%B1%B0%EC%9D%98%EC%B5%9C%EB%8B%A8%EA%B2%BD%EB%A1%9C.ipynb\" target=\"_parent\"><img src=\"https://colab.research.google.com/assets/colab-badge.svg\" alt=\"Open In Colab\"/></a>"
      ]
    },
    {
      "cell_type": "markdown",
      "metadata": {
        "id": "MC_V7eWDB0rs"
      },
      "source": [
        "# 거의 최단 경로\n",
        " - 백준 : 5719\n",
        " - 다익스트라 알고리즘\n",
        "  - 두번 돌리는거!\n",
        "  - 경로를 추적하는 \n",
        "\n",
        " - ex\n",
        "  \n",
        "0 1 1\n",
        "\n",
        "0 2 1\n",
        "\n",
        "0 3 2\n",
        "\n",
        "0 4 3\n",
        "\n",
        "1 5 2\n",
        "\n",
        "2 6 4\n",
        "\n",
        "3 6 2\n",
        "\n",
        "4 6 4\n",
        "\n",
        "5 6 1"
      ]
    },
    {
      "cell_type": "code",
      "metadata": {
        "id": "BVq_f2uXDkbz"
      },
      "source": [
        "import heapq\n",
        "from collections import deque"
      ],
      "execution_count": 5,
      "outputs": []
    },
    {
      "cell_type": "code",
      "metadata": {
        "id": "Ld46v1iZByQZ"
      },
      "source": [
        "n,m = 7, 9\n",
        "s,d = 0, 6"
      ],
      "execution_count": 1,
      "outputs": []
    },
    {
      "cell_type": "code",
      "metadata": {
        "colab": {
          "base_uri": "https://localhost:8080/"
        },
        "id": "5y3O3fTHCRrX",
        "outputId": "aa4bd9b2-cd59-4254-b4b9-57cc3bf80326"
      },
      "source": [
        "adj = [[] for _ in range(n)]\n",
        "reversed_adj = [[] for _ in range(n)]\n",
        "for i in range(m):\n",
        "  x,y,cost = map(int, input().split())\n",
        "  adj[x].append((y,cost))\n",
        "  reversed_adj[y].append((x,cost))"
      ],
      "execution_count": 2,
      "outputs": [
        {
          "output_type": "stream",
          "text": [
            "0 1 1\n",
            "0 2 1\n",
            "0 3 2\n",
            "0 4 3\n",
            "1 5 2\n",
            "2 6 4\n",
            "3 6 2 \n",
            "4 6 4\n",
            "5 6 1\n"
          ],
          "name": "stdout"
        }
      ]
    },
    {
      "cell_type": "code",
      "metadata": {
        "colab": {
          "base_uri": "https://localhost:8080/"
        },
        "id": "N46VnfU7DP4M",
        "outputId": "2b84744e-fa29-418b-82ef-bbe47dfb8461"
      },
      "source": [
        "adj"
      ],
      "execution_count": 3,
      "outputs": [
        {
          "output_type": "execute_result",
          "data": {
            "text/plain": [
              "[[(1, 1), (2, 1), (3, 2), (4, 3)],\n",
              " [(5, 2)],\n",
              " [(6, 4)],\n",
              " [(6, 2)],\n",
              " [(6, 4)],\n",
              " [(6, 1)],\n",
              " []]"
            ]
          },
          "metadata": {},
          "execution_count": 3
        }
      ]
    },
    {
      "cell_type": "code",
      "metadata": {
        "colab": {
          "base_uri": "https://localhost:8080/"
        },
        "id": "TpGZ7Pq9DST8",
        "outputId": "43a2c472-fc02-4e7c-eabc-478986a3473b"
      },
      "source": [
        "reversed_adj"
      ],
      "execution_count": 4,
      "outputs": [
        {
          "output_type": "execute_result",
          "data": {
            "text/plain": [
              "[[],\n",
              " [(0, 1)],\n",
              " [(0, 1)],\n",
              " [(0, 2)],\n",
              " [(0, 3)],\n",
              " [(1, 2)],\n",
              " [(2, 4), (3, 2), (4, 4), (5, 1)]]"
            ]
          },
          "metadata": {},
          "execution_count": 4
        }
      ]
    },
    {
      "cell_type": "code",
      "metadata": {
        "colab": {
          "base_uri": "https://localhost:8080/"
        },
        "id": "Ij_9PEvzEK2i",
        "outputId": "d853ed55-75ee-41a0-8ba0-35e883f157f4"
      },
      "source": [
        "dropped = [[False] * n for _ in range(n)]\n",
        "dropped"
      ],
      "execution_count": 6,
      "outputs": [
        {
          "output_type": "execute_result",
          "data": {
            "text/plain": [
              "[[False, False, False, False, False, False, False],\n",
              " [False, False, False, False, False, False, False],\n",
              " [False, False, False, False, False, False, False],\n",
              " [False, False, False, False, False, False, False],\n",
              " [False, False, False, False, False, False, False],\n",
              " [False, False, False, False, False, False, False],\n",
              " [False, False, False, False, False, False, False]]"
            ]
          },
          "metadata": {},
          "execution_count": 6
        }
      ]
    },
    {
      "cell_type": "code",
      "metadata": {
        "id": "S0SQhDyRDZCx"
      },
      "source": [
        "def dijkstra():\n",
        "  q = []\n",
        "  distance[s] = 0\n",
        "  heapq.heappush(q, (distance[s], s))\n",
        "  while q:\n",
        "    now_d, now_node = heapq.heappop(q)\n",
        "    if now_d > distance[now_node]:\n",
        "      continue\n",
        "    \n",
        "    for next_node, next_d in adj[now_node]:\n",
        "      dist = now_d + next_d\n",
        "      if dist < distance[next_node] and not dropped[now_node][next_node]:\n",
        "        distance[next_node] = dist\n",
        "        heapq.heappush(q, (dist, next_node))"
      ],
      "execution_count": 10,
      "outputs": []
    },
    {
      "cell_type": "code",
      "metadata": {
        "id": "0SKoLuAIHCGf"
      },
      "source": [
        "def bfs():\n",
        "  q = deque([d])\n",
        "  while q:\n",
        "    now = q.popleft()\n",
        "    if now == s:\n",
        "      continue\n",
        "    for prev_node, prev_d in reversed_adj[now]:\n",
        "      if distance[now] == distance[prev_node] + prev_d:\n",
        "        dropped[prev_node][now] = True\n",
        "        q.append(prev_node)\n"
      ],
      "execution_count": 20,
      "outputs": []
    },
    {
      "cell_type": "code",
      "metadata": {
        "id": "ENTWcmAIH2WF"
      },
      "source": [
        "distance = [float('inf')] * n\n",
        "dijkstra()\n",
        "bfs()"
      ],
      "execution_count": 21,
      "outputs": []
    },
    {
      "cell_type": "code",
      "metadata": {
        "colab": {
          "base_uri": "https://localhost:8080/"
        },
        "id": "AK0R56y8IIv6",
        "outputId": "86a5f1fc-9f07-44e2-8ef9-0aca8106c52c"
      },
      "source": [
        "distance"
      ],
      "execution_count": 22,
      "outputs": [
        {
          "output_type": "execute_result",
          "data": {
            "text/plain": [
              "[0, 1, 1, 2, 3, 3, 4]"
            ]
          },
          "metadata": {},
          "execution_count": 22
        }
      ]
    },
    {
      "cell_type": "code",
      "metadata": {
        "colab": {
          "base_uri": "https://localhost:8080/"
        },
        "id": "VpTEavpfIKZW",
        "outputId": "eabffafa-0dbd-4c60-bf93-4c1a1bc2130a"
      },
      "source": [
        "dropped"
      ],
      "execution_count": 23,
      "outputs": [
        {
          "output_type": "execute_result",
          "data": {
            "text/plain": [
              "[[False, True, False, True, False, False, False],\n",
              " [True, False, False, False, False, True, False],\n",
              " [False, False, False, False, False, False, False],\n",
              " [True, False, False, False, False, False, True],\n",
              " [False, False, False, False, False, False, False],\n",
              " [False, True, False, False, False, False, True],\n",
              " [False, False, False, True, False, True, False]]"
            ]
          },
          "metadata": {},
          "execution_count": 23
        }
      ]
    },
    {
      "cell_type": "code",
      "metadata": {
        "colab": {
          "base_uri": "https://localhost:8080/"
        },
        "id": "wM-_30m_ISUO",
        "outputId": "96660a7e-79cc-4e51-b010-bd3b8746c09f"
      },
      "source": [
        "distance = [float('inf')] * n\n",
        "dijkstra()\n",
        "distance"
      ],
      "execution_count": 24,
      "outputs": [
        {
          "output_type": "execute_result",
          "data": {
            "text/plain": [
              "[0, inf, 1, inf, 3, inf, 5]"
            ]
          },
          "metadata": {},
          "execution_count": 24
        }
      ]
    },
    {
      "cell_type": "code",
      "metadata": {
        "colab": {
          "base_uri": "https://localhost:8080/"
        },
        "id": "H8W2q6xIJaY2",
        "outputId": "def5bd34-0486-473a-84b3-6e1a54d70baa"
      },
      "source": [
        "if distance[-1] != float('inf'):\n",
        "  print(distance[-1])\n",
        "else:\n",
        "  print(-1)"
      ],
      "execution_count": 25,
      "outputs": [
        {
          "output_type": "stream",
          "text": [
            "5\n"
          ],
          "name": "stdout"
        }
      ]
    },
    {
      "cell_type": "markdown",
      "metadata": {
        "id": "Vv050xm7MF_-"
      },
      "source": [
        "# 중요 아이디어\n",
        " - 다익스트라를 두번 돌리는 것이 키 포인트\n",
        " - 처음 다익스트라를 돌릴때, 최단 거리 루트를 제거\n",
        " - 최단 거리 루트제거후, 다시 다익스트라를 돌려 최단 거리 추출"
      ]
    }
  ]
}