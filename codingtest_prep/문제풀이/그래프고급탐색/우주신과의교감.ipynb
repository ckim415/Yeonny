{
  "nbformat": 4,
  "nbformat_minor": 0,
  "metadata": {
    "colab": {
      "name": "우주신과의교감.ipynb",
      "provenance": [],
      "authorship_tag": "ABX9TyOribQW6161dL+NvwDn8RBL",
      "include_colab_link": true
    },
    "kernelspec": {
      "name": "python3",
      "display_name": "Python 3"
    },
    "language_info": {
      "name": "python"
    }
  },
  "cells": [
    {
      "cell_type": "markdown",
      "metadata": {
        "id": "view-in-github",
        "colab_type": "text"
      },
      "source": [
        "<a href=\"https://colab.research.google.com/github/ckim415/Yeonny/blob/master/codingtest_prep/%EB%AC%B8%EC%A0%9C%ED%92%80%EC%9D%B4/%EA%B7%B8%EB%9E%98%ED%94%84%EA%B3%A0%EA%B8%89%ED%83%90%EC%83%89/%EC%9A%B0%EC%A3%BC%EC%8B%A0%EA%B3%BC%EC%9D%98%EA%B5%90%EA%B0%90.ipynb\" target=\"_parent\"><img src=\"https://colab.research.google.com/assets/colab-badge.svg\" alt=\"Open In Colab\"/></a>"
      ]
    },
    {
      "cell_type": "markdown",
      "metadata": {
        "id": "3wUR8dDNK0ov"
      },
      "source": [
        "# 우주신과의 교감\n",
        " - 백준 : 1774"
      ]
    },
    {
      "cell_type": "code",
      "metadata": {
        "id": "TYxKfk9fVy72"
      },
      "source": [
        "import math"
      ],
      "execution_count": 10,
      "outputs": []
    },
    {
      "cell_type": "code",
      "metadata": {
        "id": "znOctwKN7cWk"
      },
      "source": [
        "def get_parent(parent, n):\n",
        "  if parent[n] == n:\n",
        "    return n\n",
        "  return get_parent(parent, parent[n])"
      ],
      "execution_count": 1,
      "outputs": []
    },
    {
      "cell_type": "code",
      "metadata": {
        "id": "nn7OKRnPLGPo"
      },
      "source": [
        "def find_parent(parent, a, b):\n",
        "  a = get_parent(parent, a)\n",
        "  b = get_parent(parent, b)\n",
        "  if a == b:\n",
        "    return True\n",
        "  else:\n",
        "    return False"
      ],
      "execution_count": 3,
      "outputs": []
    },
    {
      "cell_type": "code",
      "metadata": {
        "id": "_I2d1AeaLplQ"
      },
      "source": [
        "def union(parent, a, b):\n",
        "  a = get_parent(parent, a)\n",
        "  b = get_parent(parent, b)\n",
        "  if a < b:\n",
        "    parent[b] = a\n",
        "  else:\n",
        "    parent[a] = b"
      ],
      "execution_count": 4,
      "outputs": []
    },
    {
      "cell_type": "code",
      "metadata": {
        "id": "hxfu8u-2MmsP"
      },
      "source": [
        "def distance(p1, p2):\n",
        "  a = p1[0] - p2[0]\n",
        "  b = p1[1] - p2[1]\n",
        "  return math.sqrt((a*a) + (b*b))"
      ],
      "execution_count": 13,
      "outputs": []
    },
    {
      "cell_type": "code",
      "metadata": {
        "id": "t9Mxm_jTNrYr"
      },
      "source": [
        "n,m = 4,1\n",
        "edges = []\n",
        "parent = {}\n",
        "locations = []"
      ],
      "execution_count": 15,
      "outputs": []
    },
    {
      "cell_type": "code",
      "metadata": {
        "colab": {
          "base_uri": "https://localhost:8080/"
        },
        "id": "F_WRVt5ZUQK8",
        "outputId": "05733ed1-c3bd-4c85-be01-bc88b996d453"
      },
      "source": [
        "for _ in range(n):\n",
        "  x,y = map(int, input().split())\n",
        "  locations.append((x,y))"
      ],
      "execution_count": 16,
      "outputs": [
        {
          "output_type": "stream",
          "text": [
            "1 1 \n",
            "3 1\n",
            "2 3\n",
            "4 3\n"
          ],
          "name": "stdout"
        }
      ]
    },
    {
      "cell_type": "code",
      "metadata": {
        "colab": {
          "base_uri": "https://localhost:8080/"
        },
        "id": "TZdI-48WUbIZ",
        "outputId": "069e8412-5d0e-4e2c-8076-afcedd2d60e9"
      },
      "source": [
        "locations"
      ],
      "execution_count": 8,
      "outputs": [
        {
          "output_type": "execute_result",
          "data": {
            "text/plain": [
              "[(1, 1), (3, 1), (2, 3), (4, 3)]"
            ]
          },
          "metadata": {},
          "execution_count": 8
        }
      ]
    },
    {
      "cell_type": "code",
      "metadata": {
        "colab": {
          "base_uri": "https://localhost:8080/"
        },
        "id": "H8HuoMVWUeoX",
        "outputId": "e0ce60f6-65d7-4cba-bf70-495c538b636f"
      },
      "source": [
        "length = len(locations)\n",
        "for i in range(length-1):\n",
        "  for j in range(i+1, length):\n",
        "    edges.append((i+1, j+1, distance(locations[i],locations[j])))\n",
        "edges"
      ],
      "execution_count": 17,
      "outputs": [
        {
          "output_type": "execute_result",
          "data": {
            "text/plain": [
              "[(1, 2, 2.0),\n",
              " (1, 3, 2.23606797749979),\n",
              " (1, 4, 3.605551275463989),\n",
              " (2, 3, 2.23606797749979),\n",
              " (2, 4, 2.23606797749979),\n",
              " (3, 4, 2.0)]"
            ]
          },
          "metadata": {},
          "execution_count": 17
        }
      ]
    },
    {
      "cell_type": "code",
      "metadata": {
        "colab": {
          "base_uri": "https://localhost:8080/"
        },
        "id": "6ZP7Nt1FWJ-E",
        "outputId": "85110898-37ca-43d9-9cc9-362541f83232"
      },
      "source": [
        "edges.sort(key = lambda x: x[-1])\n",
        "edges"
      ],
      "execution_count": 18,
      "outputs": [
        {
          "output_type": "execute_result",
          "data": {
            "text/plain": [
              "[(1, 2, 2.0),\n",
              " (3, 4, 2.0),\n",
              " (1, 3, 2.23606797749979),\n",
              " (2, 3, 2.23606797749979),\n",
              " (2, 4, 2.23606797749979),\n",
              " (1, 4, 3.605551275463989)]"
            ]
          },
          "metadata": {},
          "execution_count": 18
        }
      ]
    },
    {
      "cell_type": "code",
      "metadata": {
        "colab": {
          "base_uri": "https://localhost:8080/"
        },
        "id": "udESwDPnXDpe",
        "outputId": "97d68664-b763-438b-a9cc-094fb8e34a90"
      },
      "source": [
        "for i in range(1, n+1):\n",
        "  parent[i] = i\n",
        "parent"
      ],
      "execution_count": 21,
      "outputs": [
        {
          "output_type": "execute_result",
          "data": {
            "text/plain": [
              "{1: 1, 2: 2, 3: 3, 4: 4}"
            ]
          },
          "metadata": {},
          "execution_count": 21
        }
      ]
    },
    {
      "cell_type": "code",
      "metadata": {
        "colab": {
          "base_uri": "https://localhost:8080/"
        },
        "id": "ITMO8snwWR7C",
        "outputId": "98e86c9a-55bc-4106-fe5d-d7c01a036647"
      },
      "source": [
        "for i in range(m):\n",
        "  a,b = map(int, input().split())\n",
        "  union(parent, a,b)\n",
        "parent"
      ],
      "execution_count": 22,
      "outputs": [
        {
          "output_type": "stream",
          "text": [
            "1 4\n"
          ],
          "name": "stdout"
        },
        {
          "output_type": "execute_result",
          "data": {
            "text/plain": [
              "{1: 1, 2: 2, 3: 3, 4: 1}"
            ]
          },
          "metadata": {},
          "execution_count": 22
        }
      ]
    },
    {
      "cell_type": "code",
      "metadata": {
        "colab": {
          "base_uri": "https://localhost:8080/"
        },
        "id": "ZGPi96StYNN2",
        "outputId": "6b971c57-772d-4a54-dabb-b06ca8ee53aa"
      },
      "source": [
        "result = 0\n",
        "for a,b,dist in edges:\n",
        "  if not find_parent(parent, a, b):\n",
        "      union(parent, a, b)\n",
        "      result += dist\n",
        "\n",
        "print(parent)\n",
        "print(result)\n",
        "  "
      ],
      "execution_count": 24,
      "outputs": [
        {
          "output_type": "stream",
          "text": [
            "{1: 1, 2: 1, 3: 1, 4: 1}\n",
            "4.0\n"
          ],
          "name": "stdout"
        }
      ]
    }
  ]
}