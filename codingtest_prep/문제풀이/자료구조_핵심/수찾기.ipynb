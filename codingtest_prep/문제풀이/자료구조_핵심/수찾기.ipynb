{
  "nbformat": 4,
  "nbformat_minor": 0,
  "metadata": {
    "colab": {
      "name": "수찾기.ipynb",
      "provenance": [],
      "authorship_tag": "ABX9TyMbQ7W+jvD7MsRzREyiaMVO",
      "include_colab_link": true
    },
    "kernelspec": {
      "name": "python3",
      "display_name": "Python 3"
    },
    "language_info": {
      "name": "python"
    }
  },
  "cells": [
    {
      "cell_type": "markdown",
      "metadata": {
        "id": "view-in-github",
        "colab_type": "text"
      },
      "source": [
        "<a href=\"https://colab.research.google.com/github/ckim415/Yeonny/blob/master/codingtest_prep/%EB%AC%B8%EC%A0%9C%ED%92%80%EC%9D%B4/%ED%95%B5%EC%8B%AC%EC%9E%90%EB%A3%8C%EA%B5%AC%EC%A1%B0/%EC%88%98%EC%B0%BE%EA%B8%B0.ipynb\" target=\"_parent\"><img src=\"https://colab.research.google.com/assets/colab-badge.svg\" alt=\"Open In Colab\"/></a>"
      ]
    },
    {
      "cell_type": "code",
      "metadata": {
        "id": "clZs0-u5IuSN"
      },
      "source": [
        "import datetime"
      ],
      "execution_count": 2,
      "outputs": []
    },
    {
      "cell_type": "code",
      "metadata": {
        "colab": {
          "base_uri": "https://localhost:8080/"
        },
        "id": "olrhUFmlHxJ9",
        "outputId": "d162cd6f-adf4-43a0-ea22-78c452b9c47e"
      },
      "source": [
        "n = int(input())\n",
        "alist = list(map(int, input().split(' ')))\n",
        "m = int(input())\n",
        "blist = list(map(int, input().split(' ')))\n",
        "start = datetime.datetime.now()\n",
        "for i in blist:\n",
        "  if i in alist:\n",
        "    print(1)\n",
        "  else:\n",
        "    print(0)\n",
        "end = datetime.datetime.now()\n",
        "print(end- start)"
      ],
      "execution_count": 3,
      "outputs": [
        {
          "output_type": "stream",
          "text": [
            "5\n",
            "4 1 5 2 3\n",
            "5\n",
            "1 3 7 9 3\n",
            "1\n",
            "1\n",
            "0\n",
            "0\n",
            "1\n",
            "0:00:00.000728\n"
          ],
          "name": "stdout"
        }
      ]
    },
    {
      "cell_type": "code",
      "metadata": {
        "id": "e6jet2g4Ihpq"
      },
      "source": [
        "## alist 를 set으로 구현시 중복을 피할 수 있어서 빠른 구현가능"
      ],
      "execution_count": null,
      "outputs": []
    },
    {
      "cell_type": "code",
      "metadata": {
        "colab": {
          "base_uri": "https://localhost:8080/"
        },
        "id": "23NVJbb_JDnq",
        "outputId": "baf56051-1228-47f4-a27c-ec37d625a4d8"
      },
      "source": [
        "n = int(input())\n",
        "alist = set(map(int, input().split(' ')))\n",
        "m = int(input())\n",
        "blist = list(map(int, input().split(' ')))\n",
        "start = datetime.datetime.now()\n",
        "for i in blist:\n",
        "  if i in alist:\n",
        "    print(1)\n",
        "  else:\n",
        "    print(0)\n",
        "end = datetime.datetime.now()\n",
        "print(end- start)"
      ],
      "execution_count": 4,
      "outputs": [
        {
          "output_type": "stream",
          "text": [
            "5\n",
            "4 1 5 2 3\n",
            "5\n",
            "1 3 7 9 3\n",
            "1\n",
            "1\n",
            "0\n",
            "0\n",
            "1\n",
            "0:00:00.002630\n"
          ],
          "name": "stdout"
        }
      ]
    },
    {
      "cell_type": "code",
      "metadata": {
        "id": "ARyQG1vaJNcm"
      },
      "source": [
        "#hash 는 dictionary로 구현 가능"
      ],
      "execution_count": null,
      "outputs": []
    }
  ]
}
