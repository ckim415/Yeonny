{
  "nbformat": 4,
  "nbformat_minor": 0,
  "metadata": {
    "colab": {
      "name": "좌표정렬하기.ipynb",
      "provenance": [],
      "toc_visible": true,
      "authorship_tag": "ABX9TyPQ4MvQnvIJHf48NzDLwICv",
      "include_colab_link": true
    },
    "kernelspec": {
      "name": "python3",
      "display_name": "Python 3"
    },
    "language_info": {
      "name": "python"
    }
  },
  "cells": [
    {
      "cell_type": "markdown",
      "metadata": {
        "id": "view-in-github",
        "colab_type": "text"
      },
      "source": [
        "<a href=\"https://colab.research.google.com/github/ckim415/Yeonny/blob/master/codingtest_prep/%EB%AC%B8%EC%A0%9C%ED%92%80%EC%9D%B4/%ED%95%B5%EC%8B%AC%EC%A0%95%EB%A0%AC/%EC%A2%8C%ED%91%9C%EC%A0%95%EB%A0%AC%ED%95%98%EA%B8%B0.ipynb\" target=\"_parent\"><img src=\"https://colab.research.google.com/assets/colab-badge.svg\" alt=\"Open In Colab\"/></a>"
      ]
    },
    {
      "cell_type": "markdown",
      "metadata": {
        "id": "4SBNwFlJm_N-"
      },
      "source": [
        "# 좌표 정리하기\n",
        " - 백준 11560\n",
        " - 예시\n",
        "\n",
        " 5\n",
        "\n",
        "3 4\n",
        "\n",
        "1 1\n",
        "\n",
        "1 -1\n",
        "\n",
        "2 2\n",
        "\n",
        "3 3"
      ]
    },
    {
      "cell_type": "markdown",
      "metadata": {
        "id": "0QodKbkMoNeU"
      },
      "source": [
        "# 내 문제풀이"
      ]
    },
    {
      "cell_type": "code",
      "metadata": {
        "colab": {
          "base_uri": "https://localhost:8080/"
        },
        "id": "Ziy4rBEHmmEt",
        "outputId": "8ccc85c1-6072-4649-a97b-7aa36487549b"
      },
      "source": [
        "test_case = int(input())\n",
        "\n",
        "point_list = []\n",
        "for turn in range(test_case):\n",
        "  x, y = input().split(' ')\n",
        "  point_list.append((int(x), int(y)))\n",
        "\n",
        "point_list.sort(key = lambda x: (x[0],x[1]))\n",
        "print(point_list)"
      ],
      "execution_count": 2,
      "outputs": [
        {
          "output_type": "stream",
          "text": [
            "5\n",
            "3 4\n",
            "1 1\n",
            "1 -1\n",
            "2 2\n",
            "3 3\n",
            "[(1, -1), (1, 1), (2, 2), (3, 3), (3, 4)]\n"
          ],
          "name": "stdout"
        }
      ]
    },
    {
      "cell_type": "markdown",
      "metadata": {
        "id": "cI1RmnOKoK1P"
      },
      "source": [
        "# 강의 문제풀이\n",
        "- sort 는 자동적으로 여러개의 원소가 잇을때 순서대로 정렬\n",
        "- 따로 key를 지정 할 필요 없이 정렬"
      ]
    },
    {
      "cell_type": "code",
      "metadata": {
        "colab": {
          "base_uri": "https://localhost:8080/"
        },
        "id": "NYl9eElHoJZ3",
        "outputId": "3f3da879-45f0-4904-9184-0f4a59039123"
      },
      "source": [
        "test_case = int(input())\n",
        "\n",
        "point_list = []\n",
        "for turn in range(test_case):\n",
        "  x, y = input().split(' ')\n",
        "  point_list.append((int(x), int(y)))\n",
        "\n",
        "point_list.sort()\n",
        "print(point_list)"
      ],
      "execution_count": 3,
      "outputs": [
        {
          "output_type": "stream",
          "text": [
            "5\n",
            "3 4\n",
            "1 1\n",
            "1 -1\n",
            "2 2\n",
            "3 3\n",
            "[(1, -1), (1, 1), (2, 2), (3, 3), (3, 4)]\n"
          ],
          "name": "stdout"
        }
      ]
    }
  ]
}