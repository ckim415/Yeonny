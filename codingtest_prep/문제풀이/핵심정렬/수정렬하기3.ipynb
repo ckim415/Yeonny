{
  "nbformat": 4,
  "nbformat_minor": 0,
  "metadata": {
    "colab": {
      "name": "수정렬하기3.ipynb",
      "provenance": [],
      "authorship_tag": "ABX9TyOLOddxTIZA4G58RS8iBnmD",
      "include_colab_link": true
    },
    "kernelspec": {
      "name": "python3",
      "display_name": "Python 3"
    },
    "language_info": {
      "name": "python"
    }
  },
  "cells": [
    {
      "cell_type": "markdown",
      "metadata": {
        "id": "view-in-github",
        "colab_type": "text"
      },
      "source": [
        "<a href=\"https://colab.research.google.com/github/ckim415/Yeonny/blob/master/codingtest_prep/%EB%AC%B8%EC%A0%9C%ED%92%80%EC%9D%B4/%ED%95%B5%EC%8B%AC%EC%A0%95%EB%A0%AC/%EC%88%98%EC%A0%95%EB%A0%AC%ED%95%98%EA%B8%B03.ipynb\" target=\"_parent\"><img src=\"https://colab.research.google.com/assets/colab-badge.svg\" alt=\"Open In Colab\"/></a>"
      ]
    },
    {
      "cell_type": "markdown",
      "metadata": {
        "id": "B9H-aruGpZVY"
      },
      "source": [
        "# 수정렬하기3\n",
        " - 백준 :10989\n",
        " - 데이터의 최대 갯수 N: 10,000,000\n",
        " - x 는 10000 이하의 숫자"
      ]
    },
    {
      "cell_type": "markdown",
      "metadata": {
        "id": "xWrtL3DFtHpj"
      },
      "source": [
        "# 내 문제 풀이\n",
        " - 기본적인 sort()의 시간 복잡도는 O(nlogn)이기 때문에 n이 커지면 커질수록 시간이 오래 걸림\n",
        " - 파이썬은 1초에 약 20,000,000개의 연산 가능"
      ]
    },
    {
      "cell_type": "code",
      "metadata": {
        "colab": {
          "base_uri": "https://localhost:8080/"
        },
        "id": "DYzndSfTpXBC",
        "outputId": "fe629ada-111e-4d85-e7e8-26c64eca67ca"
      },
      "source": [
        "alist = [5,2,3,1,4,2,3,5,1,7]\n",
        "alist = sorted(alist)\n",
        "print(alist)"
      ],
      "execution_count": 5,
      "outputs": [
        {
          "output_type": "stream",
          "text": [
            "[1, 1, 2, 2, 3, 3, 4, 5, 5, 7]\n"
          ],
          "name": "stdout"
        }
      ]
    },
    {
      "cell_type": "markdown",
      "metadata": {
        "id": "WTp4Xsb1uCJX"
      },
      "source": [
        "# 강의 문제풀이\n",
        " - 계수 정렬(counting sort) : x(수)의 범위가 제한적일때만 사용 가능\n",
        " - 시간 복잡도 : O(n) "
      ]
    },
    {
      "cell_type": "code",
      "metadata": {
        "colab": {
          "base_uri": "https://localhost:8080/"
        },
        "id": "l2_CRdhruBta",
        "outputId": "8f8ac146-46bd-46c8-e1cb-82f683a6cb6d"
      },
      "source": [
        "n = int(input())\n",
        "alist = [0 for i in range(n)]\n",
        "for i in range(n):\n",
        "  number = int(input())\n",
        "  alist[number] += 1\n",
        "\n",
        "print(alist)"
      ],
      "execution_count": 15,
      "outputs": [
        {
          "output_type": "stream",
          "text": [
            "10\n",
            "5\n",
            "2\n",
            "3\n",
            "1\n",
            "4\n",
            "2\n",
            "3\n",
            "5\n",
            "1\n",
            "7\n",
            "[0, 2, 2, 2, 1, 2, 0, 1, 0, 0]\n"
          ],
          "name": "stdout"
        }
      ]
    },
    {
      "cell_type": "code",
      "metadata": {
        "colab": {
          "base_uri": "https://localhost:8080/"
        },
        "id": "6SBiQmZJxVTq",
        "outputId": "c9e00cda-99c1-4d95-86ef-bfd3baa4af62"
      },
      "source": [
        "for i in range(len(alist)):\n",
        "  if alist[i] != 0:\n",
        "    for j in range(alist[i]):\n",
        "      print(i)  \n"
      ],
      "execution_count": 16,
      "outputs": [
        {
          "output_type": "stream",
          "text": [
            "1\n",
            "1\n",
            "2\n",
            "2\n",
            "3\n",
            "3\n",
            "4\n",
            "5\n",
            "5\n",
            "7\n"
          ],
          "name": "stdout"
        }
      ]
    },
    {
      "cell_type": "code",
      "metadata": {
        "id": "gtfuWCunDEr7"
      },
      "source": [
        "import sys"
      ],
      "execution_count": 17,
      "outputs": []
    },
    {
      "cell_type": "code",
      "metadata": {
        "colab": {
          "base_uri": "https://localhost:8080/",
          "height": 232
        },
        "id": "Q52NVDqDClFX",
        "outputId": "9137ac96-b014-472b-c54f-aec73d56cd01"
      },
      "source": [
        "n = int(sys.stdin.readline())\n",
        "array = [0] * 10001\n",
        "\n",
        "for i in range(N):\n",
        "  number = int(sys.stdin.readline())\n",
        "  array[number] +=1\n",
        "\n",
        "for i in range(10001):\n",
        "  if array[i] != 0:\n",
        "    for j in range(array[i]):\n",
        "      print(i)\n",
        "\n"
      ],
      "execution_count": 19,
      "outputs": [
        {
          "output_type": "error",
          "ename": "ValueError",
          "evalue": "ignored",
          "traceback": [
            "\u001b[0;31m---------------------------------------------------------------------------\u001b[0m",
            "\u001b[0;31mValueError\u001b[0m                                Traceback (most recent call last)",
            "\u001b[0;32m<ipython-input-19-48d9222644f5>\u001b[0m in \u001b[0;36m<module>\u001b[0;34m()\u001b[0m\n\u001b[0;32m----> 1\u001b[0;31m \u001b[0mn\u001b[0m \u001b[0;34m=\u001b[0m \u001b[0mint\u001b[0m\u001b[0;34m(\u001b[0m\u001b[0msys\u001b[0m\u001b[0;34m.\u001b[0m\u001b[0mstdin\u001b[0m\u001b[0;34m.\u001b[0m\u001b[0mreadline\u001b[0m\u001b[0;34m(\u001b[0m\u001b[0;34m)\u001b[0m\u001b[0;34m)\u001b[0m\u001b[0;34m\u001b[0m\u001b[0;34m\u001b[0m\u001b[0m\n\u001b[0m\u001b[1;32m      2\u001b[0m \u001b[0marray\u001b[0m \u001b[0;34m=\u001b[0m \u001b[0;34m[\u001b[0m\u001b[0;36m0\u001b[0m\u001b[0;34m]\u001b[0m \u001b[0;34m*\u001b[0m \u001b[0;36m10001\u001b[0m\u001b[0;34m\u001b[0m\u001b[0;34m\u001b[0m\u001b[0m\n\u001b[1;32m      3\u001b[0m \u001b[0;34m\u001b[0m\u001b[0m\n\u001b[1;32m      4\u001b[0m \u001b[0;32mfor\u001b[0m \u001b[0mi\u001b[0m \u001b[0;32min\u001b[0m \u001b[0mrange\u001b[0m\u001b[0;34m(\u001b[0m\u001b[0mN\u001b[0m\u001b[0;34m)\u001b[0m\u001b[0;34m:\u001b[0m\u001b[0;34m\u001b[0m\u001b[0;34m\u001b[0m\u001b[0m\n\u001b[1;32m      5\u001b[0m   \u001b[0mnumber\u001b[0m \u001b[0;34m=\u001b[0m \u001b[0mint\u001b[0m\u001b[0;34m(\u001b[0m\u001b[0msys\u001b[0m\u001b[0;34m.\u001b[0m\u001b[0mstdin\u001b[0m\u001b[0;34m.\u001b[0m\u001b[0mreadline\u001b[0m\u001b[0;34m(\u001b[0m\u001b[0;34m)\u001b[0m\u001b[0;34m)\u001b[0m\u001b[0;34m\u001b[0m\u001b[0;34m\u001b[0m\u001b[0m\n",
            "\u001b[0;31mValueError\u001b[0m: invalid literal for int() with base 10: ''"
          ]
        }
      ]
    }
  ]
}