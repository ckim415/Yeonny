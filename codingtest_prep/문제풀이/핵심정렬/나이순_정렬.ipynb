{
  "nbformat": 4,
  "nbformat_minor": 0,
  "metadata": {
    "colab": {
      "name": "나이순 정렬.ipynb",
      "provenance": [],
      "authorship_tag": "ABX9TyNGFypdgpIXEpOemBaNjZa4",
      "include_colab_link": true
    },
    "kernelspec": {
      "name": "python3",
      "display_name": "Python 3"
    },
    "language_info": {
      "name": "python"
    }
  },
  "cells": [
    {
      "cell_type": "markdown",
      "metadata": {
        "id": "view-in-github",
        "colab_type": "text"
      },
      "source": [
        "<a href=\"https://colab.research.google.com/github/ckim415/Yeonny/blob/master/codingtest_prep/%EB%AC%B8%EC%A0%9C%ED%92%80%EC%9D%B4/%ED%95%B5%EC%8B%AC%EC%A0%95%EB%A0%AC/%EB%82%98%EC%9D%B4%EC%88%9C_%EC%A0%95%EB%A0%AC.ipynb\" target=\"_parent\"><img src=\"https://colab.research.google.com/assets/colab-badge.svg\" alt=\"Open In Colab\"/></a>"
      ]
    },
    {
      "cell_type": "markdown",
      "metadata": {
        "id": "BloBmynoigb-"
      },
      "source": [
        "# 나이순 정렬\n",
        " - 백준 : 10814"
      ]
    },
    {
      "cell_type": "code",
      "metadata": {
        "colab": {
          "base_uri": "https://localhost:8080/"
        },
        "id": "c7VvZi6fic2U",
        "outputId": "40f75c2b-0c49-4a36-a195-2b3d362c6766"
      },
      "source": [
        "test_case = int(input())\n",
        "member_list = []\n",
        "for i in range(test_case):\n",
        "  age, name = input().split(' ')\n",
        "  age = int(age)\n",
        "  member_list.append((age, name))\n",
        "\n",
        "member_list.sort(key = lambda x: x[0])\n",
        "for i in member_list:\n",
        "  print(i[0], i[1])\n",
        "\n"
      ],
      "execution_count": 2,
      "outputs": [
        {
          "output_type": "stream",
          "text": [
            "3\n",
            "21 kim\n",
            "21 lee\n",
            "20 park\n",
            "20 park\n",
            "21 kim\n",
            "21 lee\n"
          ],
          "name": "stdout"
        }
      ]
    },
    {
      "cell_type": "code",
      "metadata": {
        "id": "WI-P2RG3lkjn"
      },
      "source": [
        "test_case = int(input())\n",
        "member_list = []\n",
        "for i in range(test_case):\n",
        "  age, name = input().split(' ')\n",
        "  member_list.append((int(age), name))\n",
        "\n",
        "member_list = sorted(member_list, key = lambda x: x[0])\n",
        " \n",
        "for i in member_list:\n",
        "  print(i[0], i[1])"
      ],
      "execution_count": null,
      "outputs": []
    }
  ]
}