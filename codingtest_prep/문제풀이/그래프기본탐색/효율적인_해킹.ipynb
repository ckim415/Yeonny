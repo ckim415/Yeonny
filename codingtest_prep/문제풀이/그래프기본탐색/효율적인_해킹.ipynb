{
  "nbformat": 4,
  "nbformat_minor": 0,
  "metadata": {
    "colab": {
      "name": "효율적인 해킹.ipynb",
      "provenance": [],
      "authorship_tag": "ABX9TyOGtbAITi1JbpoPk+EbXiG+",
      "include_colab_link": true
    },
    "kernelspec": {
      "name": "python3",
      "display_name": "Python 3"
    },
    "language_info": {
      "name": "python"
    }
  },
  "cells": [
    {
      "cell_type": "markdown",
      "metadata": {
        "id": "view-in-github",
        "colab_type": "text"
      },
      "source": [
        "<a href=\"https://colab.research.google.com/github/ckim415/Yeonny/blob/master/codingtest_prep/%EB%AC%B8%EC%A0%9C%ED%92%80%EC%9D%B4/%EA%B7%B8%EB%9E%98%ED%94%84%EA%B8%B0%EB%B3%B8%ED%83%90%EC%83%89/%ED%9A%A8%EC%9C%A8%EC%A0%81%EC%9D%B8_%ED%95%B4%ED%82%B9.ipynb\" target=\"_parent\"><img src=\"https://colab.research.google.com/assets/colab-badge.svg\" alt=\"Open In Colab\"/></a>"
      ]
    },
    {
      "cell_type": "markdown",
      "metadata": {
        "id": "GylVOiAFc3s7"
      },
      "source": [
        "# 효율적인 해킹\n",
        " - 백준 1325\n",
        " - ex\n",
        " \n",
        "\n",
        "3 1\n",
        "\n",
        "3 2\n",
        "\n",
        "4 3\n",
        "\n",
        "5 3"
      ]
    },
    {
      "cell_type": "code",
      "metadata": {
        "colab": {
          "base_uri": "https://localhost:8080/"
        },
        "id": "N-_UZ06jc_3c",
        "outputId": "3b94643c-04da-43e7-b378-c4447f5a643e"
      },
      "source": [
        "n,m = map(int, input().split())"
      ],
      "execution_count": 2,
      "outputs": [
        {
          "output_type": "stream",
          "text": [
            "5 4\n"
          ],
          "name": "stdout"
        }
      ]
    },
    {
      "cell_type": "code",
      "metadata": {
        "colab": {
          "base_uri": "https://localhost:8080/"
        },
        "id": "J5o9YjB8dGUu",
        "outputId": "bdf0bf6f-ffdc-4e15-b23a-6132fd5f6898"
      },
      "source": [
        "array = [[0] for i in range(n+1)]\n",
        "for i in range(m):\n",
        "  a,b = map(int, input().split())\n",
        "  array[b].append(a)"
      ],
      "execution_count": 7,
      "outputs": [
        {
          "output_type": "stream",
          "text": [
            "3 1\n",
            "3 2\n",
            "4 3\n",
            "5 3\n"
          ],
          "name": "stdout"
        }
      ]
    },
    {
      "cell_type": "code",
      "metadata": {
        "colab": {
          "base_uri": "https://localhost:8080/"
        },
        "id": "p2fAGcsldnvE",
        "outputId": "a6f4c525-68c3-4d67-a2a5-7ad95a1c72b9"
      },
      "source": [
        "array"
      ],
      "execution_count": 8,
      "outputs": [
        {
          "output_type": "execute_result",
          "data": {
            "text/plain": [
              "[[0], [0, 3], [0, 3], [0, 4, 5], [0], [0]]"
            ]
          },
          "metadata": {},
          "execution_count": 8
        }
      ]
    },
    {
      "cell_type": "code",
      "metadata": {
        "id": "_a4M8Lu-hRPT"
      },
      "source": [
        "from collections import deque"
      ],
      "execution_count": 10,
      "outputs": []
    },
    {
      "cell_type": "code",
      "metadata": {
        "id": "rVjD50H5d84D"
      },
      "source": [
        "def bfs(number):\n",
        "  q = deque([number])\n",
        "  visited = []\n",
        "  while q:\n",
        "    now = q.popleft()\n",
        "    visited.append(now)\n",
        "    if array[now]:\n",
        "      for e in array[now]:\n",
        "        if e == 0:\n",
        "          continue\n",
        "        q.append(e)\n",
        "  \n",
        "  return len(visited)\n"
      ],
      "execution_count": 11,
      "outputs": []
    },
    {
      "cell_type": "code",
      "metadata": {
        "colab": {
          "base_uri": "https://localhost:8080/"
        },
        "id": "RQ2FSVFRh7se",
        "outputId": "f9f4d5d6-3f0e-4a81-ec7c-d5721546de6f"
      },
      "source": [
        "answer = [0] * (n+1)\n",
        "for i in range(1, n+1):\n",
        "  answer[i] = bfs(i)\n",
        "\n",
        "answer"
      ],
      "execution_count": 12,
      "outputs": [
        {
          "output_type": "execute_result",
          "data": {
            "text/plain": [
              "[0, 4, 4, 3, 1, 1]"
            ]
          },
          "metadata": {},
          "execution_count": 12
        }
      ]
    },
    {
      "cell_type": "code",
      "metadata": {
        "colab": {
          "base_uri": "https://localhost:8080/"
        },
        "id": "04pWZXxhiGS6",
        "outputId": "fb1803dc-d258-44fc-e7b9-7542390adb48"
      },
      "source": [
        "max_ = max(answer)\n",
        "for i in range(1, n+1):\n",
        "  if answer[i] == max_:\n",
        "    print(i)\n",
        "  "
      ],
      "execution_count": 13,
      "outputs": [
        {
          "output_type": "stream",
          "text": [
            "1\n",
            "2\n"
          ],
          "name": "stdout"
        }
      ]
    }
  ]
}