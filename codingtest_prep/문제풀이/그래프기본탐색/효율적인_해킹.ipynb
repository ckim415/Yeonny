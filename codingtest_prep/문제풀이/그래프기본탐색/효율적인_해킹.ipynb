{
  "nbformat": 4,
  "nbformat_minor": 0,
  "metadata": {
    "colab": {
      "name": "효율적인 해킹.ipynb",
      "provenance": [],
      "authorship_tag": "ABX9TyOWmwneTQKjdBkarAfded9l",
      "include_colab_link": true
    },
    "kernelspec": {
      "name": "python3",
      "display_name": "Python 3"
    },
    "language_info": {
      "name": "python"
    }
  },
  "cells": [
    {
      "cell_type": "markdown",
      "metadata": {
        "id": "view-in-github",
        "colab_type": "text"
      },
      "source": [
        "<a href=\"https://colab.research.google.com/github/ckim415/Yeonny/blob/master/codingtest_prep/%EB%AC%B8%EC%A0%9C%ED%92%80%EC%9D%B4/%EA%B7%B8%EB%9E%98%ED%94%84%EA%B8%B0%EB%B3%B8%ED%83%90%EC%83%89/%ED%9A%A8%EC%9C%A8%EC%A0%81%EC%9D%B8_%ED%95%B4%ED%82%B9.ipynb\" target=\"_parent\"><img src=\"https://colab.research.google.com/assets/colab-badge.svg\" alt=\"Open In Colab\"/></a>"
      ]
    },
    {
      "cell_type": "markdown",
      "metadata": {
        "id": "GylVOiAFc3s7"
      },
      "source": [
        "# 효율적인 해킹\n",
        " - 백준 1325\n",
        " - ex\n",
        " \n",
        "\n",
        "3 1\n",
        "\n",
        "3 2\n",
        "\n",
        "4 3\n",
        "\n",
        "5 3"
      ]
    },
    {
      "cell_type": "markdown",
      "metadata": {
        "id": "CwAUB45jlavh"
      },
      "source": [
        "# 내 문제풀이"
      ]
    },
    {
      "cell_type": "code",
      "metadata": {
        "colab": {
          "base_uri": "https://localhost:8080/"
        },
        "id": "N-_UZ06jc_3c",
        "outputId": "3b94643c-04da-43e7-b378-c4447f5a643e"
      },
      "source": [
        "n,m = map(int, input().split())"
      ],
      "execution_count": null,
      "outputs": [
        {
          "output_type": "stream",
          "text": [
            "5 4\n"
          ],
          "name": "stdout"
        }
      ]
    },
    {
      "cell_type": "code",
      "metadata": {
        "colab": {
          "base_uri": "https://localhost:8080/"
        },
        "id": "J5o9YjB8dGUu",
        "outputId": "bdf0bf6f-ffdc-4e15-b23a-6132fd5f6898"
      },
      "source": [
        "array = [[0] for i in range(n+1)]\n",
        "for i in range(m):\n",
        "  a,b = map(int, input().split())\n",
        "  array[b].append(a)"
      ],
      "execution_count": null,
      "outputs": [
        {
          "output_type": "stream",
          "text": [
            "3 1\n",
            "3 2\n",
            "4 3\n",
            "5 3\n"
          ],
          "name": "stdout"
        }
      ]
    },
    {
      "cell_type": "code",
      "metadata": {
        "colab": {
          "base_uri": "https://localhost:8080/"
        },
        "id": "p2fAGcsldnvE",
        "outputId": "a6f4c525-68c3-4d67-a2a5-7ad95a1c72b9"
      },
      "source": [
        "array"
      ],
      "execution_count": null,
      "outputs": [
        {
          "output_type": "execute_result",
          "data": {
            "text/plain": [
              "[[0], [0, 3], [0, 3], [0, 4, 5], [0], [0]]"
            ]
          },
          "metadata": {},
          "execution_count": 8
        }
      ]
    },
    {
      "cell_type": "code",
      "metadata": {
        "id": "_a4M8Lu-hRPT"
      },
      "source": [
        "from collections import deque"
      ],
      "execution_count": null,
      "outputs": []
    },
    {
      "cell_type": "code",
      "metadata": {
        "id": "rVjD50H5d84D"
      },
      "source": [
        "def bfs(number):\n",
        "  q = deque([number])\n",
        "  visited = []\n",
        "  \n",
        "  while q:\n",
        "    now = q.popleft()\n",
        "    visited.append(now)\n",
        "    if array[now]:\n",
        "      for e in array[now]:\n",
        "        if e == 0:\n",
        "          continue\n",
        "        q.append(e)\n",
        "  \n",
        "  return len(visited)\n"
      ],
      "execution_count": null,
      "outputs": []
    },
    {
      "cell_type": "code",
      "metadata": {
        "colab": {
          "base_uri": "https://localhost:8080/"
        },
        "id": "RQ2FSVFRh7se",
        "outputId": "f9f4d5d6-3f0e-4a81-ec7c-d5721546de6f"
      },
      "source": [
        "answer = [0] * (n+1)\n",
        "for i in range(1, n+1):\n",
        "  answer[i] = bfs(i)\n",
        "\n",
        "answer"
      ],
      "execution_count": null,
      "outputs": [
        {
          "output_type": "execute_result",
          "data": {
            "text/plain": [
              "[0, 4, 4, 3, 1, 1]"
            ]
          },
          "metadata": {},
          "execution_count": 12
        }
      ]
    },
    {
      "cell_type": "code",
      "metadata": {
        "colab": {
          "base_uri": "https://localhost:8080/"
        },
        "id": "04pWZXxhiGS6",
        "outputId": "fb1803dc-d258-44fc-e7b9-7542390adb48"
      },
      "source": [
        "max_ = max(answer)\n",
        "for i in range(1, n+1):\n",
        "  if answer[i] == max_:\n",
        "    print(i)\n",
        "  "
      ],
      "execution_count": null,
      "outputs": [
        {
          "output_type": "stream",
          "text": [
            "1\n",
            "2\n"
          ],
          "name": "stdout"
        }
      ]
    },
    {
      "cell_type": "markdown",
      "metadata": {
        "id": "X9CyfYYKpYeI"
      },
      "source": [
        "## 보완"
      ]
    },
    {
      "cell_type": "code",
      "metadata": {
        "id": "GdJ_99VDpXyd"
      },
      "source": [
        "def bfs(number):\n",
        "  q = deque([number])\n",
        "  visited = [False] * (n+1)\n",
        "  count = 1\n",
        "  while q:\n",
        "    now = q.popleft()\n",
        "    if not visited[now]:\n",
        "      visited.append(now)\n",
        "    \n",
        "    if array[now]:\n",
        "      for e in array[now]:\n",
        "        if not visited[e]:\n",
        "          q.append(e)\n",
        "          count += 1\n",
        "\n",
        "  return count"
      ],
      "execution_count": null,
      "outputs": []
    },
    {
      "cell_type": "code",
      "metadata": {
        "colab": {
          "base_uri": "https://localhost:8080/"
        },
        "id": "HSzw3WfRqEyw",
        "outputId": "c1a434dd-fda4-4707-b620-1b1aae89d0db"
      },
      "source": [
        "answer = [0] * (n + 1)\n",
        "for i in range(1, n + 1):\n",
        "  answer[i] = bfs(i)\n",
        "answer"
      ],
      "execution_count": null,
      "outputs": [
        {
          "output_type": "execute_result",
          "data": {
            "text/plain": [
              "[0, 4, 4, 3, 1, 1]"
            ]
          },
          "metadata": {},
          "execution_count": 29
        }
      ]
    },
    {
      "cell_type": "markdown",
      "metadata": {
        "id": "Ne43RFKNlW26"
      },
      "source": [
        "# 강의 문제 풀이\n",
        " - input 부분은 똑같이\n"
      ]
    },
    {
      "cell_type": "code",
      "metadata": {
        "colab": {
          "base_uri": "https://localhost:8080/"
        },
        "id": "ijytGST0lilK",
        "outputId": "6dde9de8-a7dd-476a-aedb-838a75d0e473"
      },
      "source": [
        "array = [[] for i in range(n+1)]\n",
        "for i in range(m):\n",
        "  a,b = map(int, input().split())\n",
        "  array[b].append(a)\n",
        "array"
      ],
      "execution_count": null,
      "outputs": [
        {
          "output_type": "stream",
          "text": [
            "3 1\n",
            "3 2\n",
            "4 3\n",
            "5 3\n"
          ],
          "name": "stdout"
        },
        {
          "output_type": "execute_result",
          "data": {
            "text/plain": [
              "[[], [3], [3], [4, 5], [], []]"
            ]
          },
          "metadata": {},
          "execution_count": 14
        }
      ]
    },
    {
      "cell_type": "code",
      "metadata": {
        "id": "nyxOqb1slyev"
      },
      "source": [
        "def bfs(n):\n",
        "  q = deque([n])\n",
        "  visited = [False] * (n + 1)\n",
        "  visited[n] = True\n",
        "  count = 1\n",
        "  while q:\n",
        "    now = q.popleft()\n",
        "    if array[now]:\n",
        "      for e in array[now]:\n",
        "        if not visited[e]:\n",
        "          q.append(e)\n",
        "          visited[e] = True\n",
        "          count += 1\n",
        "  return count"
      ],
      "execution_count": null,
      "outputs": []
    },
    {
      "cell_type": "code",
      "metadata": {
        "colab": {
          "base_uri": "https://localhost:8080/",
          "height": 357
        },
        "id": "iOVa2VvlmYq0",
        "outputId": "8ba8de5f-2ec1-4f6e-9af8-525377ebdc9e"
      },
      "source": [
        "result = []\n",
        "max_val = -1\n",
        "for i in range(1, n+1):\n",
        "  c = bfs(i)\n",
        "  if c > max_val:\n",
        "    max_val = c\n",
        "  elif c == max_val:\n",
        "    result.append(i)\n",
        "    max_val = c\n",
        "for i in result:\n",
        "  print(i)"
      ],
      "execution_count": null,
      "outputs": [
        {
          "output_type": "error",
          "ename": "IndexError",
          "evalue": "ignored",
          "traceback": [
            "\u001b[0;31m---------------------------------------------------------------------------\u001b[0m",
            "\u001b[0;31mIndexError\u001b[0m                                Traceback (most recent call last)",
            "\u001b[0;32m<ipython-input-27-e2a579bd5624>\u001b[0m in \u001b[0;36m<module>\u001b[0;34m()\u001b[0m\n\u001b[1;32m      2\u001b[0m \u001b[0mmax_val\u001b[0m \u001b[0;34m=\u001b[0m \u001b[0;34m-\u001b[0m\u001b[0;36m1\u001b[0m\u001b[0;34m\u001b[0m\u001b[0;34m\u001b[0m\u001b[0m\n\u001b[1;32m      3\u001b[0m \u001b[0;32mfor\u001b[0m \u001b[0mi\u001b[0m \u001b[0;32min\u001b[0m \u001b[0mrange\u001b[0m\u001b[0;34m(\u001b[0m\u001b[0;36m1\u001b[0m\u001b[0;34m,\u001b[0m \u001b[0mn\u001b[0m\u001b[0;34m+\u001b[0m\u001b[0;36m1\u001b[0m\u001b[0;34m)\u001b[0m\u001b[0;34m:\u001b[0m\u001b[0;34m\u001b[0m\u001b[0;34m\u001b[0m\u001b[0m\n\u001b[0;32m----> 4\u001b[0;31m   \u001b[0mc\u001b[0m \u001b[0;34m=\u001b[0m \u001b[0mbfs\u001b[0m\u001b[0;34m(\u001b[0m\u001b[0mi\u001b[0m\u001b[0;34m)\u001b[0m\u001b[0;34m\u001b[0m\u001b[0;34m\u001b[0m\u001b[0m\n\u001b[0m\u001b[1;32m      5\u001b[0m   \u001b[0;32mif\u001b[0m \u001b[0mc\u001b[0m \u001b[0;34m>\u001b[0m \u001b[0mmax_val\u001b[0m\u001b[0;34m:\u001b[0m\u001b[0;34m\u001b[0m\u001b[0;34m\u001b[0m\u001b[0m\n\u001b[1;32m      6\u001b[0m     \u001b[0mmax_val\u001b[0m \u001b[0;34m=\u001b[0m \u001b[0mc\u001b[0m\u001b[0;34m\u001b[0m\u001b[0;34m\u001b[0m\u001b[0m\n",
            "\u001b[0;32m<ipython-input-26-b5f7b8b58cbb>\u001b[0m in \u001b[0;36mbfs\u001b[0;34m(n)\u001b[0m\n\u001b[1;32m      8\u001b[0m     \u001b[0;32mif\u001b[0m \u001b[0marray\u001b[0m\u001b[0;34m[\u001b[0m\u001b[0mnow\u001b[0m\u001b[0;34m]\u001b[0m\u001b[0;34m:\u001b[0m\u001b[0;34m\u001b[0m\u001b[0;34m\u001b[0m\u001b[0m\n\u001b[1;32m      9\u001b[0m       \u001b[0;32mfor\u001b[0m \u001b[0me\u001b[0m \u001b[0;32min\u001b[0m \u001b[0marray\u001b[0m\u001b[0;34m[\u001b[0m\u001b[0mnow\u001b[0m\u001b[0;34m]\u001b[0m\u001b[0;34m:\u001b[0m\u001b[0;34m\u001b[0m\u001b[0;34m\u001b[0m\u001b[0m\n\u001b[0;32m---> 10\u001b[0;31m         \u001b[0;32mif\u001b[0m \u001b[0;32mnot\u001b[0m \u001b[0mvisited\u001b[0m\u001b[0;34m[\u001b[0m\u001b[0me\u001b[0m\u001b[0;34m]\u001b[0m\u001b[0;34m:\u001b[0m\u001b[0;34m\u001b[0m\u001b[0;34m\u001b[0m\u001b[0m\n\u001b[0m\u001b[1;32m     11\u001b[0m           \u001b[0mq\u001b[0m\u001b[0;34m.\u001b[0m\u001b[0mappend\u001b[0m\u001b[0;34m(\u001b[0m\u001b[0me\u001b[0m\u001b[0;34m)\u001b[0m\u001b[0;34m\u001b[0m\u001b[0;34m\u001b[0m\u001b[0m\n\u001b[1;32m     12\u001b[0m           \u001b[0mvisited\u001b[0m\u001b[0;34m[\u001b[0m\u001b[0me\u001b[0m\u001b[0;34m]\u001b[0m \u001b[0;34m=\u001b[0m \u001b[0;32mTrue\u001b[0m\u001b[0;34m\u001b[0m\u001b[0;34m\u001b[0m\u001b[0m\n",
            "\u001b[0;31mIndexError\u001b[0m: list index out of range"
          ]
        }
      ]
    },
    {
      "cell_type": "markdown",
      "metadata": {
        "id": "CvKedE5p-MQg"
      },
      "source": [
        "# 복기\n",
        " - bfs"
      ]
    },
    {
      "cell_type": "code",
      "metadata": {
        "id": "YhekFgw--tYc"
      },
      "source": [
        "from collections import deque"
      ],
      "execution_count": 1,
      "outputs": []
    },
    {
      "cell_type": "code",
      "metadata": {
        "colab": {
          "base_uri": "https://localhost:8080/"
        },
        "id": "ngO_fkMv-OMR",
        "outputId": "6ab26def-8c87-4ea3-db28-b27cda78e5ed"
      },
      "source": [
        "n,m = map(int, input().split())\n",
        "graph = [[] for _ in range(n+1)]\n",
        "for _ in range(m):\n",
        "  a,b = map(int, input().split())\n",
        "  graph[b].append(a)\n",
        "\n",
        "array = [1] * (n+1)\n",
        "visited = [False] * (n+1)\n",
        "q = deque([1])\n",
        "visited[1] = True\n",
        "while q:\n",
        "  now = q.popleft()\n",
        "  for next in graph[now]:\n",
        "    if not visited[next]:\n",
        "      q.append(next)\n",
        "      visited[next] = True\n",
        "      array[now] += array[next]+1\n"
      ],
      "execution_count": 6,
      "outputs": [
        {
          "name": "stdout",
          "output_type": "stream",
          "text": [
            "5 4\n",
            "3 1\n",
            "3 2\n",
            "4 3\n",
            "5 3\n"
          ]
        }
      ]
    },
    {
      "cell_type": "code",
      "metadata": {
        "colab": {
          "base_uri": "https://localhost:8080/"
        },
        "id": "TE4d4N3SAhvO",
        "outputId": "f5c9a251-7eb4-4f41-9a17-3933cf484dd7"
      },
      "source": [
        "graph"
      ],
      "execution_count": 12,
      "outputs": [
        {
          "output_type": "execute_result",
          "data": {
            "text/plain": [
              "[[], [3], [3], [4, 5], [], []]"
            ]
          },
          "metadata": {},
          "execution_count": 12
        }
      ]
    },
    {
      "cell_type": "code",
      "metadata": {
        "id": "eBhXtsFiANKT"
      },
      "source": [
        "array = [1] * (n+1)\n",
        "visited = [False] * (n+1)\n",
        "q = deque([1])\n",
        "visited[1] = True\n",
        "while q:\n",
        "  now = q.popleft()\n",
        "  for next in graph[now]:\n",
        "    if not visited[next]:\n",
        "      q.append(next)\n",
        "      visited[next] = True\n",
        "      array[next] += array[now]"
      ],
      "execution_count": 26,
      "outputs": []
    },
    {
      "cell_type": "code",
      "metadata": {
        "colab": {
          "base_uri": "https://localhost:8080/"
        },
        "id": "rjwz3lfB_ooz",
        "outputId": "3e85d9eb-b5c8-4790-8586-df0c96329ff7"
      },
      "source": [
        "array.reverse()\n",
        "array"
      ],
      "execution_count": 27,
      "outputs": [
        {
          "output_type": "execute_result",
          "data": {
            "text/plain": [
              "[3, 3, 2, 1, 1, 1]"
            ]
          },
          "metadata": {},
          "execution_count": 27
        }
      ]
    },
    {
      "cell_type": "code",
      "metadata": {
        "colab": {
          "base_uri": "https://localhost:8080/"
        },
        "id": "HHgwyD5MBlyx",
        "outputId": "f0b972fc-2318-4a28-f42c-dfa6bb9124d7"
      },
      "source": [
        "max_ = max(array)\n",
        "answer = []\n",
        "for i,v in enumerate(array):\n",
        "  if v == max_:\n",
        "    answer.append(i+1)\n",
        "\n",
        "for i in answer:\n",
        "  print(i, end = ' ')\n",
        "\n"
      ],
      "execution_count": 21,
      "outputs": [
        {
          "output_type": "stream",
          "name": "stdout",
          "text": [
            "1 2 "
          ]
        }
      ]
    },
    {
      "cell_type": "code",
      "metadata": {
        "colab": {
          "base_uri": "https://localhost:8080/"
        },
        "id": "ZgUBMFnVD9YJ",
        "outputId": "05f33b51-f13e-4de7-c770-ba5ba022f229"
      },
      "source": [
        "def bfs(start):\n",
        "  visited = [False] * (n+1)\n",
        "  q = deque([start])\n",
        "  visited[start] = True\n",
        "  count =1\n",
        "  while q:\n",
        "    now = q.popleft()\n",
        "    for next in graph[now]:\n",
        "      if not visited[next]:\n",
        "        q.append(next)\n",
        "        visited[next] = True\n",
        "        count += 1\n",
        "  return count\n",
        "\n",
        "answer = []\n",
        "max_ = -1\n",
        "for i in range(1, n+1):\n",
        "  c = bfs(i)\n",
        "  if c > max_:\n",
        "    answer = [i]\n",
        "    max_ = c\n",
        "  elif c == max_:\n",
        "    answer.append(i)\n",
        "    max_ = c\n",
        "\n",
        "for i in answer:\n",
        "  print(i, end = ' ')"
      ],
      "execution_count": 29,
      "outputs": [
        {
          "output_type": "stream",
          "name": "stdout",
          "text": [
            "1 2 "
          ]
        }
      ]
    }
  ]
}