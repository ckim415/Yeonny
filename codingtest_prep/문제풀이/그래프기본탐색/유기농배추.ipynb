{
  "nbformat": 4,
  "nbformat_minor": 0,
  "metadata": {
    "colab": {
      "name": "유기농배추.ipynb",
      "provenance": [],
      "toc_visible": true,
      "authorship_tag": "ABX9TyNRjMqXKzJtKe6gIhGrJmyJ",
      "include_colab_link": true
    },
    "kernelspec": {
      "name": "python3",
      "display_name": "Python 3"
    },
    "language_info": {
      "name": "python"
    }
  },
  "cells": [
    {
      "cell_type": "markdown",
      "metadata": {
        "id": "view-in-github",
        "colab_type": "text"
      },
      "source": [
        "<a href=\"https://colab.research.google.com/github/ckim415/Yeonny/blob/master/codingtest_prep/%EB%AC%B8%EC%A0%9C%ED%92%80%EC%9D%B4/%EA%B7%B8%EB%9E%98%ED%94%84%EA%B8%B0%EB%B3%B8%ED%83%90%EC%83%89/%EC%9C%A0%EA%B8%B0%EB%86%8D%EB%B0%B0%EC%B6%94.ipynb\" target=\"_parent\"><img src=\"https://colab.research.google.com/assets/colab-badge.svg\" alt=\"Open In Colab\"/></a>"
      ]
    },
    {
      "cell_type": "markdown",
      "metadata": {
        "id": "3lmqFLfI43O3"
      },
      "source": [
        "# 유기농 배추\n",
        " - 백준 1012\n",
        " -  ex\n",
        " \n",
        " 2\n",
        "\n",
        "10 8 17\n",
        "\n",
        "0 0\n",
        "\n",
        "1 0\n",
        "\n",
        "1 1\n",
        "\n",
        "4 2\n",
        "\n",
        "4 3\n",
        "\n",
        "4 5\n",
        "\n",
        "2 4\n",
        "\n",
        "3 4\n",
        "\n",
        "7 4\n",
        "\n",
        "8 4\n",
        "\n",
        "9 4\n",
        "\n",
        "7 5\n",
        "\n",
        "8 5\n",
        "\n",
        "9 5\n",
        "\n",
        "7 6\n",
        "\n",
        "8 6\n",
        "\n",
        "9 6\n",
        "\n",
        "10 10 1\n",
        "\n",
        "5 5"
      ]
    },
    {
      "cell_type": "markdown",
      "metadata": {
        "id": "TERd4GERMjVz"
      },
      "source": [
        "# 강의 문제 풀이\n"
      ]
    },
    {
      "cell_type": "code",
      "metadata": {
        "colab": {
          "base_uri": "https://localhost:8080/"
        },
        "id": "Lk4A17HW41cq",
        "outputId": "36af5f48-70df-43dc-a9e7-b3c48be01105"
      },
      "source": [
        "m,n,k = map(int, input().split())"
      ],
      "execution_count": 1,
      "outputs": [
        {
          "output_type": "stream",
          "text": [
            "10 8 17\n"
          ],
          "name": "stdout"
        }
      ]
    },
    {
      "cell_type": "code",
      "metadata": {
        "colab": {
          "base_uri": "https://localhost:8080/"
        },
        "id": "2cTNEAPP-r2y",
        "outputId": "bcd855f3-5e0b-4a54-e8d4-adea626911a7"
      },
      "source": [
        "array = [[0]*m for i in range(n)]\n",
        "\n",
        "for i in range(k):\n",
        "  x,y = map(int, input().split())\n",
        "  array[y][x] = 1"
      ],
      "execution_count": 10,
      "outputs": [
        {
          "output_type": "stream",
          "text": [
            "0 0\n",
            "1 0\n",
            "1 1\n",
            "4 2\n",
            "4 3\n",
            "4 5\n",
            "2 4\n",
            "3 4\n",
            "7 4\n",
            "8 4\n",
            "9 4\n",
            "7 5\n",
            "8 5\n",
            "9 5\n",
            "7 6\n",
            "8 6\n",
            "9 6\n"
          ],
          "name": "stdout"
        }
      ]
    },
    {
      "cell_type": "code",
      "metadata": {
        "colab": {
          "base_uri": "https://localhost:8080/"
        },
        "id": "SDdkXOhs_Sag",
        "outputId": "6097e7ef-e90d-464b-e53d-e1d026892db3"
      },
      "source": [
        "array"
      ],
      "execution_count": 11,
      "outputs": [
        {
          "output_type": "execute_result",
          "data": {
            "text/plain": [
              "[[1, 1, 0, 0, 0, 0, 0, 0, 0, 0],\n",
              " [0, 1, 0, 0, 0, 0, 0, 0, 0, 0],\n",
              " [0, 0, 0, 0, 1, 0, 0, 0, 0, 0],\n",
              " [0, 0, 0, 0, 1, 0, 0, 0, 0, 0],\n",
              " [0, 0, 1, 1, 0, 0, 0, 1, 1, 1],\n",
              " [0, 0, 0, 0, 1, 0, 0, 1, 1, 1],\n",
              " [0, 0, 0, 0, 0, 0, 0, 1, 1, 1],\n",
              " [0, 0, 0, 0, 0, 0, 0, 0, 0, 0]]"
            ]
          },
          "metadata": {},
          "execution_count": 11
        }
      ]
    },
    {
      "cell_type": "code",
      "metadata": {
        "colab": {
          "base_uri": "https://localhost:8080/"
        },
        "id": "7dhzYv25KCxA",
        "outputId": "4c499972-4dd1-4b32-aa20-419dce659de2"
      },
      "source": [
        "visited = [[False]*m for i in range(n)]\n",
        "visited"
      ],
      "execution_count": 26,
      "outputs": [
        {
          "output_type": "execute_result",
          "data": {
            "text/plain": [
              "[[False, False, False, False, False, False, False, False, False, False],\n",
              " [False, False, False, False, False, False, False, False, False, False],\n",
              " [False, False, False, False, False, False, False, False, False, False],\n",
              " [False, False, False, False, False, False, False, False, False, False],\n",
              " [False, False, False, False, False, False, False, False, False, False],\n",
              " [False, False, False, False, False, False, False, False, False, False],\n",
              " [False, False, False, False, False, False, False, False, False, False],\n",
              " [False, False, False, False, False, False, False, False, False, False]]"
            ]
          },
          "metadata": {},
          "execution_count": 26
        }
      ]
    },
    {
      "cell_type": "code",
      "metadata": {
        "id": "wUdIAW_5CPXg"
      },
      "source": [
        "def dfs(x, y):\n",
        "  visited[x][y] = True\n",
        "  directions = [(-1,0),(1,0),(0,-1),(0,1)]\n",
        "  for dx, dy in directions:\n",
        "    new_x, new_y = x+dx, y+dy\n",
        "    if new_x < 0 or new_x >= n or new_y < 0 or new_y >= m:\n",
        "      continue\n",
        "    if array[new_x][new_y] and not visited[new_x][new_y]:\n",
        "      dfs(new_x, new_y) \n",
        "  \n",
        "\n",
        "   "
      ],
      "execution_count": 23,
      "outputs": []
    },
    {
      "cell_type": "code",
      "metadata": {
        "colab": {
          "base_uri": "https://localhost:8080/"
        },
        "id": "XcNj2zWzK24f",
        "outputId": "9682910c-2386-406a-9c0a-8099ef12dbde"
      },
      "source": [
        "result = 0\n",
        "for i in range(n):\n",
        "  for j in range(m):\n",
        "    if array[i][j] and not visited[i][j]:\n",
        "      dfs(i,j)\n",
        "      for a in visited:\n",
        "        print(a)\n",
        "      print('*'*20)\n",
        "      result += 1"
      ],
      "execution_count": 27,
      "outputs": [
        {
          "output_type": "stream",
          "text": [
            "[True, True, False, False, False, False, False, False, False, False]\n",
            "[False, True, False, False, False, False, False, False, False, False]\n",
            "[False, False, False, False, False, False, False, False, False, False]\n",
            "[False, False, False, False, False, False, False, False, False, False]\n",
            "[False, False, False, False, False, False, False, False, False, False]\n",
            "[False, False, False, False, False, False, False, False, False, False]\n",
            "[False, False, False, False, False, False, False, False, False, False]\n",
            "[False, False, False, False, False, False, False, False, False, False]\n",
            "********************\n",
            "[True, True, False, False, False, False, False, False, False, False]\n",
            "[False, True, False, False, False, False, False, False, False, False]\n",
            "[False, False, False, False, True, False, False, False, False, False]\n",
            "[False, False, False, False, True, False, False, False, False, False]\n",
            "[False, False, False, False, False, False, False, False, False, False]\n",
            "[False, False, False, False, False, False, False, False, False, False]\n",
            "[False, False, False, False, False, False, False, False, False, False]\n",
            "[False, False, False, False, False, False, False, False, False, False]\n",
            "********************\n",
            "[True, True, False, False, False, False, False, False, False, False]\n",
            "[False, True, False, False, False, False, False, False, False, False]\n",
            "[False, False, False, False, True, False, False, False, False, False]\n",
            "[False, False, False, False, True, False, False, False, False, False]\n",
            "[False, False, True, True, False, False, False, False, False, False]\n",
            "[False, False, False, False, False, False, False, False, False, False]\n",
            "[False, False, False, False, False, False, False, False, False, False]\n",
            "[False, False, False, False, False, False, False, False, False, False]\n",
            "********************\n",
            "[True, True, False, False, False, False, False, False, False, False]\n",
            "[False, True, False, False, False, False, False, False, False, False]\n",
            "[False, False, False, False, True, False, False, False, False, False]\n",
            "[False, False, False, False, True, False, False, False, False, False]\n",
            "[False, False, True, True, False, False, False, True, True, True]\n",
            "[False, False, False, False, False, False, False, True, True, True]\n",
            "[False, False, False, False, False, False, False, True, True, True]\n",
            "[False, False, False, False, False, False, False, False, False, False]\n",
            "********************\n",
            "[True, True, False, False, False, False, False, False, False, False]\n",
            "[False, True, False, False, False, False, False, False, False, False]\n",
            "[False, False, False, False, True, False, False, False, False, False]\n",
            "[False, False, False, False, True, False, False, False, False, False]\n",
            "[False, False, True, True, False, False, False, True, True, True]\n",
            "[False, False, False, False, True, False, False, True, True, True]\n",
            "[False, False, False, False, False, False, False, True, True, True]\n",
            "[False, False, False, False, False, False, False, False, False, False]\n",
            "********************\n"
          ],
          "name": "stdout"
        }
      ]
    },
    {
      "cell_type": "markdown",
      "metadata": {
        "id": "BAITu25JOlfM"
      },
      "source": [
        "## 백준이 원하는 답"
      ]
    },
    {
      "cell_type": "code",
      "metadata": {
        "colab": {
          "base_uri": "https://localhost:8080/"
        },
        "id": "9FUkIzJyOlKW",
        "outputId": "6356f610-897c-46c8-95d9-eb88935f62ec"
      },
      "source": [
        "def dfs(x,y):\n",
        "  visited[x][y] = True\n",
        "  directions = [(-1,0),(1,0),(0,-1),(0,1)]\n",
        "  for dx,dy in directions:\n",
        "    new_x, new_y = x + dx, y + dy\n",
        "    if new_x < 0 or new_x >= n or new_y < 0 or new_y >= m:\n",
        "      continue\n",
        "    if array[new_x][new_y] and not visited[new_x][new_y]:\n",
        "      dfs(new_x,new_y)\n",
        "\n",
        "test_case = int(input())\n",
        "for i in range(test_case):\n",
        "  m,n,k = map(int, input().split())\n",
        "  array = [[0]*m for i in range(n)]\n",
        "  visited = [[False] * m for i in range(n)]\n",
        "\n",
        "  for i in range(k):\n",
        "    y,x = map(int, input().split())\n",
        "    array[x][y] = 1\n",
        "\n",
        "  result = 0  \n",
        "  for i in range(n):\n",
        "    for j in range(m):\n",
        "      if array[i][j] and not visited[i][j]:\n",
        "        dfs(i,j)\n",
        "        result += 1\n",
        "\n",
        "  print('answer', result)\n"
      ],
      "execution_count": 28,
      "outputs": [
        {
          "output_type": "stream",
          "text": [
            "2\n",
            "10 8 17\n",
            "0 0\n",
            "1 0\n",
            "1 1\n",
            "4 2\n",
            "4 3\n",
            "4 5\n",
            "2 4\n",
            "3 4\n",
            "7 4\n",
            "8 4\n",
            "9 4\n",
            "7 5\n",
            "8 5\n",
            "9 5\n",
            "7 6\n",
            "8 6\n",
            "9 6\n",
            "5\n",
            "10 10 1\n",
            "5 5\n",
            "1\n"
          ],
          "name": "stdout"
        }
      ]
    }
  ]
}