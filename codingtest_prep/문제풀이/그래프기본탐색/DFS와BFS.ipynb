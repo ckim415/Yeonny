{
  "nbformat": 4,
  "nbformat_minor": 0,
  "metadata": {
    "colab": {
      "name": "DFS와BFS.ipynb",
      "provenance": [],
      "authorship_tag": "ABX9TyP+lG79PczqBA8bdYzTXZJL",
      "include_colab_link": true
    },
    "kernelspec": {
      "name": "python3",
      "display_name": "Python 3"
    },
    "language_info": {
      "name": "python"
    }
  },
  "cells": [
    {
      "cell_type": "markdown",
      "metadata": {
        "id": "view-in-github",
        "colab_type": "text"
      },
      "source": [
        "<a href=\"https://colab.research.google.com/github/ckim415/Yeonny/blob/master/codingtest_prep/%EB%AC%B8%EC%A0%9C%ED%92%80%EC%9D%B4/%EA%B7%B8%EB%9E%98%ED%94%84%EA%B8%B0%EB%B3%B8%ED%83%90%EC%83%89/DFS%EC%99%80BFS.ipynb\" target=\"_parent\"><img src=\"https://colab.research.google.com/assets/colab-badge.svg\" alt=\"Open In Colab\"/></a>"
      ]
    },
    {
      "cell_type": "code",
      "metadata": {
        "colab": {
          "base_uri": "https://localhost:8080/"
        },
        "id": "pY-ootN4SzGN",
        "outputId": "7c91be6b-08f4-40b5-c673-74adb5c009f1"
      },
      "source": [
        "n,m,start_node = map(int, input().split())"
      ],
      "execution_count": 1,
      "outputs": [
        {
          "output_type": "stream",
          "text": [
            "4 5 1\n"
          ],
          "name": "stdout"
        }
      ]
    },
    {
      "cell_type": "code",
      "metadata": {
        "id": "WzaUGPCVTTeB"
      },
      "source": [
        "from collections import defaultdict"
      ],
      "execution_count": 3,
      "outputs": []
    },
    {
      "cell_type": "code",
      "metadata": {
        "colab": {
          "base_uri": "https://localhost:8080/"
        },
        "id": "q_Llet6vTMiP",
        "outputId": "054abd3c-2f49-4f51-cbc9-cb228b5fd871"
      },
      "source": [
        "graph = defaultdict(list)\n",
        "for i in range(m):\n",
        "  a, b = map(int, input().split())\n",
        "  graph[a].append(b)\n",
        "  graph[b].append(a)\n",
        "\n",
        "graph"
      ],
      "execution_count": 5,
      "outputs": [
        {
          "output_type": "stream",
          "text": [
            "1 2\n",
            "1 3\n",
            "1 4\n",
            "2 4\n",
            "3 4\n"
          ],
          "name": "stdout"
        },
        {
          "output_type": "execute_result",
          "data": {
            "text/plain": [
              "defaultdict(list, {1: [2, 3, 4], 2: [1, 4], 3: [1, 4], 4: [1, 2, 3]})"
            ]
          },
          "metadata": {},
          "execution_count": 5
        }
      ]
    },
    {
      "cell_type": "code",
      "metadata": {
        "id": "7cemKForUrxM"
      },
      "source": [
        "def bfs(graph, node):\n",
        "  queue = []\n",
        "  visited = []\n",
        "  queue.append(node)\n",
        "  while queue:\n",
        "    current_node = queue.pop(0)\n",
        "    if current_node not in visited:\n",
        "      visited.append(current_node)\n",
        "      queue.extend(graph[current_node])\n",
        "  return visited"
      ],
      "execution_count": 11,
      "outputs": []
    },
    {
      "cell_type": "code",
      "metadata": {
        "colab": {
          "base_uri": "https://localhost:8080/"
        },
        "id": "c3RIRjgTWLWY",
        "outputId": "25ac085e-5904-48a1-970c-948ce9d4f410"
      },
      "source": [
        "bfs(graph, 1)"
      ],
      "execution_count": 12,
      "outputs": [
        {
          "output_type": "execute_result",
          "data": {
            "text/plain": [
              "[1, 2, 3, 4]"
            ]
          },
          "metadata": {},
          "execution_count": 12
        }
      ]
    },
    {
      "cell_type": "code",
      "metadata": {
        "id": "JDJHp_pBWWfy"
      },
      "source": [
        "def dfs(graph, node):\n",
        "  queue = []\n",
        "  visited = []\n",
        "  queue.append(node)\n",
        "  while queue:\n",
        "    current_node = queue.pop()\n",
        "    if current_node not in visited:\n",
        "      visited.append(current_node)\n",
        "      queue.extend(graph[current_node])\n",
        "  return visited"
      ],
      "execution_count": 13,
      "outputs": []
    },
    {
      "cell_type": "code",
      "metadata": {
        "colab": {
          "base_uri": "https://localhost:8080/"
        },
        "id": "-_z6KoMeYA80",
        "outputId": "6acfd648-e5b0-4df0-be49-61a74e8902c0"
      },
      "source": [
        "dfs(graph, 1)"
      ],
      "execution_count": 14,
      "outputs": [
        {
          "output_type": "execute_result",
          "data": {
            "text/plain": [
              "[1, 4, 3, 2]"
            ]
          },
          "metadata": {},
          "execution_count": 14
        }
      ]
    },
    {
      "cell_type": "markdown",
      "metadata": {
        "id": "JRSMSBc4YHCY"
      },
      "source": [
        "# 강의 문제 풀이\n"
      ]
    },
    {
      "cell_type": "code",
      "metadata": {
        "id": "eMsmumSkYJk4"
      },
      "source": [
        "from collections import deque"
      ],
      "execution_count": 15,
      "outputs": []
    },
    {
      "cell_type": "code",
      "metadata": {
        "id": "zurnfMMlYND5"
      },
      "source": [
        "def dfs(v):\n",
        "  print(v, end = ' ')\n",
        "  visited[v] =True\n",
        "  for e in adj[v]:\n",
        "    if not(visited[e]):\n",
        "      dfs(e)\n",
        "\n",
        "def bfs(v):\n",
        "  q = deque([v])\n",
        "  while q:\n",
        "    v = q.popleft()\n",
        "    if not(visited[v]):\n",
        "      visited[v] = True\n",
        "      print(v, end = ' ')\n",
        "      for e in adj[v]:\n",
        "        if not visited[e]:\n",
        "          q.append(e)"
      ],
      "execution_count": 16,
      "outputs": []
    },
    {
      "cell_type": "code",
      "metadata": {
        "colab": {
          "base_uri": "https://localhost:8080/"
        },
        "id": "ReQTDcenYrAI",
        "outputId": "f1df03b5-b856-4810-eb54-90ca4d5f18ab"
      },
      "source": [
        "adj = [[] for _ in range(n + 1)]\n",
        "for _ in range(m):\n",
        "  x, y = map(int, input().split())\n",
        "  adj[x].append(y)\n",
        "  adj[y].append(x)\n",
        "\n",
        "for e in adj:\n",
        "  e.sort()\n",
        "\n",
        "visited= [False] * (n+1)\n",
        "dfs(start_node)\n",
        "visited= [False] * (n+1)\n",
        "bfs(start_node)"
      ],
      "execution_count": 17,
      "outputs": [
        {
          "output_type": "stream",
          "text": [
            "1 2\n",
            "1 3\n",
            "1 4\n",
            "2 4\n",
            "3 4\n",
            "1 2 4 3 1 2 3 4 "
          ],
          "name": "stdout"
        }
      ]
    }
  ]
}