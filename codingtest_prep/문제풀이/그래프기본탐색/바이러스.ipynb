{
  "nbformat": 4,
  "nbformat_minor": 0,
  "metadata": {
    "colab": {
      "name": "바이러스.ipynb",
      "provenance": [],
      "authorship_tag": "ABX9TyMTSkBgB6CfBvW2UT/jhc4s",
      "include_colab_link": true
    },
    "kernelspec": {
      "name": "python3",
      "display_name": "Python 3"
    },
    "language_info": {
      "name": "python"
    }
  },
  "cells": [
    {
      "cell_type": "markdown",
      "metadata": {
        "id": "view-in-github",
        "colab_type": "text"
      },
      "source": [
        "<a href=\"https://colab.research.google.com/github/ckim415/Yeonny/blob/master/codingtest_prep/%EB%AC%B8%EC%A0%9C%ED%92%80%EC%9D%B4/%EA%B7%B8%EB%9E%98%ED%94%84%EA%B8%B0%EB%B3%B8%ED%83%90%EC%83%89/%EB%B0%94%EC%9D%B4%EB%9F%AC%EC%8A%A4.ipynb\" target=\"_parent\"><img src=\"https://colab.research.google.com/assets/colab-badge.svg\" alt=\"Open In Colab\"/></a>"
      ]
    },
    {
      "cell_type": "markdown",
      "metadata": {
        "id": "B2HR4hQOFG8E"
      },
      "source": [
        "# 바이러스\n",
        " - 백준 2606\n",
        " - ex\n",
        " \n",
        "1 2\n",
        "\n",
        "2 3\n",
        "\n",
        "1 5\n",
        "\n",
        "5 2\n",
        "\n",
        "5 6\n",
        "\n",
        "4 7\n"
      ]
    },
    {
      "cell_type": "code",
      "metadata": {
        "colab": {
          "base_uri": "https://localhost:8080/"
        },
        "id": "9x3ZSjL8AgqP",
        "outputId": "f90ad9a3-2221-43cf-a85c-32916bcdc59b"
      },
      "source": [
        "n = int(input())\n",
        "e = int(input())"
      ],
      "execution_count": null,
      "outputs": [
        {
          "output_type": "stream",
          "text": [
            "7\n",
            "6\n"
          ],
          "name": "stdout"
        }
      ]
    },
    {
      "cell_type": "code",
      "metadata": {
        "colab": {
          "base_uri": "https://localhost:8080/"
        },
        "id": "IDv_az3nEu-C",
        "outputId": "7c4ad2e7-8744-4378-9ad5-98cfc21ea362"
      },
      "source": [
        "array = [[] for i in range(n+1)]\n",
        "for i in range(e):\n",
        "  x, y = map(int, input().split())\n",
        "  array[x].append(y)\n",
        "  array[y].append(x)\n",
        "array\n"
      ],
      "execution_count": null,
      "outputs": [
        {
          "output_type": "stream",
          "text": [
            "1 2\n",
            "2 3\n",
            "1 5\n",
            "5 2\n",
            "5 6\n",
            "4 7\n"
          ],
          "name": "stdout"
        },
        {
          "output_type": "execute_result",
          "data": {
            "text/plain": [
              "[[], [2, 5], [1, 3, 5], [2], [7], [1, 2, 6], [5], [4]]"
            ]
          },
          "metadata": {},
          "execution_count": 6
        }
      ]
    },
    {
      "cell_type": "code",
      "metadata": {
        "id": "dbgQlGmAFjUf"
      },
      "source": [
        "from collections import deque"
      ],
      "execution_count": null,
      "outputs": []
    },
    {
      "cell_type": "code",
      "metadata": {
        "id": "KcAaINYoFbTq"
      },
      "source": [
        "def dfs(start):\n",
        "  visited = []\n",
        "  q = deque([start])\n",
        "  while q:\n",
        "    now = q.popleft()\n",
        "    if now not in visited:\n",
        "      visited.append(now)\n",
        "      q.extendleft(reversed(array[now]))\n",
        "\n",
        "  print(visited)\n",
        "  return len(visited) - 1\n"
      ],
      "execution_count": null,
      "outputs": []
    },
    {
      "cell_type": "code",
      "metadata": {
        "colab": {
          "base_uri": "https://localhost:8080/"
        },
        "id": "BhF150PAImMb",
        "outputId": "b48f709a-32c0-4409-fce0-c92d39edd998"
      },
      "source": [
        "dfs(1)"
      ],
      "execution_count": null,
      "outputs": [
        {
          "output_type": "stream",
          "text": [
            "[1, 2, 3, 5, 6]\n"
          ],
          "name": "stdout"
        },
        {
          "output_type": "execute_result",
          "data": {
            "text/plain": [
              "4"
            ]
          },
          "metadata": {},
          "execution_count": 18
        }
      ]
    },
    {
      "cell_type": "code",
      "metadata": {
        "id": "g0AwCCNeKcXd"
      },
      "source": [
        "def bfs(start):\n",
        "  visited = []\n",
        "  q = deque([start])\n",
        "  while q:\n",
        "    now = q.popleft()\n",
        "    if now not in visited:\n",
        "      visited.append(now)\n",
        "    for e in array[now]:\n",
        "      if e not in visited:\n",
        "        visited.append(e)\n",
        "        q.extend(array[e])\n",
        "\n",
        "  print(visited)\n",
        "  return len(visited) - 1"
      ],
      "execution_count": null,
      "outputs": []
    },
    {
      "cell_type": "code",
      "metadata": {
        "colab": {
          "base_uri": "https://localhost:8080/"
        },
        "id": "CdnHzvMFK5MD",
        "outputId": "f18ef097-adb2-4f7a-e922-6a125cedd10e"
      },
      "source": [
        "bfs(1)"
      ],
      "execution_count": null,
      "outputs": [
        {
          "output_type": "stream",
          "text": [
            "[1, 2, 5, 3, 6]\n"
          ],
          "name": "stdout"
        },
        {
          "output_type": "execute_result",
          "data": {
            "text/plain": [
              "4"
            ]
          },
          "metadata": {},
          "execution_count": 10
        }
      ]
    },
    {
      "cell_type": "markdown",
      "metadata": {
        "id": "2iUT_qW4Omjo"
      },
      "source": [
        "# 강의 문제풀이"
      ]
    },
    {
      "cell_type": "code",
      "metadata": {
        "colab": {
          "base_uri": "https://localhost:8080/"
        },
        "id": "fl5YNoKYOjEW",
        "outputId": "8918f421-6909-4825-f577-f842910a8ed6"
      },
      "source": [
        "visited = [False] * (n+1)\n",
        "count = 0\n",
        "def dfs(start):\n",
        "  global count\n",
        "  count += 1\n",
        "  visited[start] = True\n",
        "  for next in array[start]:\n",
        "    if not visited[next]:\n",
        "      dfs(next) \n",
        "\n",
        "dfs(1)\n",
        "print(count - 1)"
      ],
      "execution_count": null,
      "outputs": [
        {
          "output_type": "stream",
          "text": [
            "4\n"
          ],
          "name": "stdout"
        }
      ]
    },
    {
      "cell_type": "markdown",
      "metadata": {
        "id": "_oxD2DOL2PSc"
      },
      "source": [
        "# 바이러스 복기\n",
        " - bfs 활용 풀이"
      ]
    },
    {
      "cell_type": "code",
      "metadata": {
        "id": "WnxNMHGZ3B4w"
      },
      "source": [
        "from collections import deque"
      ],
      "execution_count": 2,
      "outputs": []
    },
    {
      "cell_type": "code",
      "metadata": {
        "colab": {
          "base_uri": "https://localhost:8080/"
        },
        "id": "CiJN3xXK2OJH",
        "outputId": "73596e9a-3b8c-447c-c6e9-ac6f943f8389"
      },
      "source": [
        "n = int(input())\n",
        "m = int(input())\n",
        "graph = [[] for _ in range(n+1)]\n",
        "for _ in range(m):\n",
        "  a,b = map(int, input().split())\n",
        "  graph[a].append(b)\n",
        "  graph[b].append(a)\n",
        "\n",
        "visited = [0] * (n+1)\n",
        "q = deque([1])\n",
        "visited[1] = 1\n",
        "while q:\n",
        "  now = q.popleft()\n",
        "  for next in graph[now]:\n",
        "    if not visited[next]:\n",
        "      q.append(next)\n",
        "      visited[next] = 1\n",
        "\n",
        "visited.count(1)"
      ],
      "execution_count": 3,
      "outputs": [
        {
          "name": "stdout",
          "output_type": "stream",
          "text": [
            "7\n",
            "6\n",
            "1 2\n",
            "2 3\n",
            "1 5\n",
            "5 2\n",
            "5 6\n",
            "4 7\n"
          ]
        },
        {
          "output_type": "execute_result",
          "data": {
            "text/plain": [
              "5"
            ]
          },
          "metadata": {},
          "execution_count": 3
        }
      ]
    },
    {
      "cell_type": "code",
      "metadata": {
        "colab": {
          "base_uri": "https://localhost:8080/"
        },
        "id": "v8w846013I4I",
        "outputId": "80c31562-6d88-4a6c-d8d0-2c0bfad6ea82"
      },
      "source": [
        "visited.count(1) - 1"
      ],
      "execution_count": 4,
      "outputs": [
        {
          "output_type": "execute_result",
          "data": {
            "text/plain": [
              "4"
            ]
          },
          "metadata": {},
          "execution_count": 4
        }
      ]
    }
  ]
}