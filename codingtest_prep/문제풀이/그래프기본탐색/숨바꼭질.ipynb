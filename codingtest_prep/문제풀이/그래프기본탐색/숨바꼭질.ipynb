{
  "nbformat": 4,
  "nbformat_minor": 0,
  "metadata": {
    "colab": {
      "name": "숨바꼭질.ipynb",
      "provenance": [],
      "authorship_tag": "ABX9TyP0zy+kZ5/wvxhTzMqpQ+pq",
      "include_colab_link": true
    },
    "kernelspec": {
      "name": "python3",
      "display_name": "Python 3"
    },
    "language_info": {
      "name": "python"
    }
  },
  "cells": [
    {
      "cell_type": "markdown",
      "metadata": {
        "id": "view-in-github",
        "colab_type": "text"
      },
      "source": [
        "<a href=\"https://colab.research.google.com/github/ckim415/Yeonny/blob/master/codingtest_prep/%EB%AC%B8%EC%A0%9C%ED%92%80%EC%9D%B4/%EA%B7%B8%EB%9E%98%ED%94%84%EA%B8%B0%EB%B3%B8%ED%83%90%EC%83%89/%EC%88%A8%EB%B0%94%EA%BC%AD%EC%A7%88.ipynb\" target=\"_parent\"><img src=\"https://colab.research.google.com/assets/colab-badge.svg\" alt=\"Open In Colab\"/></a>"
      ]
    },
    {
      "cell_type": "code",
      "metadata": {
        "id": "fPNxAbhfj-DQ"
      },
      "source": [
        "from collections import deque"
      ],
      "execution_count": 1,
      "outputs": []
    },
    {
      "cell_type": "code",
      "metadata": {
        "colab": {
          "base_uri": "https://localhost:8080/"
        },
        "id": "JuYSuHSSk6fh",
        "outputId": "f1e2ca5c-a372-4236-cdc2-df09570b2c78"
      },
      "source": [
        "n, k= map(int, input().split())"
      ],
      "execution_count": 2,
      "outputs": [
        {
          "output_type": "stream",
          "text": [
            "5 17\n"
          ],
          "name": "stdout"
        }
      ]
    },
    {
      "cell_type": "code",
      "metadata": {
        "colab": {
          "base_uri": "https://localhost:8080/"
        },
        "id": "oQNVIDu8lAE8",
        "outputId": "287c32cd-0887-4e04-ebcf-5d19fa50fc34"
      },
      "source": [
        "n,k"
      ],
      "execution_count": 3,
      "outputs": [
        {
          "output_type": "execute_result",
          "data": {
            "text/plain": [
              "(5, 17)"
            ]
          },
          "metadata": {},
          "execution_count": 3
        }
      ]
    },
    {
      "cell_type": "code",
      "metadata": {
        "id": "Mzw6KobqlR9z"
      },
      "source": [
        "array = [0] * 100001"
      ],
      "execution_count": 5,
      "outputs": []
    },
    {
      "cell_type": "code",
      "metadata": {
        "id": "rM3X0P4ZlBA3"
      },
      "source": [
        "def bfs():\n",
        "  q = deque([n])\n",
        "  while q:\n",
        "    now = q.popleft()\n",
        "    if now == k:\n",
        "      return array[now]\n",
        "      \n",
        "    for next in (now +1, now-1, now*2):\n",
        "      if 0 <= next < 100001 and not array[next]:\n",
        "        array[next] = array[now] + 1\n",
        "        q.append(next)"
      ],
      "execution_count": 7,
      "outputs": []
    },
    {
      "cell_type": "code",
      "metadata": {
        "colab": {
          "base_uri": "https://localhost:8080/"
        },
        "id": "B73MnhoGlqBR",
        "outputId": "4f1a09fd-cfe9-4ee1-c4e5-7889f14046bd"
      },
      "source": [
        "bfs()"
      ],
      "execution_count": 8,
      "outputs": [
        {
          "output_type": "execute_result",
          "data": {
            "text/plain": [
              "4"
            ]
          },
          "metadata": {},
          "execution_count": 8
        }
      ]
    }
  ]
}