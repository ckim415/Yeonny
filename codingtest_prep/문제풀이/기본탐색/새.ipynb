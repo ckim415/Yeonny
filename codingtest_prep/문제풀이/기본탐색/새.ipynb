{
  "nbformat": 4,
  "nbformat_minor": 0,
  "metadata": {
    "colab": {
      "name": "새.ipynb",
      "provenance": [],
      "authorship_tag": "ABX9TyPQU8uvVKVsPcAiYX+5uSbS",
      "include_colab_link": true
    },
    "kernelspec": {
      "name": "python3",
      "display_name": "Python 3"
    },
    "language_info": {
      "name": "python"
    }
  },
  "cells": [
    {
      "cell_type": "markdown",
      "metadata": {
        "id": "view-in-github",
        "colab_type": "text"
      },
      "source": [
        "<a href=\"https://colab.research.google.com/github/ckim415/Yeonny/blob/master/codingtest_prep/%EB%AC%B8%EC%A0%9C%ED%92%80%EC%9D%B4/%EA%B8%B0%EB%B3%B8%EC%A0%95%EB%A0%AC/%EC%83%88.ipynb\" target=\"_parent\"><img src=\"https://colab.research.google.com/assets/colab-badge.svg\" alt=\"Open In Colab\"/></a>"
      ]
    },
    {
      "cell_type": "markdown",
      "metadata": {
        "id": "OBdBZZtGhiWI"
      },
      "source": [
        "# 새\n",
        " - 백준 : 1568"
      ]
    },
    {
      "cell_type": "markdown",
      "metadata": {
        "id": "jlLGZ7nqhgQO"
      },
      "source": [
        "# 내 문제풀이"
      ]
    },
    {
      "cell_type": "code",
      "metadata": {
        "colab": {
          "base_uri": "https://localhost:8080/"
        },
        "id": "m38-r7rXdlv4",
        "outputId": "edf7dc33-bc9a-4ae1-9a1b-a0ce9a011472"
      },
      "source": [
        "n = int(input())\n",
        "k = 1\n",
        "count = 0\n",
        "while n> 0:\n",
        "  if n<k:\n",
        "    k = 1\n",
        "  n -= k\n",
        "  k += 1\n",
        "\n",
        "  count +=1\n",
        "\n",
        "print(count)"
      ],
      "execution_count": 11,
      "outputs": [
        {
          "output_type": "stream",
          "text": [
            "14\n",
            "7\n"
          ],
          "name": "stdout"
        }
      ]
    },
    {
      "cell_type": "markdown",
      "metadata": {
        "id": "-8KlwffUhrho"
      },
      "source": [
        "# 강의 문제풀이"
      ]
    },
    {
      "cell_type": "code",
      "metadata": {
        "colab": {
          "base_uri": "https://localhost:8080/"
        },
        "id": "90fV_uKWg4Ma",
        "outputId": "d148f753-1098-4c2e-9fb8-b66e8a112fd9"
      },
      "source": [
        "n = int(input())\n",
        "result = 0\n",
        "k = 1\n",
        "while n != 0:\n",
        "  if k > n:\n",
        "    k = 1\n",
        "\n",
        "  n -= k\n",
        "  k += 1\n",
        "  result += 1\n",
        "\n",
        "print(result)"
      ],
      "execution_count": 13,
      "outputs": [
        {
          "output_type": "stream",
          "text": [
            "14\n",
            "7\n"
          ],
          "name": "stdout"
        }
      ]
    }
  ]
}
