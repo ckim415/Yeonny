{
  "nbformat": 4,
  "nbformat_minor": 0,
  "metadata": {
    "colab": {
      "name": "중량제한.ipynb",
      "provenance": [],
      "authorship_tag": "ABX9TyNTG+SCD0WoSYsWseybRAkq",
      "include_colab_link": true
    },
    "kernelspec": {
      "name": "python3",
      "display_name": "Python 3"
    },
    "language_info": {
      "name": "python"
    }
  },
  "cells": [
    {
      "cell_type": "markdown",
      "metadata": {
        "id": "view-in-github",
        "colab_type": "text"
      },
      "source": [
        "<a href=\"https://colab.research.google.com/github/ckim415/Yeonny/blob/master/codingtest_prep/%EB%AC%B8%EC%A0%9C%ED%92%80%EC%9D%B4/%EA%B8%B0%EB%B3%B8%ED%83%90%EC%83%89/%EC%A4%91%EB%9F%89%EC%A0%9C%ED%95%9C.ipynb\" target=\"_parent\"><img src=\"https://colab.research.google.com/assets/colab-badge.svg\" alt=\"Open In Colab\"/></a>"
      ]
    },
    {
      "cell_type": "code",
      "metadata": {
        "id": "sQ1tsDKTc37i"
      },
      "source": [
        "from collections import defaultdict"
      ],
      "execution_count": 15,
      "outputs": []
    },
    {
      "cell_type": "code",
      "metadata": {
        "id": "c3bcwV_AdNjp"
      },
      "source": [
        "graph = defaultdict(list)"
      ],
      "execution_count": 16,
      "outputs": []
    },
    {
      "cell_type": "code",
      "metadata": {
        "colab": {
          "base_uri": "https://localhost:8080/"
        },
        "id": "HynGnKoLddkC",
        "outputId": "37004d5b-5862-4b01-b802-50af73f0257a"
      },
      "source": [
        "graph = defaultdict(list)\n",
        "for _ in range(3):\n",
        "  a, b, c = map(int, input().split(' '))\n",
        "  graph[a].append([b,c])\n",
        "  graph[b].append([a,c])"
      ],
      "execution_count": 17,
      "outputs": [
        {
          "output_type": "stream",
          "text": [
            "1 2 2\n",
            "3 1 3\n",
            "2 3 2\n"
          ],
          "name": "stdout"
        }
      ]
    },
    {
      "cell_type": "code",
      "metadata": {
        "colab": {
          "base_uri": "https://localhost:8080/"
        },
        "id": "5gSkhwZAey_t",
        "outputId": "34799e65-8a39-469f-e344-f3e80ffcb44f"
      },
      "source": [
        "graph"
      ],
      "execution_count": 18,
      "outputs": [
        {
          "output_type": "execute_result",
          "data": {
            "text/plain": [
              "defaultdict(list,\n",
              "            {1: [[2, 2], [3, 3]], 2: [[1, 2], [3, 2]], 3: [[1, 3], [2, 2]]})"
            ]
          },
          "metadata": {
            "tags": []
          },
          "execution_count": 18
        }
      ]
    },
    {
      "cell_type": "code",
      "metadata": {
        "id": "fSd6KfvUfUh3"
      },
      "source": [
        "start, end = 1,3"
      ],
      "execution_count": 19,
      "outputs": []
    },
    {
      "cell_type": "code",
      "metadata": {
        "colab": {
          "base_uri": "https://localhost:8080/"
        },
        "id": "nOmKFjBKpRir",
        "outputId": "a19570b3-b72b-4ed5-eced-0388a042b0fb"
      },
      "source": [
        "n, m = map(int, input().split(' '))\n",
        "n, m"
      ],
      "execution_count": 27,
      "outputs": [
        {
          "output_type": "stream",
          "text": [
            "3 3\n"
          ],
          "name": "stdout"
        },
        {
          "output_type": "execute_result",
          "data": {
            "text/plain": [
              "(3, 3)"
            ]
          },
          "metadata": {
            "tags": []
          },
          "execution_count": 27
        }
      ]
    },
    {
      "cell_type": "code",
      "metadata": {
        "colab": {
          "base_uri": "https://localhost:8080/"
        },
        "id": "MieTrypxpMEO",
        "outputId": "6da256aa-13b6-4075-b59a-0a4dc606fd02"
      },
      "source": [
        "adj = [[] for i in range(n+1)]\n",
        "adj"
      ],
      "execution_count": 28,
      "outputs": [
        {
          "output_type": "execute_result",
          "data": {
            "text/plain": [
              "[[], [], [], []]"
            ]
          },
          "metadata": {
            "tags": []
          },
          "execution_count": 28
        }
      ]
    },
    {
      "cell_type": "code",
      "metadata": {
        "colab": {
          "base_uri": "https://localhost:8080/"
        },
        "id": "Hyvpg6erpgso",
        "outputId": "0a66e513-d55d-4be1-afb1-58504d9c2263"
      },
      "source": [
        "start_node, end_node = map(int, input().split(' '))\n",
        "start_node, end_node"
      ],
      "execution_count": 31,
      "outputs": [
        {
          "output_type": "stream",
          "text": [
            "1 3\n"
          ],
          "name": "stdout"
        },
        {
          "output_type": "execute_result",
          "data": {
            "text/plain": [
              "(1, 3)"
            ]
          },
          "metadata": {
            "tags": []
          },
          "execution_count": 31
        }
      ]
    },
    {
      "cell_type": "markdown",
      "metadata": {
        "id": "amhZVCWqvLBX"
      },
      "source": [
        "# 강의 문제풀이"
      ]
    },
    {
      "cell_type": "code",
      "metadata": {
        "colab": {
          "base_uri": "https://localhost:8080/"
        },
        "id": "ZBCiKZADfaq7",
        "outputId": "e02862cd-e74f-4d29-9771-493032c69a27"
      },
      "source": [
        "def bfs(c):\n",
        "  queue = [start_node]\n",
        "  visited = [False] * (n+1)\n",
        "  visited[start_node] = True\n",
        "\n",
        "  while queue:\n",
        "    x = queue.pop(0)\n",
        "    for y, weight in adj[x]:\n",
        "      if not visited[y] and weight >= c:\n",
        "        visited[y] = True\n",
        "        queue.append(y)\n",
        "  return visited[end_node]\n",
        "\n",
        "adj = [[] for i in range((n+1))]\n",
        "\n",
        "for _ in range(m):\n",
        "  x, y, weight = map(int, input().split(' '))\n",
        "  adj[x].append((y, weight))\n",
        "  adj[y].append((x, weight))\n",
        "  start = min(start, weight)\n",
        "  end = max(end, weight)\n",
        "\n",
        "\n",
        "result = start\n",
        "while start <= end:\n",
        "  mid = (start + end) // 2\n",
        "  if bfs(mid):\n",
        "    result = mid\n",
        "    start = mid + 1\n",
        "\n",
        "  else:\n",
        "    end = mid - 1\n",
        "\n",
        "print(result)"
      ],
      "execution_count": 36,
      "outputs": [
        {
          "output_type": "stream",
          "text": [
            "1 2 2\n",
            "3 1 3\n",
            "2 3 2\n",
            "3\n"
          ],
          "name": "stdout"
        }
      ]
    },
    {
      "cell_type": "markdown",
      "metadata": {
        "id": "DU6hCBWdvQYC"
      },
      "source": [
        "## 해설\n",
        " - 1 <= m개의 edge <= 100,000\n",
        " - 1 <= c <= 1,000,000,000\n",
        "  - c에 대해서 binary search를 해야지 시간 복잡도를 줄 일 수 있다.\n",
        "    - O(logc)\n",
        "\n",
        " - bfs 를 이용하여 c의 weight로 end_node까지 갈 수 있는지 없는지를 판단\n",
        " - c 에 대해 binary search 알고리즘을 이용해 min, max의 중간값으로 bfs를 확인후\n",
        "  - 있으면 min값을 업데이트 후 확인\n",
        "  - 없다면 max값을 업데이트 후 확인\n"
      ]
    }
  ]
}