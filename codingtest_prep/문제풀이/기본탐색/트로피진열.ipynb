{
  "nbformat": 4,
  "nbformat_minor": 0,
  "metadata": {
    "colab": {
      "name": "트로피진열.ipynb",
      "provenance": [],
      "authorship_tag": "ABX9TyM/CT0q7DbbRYioqrM264Mp",
      "include_colab_link": true
    },
    "kernelspec": {
      "name": "python3",
      "display_name": "Python 3"
    },
    "language_info": {
      "name": "python"
    }
  },
  "cells": [
    {
      "cell_type": "markdown",
      "metadata": {
        "id": "view-in-github",
        "colab_type": "text"
      },
      "source": [
        "<a href=\"https://colab.research.google.com/github/ckim415/Yeonny/blob/master/codingtest_prep/%EB%AC%B8%EC%A0%9C%ED%92%80%EC%9D%B4/%EA%B8%B0%EB%B3%B8%ED%83%90%EC%83%89/%ED%8A%B8%EB%A1%9C%ED%94%BC%EC%A7%84%EC%97%B4.ipynb\" target=\"_parent\"><img src=\"https://colab.research.google.com/assets/colab-badge.svg\" alt=\"Open In Colab\"/></a>"
      ]
    },
    {
      "cell_type": "markdown",
      "metadata": {
        "id": "0P9WIJtKGO7M"
      },
      "source": [
        "# 내문제풀이\n",
        " - max 인덱스 까지 숫자 비교\n",
        "  - 맥스 인덱스를 찾는것이 효율적인가를 생각해 봐야함"
      ]
    },
    {
      "cell_type": "code",
      "metadata": {
        "colab": {
          "base_uri": "https://localhost:8080/"
        },
        "id": "5U1cQBcnoniH",
        "outputId": "c8d8a0b4-1260-433b-cc90-377e4b1c9cb0"
      },
      "source": [
        "N = int(input())\n",
        "trophy = []\n",
        "for i in range(N):\n",
        "  length = int(input())\n",
        "  trophy.append(length)\n",
        "\n",
        "target = max(trophy)\n",
        "\n",
        "left = 0\n",
        "for i,v in enumerate(trophy):\n",
        "  if v == target:\n",
        "    max_idx = i\n",
        "\n",
        "left,value,i,right = 0,trophy[0],1,N\n",
        "while i <= max_idx:\n",
        "  if trophy[i] > value:\n",
        "    left += 1\n",
        "    right -= 1\n",
        "    value = trophy[i]\n",
        "  i += 1\n",
        "print(left+1)\n",
        "print(right) "
      ],
      "execution_count": 9,
      "outputs": [
        {
          "output_type": "stream",
          "text": [
            "5\n",
            "1\n",
            "2\n",
            "3\n",
            "4\n",
            "5\n",
            "5\n",
            "1\n"
          ],
          "name": "stdout"
        }
      ]
    },
    {
      "cell_type": "markdown",
      "metadata": {
        "id": "hbih2YVwGYDv"
      },
      "source": [
        "# 강의 문제 풀이\n",
        " - 함수를 활용해서 풀이\n",
        " - 두개의 원소를 비교하여 더크면 +1, 더 큰 원소와 다음 원소를 비교하여 계속 +1\n"
      ]
    },
    {
      "cell_type": "code",
      "metadata": {
        "colab": {
          "base_uri": "https://localhost:8080/"
        },
        "id": "5mEIUX9cE7xI",
        "outputId": "52edc74c-3276-48af-ba9e-1a09a423a97b"
      },
      "source": [
        " def ascending(arrya):\n",
        "  now = array[0]\n",
        "  result = 1\n",
        "  for i in range(1, len((array))):\n",
        "    if now < array[i]:\n",
        "      result += 1\n",
        "      now = array[i]\n",
        "  return result\n",
        "\n",
        "n = int(input())\n",
        "array= []\n",
        "\n",
        "for _ in range(n):\n",
        "  array.append(int(input()))\n",
        "\n",
        "print(ascending(array))\n",
        "array.reverse()\n",
        "print(ascending(array))"
      ],
      "execution_count": 14,
      "outputs": [
        {
          "output_type": "stream",
          "text": [
            "5\n",
            "1\n",
            "2\n",
            "3\n",
            "4\n",
            "5\n",
            "5\n",
            "1\n"
          ],
          "name": "stdout"
        }
      ]
    },
    {
      "cell_type": "code",
      "metadata": {
        "id": "CSR2-RFcGth1"
      },
      "source": [
        ""
      ],
      "execution_count": null,
      "outputs": []
    }
  ]
}