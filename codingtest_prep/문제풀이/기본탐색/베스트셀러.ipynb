{
  "nbformat": 4,
  "nbformat_minor": 0,
  "metadata": {
    "colab": {
      "name": "베스트셀러.ipynb",
      "provenance": [],
      "authorship_tag": "ABX9TyOX2SoF6lPZjYilVj+8HGzE",
      "include_colab_link": true
    },
    "kernelspec": {
      "name": "python3",
      "display_name": "Python 3"
    },
    "language_info": {
      "name": "python"
    }
  },
  "cells": [
    {
      "cell_type": "markdown",
      "metadata": {
        "id": "view-in-github",
        "colab_type": "text"
      },
      "source": [
        "<a href=\"https://colab.research.google.com/github/ckim415/Yeonny/blob/master/codingtest_prep/%EB%AC%B8%EC%A0%9C%ED%92%80%EC%9D%B4/%EA%B8%B0%EB%B3%B8%ED%83%90%EC%83%89/%EB%B2%A0%EC%8A%A4%ED%8A%B8%EC%85%80%EB%9F%AC.ipynb\" target=\"_parent\"><img src=\"https://colab.research.google.com/assets/colab-badge.svg\" alt=\"Open In Colab\"/></a>"
      ]
    },
    {
      "cell_type": "markdown",
      "metadata": {
        "id": "PFP9_QBKisZ_"
      },
      "source": [
        "# 베스트 셀러\n",
        " - 백준 : 1302\n",
        " "
      ]
    },
    {
      "cell_type": "markdown",
      "metadata": {
        "id": "JQTEV451i3VA"
      },
      "source": [
        "# 내문제풀이"
      ]
    },
    {
      "cell_type": "code",
      "metadata": {
        "colab": {
          "base_uri": "https://localhost:8080/"
        },
        "id": "jVSuEp4siqiu",
        "outputId": "ca405439-5a76-44ec-9c79-c91b4701643a"
      },
      "source": [
        "n = int(input())\n",
        "book_list = []\n",
        "for i in range(n):\n",
        "  book = input()\n",
        "  book_list.append(book)\n",
        "\n",
        "print(book_list)\n",
        "  \n"
      ],
      "execution_count": 5,
      "outputs": [
        {
          "output_type": "stream",
          "text": [
            "5\n",
            "top\n",
            "top\n",
            "top\n",
            "top\n",
            "topkim\n",
            "['top', 'top', 'top', 'top', 'topkim']\n"
          ],
          "name": "stdout"
        }
      ]
    },
    {
      "cell_type": "code",
      "metadata": {
        "colab": {
          "base_uri": "https://localhost:8080/"
        },
        "id": "8JT2HuUukUyE",
        "outputId": "0d27bb10-4af2-4faf-d214-3f336f76c832"
      },
      "source": [
        "book_list"
      ],
      "execution_count": 6,
      "outputs": [
        {
          "output_type": "execute_result",
          "data": {
            "text/plain": [
              "['top', 'top', 'top', 'top', 'topkim']"
            ]
          },
          "metadata": {
            "tags": []
          },
          "execution_count": 6
        }
      ]
    },
    {
      "cell_type": "code",
      "metadata": {
        "id": "YQpEruDJkh_5"
      },
      "source": [
        "book_set = set(book_list)"
      ],
      "execution_count": 8,
      "outputs": []
    },
    {
      "cell_type": "code",
      "metadata": {
        "colab": {
          "base_uri": "https://localhost:8080/"
        },
        "id": "-5oygVQTkrpL",
        "outputId": "f774490e-185e-4e96-a91a-29b8d64b775c"
      },
      "source": [
        "book_set"
      ],
      "execution_count": 9,
      "outputs": [
        {
          "output_type": "execute_result",
          "data": {
            "text/plain": [
              "{'top', 'topkim'}"
            ]
          },
          "metadata": {
            "tags": []
          },
          "execution_count": 9
        }
      ]
    },
    {
      "cell_type": "code",
      "metadata": {
        "colab": {
          "base_uri": "https://localhost:8080/"
        },
        "id": "glQ_9z9enKBE",
        "outputId": "81ad5109-ce6e-4089-d637-158ddf4e7509"
      },
      "source": [
        "n = int(input())\n",
        "book_dict = {}\n",
        "for i in range(n):\n",
        "  book = input()\n",
        "  if book not in book_dict:\n",
        "    book_dict[book] =1\n",
        "  else:\n",
        "    book_dict[book] += 1\n",
        "target = max(book_dict.values())\n",
        "for k,v in book_dict.items():\n",
        "  if v == target:\n",
        "    print(k)"
      ],
      "execution_count": 12,
      "outputs": [
        {
          "output_type": "stream",
          "text": [
            "5\n",
            "top\n",
            "top\n",
            "top\n",
            "top\n",
            "topkim\n",
            "top\n"
          ],
          "name": "stdout"
        }
      ]
    }
  ]
}