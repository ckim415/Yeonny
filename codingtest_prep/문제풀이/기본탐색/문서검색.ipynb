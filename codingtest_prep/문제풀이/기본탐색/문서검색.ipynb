{
  "nbformat": 4,
  "nbformat_minor": 0,
  "metadata": {
    "colab": {
      "name": "문서검색.ipynb",
      "provenance": [],
      "authorship_tag": "ABX9TyN3U0tj/t1UEqhgMHG7Pkgp",
      "include_colab_link": true
    },
    "kernelspec": {
      "name": "python3",
      "display_name": "Python 3"
    },
    "language_info": {
      "name": "python"
    }
  },
  "cells": [
    {
      "cell_type": "markdown",
      "metadata": {
        "id": "view-in-github",
        "colab_type": "text"
      },
      "source": [
        "<a href=\"https://colab.research.google.com/github/ckim415/Yeonny/blob/master/codingtest_prep/%EB%AC%B8%EC%A0%9C%ED%92%80%EC%9D%B4/%EA%B8%B0%EB%B3%B8%ED%83%90%EC%83%89/%EB%AC%B8%EC%84%9C%EA%B2%80%EC%83%89.ipynb\" target=\"_parent\"><img src=\"https://colab.research.google.com/assets/colab-badge.svg\" alt=\"Open In Colab\"/></a>"
      ]
    },
    {
      "cell_type": "code",
      "metadata": {
        "id": "4Q3nvX9iXrha",
        "colab": {
          "base_uri": "https://localhost:8080/"
        },
        "outputId": "ff5aadc0-eed4-41c8-ea36-ca3c30974df4"
      },
      "source": [
        "docu = input()\n",
        "search = input()\n",
        "count, i = 0,0\n",
        "while i < len(docu):\n",
        "  if docu[i:i+len(search)] == search:\n",
        "    count +=1\n",
        "    i += len(search)\n",
        "\n",
        "  else:\n",
        "    i += 1\n",
        "\n",
        "print(count)"
      ],
      "execution_count": null,
      "outputs": [
        {
          "output_type": "stream",
          "text": [
            "ababababa\n",
            "aba\n",
            "2\n"
          ],
          "name": "stdout"
        }
      ]
    },
    {
      "cell_type": "code",
      "metadata": {
        "colab": {
          "base_uri": "https://localhost:8080/"
        },
        "id": "aMbex3jab8C0",
        "outputId": "a5fbfc21-2c58-49eb-8df4-c486913010b9"
      },
      "source": [
        "docu[:3] == search"
      ],
      "execution_count": null,
      "outputs": [
        {
          "output_type": "execute_result",
          "data": {
            "text/plain": [
              "True"
            ]
          },
          "metadata": {
            "tags": []
          },
          "execution_count": 2
        }
      ]
    },
    {
      "cell_type": "code",
      "metadata": {
        "colab": {
          "base_uri": "https://localhost:8080/"
        },
        "id": "41K0ZjGdcNGN",
        "outputId": "1f3ecd3d-9702-43fe-b8e6-77abfe4e9e31"
      },
      "source": [
        "docu = input()\n",
        "search = input()\n",
        "count, i = 0,0\n",
        "while i < len(docu):\n",
        "  if docu[i:i+len(search)] == search:\n",
        "    count +=1\n",
        "    i += len(search)\n",
        "\n",
        "  else:\n",
        "    i += 1\n",
        "\n",
        "print(count)"
      ],
      "execution_count": null,
      "outputs": [
        {
          "output_type": "stream",
          "text": [
            "a a a a a\n",
            "a a\n",
            "2\n"
          ],
          "name": "stdout"
        }
      ]
    },
    {
      "cell_type": "code",
      "metadata": {
        "id": "H7ntIlk7fgKk"
      },
      "source": [
        ""
      ],
      "execution_count": null,
      "outputs": []
    },
    {
      "cell_type": "markdown",
      "metadata": {
        "id": "suFVFa-Sfgxz"
      },
      "source": [
        "# 문서검색 복기\n",
        " - 백준 : 1543"
      ]
    },
    {
      "cell_type": "code",
      "metadata": {
        "colab": {
          "base_uri": "https://localhost:8080/"
        },
        "id": "YYwf3h1limqY",
        "outputId": "2f633b79-cafd-492d-b6c7-c3d3dbfc85c4"
      },
      "source": [
        "letter = str(input())\n",
        "s = str(input())\n",
        "i = 0\n",
        "count = 0\n",
        "while len(letter) >= len(s):\n",
        "\n",
        "  if letter.startswith(s):\n",
        "    i += len(s)\n",
        "    count += 1\n",
        "    print('yes')\n",
        "  else:\n",
        "    i += 1\n",
        "  \n",
        "  \n",
        "  print(letter)\n",
        "  \n",
        "print(count)"
      ],
      "execution_count": 16,
      "outputs": [
        {
          "output_type": "stream",
          "name": "stdout",
          "text": [
            "ababababa\n",
            "aba\n",
            "yes\n",
            "ababababa\n",
            "bababa\n",
            "ba\n",
            "1\n"
          ]
        }
      ]
    },
    {
      "cell_type": "code",
      "metadata": {
        "colab": {
          "base_uri": "https://localhost:8080/"
        },
        "id": "0TO79Sznglru",
        "outputId": "7b52ffba-e879-44d5-efc3-c60666809dbd"
      },
      "source": [
        "letter = 'ababababa'\n",
        "s = 'aba'\n",
        "s.startswith(letter)\n",
        "letter.startswith(s)\n",
        "len(s)"
      ],
      "execution_count": 14,
      "outputs": [
        {
          "output_type": "execute_result",
          "data": {
            "text/plain": [
              "3"
            ]
          },
          "metadata": {},
          "execution_count": 14
        }
      ]
    },
    {
      "cell_type": "code",
      "metadata": {
        "colab": {
          "base_uri": "https://localhost:8080/"
        },
        "id": "IOZznLYqfngq",
        "outputId": "eb4b75fb-3f47-4ce0-833f-ee72b204c355"
      },
      "source": [
        "letter = input()\n",
        "s = input()\n",
        "i = 0\n",
        "count = 0\n",
        "while i < len(letter):\n",
        "  if s == letter[i:i+len(s)]:\n",
        "    i += len(s)\n",
        "    count += 1\n",
        "\n",
        "  else:\n",
        "    i += 1\n",
        "    \n",
        "print(count)"
      ],
      "execution_count": 15,
      "outputs": [
        {
          "output_type": "stream",
          "name": "stdout",
          "text": [
            "ababababa\n",
            "aba\n",
            "yes\n",
            "yes\n",
            "2\n"
          ]
        }
      ]
    }
  ]
}