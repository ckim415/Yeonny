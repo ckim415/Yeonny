{
  "nbformat": 4,
  "nbformat_minor": 0,
  "metadata": {
    "colab": {
      "name": "문서검색.ipynb",
      "provenance": [],
      "authorship_tag": "ABX9TyPIQnqzE9jTVym2OY9gbQLR",
      "include_colab_link": true
    },
    "kernelspec": {
      "name": "python3",
      "display_name": "Python 3"
    },
    "language_info": {
      "name": "python"
    }
  },
  "cells": [
    {
      "cell_type": "markdown",
      "metadata": {
        "id": "view-in-github",
        "colab_type": "text"
      },
      "source": [
        "<a href=\"https://colab.research.google.com/github/ckim415/Yeonny/blob/master/codingtest_prep/%EB%AC%B8%EC%A0%9C%ED%92%80%EC%9D%B4/%EA%B8%B0%EB%B3%B8%ED%83%90%EC%83%89/%EB%AC%B8%EC%84%9C%EA%B2%80%EC%83%89.ipynb\" target=\"_parent\"><img src=\"https://colab.research.google.com/assets/colab-badge.svg\" alt=\"Open In Colab\"/></a>"
      ]
    },
    {
      "cell_type": "code",
      "metadata": {
        "id": "4Q3nvX9iXrha",
        "colab": {
          "base_uri": "https://localhost:8080/"
        },
        "outputId": "ff5aadc0-eed4-41c8-ea36-ca3c30974df4"
      },
      "source": [
        "docu = input()\n",
        "search = input()\n",
        "count, i = 0,0\n",
        "while i < len(docu):\n",
        "  if docu[i:i+len(search)] == search:\n",
        "    count +=1\n",
        "    i += len(search)\n",
        "\n",
        "  else:\n",
        "    i += 1\n",
        "\n",
        "print(count)"
      ],
      "execution_count": 4,
      "outputs": [
        {
          "output_type": "stream",
          "text": [
            "ababababa\n",
            "aba\n",
            "2\n"
          ],
          "name": "stdout"
        }
      ]
    },
    {
      "cell_type": "code",
      "metadata": {
        "colab": {
          "base_uri": "https://localhost:8080/"
        },
        "id": "aMbex3jab8C0",
        "outputId": "a5fbfc21-2c58-49eb-8df4-c486913010b9"
      },
      "source": [
        "docu[:3] == search"
      ],
      "execution_count": 2,
      "outputs": [
        {
          "output_type": "execute_result",
          "data": {
            "text/plain": [
              "True"
            ]
          },
          "metadata": {
            "tags": []
          },
          "execution_count": 2
        }
      ]
    },
    {
      "cell_type": "code",
      "metadata": {
        "colab": {
          "base_uri": "https://localhost:8080/"
        },
        "id": "41K0ZjGdcNGN",
        "outputId": "1f3ecd3d-9702-43fe-b8e6-77abfe4e9e31"
      },
      "source": [
        "docu = input()\n",
        "search = input()\n",
        "count, i = 0,0\n",
        "while i < len(docu):\n",
        "  if docu[i:i+len(search)] == search:\n",
        "    count +=1\n",
        "    i += len(search)\n",
        "\n",
        "  else:\n",
        "    i += 1\n",
        "\n",
        "print(count)"
      ],
      "execution_count": 5,
      "outputs": [
        {
          "output_type": "stream",
          "text": [
            "a a a a a\n",
            "a a\n",
            "2\n"
          ],
          "name": "stdout"
        }
      ]
    }
  ]
}