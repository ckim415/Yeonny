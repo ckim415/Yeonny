{
  "nbformat": 4,
  "nbformat_minor": 0,
  "metadata": {
    "colab": {
      "name": "소트인사이드.ipynb",
      "provenance": [],
      "authorship_tag": "ABX9TyO5el14cSL6l5r4yLxIFLC8",
      "include_colab_link": true
    },
    "kernelspec": {
      "name": "python3",
      "display_name": "Python 3"
    },
    "language_info": {
      "name": "python"
    }
  },
  "cells": [
    {
      "cell_type": "markdown",
      "metadata": {
        "id": "view-in-github",
        "colab_type": "text"
      },
      "source": [
        "<a href=\"https://colab.research.google.com/github/ckim415/Yeonny/blob/master/codingtest_prep/%EB%AC%B8%EC%A0%9C%ED%92%80%EC%9D%B4/%EA%B8%B0%EB%B3%B8%EC%A0%95%EB%A0%AC_%EA%B8%B0%EC%B4%88/%EC%86%8C%ED%8A%B8%EC%9D%B8%EC%82%AC%EC%9D%B4%EB%93%9C.ipynb\" target=\"_parent\"><img src=\"https://colab.research.google.com/assets/colab-badge.svg\" alt=\"Open In Colab\"/></a>"
      ]
    },
    {
      "cell_type": "markdown",
      "metadata": {
        "id": "mdL0Fnei30ie"
      },
      "source": [
        "# 내 문제풀이"
      ]
    },
    {
      "cell_type": "code",
      "metadata": {
        "colab": {
          "base_uri": "https://localhost:8080/"
        },
        "id": "4Q_nlNb-2sWU",
        "outputId": "4a1bbfdc-e40c-47b0-b6e2-0be5ecb97a1f"
      },
      "source": [
        "num = input()\n",
        "array = [int(i) for i in num]\n",
        "blist = sorted(array, reverse = True)\n",
        "print(''.join([str(i) for i in blist]))"
      ],
      "execution_count": null,
      "outputs": [
        {
          "output_type": "stream",
          "text": [
            "2341\n",
            "4321\n"
          ],
          "name": "stdout"
        }
      ]
    },
    {
      "cell_type": "markdown",
      "metadata": {
        "id": "bU2e0baK33WB"
      },
      "source": [
        "# 강의 문제풀이"
      ]
    },
    {
      "cell_type": "code",
      "metadata": {
        "colab": {
          "base_uri": "https://localhost:8080/"
        },
        "id": "MCXZp7YZ3cnw",
        "outputId": "b54f9e20-ae62-4092-ab43-9037bf4384c4"
      },
      "source": [
        "array = input()\n",
        "\n",
        "for i in range(9,-1,-1): # 9부터 0까지\n",
        "  for j in array:\n",
        "    if int(j) == i:\n",
        "      print(j)"
      ],
      "execution_count": null,
      "outputs": [
        {
          "output_type": "stream",
          "text": [
            "2341\n",
            "4\n",
            "3\n",
            "2\n",
            "1\n"
          ],
          "name": "stdout"
        }
      ]
    }
  ]
}