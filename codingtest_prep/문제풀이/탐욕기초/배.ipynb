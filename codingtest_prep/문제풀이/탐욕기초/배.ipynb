{
  "nbformat": 4,
  "nbformat_minor": 0,
  "metadata": {
    "colab": {
      "name": "배.ipynb",
      "provenance": [],
      "authorship_tag": "ABX9TyOYYctlTz0Cbj49Qh6YbS/6",
      "include_colab_link": true
    },
    "kernelspec": {
      "name": "python3",
      "display_name": "Python 3"
    },
    "language_info": {
      "name": "python"
    }
  },
  "cells": [
    {
      "cell_type": "markdown",
      "metadata": {
        "id": "view-in-github",
        "colab_type": "text"
      },
      "source": [
        "<a href=\"https://colab.research.google.com/github/ckim415/Yeonny/blob/master/codingtest_prep/%EB%AC%B8%EC%A0%9C%ED%92%80%EC%9D%B4/%ED%83%90%EC%9A%95%EA%B8%B0%EC%B4%88/%EB%B0%B0.ipynb\" target=\"_parent\"><img src=\"https://colab.research.google.com/assets/colab-badge.svg\" alt=\"Open In Colab\"/></a>"
      ]
    },
    {
      "cell_type": "markdown",
      "metadata": {
        "id": "knkTXTRoShRq"
      },
      "source": [
        "# 배\n",
        " 백준 : 1092"
      ]
    },
    {
      "cell_type": "markdown",
      "metadata": {
        "id": "2jr4YJOvUdGC"
      },
      "source": [
        "# 내 문제 풀이\n",
        " - boxes 와 cranes를 내림 차순으로 정렬\n",
        " - zip(cycle(boxes), cranes)"
      ]
    },
    {
      "cell_type": "code",
      "metadata": {
        "id": "ZlRWOul7SfnB"
      },
      "source": [
        "from itertools import cycle"
      ],
      "execution_count": 1,
      "outputs": []
    },
    {
      "cell_type": "code",
      "metadata": {
        "colab": {
          "base_uri": "https://localhost:8080/"
        },
        "id": "GRsOzMqcUlJQ",
        "outputId": "33173ec1-a130-4499-bd89-81aa2297eef4"
      },
      "source": [
        "n = int(input())\n",
        "cranes = list(map(int,input().split()))\n",
        "m = int(input())\n",
        "boxes = list(map(int, input().split()))\n",
        "cranes.sort(reverse=True)\n",
        "boxes.sort(reverse=True)\n",
        "print(cranes, boxes)"
      ],
      "execution_count": 3,
      "outputs": [
        {
          "output_type": "stream",
          "text": [
            "3\n",
            "6 8 9\n",
            "5\n",
            "2 5 2 4 7\n",
            "[9, 8, 6] [7, 5, 4, 2, 2]\n"
          ],
          "name": "stdout"
        }
      ]
    },
    {
      "cell_type": "code",
      "metadata": {
        "colab": {
          "base_uri": "https://localhost:8080/"
        },
        "id": "5UcE4wD0ViWb",
        "outputId": "e90a57c8-7057-45b9-c5e3-1fc379023794"
      },
      "source": [
        "start = datetime.datetime.now()\n",
        "count = 0\n",
        "for x,y in zip(cycle(cranes), boxes):\n",
        "  if x < y :\n",
        "    print(-1)\n",
        "    break\n",
        "  else:\n",
        "    count += 1\n",
        "\n",
        "if count % len(cranes) == 0:\n",
        "  print(count // len(cranes))\n",
        "else:\n",
        "  print(count // len(cranes) + 1)\n",
        "\n",
        "end = datetime.datetime.now()\n",
        "print(end-start)"
      ],
      "execution_count": 12,
      "outputs": [
        {
          "output_type": "stream",
          "text": [
            "2\n",
            "0:00:00.001443\n"
          ],
          "name": "stdout"
        }
      ]
    },
    {
      "cell_type": "markdown",
      "metadata": {
        "id": "HiOKIbzXkH21"
      },
      "source": [
        "# 강의 문제 풀이\n",
        " - 아이디어는 비슷하나, cycle을 사용하지 않음\n",
        " "
      ]
    },
    {
      "cell_type": "code",
      "metadata": {
        "colab": {
          "base_uri": "https://localhost:8080/"
        },
        "id": "mREBoEBOkT5L",
        "outputId": "7cfb6e3f-c561-489f-8144-2e906eb9ce2d"
      },
      "source": [
        "cranes, boxes"
      ],
      "execution_count": 7,
      "outputs": [
        {
          "output_type": "execute_result",
          "data": {
            "text/plain": [
              "([9, 8, 6], [7, 5, 4, 2, 2])"
            ]
          },
          "metadata": {},
          "execution_count": 7
        }
      ]
    },
    {
      "cell_type": "code",
      "metadata": {
        "id": "7KYTsaJ3k8_u"
      },
      "source": [
        "positions = [0] * n\n",
        "checked = [False] * m\n",
        "result = 0\n",
        "count = 0"
      ],
      "execution_count": 8,
      "outputs": []
    },
    {
      "cell_type": "code",
      "metadata": {
        "id": "P8Y1Xyaumma0"
      },
      "source": [
        "import datetime"
      ],
      "execution_count": 10,
      "outputs": []
    },
    {
      "cell_type": "code",
      "metadata": {
        "colab": {
          "base_uri": "https://localhost:8080/"
        },
        "id": "sPXtOd5BlK-G",
        "outputId": "0bddf85d-eabe-447e-f637-b5abc5600904"
      },
      "source": [
        "start = datetime.datetime.now()\n",
        "positions = [0] * n\n",
        "checked = [False] * m\n",
        "result = 0\n",
        "count = 0\n",
        "while True:\n",
        "  if count == len(boxes):\n",
        "    break\n",
        "\n",
        "  for i in range(n):\n",
        "    while positions[i] < len(boxes):\n",
        "      if not checked[positions[i]] and cranes[i] >= boxes[positions[i]]:\n",
        "        checked[positions[i]] = True\n",
        "        positions[i] += 1\n",
        "        count += 1\n",
        "        break\n",
        "      positions[i] += 1\n",
        "\n",
        "  result += 1\n",
        "\n",
        "print(result)\n",
        "end = datetime.datetime.now()\n",
        "print(end-start)"
      ],
      "execution_count": 11,
      "outputs": [
        {
          "output_type": "stream",
          "text": [
            "2\n",
            "0:00:00.001068\n"
          ],
          "name": "stdout"
        }
      ]
    }
  ]
}