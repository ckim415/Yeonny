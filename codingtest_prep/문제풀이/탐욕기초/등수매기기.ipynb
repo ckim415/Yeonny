{
  "nbformat": 4,
  "nbformat_minor": 0,
  "metadata": {
    "colab": {
      "name": "등수매기기.ipynb",
      "provenance": [],
      "authorship_tag": "ABX9TyNYTXeYGCFNrlAn8TC0a4pA",
      "include_colab_link": true
    },
    "kernelspec": {
      "name": "python3",
      "display_name": "Python 3"
    },
    "language_info": {
      "name": "python"
    }
  },
  "cells": [
    {
      "cell_type": "markdown",
      "metadata": {
        "id": "view-in-github",
        "colab_type": "text"
      },
      "source": [
        "<a href=\"https://colab.research.google.com/github/ckim415/Yeonny/blob/master/codingtest_prep/%EB%AC%B8%EC%A0%9C%ED%92%80%EC%9D%B4/%ED%83%90%EC%9A%95%EA%B8%B0%EC%B4%88/%EB%93%B1%EC%88%98%EB%A7%A4%EA%B8%B0%EA%B8%B0.ipynb\" target=\"_parent\"><img src=\"https://colab.research.google.com/assets/colab-badge.svg\" alt=\"Open In Colab\"/></a>"
      ]
    },
    {
      "cell_type": "markdown",
      "metadata": {
        "id": "vXDG9bUlFFj9"
      },
      "source": [
        "# 등수 매기기\n",
        " - 백준 : 2012"
      ]
    },
    {
      "cell_type": "code",
      "metadata": {
        "id": "i8SrqHWuCjOL"
      },
      "source": [
        "result = 0\n",
        "a = [1,2,3,4,5]\n",
        "b = [1,5,3,1,2]"
      ],
      "execution_count": 13,
      "outputs": []
    },
    {
      "cell_type": "code",
      "metadata": {
        "colab": {
          "base_uri": "https://localhost:8080/"
        },
        "id": "c9GjxwAFFSaf",
        "outputId": "31116da6-74bc-431b-9677-3505f00dad83"
      },
      "source": [
        "for i in range(len(b)):\n",
        "  if b[i] in a:\n",
        "    a.pop(a.index(b[i]))\n",
        "  else:\n",
        "    result += abs(a[0] - b[i])\n",
        "    a.pop(0)\n",
        "  print(i, a, result)"
      ],
      "execution_count": 14,
      "outputs": [
        {
          "output_type": "stream",
          "text": [
            "0 [2, 3, 4, 5] 0\n",
            "1 [2, 3, 4] 0\n",
            "2 [2, 4] 0\n",
            "3 [4] 1\n",
            "4 [] 3\n"
          ],
          "name": "stdout"
        }
      ]
    },
    {
      "cell_type": "code",
      "metadata": {
        "colab": {
          "base_uri": "https://localhost:8080/"
        },
        "id": "wNJVP1kJFkLA",
        "outputId": "530b34d8-5811-4039-a1f4-85a0458faa73"
      },
      "source": [
        "result"
      ],
      "execution_count": 15,
      "outputs": [
        {
          "output_type": "execute_result",
          "data": {
            "text/plain": [
              "3"
            ]
          },
          "metadata": {},
          "execution_count": 15
        }
      ]
    },
    {
      "cell_type": "markdown",
      "metadata": {
        "id": "JsVSVC4uIwto"
      },
      "source": [
        "# 강의 문제 풀이"
      ]
    },
    {
      "cell_type": "code",
      "metadata": {
        "colab": {
          "base_uri": "https://localhost:8080/"
        },
        "id": "bjNAzTsGIv2C",
        "outputId": "aaae0046-d222-459c-c77e-92d0c329337b"
      },
      "source": [
        "result = 0\n",
        "b.sort()\n",
        "for i in range(1, len(b)+1):\n",
        "  result += abs( i - b[i-1])\n",
        "result\n"
      ],
      "execution_count": 16,
      "outputs": [
        {
          "output_type": "execute_result",
          "data": {
            "text/plain": [
              "3"
            ]
          },
          "metadata": {},
          "execution_count": 16
        }
      ]
    },
    {
      "cell_type": "code",
      "metadata": {
        "colab": {
          "base_uri": "https://localhost:8080/"
        },
        "id": "oPfXK0gDJW9S",
        "outputId": "6105cb7b-3e96-42c0-9f50-a301271c9b65"
      },
      "source": [
        "print(b)"
      ],
      "execution_count": 17,
      "outputs": [
        {
          "output_type": "stream",
          "text": [
            "[1, 1, 2, 3, 5]\n"
          ],
          "name": "stdout"
        }
      ]
    }
  ]
}