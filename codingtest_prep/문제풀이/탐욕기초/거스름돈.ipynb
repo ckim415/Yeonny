{
  "nbformat": 4,
  "nbformat_minor": 0,
  "metadata": {
    "colab": {
      "name": "거스름돈.ipynb",
      "provenance": [],
      "authorship_tag": "ABX9TyNbGFByVGCYbBjkN0KOv4Ml",
      "include_colab_link": true
    },
    "kernelspec": {
      "name": "python3",
      "display_name": "Python 3"
    },
    "language_info": {
      "name": "python"
    }
  },
  "cells": [
    {
      "cell_type": "markdown",
      "metadata": {
        "id": "view-in-github",
        "colab_type": "text"
      },
      "source": [
        "<a href=\"https://colab.research.google.com/github/ckim415/Yeonny/blob/master/codingtest_prep/%EB%AC%B8%EC%A0%9C%ED%92%80%EC%9D%B4/%ED%83%90%EC%9A%95%EA%B8%B0%EC%B4%88/%EA%B1%B0%EC%8A%A4%EB%A6%84%EB%8F%88.ipynb\" target=\"_parent\"><img src=\"https://colab.research.google.com/assets/colab-badge.svg\" alt=\"Open In Colab\"/></a>"
      ]
    },
    {
      "cell_type": "markdown",
      "metadata": {
        "id": "WrP5CB1yuQOa"
      },
      "source": [
        "# 거스름돈\n",
        " - 백준 : 5585"
      ]
    },
    {
      "cell_type": "markdown",
      "metadata": {
        "id": "op4DmTybuoW3"
      },
      "source": [
        "# 내 문제 풀이"
      ]
    },
    {
      "cell_type": "markdown",
      "metadata": {
        "id": "mv3UXYSXv-8e"
      },
      "source": [
        "## ex1"
      ]
    },
    {
      "cell_type": "code",
      "metadata": {
        "colab": {
          "base_uri": "https://localhost:8080/"
        },
        "id": "kStn8THCuMwV",
        "outputId": "08a4a256-9855-4577-9957-563856f499bd"
      },
      "source": [
        "price = int(input())"
      ],
      "execution_count": 6,
      "outputs": [
        {
          "output_type": "stream",
          "text": [
            "380\n"
          ],
          "name": "stdout"
        }
      ]
    },
    {
      "cell_type": "code",
      "metadata": {
        "id": "aR-AVz74v2U2"
      },
      "source": [
        "change = 1000 - price"
      ],
      "execution_count": 7,
      "outputs": []
    },
    {
      "cell_type": "code",
      "metadata": {
        "colab": {
          "base_uri": "https://localhost:8080/"
        },
        "id": "b-N-eT9EuzdY",
        "outputId": "5fe3cf8e-505e-493f-f0c3-399015a81b6c"
      },
      "source": [
        "coins = [500, 100, 50, 10, 5, 1]\n",
        "count = 0\n",
        "i = 0\n",
        "while change > 0:\n",
        "  if change - coins[i] < 0:\n",
        "    i += 1\n",
        "\n",
        "  else:\n",
        "    change -= coins[i]\n",
        "    count += 1\n",
        "count "
      ],
      "execution_count": 8,
      "outputs": [
        {
          "output_type": "execute_result",
          "data": {
            "text/plain": [
              "4"
            ]
          },
          "metadata": {},
          "execution_count": 8
        }
      ]
    },
    {
      "cell_type": "markdown",
      "metadata": {
        "id": "CWnu2PIQwAjg"
      },
      "source": [
        "## ex2"
      ]
    },
    {
      "cell_type": "code",
      "metadata": {
        "colab": {
          "base_uri": "https://localhost:8080/"
        },
        "id": "5O75swMAuzhD",
        "outputId": "ca1fc769-b5a8-4f95-f385-03177d198598"
      },
      "source": [
        "price = int(input())\n",
        "change = 1000 - price\n",
        "coins = [500, 100, 50, 10, 5, 1]\n",
        "count = 0\n",
        "i = 0\n",
        "while change > 0:\n",
        "  if change - coins[i] < 0:\n",
        "    i += 1\n",
        "\n",
        "  else:\n",
        "    change -= coins[i]\n",
        "    count += 1\n",
        "count "
      ],
      "execution_count": 9,
      "outputs": [
        {
          "output_type": "stream",
          "text": [
            "1\n"
          ],
          "name": "stdout"
        },
        {
          "output_type": "execute_result",
          "data": {
            "text/plain": [
              "15"
            ]
          },
          "metadata": {},
          "execution_count": 9
        }
      ]
    },
    {
      "cell_type": "markdown",
      "metadata": {
        "id": "Y8xb5wBcwg8X"
      },
      "source": [
        "# 강의 문제 풀이"
      ]
    },
    {
      "cell_type": "code",
      "metadata": {
        "colab": {
          "base_uri": "https://localhost:8080/"
        },
        "id": "ZHEAIb1_wzR9",
        "outputId": "71b56894-e71a-4902-a412-13d588d142ba"
      },
      "source": [
        "print(5 // 2)\n",
        "print(5 % 2)"
      ],
      "execution_count": 12,
      "outputs": [
        {
          "output_type": "stream",
          "text": [
            "2\n",
            "1\n"
          ],
          "name": "stdout"
        }
      ]
    },
    {
      "cell_type": "code",
      "metadata": {
        "colab": {
          "base_uri": "https://localhost:8080/"
        },
        "id": "TBJq59ttwjAt",
        "outputId": "68676e46-d3e3-4ee2-a879-9a39bc996a48"
      },
      "source": [
        "change = 1000 - int(input())\n",
        "count = 0\n",
        "for i in [500,100,50,10,5,1]:\n",
        "  count += change // i\n",
        "  change %= i\n",
        "count"
      ],
      "execution_count": 13,
      "outputs": [
        {
          "output_type": "stream",
          "text": [
            "380\n"
          ],
          "name": "stdout"
        },
        {
          "output_type": "execute_result",
          "data": {
            "text/plain": [
              "4"
            ]
          },
          "metadata": {},
          "execution_count": 13
        }
      ]
    }
  ]
}