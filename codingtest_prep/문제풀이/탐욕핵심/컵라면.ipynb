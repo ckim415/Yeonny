{
  "nbformat": 4,
  "nbformat_minor": 0,
  "metadata": {
    "colab": {
      "name": "컵라면.ipynb",
      "provenance": [],
      "authorship_tag": "ABX9TyNLvpA+KZ6Sd8oK8SDBHeKd",
      "include_colab_link": true
    },
    "kernelspec": {
      "name": "python3",
      "display_name": "Python 3"
    },
    "language_info": {
      "name": "python"
    }
  },
  "cells": [
    {
      "cell_type": "markdown",
      "metadata": {
        "id": "view-in-github",
        "colab_type": "text"
      },
      "source": [
        "<a href=\"https://colab.research.google.com/github/ckim415/Yeonny/blob/master/condingtest_prep/%EB%AC%B8%EC%A0%9C%ED%92%80%EC%9D%B4/%ED%83%90%EC%9A%95%ED%95%B5%EC%8B%AC/%EC%BB%B5%EB%9D%BC%EB%A9%B4.ipynb\" target=\"_parent\"><img src=\"https://colab.research.google.com/assets/colab-badge.svg\" alt=\"Open In Colab\"/></a>"
      ]
    },
    {
      "cell_type": "code",
      "metadata": {
        "id": "bAG3jNW5WzWQ"
      },
      "source": [
        "import heapq"
      ],
      "execution_count": 3,
      "outputs": []
    },
    {
      "cell_type": "code",
      "metadata": {
        "colab": {
          "base_uri": "https://localhost:8080/"
        },
        "id": "TV8_ckCLV-CI",
        "outputId": "195d68ee-c00d-4d38-d24f-1dea074daa96"
      },
      "source": [
        "n = int(input())\n",
        "data = []\n",
        "for i in range(n):\n",
        "  x, y = map(int, input().split())\n",
        "  heapq.heappush(data, (x,y))"
      ],
      "execution_count": 5,
      "outputs": [
        {
          "output_type": "stream",
          "text": [
            "7 \n",
            "1 6\n",
            "1 7\n",
            "3 2\n",
            "3 1\n",
            "2 4\n",
            "2 5\n",
            "6 1\n"
          ],
          "name": "stdout"
        }
      ]
    },
    {
      "cell_type": "code",
      "metadata": {
        "colab": {
          "base_uri": "https://localhost:8080/"
        },
        "id": "8vmVkWg3XNQq",
        "outputId": "01df33e3-0007-48ac-e0c8-bc9d1d847ee4"
      },
      "source": [
        "data"
      ],
      "execution_count": 6,
      "outputs": [
        {
          "output_type": "execute_result",
          "data": {
            "text/plain": [
              "[(1, 6), (1, 7), (2, 5), (3, 1), (2, 4), (3, 2), (6, 1)]"
            ]
          },
          "metadata": {},
          "execution_count": 6
        }
      ]
    },
    {
      "cell_type": "code",
      "metadata": {
        "id": "cbN6k5jWXRAW"
      },
      "source": [
        "data_recover = data"
      ],
      "execution_count": 7,
      "outputs": []
    },
    {
      "cell_type": "code",
      "metadata": {
        "colab": {
          "base_uri": "https://localhost:8080/"
        },
        "id": "h61q8XeUXVQc",
        "outputId": "83d59a03-8104-4263-88ce-1cb486079b84"
      },
      "source": [
        "heapq.heappop(data)"
      ],
      "execution_count": 8,
      "outputs": [
        {
          "output_type": "execute_result",
          "data": {
            "text/plain": [
              "(1, 6)"
            ]
          },
          "metadata": {},
          "execution_count": 8
        }
      ]
    },
    {
      "cell_type": "code",
      "metadata": {
        "colab": {
          "base_uri": "https://localhost:8080/"
        },
        "id": "s4EndA-JXdp1",
        "outputId": "383418c6-9fa8-4098-e26f-8ed30a93032c"
      },
      "source": [
        "heapq.heappop(data)"
      ],
      "execution_count": 9,
      "outputs": [
        {
          "output_type": "execute_result",
          "data": {
            "text/plain": [
              "(1, 7)"
            ]
          },
          "metadata": {},
          "execution_count": 9
        }
      ]
    },
    {
      "cell_type": "code",
      "metadata": {
        "id": "aqpJl3UyYCp-"
      },
      "source": [
        "data = [(1, 6), (1, 7), (2, 5), (3, 1), (2, 4), (3, 2), (6, 1)]"
      ],
      "execution_count": 23,
      "outputs": []
    },
    {
      "cell_type": "code",
      "metadata": {
        "colab": {
          "base_uri": "https://localhost:8080/"
        },
        "id": "u8xXmb7DXlkU",
        "outputId": "f5d20fa5-cb4e-42eb-cd76-52e6d2f1350e"
      },
      "source": [
        "result = 0\n",
        "while data:\n",
        "  heapq.heappop(data)\n",
        "  if data:\n",
        "    noodles = heapq.heappop(data)\n",
        "    result += noodles[-1]\n",
        "result"
      ],
      "execution_count": 24,
      "outputs": [
        {
          "output_type": "execute_result",
          "data": {
            "text/plain": [
              "14"
            ]
          },
          "metadata": {},
          "execution_count": 24
        }
      ]
    },
    {
      "cell_type": "markdown",
      "metadata": {
        "id": "-Etn1kx1Zp59"
      },
      "source": [
        "#강의 문제 풀이\n"
      ]
    },
    {
      "cell_type": "code",
      "metadata": {
        "id": "hbTqD2ZzZrXV"
      },
      "source": [
        "array =  [(1, 6), (1, 7), (2, 5), (3, 1), (2, 4), (3, 2), (6, 1)]  # array에 append / not heappush"
      ],
      "execution_count": 25,
      "outputs": []
    },
    {
      "cell_type": "code",
      "metadata": {
        "colab": {
          "base_uri": "https://localhost:8080/"
        },
        "id": "1IPWuoTmZ0aA",
        "outputId": "59d4e386-f539-484d-a78c-9bfb35e5a9de"
      },
      "source": [
        "array.sort()\n",
        "array\n"
      ],
      "execution_count": 26,
      "outputs": [
        {
          "output_type": "execute_result",
          "data": {
            "text/plain": [
              "[(1, 6), (1, 7), (2, 4), (2, 5), (3, 1), (3, 2), (6, 1)]"
            ]
          },
          "metadata": {},
          "execution_count": 26
        }
      ]
    },
    {
      "cell_type": "code",
      "metadata": {
        "id": "EMR3hE28Z7Ls"
      },
      "source": [
        "q = []\n",
        "for i in array:\n",
        "  a = i[0]\n",
        "  heapq.heappush(q, i[1])\n",
        "\n",
        "  if a < len(q):\n",
        "    heapq.heappop(q)"
      ],
      "execution_count": 29,
      "outputs": []
    },
    {
      "cell_type": "code",
      "metadata": {
        "colab": {
          "base_uri": "https://localhost:8080/"
        },
        "id": "42hieLxbaHgk",
        "outputId": "6f158527-64ef-4a2d-d550-aeac2367e9ad"
      },
      "source": [
        "q\n"
      ],
      "execution_count": 30,
      "outputs": [
        {
          "output_type": "execute_result",
          "data": {
            "text/plain": [
              "[1, 2, 5, 7]"
            ]
          },
          "metadata": {},
          "execution_count": 30
        }
      ]
    },
    {
      "cell_type": "code",
      "metadata": {
        "colab": {
          "base_uri": "https://localhost:8080/"
        },
        "id": "BYych8NFaNBZ",
        "outputId": "ddba8912-ab71-4a20-bcdb-0eef72b26dbb"
      },
      "source": [
        "sum(q)"
      ],
      "execution_count": 31,
      "outputs": [
        {
          "output_type": "execute_result",
          "data": {
            "text/plain": [
              "15"
            ]
          },
          "metadata": {},
          "execution_count": 31
        }
      ]
    }
  ]
}
