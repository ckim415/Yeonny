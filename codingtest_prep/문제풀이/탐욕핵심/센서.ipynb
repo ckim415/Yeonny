{
  "nbformat": 4,
  "nbformat_minor": 0,
  "metadata": {
    "colab": {
      "name": "센서.ipynb",
      "provenance": [],
      "authorship_tag": "ABX9TyNUNXulVv2dwnvwa3l8OaJh",
      "include_colab_link": true
    },
    "kernelspec": {
      "name": "python3",
      "display_name": "Python 3"
    },
    "language_info": {
      "name": "python"
    }
  },
  "cells": [
    {
      "cell_type": "markdown",
      "metadata": {
        "id": "view-in-github",
        "colab_type": "text"
      },
      "source": [
        "<a href=\"https://colab.research.google.com/github/ckim415/Yeonny/blob/master/codingtest_prep/%EB%AC%B8%EC%A0%9C%ED%92%80%EC%9D%B4/%ED%83%90%EC%9A%95%ED%95%B5%EC%8B%AC/%EC%84%BC%EC%84%9C.ipynb\" target=\"_parent\"><img src=\"https://colab.research.google.com/assets/colab-badge.svg\" alt=\"Open In Colab\"/></a>"
      ]
    },
    {
      "cell_type": "markdown",
      "metadata": {
        "id": "oaJi5jqo141-"
      },
      "source": [
        "# 센서\n",
        " - 백준 : 2212"
      ]
    },
    {
      "cell_type": "code",
      "metadata": {
        "colab": {
          "base_uri": "https://localhost:8080/"
        },
        "id": "Pg4zh58p130Z",
        "outputId": "0d8d770e-ee54-4595-a910-af096ac6a07b"
      },
      "source": [
        "import sys\n",
        "n = int(input())\n",
        "k = int(input())\n",
        "n, k"
      ],
      "execution_count": 1,
      "outputs": [
        {
          "output_type": "stream",
          "text": [
            "6\n",
            "2\n"
          ],
          "name": "stdout"
        },
        {
          "output_type": "execute_result",
          "data": {
            "text/plain": [
              "(6, 2)"
            ]
          },
          "metadata": {},
          "execution_count": 1
        }
      ]
    },
    {
      "cell_type": "code",
      "metadata": {
        "id": "RX8jJN-T2JCo"
      },
      "source": [
        "if k >= n:\n",
        "  print(0)\n",
        "  sys.exit(0)"
      ],
      "execution_count": 2,
      "outputs": []
    },
    {
      "cell_type": "code",
      "metadata": {
        "colab": {
          "base_uri": "https://localhost:8080/"
        },
        "id": "C3Lgvz-_2NeM",
        "outputId": "5e14ed7a-ea32-475a-968d-dc91ba4f8941"
      },
      "source": [
        "array = list(map(int, input().split()))"
      ],
      "execution_count": 3,
      "outputs": [
        {
          "output_type": "stream",
          "text": [
            "1 6 9 3 6 7\n"
          ],
          "name": "stdout"
        }
      ]
    },
    {
      "cell_type": "code",
      "metadata": {
        "colab": {
          "base_uri": "https://localhost:8080/"
        },
        "id": "vGEGR66x2W6X",
        "outputId": "9ba68b29-90b0-403c-b1e9-3234975d28d7"
      },
      "source": [
        "array.sort()\n",
        "array"
      ],
      "execution_count": 4,
      "outputs": [
        {
          "output_type": "execute_result",
          "data": {
            "text/plain": [
              "[1, 3, 6, 6, 7, 9]"
            ]
          },
          "metadata": {},
          "execution_count": 4
        }
      ]
    },
    {
      "cell_type": "code",
      "metadata": {
        "colab": {
          "base_uri": "https://localhost:8080/"
        },
        "id": "XM7qJga52Y7U",
        "outputId": "2798b33a-fac5-4720-9e6a-985a3aca0eff"
      },
      "source": [
        "distances = []\n",
        "for i in range(1, n):\n",
        "  distances.append(array[i] - array[i-1])\n",
        "distances"
      ],
      "execution_count": 5,
      "outputs": [
        {
          "output_type": "execute_result",
          "data": {
            "text/plain": [
              "[2, 3, 0, 1, 2]"
            ]
          },
          "metadata": {},
          "execution_count": 5
        }
      ]
    },
    {
      "cell_type": "code",
      "metadata": {
        "id": "zKNfMSZp2jJx"
      },
      "source": [
        "distances.sort(reverse = True)"
      ],
      "execution_count": 6,
      "outputs": []
    },
    {
      "cell_type": "code",
      "metadata": {
        "colab": {
          "base_uri": "https://localhost:8080/"
        },
        "id": "SrYg08Zq2oIM",
        "outputId": "b76c1844-3496-4c9a-f044-24491482f7e8"
      },
      "source": [
        "for i in range(k-1):\n",
        "  distances[i] = 0\n",
        "\n",
        "print(sum(distances)) "
      ],
      "execution_count": 7,
      "outputs": [
        {
          "output_type": "stream",
          "text": [
            "5\n"
          ],
          "name": "stdout"
        }
      ]
    }
  ]
}