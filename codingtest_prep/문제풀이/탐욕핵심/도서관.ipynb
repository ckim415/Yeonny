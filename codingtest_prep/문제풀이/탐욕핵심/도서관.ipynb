{
  "nbformat": 4,
  "nbformat_minor": 0,
  "metadata": {
    "colab": {
      "name": "도서관.ipynb",
      "provenance": [],
      "authorship_tag": "ABX9TyNydNtBYI5RznjNqJ9SK15A",
      "include_colab_link": true
    },
    "kernelspec": {
      "name": "python3",
      "display_name": "Python 3"
    },
    "language_info": {
      "name": "python"
    }
  },
  "cells": [
    {
      "cell_type": "markdown",
      "metadata": {
        "id": "view-in-github",
        "colab_type": "text"
      },
      "source": [
        "<a href=\"https://colab.research.google.com/github/ckim415/Yeonny/blob/master/codingtest_prep/%EB%AC%B8%EC%A0%9C%ED%92%80%EC%9D%B4/%ED%83%90%EC%9A%95%ED%95%B5%EC%8B%AC/%EB%8F%84%EC%84%9C%EA%B4%80.ipynb\" target=\"_parent\"><img src=\"https://colab.research.google.com/assets/colab-badge.svg\" alt=\"Open In Colab\"/></a>"
      ]
    },
    {
      "cell_type": "code",
      "metadata": {
        "id": "Q3DEyukALTQ0"
      },
      "source": [
        "import heapq"
      ],
      "execution_count": 1,
      "outputs": []
    },
    {
      "cell_type": "code",
      "metadata": {
        "id": "e64g-vP4LX76"
      },
      "source": [
        "books = [-37, 2, -6, -39, -29, 11, -28]"
      ],
      "execution_count": 2,
      "outputs": []
    },
    {
      "cell_type": "code",
      "metadata": {
        "id": "p6PjWD77Ldqk"
      },
      "source": [
        "positive, negative = [],[]\n",
        "for i in books:\n",
        "  if i >0:\n",
        "    heapq.heappush(positive, -i)\n",
        "  else:\n",
        "    heapq.heappush(negative, i)"
      ],
      "execution_count": 19,
      "outputs": []
    },
    {
      "cell_type": "code",
      "metadata": {
        "colab": {
          "base_uri": "https://localhost:8080/"
        },
        "id": "hI1ppuY1LtXB",
        "outputId": "d8636f6a-92fb-450a-9594-285ab23030dc"
      },
      "source": [
        "negative"
      ],
      "execution_count": 20,
      "outputs": [
        {
          "output_type": "execute_result",
          "data": {
            "text/plain": [
              "[-39, -29, -37, -6, -28]"
            ]
          },
          "metadata": {},
          "execution_count": 20
        }
      ]
    },
    {
      "cell_type": "code",
      "metadata": {
        "colab": {
          "base_uri": "https://localhost:8080/"
        },
        "id": "RZL5pi5kLv-p",
        "outputId": "db690ea1-0eb0-42ec-b7bf-71823a945724"
      },
      "source": [
        "positive"
      ],
      "execution_count": 21,
      "outputs": [
        {
          "output_type": "execute_result",
          "data": {
            "text/plain": [
              "[-11, -2]"
            ]
          },
          "metadata": {},
          "execution_count": 21
        }
      ]
    },
    {
      "cell_type": "code",
      "metadata": {
        "colab": {
          "base_uri": "https://localhost:8080/"
        },
        "id": "6LQ8_qBaM8mn",
        "outputId": "f95e81e3-8466-459d-c92b-8f9dc727de50"
      },
      "source": [
        "largest = min(min(negative), min(positive))\n",
        "largest"
      ],
      "execution_count": 24,
      "outputs": [
        {
          "output_type": "execute_result",
          "data": {
            "text/plain": [
              "-39"
            ]
          },
          "metadata": {},
          "execution_count": 24
        }
      ]
    },
    {
      "cell_type": "code",
      "metadata": {
        "colab": {
          "base_uri": "https://localhost:8080/"
        },
        "id": "4krJNfWaLzpY",
        "outputId": "36b24653-08c9-40aa-fcec-21a665577d4b"
      },
      "source": [
        "result = 0\n",
        "while negative:\n",
        "  x= heapq.heappop(negative)\n",
        "  result += x\n",
        "  print(x)\n",
        "  for i in range(1):\n",
        "    if negative:\n",
        "      y = heapq.heappop(negative)\n",
        "      print(y)\n",
        "\n",
        "while positive:\n",
        "  x= heapq.heappop(positive)\n",
        "  result += x\n",
        "  print(x)\n",
        "  for i in range(1):\n",
        "    if positive:\n",
        "      y = heapq.heappop(positive)\n",
        "      print(y)\n",
        "\n",
        "print(result)"
      ],
      "execution_count": 17,
      "outputs": [
        {
          "output_type": "stream",
          "text": [
            "-39\n",
            "-37\n",
            "-29\n",
            "-28\n",
            "-6\n",
            "-11\n",
            "-2\n",
            "-85\n"
          ],
          "name": "stdout"
        }
      ]
    },
    {
      "cell_type": "code",
      "metadata": {
        "colab": {
          "base_uri": "https://localhost:8080/"
        },
        "id": "JRrGoaL5M0QR",
        "outputId": "57c52bca-2db7-4e00-8a24-45454d27f75c"
      },
      "source": [
        "result"
      ],
      "execution_count": 18,
      "outputs": [
        {
          "output_type": "execute_result",
          "data": {
            "text/plain": [
              "-85"
            ]
          },
          "metadata": {},
          "execution_count": 18
        }
      ]
    },
    {
      "cell_type": "code",
      "metadata": {
        "colab": {
          "base_uri": "https://localhost:8080/"
        },
        "id": "IymvltbeM7FH",
        "outputId": "735b6591-7c20-4896-d8c0-526d83562ace"
      },
      "source": [
        "-result * 2 + largest"
      ],
      "execution_count": 28,
      "outputs": [
        {
          "output_type": "execute_result",
          "data": {
            "text/plain": [
              "131"
            ]
          },
          "metadata": {},
          "execution_count": 28
        }
      ]
    }
  ]
}