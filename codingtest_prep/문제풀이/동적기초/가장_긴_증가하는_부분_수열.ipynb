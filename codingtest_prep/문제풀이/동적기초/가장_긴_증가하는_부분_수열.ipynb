{
  "nbformat": 4,
  "nbformat_minor": 0,
  "metadata": {
    "colab": {
      "name": "가장 긴 증가하는 부분 수열.ipynb",
      "provenance": [],
      "authorship_tag": "ABX9TyMnG9uYrvi/gxdMMpkMg3/O",
      "include_colab_link": true
    },
    "kernelspec": {
      "name": "python3",
      "display_name": "Python 3"
    },
    "language_info": {
      "name": "python"
    }
  },
  "cells": [
    {
      "cell_type": "markdown",
      "metadata": {
        "id": "view-in-github",
        "colab_type": "text"
      },
      "source": [
        "<a href=\"https://colab.research.google.com/github/ckim415/Yeonny/blob/master/codingtest_prep/%EB%AC%B8%EC%A0%9C%ED%92%80%EC%9D%B4/%EB%8F%99%EC%A0%81%EA%B8%B0%EC%B4%88/%EA%B0%80%EC%9E%A5_%EA%B8%B4_%EC%A6%9D%EA%B0%80%ED%95%98%EB%8A%94_%EB%B6%80%EB%B6%84_%EC%88%98%EC%97%B4.ipynb\" target=\"_parent\"><img src=\"https://colab.research.google.com/assets/colab-badge.svg\" alt=\"Open In Colab\"/></a>"
      ]
    },
    {
      "cell_type": "markdown",
      "metadata": {
        "id": "7jiYw2rXTWft"
      },
      "source": [
        "# 가장 긴 증가하는 부분 수열\n",
        " - 백준 : 11053"
      ]
    },
    {
      "cell_type": "markdown",
      "metadata": {
        "id": "9G8mt_9zfL8U"
      },
      "source": [
        "# 내 문제 풀이"
      ]
    },
    {
      "cell_type": "code",
      "metadata": {
        "colab": {
          "base_uri": "https://localhost:8080/"
        },
        "id": "9FsaxIjCTTSQ",
        "outputId": "544d2c1a-9cb4-4a73-967a-99c492eb5ad6"
      },
      "source": [
        "n = int(input())\n",
        "sequential = list(map(int, input().split()))\n",
        "inc_seq = [sequential[0]]\n",
        "for i in range(1,n):\n",
        "  if inc_seq[-1] < sequential[i]:\n",
        "    inc_seq.append(sequential[i])\n",
        "\n",
        "print(len(inc_seq))\n",
        "  "
      ],
      "execution_count": 1,
      "outputs": [
        {
          "output_type": "stream",
          "text": [
            "6\n",
            "10 20 10 30 20 50\n",
            "4\n"
          ],
          "name": "stdout"
        }
      ]
    },
    {
      "cell_type": "code",
      "metadata": {
        "id": "qWdmtTkfVfeg"
      },
      "source": [
        "import datetime"
      ],
      "execution_count": 2,
      "outputs": []
    },
    {
      "cell_type": "code",
      "metadata": {
        "colab": {
          "base_uri": "https://localhost:8080/"
        },
        "id": "6yb-gMQEVjdT",
        "outputId": "50213481-2715-45b6-8aa3-1ef6137b7ddc"
      },
      "source": [
        "start = datetime.datetime.now()\n",
        "inc_seq = [sequential[0]]\n",
        "for i in range(1,n):\n",
        "  if inc_seq[-1] < sequential[i]:\n",
        "    inc_seq.append(sequential[i])\n",
        "\n",
        "print(len(inc_seq))\n",
        "end = datetime.datetime.now()\n",
        "print(end - start)"
      ],
      "execution_count": 3,
      "outputs": [
        {
          "output_type": "stream",
          "text": [
            "4\n",
            "0:00:00.000664\n"
          ],
          "name": "stdout"
        }
      ]
    },
    {
      "cell_type": "markdown",
      "metadata": {
        "id": "6m-ddgbNfSrq"
      },
      "source": [
        "# 강의 문제 풀이"
      ]
    },
    {
      "cell_type": "code",
      "metadata": {
        "colab": {
          "base_uri": "https://localhost:8080/"
        },
        "id": "Xg_9fvDvVsCm",
        "outputId": "63d76906-ba3a-4330-a593-36bea3956ccf"
      },
      "source": [
        "start = datetime.datetime.now()\n",
        "dp = [1] * n\n",
        "for i in range(1,n):\n",
        "  for j in range(0,i):\n",
        "    if sequential[j] < sequential[i]:\n",
        "      dp[i] = max(dp[i], dp[j] +1)\n",
        "print(max(dp))\n",
        "end = datetime.datetime.now()\n",
        "print(end - start)"
      ],
      "execution_count": 9,
      "outputs": [
        {
          "output_type": "stream",
          "text": [
            "4\n",
            "0:00:00.001439\n"
          ],
          "name": "stdout"
        }
      ]
    },
    {
      "cell_type": "code",
      "metadata": {
        "colab": {
          "base_uri": "https://localhost:8080/"
        },
        "id": "ZZOSGIIhfc-h",
        "outputId": "e0858d78-f9e3-43b5-ea81-c5beaf9153af"
      },
      "source": [
        "dp"
      ],
      "execution_count": 8,
      "outputs": [
        {
          "output_type": "execute_result",
          "data": {
            "text/plain": [
              "[1, 2, 1, 3, 2, 4]"
            ]
          },
          "metadata": {
            "tags": []
          },
          "execution_count": 8
        }
      ]
    }
  ]
}