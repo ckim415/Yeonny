{
  "nbformat": 4,
  "nbformat_minor": 0,
  "metadata": {
    "colab": {
      "name": "01타일.ipynb",
      "provenance": [],
      "authorship_tag": "ABX9TyOkIlbVh8tr4yiE6T8w+yiU",
      "include_colab_link": true
    },
    "kernelspec": {
      "name": "python3",
      "display_name": "Python 3"
    },
    "language_info": {
      "name": "python"
    }
  },
  "cells": [
    {
      "cell_type": "markdown",
      "metadata": {
        "id": "view-in-github",
        "colab_type": "text"
      },
      "source": [
        "<a href=\"https://colab.research.google.com/github/ckim415/Yeonny/blob/master/codingtest_prep/%EB%AC%B8%EC%A0%9C%ED%92%80%EC%9D%B4/%EB%8F%99%EC%A0%81%EA%B8%B0%EC%B4%88/01%ED%83%80%EC%9D%BC.ipynb\" target=\"_parent\"><img src=\"https://colab.research.google.com/assets/colab-badge.svg\" alt=\"Open In Colab\"/></a>"
      ]
    },
    {
      "cell_type": "code",
      "metadata": {
        "id": "Lu5SSNAwpLHh"
      },
      "source": [
        "from itertools import permutations, combinations"
      ],
      "execution_count": 2,
      "outputs": []
    },
    {
      "cell_type": "code",
      "metadata": {
        "id": "s-oISilVs9x-"
      },
      "source": [
        "binary = ['1','0','0']"
      ],
      "execution_count": 14,
      "outputs": []
    },
    {
      "cell_type": "code",
      "metadata": {
        "colab": {
          "base_uri": "https://localhost:8080/"
        },
        "id": "dkkxSVBssuqR",
        "outputId": "a2c3e953-b6ab-4007-e494-76af8b88b2be"
      },
      "source": [
        "alist =list(permutations(binary, 3))\n",
        "alist"
      ],
      "execution_count": 17,
      "outputs": [
        {
          "output_type": "execute_result",
          "data": {
            "text/plain": [
              "[('1', '0', '0'),\n",
              " ('1', '0', '0'),\n",
              " ('0', '1', '0'),\n",
              " ('0', '0', '1'),\n",
              " ('0', '1', '0'),\n",
              " ('0', '0', '1')]"
            ]
          },
          "metadata": {
            "tags": []
          },
          "execution_count": 17
        }
      ]
    },
    {
      "cell_type": "code",
      "metadata": {
        "colab": {
          "base_uri": "https://localhost:8080/"
        },
        "id": "Qo3JzisktEf3",
        "outputId": "0e8f2513-5e00-4ab7-a254-3b149dc78e57"
      },
      "source": [
        "n = int(input())\n",
        "dp = [0] * 100001\n",
        "dp[1] = 1\n",
        "dp[2] = 2\n",
        "for i in range(3, n+1):\n",
        "  dp[i] = dp[i-1] + dp[i-2]\n",
        "\n",
        "dp[n]"
      ],
      "execution_count": 18,
      "outputs": [
        {
          "output_type": "stream",
          "text": [
            "6\n"
          ],
          "name": "stdout"
        },
        {
          "output_type": "execute_result",
          "data": {
            "text/plain": [
              "13"
            ]
          },
          "metadata": {
            "tags": []
          },
          "execution_count": 18
        }
      ]
    }
  ]
}