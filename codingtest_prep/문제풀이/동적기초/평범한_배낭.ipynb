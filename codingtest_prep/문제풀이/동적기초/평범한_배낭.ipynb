{
  "nbformat": 4,
  "nbformat_minor": 0,
  "metadata": {
    "colab": {
      "name": "평범한 배낭.ipynb",
      "provenance": [],
      "authorship_tag": "ABX9TyNypo119kN0JPBeKPYOkp1A",
      "include_colab_link": true
    },
    "kernelspec": {
      "name": "python3",
      "display_name": "Python 3"
    },
    "language_info": {
      "name": "python"
    }
  },
  "cells": [
    {
      "cell_type": "markdown",
      "metadata": {
        "id": "view-in-github",
        "colab_type": "text"
      },
      "source": [
        "<a href=\"https://colab.research.google.com/github/ckim415/Yeonny/blob/master/codingtest_prep/%EB%AC%B8%EC%A0%9C%ED%92%80%EC%9D%B4/%EB%8F%99%EC%A0%81%EA%B8%B0%EC%B4%88/%ED%8F%89%EB%B2%94%ED%95%9C_%EB%B0%B0%EB%82%AD.ipynb\" target=\"_parent\"><img src=\"https://colab.research.google.com/assets/colab-badge.svg\" alt=\"Open In Colab\"/></a>"
      ]
    },
    {
      "cell_type": "markdown",
      "metadata": {
        "id": "VgsCa0p8EbpC"
      },
      "source": [
        "# 평범한 배낭\n",
        " - 백준 12865 "
      ]
    },
    {
      "cell_type": "code",
      "metadata": {
        "colab": {
          "base_uri": "https://localhost:8080/"
        },
        "id": "Dad0iArfNATc",
        "outputId": "7216bc35-464d-4c49-947a-7e28e9d3623a"
      },
      "source": [
        "n, k = map(int, input().split() )"
      ],
      "execution_count": 16,
      "outputs": [
        {
          "output_type": "stream",
          "text": [
            "4 7\n"
          ],
          "name": "stdout"
        }
      ]
    },
    {
      "cell_type": "code",
      "metadata": {
        "colab": {
          "base_uri": "https://localhost:8080/"
        },
        "id": "DiLIPOcBFUHa",
        "outputId": "d3b47b5b-26ce-48c8-a3f9-0cddcb5d2668"
      },
      "source": [
        "dp = [[0]*(k+1) for i in range(n+1)]\n",
        "dp"
      ],
      "execution_count": 17,
      "outputs": [
        {
          "output_type": "execute_result",
          "data": {
            "text/plain": [
              "[[0, 0, 0, 0, 0, 0, 0, 0],\n",
              " [0, 0, 0, 0, 0, 0, 0, 0],\n",
              " [0, 0, 0, 0, 0, 0, 0, 0],\n",
              " [0, 0, 0, 0, 0, 0, 0, 0],\n",
              " [0, 0, 0, 0, 0, 0, 0, 0]]"
            ]
          },
          "metadata": {
            "tags": []
          },
          "execution_count": 17
        }
      ]
    },
    {
      "cell_type": "code",
      "metadata": {
        "colab": {
          "base_uri": "https://localhost:8080/"
        },
        "id": "g7RqlGTqM0eU",
        "outputId": "d2c91daa-8a8d-49cd-b73a-0813082c3204"
      },
      "source": [
        "for i in range(1, n+1):\n",
        "  weight, value = map(int, input().split())\n",
        "  for j in range(1, k+1):\n",
        "    if j < weight:\n",
        "      dp[i][j] = dp[i-1][j]\n",
        "    else:\n",
        "      dp[i][j] = max(dp[i-1][j], dp[i-1][j-weight]+value)\n",
        "\n",
        "print(dp[n][k])"
      ],
      "execution_count": 18,
      "outputs": [
        {
          "output_type": "stream",
          "text": [
            "6 13\n",
            "4 8\n",
            "3 6\n",
            "5 12\n",
            "14\n"
          ],
          "name": "stdout"
        }
      ]
    },
    {
      "cell_type": "code",
      "metadata": {
        "colab": {
          "base_uri": "https://localhost:8080/"
        },
        "id": "e9-INpSSQoMv",
        "outputId": "fa4fad62-fe9e-45c8-f40d-f62c6a5fdf90"
      },
      "source": [
        "dp"
      ],
      "execution_count": 19,
      "outputs": [
        {
          "output_type": "execute_result",
          "data": {
            "text/plain": [
              "[[0, 0, 0, 0, 0, 0, 0, 0],\n",
              " [0, 0, 0, 0, 0, 0, 13, 13],\n",
              " [0, 0, 0, 0, 8, 8, 13, 13],\n",
              " [0, 0, 0, 6, 8, 8, 13, 14],\n",
              " [0, 0, 0, 6, 8, 12, 13, 14]]"
            ]
          },
          "metadata": {
            "tags": []
          },
          "execution_count": 19
        }
      ]
    }
  ]
}