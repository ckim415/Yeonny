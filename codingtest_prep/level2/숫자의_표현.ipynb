{
  "nbformat": 4,
  "nbformat_minor": 0,
  "metadata": {
    "colab": {
      "name": "숫자의 표현.ipynb",
      "provenance": [],
      "authorship_tag": "ABX9TyPJOONLTjU7KlvJ8CfygT+s",
      "include_colab_link": true
    },
    "kernelspec": {
      "name": "python3",
      "display_name": "Python 3"
    },
    "language_info": {
      "name": "python"
    }
  },
  "cells": [
    {
      "cell_type": "markdown",
      "metadata": {
        "id": "view-in-github",
        "colab_type": "text"
      },
      "source": [
        "<a href=\"https://colab.research.google.com/github/ckim415/Yeonny/blob/master/codingtest_prep/level2/%EC%88%AB%EC%9E%90%EC%9D%98_%ED%91%9C%ED%98%84.ipynb\" target=\"_parent\"><img src=\"https://colab.research.google.com/assets/colab-badge.svg\" alt=\"Open In Colab\"/></a>"
      ]
    },
    {
      "cell_type": "markdown",
      "metadata": {
        "id": "MBhw8QWpTqV-"
      },
      "source": [
        "# 숫자의 표현"
      ]
    },
    {
      "cell_type": "markdown",
      "metadata": {
        "id": "QANpFjJ4TmZ0"
      },
      "source": [
        "##문제 설명\n",
        "Finn은 요즘 수학공부에 빠져 있습니다. 수학 공부를 하던 Finn은 자연수 n을 연속한 자연수들로 표현 하는 방법이 여러개라는 사실을 알게 되었습니다. 예를들어 15는 다음과 같이 4가지로 표현 할 수 있습니다.\n",
        "\n",
        "1 + 2 + 3 + 4 + 5 = 15\n",
        "\n",
        "4 + 5 + 6 = 15\n",
        "\n",
        "7 + 8 = 15\n",
        "\n",
        "15 = 15\n",
        "\n",
        "자연수 n이 매개변수로 주어질 때, 연속된 자연수들로 n을 표현하는 방법의 수를 return하는 solution를 완성해주세요.\n",
        "\n",
        "##제한사항\n",
        "n은 10,000 이하의 자연수 입니다."
      ]
    },
    {
      "cell_type": "code",
      "metadata": {
        "id": "zK9zmK7FXL8l"
      },
      "source": [
        "n = 15\n",
        "num = 0\n",
        "\n",
        "#for loop 안에서 1부터 n까지\n",
        "#while num <= n:\n",
        "# 연속되는 숫자들 다 더하기\n"
      ],
      "execution_count": 3,
      "outputs": []
    },
    {
      "cell_type": "code",
      "metadata": {
        "colab": {
          "base_uri": "https://localhost:8080/"
        },
        "id": "J2o2eAyBZlFU",
        "outputId": "2a322a25-d4fa-4345-b207-aa3f26ff6cdd"
      },
      "source": [
        "15//2\n"
      ],
      "execution_count": 1,
      "outputs": [
        {
          "output_type": "execute_result",
          "data": {
            "text/plain": [
              "7"
            ]
          },
          "metadata": {
            "tags": []
          },
          "execution_count": 1
        }
      ]
    },
    {
      "cell_type": "code",
      "metadata": {
        "colab": {
          "base_uri": "https://localhost:8080/"
        },
        "id": "pqjxgaA4Wben",
        "outputId": "69c149ee-ac51-4cc7-eb13-3bfa8f3f00c0"
      },
      "source": [
        "def solution(n):\n",
        "  answer = 0\n",
        "  for i in range(1, n//2+1):\n",
        "    num = [i]\n",
        "    while sum(num) <= n:\n",
        "      if sum(num) == n:\n",
        "        answer += 1\n",
        "        break\n",
        "      num.append(num[-1]+1)\n",
        "      print(i,num, answer)\n",
        "      \n",
        "  return answer"
      ],
      "execution_count": 24,
      "outputs": [
        {
          "output_type": "stream",
          "text": [
            "1 [1, 2] 0\n",
            "1 [1, 2, 3] 0\n",
            "1 [1, 2, 3, 4] 0\n",
            "1 [1, 2, 3, 4, 5] 0\n",
            "2 [2, 3] 1\n",
            "2 [2, 3, 4] 1\n",
            "2 [2, 3, 4, 5] 1\n",
            "2 [2, 3, 4, 5, 6] 1\n",
            "3 [3, 4] 1\n",
            "3 [3, 4, 5] 1\n",
            "3 [3, 4, 5, 6] 1\n",
            "4 [4, 5] 1\n",
            "4 [4, 5, 6] 1\n",
            "5 [5, 6] 2\n",
            "5 [5, 6, 7] 2\n",
            "6 [6, 7] 2\n",
            "6 [6, 7, 8] 2\n",
            "7 [7, 8] 2\n"
          ],
          "name": "stdout"
        },
        {
          "output_type": "execute_result",
          "data": {
            "text/plain": [
              "3"
            ]
          },
          "metadata": {
            "tags": []
          },
          "execution_count": 24
        }
      ]
    }
  ]
}