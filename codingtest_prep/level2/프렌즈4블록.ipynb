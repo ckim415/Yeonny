{
  "nbformat": 4,
  "nbformat_minor": 0,
  "metadata": {
    "colab": {
      "name": "프렌즈4블록.ipynb",
      "provenance": [],
      "authorship_tag": "ABX9TyPMRMi/VFA+TX0IP6FFu9GL",
      "include_colab_link": true
    },
    "kernelspec": {
      "name": "python3",
      "display_name": "Python 3"
    },
    "language_info": {
      "name": "python"
    }
  },
  "cells": [
    {
      "cell_type": "markdown",
      "metadata": {
        "id": "view-in-github",
        "colab_type": "text"
      },
      "source": [
        "<a href=\"https://colab.research.google.com/github/ckim415/Yeonny/blob/master/codingtest_prep/level2/%ED%94%84%EB%A0%8C%EC%A6%884%EB%B8%94%EB%A1%9D.ipynb\" target=\"_parent\"><img src=\"https://colab.research.google.com/assets/colab-badge.svg\" alt=\"Open In Colab\"/></a>"
      ]
    },
    {
      "cell_type": "code",
      "metadata": {
        "id": "xunPhevCrU3Q"
      },
      "source": [
        "m=4\n",
        "n=5\n",
        "board = [\"CCBDE\", \"AAADE\", \"AAABF\", \"CCBBF\"]"
      ],
      "execution_count": null,
      "outputs": []
    },
    {
      "cell_type": "code",
      "metadata": {
        "colab": {
          "base_uri": "https://localhost:8080/"
        },
        "id": "YbLyGHCxHhUM",
        "outputId": "e1436ea5-10ce-4285-a508-c7e0e522885e"
      },
      "source": [
        "s = \"CCBDE\""
      ],
      "execution_count": null,
      "outputs": [
        {
          "output_type": "execute_result",
          "data": {
            "text/plain": [
              "['CCBDE']"
            ]
          },
          "metadata": {},
          "execution_count": 8
        }
      ]
    },
    {
      "cell_type": "code",
      "metadata": {
        "colab": {
          "base_uri": "https://localhost:8080/"
        },
        "id": "Vh02Gt8jHRT6",
        "outputId": "8ff0bac8-8bb3-4d79-f06f-913be4768c0a"
      },
      "source": [
        "board_exp = [[x for x in s]for s in board]\n",
        "board_exp"
      ],
      "execution_count": null,
      "outputs": [
        {
          "output_type": "execute_result",
          "data": {
            "text/plain": [
              "[['C', 'C', 'B', 'D', 'E'],\n",
              " ['A', 'A', 'A', 'D', 'E'],\n",
              " ['A', 'A', 'A', 'B', 'F'],\n",
              " ['C', 'C', 'B', 'B', 'F']]"
            ]
          },
          "metadata": {},
          "execution_count": 42
        }
      ]
    },
    {
      "cell_type": "code",
      "metadata": {
        "colab": {
          "base_uri": "https://localhost:8080/"
        },
        "id": "qHtq1G_5PsHq",
        "outputId": "7d6f44b5-7de4-46e7-fc45-553cab3222ff"
      },
      "source": [
        "board_rotate = list(map(list, zip(*board)))\n",
        "board_rotate"
      ],
      "execution_count": null,
      "outputs": [
        {
          "output_type": "execute_result",
          "data": {
            "text/plain": [
              "[['C', 'A', 'A', 'C'],\n",
              " ['C', 'A', 'A', 'C'],\n",
              " ['B', 'A', 'A', 'B'],\n",
              " ['D', 'D', 'B', 'B'],\n",
              " ['E', 'E', 'F', 'F']]"
            ]
          },
          "metadata": {},
          "execution_count": 41
        }
      ]
    },
    {
      "cell_type": "code",
      "metadata": {
        "colab": {
          "base_uri": "https://localhost:8080/"
        },
        "id": "bq2SBBRyTTnH",
        "outputId": "a81d1ce4-af5e-4172-a9e3-e0d4b8573abb"
      },
      "source": [
        "board_exp = [[x for x in s]for s in board]\n",
        "board_exp"
      ],
      "execution_count": null,
      "outputs": [
        {
          "output_type": "execute_result",
          "data": {
            "text/plain": [
              "[['C', 'C', 'B', 'D', 'E'],\n",
              " ['A', 'A', 'A', 'D', 'E'],\n",
              " ['A', 'A', 'A', 'B', 'F'],\n",
              " ['C', 'C', 'B', 'B', 'F']]"
            ]
          },
          "metadata": {},
          "execution_count": 61
        }
      ]
    },
    {
      "cell_type": "code",
      "metadata": {
        "id": "MLVgWZ-YTTsd"
      },
      "source": [
        "def game(b):\n",
        "  sc = [[x for x in s]for s in b]\n",
        "  for i in range(n-1):\n",
        "    for j in range(m-1): \n",
        "      if b[i][j] == -1:\n",
        "        continue\n",
        "      if b[i][j] == b[i][j+1] == b[i+1][j] == b[i+1][j+1]:\n",
        "        sc[i][j], sc[i][j+1], sc[i+1][j], sc[i+1][j+1] = 0,0,0,0\n",
        "\n",
        "  pops = 0 \n",
        "  for i,v in enumerate(sc):\n",
        "    cnt = v.count(0)\n",
        "    pops += cnt\n",
        "    sc[i] = [-1]*cnt + [a for a in v if a!=0]\n",
        "  \n",
        "  return sc, pops"
      ],
      "execution_count": 81,
      "outputs": []
    },
    {
      "cell_type": "code",
      "metadata": {
        "colab": {
          "base_uri": "https://localhost:8080/"
        },
        "id": "ySNwustzj1cW",
        "outputId": "38a921ec-bde3-40d7-b144-2f243b6b3a65"
      },
      "source": [
        "game(list(map(list, zip(*board))))"
      ],
      "execution_count": 83,
      "outputs": [
        {
          "output_type": "execute_result",
          "data": {
            "text/plain": [
              "([[-1, -1, 'C', 'C'],\n",
              "  [-1, -1, 'C', 'C'],\n",
              "  [-1, -1, 'B', 'B'],\n",
              "  ['D', 'D', 'B', 'B'],\n",
              "  ['E', 'E', 'F', 'F']],\n",
              " 6)"
            ]
          },
          "metadata": {},
          "execution_count": 83
        }
      ]
    },
    {
      "cell_type": "code",
      "metadata": {
        "colab": {
          "base_uri": "https://localhost:8080/"
        },
        "id": "fxCJ6FyCWBNf",
        "outputId": "f881867d-e2d6-4bcd-c456-17f449641bb8"
      },
      "source": [
        "a = [1,0,0,3,4]\n",
        "a = [-1]*2 + [b for b in a if b!=0]\n",
        "a"
      ],
      "execution_count": 65,
      "outputs": [
        {
          "output_type": "execute_result",
          "data": {
            "text/plain": [
              "[-1, -1, 1, 3, 4]"
            ]
          },
          "metadata": {},
          "execution_count": 65
        }
      ]
    },
    {
      "cell_type": "code",
      "metadata": {
        "colab": {
          "base_uri": "https://localhost:8080/"
        },
        "id": "XelRHjYGjHuf",
        "outputId": "c13782b9-9a4c-499a-aee3-8b2f4626ab7d"
      },
      "source": [
        "m=4\n",
        "n=5\n",
        "board = [\"CCBDE\", \"AAADE\", \"AAABF\", \"CCBBF\"]\n",
        "def solution(m,n,board):\n",
        "  board = list(map(list, zip(*board))) # 제거 후에 편히 관리하기 위해\n",
        "\n",
        "  answer = 0\n",
        "  while True:\n",
        "    for x in board:\n",
        "      print(x)\n",
        "    board, pops = game(board)\n",
        "    if pops == 0:\n",
        "      return answer\n",
        "    answer += pops\n",
        "\n",
        "solution(m,n,board)"
      ],
      "execution_count": 82,
      "outputs": [
        {
          "output_type": "stream",
          "name": "stdout",
          "text": [
            "['C', 'A', 'A', 'C']\n",
            "['C', 'A', 'A', 'C']\n",
            "['B', 'A', 'A', 'B']\n",
            "['D', 'D', 'B', 'B']\n",
            "['E', 'E', 'F', 'F']\n",
            "[-1, -1, 'C', 'C']\n",
            "[-1, -1, 'C', 'C']\n",
            "[-1, -1, 'B', 'B']\n",
            "['D', 'D', 'B', 'B']\n",
            "['E', 'E', 'F', 'F']\n",
            "[-1, -1, -1, -1]\n",
            "[-1, -1, -1, -1]\n",
            "[-1, -1, -1, -1]\n",
            "[-1, -1, 'D', 'D']\n",
            "['E', 'E', 'F', 'F']\n"
          ]
        },
        {
          "output_type": "execute_result",
          "data": {
            "text/plain": [
              "14"
            ]
          },
          "metadata": {},
          "execution_count": 82
        }
      ]
    },
    {
      "cell_type": "code",
      "metadata": {
        "id": "-t6v8irRji_d"
      },
      "source": [
        ""
      ],
      "execution_count": null,
      "outputs": []
    }
  ]
}