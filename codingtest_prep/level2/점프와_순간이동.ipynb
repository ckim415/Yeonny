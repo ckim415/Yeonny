{
  "nbformat": 4,
  "nbformat_minor": 0,
  "metadata": {
    "colab": {
      "name": "점프와 순간이동.ipynb",
      "provenance": [],
      "authorship_tag": "ABX9TyNAUykXB+/dpGnkPB1ofPCJ",
      "include_colab_link": true
    },
    "kernelspec": {
      "name": "python3",
      "display_name": "Python 3"
    },
    "language_info": {
      "name": "python"
    }
  },
  "cells": [
    {
      "cell_type": "markdown",
      "metadata": {
        "id": "view-in-github",
        "colab_type": "text"
      },
      "source": [
        "<a href=\"https://colab.research.google.com/github/ckim415/Yeonny/blob/master/codingtest_prep/level2/%EC%A0%90%ED%94%84%EC%99%80_%EC%88%9C%EA%B0%84%EC%9D%B4%EB%8F%99.ipynb\" target=\"_parent\"><img src=\"https://colab.research.google.com/assets/colab-badge.svg\" alt=\"Open In Colab\"/></a>"
      ]
    },
    {
      "cell_type": "code",
      "metadata": {
        "id": "8h7eTgucZbnX"
      },
      "source": [
        "N = 10"
      ],
      "execution_count": 5,
      "outputs": []
    },
    {
      "cell_type": "code",
      "metadata": {
        "colab": {
          "base_uri": "https://localhost:8080/"
        },
        "id": "OehvH8SXZjMG",
        "outputId": "fd1f8123-ef78-458d-ddb3-ded3de125b7e"
      },
      "source": [
        "dp = [0] * (N+1)\n",
        "dp[1] = 1\n",
        "for i in range(2, N+1):\n",
        "  if i % 2 == 0:\n",
        "    dp[i] = dp[i//2]\n",
        "  else:\n",
        "    dp[i] = dp[i-1] + 1\n",
        "\n",
        "dp"
      ],
      "execution_count": 6,
      "outputs": [
        {
          "output_type": "execute_result",
          "data": {
            "text/plain": [
              "[0, 1, 1, 2, 1, 2, 2, 3, 1, 2, 2]"
            ]
          },
          "metadata": {},
          "execution_count": 6
        }
      ]
    },
    {
      "cell_type": "code",
      "metadata": {
        "colab": {
          "base_uri": "https://localhost:8080/"
        },
        "id": "AZy5_7ojZ7r9",
        "outputId": "4c6c8c38-5d9e-408f-e08a-0cbac53136bf"
      },
      "source": [
        "N = 5000\n",
        "dp = [0] * (N+1)\n",
        "dp[1] = 1\n",
        "for i in range(2, N+1):\n",
        "  if i % 2 == 0:\n",
        "    dp[i] = dp[i//2]\n",
        "  else:\n",
        "    dp[i] = dp[i-1] + 1\n",
        "\n",
        "dp[-1]\n",
        "\n",
        "#시간초과 이슈"
      ],
      "execution_count": 4,
      "outputs": [
        {
          "output_type": "execute_result",
          "data": {
            "text/plain": [
              "5"
            ]
          },
          "metadata": {},
          "execution_count": 4
        }
      ]
    },
    {
      "cell_type": "code",
      "metadata": {
        "colab": {
          "base_uri": "https://localhost:8080/"
        },
        "id": "mBKIiX5reurK",
        "outputId": "7841f58a-3646-4746-d750-e4ae0b8cf821"
      },
      "source": [
        "n = 5000\n",
        "answer = 0\n",
        "while n > 0:\n",
        "  if n % 2 == 0:\n",
        "    n //= 2\n",
        "  else:\n",
        "    n -= 1 \n",
        "    answer += 1\n",
        "  \n",
        "answer"
      ],
      "execution_count": 20,
      "outputs": [
        {
          "output_type": "execute_result",
          "data": {
            "text/plain": [
              "5"
            ]
          },
          "metadata": {},
          "execution_count": 20
        }
      ]
    },
    {
      "cell_type": "code",
      "metadata": {
        "colab": {
          "base_uri": "https://localhost:8080/"
        },
        "id": "Vz509GKIhGcS",
        "outputId": "270f33e6-dde4-4739-bd60-6bab1ce5b7f1"
      },
      "source": [
        "bin(5).count('1')"
      ],
      "execution_count": 16,
      "outputs": [
        {
          "output_type": "execute_result",
          "data": {
            "text/plain": [
              "2"
            ]
          },
          "metadata": {},
          "execution_count": 16
        }
      ]
    }
  ]
}