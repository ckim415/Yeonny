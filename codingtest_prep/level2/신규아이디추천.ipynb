{
  "nbformat": 4,
  "nbformat_minor": 0,
  "metadata": {
    "colab": {
      "name": "신규아이디추천.ipynb",
      "provenance": [],
      "authorship_tag": "ABX9TyOmH40Sawe80GH66SLk7Ppq",
      "include_colab_link": true
    },
    "kernelspec": {
      "name": "python3",
      "display_name": "Python 3"
    },
    "language_info": {
      "name": "python"
    }
  },
  "cells": [
    {
      "cell_type": "markdown",
      "metadata": {
        "id": "view-in-github",
        "colab_type": "text"
      },
      "source": [
        "<a href=\"https://colab.research.google.com/github/ckim415/Yeonny/blob/master/codingtest_prep/%EC%8B%A0%EA%B7%9C%EC%95%84%EC%9D%B4%EB%94%94%EC%B6%94%EC%B2%9C.ipynb\" target=\"_parent\"><img src=\"https://colab.research.google.com/assets/colab-badge.svg\" alt=\"Open In Colab\"/></a>"
      ]
    },
    {
      "cell_type": "markdown",
      "metadata": {
        "id": "UMesWwhJ0tMd"
      },
      "source": [
        "# 신규 아이디 추천"
      ]
    },
    {
      "cell_type": "markdown",
      "metadata": {
        "id": "Abew8uBu0wD3"
      },
      "source": [
        "## 문제설명\n",
        "- 카카오에 입사한 신입 개발자 네오는 \"카카오계정개발팀\"에 배치되어, 카카오 서비스에 가입하는 유저들의 아이디를 생성하는 업무를 담당하게 되었습니다. \"네오\"에게 주어진 첫 업무는 새로 가입하는 유저들이 카카오 아이디 규칙에 맞지 않는 아이디를 입력했을 때, 입력된 아이디와 유사하면서 규칙에 맞는 아이디를 추천해주는 프로그램을 개발하는 것입니다.\n",
        "\n",
        "- 다음은 카카오 아이디의 규칙입니다.\n",
        "\n",
        " - 아이디의 길이는 3자 이상 15자 이하여야 합니다.\n",
        " - 아이디는 알파벳 소문자, 숫자, 빼기(-), 밑줄(_), 마침표(.) 문자만 사용할 수 있습니다.\n",
        " - 단, 마침표(.)는 처음과 끝에 사용할 수 없으며 또한 연속으로 사용할 수 없습니다.\n",
        " - \"네오\"는 다음과 같이 7단계의 순차적인 처리 과정을 통해 신규 유저가 입력한 아이디가 카카오 아이디 규칙에 맞는 지 검사하고 규칙에 맞지 않은 경우 규칙에 맞는 새로운 아이디를 추천해 주려고 합니다.\n",
        " - 신규 유저가 입력한 아이디가 new_id 라고 한다면,\n",
        "\n",
        "\n",
        "\n",
        "```\n",
        "1단계 new_id의 모든 대문자를 대응되는 소문자로 치환합니다.\n",
        "2단계 new_id에서 알파벳 소문자, 숫자, 빼기(-), 밑줄(_), 마침표(.)를 제외한 모든 문자를 제거합니다.\n",
        "3단계 new_id에서 마침표(.)가 2번 이상 연속된 부분을 하나의 마침표(.)로 치환합니다.\n",
        "4단계 new_id에서 마침표(.)가 처음이나 끝에 위치한다면 제거합니다.\n",
        "5단계 new_id가 빈 문자열이라면, new_id에 \"a\"를 대입합니다.\n",
        "6단계 new_id의 길이가 16자 이상이면, new_id의 첫 15개의 문자를 제외한 나머지 문자들을 모두 제거합니다.\n",
        "     만약 제거 후 마침표(.)가 new_id의 끝에 위치한다면 끝에 위치한 마침표(.) 문자를 제거합니다.\n",
        "7단계 new_id의 길이가 2자 이하라면, new_id의 마지막 문자를 new_id의 길이가 3이 될 때까지 반복해서 끝에 붙입니다.\n",
        "```\n",
        "\n"
      ]
    },
    {
      "cell_type": "markdown",
      "metadata": {
        "id": "yp1yvnY_1Hh-"
      },
      "source": [
        "## 제한사항\n",
        "- 1.lower()\n",
        "- 2.re use / \n",
        "- 3.replace()\n",
        "- 4.answer[-1] == '.' then remove\n",
        "- 5.len(new_id) == 0: then insert 'a'\n",
        "- 6.len(new_id) == 16: then new_id[:16]\n",
        "    if new_id[-1] == '.', remove '.'\n",
        "- 7. len(new_id) <=2 then new_id + new_id[-1]*(3-len(new_id))"
      ]
    },
    {
      "cell_type": "code",
      "metadata": {
        "id": "Z-1tH-Gv0Hb2"
      },
      "source": [
        "import re"
      ],
      "execution_count": 1,
      "outputs": []
    },
    {
      "cell_type": "code",
      "metadata": {
        "id": "MZVgGbZmYK_N"
      },
      "source": [
        "answer = ''"
      ],
      "execution_count": 9,
      "outputs": []
    },
    {
      "cell_type": "code",
      "metadata": {
        "id": "L2yMKuyA3tDQ"
      },
      "source": [
        "#1 & 2\n",
        "answer += ''.join(re.findall(\"[a-z.-_]\",'...!@BaT#*..y.abcdefghijklm'.lower() ))"
      ],
      "execution_count": 10,
      "outputs": []
    },
    {
      "cell_type": "code",
      "metadata": {
        "colab": {
          "base_uri": "https://localhost:8080/",
          "height": 35
        },
        "id": "uPEBF7JXC7gP",
        "outputId": "2adeaa2d-4e26-4699-e394-b2add683bbd5"
      },
      "source": [
        "step2"
      ],
      "execution_count": null,
      "outputs": [
        {
          "output_type": "execute_result",
          "data": {
            "application/vnd.google.colaboratory.intrinsic+json": {
              "type": "string"
            },
            "text/plain": [
              "'...@bat..y.abcdefghijklm'"
            ]
          },
          "metadata": {
            "tags": []
          },
          "execution_count": 18
        }
      ]
    },
    {
      "cell_type": "code",
      "metadata": {
        "id": "poS3o6vJXZqa"
      },
      "source": [
        "# 3\n",
        "while '..' in answer:\n",
        "  answer =  answer.replace('..','.')"
      ],
      "execution_count": 11,
      "outputs": []
    },
    {
      "cell_type": "code",
      "metadata": {
        "id": "v4YBs3FREZPy"
      },
      "source": [
        "# 4\n",
        "if answer.startswith('.'):\n",
        "  answer = answer[1:] if len(answer) > else '.'\n",
        "\n",
        "if answer[-1] == '.':\n",
        "  answer = answer[:-1]"
      ],
      "execution_count": null,
      "outputs": []
    },
    {
      "cell_type": "code",
      "metadata": {
        "colab": {
          "base_uri": "https://localhost:8080/"
        },
        "id": "x6RdQ0kxDtS3",
        "outputId": "80fb4e3d-b473-4ecd-b218-84e84b53d5d9"
      },
      "source": [
        "if answer == '':\n",
        "  answer = 'a'"
      ],
      "execution_count": null,
      "outputs": [
        {
          "output_type": "stream",
          "text": [
            "akwdma\n"
          ],
          "name": "stdout"
        }
      ]
    },
    {
      "cell_type": "code",
      "metadata": {
        "id": "kRutAbIfFaIj"
      },
      "source": [
        "if len(answer) >= 16:\n",
        "  answer = answer[:16]\n",
        "  if answer[-1] == '.':\n",
        "    answer = answer[:-1]"
      ],
      "execution_count": null,
      "outputs": []
    },
    {
      "cell_type": "code",
      "metadata": {
        "id": "8P5ttfRxFsLg"
      },
      "source": [
        "if len(answer) <=2 :\n",
        "  answer + (3-len(answer)*answer[-1])"
      ],
      "execution_count": null,
      "outputs": []
    },
    {
      "cell_type": "code",
      "metadata": {
        "id": "PAPGgkJ5Y-cH"
      },
      "source": [
        "def solution(new_id):\n",
        "  \n",
        "  answer = ''\n",
        "\n",
        "  #1 \n",
        "  new_id = new_id.lower()\n",
        "\n",
        "  #2\n",
        "  for c in new_id:\n",
        "    if c.isalpha() or c.isdigit() or c in ['-','_','.']:\n",
        "      answer += c\n",
        "\n",
        "  # 3\n",
        "  while '..' in answer:\n",
        "    answer =  answer.replace('..','.')\n",
        "\n",
        "  # 4\n",
        "  if answer.startswith('.'):\n",
        "    answer = answer[1:] if len(answer) > 1 else '.'\n",
        "\n",
        "  if answer[-1] == '.':\n",
        "    answer = answer[:-1]\n",
        "\n",
        "  #5\n",
        "  if answer == '':\n",
        "    answer = 'a'\n",
        "\n",
        "  #6\n",
        "  if len(answer) >= 16:\n",
        "    answer = answer[:16]\n",
        "    if answer[-1] == '.':\n",
        "      answer = answer[:-1]\n",
        "  #7\n",
        "  if len(answer) <=2 :\n",
        "    answer + (3-len(answer)*answer[-1])\n",
        "\n",
        "  return answer"
      ],
      "execution_count": 21,
      "outputs": []
    },
    {
      "cell_type": "code",
      "metadata": {
        "colab": {
          "base_uri": "https://localhost:8080/",
          "height": 35
        },
        "id": "6E_qRYsyZXdy",
        "outputId": "adb50fdc-aaf1-4af9-c1a9-385253acbd93"
      },
      "source": [
        "new_id = '...!@BaT#*..y.abcdefghijklm'\n",
        "solution(new_id)"
      ],
      "execution_count": 22,
      "outputs": [
        {
          "output_type": "execute_result",
          "data": {
            "application/vnd.google.colaboratory.intrinsic+json": {
              "type": "string"
            },
            "text/plain": [
              "'bat.y.abcdefghij'"
            ]
          },
          "metadata": {
            "tags": []
          },
          "execution_count": 22
        }
      ]
    },
    {
      "cell_type": "markdown",
      "metadata": {
        "id": "eZh0FYwHbYJw"
      },
      "source": [
        "- 테스트 1 〉\t통과 (0.01ms, 10.2MB)\n",
        "- 테스트 2 〉\t통과 (0.01ms, 10.2MB)\n",
        "- 테스트 3 〉\t통과 (0.01ms, 10.2MB)\n",
        "- 테스트 4 〉\t통과 (0.01ms, 10.3MB)\n",
        "- 테스트 5 〉\t통과 (0.01ms, 10.4MB)\n",
        "- 테스트 6 〉\t통과 (0.01ms, 10.2MB)\n",
        "- 테스트 7 〉\t통과 (0.01ms, 10.2MB)\n",
        "- 테스트 8 〉\t통과 (0.01ms, 10.2MB)\n",
        "- 테스트 9 〉\t통과 (0.01ms, 10.3MB)\n",
        "- 테스트 10 〉\t통과 (0.01ms, 10.1MB)\n",
        "- 테스트 11 〉\t통과 (0.01ms, 10.1MB)\n",
        "- 테스트 12 〉\t통과 (0.02ms, 10.2MB)\n",
        "- 테스트 13 〉\t통과 (0.02ms, 10.1MB)\n",
        "- 테스트 14 〉\t통과 (0.01ms, 10.3MB)\n",
        "- 테스트 15 〉\t통과 (0.02ms, 10.2MB)\n",
        "- 테스트 16 〉\t통과 (0.04ms, 10.2MB)\n",
        "- 테스트 17 〉\t통과 (0.09ms, 10.2MB)\n",
        "- 테스트 18 〉\t통과 (0.15ms, 10.2MB)\n",
        "- 테스트 19 〉\t통과 (0.32ms, 10.1MB)\n",
        "- 테스트 20 〉\t통과 (0.23ms, 10.2MB)\n",
        "- 테스트 21 〉\t통과 (0.26ms, 10.2MB)\n",
        "- 테스트 22 〉\t통과 (0.22ms, 10.2MB)\n",
        "- 테스트 23 〉\t통과 (0.31ms, 10.2MB)\n",
        "- 테스트 24 〉\t통과 (0.22ms, 10.2MB)\n",
        "- 테스트 25 〉\t통과 (0.30ms, 10.2MB)\n",
        "- 테스트 26 〉\t통과 (0.29ms, 10.2MB)"
      ]
    },
    {
      "cell_type": "markdown",
      "metadata": {
        "id": "A_H0OuHgbO6C"
      },
      "source": [
        "## 다른 풀이\n",
        "- 위의 풀이가 더 빠름"
      ]
    },
    {
      "cell_type": "code",
      "metadata": {
        "id": "CcAhYlUjbQaj"
      },
      "source": [
        "import re\n",
        "\n",
        "def solution(new_id):\n",
        "  st = new_id\n",
        "  st = st.lower()\n",
        "  st = re.sub('[^a-z0-9\\-_.]', '', st)\n",
        "  st = re.sub('\\.+', '.', st)\n",
        "  st = re.sub('^[.]|[.]$', '', st)\n",
        "  st = 'a' if len(st) == 0 else st[:15]\n",
        "  st = re.sub('^[.]|[.]$', '', st)\n",
        "  st = st if len(st) > 2 else st + \"\".join([st[-1] for i in range(3-len(st))])\n",
        "  return st"
      ],
      "execution_count": 23,
      "outputs": []
    }
  ]
}
