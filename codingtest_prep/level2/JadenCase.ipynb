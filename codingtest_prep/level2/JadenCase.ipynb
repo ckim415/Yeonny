{
  "nbformat": 4,
  "nbformat_minor": 0,
  "metadata": {
    "colab": {
      "name": "JadenCase.ipynb",
      "provenance": [],
      "toc_visible": true,
      "authorship_tag": "ABX9TyPI1XDjRv3Ym2990vf6O/wr",
      "include_colab_link": true
    },
    "kernelspec": {
      "name": "python3",
      "display_name": "Python 3"
    },
    "language_info": {
      "name": "python"
    }
  },
  "cells": [
    {
      "cell_type": "markdown",
      "metadata": {
        "id": "view-in-github",
        "colab_type": "text"
      },
      "source": [
        "<a href=\"https://colab.research.google.com/github/ckim415/Yeonny/blob/master/codingtest_prep/level2/JadenCase.ipynb\" target=\"_parent\"><img src=\"https://colab.research.google.com/assets/colab-badge.svg\" alt=\"Open In Colab\"/></a>"
      ]
    },
    {
      "cell_type": "markdown",
      "metadata": {
        "id": "33yRDR3rjiqK"
      },
      "source": [
        "# JadenCase 문자열 만들기"
      ]
    },
    {
      "cell_type": "markdown",
      "metadata": {
        "id": "XKVpy2cSjale"
      },
      "source": [
        "##문제 설명\n",
        "JadenCase란 모든 단어의 첫 문자가 대문자이고, 그 외의 알파벳은 소문자인 문자열입니다. 문자열 s가 주어졌을 때, s를 JadenCase로 바꾼 문자열을 리턴하는 함수, solution을 완성해주세요.\n",
        "\n",
        "##제한 조건\n",
        "s는 길이 1 이상인 문자열입니다.\n",
        "s는 알파벳과 공백문자(\" \")로 이루어져 있습니다.\n",
        "첫 문자가 영문이 아닐때에는 이어지는 영문은 소문자로 씁니다. ( 첫번째 입출력 예 참고 )\n",
        "\n",
        "## 입출력 예시\n",
        "s\treturn\n",
        "\n",
        "\"3people unFollowed me\"\t\"3people Unfollowed Me\"\n",
        "\n",
        "\"for the last week\"\t\"For The Last Week\""
      ]
    },
    {
      "cell_type": "markdown",
      "metadata": {
        "id": "030kELxFjm48"
      },
      "source": [
        "## 로직\n",
        "- split 한 후에 upper로 바꾸기\n",
        "- 다 모아서 반환"
      ]
    },
    {
      "cell_type": "markdown",
      "metadata": {
        "id": "eumkZhA6mx-X"
      },
      "source": [
        "## 시도1"
      ]
    },
    {
      "cell_type": "code",
      "metadata": {
        "colab": {
          "base_uri": "https://localhost:8080/",
          "height": 35
        },
        "id": "H0osJwANkkfu",
        "outputId": "23f44ade-be7d-48f0-80c1-23c647fcc1b2"
      },
      "source": [
        "s = \"3people unFollowed me\"\n",
        "words = s.split(' ')\n",
        "' '.join([i[0].upper() + i[1:].lower() for i in words])"
      ],
      "execution_count": 6,
      "outputs": [
        {
          "output_type": "execute_result",
          "data": {
            "application/vnd.google.colaboratory.intrinsic+json": {
              "type": "string"
            },
            "text/plain": [
              "'3people Unfollowed Me'"
            ]
          },
          "metadata": {
            "tags": []
          },
          "execution_count": 6
        }
      ]
    },
    {
      "cell_type": "code",
      "metadata": {
        "id": "wlmGPjE0l1Oa"
      },
      "source": [
        "def solution(s):\n",
        "  return ' '.join([i[0].upper() + i[1:].lower() for i in s.split(' ')])"
      ],
      "execution_count": null,
      "outputs": []
    },
    {
      "cell_type": "markdown",
      "metadata": {
        "id": "_0Z5IoVPmms_"
      },
      "source": [
        "### 결과 -> 런타임 에러가 많음\n",
        "- 테스트 1 〉\t통과 (0.01ms, 10.2MB)\n",
        "- 테스트 2 〉\t실패 (런타임 에러)\n",
        "- 테스트 3 〉\t통과 (0.01ms, 10.3MB)\n",
        "- 테스트 4 〉\t실패 (런타임 에러)\n",
        "- 테스트 5 〉\t실패 (런타임 에러)\n",
        "- 테스트 6 〉\t통과 (0.01ms, 10.1MB)\n",
        "- 테스트 7 〉\t통과 (0.01ms, 10.2MB)\n",
        "- 테스트 8 〉\t실패 (런타임 에러)\n",
        "- 테스트 9 〉\t실패 (런타임 에러)\n",
        "- 테스트 10 〉\t통과 (0.00ms, 10.1MB)\n",
        "- 테스트 11 〉\t실패 (런타임 에러)\n",
        "- 테스트 12 〉\t실패 (런타임 에러)\n",
        "- 테스트 13 〉\t실패 (런타임 에러)\n",
        "- 테스트 14 〉\t실패 (런타임 에러)\n",
        "- 테스트 15 〉\t통과 (0.02ms, 10.1MB)\n",
        "- 테스트 16 〉\t통과 (0.01ms, 10.1MB)"
      ]
    },
    {
      "cell_type": "markdown",
      "metadata": {
        "id": "EcO_Q5ISm1dp"
      },
      "source": [
        "## 시도2\n",
        "- for loop 으로 \n",
        "  - i.capitalize() 사용"
      ]
    },
    {
      "cell_type": "code",
      "metadata": {
        "colab": {
          "base_uri": "https://localhost:8080/",
          "height": 35
        },
        "id": "NWQEqaAEogS5",
        "outputId": "25ee8dd2-5cdb-45d7-a0d7-cf14acf73be9"
      },
      "source": [
        "def solution(s):\n",
        " return ' '.join([i.capitalize() for i in s.split(' ')])"
      ],
      "execution_count": 8,
      "outputs": [
        {
          "output_type": "execute_result",
          "data": {
            "application/vnd.google.colaboratory.intrinsic+json": {
              "type": "string"
            },
            "text/plain": [
              "'3people Unfollowed Me'"
            ]
          },
          "metadata": {
            "tags": []
          },
          "execution_count": 8
        }
      ]
    },
    {
      "cell_type": "markdown",
      "metadata": {
        "id": "GQCyuvWXo8T0"
      },
      "source": [
        "### 결과\n",
        "- 테스트 1 〉\t통과 (0.01ms, 10.2MB)\n",
        "- 테스트 2 〉\t통과 (0.01ms, 10.1MB)\n",
        "- 테스트 3 〉\t통과 (0.01ms, 10.2MB)\n",
        "- 테스트 4 〉\t통과 (1.19ms, 10.2MB)\n",
        "- 테스트 5 〉\t통과 (1.05ms, 10.3MB)\n",
        "- 테스트 6 〉\t통과 (0.01ms, 10.2MB)\n",
        "- 테스트 7 〉\t통과 (0.01ms, 10.1MB)\n",
        "- 테스트 8 〉\t통과 (0.01ms, 10.3MB)\n",
        "- 테스트 9 〉\t통과 (0.01ms, 10.2MB)\n",
        "- 테스트 10 〉\t통과 (0.00ms, 10.1MB)\n",
        "- 테스트 11 〉\t통과 (0.01ms, 10.2MB)\n",
        "- 테스트 12 〉\t통과 (0.01ms, 10.3MB)\n",
        "- 테스트 13 〉\t통과 (0.01ms, 10.2MB)\n",
        "- 테스트 14 〉\t통과 (0.01ms, 10.1MB)\n",
        "- 테스트 15 〉\t통과 (0.01ms, 10.2MB)\n",
        "- 테스트 16 〉\t통과 (0.01ms, 10.2MB)"
      ]
    },
    {
      "cell_type": "markdown",
      "metadata": {
        "id": "pPszNMNspLva"
      },
      "source": [
        "## 다른 사람의 풀이\n",
        "\n",
        "\n",
        "```\n",
        "# def solution(s):\n",
        "  return s.title()\n",
        "```\n",
        "\n",
        "-> 마지막 문제 통과 되지 않음\n"
      ]
    },
    {
      "cell_type": "code",
      "metadata": {
        "id": "XW4wwKSvpLOE"
      },
      "source": [
        ""
      ],
      "execution_count": null,
      "outputs": []
    }
  ]
}