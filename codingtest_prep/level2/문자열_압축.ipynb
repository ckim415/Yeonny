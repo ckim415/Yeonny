{
  "nbformat": 4,
  "nbformat_minor": 0,
  "metadata": {
    "colab": {
      "name": "문자열 압축.ipynb",
      "provenance": [],
      "authorship_tag": "ABX9TyOOqEbNkQii0dZBJJKhrDIv",
      "include_colab_link": true
    },
    "kernelspec": {
      "name": "python3",
      "display_name": "Python 3"
    },
    "language_info": {
      "name": "python"
    }
  },
  "cells": [
    {
      "cell_type": "markdown",
      "metadata": {
        "id": "view-in-github",
        "colab_type": "text"
      },
      "source": [
        "<a href=\"https://colab.research.google.com/github/ckim415/Yeonny/blob/master/codingtest_prep/level2/%EB%AC%B8%EC%9E%90%EC%97%B4_%EC%95%95%EC%B6%95.ipynb\" target=\"_parent\"><img src=\"https://colab.research.google.com/assets/colab-badge.svg\" alt=\"Open In Colab\"/></a>"
      ]
    },
    {
      "cell_type": "code",
      "metadata": {
        "id": "gGDQWSI8DZ1F"
      },
      "source": [
        "s = \"aabbaccc\""
      ],
      "execution_count": null,
      "outputs": []
    },
    {
      "cell_type": "code",
      "metadata": {
        "colab": {
          "base_uri": "https://localhost:8080/"
        },
        "id": "ZGDn1CnqvLew",
        "outputId": "02fb72b5-627c-40e6-e814-540da2bf1c49"
      },
      "source": [
        "s = \"ababcdcdababcdcd\"\n",
        "answer = len(s)\n",
        "for i in range(1,len(s)//2+1):\n",
        "  \n",
        "\n",
        "  if len(s) % i != 0:\n",
        "    continue\n",
        "    \n",
        "  split = [s[j:j+i] for j in range(0, len(s),i)]\n",
        "  set_ = set(split)\n",
        "  counts = counts = [(split.count(s),s) for s in set_]\n",
        "  max_count = max(counts, key= lambda x: x[0])\n",
        "\n",
        "  if i == 1:\n",
        "    current = split[0]\n",
        "    count = 1\n",
        "    for string in split[1:]:\n",
        "      if current == string:\n",
        "        count += 1\n",
        "\n",
        "      else:\n",
        "        if counts[0] != count:\n",
        "          current = string\n",
        "          count = 1\n",
        "\n",
        "    possible_answer = s.replace(count*current, str(count)+current)\n",
        "\n",
        "  else:\n",
        "    possible_answer = ''\n",
        "    for n,string in counts:\n",
        "        if n == max_count[0]:\n",
        "            possible_answer += str(n)+string\n",
        "        else:\n",
        "            possible_answer += n*string\n",
        "  print(possible_answer)\n",
        "  answer = min(answer, len(possible_answer))\n",
        "    \n",
        "answer"
      ],
      "execution_count": null,
      "outputs": [
        {
          "output_type": "stream",
          "name": "stdout",
          "text": [
            "ababc1dc1dababc1dc1d\n",
            "4ab4cd\n",
            "2abab2cdcd\n",
            "2ababcdcd\n"
          ]
        },
        {
          "output_type": "execute_result",
          "data": {
            "text/plain": [
              "6"
            ]
          },
          "metadata": {},
          "execution_count": 68
        }
      ]
    },
    {
      "cell_type": "markdown",
      "metadata": {
        "id": "Mp3TJXMRCyuv"
      },
      "source": [
        "Test 1 〉\t통과 (0.03ms, 10.3MB)\n",
        "\n",
        "Test 2 〉\t통과 (0.32ms, 10.3MB)\n",
        "\n",
        "Test 3 〉\t통과 (0.16ms, 10.2MB)\n",
        "\n",
        "Test 4 〉\t통과 (0.02ms, 10.3MB)\n",
        "\n",
        "Test 5 〉\t통과 (0.00ms, 10.2MB)\n",
        "\n",
        "Test 6 〉\t통과 (0.04ms, 10.3MB)\n",
        "\n",
        "Test 7 〉\t통과 (0.35ms, 10.2MB)\n",
        "\n",
        "\n",
        "Test 8 〉\t통과 (0.36ms, 10.2MB)\n",
        "\n",
        "Test 9 〉\t통과 (0.75ms, 10.3MB)\n",
        "\n",
        "Test 10 〉\t통과 (2.04ms, 10.3MB)\n",
        "\n",
        "Test 11 〉\t통과 (0.08ms, 10.3MB)\n",
        "\n",
        "Test 12 〉\t통과 (0.08ms, 10.3MB)\n",
        "\n",
        "Test 13 〉\t통과 (0.09ms, 10.3MB)\n",
        "\n",
        "Test 14 〉\t통과 (0.54ms, 10.3MB)\n",
        "\n",
        "Test 15 〉\t통과 (0.10ms, 10.3MB)\n",
        "\n",
        "Test 16 〉\t통과 (0.02ms, 10.3MB)\n",
        "\n",
        "Test 17 〉\t통과 (0.95ms, 10.2MB)\n",
        "\n",
        "Test 18 〉\t통과 (0.99ms, 10.2MB)\n",
        "\n",
        "Test 19 〉\t통과 (1.91ms, 10.2MB)\n",
        "\n",
        "Test 20 〉\t통과 (2.28ms, 10.3MB)\n",
        "\n",
        "Test 21 〉\t통과 (2.38ms, 10.3MB)\n",
        "\n",
        "Test 22 〉\t통과 (2.35ms, 10.2MB)\n",
        "\n",
        "\n",
        "Test 23 〉\t통과 (2.27ms, 10.3MB)\n",
        "\n",
        "Test 24 〉\t통과 (2.13ms, 10.3MB)\n",
        "\n",
        "Test 25 〉\t통과 (2.21ms, 10.3MB)\n",
        "\n",
        "Test 26 〉\t통과 (2.23ms, 10.4MB)\n",
        "\n",
        "Test 27 〉\t통과 (2.53ms, 10.2MB)\n",
        "\n",
        "Test 28 〉\t통과 (0.02ms, 10.2MB)\n"
      ]
    },
    {
      "cell_type": "code",
      "metadata": {
        "colab": {
          "base_uri": "https://localhost:8080/"
        },
        "id": "cSQtd2ldE8UI",
        "outputId": "39b67a6f-11b1-43ff-84ea-b80fcec3365d"
      },
      "source": [
        "s = \"ababcdcdababcdcd\"\n",
        "answer = len(s)\n",
        "for i in range(1,len(s)//2+1):\n",
        "  if len(s) % i != 0:\n",
        "    continue\n",
        "    \n",
        "  split = [s[j:j+i] for j in range(0, len(s),i)]\n",
        "  set_ = set(split)\n",
        "  counts = counts = [(split.count(s),s) for s in set_]\n",
        "  max_count = max(counts, key= lambda x: x[0])\n",
        "  current = split[0]\n",
        "  count = 1\n",
        "  for string in split[1:]:\n",
        "    if current == string:\n",
        "      count += 1\n",
        "\n",
        "    else:\n",
        "      if counts[0] != count:\n",
        "        current = string\n",
        "        count = 1\n",
        "\n",
        "  possible_answer = s.replace(count*current, str(count)+current)\n",
        "  print(split, counts)\n",
        "  print(i, possible_answer)\n",
        "  answer = min(answer, len(possible_answer))\n",
        "    \n",
        "answer"
      ],
      "execution_count": null,
      "outputs": [
        {
          "output_type": "stream",
          "name": "stdout",
          "text": [
            "['a', 'b', 'a', 'b', 'c', 'd', 'c', 'd', 'a', 'b', 'a', 'b', 'c', 'd', 'c', 'd'] [(4, 'a'), (4, 'b'), (4, 'c'), (4, 'd')]\n",
            "1 ababc1dc1dababc1dc1d\n",
            "['ab', 'ab', 'cd', 'cd', 'ab', 'ab', 'cd', 'cd'] [(4, 'ab'), (4, 'cd')]\n",
            "2 abab2cdabab2cd\n",
            "['abab', 'cdcd', 'abab', 'cdcd'] [(2, 'abab'), (2, 'cdcd')]\n",
            "4 abab1cdcdabab1cdcd\n",
            "['ababcdcd', 'ababcdcd'] [(2, 'ababcdcd')]\n",
            "8 2ababcdcd\n"
          ]
        },
        {
          "output_type": "execute_result",
          "data": {
            "text/plain": [
              "9"
            ]
          },
          "metadata": {},
          "execution_count": 71
        }
      ]
    },
    {
      "cell_type": "code",
      "metadata": {
        "colab": {
          "base_uri": "https://localhost:8080/"
        },
        "id": "N5lkGUH3GaSa",
        "outputId": "ca372691-c3f5-4e11-fded-c07f13a1c881"
      },
      "source": [
        "s = \"abcabcdede\"\n",
        "print(len(s))\n",
        "answer = 100000\n",
        "for i in range(1, len(s)//2 + 1):\n",
        "  res = ''\n",
        "  cnt = 1\n",
        "  tmp = s[:i]\n",
        "\n",
        "  for j in range(i, len(s)+i, i):\n",
        "    print(tmp,s[j:j+i] )\n",
        "    if tmp == s[j:j+i]:\n",
        "      cnt += 1\n",
        "\n",
        "    else:\n",
        "      if cnt == 1:\n",
        "        res += tmp\n",
        "      else:\n",
        "        res += str(cnt) + tmp\n",
        "\n",
        "      tmp = s[j:j+i]\n",
        "      cnt = 1\n",
        "    \n",
        "  print(i,res)\n",
        "  answer = min(answer, len(res))\n",
        "print(answer)\n",
        "\n"
      ],
      "execution_count": null,
      "outputs": [
        {
          "output_type": "stream",
          "name": "stdout",
          "text": [
            "10\n",
            "a b\n",
            "b c\n",
            "c a\n",
            "a b\n",
            "b c\n",
            "c d\n",
            "d e\n",
            "e d\n",
            "d e\n",
            "e \n",
            "1 abcabcdede\n",
            "ab ca\n",
            "ca bc\n",
            "bc de\n",
            "de de\n",
            "de \n",
            "2 abcabc2de\n",
            "abc abc\n",
            "abc ded\n",
            "ded e\n",
            "e \n",
            "3 2abcdede\n",
            "abca bcde\n",
            "bcde de\n",
            "de \n",
            "4 abcabcdede\n",
            "abcab cdede\n",
            "cdede \n",
            "5 abcabcdede\n",
            "8\n"
          ]
        }
      ]
    }
  ]
}