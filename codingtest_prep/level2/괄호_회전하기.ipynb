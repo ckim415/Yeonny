{
  "nbformat": 4,
  "nbformat_minor": 0,
  "metadata": {
    "colab": {
      "name": "괄호 회전하기.ipynb",
      "provenance": [],
      "authorship_tag": "ABX9TyO5MWxKu3erSpNESkrDnAOZ",
      "include_colab_link": true
    },
    "kernelspec": {
      "name": "python3",
      "display_name": "Python 3"
    },
    "language_info": {
      "name": "python"
    }
  },
  "cells": [
    {
      "cell_type": "markdown",
      "metadata": {
        "id": "view-in-github",
        "colab_type": "text"
      },
      "source": [
        "<a href=\"https://colab.research.google.com/github/ckim415/Yeonny/blob/master/codingtest_prep/level2/%EA%B4%84%ED%98%B8_%ED%9A%8C%EC%A0%84%ED%95%98%EA%B8%B0.ipynb\" target=\"_parent\"><img src=\"https://colab.research.google.com/assets/colab-badge.svg\" alt=\"Open In Colab\"/></a>"
      ]
    },
    {
      "cell_type": "markdown",
      "metadata": {
        "id": "DBHOOZQVc2Gm"
      },
      "source": [
        "s\tresult\n",
        "\n",
        "\"[](){}\"\t3\n",
        "\n",
        "\"}]()[{\"\t2\n",
        "\n",
        "\"[)(]\"\t0\n",
        "\n",
        "\"}}}\"\t0"
      ]
    },
    {
      "cell_type": "code",
      "metadata": {
        "id": "07K5pVqmLBYn"
      },
      "source": [
        "def solution(s):\n",
        "    if len(s) % 2 == 1:\n",
        "      return 0\n",
        "\n",
        "    answer = 0 \n",
        "    for i in range(len(s)):\n",
        "        if correct(s):\n",
        "            answer += 1\n",
        "        s = s[1:] + s[0]\n",
        "    return answer\n",
        "\n",
        "\n",
        "def correct(s):\n",
        "    corr_dict = {'}':'{', ')':'(', ']':'['}\n",
        "    stack = []\n",
        "    for x in s:\n",
        "      if x == '{' or x == '[' or x == '(':\n",
        "        stack.append(x)\n",
        "      else:\n",
        "        if not stack or stack[-1] != corr_dict[x]:\n",
        "          return False\n",
        "        stack.pop()\n",
        "    return True"
      ],
      "execution_count": 1,
      "outputs": []
    },
    {
      "cell_type": "code",
      "metadata": {
        "colab": {
          "base_uri": "https://localhost:8080/"
        },
        "id": "NWnOpBewhj6N",
        "outputId": "8dba95fd-6296-457b-996a-20679ea3d9e6"
      },
      "source": [
        "solution(\"}]()[{\")"
      ],
      "execution_count": 2,
      "outputs": [
        {
          "output_type": "execute_result",
          "data": {
            "text/plain": [
              "2"
            ]
          },
          "metadata": {},
          "execution_count": 2
        }
      ]
    },
    {
      "cell_type": "code",
      "metadata": {
        "colab": {
          "base_uri": "https://localhost:8080/"
        },
        "id": "rlZOlfelhov2",
        "outputId": "b5f29f9d-9043-415c-dfb7-11b3e9bfd5e7"
      },
      "source": [
        "solution(\"[)(]\")"
      ],
      "execution_count": 3,
      "outputs": [
        {
          "output_type": "execute_result",
          "data": {
            "text/plain": [
              "0"
            ]
          },
          "metadata": {},
          "execution_count": 3
        }
      ]
    }
  ]
}