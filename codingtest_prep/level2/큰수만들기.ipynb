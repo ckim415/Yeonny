{
  "nbformat": 4,
  "nbformat_minor": 0,
  "metadata": {
    "colab": {
      "name": "큰수만들기.ipynb",
      "provenance": [],
      "authorship_tag": "ABX9TyP68u5KC6Cq6UVCJRBjCLA8",
      "include_colab_link": true
    },
    "kernelspec": {
      "name": "python3",
      "display_name": "Python 3"
    },
    "language_info": {
      "name": "python"
    }
  },
  "cells": [
    {
      "cell_type": "markdown",
      "metadata": {
        "id": "view-in-github",
        "colab_type": "text"
      },
      "source": [
        "<a href=\"https://colab.research.google.com/github/ckim415/Yeonny/blob/master/codingtest_prep/level2/%ED%81%B0%EC%88%98%EB%A7%8C%EB%93%A4%EA%B8%B0.ipynb\" target=\"_parent\"><img src=\"https://colab.research.google.com/assets/colab-badge.svg\" alt=\"Open In Colab\"/></a>"
      ]
    },
    {
      "cell_type": "markdown",
      "metadata": {
        "id": "G9SaGDzo5MjC"
      },
      "source": [
        "# 큰 수 만들기"
      ]
    },
    {
      "cell_type": "markdown",
      "metadata": {
        "id": "Pyt6HPM25Mp6"
      },
      "source": [
        "## 문제 설명\n",
        "어떤 숫자에서 k개의 수를 제거했을 때 얻을 수 있는 가장 큰 숫자를 구하려 합니다.\n",
        "\n",
        "예를 들어, 숫자 1924에서 수 두 개를 제거하면 [19, 12, 14, 92, 94, 24] 를 만들 수 있습니다. 이 중 가장 큰 숫자는 94 입니다.\n",
        "\n",
        "문자열 형식으로 숫자 number와 제거할 수의 개수 k가 solution 함수의 매개변수로 주어집니다. number에서 k 개의 수를 제거했을 때 만들 수 있는 수 중 가장 큰 숫자를 문자열 형태로 return 하도록 solution 함수를 완성하세요.\n",
        "\n",
        "## 제한 조건\n",
        "number는 1자리 이상, 1,000,000자리 이하인 숫자입니다.\n",
        "k는 1 이상 number의 자릿수 미만인 자연수입니다."
      ]
    },
    {
      "cell_type": "code",
      "metadata": {
        "id": "ThpxkAhY5lh5"
      },
      "source": [
        "number = \"1924\""
      ],
      "execution_count": 1,
      "outputs": []
    },
    {
      "cell_type": "code",
      "metadata": {
        "colab": {
          "base_uri": "https://localhost:8080/"
        },
        "id": "usAtRZM15FXa",
        "outputId": "c0847c29-33b4-4366-a6af-a6a65bcd8d05"
      },
      "source": [
        "alist = [int(i) for i in number]\n",
        "alist"
      ],
      "execution_count": 2,
      "outputs": [
        {
          "output_type": "execute_result",
          "data": {
            "text/plain": [
              "[1, 9, 2, 4]"
            ]
          },
          "metadata": {
            "tags": []
          },
          "execution_count": 2
        }
      ]
    },
    {
      "cell_type": "markdown",
      "metadata": {
        "id": "tKVBB27PyKjD"
      },
      "source": [
        "## Greedy\n",
        "- 매 단계에서 최적의 의 수를 찾아 내는 것 **\n",
        "\n",
        "## 문제 접근 방식\n",
        "- 숫자 두개를 제거 하는 것이 아니라 \n",
        "- 매개변수에서 k개의 숫자 중 가장 큰 숫자를 한개씩 선택 (총 숫자가 k개가 될때까지)"
      ]
    },
    {
      "cell_type": "code",
      "metadata": {
        "id": "ftJTJkv8zsTm"
      },
      "source": [
        "k =2"
      ],
      "execution_count": 3,
      "outputs": []
    },
    {
      "cell_type": "code",
      "metadata": {
        "colab": {
          "base_uri": "https://localhost:8080/"
        },
        "id": "JVBOT3QxzObZ",
        "outputId": "22c400f1-fb80-4157-d7d6-3cdb4dd75079"
      },
      "source": [
        "answer = []\n",
        "i = 0\n",
        "while len(answer) < k:\n",
        "  max_ = max(alist[i:i+k])\n",
        "  answer.append(max_)\n",
        "  i = alist.index(max_)+1\n",
        "\n",
        "print(answer)\n",
        "\n"
      ],
      "execution_count": 4,
      "outputs": [
        {
          "output_type": "stream",
          "text": [
            "[9, 4]\n"
          ],
          "name": "stdout"
        }
      ]
    },
    {
      "cell_type": "code",
      "metadata": {
        "colab": {
          "base_uri": "https://localhost:8080/"
        },
        "id": "9dlt6tKO0vSs",
        "outputId": "1ee27ec1-4900-47dc-a620-2ca004b2ac67"
      },
      "source": [
        "number = \"4177252841\"\n",
        "alist = [int(i) for i in number]\n",
        "k=4\n",
        "answer = [alist[0]]\n",
        "for i in alist[1:]:\n",
        "  print(answer[-1], answer)\n",
        "  while len(answer) > 0 and answer[-1] < i and k>0:\n",
        "    k -= 1\n",
        "    answer.pop()\n",
        "  answer.append(i)\n",
        "\n",
        "if k != 0:\n",
        "  answer = answer[:-k]\n",
        "print(answer)\n",
        "\n"
      ],
      "execution_count": 14,
      "outputs": [
        {
          "output_type": "stream",
          "text": [
            "4 [4]\n",
            "1 [4, 1]\n",
            "7 [7]\n",
            "7 [7, 7]\n",
            "2 [7, 7, 2]\n",
            "5 [7, 7, 5]\n",
            "2 [7, 7, 5, 2]\n",
            "8 [7, 7, 5, 8]\n",
            "4 [7, 7, 5, 8, 4]\n",
            "[7, 7, 5, 8, 4, 1]\n"
          ],
          "name": "stdout"
        }
      ]
    },
    {
      "cell_type": "code",
      "metadata": {
        "id": "uucsC-eexdId"
      },
      "source": [
        "def solution(number, k):\n",
        "    alist = [int(i) for i in number]\n",
        "    answer = [alist[0]]\n",
        "    for i in alist[1:]:\n",
        "          \n",
        "        while len(answer) > 0 and answer[-1] < i and k>0:\n",
        "            k -= 1\n",
        "            answer.pop()\n",
        "        answer.append(i)\n",
        "\n",
        "    if k != 0:\n",
        "        answer = answer[:-k]\n",
        "        \n",
        "    return ''.join([str(i) for i in answer])"
      ],
      "execution_count": null,
      "outputs": []
    },
    {
      "cell_type": "markdown",
      "metadata": {
        "id": "O5u84EZixbxv"
      },
      "source": [
        "- 테스트 1 〉\t통과 (0.03ms, 10.4MB)\n",
        "- 테스트 2 〉\t통과 (0.05ms, 10.5MB)\n",
        "- 테스트 3 〉\t통과 (0.10ms, 10.4MB)\n",
        "- 테스트 4 〉\t통과 (0.56ms, 10.4MB)\n",
        "- 테스트 5 〉\t통과 (0.74ms, 10.4MB)\n",
        "- 테스트 6 〉\t통과 (6.60ms, 10.6MB)\n",
        "- 테스트 7 〉\t통과 (23.65ms, 13.5MB)\n",
        "- 테스트 8 〉\t통과 (44.22ms, 15.4MB)\n",
        "- 테스트 9 〉\t통과 (134.38ms, 36.5MB)\n",
        "- 테스트 10 〉\t통과 (226.05ms, 32.8MB)\n",
        "- 테스트 11 〉\t통과 (0.03ms, 10.2MB)\n",
        "- 테스트 12 〉\t통과 (0.02ms, 10.4MB)"
      ]
    }
  ]
}