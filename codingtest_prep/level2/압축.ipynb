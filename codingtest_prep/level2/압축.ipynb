{
  "nbformat": 4,
  "nbformat_minor": 0,
  "metadata": {
    "colab": {
      "name": "압축.ipynb",
      "provenance": [],
      "authorship_tag": "ABX9TyNeOG0P5jyvoWF7jm9z+CJT",
      "include_colab_link": true
    },
    "kernelspec": {
      "name": "python3",
      "display_name": "Python 3"
    },
    "language_info": {
      "name": "python"
    }
  },
  "cells": [
    {
      "cell_type": "markdown",
      "metadata": {
        "id": "view-in-github",
        "colab_type": "text"
      },
      "source": [
        "<a href=\"https://colab.research.google.com/github/ckim415/Yeonny/blob/master/codingtest_prep/level2/%EC%95%95%EC%B6%95.ipynb\" target=\"_parent\"><img src=\"https://colab.research.google.com/assets/colab-badge.svg\" alt=\"Open In Colab\"/></a>"
      ]
    },
    {
      "cell_type": "code",
      "metadata": {
        "id": "IE1z9hK3ZAKM"
      },
      "source": [
        "import string"
      ],
      "execution_count": null,
      "outputs": []
    },
    {
      "cell_type": "code",
      "metadata": {
        "colab": {
          "base_uri": "https://localhost:8080/"
        },
        "id": "ljW-UUn6YNEt",
        "outputId": "ffb6180a-4bda-4956-9142-77e56acfd40f"
      },
      "source": [
        "alpha_dict = { a:i for i,a in enumerate(list(string.ascii_uppercase), start = 1)}\n",
        "alpha_dict"
      ],
      "execution_count": null,
      "outputs": [
        {
          "output_type": "execute_result",
          "data": {
            "text/plain": [
              "{'A': 1,\n",
              " 'B': 2,\n",
              " 'C': 3,\n",
              " 'D': 4,\n",
              " 'E': 5,\n",
              " 'F': 6,\n",
              " 'G': 7,\n",
              " 'H': 8,\n",
              " 'I': 9,\n",
              " 'J': 10,\n",
              " 'K': 11,\n",
              " 'L': 12,\n",
              " 'M': 13,\n",
              " 'N': 14,\n",
              " 'O': 15,\n",
              " 'P': 16,\n",
              " 'Q': 17,\n",
              " 'R': 18,\n",
              " 'S': 19,\n",
              " 'T': 20,\n",
              " 'U': 21,\n",
              " 'V': 22,\n",
              " 'W': 23,\n",
              " 'X': 24,\n",
              " 'Y': 25,\n",
              " 'Z': 26}"
            ]
          },
          "metadata": {},
          "execution_count": 3
        }
      ]
    },
    {
      "cell_type": "code",
      "metadata": {
        "id": "PdTV7W6qZJYL"
      },
      "source": [
        "msg = 'KAKAO'"
      ],
      "execution_count": null,
      "outputs": []
    },
    {
      "cell_type": "code",
      "metadata": {
        "id": "WHgtggMyOvSV"
      },
      "source": [
        "import sys\n",
        "from collections import deque"
      ],
      "execution_count": null,
      "outputs": []
    },
    {
      "cell_type": "code",
      "metadata": {
        "colab": {
          "base_uri": "https://localhost:8080/"
        },
        "id": "CrzLf05jaCcW",
        "outputId": "3200ea7e-4003-4ed1-846a-185e393bae3c"
      },
      "source": [
        "msg = 'KAKAO'\n",
        "alpha_dict = { a:i for i,a in enumerate(list(string.ascii_uppercase), start = 1)}\n",
        "answer = []\n",
        "while msg:\n",
        "  q = deque(msg)\n",
        "  now = q.popleft()\n",
        "  while now in alpha_dict and q:\n",
        "    now += q.popleft()\n",
        "\n",
        "  if now in alpha_dict or now[:-1] == '':\n",
        "    answer.append(alpha_dict[now])\n",
        "    break\n",
        "\n",
        "  answer.append(alpha_dict[now[:-1]])    \n",
        "  msg = msg[len(now)-1:]\n",
        "  print('now', now[:-1], '저장',now)\n",
        "\n",
        "  if msg:\n",
        "    if now in alpha_dict:\n",
        "      continue\n",
        "    alpha_dict[now] = max(alpha_dict.values()) + 1\n",
        "\n",
        "  # print(alpha_dict)\n",
        "print(answer)"
      ],
      "execution_count": null,
      "outputs": [
        {
          "output_type": "stream",
          "name": "stdout",
          "text": [
            "now K 저장 KA\n",
            "now A 저장 AK\n",
            "now KA 저장 KAO\n",
            "[11, 1, 27, 15]\n"
          ]
        }
      ]
    },
    {
      "cell_type": "code",
      "metadata": {
        "colab": {
          "base_uri": "https://localhost:8080/"
        },
        "id": "hMsoe0W-tqmB",
        "outputId": "f44f4927-f25e-4d05-90cb-a333cfccef16"
      },
      "source": [
        "msg = 'TOBEORNOTTOBEORTOBEORNOT'\t\n",
        "alpha_dict = { a:i for i,a in enumerate(list(string.ascii_uppercase), start = 1)}\n",
        "answer = []\n",
        "num = max(alpha_dict.values()) +1\n",
        "while msg:\n",
        "  index = 1\n",
        "  while msg[:index] in alpha_dict and index <= len(msg):\n",
        "    index += 1\n",
        "  index -= 1\n",
        "  if msg[:index] in alpha_dict:\n",
        "    answer.append(alpha_dict[msg[:index]])\n",
        "    alpha_dict[msg[:index+1]] = num\n",
        "    num +=1\n",
        "  \n",
        "  msg = msg[index:]\n",
        "answer"
      ],
      "execution_count": null,
      "outputs": [
        {
          "output_type": "execute_result",
          "data": {
            "text/plain": [
              "[20, 15, 2, 5, 15, 18, 14, 15, 20, 27, 29, 31, 36, 30, 32, 34]"
            ]
          },
          "metadata": {},
          "execution_count": 71
        }
      ]
    },
    {
      "cell_type": "markdown",
      "metadata": {
        "id": "8Udb7ukCaid3"
      },
      "source": [
        "테스트 1 〉\t통과 (0.01ms, 10.3MB)\n",
        "\n",
        "테스트 2 〉\t통과 (0.04ms, 10.3MB)\n",
        "\n",
        "테스트 3 〉\t통과 (0.02ms, 10.3MB)\n",
        "\n",
        "테스트 4 〉\t통과 (0.32ms, 10.3MB)\n",
        "\n",
        "테스트 5 〉\t통과 (0.05ms, 10.3MB)\n",
        "\n",
        "테스트 6 〉\t통과 (0.33ms, 10.3MB)\n",
        "\n",
        "테스트 7 〉\t통과 (0.27ms, 10.3MB)\n",
        "\n",
        "테스트 8 〉\t통과 (0.29ms, 10.3MB)\n",
        "\n",
        "테스트 9 〉\t통과 (0.01ms, 10.3MB)\n",
        "\n",
        "테스트 10 〉\t통과 (0.27ms, 10.3MB)\n",
        "\n",
        "테스트 11 〉\t통과 (0.22ms, 10.3MB)\n",
        "\n",
        "테스트 12 〉\t통과 (0.33ms, 10.3MB)\n",
        "\n",
        "테스트 13 〉\t통과 (0.54ms, 10.3MB)\n",
        "\n",
        "테스트 14 〉\t통과 (0.47ms, 10.4MB)\n",
        "\n",
        "테스트 15 〉\t통과 (0.49ms, 10.4MB)\n",
        "\n",
        "테스트 16 〉\t통과 (0.43ms, 10.3MB)\n",
        "\n",
        "테스트 17 〉\t통과 (0.30ms, 10.3MB)\n",
        "\n",
        "테스트 18 〉\t통과 (0.11ms, 10.2MB)\n",
        "\n",
        "테스트 19 〉\t통과 (0.25ms, 10.3MB)\n",
        "\n",
        "테스트 20 〉\t통과 (0.31ms, 10.3MB)\n"
      ]
    },
    {
      "cell_type": "code",
      "metadata": {
        "colab": {
          "base_uri": "https://localhost:8080/"
        },
        "id": "Nx2VWpYkBp4p",
        "outputId": "c9d247fb-78de-4c4b-ea25-9be8c1fd4cdf"
      },
      "source": [
        "msg = 'TOBEORNOTTOBEORTOBEORNOT'\n",
        "alpha_dict = { a:i for i,a in enumerate(list(string.ascii_uppercase), start = 1)}\n",
        "answer = []\n",
        "value = max( alpha_dict.values() ) + 1\n",
        "while msg:\n",
        "  idx = 1\n",
        "  for j in range(1, len(msg)+1):\n",
        "    if msg[:j] in alpha_dict:\n",
        "      idx += 1\n",
        "    else:\n",
        "      idx -= 1\n",
        "      break\n",
        "\n",
        "\n",
        "\n",
        "  answer.append(alpha_dict[msg[:idx]])\n",
        "  alpha_dict[msg[:idx+1]] = value\n",
        "  value += 1\n",
        "  msg = msg[idx:]\n",
        "  print(msg)\n",
        "print(answer)"
      ],
      "execution_count": null,
      "outputs": [
        {
          "output_type": "stream",
          "name": "stdout",
          "text": [
            "OBEORNOTTOBEORTOBEORNOT\n",
            "BEORNOTTOBEORTOBEORNOT\n",
            "EORNOTTOBEORTOBEORNOT\n",
            "ORNOTTOBEORTOBEORNOT\n",
            "RNOTTOBEORTOBEORNOT\n",
            "NOTTOBEORTOBEORNOT\n",
            "OTTOBEORTOBEORNOT\n",
            "TTOBEORTOBEORNOT\n",
            "TOBEORTOBEORNOT\n",
            "BEORTOBEORNOT\n",
            "ORTOBEORNOT\n",
            "TOBEORNOT\n",
            "EORNOT\n",
            "RNOT\n",
            "OT\n",
            "\n",
            "[20, 15, 2, 5, 15, 18, 14, 15, 20, 27, 29, 31, 36, 30, 32, 34]\n"
          ]
        }
      ]
    }
  ]
}