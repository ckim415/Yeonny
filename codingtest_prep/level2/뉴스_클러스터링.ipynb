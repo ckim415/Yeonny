{
  "nbformat": 4,
  "nbformat_minor": 0,
  "metadata": {
    "colab": {
      "name": "뉴스 클러스터링.ipynb",
      "provenance": [],
      "authorship_tag": "ABX9TyPsWKxrPH8JyJga6dwXBxZj",
      "include_colab_link": true
    },
    "kernelspec": {
      "name": "python3",
      "display_name": "Python 3"
    },
    "language_info": {
      "name": "python"
    }
  },
  "cells": [
    {
      "cell_type": "markdown",
      "metadata": {
        "id": "view-in-github",
        "colab_type": "text"
      },
      "source": [
        "<a href=\"https://colab.research.google.com/github/ckim415/Yeonny/blob/master/codingtest_prep/level2/%EB%89%B4%EC%8A%A4_%ED%81%B4%EB%9F%AC%EC%8A%A4%ED%84%B0%EB%A7%81.ipynb\" target=\"_parent\"><img src=\"https://colab.research.google.com/assets/colab-badge.svg\" alt=\"Open In Colab\"/></a>"
      ]
    },
    {
      "cell_type": "markdown",
      "metadata": {
        "id": "e0FQfLGsyRqQ"
      },
      "source": [
        "# 뉴스 클러스터링"
      ]
    },
    {
      "cell_type": "markdown",
      "metadata": {
        "id": "4oEfQR0TyRuM"
      },
      "source": [
        "## 문제설명\n",
        "여러 언론사에서 쏟아지는 뉴스, 특히 속보성 뉴스를 보면 비슷비슷한 제목의 기사가 많아 정작 필요한 기사를 찾기가 어렵다. Daum 뉴스의 개발 업무를 맡게 된 신입사원 튜브는 사용자들이 편리하게 다양한 뉴스를 찾아볼 수 있도록 문제점을 개선하는 업무를 맡게 되었다.\n",
        "\n",
        "개발의 방향을 잡기 위해 튜브는 우선 최근 화제가 되고 있는 \"카카오 신입 개발자 공채\" 관련 기사를 검색해보았다.\n",
        "\n",
        " - 카카오 첫 공채..'블라인드' 방식 채용\n",
        " - 카카오, 합병 후 첫 공채.. 블라인드 전형으로 개발자 채용\n",
        " - 카카오, 블라인드 전형으로 신입 개발자 공채\n",
        " - 카카오 공채, 신입 개발자 코딩 능력만 본다\n",
        " - 카카오, 신입 공채.. \"코딩 실력만 본다\"\n",
        " - 카카오 \"코딩 능력만으로 2018 신입 개발자 뽑는다\"\n",
        "\n",
        "기사의 제목을 기준으로 \"블라인드 전형\"에 주목하는 기사와 \"코딩 테스트\"에 주목하는  기사로 나뉘는 걸 발견했다. 튜브는 이들을 각각 묶어서 보여주면 카카오 공채 관련 기사를 찾아보는 사용자에게 유용할 듯싶었다.\n",
        "\n",
        "유사한 기사를 묶는 기준을 정하기 위해서 논문과 자료를 조사하던 튜브는 \"자카드 유사도\"라는 방법을 찾아냈다.\n",
        "\n",
        "자카드 유사도는 집합 간의 유사도를 검사하는 여러 방법 중의 하나로 알려져 있다. 두 집합 A, B 사이의 자카드 유사도 J(A, B)는 두 집합의 교집합 크기를 두 집합의 합집합 크기로 나눈 값으로 정의된다.\n",
        "\n",
        "예를 들어 집합 A = {1, 2, 3}, 집합 B = {2, 3, 4}라고 할 때, 교집합 A ∩ B = {2, 3}, 합집합 A ∪ B = {1, 2, 3, 4}이 되므로, 집합 A, B 사이의 자카드 유사도 J(A, B) = 2/4 = 0.5가 된다. 집합 A와 집합 B가 모두 공집합일 경우에는 나눗셈이 정의되지 않으니 따로 J(A, B) = 1로 정의한다.\n",
        "\n",
        "자카드 유사도는 원소의 중복을 허용하는 다중집합에 대해서 확장할 수 있다. 다중집합 A는 원소 \"1\"을 3개 가지고 있고, 다중집합 B는 원소 \"1\"을 5개 가지고 있다고 하자. 이 다중집합의 교집합 A ∩ B는 원소 \"1\"을 min(3, 5)인 3개, 합집합 A ∪ B는 원소 \"1\"을 max(3, 5)인 5개 가지게 된다. 다중집합 A = {1, 1, 2, 2, 3}, 다중집합 B = {1, 2, 2, 4, 5}라고 하면, 교집합 A ∩ B = {1, 2, 2}, 합집합 A ∪ B = {1, 1, 2, 2, 3, 4, 5}가 되므로, 자카드 유사도 J(A, B) = 3/7, 약 0.42가 된다.\n",
        "\n",
        "이를 이용하여 문자열 사이의 유사도를 계산하는데 이용할 수 있다. 문자열 \"FRANCE\"와 \"FRENCH\"가 주어졌을 때, 이를 두 글자씩 끊어서 다중집합을 만들 수 있다. 각각 {FR, RA, AN, NC, CE}, {FR, RE, EN, NC, CH}가 되며, 교집합은 {FR, NC}, 합집합은 {FR, RA, AN, NC, CE, RE, EN, CH}가 되므로, 두 문자열 사이의 자카드 유사도 J(\"FRANCE\", \"FRENCH\") = 2/8 = 0.25가 된다."
      ]
    },
    {
      "cell_type": "markdown",
      "metadata": {
        "id": "_AiISlMpyRv4"
      },
      "source": [
        "## 입력 형식\n",
        "- 입력으로는 str1과 str2의 두 문자열이 들어온다. 각 문자열의 길이는 2 이상, 1,000 이하이다.\n",
        "- 입력으로 들어온 문자열은 두 글자씩 끊어서 다중집합의 원소로 만든다. 이때 영문자로 된 글자 쌍만 유효하고, 기타 공백이나 숫자, 특수 문자가 들어있는 경우는 그 글자 쌍을 버린다. 예를 들어 \"ab+\"가 입력으로 들어오면, \"ab\"만 다중집합의 원소로 삼고, \"b+\"는 버린다.\n",
        "- 다중집합 원소 사이를 비교할 때, 대문자와 소문자의 차이는 무시한다. \"AB\"와 \"Ab\", \"ab\"는 같은 원소로 취급한다.\n",
        "\n",
        "\n",
        "## 출력 형식\n",
        "입력으로 들어온 두 문자열의 자카드 유사도를 출력한다. 유사도 값은 0에서 1 사이의 실수이므로, 이를 다루기 쉽도록 65536을 곱한 후에 소수점 아래를 버리고 정수부만 출력한다."
      ]
    },
    {
      "cell_type": "markdown",
      "metadata": {
        "id": "uy-JvpSNznHi"
      },
      "source": [
        "## 예제 입출력\n",
        "str1\tstr2\tanswer\n",
        "\n",
        "FRANCE\tfrench\t16384\n",
        "\n",
        "handshake\tshake hands\t65536\n",
        "\n",
        "aa1+aa2\tAAAA12\t43690\n",
        "\n",
        "E=M*C^2\te=m*c^2\t65536"
      ]
    },
    {
      "cell_type": "code",
      "metadata": {
        "id": "wDlhK4OD8tie"
      },
      "source": [
        "# 두 글자씩 리턴\n",
        "# 글자가 아닌 것이 포함되어 있으면 그 쌍을 버림\n",
        "# 자카드 유사도 검사 0~1\n",
        "# 검사 값 * 65536 소수점 제거 return "
      ],
      "execution_count": null,
      "outputs": []
    },
    {
      "cell_type": "code",
      "metadata": {
        "id": "jAEQvXQbyMpE"
      },
      "source": [
        "# 두 글자씩 리턴\n",
        "str1 = \"FRANCE\"\n",
        "str2 = 'french'\n",
        "str1_list = [str1[i:i+2].lower() for i in range(len(str1)-1)]\n",
        "str2_list = [str2[i:i+2].lower() for i in range(len(str2)-1)]\n",
        "str1_list, str2_list, len(str1)\n",
        "\n",
        "#함수화\n",
        "def solution(str1, str2):\n",
        "  str1_ = [str1[i:i+2].lower() for i in range(len(str1)-1)]\n",
        "  str2_ = [str2[i:i+2].lower() for i in range(len(str2)-1)]\n",
        "\n",
        "  s1 = [i for i in str1_ if i.isalpha()]\n",
        "  s2 = [i for i in str2_ if i.isalpha()] # 글자 아닌것 버림\n",
        "  print(s1,s2)\n",
        "\n",
        "  # if len(s1) == 0 and len(s2) == 0:\n",
        "  #   return 65536\n",
        "\n",
        "\n",
        "  if len(s1) > len(s2):\n",
        "    inter = [s1.remove(i) for i in s2 if i in s1]\n",
        "  else:\n",
        "    inter = [s2.remove(i) for i in s1 if i in s2]\n",
        "  \n",
        "  uni = len(s1 + s2)\n",
        "\n",
        "  print(inter, uni)\n",
        "  if uni == 0:\n",
        "    return 65536\n",
        "\n",
        "    \n",
        "  return int( (len(inter)/uni * 65536) )\n",
        "\n"
      ],
      "execution_count": 45,
      "outputs": []
    },
    {
      "cell_type": "markdown",
      "metadata": {
        "id": "aty1D0kZ2lPe"
      },
      "source": [
        "## set\n",
        "- 중복되는 요소들이 제거 되는 경우 발생\n",
        "- 리스트에서 차집합과 교집합을 구할수 있는 방법\n",
        "  - "
      ]
    },
    {
      "cell_type": "code",
      "metadata": {
        "colab": {
          "base_uri": "https://localhost:8080/"
        },
        "id": "TuP83Fm9kTQq",
        "outputId": "bfc51acd-19ac-4b9b-cdc6-a5c7cf84a953"
      },
      "source": [
        "solution(\"handshake\", 'shake hands')"
      ],
      "execution_count": 46,
      "outputs": [
        {
          "output_type": "stream",
          "text": [
            "['ha', 'an', 'nd', 'ds', 'sh', 'ha', 'ak', 'ke'] ['sh', 'ha', 'ak', 'ke', 'ha', 'an', 'nd', 'ds']\n",
            "[None, None, None, None, None, None, None, None] 8\n"
          ],
          "name": "stdout"
        },
        {
          "output_type": "execute_result",
          "data": {
            "text/plain": [
              "65536"
            ]
          },
          "metadata": {
            "tags": []
          },
          "execution_count": 46
        }
      ]
    },
    {
      "cell_type": "code",
      "metadata": {
        "colab": {
          "base_uri": "https://localhost:8080/",
          "height": 189
        },
        "id": "sYIDt84F1QWN",
        "outputId": "8f4d484b-c4c9-4d47-9a34-de7cb517fb8b"
      },
      "source": [
        "a,b = ['aa', 'a1', '1+', '+a', 'aa', 'a2'], ['aa', 'aa', 'aa', 'a1', '12']\n",
        "a & b"
      ],
      "execution_count": 32,
      "outputs": [
        {
          "output_type": "error",
          "ename": "TypeError",
          "evalue": "ignored",
          "traceback": [
            "\u001b[0;31m---------------------------------------------------------------------------\u001b[0m",
            "\u001b[0;31mTypeError\u001b[0m                                 Traceback (most recent call last)",
            "\u001b[0;32m<ipython-input-32-a8e3c73269b7>\u001b[0m in \u001b[0;36m<module>\u001b[0;34m()\u001b[0m\n\u001b[1;32m      1\u001b[0m \u001b[0ma\u001b[0m\u001b[0;34m,\u001b[0m\u001b[0mb\u001b[0m \u001b[0;34m=\u001b[0m \u001b[0;34m[\u001b[0m\u001b[0;34m'aa'\u001b[0m\u001b[0;34m,\u001b[0m \u001b[0;34m'a1'\u001b[0m\u001b[0;34m,\u001b[0m \u001b[0;34m'1+'\u001b[0m\u001b[0;34m,\u001b[0m \u001b[0;34m'+a'\u001b[0m\u001b[0;34m,\u001b[0m \u001b[0;34m'aa'\u001b[0m\u001b[0;34m,\u001b[0m \u001b[0;34m'a2'\u001b[0m\u001b[0;34m]\u001b[0m\u001b[0;34m,\u001b[0m \u001b[0;34m[\u001b[0m\u001b[0;34m'aa'\u001b[0m\u001b[0;34m,\u001b[0m \u001b[0;34m'aa'\u001b[0m\u001b[0;34m,\u001b[0m \u001b[0;34m'aa'\u001b[0m\u001b[0;34m,\u001b[0m \u001b[0;34m'a1'\u001b[0m\u001b[0;34m,\u001b[0m \u001b[0;34m'12'\u001b[0m\u001b[0;34m]\u001b[0m\u001b[0;34m\u001b[0m\u001b[0;34m\u001b[0m\u001b[0m\n\u001b[0;32m----> 2\u001b[0;31m \u001b[0ma\u001b[0m \u001b[0;34m&\u001b[0m \u001b[0mb\u001b[0m\u001b[0;34m\u001b[0m\u001b[0;34m\u001b[0m\u001b[0m\n\u001b[0m",
            "\u001b[0;31mTypeError\u001b[0m: unsupported operand type(s) for &: 'list' and 'list'"
          ]
        }
      ]
    }
  ]
}