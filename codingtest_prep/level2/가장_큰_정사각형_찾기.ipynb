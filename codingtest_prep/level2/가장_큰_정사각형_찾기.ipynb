{
  "nbformat": 4,
  "nbformat_minor": 0,
  "metadata": {
    "colab": {
      "name": "가장 큰 정사각형 찾기",
      "provenance": [],
      "authorship_tag": "ABX9TyOdTuZJCgK26ChChY27odIC",
      "include_colab_link": true
    },
    "kernelspec": {
      "name": "python3",
      "display_name": "Python 3"
    },
    "language_info": {
      "name": "python"
    }
  },
  "cells": [
    {
      "cell_type": "markdown",
      "metadata": {
        "id": "view-in-github",
        "colab_type": "text"
      },
      "source": [
        "<a href=\"https://colab.research.google.com/github/ckim415/Yeonny/blob/master/codingtest_prep/level2/%EA%B0%80%EC%9E%A5_%ED%81%B0_%EC%A0%95%EC%82%AC%EA%B0%81%ED%98%95_%EC%B0%BE%EA%B8%B0.ipynb\" target=\"_parent\"><img src=\"https://colab.research.google.com/assets/colab-badge.svg\" alt=\"Open In Colab\"/></a>"
      ]
    },
    {
      "cell_type": "code",
      "metadata": {
        "id": "RmVfisMuJwov"
      },
      "source": [
        "board = [[0,1,1,1],[1,1,1,1],[1,1,1,1],[0,0,1,0]]"
      ],
      "execution_count": 1,
      "outputs": []
    },
    {
      "cell_type": "code",
      "metadata": {
        "colab": {
          "base_uri": "https://localhost:8080/"
        },
        "id": "SK-5fyjJJ3mC",
        "outputId": "cc3a4ef0-b486-43ef-ab2d-69e76f041fe5"
      },
      "source": [
        "row, col = len(board), len(board[0])\n",
        "row, col"
      ],
      "execution_count": 2,
      "outputs": [
        {
          "output_type": "execute_result",
          "data": {
            "text/plain": [
              "(4, 4)"
            ]
          },
          "metadata": {},
          "execution_count": 2
        }
      ]
    },
    {
      "cell_type": "code",
      "metadata": {
        "colab": {
          "base_uri": "https://localhost:8080/"
        },
        "id": "Gbh-91m7J9FA",
        "outputId": "391bb6c1-56dd-4754-a5c2-91b39e53651f"
      },
      "source": [
        "ones_points = []\n",
        "for i in range(row):\n",
        "  cnt = board[i].count(1)\n",
        "  for j in range(col):\n",
        "    if board[i][j] == 1:\n",
        "      y = j\n",
        "      break\n",
        "\n",
        "  if cnt != 0:\n",
        "    ones_points.append((y, y+cnt-1))\n",
        "  else:\n",
        "    ones_points.append((0,0))\n",
        "\n",
        "ones_points\n",
        "\n"
      ],
      "execution_count": 8,
      "outputs": [
        {
          "output_type": "execute_result",
          "data": {
            "text/plain": [
              "[(1, 3), (0, 3), (0, 3), (2, 2)]"
            ]
          },
          "metadata": {},
          "execution_count": 8
        }
      ]
    },
    {
      "cell_type": "code",
      "metadata": {
        "colab": {
          "base_uri": "https://localhost:8080/"
        },
        "id": "c1cCwJlFNNgs",
        "outputId": "dbdf8b29-0d96-4f33-a218-87e83310ed97"
      },
      "source": [
        "left = max([x[0] for x in ones_points if x[0] // 2 == 0]) \n",
        "left"
      ],
      "execution_count": 9,
      "outputs": [
        {
          "output_type": "execute_result",
          "data": {
            "text/plain": [
              "1"
            ]
          },
          "metadata": {},
          "execution_count": 9
        }
      ]
    },
    {
      "cell_type": "code",
      "metadata": {
        "colab": {
          "base_uri": "https://localhost:8080/"
        },
        "id": "SGaJPbQDNcsr",
        "outputId": "200576d9-06d1-451b-9282-18a9d9be1b0d"
      },
      "source": [
        "right = max([x[1] for x in ones_points if x[1]// 2 == 1])\n",
        "right "
      ],
      "execution_count": 11,
      "outputs": [
        {
          "output_type": "execute_result",
          "data": {
            "text/plain": [
              "3"
            ]
          },
          "metadata": {},
          "execution_count": 11
        }
      ]
    },
    {
      "cell_type": "code",
      "metadata": {
        "id": "8giBRI-BNsff"
      },
      "source": [
        "def length(board):\n",
        "  ones_points = []\n",
        "  for i in range(row):\n",
        "    cnt = board[i].count(1)\n",
        "    for j in range(col):\n",
        "      if board[i][j] == 1:\n",
        "        y = j\n",
        "        break\n",
        "\n",
        "    if cnt != 0:\n",
        "      ones_points.append((y, y+cnt-1))\n",
        "    else:\n",
        "      ones_points.append((0,0))\n",
        "\n",
        "  left = max([x[0] for x in ones_points if x[0] // (col//2) == 0]) \n",
        "  right = max([x[1] for x in ones_points if x[1]// (col//2) == 1])\n",
        "\n",
        "  return right - left+1"
      ],
      "execution_count": 18,
      "outputs": []
    },
    {
      "cell_type": "code",
      "metadata": {
        "id": "fCv68UIXOGyp"
      },
      "source": [
        "def solution(board):\n",
        "  len1, len2 = length(board), length(list(zip(*board)))\n",
        "  return len1 * len2"
      ],
      "execution_count": 19,
      "outputs": []
    },
    {
      "cell_type": "code",
      "metadata": {
        "colab": {
          "base_uri": "https://localhost:8080/"
        },
        "id": "GOAfOlEzOVGw",
        "outputId": "39d5c450-d61c-4fa7-92f8-83c2204501ec"
      },
      "source": [
        "board = [[0,1,1,1],[1,1,1,1],[1,1,1,1],[0,0,1,0]]\n",
        "solution(board)"
      ],
      "execution_count": 20,
      "outputs": [
        {
          "output_type": "execute_result",
          "data": {
            "text/plain": [
              "9"
            ]
          },
          "metadata": {},
          "execution_count": 20
        }
      ]
    },
    {
      "cell_type": "code",
      "metadata": {
        "colab": {
          "base_uri": "https://localhost:8080/"
        },
        "id": "5v0SzeNpV_zv",
        "outputId": "aa2ef8fe-91b1-431f-882e-b0e5a759edc6"
      },
      "source": [
        "def solution(board):\n",
        "  r,c = len(board), len(board[0])\n",
        "  dp = [[0]*c for _ in range(r)]\n",
        "  dp[0] = board[0]\n",
        "  for i in range(r):\n",
        "    dp[i][0] = board[i][0]\n",
        "  \n",
        "  for i in range(1,r):\n",
        "    for j in range(1,c):\n",
        "      \n",
        "      if board[i][j] == 1:\n",
        "        dp[i][j] = min(dp[i-1][j-1], dp[i][j-1], dp[i-1][j]) + 1\n",
        "\n",
        "  answer = 0\n",
        "  for i in range(r):\n",
        "    answer = max(dp[i])\n",
        "  \n",
        "  return answer ** 2\n",
        "\n",
        "board = [[0,1,1,1],[1,1,1,1],[1,1,1,1],[0,0,1,0]]\n",
        "solution(board) "
      ],
      "execution_count": 22,
      "outputs": [
        {
          "output_type": "execute_result",
          "data": {
            "text/plain": [
              "1"
            ]
          },
          "metadata": {},
          "execution_count": 22
        }
      ]
    },
    {
      "cell_type": "code",
      "metadata": {
        "colab": {
          "base_uri": "https://localhost:8080/"
        },
        "id": "a2gpTor_XzS-",
        "outputId": "fe60d6e0-782b-4ae3-a581-ef14c80e3bd9"
      },
      "source": [
        "board = [[0,1,1,1],[1,1,1,1],[1,1,1,1],[0,0,1,0]]\n",
        "r,c = len(board), len(board[0])\n",
        "dp = [[0]*c for _ in range(r)]\n",
        "dp[0] = board[0]\n",
        "for i in range(r):\n",
        "  dp[i][0] = board[i][0]\n",
        "\n",
        "for i in range(1,r):\n",
        "  for j in range(1,c):\n",
        "    \n",
        "    if board[i][j] == 1:\n",
        "      dp[i][j] = min(dp[i-1][j-1], dp[i][j-1], dp[i-1][j]) + 1\n",
        "answer = 0\n",
        "for i in range(r):\n",
        "  print(dp[i])\n",
        "  answer = max(max(dp[i]), answer)\n",
        "print(answer)"
      ],
      "execution_count": 31,
      "outputs": [
        {
          "output_type": "stream",
          "name": "stdout",
          "text": [
            "[0, 1, 1, 1]\n",
            "[1, 1, 2, 2]\n",
            "[1, 2, 2, 3]\n",
            "[0, 0, 1, 0]\n",
            "3\n"
          ]
        }
      ]
    },
    {
      "cell_type": "code",
      "metadata": {
        "id": "CVazMeouYRWY"
      },
      "source": [
        ""
      ],
      "execution_count": null,
      "outputs": []
    }
  ]
}