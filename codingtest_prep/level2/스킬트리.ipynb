{
  "nbformat": 4,
  "nbformat_minor": 0,
  "metadata": {
    "colab": {
      "name": "스킬트리.ipynb",
      "provenance": [],
      "authorship_tag": "ABX9TyNuIYtz/gUB8qO4horoE6m6",
      "include_colab_link": true
    },
    "kernelspec": {
      "name": "python3",
      "display_name": "Python 3"
    },
    "language_info": {
      "name": "python"
    }
  },
  "cells": [
    {
      "cell_type": "markdown",
      "metadata": {
        "id": "view-in-github",
        "colab_type": "text"
      },
      "source": [
        "<a href=\"https://colab.research.google.com/github/ckim415/Yeonny/blob/master/codingtest_prep/level2/%EC%8A%A4%ED%82%AC%ED%8A%B8%EB%A6%AC.ipynb\" target=\"_parent\"><img src=\"https://colab.research.google.com/assets/colab-badge.svg\" alt=\"Open In Colab\"/></a>"
      ]
    },
    {
      "cell_type": "markdown",
      "metadata": {
        "id": "aTy73J4wo9L2"
      },
      "source": [
        "# 내풀이\n",
        " - 스킬트리 list 에 있는 트리 중에 선행스킬이 아니라면 제거\n",
        " - 제거된 트리에서 선행스킬 비교하여 같으면 cnt +=1\n",
        " "
      ]
    },
    {
      "cell_type": "code",
      "metadata": {
        "id": "FK49Z8fko3Pc"
      },
      "source": [
        "def solution(skill, skill_trees):\n",
        "    \n",
        "    skill_2 = [x for x in skill]\n",
        "    skill_trees = [''.join([y for y in x if y in skill_2]) for x in skill_trees ]\n",
        "    \n",
        "    cnt = 0\n",
        "    for x in skill_trees:\n",
        "        lenght = len(x)\n",
        "        if x == skill[:lenght]:\n",
        "            cnt +=1\n",
        "    return cnt"
      ],
      "execution_count": null,
      "outputs": []
    }
  ]
}