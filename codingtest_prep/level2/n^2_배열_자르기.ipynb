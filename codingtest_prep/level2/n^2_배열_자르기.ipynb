{
  "nbformat": 4,
  "nbformat_minor": 0,
  "metadata": {
    "colab": {
      "name": "n^2 배열 자르기.ipynb",
      "provenance": [],
      "authorship_tag": "ABX9TyOMckvb9KRI7SMpjBo/0csT",
      "include_colab_link": true
    },
    "kernelspec": {
      "name": "python3",
      "display_name": "Python 3"
    },
    "language_info": {
      "name": "python"
    }
  },
  "cells": [
    {
      "cell_type": "markdown",
      "metadata": {
        "id": "view-in-github",
        "colab_type": "text"
      },
      "source": [
        "<a href=\"https://colab.research.google.com/github/ckim415/Yeonny/blob/master/codingtest_prep/level2/n%5E2_%EB%B0%B0%EC%97%B4_%EC%9E%90%EB%A5%B4%EA%B8%B0.ipynb\" target=\"_parent\"><img src=\"https://colab.research.google.com/assets/colab-badge.svg\" alt=\"Open In Colab\"/></a>"
      ]
    },
    {
      "cell_type": "markdown",
      "metadata": {
        "id": "iyOlNhIahqOt"
      },
      "source": [
        "# 내풀이\n",
        " - 모든 숫자들을 담은 array에서 left : right +1 slicing\n",
        " - 시간초과 \n",
        "  - 7문제 빼고 시간 초과 \n",
        " - 정답률 7/20\n",
        "\n",
        " "
      ]
    },
    {
      "cell_type": "code",
      "metadata": {
        "colab": {
          "base_uri": "https://localhost:8080/"
        },
        "id": "PZDdb9PsZX-z",
        "outputId": "86f5032f-70aa-4e0f-84e0-f69e81c62d2c"
      },
      "source": [
        "n = 3\n",
        "arr = [[y if y >= x else x for x in range(1,n+1) ] for y in range(1,n+1)]\n",
        "for x in arr:\n",
        "  print(x)"
      ],
      "execution_count": 8,
      "outputs": [
        {
          "output_type": "stream",
          "name": "stdout",
          "text": [
            "[1, 2, 3]\n",
            "[2, 2, 3]\n",
            "[3, 3, 3]\n"
          ]
        }
      ]
    },
    {
      "cell_type": "code",
      "metadata": {
        "colab": {
          "base_uri": "https://localhost:8080/"
        },
        "id": "GACQFr53Z8-P",
        "outputId": "e544166d-f174-4df5-cff6-76efd36400f4"
      },
      "source": [
        "left =2\n",
        "right = 5\n",
        "new_arr = []\n",
        "for x in arr:\n",
        "  new_arr.extend(x)\n",
        "new_arr[left: right+1]\n"
      ],
      "execution_count": 10,
      "outputs": [
        {
          "output_type": "execute_result",
          "data": {
            "text/plain": [
              "[3, 2, 2, 3]"
            ]
          },
          "metadata": {},
          "execution_count": 10
        }
      ]
    },
    {
      "cell_type": "code",
      "metadata": {
        "id": "pgdpGbRvbYGR"
      },
      "source": [
        "def solution_1(n, left, right):\n",
        "  arr = [y if y >= x else x for x in range(1,n+1) for y in range(1,n+1)]\n",
        "  return arr[left: right+1]"
      ],
      "execution_count": 17,
      "outputs": []
    },
    {
      "cell_type": "code",
      "metadata": {
        "colab": {
          "base_uri": "https://localhost:8080/"
        },
        "id": "ihDCOE8xbijK",
        "outputId": "dbdc2d94-42b2-4fd2-a999-7a511dc90a8d"
      },
      "source": [
        "%time\n",
        "n,left,right = 4,\t7,\t14\n",
        "solution_1(n, left, right)"
      ],
      "execution_count": 18,
      "outputs": [
        {
          "output_type": "stream",
          "name": "stdout",
          "text": [
            "CPU times: user 2 µs, sys: 0 ns, total: 2 µs\n",
            "Wall time: 5.72 µs\n"
          ]
        },
        {
          "output_type": "execute_result",
          "data": {
            "text/plain": [
              "[4, 3, 3, 3, 4, 4, 4, 4]"
            ]
          },
          "metadata": {},
          "execution_count": 18
        }
      ]
    },
    {
      "cell_type": "code",
      "metadata": {
        "colab": {
          "base_uri": "https://localhost:8080/"
        },
        "id": "KhW7wKDjbsV3",
        "outputId": "8b4a6c53-b5ed-4742-80ac-1f623b3df623"
      },
      "source": [
        "def solution_2(n, left, right):\n",
        "  arr = [[y if y >= x else x for x in range(1,n+1)] for y in range(1,n+1)]"
      ],
      "execution_count": 14,
      "outputs": [
        {
          "output_type": "execute_result",
          "data": {
            "text/plain": [
              "[1, 2, 3, 4, 2, 2, 3, 4, 3, 3, 3, 4, 4, 4, 4, 4]"
            ]
          },
          "metadata": {},
          "execution_count": 14
        }
      ]
    },
    {
      "cell_type": "markdown",
      "metadata": {
        "id": "5OSHnhN3iAam"
      },
      "source": [
        "# 다른 사람의 풀이\n",
        " - left : right+1 까지의 숫자만 구하고 바로 return\n",
        " - arr 안의 숫자는 max(divmod(x,n))+1 x for x in range(left, right +1)"
      ]
    },
    {
      "cell_type": "code",
      "metadata": {
        "id": "eYlYjachfUec"
      },
      "source": [
        "def solution_3(n, left, right):\n",
        "  answer = [ max(divmod(x,n))+1 for x in range(left, right +1)]\n",
        "  return answer"
      ],
      "execution_count": 24,
      "outputs": []
    },
    {
      "cell_type": "code",
      "metadata": {
        "colab": {
          "base_uri": "https://localhost:8080/"
        },
        "id": "YMV_Zdszfocf",
        "outputId": "b1712749-5b7a-439c-98a4-56164a1c06c2"
      },
      "source": [
        "%time\n",
        "solution_3(n, left, right)"
      ],
      "execution_count": 25,
      "outputs": [
        {
          "output_type": "stream",
          "name": "stdout",
          "text": [
            "CPU times: user 3 µs, sys: 0 ns, total: 3 µs\n",
            "Wall time: 5.25 µs\n"
          ]
        },
        {
          "output_type": "execute_result",
          "data": {
            "text/plain": [
              "[4, 3, 3, 3, 4, 4, 4, 4]"
            ]
          },
          "metadata": {},
          "execution_count": 25
        }
      ]
    },
    {
      "cell_type": "markdown",
      "metadata": {
        "id": "unRjV93Jiifu"
      },
      "source": [
        "## divmod(n1,n2) \n",
        "- n1 을 n2로 나눈 몫과 나머지를 반환"
      ]
    },
    {
      "cell_type": "code",
      "metadata": {
        "colab": {
          "base_uri": "https://localhost:8080/"
        },
        "id": "It0cNc4UiTHH",
        "outputId": "84ff653c-b9be-498d-a5f2-da29c0cd3ee3"
      },
      "source": [
        "divmod(10,3)"
      ],
      "execution_count": 26,
      "outputs": [
        {
          "output_type": "execute_result",
          "data": {
            "text/plain": [
              "(3, 1)"
            ]
          },
          "metadata": {},
          "execution_count": 26
        }
      ]
    },
    {
      "cell_type": "code",
      "metadata": {
        "colab": {
          "base_uri": "https://localhost:8080/"
        },
        "id": "IZqGpuOjiwf9",
        "outputId": "ddabca42-cbaf-4986-cbc2-5a748dddb593"
      },
      "source": [
        "left, right = 0, 7\n",
        "arr = [max(divmod(x,n))+1 for x in range(left,right+1)]\n",
        "arr"
      ],
      "execution_count": 38,
      "outputs": [
        {
          "output_type": "execute_result",
          "data": {
            "text/plain": [
              "[1, 2, 3, 2, 2, 3, 3, 3]"
            ]
          },
          "metadata": {},
          "execution_count": 38
        }
      ]
    }
  ]
}