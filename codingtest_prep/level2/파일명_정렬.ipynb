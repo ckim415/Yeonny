{
  "nbformat": 4,
  "nbformat_minor": 0,
  "metadata": {
    "colab": {
      "name": "파일명 정렬.ipynb",
      "provenance": [],
      "authorship_tag": "ABX9TyOH3pHcT4D94ReqGWKJavn4",
      "include_colab_link": true
    },
    "kernelspec": {
      "name": "python3",
      "display_name": "Python 3"
    },
    "language_info": {
      "name": "python"
    }
  },
  "cells": [
    {
      "cell_type": "markdown",
      "metadata": {
        "id": "view-in-github",
        "colab_type": "text"
      },
      "source": [
        "<a href=\"https://colab.research.google.com/github/ckim415/Yeonny/blob/master/codingtest_prep/level2/%ED%8C%8C%EC%9D%BC%EB%AA%85_%EC%A0%95%EB%A0%AC.ipynb\" target=\"_parent\"><img src=\"https://colab.research.google.com/assets/colab-badge.svg\" alt=\"Open In Colab\"/></a>"
      ]
    },
    {
      "cell_type": "code",
      "metadata": {
        "id": "xiz7JkiZPZxj"
      },
      "source": [
        "def parts(file):\n",
        "  start, end = 0,0\n",
        "  for i,s in enumerate(file):\n",
        "    if start == 0 and s.isdigit():\n",
        "      start = i\n",
        "    \n",
        "    if start !=0 and not s.isdigit():\n",
        "      end = i\n",
        "      break\n",
        "\n",
        "  return file[:start].lower(), int(file[start:end])"
      ],
      "execution_count": 2,
      "outputs": []
    },
    {
      "cell_type": "code",
      "metadata": {
        "colab": {
          "base_uri": "https://localhost:8080/"
        },
        "id": "rYAtucQKPvbl",
        "outputId": "9e41ab1d-d23a-4f1f-c91f-7307fc5b8673"
      },
      "source": [
        "parts('img12.png')"
      ],
      "execution_count": 3,
      "outputs": [
        {
          "output_type": "execute_result",
          "data": {
            "text/plain": [
              "('img', 12)"
            ]
          },
          "metadata": {},
          "execution_count": 3
        }
      ]
    },
    {
      "cell_type": "code",
      "metadata": {
        "id": "63IQedL2P-Ye"
      },
      "source": [
        "files = [\"img12.png\", \"img10.png\", \"img02.png\", \"img1.png\", \"IMG01.GIF\", \"img2.JPG\"]"
      ],
      "execution_count": 5,
      "outputs": []
    },
    {
      "cell_type": "code",
      "metadata": {
        "colab": {
          "base_uri": "https://localhost:8080/"
        },
        "id": "xFhitJ7_UdzP",
        "outputId": "15aac685-dd73-4cf1-d3ba-69049e4ac183"
      },
      "source": [
        "files.sort(key = lambda x:parts(x))\n",
        "files"
      ],
      "execution_count": 6,
      "outputs": [
        {
          "output_type": "execute_result",
          "data": {
            "text/plain": [
              "['img1.png', 'IMG01.GIF', 'img02.png', 'img2.JPG', 'img10.png', 'img12.png']"
            ]
          },
          "metadata": {},
          "execution_count": 6
        }
      ]
    },
    {
      "cell_type": "markdown",
      "metadata": {
        "id": "0mMZT9aIeUC_"
      },
      "source": [
        "## 정답은 맞으나 시간초과"
      ]
    },
    {
      "cell_type": "markdown",
      "metadata": {
        "id": "e6Da61WkeY__"
      },
      "source": [
        "# function parts 없이 "
      ]
    },
    {
      "cell_type": "code",
      "metadata": {
        "id": "ghIF4S-JeYUg"
      },
      "source": [
        "def solution(files):\n",
        "  answer = []\n",
        "  for file in files:\n",
        "    \n",
        "    head = ''\n",
        "    for s in file:\n",
        "      if s.isdigit():\n",
        "        break\n",
        "      head += s\n",
        "    \n",
        "    number = ''\n",
        "    for s in file[len(head):]:\n",
        "      if not s.isdigit():\n",
        "        break\n",
        "      number += s\n",
        "\n",
        "    tail = file[len(head)+len(number):]\n",
        "    answer.append((head, number, tail))\n",
        "  \n",
        "  answer.sort(key = lambda x: (x[0].lower(), int(x[1])))\n",
        "  return [''.join(x) for x in answer]\n"
      ],
      "execution_count": 10,
      "outputs": []
    },
    {
      "cell_type": "code",
      "metadata": {
        "colab": {
          "base_uri": "https://localhost:8080/"
        },
        "id": "LJG28qsUeTE0",
        "outputId": "0e971ebe-f8df-4222-936a-473cc441d144"
      },
      "source": [
        "files = [\"img12.png\", \"img10.png\", \"img02.png\", \"img1.png\", \"IMG01.GIF\", \"img2.JPG\"]\n",
        "solution(files)"
      ],
      "execution_count": 11,
      "outputs": [
        {
          "output_type": "execute_result",
          "data": {
            "text/plain": [
              "['img1.png', 'IMG01.GIF', 'img02.png', 'img2.JPG', 'img10.png', 'img12.png']"
            ]
          },
          "metadata": {},
          "execution_count": 11
        }
      ]
    }
  ]
}