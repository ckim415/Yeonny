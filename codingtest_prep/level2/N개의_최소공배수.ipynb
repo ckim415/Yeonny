{
  "nbformat": 4,
  "nbformat_minor": 0,
  "metadata": {
    "colab": {
      "name": "N개의 최소공배수.ipynb",
      "provenance": [],
      "toc_visible": true,
      "authorship_tag": "ABX9TyNURc+vAr8NovpHQZPYttcD",
      "include_colab_link": true
    },
    "kernelspec": {
      "name": "python3",
      "display_name": "Python 3"
    },
    "language_info": {
      "name": "python"
    }
  },
  "cells": [
    {
      "cell_type": "markdown",
      "metadata": {
        "id": "view-in-github",
        "colab_type": "text"
      },
      "source": [
        "<a href=\"https://colab.research.google.com/github/ckim415/Yeonny/blob/master/codingtest_prep/level2/N%EA%B0%9C%EC%9D%98_%EC%B5%9C%EC%86%8C%EA%B3%B5%EB%B0%B0%EC%88%98.ipynb\" target=\"_parent\"><img src=\"https://colab.research.google.com/assets/colab-badge.svg\" alt=\"Open In Colab\"/></a>"
      ]
    },
    {
      "cell_type": "markdown",
      "metadata": {
        "id": "Gnba5ZZJYHNo"
      },
      "source": [
        "#N개의 최소공배수"
      ]
    },
    {
      "cell_type": "markdown",
      "metadata": {
        "id": "Ud3v2xpUI-D-"
      },
      "source": [
        "##문제 설명\n",
        "두 수의 최소공배수(Least Common Multiple)란 입력된 두 수의 배수 중 공통이 되는 가장 작은 숫자를 의미합니다. 예를 들어 2와 7의 최소공배수는 14가 됩니다. 정의를 확장해서, n개의 수의 최소공배수는 n 개의 수들의 배수 중 공통이 되는 가장 작은 숫자가 됩니다. n개의 숫자를 담은 배열 arr이 입력되었을 때 이 수들의 최소공배수를 반환하는 함수, solution을 완성해 주세요.\n",
        "\n",
        "##제한 사항\n",
        "arr은 길이 1이상, 15이하인 배열입니다.\n",
        "arr의 원소는 100 이하인 자연수입니다.\n",
        "입출력 예"
      ]
    },
    {
      "cell_type": "code",
      "metadata": {
        "id": "EmHp0okeV2Vw"
      },
      "source": [
        "arr = [2,6,8,14]\n",
        "arr2= [1,2,3]"
      ],
      "execution_count": 8,
      "outputs": []
    },
    {
      "cell_type": "code",
      "metadata": {
        "id": "HMhkDAcTI7QB"
      },
      "source": [
        "import numpy as np\n",
        "# x = np.lcm(num1, num2)"
      ],
      "execution_count": 3,
      "outputs": []
    },
    {
      "cell_type": "code",
      "metadata": {
        "id": "wDLRd0muVy0s"
      },
      "source": [
        "def solution(arr):\n",
        "  answer = [arr[0]]\n",
        "  for num in arr[1:]:\n",
        "    x = np.lcm(answer[-1], num)\n",
        "    answer.append(x)\n",
        "\n",
        "\n",
        "  return int(answer[-1]) #TypeError: Object of type int64 is not JSON serializable 에러 발생때문에 타입 변환해서 return "
      ],
      "execution_count": 12,
      "outputs": []
    },
    {
      "cell_type": "code",
      "metadata": {
        "colab": {
          "base_uri": "https://localhost:8080/"
        },
        "id": "jdC4f3TvXBvD",
        "outputId": "6f48bd8c-5857-4e55-c000-87a59c133e3d"
      },
      "source": [
        "solution(arr)"
      ],
      "execution_count": 13,
      "outputs": [
        {
          "output_type": "execute_result",
          "data": {
            "text/plain": [
              "168"
            ]
          },
          "metadata": {
            "tags": []
          },
          "execution_count": 13
        }
      ]
    },
    {
      "cell_type": "markdown",
      "metadata": {
        "id": "QLvnI3RvZBu8"
      },
      "source": [
        "## 수정\n",
        "- 다른 사람의 풀이를 통해 수정\n",
        "- 리스트를 사용하지 않는 방법\n"
      ]
    },
    {
      "cell_type": "code",
      "metadata": {
        "id": "9_n3pKXLZJNl"
      },
      "source": [
        "def solution(arr):\n",
        "  answer = arr[0]\n",
        "  for num in arr[1:]:\n",
        "    answer = np.lcm(answer, num)\n",
        "    print(answer)\n",
        "\n",
        "\n",
        "  return answer"
      ],
      "execution_count": 25,
      "outputs": []
    },
    {
      "cell_type": "code",
      "metadata": {
        "colab": {
          "base_uri": "https://localhost:8080/"
        },
        "id": "plq6Y8ywZRpz",
        "outputId": "841080d8-5539-4b20-dc4a-e62b8ce74a33"
      },
      "source": [
        "solution(arr)"
      ],
      "execution_count": 26,
      "outputs": [
        {
          "output_type": "stream",
          "text": [
            "6\n",
            "24\n",
            "168\n"
          ],
          "name": "stdout"
        },
        {
          "output_type": "execute_result",
          "data": {
            "text/plain": [
              "168"
            ]
          },
          "metadata": {
            "tags": []
          },
          "execution_count": 26
        }
      ]
    },
    {
      "cell_type": "markdown",
      "metadata": {
        "id": "P5ZN90bXX-HF"
      },
      "source": [
        "## 정확성 테스트\n",
        "###1\n",
        "- 테스트 1 〉\t통과 (0.02ms, 28MB)\n",
        "- 테스트 2 〉\t통과 (0.02ms, 27.5MB)\n",
        "- 테스트 3 〉\t통과 (0.02ms, 27.8MB)\n",
        "- 테스트 4 〉\t통과 (0.02ms, 27.8MB)\n",
        "- 테스트 5 〉\t통과 (0.02ms, 27.7MB)\n",
        "- 테스트 6 〉\t통과 (0.02ms, 27.7MB)\n",
        "- 테스트 7 〉\t통과 (0.02ms, 27.6MB)\n",
        "- 테스트 8 〉\t통과 (0.02ms, 27.5MB)\n",
        "- 테스트 9 〉\t통과 (0.02ms, 27.8MB)\n",
        "- 테스트 10 〉\t통과 (0.03ms, 27.8MB)\n",
        "\n",
        "###2\n",
        "- 테스트 1 〉\t통과 (0.02ms, 27.7MB)\n",
        "- 테스트 2 〉\t통과 (0.02ms, 27.8MB)\n",
        "- 테스트 3 〉\t통과 (0.02ms, 27.8MB)\n",
        "- 테스트 4 〉\t통과 (0.02ms, 27.7MB)\n",
        "- 테스트 5 〉\t통과 (0.02ms, 27.7MB)\n",
        "- 테스트 6 〉\t통과 (0.02ms, 27.6MB)\n",
        "- 테스트 7 〉\t통과 (0.02ms, 27.8MB)\n",
        "- 테스트 8 〉\t통과 (0.02ms, 27.4MB)\n",
        "- 테스트 9 〉\t통과 (0.02ms, 27.9MB)\n",
        "- 테스트 10 〉\t통과 (0.02ms, 27.4MB)  \n",
        "\n",
        "-> 거의 비슷하다.\n"
      ]
    },
    {
      "cell_type": "markdown",
      "metadata": {
        "id": "Z8u2DJeLYFPz"
      },
      "source": [
        "## 다른 사람의 풀이\n",
        "\n",
        "\n",
        "```\n",
        "from fractions import gcd\n",
        "\n",
        "\n",
        "def nlcm(num):      \n",
        "    answer = num[0]\n",
        "    for n in num:\n",
        "        answer = n * answer / gcd(n, answer)\n",
        "\n",
        "    return answer\n",
        "```\n",
        "\n",
        "\n"
      ]
    },
    {
      "cell_type": "code",
      "metadata": {
        "id": "YqKOr2kSYEGY"
      },
      "source": [
        "from math import gcd\n",
        " \n",
        " \n",
        "def nlcm(num):      \n",
        "    answer = num[0]\n",
        "    for n in num:\n",
        "        answer = n * answer / gcd(n, answer)\n",
        " \n",
        "    return answer"
      ],
      "execution_count": 16,
      "outputs": []
    }
  ]
}