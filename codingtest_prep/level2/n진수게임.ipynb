{
  "nbformat": 4,
  "nbformat_minor": 0,
  "metadata": {
    "colab": {
      "name": "n진수게임.ipynb",
      "provenance": [],
      "authorship_tag": "ABX9TyNPce3BemURGKDMQYQK/rci",
      "include_colab_link": true
    },
    "kernelspec": {
      "name": "python3",
      "display_name": "Python 3"
    },
    "language_info": {
      "name": "python"
    }
  },
  "cells": [
    {
      "cell_type": "markdown",
      "metadata": {
        "id": "view-in-github",
        "colab_type": "text"
      },
      "source": [
        "<a href=\"https://colab.research.google.com/github/ckim415/Yeonny/blob/master/codingtest_prep/level2/n%EC%A7%84%EC%88%98%EA%B2%8C%EC%9E%84.ipynb\" target=\"_parent\"><img src=\"https://colab.research.google.com/assets/colab-badge.svg\" alt=\"Open In Colab\"/></a>"
      ]
    },
    {
      "cell_type": "code",
      "metadata": {
        "colab": {
          "base_uri": "https://localhost:8080/"
        },
        "id": "_kVufH8ZeKW-",
        "outputId": "812b84dc-35a8-4c86-a877-2b5fa8b6aa27"
      },
      "source": [
        "for i in range(0, 10):\n",
        "  print(bin(i)[2:], end =' ')"
      ],
      "execution_count": null,
      "outputs": [
        {
          "output_type": "stream",
          "name": "stdout",
          "text": [
            "0 1 10 11 100 101 110 111 1000 1001 "
          ]
        }
      ]
    },
    {
      "cell_type": "markdown",
      "metadata": {
        "id": "xK_Xgst_E0Xh"
      },
      "source": [
        "# 내풀이"
      ]
    },
    {
      "cell_type": "code",
      "metadata": {
        "colab": {
          "base_uri": "https://localhost:8080/"
        },
        "id": "dsHcAHl4fewX",
        "outputId": "164844c1-246d-4a5d-ff40-c170430fd1d2"
      },
      "source": [
        "#n진수 return\n",
        "def n_dinary(num, n):\n",
        "  arr = '0123456789ABCDEF'\n",
        "  if num == 0 or num < n:\n",
        "    return arr[num]\n",
        "\n",
        "  answer = ''\n",
        "  while num > 0:\n",
        "    answer += arr[num%n]\n",
        "    num //= n\n",
        "\n",
        "  return answer[::-1]\n",
        "\n",
        "for i in range(0,20):\n",
        "  print(n_dinary(i, 16))"
      ],
      "execution_count": 5,
      "outputs": [
        {
          "output_type": "stream",
          "name": "stdout",
          "text": [
            "0\n",
            "1\n",
            "2\n",
            "3\n",
            "4\n",
            "5\n",
            "6\n",
            "7\n",
            "8\n",
            "9\n",
            "A\n",
            "B\n",
            "C\n",
            "D\n",
            "E\n",
            "F\n",
            "10\n",
            "11\n",
            "12\n",
            "13\n"
          ]
        }
      ]
    },
    {
      "cell_type": "code",
      "metadata": {
        "colab": {
          "base_uri": "https://localhost:8080/"
        },
        "id": "L3JjKytCmXrk",
        "outputId": "83df90d4-7cb3-404d-fa58-04810b9d8e9a"
      },
      "source": [
        "answer = [s[i] for i,x in enumerate(s) if i % m == p-1][:t]\n",
        "answer"
      ],
      "execution_count": null,
      "outputs": [
        {
          "output_type": "execute_result",
          "data": {
            "text/plain": [
              "['0', '1', '1', '1']"
            ]
          },
          "metadata": {},
          "execution_count": 79
        }
      ]
    },
    {
      "cell_type": "code",
      "metadata": {
        "id": "VxIfuyHKndEn"
      },
      "source": [
        "def n_dinary(num, n):\n",
        "  arr = '0123456789ABCDEF'\n",
        "  if num == 0 or num < n:\n",
        "    return arr[num]\n",
        "\n",
        "  answer = ''\n",
        "  while num > 0:\n",
        "    answer += arr[num%n]\n",
        "    num //= n\n",
        "\n",
        "  return answer[::-1]\n",
        "\n",
        "def solution(n,t,m,p):\n",
        "  answer = ''\n",
        "  candidate = []\n",
        "  for i in range(t*m):\n",
        "    convert = n_dinary(i, n)\n",
        "    for c in convert:\n",
        "      candidate.append(c)\n",
        "\n",
        "  for i in range(p-1, t*m, m):\n",
        "    answer += candidate[i]\n",
        "\n",
        "  return answer\n",
        "\n",
        "  \n",
        "\n",
        "  "
      ],
      "execution_count": 11,
      "outputs": []
    },
    {
      "cell_type": "code",
      "metadata": {
        "colab": {
          "base_uri": "https://localhost:8080/",
          "height": 72
        },
        "id": "5wMMpLx-oG3_",
        "outputId": "496e3d07-ead6-425b-8dbd-0343a357df3b"
      },
      "source": [
        "%time\n",
        "solution(16,\t16,\t2,\t1) #\"02468ACE11111111\""
      ],
      "execution_count": 12,
      "outputs": [
        {
          "output_type": "stream",
          "name": "stdout",
          "text": [
            "CPU times: user 2 µs, sys: 0 ns, total: 2 µs\n",
            "Wall time: 4.77 µs\n"
          ]
        },
        {
          "output_type": "execute_result",
          "data": {
            "application/vnd.google.colaboratory.intrinsic+json": {
              "type": "string"
            },
            "text/plain": [
              "'02468ACE11111111'"
            ]
          },
          "metadata": {},
          "execution_count": 12
        }
      ]
    },
    {
      "cell_type": "markdown",
      "metadata": {
        "id": "OhyrqiF-EvwE"
      },
      "source": [
        "## 시간\n",
        "테스트 1 〉\t통과 (0.01ms, 10.2MB)\n",
        "\n",
        "테스트 2 〉\t통과 (0.02ms, 10.3MB)\n",
        "\n",
        "테스트 3 〉\t통과 (0.02ms, 10.2MB)\n",
        "\n",
        "테스트 4 〉\t통과 (0.03ms, 10.3MB)\n",
        "\n",
        "테스트 5 〉\t통과 (0.59ms, 10.2MB)\n",
        "\n",
        "테스트 6 〉\t통과 (0.67ms, 10.3MB)\n",
        "\n",
        "테스트 7 〉\t통과 (0.59ms, 10.3MB)\n",
        "\n",
        "테스트 8 〉\t통과 (0.27ms, 10.3MB)\n",
        "\n",
        "테스트 9 〉\t통과 (0.27ms, 10.3MB)\n",
        "\n",
        "테스트 10 〉\t통과 (0.51ms, 10.4MB)\n",
        "\n",
        "테스트 11 〉\t통과 (0.23ms, 10.3MB)\n",
        "\n",
        "테스트 12 〉\t통과 (0.23ms, 10.3MB)\n",
        "\n",
        "테스트 13 〉\t통과 (0.24ms, 10.3MB)\n",
        "\n",
        "테스트 14 〉\t통과 (90.40ms, 13.2MB)\n",
        "\n",
        "테스트 15 〉\t통과 (85.41ms, 13.4MB)\n",
        "\n",
        "테스트 16 〉\t통과 (86.34ms, 13.3MB)\n",
        "\n",
        "테스트 17 〉\t통과 (5.46ms, 10.4MB)\n",
        "\n",
        "테스트 18 〉\t통과 (3.27ms, 10.4MB)\n",
        "\n",
        "테스트 19 〉\t통과 (0.97ms, 10.3MB)\n",
        "\n",
        "테스트 20 〉\t통과 (2.52ms, 10.3MB)\n",
        "\n",
        "테스트 21 〉\t통과 (19.34ms, 10.8MB)\n",
        "\n",
        "테스트 22 〉\t통과 (12.69ms, 10.5MB)\n",
        "\n",
        "테스트 23 〉\t통과 (27.13ms, 11.1MB)\n",
        "\n",
        "테스트 24 〉\t통과 (89.62ms, 14.1MB)\n",
        "\n",
        "테스트 25 〉\t통과 (119.75ms, 15.3MB)\n",
        "\n",
        "테스트 26 〉\t통과 (11.27ms, 10.6MB)\n"
      ]
    },
    {
      "cell_type": "markdown",
      "metadata": {
        "id": "wg5sj4_uE4XY"
      },
      "source": [
        "# 다른 풀이"
      ]
    },
    {
      "cell_type": "code",
      "metadata": {
        "id": "RZrNkoYEzzu_"
      },
      "source": [
        "def solution(n, t, m, p):\n",
        "\n",
        "    def convert(n, base):\n",
        "        arr = \"0123456789ABCDEF\"\n",
        "        q, r = divmod(n, base)\n",
        "        if q == 0:\n",
        "            return arr[r]\n",
        "        else:\n",
        "            return convert(q, base) + arr[r]\n",
        "\n",
        "    answer = ''\n",
        "    candidate = []\n",
        "\n",
        "    for i in range(t*m):\n",
        "        conv = convert(i, n)\n",
        "        for c in conv:\n",
        "            candidate.append(c)\n",
        "\n",
        "    # 튜브의 답만 추출\n",
        "    for i in range(p-1, t*m, m):\n",
        "        answer += candidate[i]\n",
        "\n",
        "    return answer"
      ],
      "execution_count": 13,
      "outputs": []
    },
    {
      "cell_type": "code",
      "metadata": {
        "colab": {
          "base_uri": "https://localhost:8080/",
          "height": 72
        },
        "id": "nzH8hQQt0W8J",
        "outputId": "8ffb9862-4e0d-4c5c-b1ca-ad1ba701594d"
      },
      "source": [
        "%time\n",
        "solution(16,\t16,\t2,\t2)"
      ],
      "execution_count": 14,
      "outputs": [
        {
          "output_type": "stream",
          "name": "stdout",
          "text": [
            "CPU times: user 4 µs, sys: 0 ns, total: 4 µs\n",
            "Wall time: 9.06 µs\n"
          ]
        },
        {
          "output_type": "execute_result",
          "data": {
            "application/vnd.google.colaboratory.intrinsic+json": {
              "type": "string"
            },
            "text/plain": [
              "'13579BDF01234567'"
            ]
          },
          "metadata": {},
          "execution_count": 14
        }
      ]
    }
  ]
}