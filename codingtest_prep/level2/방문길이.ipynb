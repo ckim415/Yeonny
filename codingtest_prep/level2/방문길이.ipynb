{
  "nbformat": 4,
  "nbformat_minor": 0,
  "metadata": {
    "colab": {
      "name": "방문길이.ipynb",
      "provenance": [],
      "authorship_tag": "ABX9TyPlfL91UeiooR8cKlkUD9jh",
      "include_colab_link": true
    },
    "kernelspec": {
      "name": "python3",
      "display_name": "Python 3"
    },
    "language_info": {
      "name": "python"
    }
  },
  "cells": [
    {
      "cell_type": "markdown",
      "metadata": {
        "id": "view-in-github",
        "colab_type": "text"
      },
      "source": [
        "<a href=\"https://colab.research.google.com/github/ckim415/Yeonny/blob/master/codingtest_prep/level2/%EB%B0%A9%EB%AC%B8%EA%B8%B8%EC%9D%B4.ipynb\" target=\"_parent\"><img src=\"https://colab.research.google.com/assets/colab-badge.svg\" alt=\"Open In Colab\"/></a>"
      ]
    },
    {
      "cell_type": "markdown",
      "metadata": {
        "id": "vHifHps_d0lD"
      },
      "source": [
        "# 내풀이\n",
        " - 일관성x\n",
        " "
      ]
    },
    {
      "cell_type": "code",
      "metadata": {
        "id": "d6ZdQkDdlX8G"
      },
      "source": [
        "dirs = \"ULURRDLLU\""
      ],
      "execution_count": 20,
      "outputs": []
    },
    {
      "cell_type": "code",
      "metadata": {
        "colab": {
          "base_uri": "https://localhost:8080/"
        },
        "id": "PTuF1Eoel4RX",
        "outputId": "2ffbf4a2-6bde-46f2-a50d-263605cdbdd0"
      },
      "source": [
        "# dir_limit = {'U_D':0,\n",
        "#              'L_R':0}\n",
        "\n",
        "point_x, point_y = 0,0\n",
        "points = [(0,0)]\n",
        "dist = 0\n",
        "for s in dirs:\n",
        "  prev_x, prev_y = point_x, point_y\n",
        "  if prev_x == -5 and s == 'L':\n",
        "    continue\n",
        "  if prev_x == 5 and s == 'R':\n",
        "    continue\n",
        "  if prev_y == -5 and s == 'D':\n",
        "    continue\n",
        "  if prev_y == 5 and s == 'U':\n",
        "    continue\n",
        "\n",
        "  if s == 'U':\n",
        "    point_y += 1\n",
        "  if s == 'R':\n",
        "    point_x += 1\n",
        "  if s == 'L':\n",
        "    point_x -= 1\n",
        "  if s=='D':\n",
        "    point_y -= 1\n",
        "  if (prev_x, prev_y) in points and (point_x,point_y) in points:\n",
        "    continue\n",
        "  else:\n",
        "    dist += 1\n",
        "    points.append((point_x, point_y)) \n",
        "\n",
        "dist, points"
      ],
      "execution_count": 21,
      "outputs": [
        {
          "output_type": "execute_result",
          "data": {
            "text/plain": [
              "(6, [(0, 0), (0, 1), (-1, 1), (-1, 2), (0, 2), (1, 2), (1, 1)])"
            ]
          },
          "metadata": {},
          "execution_count": 21
        }
      ]
    },
    {
      "cell_type": "markdown",
      "metadata": {
        "id": "pn7GSx7_O1eQ"
      },
      "source": [
        "# 다른 풀이\n",
        " - x,y 가 -5 또는 5사이에 있으면, \n",
        " - (현재 -> 다음) , ( 다음 -> 현재)를 set에 저장하여 마지막에 len(set) // 2 를 return"
      ]
    },
    {
      "cell_type": "code",
      "metadata": {
        "colab": {
          "base_uri": "https://localhost:8080/"
        },
        "id": "aPv8wBySdhzl",
        "outputId": "d96836c4-6289-43be-86ec-58885968250f"
      },
      "source": [
        "def solution(dirs):\n",
        "    move = {'U':(0,1),\n",
        "           'D':(0,-1),\n",
        "           'L':(-1,0),\n",
        "           'R':(1,0)}\n",
        "    visited = set()\n",
        "    x,y = (0,0)\n",
        "    \n",
        "    for m in dirs:\n",
        "        next_x, next_y = x+move[m][0], y+move[m][1]\n",
        "        if -5 <= next_x <= 5 and -5 <= next_y <= 5:\n",
        "            visited.add((x,y, next_x, next_y))\n",
        "            visited.add((next_x, next_y, x, y))\n",
        "            x,y = next_x, next_y\n",
        "            \n",
        "    return len(visited) // 2\n",
        "\n",
        "solution(dirs)"
      ],
      "execution_count": 23,
      "outputs": [
        {
          "output_type": "execute_result",
          "data": {
            "text/plain": [
              "7"
            ]
          },
          "metadata": {},
          "execution_count": 23
        }
      ]
    }
  ]
}