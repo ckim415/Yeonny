{
  "nbformat": 4,
  "nbformat_minor": 0,
  "metadata": {
    "colab": {
      "name": "영어끝말잇기.ipynb",
      "provenance": [],
      "toc_visible": true,
      "authorship_tag": "ABX9TyNzOpn7+SVPkEkkfMb3QbG9",
      "include_colab_link": true
    },
    "kernelspec": {
      "name": "python3",
      "display_name": "Python 3"
    },
    "language_info": {
      "name": "python"
    }
  },
  "cells": [
    {
      "cell_type": "markdown",
      "metadata": {
        "id": "view-in-github",
        "colab_type": "text"
      },
      "source": [
        "<a href=\"https://colab.research.google.com/github/ckim415/Yeonny/blob/master/codingtest_prep/level2/%EC%98%81%EC%96%B4%EB%81%9D%EB%A7%90%EC%9E%87%EA%B8%B0.ipynb\" target=\"_parent\"><img src=\"https://colab.research.google.com/assets/colab-badge.svg\" alt=\"Open In Colab\"/></a>"
      ]
    },
    {
      "cell_type": "markdown",
      "metadata": {
        "id": "i6lAh5LnfmRH"
      },
      "source": [
        "# 영어 끝말잇기"
      ]
    },
    {
      "cell_type": "markdown",
      "metadata": {
        "id": "u8ADVPWTfRWv"
      },
      "source": [
        "## 문제 설명\n",
        "1부터 n까지 번호가 붙어있는 n명의 사람이 영어 끝말잇기를 하고 있습니다. 영어 끝말잇기는 다음과 같은 규칙으로 진행됩니다.\n",
        "\n",
        "- 1번부터 번호 순서대로 한 사람씩 차례대로 단어를 말합니다.\n",
        "- 마지막 사람이 단어를 말한 다음에는 다시 1번부터 시작합니다.\n",
        "- 앞사람이 말한 단어의 마지막 문자로 시작하는 단어를 말해야 합니다.\n",
        "- 이전에 등장했던 단어는 사용할 수 없습니다.\n",
        "- 한 글자인 단어는 인정되지 않습니다.\n",
        "\n",
        "다음은 3명이 끝말잇기를 하는 상황을 나타냅니다.\n",
        "\n",
        "tank → kick → know → wheel → land → dream → mother → robot → tank\n",
        "\n",
        "위 끝말잇기는 다음과 같이 진행됩니다.\n",
        "\n",
        "1번 사람이 자신의 첫 번째 차례에 tank를 말합니다.\n",
        "\n",
        "2번 사람이 자신의 첫 번째 차례에 kick을 말합니다.\n",
        "\n",
        "3번 사람이 자신의 첫 번째 차례에 know를 말합니다.\n",
        "\n",
        "1번 사람이 자신의 두 번째 차례에 wheel을 말합니다.\n",
        "\n",
        "(계속 진행)\n",
        "\n",
        "끝말잇기를 계속 진행해 나가다 보면, 3번 사람이 자신의 세 번째 차례에 말한 tank 라는 단어는 이전에 등장했던 단어이므로 탈락하게 됩니다.\n",
        "\n",
        "사람의 수 n과 사람들이 순서대로 말한 단어 words 가 매개변수로 주어질 때, 가장 먼저 탈락하는 사람의 번호와 그 사람이 자신의 몇 번째 차례에 탈락하는지를 구해서 return 하도록 solution 함수를 완성해주세요.\n",
        "\n",
        "## 제한 사항\n",
        "- 끝말잇기에 참여하는 사람의 수 n은 2 이상 10 이하의 자연수입니다.\n",
        "- words는 끝말잇기에 사용한 단어들이 순서대로 들어있는 배열이며, 길이는 n 이상 100 이하입니다.\n",
        "- 단어의 길이는 2 이상 50 이하입니다.\n",
        "- 모든 단어는 알파벳 소문자로만 이루어져 있습니다.\n",
        "- 끝말잇기에 사용되는 단어의 뜻(의미)은 신경 쓰지 않으셔도 됩니다.\n",
        "- 정답은 [ 번호, 차례 ] 형태로 return 해주세요.\n",
        "- 만약 주어진 단어들로 탈락자가 생기지 않는다면, [0, 0]을 return 해주세요."
      ]
    },
    {
      "cell_type": "markdown",
      "metadata": {
        "id": "G-nujDKRfpv0"
      },
      "source": [
        "## 입출력 예\n",
        "n\t/ words\t/ result\n",
        "\n",
        "3\t[\"tank\", \"kick\", \"know\", \"wheel\", \"land\", \"dream\", \"mother\", \"robot\", \"tank\"]\t[3,3]\n",
        "\n",
        "5\t[\"hello\", \"observe\", \"effect\", \"take\", \"either\", \"recognize\", \"encourage\", \"ensure\", \"establish\", \"hang\", \"gather\", \"refer\", \"reference\", \"estimate\", \"executive\"]\t[0,0]\n",
        "\n",
        "2\t[\"hello\", \"one\", \"even\", \"never\", \"now\", \"world\", \"draw\"]\t[1,3]"
      ]
    },
    {
      "cell_type": "markdown",
      "metadata": {
        "id": "68Jnz1VQgKVY"
      },
      "source": [
        "# 내가 생각한 로직\n",
        "- 순서 : i % n +1\n",
        "- 몇 번째 턴인지 : i // n \n",
        "- for loop enumerate(단어 리스트):\n",
        "  - 앞글자의 맨 끝자와 다음 글자의 맨 앞자가 같은지 비교 word[-1] ?= word[0]\n",
        "  - 이미 나온 글자인지 비교? in list?"
      ]
    },
    {
      "cell_type": "code",
      "metadata": {
        "id": "bq9taz0lgHeR"
      },
      "source": [
        "n = 3\n",
        "words = [\"tank\", \"kick\", \"know\", \"wheel\", \"land\", \"dream\", \"mother\", \"robot\", \"tank\"]"
      ],
      "execution_count": 24,
      "outputs": []
    },
    {
      "cell_type": "code",
      "metadata": {
        "colab": {
          "base_uri": "https://localhost:8080/"
        },
        "id": "mpziEzdJhP_O",
        "outputId": "ef83c301-621d-45f0-ac17-48467b04bfc8"
      },
      "source": [
        "corpus = [words[0]]\n",
        "for i,word in enumerate(words[1:], start=2):\n",
        "  print(i)\n",
        "  if word[0] == corpus[-1][-1] and word not in corpus:\n",
        "    corpus.append(word)\n",
        "    print(corpus, word)\n",
        "  else:\n",
        "    print(word,i)\n",
        "    turn = i//n\n",
        "    order = i%n\n",
        "    if order == 0:\n",
        "      order = n\n",
        "    print([turn, order])\n",
        "\n",
        "if len(words) == len(corpus):\n",
        "  print([0,0])"
      ],
      "execution_count": 25,
      "outputs": [
        {
          "output_type": "stream",
          "text": [
            "2\n",
            "['tank', 'kick'] kick\n",
            "3\n",
            "['tank', 'kick', 'know'] know\n",
            "4\n",
            "['tank', 'kick', 'know', 'wheel'] wheel\n",
            "5\n",
            "['tank', 'kick', 'know', 'wheel', 'land'] land\n",
            "6\n",
            "['tank', 'kick', 'know', 'wheel', 'land', 'dream'] dream\n",
            "7\n",
            "['tank', 'kick', 'know', 'wheel', 'land', 'dream', 'mother'] mother\n",
            "8\n",
            "['tank', 'kick', 'know', 'wheel', 'land', 'dream', 'mother', 'robot'] robot\n",
            "9\n",
            "tank 9\n",
            "[3, 3]\n"
          ],
          "name": "stdout"
        }
      ]
    },
    {
      "cell_type": "code",
      "metadata": {
        "id": "kmnm5PDX5Ifb"
      },
      "source": [
        "def solution(n, words):\n",
        "  corpus = [words[0]]\n",
        "  for i,word in enumerate(words[1:], start=2):\n",
        "    if word[0] == corpus[-1][-1] and word not in corpus:\n",
        "      corpus.append(word)\n",
        "      \n",
        "      \n",
        "    else:\n",
        "      turn = (i+(n-1)) //n\n",
        "      number = i%n\n",
        "      if number == 0:\n",
        "        number = n\n",
        "\n",
        "      break\n",
        "\n",
        "\n",
        "      \n",
        "  if len(words) == len(corpus):\n",
        "    return [0,0]\n",
        "  \n",
        "  return [number,turn]\n"
      ],
      "execution_count": 34,
      "outputs": []
    },
    {
      "cell_type": "code",
      "metadata": {
        "colab": {
          "base_uri": "https://localhost:8080/"
        },
        "id": "DemNLWpq6Zqb",
        "outputId": "0dd07e07-1491-4597-8648-92415e4b264d"
      },
      "source": [
        "solution(3,[\"tank\", \"kick\", \"know\", \"wheel\", \"land\", \"dream\", \"mother\", \"robot\", \"tank\"])"
      ],
      "execution_count": 35,
      "outputs": [
        {
          "output_type": "stream",
          "text": [
            "9\n"
          ],
          "name": "stdout"
        },
        {
          "output_type": "execute_result",
          "data": {
            "text/plain": [
              "[3, 3]"
            ]
          },
          "metadata": {
            "tags": []
          },
          "execution_count": 35
        }
      ]
    },
    {
      "cell_type": "markdown",
      "metadata": {
        "id": "De5e8ADGgZMg"
      },
      "source": [
        "## 시도1\n",
        "- 3문제 맞고 다 틀렷다\n",
        "- 몇번째 턴인지가 틀렸다.\n"
      ]
    },
    {
      "cell_type": "code",
      "metadata": {
        "colab": {
          "base_uri": "https://localhost:8080/"
        },
        "id": "znn__W_gk2Sr",
        "outputId": "bf2c4d28-9f8c-4f43-abbb-74b3ad729e8b"
      },
      "source": [
        "n=3\n",
        "a=[1,2,3,4,5,6]\n",
        "for i in a:\n",
        "  print(i,(i+(n-1))//3, i%3)"
      ],
      "execution_count": 29,
      "outputs": [
        {
          "output_type": "stream",
          "text": [
            "1 1 1\n",
            "2 1 2\n",
            "3 1 0\n",
            "4 2 1\n",
            "5 2 2\n",
            "6 2 0\n"
          ],
          "name": "stdout"
        }
      ]
    },
    {
      "cell_type": "code",
      "metadata": {
        "colab": {
          "base_uri": "https://localhost:8080/"
        },
        "id": "Vs6cRYDyqnsi",
        "outputId": "e46e4f82-8d73-4a2b-b957-2d11fe4163ce"
      },
      "source": [
        " solution(2,[\"hello\", \"one\", \"even\", \"never\", \"now\", \"world\", \"draw\"] )"
      ],
      "execution_count": 36,
      "outputs": [
        {
          "output_type": "stream",
          "text": [
            "5\n"
          ],
          "name": "stdout"
        },
        {
          "output_type": "execute_result",
          "data": {
            "text/plain": [
              "[1, 3]"
            ]
          },
          "metadata": {
            "tags": []
          },
          "execution_count": 36
        }
      ]
    },
    {
      "cell_type": "markdown",
      "metadata": {
        "id": "qYtnqw35tDdY"
      },
      "source": [
        "# 정답\n",
        "- 테스트 1 〉\t통과 (0.01ms, 10.2MB)\n",
        "- 테스트 2 〉\t통과 (0.02ms, 10.2MB)\n",
        "- 테스트 3 〉\t통과 (0.01ms, 10.3MB)\n",
        "- 테스트 4 〉\t통과 (0.02ms, 10.3MB)\n",
        "- 테스트 5 〉\t통과 (0.04ms, 10.2MB)\n",
        "- 테스트 6 〉\t통과 (0.01ms, 10.2MB)\n",
        "- 테스트 7 〉\t통과 (0.01ms, 10.2MB)\n",
        "- 테스트 8 〉\t통과 (0.01ms, 10.1MB)\n",
        "- 테스트 9 〉\t통과 (0.01ms, 10.2MB)\n",
        "- 테스트 10 〉\t통과 (0.04ms, 10.2MB)\n",
        "- 테스트 11 〉\t통과 (0.03ms, 10.3MB)\n",
        "- 테스트 12 〉\t통과 (0.02ms, 10.2MB)\n",
        "- 테스트 13 〉\t통과 (0.01ms, 10.4MB)\n",
        "- 테스트 14 〉\t통과 (0.01ms, 10.1MB)\n",
        "- 테스트 15 〉\t통과 (0.01ms, 10.2MB)\n",
        "- 테스트 16 〉\t통과 (0.01ms, 10.2MB)\n",
        "- 테스트 17 〉\t통과 (0.01ms, 10.2MB)\n",
        "- 테스트 18 〉\t통과 (0.01ms, 10.3MB)\n",
        "- 테스트 19 〉\t통과 (0.01ms, 10.2MB)\n",
        "- 테스트 20 〉\t통과 (0.12ms, 10.2MB)"
      ]
    },
    {
      "cell_type": "markdown",
      "metadata": {
        "id": "-Cfh8xKDtR8r"
      },
      "source": [
        "# 다른사람의 풀이\n",
        "\n",
        "내 코드가 조금 빠르다\n",
        "```\n",
        "def solution(n, words):\n",
        "    for p in range(1, len(words)):\n",
        "        if words[p][0] != words[p-1][-1] or words[p] in words[:p]: return [(p%n)+1, (p//n)+1]\n",
        "    else:\n",
        "        return [0,0]\n",
        "```\n",
        "\n"
      ]
    }
  ]
}