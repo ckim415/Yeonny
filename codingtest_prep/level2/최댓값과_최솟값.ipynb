{
  "nbformat": 4,
  "nbformat_minor": 0,
  "metadata": {
    "colab": {
      "name": "최댓값과 최솟값.ipynb",
      "provenance": [],
      "authorship_tag": "ABX9TyO0tXSqMoJZqU8QxoEPLn+5",
      "include_colab_link": true
    },
    "kernelspec": {
      "name": "python3",
      "display_name": "Python 3"
    },
    "language_info": {
      "name": "python"
    }
  },
  "cells": [
    {
      "cell_type": "markdown",
      "metadata": {
        "id": "view-in-github",
        "colab_type": "text"
      },
      "source": [
        "<a href=\"https://colab.research.google.com/github/ckim415/Yeonny/blob/master/codingtest_prep/level2/%EC%B5%9C%EB%8C%93%EA%B0%92%EA%B3%BC_%EC%B5%9C%EC%86%9F%EA%B0%92.ipynb\" target=\"_parent\"><img src=\"https://colab.research.google.com/assets/colab-badge.svg\" alt=\"Open In Colab\"/></a>"
      ]
    },
    {
      "cell_type": "markdown",
      "metadata": {
        "id": "jUTStq6c3ad-"
      },
      "source": [
        "# 최댓값과 최솟값\n"
      ]
    },
    {
      "cell_type": "markdown",
      "metadata": {
        "id": "EjcY1zLv3bgv"
      },
      "source": [
        "##문제 설명\n",
        "문자열 s에는 공백으로 구분된 숫자들이 저장되어 있습니다. str에 나타나는 숫자 중 최소값과 최대값을 찾아 이를 \"(최소값) (최대값)\"형태의 문자열을 반환하는 함수, solution을 완성하세요.\n",
        "예를들어 s가 \"1 2 3 4\"라면 \"1 4\"를 리턴하고, \"-1 -2 -3 -4\"라면 \"-4 -1\"을 리턴하면 됩니다.\n",
        "\n",
        "##제한 조건\n",
        "s에는 둘 이상의 정수가 공백으로 구분되어 있습니다."
      ]
    },
    {
      "cell_type": "code",
      "metadata": {
        "id": "bdXTL2Na3ZhN"
      },
      "source": [
        "s = \"-1 -1\"\n",
        "alist = [int(i)for i in s.split(' ')]"
      ],
      "execution_count": 8,
      "outputs": []
    },
    {
      "cell_type": "code",
      "metadata": {
        "colab": {
          "base_uri": "https://localhost:8080/"
        },
        "id": "pMUlrETT3rdW",
        "outputId": "56e0397e-8a4e-47b1-ed0b-cae798486a85"
      },
      "source": [
        "max(alist), min(alist)"
      ],
      "execution_count": 9,
      "outputs": [
        {
          "output_type": "execute_result",
          "data": {
            "text/plain": [
              "(-1, -1)"
            ]
          },
          "metadata": {
            "tags": []
          },
          "execution_count": 9
        }
      ]
    },
    {
      "cell_type": "code",
      "metadata": {
        "colab": {
          "base_uri": "https://localhost:8080/",
          "height": 35
        },
        "id": "GvyLDmQY37TH",
        "outputId": "3e5b22f7-ef20-4fa8-d577-cd50499d22dd"
      },
      "source": [
        "str(max(alist))+ ' ' +str(min(alist))"
      ],
      "execution_count": 12,
      "outputs": [
        {
          "output_type": "execute_result",
          "data": {
            "application/vnd.google.colaboratory.intrinsic+json": {
              "type": "string"
            },
            "text/plain": [
              "'-1 -1'"
            ]
          },
          "metadata": {
            "tags": []
          },
          "execution_count": 12
        }
      ]
    },
    {
      "cell_type": "markdown",
      "metadata": {
        "id": "xRDe85-f4fAY"
      },
      "source": [
        "## 효율성\n",
        "- 테스트 1 〉\t통과 (0.04ms, 10.4MB)\n",
        "- 테스트 2 〉\t통과 (0.05ms, 10.4MB)\n",
        "- 테스트 3 〉\t통과 (0.03ms, 10.4MB)\n",
        "- 테스트 4 〉\t통과 (0.04ms, 10.2MB)\n",
        "- 테스트 5 〉\t통과 (0.05ms, 10.3MB)\n",
        "- 테스트 6 〉\t통과 (0.04ms, 10.3MB)\n",
        "- 테스트 7 〉\t통과 (0.03ms, 10.4MB)\n",
        "- 테스트 8 〉\t통과 (0.03ms, 10.3MB)\n",
        "- 테스트 9 〉\t통과 (0.03ms, 10.3MB)\n",
        "- 테스트 10 〉\t통과 (0.05ms, 10.3MB)\n",
        "- 테스트 11 〉\t통과 (0.03ms, 10.3MB)\n",
        "- 테스트 12 〉\t통과 (0.05ms, 10.4MB)"
      ]
    }
  ]
}