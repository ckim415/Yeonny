{
  "nbformat": 4,
  "nbformat_minor": 0,
  "metadata": {
    "colab": {
      "name": "카카오_방금그곡.ipynb",
      "provenance": [],
      "collapsed_sections": [],
      "toc_visible": true,
      "authorship_tag": "ABX9TyMPaHg0hUftlZK/8Kl+rxnR",
      "include_colab_link": true
    },
    "kernelspec": {
      "name": "python3",
      "display_name": "Python 3"
    },
    "language_info": {
      "name": "python"
    }
  },
  "cells": [
    {
      "cell_type": "markdown",
      "metadata": {
        "id": "view-in-github",
        "colab_type": "text"
      },
      "source": [
        "<a href=\"https://colab.research.google.com/github/ckim415/Yeonny/blob/master/codingtest_prep/level2/%EC%B9%B4%EC%B9%B4%EC%98%A4_%EB%B0%A9%EA%B8%88%EA%B7%B8%EA%B3%A1.ipynb\" target=\"_parent\"><img src=\"https://colab.research.google.com/assets/colab-badge.svg\" alt=\"Open In Colab\"/></a>"
      ]
    },
    {
      "cell_type": "markdown",
      "metadata": {
        "id": "Cb8Tcy26KVY0"
      },
      "source": [
        "## 문제 설명\n",
        "방금그곡\n",
        "라디오를 자주 듣는 네오는 라디오에서 방금 나왔던 음악이 무슨 음악인지 궁금해질 때가 많다. 그럴 때 네오는 다음 포털의 '방금그곡' 서비스를 이용하곤 한다. 방금그곡에서는 TV, 라디오 등에서 나온 음악에 관해 제목 등의 정보를 제공하는 서비스이다.\n",
        "\n",
        "네오는 자신이 기억한 멜로디를 가지고 방금그곡을 이용해 음악을 찾는다. 그런데 라디오 방송에서는 한 음악을 반복해서 재생할 때도 있어서 네오가 기억하고 있는 멜로디는 음악 끝부분과 처음 부분이 이어서 재생된 멜로디일 수도 있다. 반대로, 한 음악을 중간에 끊을 경우 원본 음악에는 네오가 기억한 멜로디가 들어있다 해도 그 곡이 네오가 들은 곡이 아닐 수도 있다. 그렇기 때문에 네오는 기억한 멜로디를 재생 시간과 제공된 악보를 직접 보면서 비교하려고 한다. 다음과 같은 가정을 할 때 네오가 찾으려는 음악의 제목을 구하여라.\n",
        "\n",
        "- 방금그곡 서비스에서는 음악 제목, 재생이 시작되고 끝난 시각, 악보를 제공한다.\n",
        "- 네오가 기억한 멜로디와 악보에 사용되는 음은 C, C#, D, D#, E, F, F#, G, G#, A, A#, B 12개이다.\n",
        "- 각 음은 1분에 1개씩 재생된다. 음악은 반드시 처음부터 재생되며 음악 길이보다 재생된 시간이 길 때는 음악이 끊김 없이 처음부터 반복해서 재생된다. 음악 길이보다 재생된 시간이 짧을 때는 처음부터 재생 시간만큼만 재생된다.\n",
        "- 음악이 00:00를 넘겨서까지 재생되는 일은 없다.\n",
        "- 조건이 일치하는 음악이 여러 개일 때에는 라디오에서 재생된 시간이 제일 긴 음악 제목을 반환한다. 재생된 시간도 같을 경우 먼저 입력된 음악 제목을 반환한다.\n",
        "- 조건이 일치하는 음악이 없을 때에는 “(None)”을 반환한다.\n",
        "\n",
        "##입력 형식\n",
        "입력으로 네오가 기억한 멜로디를 담은 문자열 m과 방송된 곡의 정보를 담고 있는 배열 musicinfos가 주어진다.\n",
        "\n",
        "- m은 음 1개 이상 1439개 이하로 구성되어 있다.\n",
        "- musicinfos는 100개 이하의 곡 정보를 담고 있는 배열로, 각각의 곡 정보는 음악이 - - - 시작한 시각, 끝난 시각, 음악 제목, 악보 정보가 ','로 구분된 문자열이다.\n",
        "- 음악의 시작 시각과 끝난 시각은 24시간 HH:MM 형식이다.\n",
        "- 음악 제목은 ',' 이외의 출력 가능한 문자로 표현된 길이 1 이상 64 이하의 문자열이다.\n",
        "- 악보 정보는 음 1개 이상 1439개 이하로 구성되어 있다.\n",
        "\n",
        "##출력 형식\n",
        "조건과 일치하는 음악 제목을 출력한다.\n",
        "\n",
        "입출력 예시"
      ]
    },
    {
      "cell_type": "code",
      "metadata": {
        "id": "XC45MHa2KU_-"
      },
      "source": [
        "m=\"ABCDEFG\"\n",
        "musicinfo = [\"12:00,12:14,HELLO,CDEFGAB\", \"13:00,13:05,WORLD,ABCDEF\"]"
      ],
      "execution_count": null,
      "outputs": []
    },
    {
      "cell_type": "markdown",
      "metadata": {
        "id": "vBDnAINeLgip"
      },
      "source": [
        "## 내가 생각한 로직\n",
        "- musicinfo를 쉼표로 분리\n",
        "- 시간 형변환\n",
        "  - 빼서 그 기간 동안 [-1]을 반복\n",
        "  - 길이를 비교해서 \n",
        "- m이 있는지 비교, 만약 잇다면 [2] return"
      ]
    },
    {
      "cell_type": "code",
      "metadata": {
        "id": "1SYdjTqOM6ez"
      },
      "source": [
        "from datetime import datetime\n",
        "from itertools import cycle"
      ],
      "execution_count": null,
      "outputs": []
    },
    {
      "cell_type": "markdown",
      "metadata": {
        "id": "669OsP_5eppS"
      },
      "source": [
        "### 시도1"
      ]
    },
    {
      "cell_type": "code",
      "metadata": {
        "id": "GcpL-qukL-j_"
      },
      "source": [
        "def solution(m, musicinfo):\n",
        "  answer = []\n",
        "  for music in musicinfo:\n",
        "    mu = music.split(',')\n",
        "    start = datetime.strptime(mu[0], '%H:%M' ).minute\n",
        "    end = datetime.strptime(mu[1], '%H:%M' ).minute\n",
        "    duration = end-start\n",
        "    \n",
        "    string = mu[3]*(duration // len(mu[3])) + mu[3][:duration %len(mu[3])]\n",
        "\n",
        "\n",
        "    if m in string:\n",
        "      answer.append([duration, mu[2]])\n",
        "\n",
        "  answer.sort(key = lambda x: x[0])\n",
        "  try:\n",
        "    return answer[0][1]\n",
        "\n",
        "  except:\n",
        "    return None\n",
        "\n",
        "    \n",
        "    \n"
      ],
      "execution_count": null,
      "outputs": []
    },
    {
      "cell_type": "code",
      "metadata": {
        "colab": {
          "base_uri": "https://localhost:8080/",
          "height": 35
        },
        "id": "ZGmjhjdmT3g4",
        "outputId": "3ac0672a-eb51-4190-b677-09a1bbdd2b55"
      },
      "source": [
        "solution(m, musicinfo)"
      ],
      "execution_count": null,
      "outputs": [
        {
          "output_type": "execute_result",
          "data": {
            "application/vnd.google.colaboratory.intrinsic+json": {
              "type": "string"
            },
            "text/plain": [
              "'HELLO'"
            ]
          },
          "metadata": {
            "tags": []
          },
          "execution_count": 12
        }
      ]
    },
    {
      "cell_type": "code",
      "metadata": {
        "id": "f8cWCZehXht6"
      },
      "source": [
        "def solution(m, musicinfo):\n",
        "\n",
        "  for music in musicinfo:\n",
        "    mu = music.split(',')\n",
        "    start = datetime.strptime(mu[0], '%H:%M' ).minute\n",
        "    end = datetime.strptime(mu[1], '%H:%M' ).minute\n",
        "    duration = end-start\n",
        "    \n",
        "    string = ''.join([s for s,i in  zip(cycle(mu[-1]),range(duration+1))])\n",
        "    if m in string:\n",
        "      return mu[2]\n",
        "    else:\n",
        "      return None"
      ],
      "execution_count": null,
      "outputs": []
    },
    {
      "cell_type": "code",
      "metadata": {
        "id": "ZD5vAzWeXsNe",
        "colab": {
          "base_uri": "https://localhost:8080/",
          "height": 35
        },
        "outputId": "453e31b5-c96f-4a13-bfe6-d932f82b7785"
      },
      "source": [
        "solution(m, musicinfo)"
      ],
      "execution_count": null,
      "outputs": [
        {
          "output_type": "execute_result",
          "data": {
            "application/vnd.google.colaboratory.intrinsic+json": {
              "type": "string"
            },
            "text/plain": [
              "'HELLO'"
            ]
          },
          "metadata": {
            "tags": []
          },
          "execution_count": 41
        }
      ]
    },
    {
      "cell_type": "markdown",
      "metadata": {
        "id": "YkocSxEmPBUk"
      },
      "source": [
        "#### 문제점\n",
        "- #이 들어간 음이 분리 될 수 있다.\n",
        "  - C#인데 C까지 반복되어 분리 되는 경우 -> 실패\n",
        "- 문자열을 #들어가지 않는 것과 들어간것 으로 분리\n"
      ]
    },
    {
      "cell_type": "code",
      "metadata": {
        "id": "EHszo32TPYhV",
        "colab": {
          "base_uri": "https://localhost:8080/"
        },
        "outputId": "ec8fae56-0e69-416a-e687-1e6e276f94c6"
      },
      "source": [
        "#텍스트 분리\n",
        "example = 'C#ABE#DA#'\n",
        "alist = []\n",
        "for w in example:\n",
        "  if w.isalpha():\n",
        "    alist.append(w)\n",
        "\n",
        "  else:\n",
        "    alist[-1] = alist[-1] + w\n",
        "\n",
        "alist\n",
        "\n"
      ],
      "execution_count": null,
      "outputs": [
        {
          "output_type": "execute_result",
          "data": {
            "text/plain": [
              "['C#', 'A', 'B', 'E#', 'D', 'A#']"
            ]
          },
          "metadata": {
            "tags": []
          },
          "execution_count": 4
        }
      ]
    },
    {
      "cell_type": "code",
      "metadata": {
        "colab": {
          "base_uri": "https://localhost:8080/",
          "height": 35
        },
        "id": "C2iQGCUCV3CB",
        "outputId": "a6d4cd01-ac08-4164-8a91-1eef723257df"
      },
      "source": [
        "''.join(alist[:2])"
      ],
      "execution_count": null,
      "outputs": [
        {
          "output_type": "execute_result",
          "data": {
            "application/vnd.google.colaboratory.intrinsic+json": {
              "type": "string"
            },
            "text/plain": [
              "'C#A'"
            ]
          },
          "metadata": {
            "tags": []
          },
          "execution_count": 6
        }
      ]
    },
    {
      "cell_type": "markdown",
      "metadata": {
        "id": "Mte_DriYeu6B"
      },
      "source": [
        "### 시도2"
      ]
    },
    {
      "cell_type": "code",
      "metadata": {
        "colab": {
          "base_uri": "https://localhost:8080/"
        },
        "id": "qTFhgSUxJ93u",
        "outputId": "7670dc06-def0-48a8-d651-600b7d09a8f2"
      },
      "source": [
        "m=\"ABCDEFG\"\n",
        "musicinfo = [\"12:00,12:14,HELLO,CDEFGAB\", \"13:00,13:05,WORLD,ABCDEF\"]\n",
        "answer = []\n",
        "for i,music in enumerate(musicinfo):\n",
        "  mu = music.split(',')\n",
        "  hour = int(mu[1].split(':')[0]) - int(mu[0].split(':')[0])\n",
        "  min = int(mu[1].split(':')[1]) - int(mu[0].split(':')[1])\n",
        "  \n",
        "  duration = hour*60 + min\n",
        "  print(hour, min, duration)\n",
        "\n",
        "  note_list = []\n",
        "  for w in mu[3]:\n",
        "    if w.isalpha():\n",
        "      note_list.append(w)\n",
        "\n",
        "    else:\n",
        "      note_list[-1] += w\n",
        "  \n",
        "\n",
        "  string = ''.join(note_list * (duration//len(note_list)) + note_list[:duration % len(note_list)])\n",
        "  print(string, len(string))\n",
        "\n",
        "  if m in string:\n",
        "    answer.append([i, duration, mu[2]])\n",
        "\n",
        "if len(answer) == 0:\n",
        "  print('None') \n",
        "\n",
        "\n",
        "answer= sorted(answer, key = lambda x : (x[0], -x[1]))\n",
        "print( answer[0][-1])\n"
      ],
      "execution_count": 4,
      "outputs": [
        {
          "output_type": "stream",
          "text": [
            "0 14 14\n",
            "CDEFGABCDEFGAB 14\n",
            "0 5 5\n",
            "ABCDE 5\n",
            "HELLO\n"
          ],
          "name": "stdout"
        }
      ]
    },
    {
      "cell_type": "markdown",
      "metadata": {
        "id": "DAsUEvKZTYa8"
      },
      "source": [
        "#### 결과\n",
        "- 80점만 맞음\n",
        "- 왜 틀렷는지 아직 모르겟음\n"
      ]
    },
    {
      "cell_type": "markdown",
      "metadata": {
        "id": "19pX71CDexDB"
      },
      "source": [
        "### 시도3\n",
        "- #들어간것을 소문자로 변환"
      ]
    },
    {
      "cell_type": "code",
      "metadata": {
        "id": "_sIMGP6WdCf1"
      },
      "source": [
        "def replace_s(s):\n",
        "    return s.replace(\"A#\",\"a\").replace('G#','g').replace('C#','c').replace('D#','d').replace('F#','f')\n",
        "\n",
        "def solution(m, musicinfo):\n",
        "    answer = []\n",
        "    for i,infos in enumerate(musicinfo):\n",
        "        start,end,title,sound = infos.split(',')\n",
        "\n",
        "        start_h, start_m = start.split(':')\n",
        "        end_h, end_m = end.split(':')\n",
        "\n",
        "        duration = (int(end_h) - int(start_h)) * 60 + (int(end_m) - int(start_m))\n",
        "\n",
        "        notes = replace_s(sound)\n",
        "\n",
        "        total_note = ''.join(notes * (duration//len(notes)) + notes[:duration % len(notes)])\n",
        "\n",
        "        if replace_s(m) in total_note:\n",
        "            answer.append([i, duration, title])\n",
        "\n",
        "    if len(answer) == 0:\n",
        "        return '(None)'\n",
        "\n",
        "    answer = sorted(answer, key= lambda x: (x[0], -x[1]))\n",
        "\n",
        "    return answer[0][-1]"
      ],
      "execution_count": 27,
      "outputs": []
    },
    {
      "cell_type": "markdown",
      "metadata": {
        "id": "v-SYiYTSfUVv"
      },
      "source": [
        "#### 결과\n",
        "- 90 점 \n",
        "- 20,21,30 번 에러"
      ]
    }
  ]
}