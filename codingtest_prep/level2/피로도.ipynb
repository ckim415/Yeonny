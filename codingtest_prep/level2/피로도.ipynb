{
  "nbformat": 4,
  "nbformat_minor": 0,
  "metadata": {
    "colab": {
      "name": "피로도.ipynb",
      "provenance": [],
      "authorship_tag": "ABX9TyPUFBovVgDQkFaVSKGzlE+j",
      "include_colab_link": true
    },
    "kernelspec": {
      "name": "python3",
      "display_name": "Python 3"
    },
    "language_info": {
      "name": "python"
    }
  },
  "cells": [
    {
      "cell_type": "markdown",
      "metadata": {
        "id": "view-in-github",
        "colab_type": "text"
      },
      "source": [
        "<a href=\"https://colab.research.google.com/github/ckim415/Yeonny/blob/master/codingtest_prep/level2/%ED%94%BC%EB%A1%9C%EB%8F%84.ipynb\" target=\"_parent\"><img src=\"https://colab.research.google.com/assets/colab-badge.svg\" alt=\"Open In Colab\"/></a>"
      ]
    },
    {
      "cell_type": "markdown",
      "metadata": {
        "id": "EHY7qphYj7vW"
      },
      "source": [
        "# 내풀이\n",
        " - sorting한후 풀어보려 했으나, 풀리지 않음"
      ]
    },
    {
      "cell_type": "code",
      "metadata": {
        "colab": {
          "base_uri": "https://localhost:8080/"
        },
        "id": "IOQn1ER2f3Ac",
        "outputId": "b2ad31a9-9c99-4721-fa27-d39da0fb8926"
      },
      "source": [
        "alist = [[1,1],[2,2],[2,1],[3,1],[1,3],[1,2]]\n",
        "alist.sort()\n",
        "alist.sort(key = lambda x: (x[0]), reverse=True)\n",
        "alist"
      ],
      "execution_count": null,
      "outputs": [
        {
          "output_type": "stream",
          "name": "stdout",
          "text": [
            "[[3, 1], [2, 2], [2, 1], [1, 3], [1, 2], [1, 1]]\n"
          ]
        },
        {
          "output_type": "execute_result",
          "data": {
            "text/plain": [
              "[[3, 1], [2, 1], [2, 2], [1, 1], [1, 2], [1, 3]]"
            ]
          },
          "metadata": {},
          "execution_count": 12
        }
      ]
    },
    {
      "cell_type": "code",
      "metadata": {
        "id": "_Pza86wthK3R"
      },
      "source": [
        "def solution(k, dungeons): \n",
        "  dungeons.sort()\n",
        "  dungeons.sort(key = lambda x:x[0], reverse=True)\n",
        "  answer = 0\n",
        "  curr = k\n",
        "  for x,y in dungeons:\n",
        "    if x < curr:\n",
        "      continue\n",
        "\n",
        "    curr -= y\n",
        "    answer += 1\n",
        "\n",
        "    if curr <0:\n",
        "      return answer - 1\n",
        "\n",
        "  return answer "
      ],
      "execution_count": null,
      "outputs": []
    },
    {
      "cell_type": "code",
      "metadata": {
        "colab": {
          "base_uri": "https://localhost:8080/",
          "height": 130
        },
        "id": "NRFO5NHXjfD3",
        "outputId": "e8ea5d7f-2e5f-43ee-d5a0-ef40ed9e11a6"
      },
      "source": [
        "alist = [[[80,20],[50,40],[30,10]]\n",
        "solution(80, alist)"
      ],
      "execution_count": null,
      "outputs": [
        {
          "output_type": "error",
          "ename": "SyntaxError",
          "evalue": "ignored",
          "traceback": [
            "\u001b[0;36m  File \u001b[0;32m\"<ipython-input-17-e0d78a5be3c3>\"\u001b[0;36m, line \u001b[0;32m2\u001b[0m\n\u001b[0;31m    solution(80, alist)\u001b[0m\n\u001b[0m           ^\u001b[0m\n\u001b[0;31mSyntaxError\u001b[0m\u001b[0;31m:\u001b[0m invalid syntax\n"
          ]
        }
      ]
    },
    {
      "cell_type": "code",
      "metadata": {
        "colab": {
          "base_uri": "https://localhost:8080/"
        },
        "id": "ECTsjL1KnKrH",
        "outputId": "94cd852a-ea83-4435-89d6-be03202162d3"
      },
      "source": [
        "# from collection import deque\n",
        "dungeons = [[80,20],[50,40],[30,10]]\n",
        "dungeons_2 = sorted(dungeons,key = lambda x:x[1],reverse=True)\n",
        "print(dungeons_2)\n",
        "q = []\n",
        "k = 80\n",
        "curr = k\n",
        "answer = 0\n",
        "for x,y in dungeons_2:\n",
        "  if x > k:\n",
        "    continue\n",
        "  \n",
        "\n",
        "  \n",
        "  k -= y\n",
        "  answer += 1\n",
        "  print(k, answer)\n",
        "\n",
        "  if k < 0:\n",
        "    curr += y\n",
        "    answer -= 1\n",
        "\n",
        "print(answer)\n",
        "\n",
        "  "
      ],
      "execution_count": null,
      "outputs": [
        {
          "output_type": "stream",
          "name": "stdout",
          "text": [
            "[[50, 40], [80, 20], [30, 10]]\n",
            "40 1\n",
            "30 2\n",
            "2\n"
          ]
        }
      ]
    },
    {
      "cell_type": "markdown",
      "metadata": {
        "id": "K97jNS93kHDU"
      },
      "source": [
        "# 내 풀이2\n",
        "- 완전탐색풀이\n",
        "- permutations를 이용해서 모든 조합을 고려해서 갈 수 있는 최고의 수를 반환함"
      ]
    },
    {
      "cell_type": "code",
      "metadata": {
        "id": "tFocpmsRe_o0"
      },
      "source": [
        "from itertools import combinations,permutations\n",
        "from collections import deque"
      ],
      "execution_count": 20,
      "outputs": []
    },
    {
      "cell_type": "code",
      "metadata": {
        "colab": {
          "base_uri": "https://localhost:8080/"
        },
        "id": "0QXu6AXYffCV",
        "outputId": "a1d6d6f9-e90e-4eac-80f0-7f5be9b26ada"
      },
      "source": [
        "for i in permutations([1,2,3],3):\n",
        "  print(i)"
      ],
      "execution_count": 5,
      "outputs": [
        {
          "output_type": "stream",
          "name": "stdout",
          "text": [
            "(1, 2, 3)\n",
            "(1, 3, 2)\n",
            "(2, 1, 3)\n",
            "(2, 3, 1)\n",
            "(3, 1, 2)\n",
            "(3, 2, 1)\n"
          ]
        }
      ]
    },
    {
      "cell_type": "code",
      "metadata": {
        "colab": {
          "base_uri": "https://localhost:8080/"
        },
        "id": "_iZkzjcpftdv",
        "outputId": "00808ddc-3e9f-4c73-c479-e5630103a139"
      },
      "source": [
        "dungeons = [[80,20],[50,40],[30,10]]\n",
        "q = deque(list(permutations([ i for i in range(len(dungeons))], len(dungeons))))\n",
        "k = 80\n",
        "answers = []\n",
        "while q:\n",
        "  idx = q.popleft()\n",
        "  visited = 0\n",
        "  curr = k\n",
        "  for i in idx:\n",
        "    if dungeons[i][0] > curr:\n",
        "      continue\n",
        "    \n",
        "    curr -= dungeons[i][1]\n",
        "    visited += 1\n",
        "\n",
        "    if curr < 0 :\n",
        "      curr += dungeons[i][1]\n",
        "      visited -= 1\n",
        "\n",
        "  if visited == len(dungeons):\n",
        "    print(visited)\n",
        "    break\n",
        "    \n",
        "  answers.append(visited)\n",
        "\n",
        "print(answers)\n"
      ],
      "execution_count": 22,
      "outputs": [
        {
          "output_type": "stream",
          "name": "stdout",
          "text": [
            "[2, 3, 2, 2, 2, 2]\n"
          ]
        }
      ]
    },
    {
      "cell_type": "code",
      "metadata": {
        "id": "BjaHNYH_bs4C"
      },
      "source": [
        "from collections import deque\n",
        "dungeons = [[80,20],[50,40],[30,10]]\n",
        "q = deque([])\n",
        "q.append((k, dungeons[0]))\n",
        "while "
      ],
      "execution_count": null,
      "outputs": []
    },
    {
      "cell_type": "code",
      "metadata": {
        "id": "0ym_OCEhjt8J"
      },
      "source": [
        "from itertools import permutations\n",
        "from collections import deque\n",
        "def solution(k, dungeons):\n",
        "    q = deque(list(permutations([ i for i in range(len(dungeons))], len(dungeons))))\n",
        "    answers = []\n",
        "    while q:\n",
        "        idx = q.popleft()\n",
        "        visited = 0\n",
        "        curr = k\n",
        "        for i in idx:\n",
        "            if dungeons[i][0] <= curr:\n",
        "                curr -= dungeons[i][1]\n",
        "                visited += 1\n",
        "\n",
        "\n",
        "        if visited == len(dungeons):\n",
        "            return visited\n",
        "    \n",
        "        answers.append(visited)\n",
        "\n",
        "    return max(answers)"
      ],
      "execution_count": null,
      "outputs": []
    }
  ]
}