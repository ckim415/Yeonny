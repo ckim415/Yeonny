{
  "nbformat": 4,
  "nbformat_minor": 0,
  "metadata": {
    "colab": {
      "name": "행렬의 곱셈.ipynb",
      "provenance": [],
      "authorship_tag": "ABX9TyM358xNn2pvtiaGQtL0QaI7",
      "include_colab_link": true
    },
    "kernelspec": {
      "name": "python3",
      "display_name": "Python 3"
    },
    "language_info": {
      "name": "python"
    }
  },
  "cells": [
    {
      "cell_type": "markdown",
      "metadata": {
        "id": "view-in-github",
        "colab_type": "text"
      },
      "source": [
        "<a href=\"https://colab.research.google.com/github/ckim415/Yeonny/blob/master/codingtest_prep/level2/%ED%96%89%EB%A0%AC%EC%9D%98_%EA%B3%B1%EC%85%88.ipynb\" target=\"_parent\"><img src=\"https://colab.research.google.com/assets/colab-badge.svg\" alt=\"Open In Colab\"/></a>"
      ]
    },
    {
      "cell_type": "code",
      "metadata": {
        "id": "55b4TIIOSqHJ"
      },
      "source": [
        "arr1=[[2, 3, 2], [4, 2, 4], [3, 1, 4]]\n",
        "arr2 = [[5, 4, 3], [2, 4, 1], [3, 1, 1]]"
      ],
      "execution_count": 48,
      "outputs": []
    },
    {
      "cell_type": "code",
      "metadata": {
        "colab": {
          "base_uri": "https://localhost:8080/"
        },
        "id": "wQfEbGNdSwan",
        "outputId": "8b4d5493-455d-4e08-e971-38e433453522"
      },
      "source": [
        "answer = []\n",
        "arr2= list(zip(*arr2))\n",
        "for i in range(len(arr1)):\n",
        "  tmp = []\n",
        "  tmp_arr1 = arr1[i]\n",
        "  for j in range(0,len(arr2)):\n",
        "    sum_ = 0\n",
        "    tmp_arr2 = arr2[j]\n",
        "    for k in range(0,len(tmp_arr2)):\n",
        "      sum_ += tmp_arr1[k] * tmp_arr2[k] \n",
        "    tmp.append(sum_)\n",
        "  \n",
        "  \n",
        "  answer.append(tmp)\n",
        "answer"
      ],
      "execution_count": 54,
      "outputs": [
        {
          "output_type": "execute_result",
          "data": {
            "text/plain": [
              "[[28, 18, 11], [40, 20, 18], [31, 14, 14]]"
            ]
          },
          "metadata": {},
          "execution_count": 54
        }
      ]
    },
    {
      "cell_type": "markdown",
      "metadata": {
        "id": "BEi_4CQTeO57"
      },
      "source": [
        "Test 1 〉\t통과 (2.12ms, 10.3MB)\n",
        "\n",
        "Test 2 〉\t통과 (44.48ms, 11.1MB)\n",
        "\n",
        "Test 3 〉\t통과 (45.70ms, 11.4MB)\n",
        "\n",
        "Test 4 〉\t통과 (1.00ms, 10.3MB)\n",
        "\n",
        "Test 5 〉\t통과 (30.62ms, 11.1MB)\n",
        "\n",
        "Test 6 〉\t통과 (18.98ms, 10.9MB)\n",
        "\n",
        "Test 7 〉\t통과 (0.90ms, 10.3MB)\n",
        "\n",
        "Test 8 〉\t통과 (0.45ms, 10.3MB)\n",
        "\n",
        "Test 9 〉\t통과 (0.35ms, 10.3MB)\n",
        "\n",
        "Test 10 〉\t통과 (30.50ms, 10.7MB)\n",
        "\n",
        "Test 11 〉\t통과 (3.34ms, 10.5MB)\n",
        "\n",
        "Test 12 〉\t통과 (0.60ms, 10.4MB)\n",
        "\n",
        "Test 13 〉\t통과 (24.73ms, 11MB)\n",
        "\n",
        "Test 14 〉\t통과 (47.62ms, 11.1MB)\n",
        "\n",
        "Test 15 〉\t통과 (15.01ms, 10.6MB)\n",
        "\n",
        "Test 16 〉\t통과 (4.52ms, 10.7MB)\n"
      ]
    },
    {
      "cell_type": "code",
      "metadata": {
        "colab": {
          "base_uri": "https://localhost:8080/"
        },
        "id": "A_DIl40WdPNz",
        "outputId": "e4c6c03a-5459-494b-eee1-6cac2c99b13a"
      },
      "source": [
        "import numpy as np\n",
        "arr1=[[2, 3, 2], [4, 2, 4], [3, 1, 4]]\n",
        "arr2 = [[5, 4, 3], [2, 4, 1], [3, 1, 1]]\n",
        "answer = (np.dot(np.array(arr1), np.array(arr2))).tolist()\n",
        "answer"
      ],
      "execution_count": 60,
      "outputs": [
        {
          "output_type": "execute_result",
          "data": {
            "text/plain": [
              "[[22, 22, 11], [36, 28, 18], [29, 20, 14]]"
            ]
          },
          "metadata": {},
          "execution_count": 60
        }
      ]
    },
    {
      "cell_type": "markdown",
      "metadata": {
        "id": "mo68nO8eekZt"
      },
      "source": [
        "Test 1 〉\t통과 (1.01ms, 27.9MB)\n",
        "\n",
        "Test 2 〉\t통과 (1.62ms, 28.6MB)\n",
        "\n",
        "Test 3 〉\t통과 (1.65ms, 28.9MB)\n",
        "\n",
        "Test 4 〉\t통과 (0.28ms, 27.8MB)\n",
        "\n",
        "Test 5 〉\t통과 (1.19ms, 28.2MB)\n",
        "\n",
        "Test 6 〉\t통과 (1.57ms, 28.9MB)\n",
        "\n",
        "Test 7 〉\t통과 (0.25ms, 28MB)\n",
        "\n",
        "Test 8 〉\t통과 (0.09ms, 27.7MB)\n",
        "\n",
        "Test 9 〉\t통과 (0.17ms, 27.8MB)\n",
        "\n",
        "Test 10 〉\t통과 (1.25ms, 28.3MB)\n",
        "\n",
        "Test 11 〉\t통과 (0.23ms, 28MB)\n",
        "\n",
        "Test 12 〉\t통과 (0.09ms, 27.8MB)\n",
        "\n",
        "Test 13 〉\t통과 (0.95ms, 28.5MB)\n",
        "\n",
        "Test 14 〉\t통과 (1.76ms, 28.5MB)\n",
        "\n",
        "Test 15 〉\t통과 (0.67ms, 28.2MB)\n",
        "\n",
        "Test 16 〉\t통과 (0.35ms, 28.3MB)"
      ]
    }
  ]
}