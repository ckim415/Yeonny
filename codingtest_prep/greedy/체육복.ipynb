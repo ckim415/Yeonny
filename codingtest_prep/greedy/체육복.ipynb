{
  "nbformat": 4,
  "nbformat_minor": 0,
  "metadata": {
    "colab": {
      "name": "체육복.ipynb",
      "provenance": [],
      "authorship_tag": "ABX9TyO9zAbeEZv9Lwov/8CAUSHH",
      "include_colab_link": true
    },
    "kernelspec": {
      "name": "python3",
      "display_name": "Python 3"
    },
    "language_info": {
      "name": "python"
    }
  },
  "cells": [
    {
      "cell_type": "markdown",
      "metadata": {
        "id": "view-in-github",
        "colab_type": "text"
      },
      "source": [
        "<a href=\"https://colab.research.google.com/github/ckim415/Yeonny/blob/master/codingtest_prep/greedy/%EC%B2%B4%EC%9C%A1%EB%B3%B5.ipynb\" target=\"_parent\"><img src=\"https://colab.research.google.com/assets/colab-badge.svg\" alt=\"Open In Colab\"/></a>"
      ]
    },
    {
      "cell_type": "markdown",
      "metadata": {
        "id": "4FLJqdrwF8Zr"
      },
      "source": [
        "# 체육복"
      ]
    },
    {
      "cell_type": "markdown",
      "metadata": {
        "id": "YLkJ5gXeGA6K"
      },
      "source": [
        "## 문제설명\n",
        "- 점심시간에 도둑이 들어, 일부 학생이 체육복을 도난당했습니다. 다행히 여벌 체육복이 있는 학생이 이들에게 체육복을 빌려주려 합니다. 학생들의 번호는 체격 순으로 매겨져 있어, 바로 앞번호의 학생이나 바로 뒷번호의 학생에게만 체육복을 빌려줄 수 있습니다. 예를 들어, 4번 학생은 3번 학생이나 5번 학생에게만 체육복을 빌려줄 수 있습니다. 체육복이 없으면 수업을 들을 수 없기 때문에 체육복을 적절히 빌려 최대한 많은 학생이 체육수업을 들어야 합니다.\n",
        "\n",
        "- 전체 학생의 수 n, 체육복을 도난당한 학생들의 번호가 담긴 배열 lost, 여벌의 체육복을 가져온 학생들의 번호가 담긴 배열 reserve가 매개변수로 주어질 때, 체육수업을 들을 수 있는 학생의 최댓값을 return 하도록 solution 함수를 작성해주세요.\n"
      ]
    },
    {
      "cell_type": "markdown",
      "metadata": {
        "id": "OKCArH3MG-f8"
      },
      "source": [
        "##제한사항\n",
        "- 전체 학생의 수는 2명 이상 30명 이하입니다.\n",
        "- 체육복을 도난당한 학생의 수는 1명 이상 n명 이하이고 중복되는 번호는 없습니다.\n",
        "- 여벌의 체육복을 가져온 학생의 수는 1명 이상 n명 이하이고 중복되는 번호는 없습니다.\n",
        "- 여벌 체육복이 있는 학생만 다른 학생에게 체육복을 빌려줄 수 있습니다.\n",
        "- 여벌 체육복을 가져온 학생이 체육복을 도난당했을 수 있습니다. 이때 이 학생은 체육복을 하나만 도난당했다고 가정하며, 남은 체육복이 하나이기에 다른 학생에게는 체육복을 빌려줄 수 없습니다."
      ]
    },
    {
      "cell_type": "markdown",
      "metadata": {
        "id": "tqum0cEzYieo"
      },
      "source": [
        "### 여벌 체육복을 가져온 학생이 체육복을 도난당했을 수 있습니다. 이때 이 학생은 체육복을 하나만 도난당했다고 가정하며, 남은 체육복이 하나이기에 다른 학생에게는 체육복을 빌려줄 수 없습니다.\n",
        "\n",
        "- 이 조건 으로 인해, if any number in both lost and reserve, that number should be removed in both\n",
        "  - set_reserve = set(reserve) - set(lost)\n",
        "  - set_lost = set(lost) - set(reserve)\n",
        "  - '-' operator does not work in list, so set is used"
      ]
    },
    {
      "cell_type": "markdown",
      "metadata": {
        "id": "rNKKyeVqGV0s"
      },
      "source": [
        "## parameters\n",
        "- n : the total number of students\n",
        "- lost : numbers of students who lost\n",
        "- reserve : numbers of students who have extra"
      ]
    },
    {
      "cell_type": "code",
      "metadata": {
        "id": "4N0GKlLOHMFd"
      },
      "source": [
        "n,lost,reserve = 5, [2, 4], [1, 3, 5]"
      ],
      "execution_count": 2,
      "outputs": []
    },
    {
      "cell_type": "code",
      "metadata": {
        "id": "fnV2SKuRSQx0"
      },
      "source": [
        "n,lost,reserve = 5, [2, 4], [1, 3, 5]\n",
        "set_reserve = set(reserve) - set(lost)\n",
        "set_lost = set(lost) - set(reserve)\n",
        "\n",
        "if set_reserve:\n",
        "  for i in set_reserve:\n",
        "    if i-1 in set_lost:\n",
        "      set_lost.remove(i-1)\n",
        "    elif i+1 in set_lost:\n",
        "      set_lost.remove(i+1)\n",
        "\n"
      ],
      "execution_count": 41,
      "outputs": []
    },
    {
      "cell_type": "markdown",
      "metadata": {
        "id": "i-_nuc64DRBi"
      },
      "source": [
        "# Greedy\n",
        "- only concern about optimal solution locally\n",
        "- like answering this question “What problem-solving strategies don’t guarantee solutions but make efficient use of time?”\n",
        "\n",
        "- greedy 문제를 풀때에는 제한사항을 먼저 해결하는게 좋다\n"
      ]
    }
  ]
}