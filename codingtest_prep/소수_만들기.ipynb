{
  "nbformat": 4,
  "nbformat_minor": 0,
  "metadata": {
    "colab": {
      "name": "소수 만들기.ipynb",
      "provenance": [],
      "authorship_tag": "ABX9TyNp9XrYASMUcTxE4UatiKWY",
      "include_colab_link": true
    },
    "kernelspec": {
      "name": "python3",
      "display_name": "Python 3"
    },
    "language_info": {
      "name": "python"
    }
  },
  "cells": [
    {
      "cell_type": "markdown",
      "metadata": {
        "id": "view-in-github",
        "colab_type": "text"
      },
      "source": [
        "<a href=\"https://colab.research.google.com/github/ckim415/Yeonny/blob/master/codingtest_prep/%EC%86%8C%EC%88%98_%EB%A7%8C%EB%93%A4%EA%B8%B0.ipynb\" target=\"_parent\"><img src=\"https://colab.research.google.com/assets/colab-badge.svg\" alt=\"Open In Colab\"/></a>"
      ]
    },
    {
      "cell_type": "code",
      "metadata": {
        "id": "Gmtwdu5iacrX"
      },
      "source": [
        "from itertools import combinations"
      ],
      "execution_count": 2,
      "outputs": []
    },
    {
      "cell_type": "code",
      "metadata": {
        "colab": {
          "base_uri": "https://localhost:8080/"
        },
        "id": "5k0eI87YaW_f",
        "outputId": "18a21f2b-5713-4d08-b22c-1e0caa60e142"
      },
      "source": [
        "nums = [1,2,3,4]\n",
        "list(combinations(nums,3))"
      ],
      "execution_count": 3,
      "outputs": [
        {
          "output_type": "execute_result",
          "data": {
            "text/plain": [
              "[(1, 2, 3), (1, 2, 4), (1, 3, 4), (2, 3, 4)]"
            ]
          },
          "metadata": {
            "tags": []
          },
          "execution_count": 3
        }
      ]
    },
    {
      "cell_type": "code",
      "metadata": {
        "id": "SdfgqYLoeBtG"
      },
      "source": [
        "import math\n",
        "def isPrimeNumber(number):\n",
        "  for i in range(2, int(math.sqrt(number)) + 1):\n",
        "      if (number % i) == 0:\n",
        "          return False\n",
        "\n",
        "  return True"
      ],
      "execution_count": 20,
      "outputs": []
    },
    {
      "cell_type": "code",
      "metadata": {
        "id": "IOPvK7X0ap-5"
      },
      "source": [
        "answer = 0\n",
        "combi = list(combinations(nums,3)) \n",
        "#이부분을 그냥 for numbers in combinations(nums,3): 하면 더 빠름\n",
        "for numbers in combi:\n",
        "  sum_ = sum(numbers)\n",
        "  if isPrimeNumber(sum_):\n",
        "    answer +=1\n",
        "      "
      ],
      "execution_count": 21,
      "outputs": []
    },
    {
      "cell_type": "code",
      "metadata": {
        "colab": {
          "base_uri": "https://localhost:8080/"
        },
        "id": "Zu5gla3Ab37y",
        "outputId": "4db87f26-13c1-496b-edfe-b07e0be9f2cb"
      },
      "source": [
        "answer"
      ],
      "execution_count": 22,
      "outputs": [
        {
          "output_type": "execute_result",
          "data": {
            "text/plain": [
              "1"
            ]
          },
          "metadata": {
            "tags": []
          },
          "execution_count": 22
        }
      ]
    },
    {
      "cell_type": "markdown",
      "metadata": {
        "id": "VuTVlHu0iqo4"
      },
      "source": [
        "## 속도/ 효율성"
      ]
    },
    {
      "cell_type": "markdown",
      "metadata": {
        "id": "v7bJn0D6icqn"
      },
      "source": [
        "- 테스트 1 〉\t통과 (2.73ms, 10.3MB)\n",
        "- 테스트 2 〉\t통과 (3.66ms, 10.3MB)\n",
        "- 테스트 3 〉\t통과 (1.03ms, 10.1MB)\n",
        "- 테스트 4 〉\t통과 (0.86ms, 10.2MB)\n",
        "- 테스트 5 〉\t통과 (3.60ms, 10.4MB)\n",
        "- 테스트 6 〉\t통과 (5.64ms, 10.5MB)\n",
        "- 테스트 7 〉\t통과 (0.29ms, 10.2MB)\n",
        "- 테스트 8 〉\t통과 (12.46ms, 11.1MB)\n",
        "- 테스트 9 〉\t통과 (0.97ms, 10.2MB)\n",
        "- 테스트 10 〉\t통과 (10.69ms, 10.9MB)\n",
        "- 테스트 11 〉\t통과 (0.15ms, 10.2MB)\n",
        "- 테스트 12 〉\t통과 (0.07ms, 10.2MB)\n",
        "- 테스트 13 〉\t통과 (0.20ms, 10.2MB)\n",
        "- 테스트 14 〉\t통과 (0.07ms, 10.2MB)\n",
        "- 테스트 15 〉\t통과 (0.07ms, 10.1MB)\n",
        "- 테스트 16 〉\t통과 (12.74ms, 11.1MB)\n",
        "- 테스트 17 〉\t통과 (12.40ms, 11.3MB)\n",
        "- 테스트 18 〉\t통과 (0.14ms, 10.2MB)\n",
        "- 테스트 19 〉\t통과 (0.01ms, 10.1MB)\n",
        "- 테스트 20 〉\t통과 (17.67ms, 11.4MB)\n",
        "- 테스트 21 〉\t통과 (16.98ms, 11.3MB)\n",
        "- 테스트 22 〉\t통과 (2.73ms, 10.2MB)\n",
        "- 테스트 23 〉\t통과 (0.01ms, 10.1MB)\n",
        "- 테스트 24 〉\t통과 (13.85ms, 11MB)\n",
        "- 테스트 25 〉\t통과 (14.22ms, 11.1MB)\n",
        "- 테스트 26 〉\t통과 (0.01ms, 10.2MB)"
      ]
    },
    {
      "cell_type": "code",
      "metadata": {
        "id": "OIbOLX5yiuQt"
      },
      "source": [
        "combi = set(combinations(nums,3))\n",
        "answer = 0\n",
        "for numbers in combi:\n",
        "  if numbers[-1] %2 == 0:\n",
        "    continue\n",
        "  sum_ = sum(numbers)\n",
        "  if isPrimeNumber(sum_):\n",
        "    answer +=1"
      ],
      "execution_count": 24,
      "outputs": []
    },
    {
      "cell_type": "code",
      "metadata": {
        "colab": {
          "base_uri": "https://localhost:8080/"
        },
        "id": "R4ER4odLjSsH",
        "outputId": "89814096-b7a6-485f-8990-be55afbc316c"
      },
      "source": [
        "answer"
      ],
      "execution_count": 25,
      "outputs": [
        {
          "output_type": "execute_result",
          "data": {
            "text/plain": [
              "0"
            ]
          },
          "metadata": {
            "tags": []
          },
          "execution_count": 25
        }
      ]
    },
    {
      "cell_type": "code",
      "metadata": {
        "colab": {
          "base_uri": "https://localhost:8080/"
        },
        "id": "V6U5eZR5jZ4W",
        "outputId": "c39b544f-b80c-4ebc-debe-21beab51a491"
      },
      "source": [
        "a = (1, 2, 3)\n",
        "a[-1]"
      ],
      "execution_count": 26,
      "outputs": [
        {
          "output_type": "execute_result",
          "data": {
            "text/plain": [
              "3"
            ]
          },
          "metadata": {
            "tags": []
          },
          "execution_count": 26
        }
      ]
    },
    {
      "cell_type": "markdown",
      "metadata": {
        "id": "7mcvGRIahvEd"
      },
      "source": [
        "## indentations\n",
        "\n",
        "\n",
        "```\n",
        "for :\n",
        "  if:\n",
        "\n",
        "else:\n",
        "\n",
        "```\n",
        "\n",
        "- else phrase would be executed after for loop have executed \n"
      ]
    }
  ]
}