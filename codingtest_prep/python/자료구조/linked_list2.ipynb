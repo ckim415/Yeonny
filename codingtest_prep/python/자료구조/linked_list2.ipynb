{
  "nbformat": 4,
  "nbformat_minor": 0,
  "metadata": {
    "colab": {
      "name": "linked_list2.ipynb",
      "provenance": [],
      "authorship_tag": "ABX9TyNAffEJxo6dLApBwZvli7XE",
      "include_colab_link": true
    },
    "kernelspec": {
      "name": "python3",
      "display_name": "Python 3"
    },
    "language_info": {
      "name": "python"
    }
  },
  "cells": [
    {
      "cell_type": "markdown",
      "metadata": {
        "id": "view-in-github",
        "colab_type": "text"
      },
      "source": [
        "<a href=\"https://colab.research.google.com/github/ckim415/Yeonny/blob/master/codingtest_prep/python/%EC%9E%90%EB%A3%8C%EA%B5%AC%EC%A1%B0/linked_list2.ipynb\" target=\"_parent\"><img src=\"https://colab.research.google.com/assets/colab-badge.svg\" alt=\"Open In Colab\"/></a>"
      ]
    },
    {
      "cell_type": "markdown",
      "metadata": {
        "id": "ojE4F3QgRVGB"
      },
      "source": [
        "#다양한 링크드 리스트의 구조\n"
      ]
    },
    {
      "cell_type": "markdown",
      "metadata": {
        "id": "I2U2QuPvV47x"
      },
      "source": [
        "## 더블 링크드 리스트"
      ]
    },
    {
      "cell_type": "code",
      "metadata": {
        "id": "QDjwe3oJRO9r"
      },
      "source": [
        "class Node:\n",
        "  def __init__(self, data, next=None, prev=None):\n",
        "    self.data = data\n",
        "    self.next = next\n",
        "    self.prev = prev"
      ],
      "execution_count": 1,
      "outputs": []
    },
    {
      "cell_type": "code",
      "metadata": {
        "id": "uxmYJ00aSwUT"
      },
      "source": [
        "class NodeMgmt:\n",
        "  def __init__(self, data):\n",
        "    self.head = Node(data)\n",
        "    self.tail = self.head #노드가 하나 일때는 head와 tail이 같다\n",
        "\n",
        "  def insert(self, data):\n",
        "    if self.head == None: #head가 존재 하지 않다면 \n",
        "      self.head = Node(data) #바로 노드 추가\n",
        "      self.tail = self.head \n",
        "    \n",
        "    else: #head가 존재 한다면\n",
        "      node = self.head \n",
        "      while node.next: #마지막 노드를 찾아\n",
        "        node = node.next\n",
        "\n",
        "      new = Node(data) # 새로운 노드를 new 변수에 저장\n",
        "      node.next = new # while 문에서 찾은 노드의 다음을 new로 지정\n",
        "      new.prev = node # new의 이전 노드를 while 문에서 찾은 노드로 지정\n",
        "      self.tail = new # 테일을 새로운 노드로 업데이트\n",
        "\n",
        "  def desc(self):\n",
        "    node = self.head\n",
        "    while node:\n",
        "      print(node.data)\n",
        "      node = node.next\n",
        "      \n"
      ],
      "execution_count": 2,
      "outputs": []
    },
    {
      "cell_type": "code",
      "metadata": {
        "colab": {
          "base_uri": "https://localhost:8080/"
        },
        "id": "JxadH1L8VYTe",
        "outputId": "c1c6825e-1114-4566-e784-b3a0d2469b36"
      },
      "source": [
        "double_linked_list = NodeMgmt(0)\n",
        "for i in range(1,10):\n",
        "  double_linked_list.insert(i)\n",
        "double_linked_list.desc()"
      ],
      "execution_count": 3,
      "outputs": [
        {
          "output_type": "stream",
          "text": [
            "0\n",
            "1\n",
            "2\n",
            "3\n",
            "4\n",
            "5\n",
            "6\n",
            "7\n",
            "8\n",
            "9\n"
          ],
          "name": "stdout"
        }
      ]
    },
    {
      "cell_type": "markdown",
      "metadata": {
        "id": "9QMz4rcKXfzG"
      },
      "source": [
        "### search_from_head함수 추가"
      ]
    },
    {
      "cell_type": "code",
      "metadata": {
        "id": "9HBRVdrUXlld"
      },
      "source": [
        "class NodeMgmt:\n",
        "  def __init__(self, data):\n",
        "    self.head = Node(data)\n",
        "    self.tail = self.head\n",
        "\n",
        "  def insert(self, data):\n",
        "    if self.head == None: \n",
        "      self.head = Node(data) \n",
        "      self.tail = self.head \n",
        "    \n",
        "    else: \n",
        "      node = self.head \n",
        "      while node.next: \n",
        "        node = node.next\n",
        "\n",
        "      new = Node(data) \n",
        "      node.next = new \n",
        "      new.prev = node \n",
        "      self.tail = new \n",
        "\n",
        "  def desc(self):\n",
        "    node = self.head\n",
        "    while node:\n",
        "      print(node.data)\n",
        "      node = node.next\n",
        "\n",
        "  def search_from_head(self, data):\n",
        "    if self.head == None:\n",
        "      return False\n",
        "      \n",
        "    node = self.head\n",
        "    while node:\n",
        "      if node.data == data:\n",
        "        return node\n",
        "      else:\n",
        "        node = node.next\n",
        "    return False\n",
        "\n",
        "      "
      ],
      "execution_count": 4,
      "outputs": []
    },
    {
      "cell_type": "code",
      "metadata": {
        "colab": {
          "base_uri": "https://localhost:8080/"
        },
        "id": "0LoPoN0yYKlt",
        "outputId": "0e22a2bd-edc4-4604-81fb-fd027d83cc5c"
      },
      "source": [
        "double_linked_list2 = NodeMgmt(0)\n",
        "for i in range(1,10):\n",
        "  double_linked_list2.insert(i)\n",
        "double_linked_list2.desc()"
      ],
      "execution_count": 5,
      "outputs": [
        {
          "output_type": "stream",
          "text": [
            "0\n",
            "1\n",
            "2\n",
            "3\n",
            "4\n",
            "5\n",
            "6\n",
            "7\n",
            "8\n",
            "9\n"
          ],
          "name": "stdout"
        }
      ]
    },
    {
      "cell_type": "code",
      "metadata": {
        "colab": {
          "base_uri": "https://localhost:8080/"
        },
        "id": "l34GQEwgYNOv",
        "outputId": "00116115-ec4c-4e3d-cfaa-cb2b0775ffbb"
      },
      "source": [
        "double_linked_list2.search_from_head(2)"
      ],
      "execution_count": 6,
      "outputs": [
        {
          "output_type": "execute_result",
          "data": {
            "text/plain": [
              "<__main__.Node at 0x7fbffcf35590>"
            ]
          },
          "metadata": {
            "tags": []
          },
          "execution_count": 6
        }
      ]
    },
    {
      "cell_type": "markdown",
      "metadata": {
        "id": "ujhC1wY9YrW_"
      },
      "source": [
        "### search_from_tail함수 추가"
      ]
    },
    {
      "cell_type": "code",
      "metadata": {
        "id": "wuA4nQD3YueV"
      },
      "source": [
        "class NodeMgmt:\n",
        "  def __init__(self, data):\n",
        "    self.head = Node(data)\n",
        "    self.tail = self.head\n",
        "\n",
        "  def insert(self, data):\n",
        "    if self.head == None: \n",
        "      self.head = Node(data) \n",
        "      self.tail = self.head \n",
        "    \n",
        "    else: \n",
        "      node = self.head \n",
        "      while node.next: \n",
        "        node = node.next\n",
        "\n",
        "      new = Node(data) \n",
        "      node.next = new \n",
        "      new.prev = node \n",
        "      self.tail = new \n",
        "\n",
        "  def desc(self):\n",
        "    node = self.head\n",
        "    while node:\n",
        "      print(node.data)\n",
        "      node = node.next\n",
        "\n",
        "  def search_from_head(self, data):\n",
        "    if self.head == None:\n",
        "      return False\n",
        "      \n",
        "    node = self.head\n",
        "    while node:\n",
        "      if node.data == data:\n",
        "        return node\n",
        "      else:\n",
        "        node = node.next\n",
        "    return False\n",
        "\n",
        "  def search_from_head(self, data):\n",
        "  if self.head == None:\n",
        "    return False\n",
        "    \n",
        "  node = self.tail\n",
        "  while node:\n",
        "    if node.data == data:\n",
        "      return node\n",
        "    else:\n",
        "      node = node.prev\n",
        "  return False"
      ],
      "execution_count": null,
      "outputs": []
    },
    {
      "cell_type": "markdown",
      "metadata": {
        "id": "pj9M5pN2V07-"
      },
      "source": [
        "##연습\n",
        "1. 특정숫자인 노드앞에 데이터를 추가하는 함수 만들기\n",
        "2. 특정숫자인 노드 뒤에 데이터를 추가하는 함수 만들기"
      ]
    },
    {
      "cell_type": "code",
      "metadata": {
        "id": "o7x2eHHiV7FE"
      },
      "source": [
        "#연습1\n",
        "class NodeMgmt:\n",
        "  def __init__(self, data):\n",
        "    self.head = Node(data)\n",
        "    self.tail = self.head\n",
        "\n",
        "  def insert(self, data):\n",
        "    if self.head == None: \n",
        "      self.head = Node(data) \n",
        "      self.tail = self.head \n",
        "    \n",
        "    else: \n",
        "      node = self.head \n",
        "      while node.next: \n",
        "        node = node.next\n",
        "\n",
        "      new = Node(data) \n",
        "      node.next = new \n",
        "      new.prev = node \n",
        "      self.tail = new \n",
        "\n",
        "  def desc(self):\n",
        "    node = self.head\n",
        "    while node:\n",
        "      print(node.data)\n",
        "      node = node.next\n",
        "\n",
        "  def search_from_head(self, data):\n",
        "    if self.head == None:\n",
        "      return False\n",
        "      \n",
        "    node = self.head\n",
        "    while node:\n",
        "      if node.data == data:\n",
        "        return node\n",
        "      else:\n",
        "        node = node.next\n",
        "    return False\n",
        "\n",
        "  def search_from_head(self, data):\n",
        "    if self.head == None:\n",
        "      return False\n",
        "      \n",
        "    node = self.tail\n",
        "    while node:\n",
        "      if node.data == data:\n",
        "        return node\n",
        "      else:\n",
        "        node = node.prev\n",
        "    return False\n",
        "\n",
        "  def insert_before(self, data, before_data):\n",
        "    if self.head == None:\n",
        "      self.head = Node(data)\n",
        "\n",
        "    else: #노드가 존재한다면\n",
        "      node = self.tail\n",
        "      while node.data != before_data:\n",
        "        node = node.prev\n",
        "        if node == None:\n",
        "          print('어디에다가 넣는지 모르겟다')\n",
        "          return False\n",
        "        \n",
        "      new = Node(data)\n",
        "      before_new = node.prev\n",
        "      before_new.next = new\n",
        "      new.prev = before_new\n",
        "      new.next = node\n",
        "      node.prev =new\n"
      ],
      "execution_count": 16,
      "outputs": []
    },
    {
      "cell_type": "code",
      "metadata": {
        "colab": {
          "base_uri": "https://localhost:8080/"
        },
        "id": "rE55bBhqheN2",
        "outputId": "6a9e3b44-38f0-4054-c082-be63932e61bd"
      },
      "source": [
        "double_linked_list3 = NodeMgmt(0)\n",
        "for i in range(1,10):\n",
        "  double_linked_list3.insert(i)\n",
        "double_linked_list3.desc()"
      ],
      "execution_count": 17,
      "outputs": [
        {
          "output_type": "stream",
          "text": [
            "0\n",
            "1\n",
            "2\n",
            "3\n",
            "4\n",
            "5\n",
            "6\n",
            "7\n",
            "8\n",
            "9\n"
          ],
          "name": "stdout"
        }
      ]
    },
    {
      "cell_type": "code",
      "metadata": {
        "id": "BvuMcwu7hjYe"
      },
      "source": [
        "double_linked_list3.insert_before(111,9)"
      ],
      "execution_count": 18,
      "outputs": []
    },
    {
      "cell_type": "code",
      "metadata": {
        "colab": {
          "base_uri": "https://localhost:8080/"
        },
        "id": "4m89_Z5DiMYv",
        "outputId": "eb340a89-9d04-4f54-ed87-9402c5d5755f"
      },
      "source": [
        "double_linked_list3.desc()"
      ],
      "execution_count": 19,
      "outputs": [
        {
          "output_type": "stream",
          "text": [
            "0\n",
            "1\n",
            "2\n",
            "3\n",
            "4\n",
            "5\n",
            "6\n",
            "7\n",
            "8\n",
            "111\n",
            "9\n"
          ],
          "name": "stdout"
        }
      ]
    },
    {
      "cell_type": "code",
      "metadata": {
        "id": "olxfNV0TiRJy"
      },
      "source": [
        "#연습2\n",
        "class NodeMgmt:\n",
        "  def __init__(self, data):\n",
        "    self.head = Node(data)\n",
        "    self.tail = self.head\n",
        "\n",
        "  def insert(self, data):\n",
        "    if self.head == None: \n",
        "      self.head = Node(data) \n",
        "      self.tail = self.head \n",
        "    \n",
        "    else: \n",
        "      node = self.head \n",
        "      while node.next: \n",
        "        node = node.next\n",
        "\n",
        "      new = Node(data) \n",
        "      node.next = new \n",
        "      new.prev = node \n",
        "      self.tail = new \n",
        "\n",
        "  def desc(self):\n",
        "    node = self.head\n",
        "    while node:\n",
        "      print(node.data)\n",
        "      node = node.next\n",
        "\n",
        "  def search_from_head(self, data):\n",
        "    if self.head == None:\n",
        "      return False\n",
        "      \n",
        "    node = self.head\n",
        "    while node:\n",
        "      if node.data == data:\n",
        "        return node\n",
        "      else:\n",
        "        node = node.next\n",
        "    return False\n",
        "\n",
        "  def search_from_head(self, data):\n",
        "    if self.head == None:\n",
        "      return False\n",
        "      \n",
        "    node = self.tail\n",
        "    while node:\n",
        "      if node.data == data:\n",
        "        return node\n",
        "      else:\n",
        "        node = node.prev\n",
        "    return False\n",
        "\n",
        "  def insert_before(self, data, before_data):\n",
        "    if self.head == None:\n",
        "      self.head = Node(data)\n",
        "\n",
        "    else: #노드가 존재한다면\n",
        "      node = self.tail\n",
        "      while node.data != before_data:\n",
        "        node = node.prev\n",
        "        if node == None:\n",
        "          print('어디에다가 넣는지 모르겟다')\n",
        "          return False\n",
        "        \n",
        "      new = Node(data)\n",
        "      before_new = node.prev\n",
        "      before_new.next = new\n",
        "      new.prev = before_new\n",
        "      new.next = node\n",
        "      node.prev =new\n",
        "  \n",
        "  def insert_after(self, data, after_data):\n",
        "    if self.head == None:\n",
        "      self.head = Node(data)\n",
        "\n",
        "    else: #노드가 존재한다면\n",
        "      node = self.head\n",
        "      while node.data != after_data:\n",
        "        node = node.next\n",
        "        if node == None:\n",
        "          print('어디에다가 넣는지 모르겟다')\n",
        "          return False\n",
        "        \n",
        "      new = Node(data)\n",
        "      after_new = node.next\n",
        "      after_new.prev = new\n",
        "      new.prev = node\n",
        "      new.next = after_new\n",
        "      node.next =new"
      ],
      "execution_count": 24,
      "outputs": []
    },
    {
      "cell_type": "code",
      "metadata": {
        "colab": {
          "base_uri": "https://localhost:8080/"
        },
        "id": "Km52LXtAijPk",
        "outputId": "c9b6401e-cd22-4cc3-de45-2baa4ef774b9"
      },
      "source": [
        "double_linked_list4 = NodeMgmt(0)\n",
        "for i in range(1,10):\n",
        "  double_linked_list4.insert(i)\n",
        "double_linked_list4.desc()"
      ],
      "execution_count": 25,
      "outputs": [
        {
          "output_type": "stream",
          "text": [
            "0\n",
            "1\n",
            "2\n",
            "3\n",
            "4\n",
            "5\n",
            "6\n",
            "7\n",
            "8\n",
            "9\n"
          ],
          "name": "stdout"
        }
      ]
    },
    {
      "cell_type": "code",
      "metadata": {
        "colab": {
          "base_uri": "https://localhost:8080/"
        },
        "id": "pKCtD-gmimgi",
        "outputId": "c7f8e619-0ede-45c8-c0cd-649c41fdfbdb"
      },
      "source": [
        "double_linked_list4.insert_after(1222,8)\n",
        "double_linked_list4.desc()"
      ],
      "execution_count": 26,
      "outputs": [
        {
          "output_type": "stream",
          "text": [
            "0\n",
            "1\n",
            "2\n",
            "3\n",
            "4\n",
            "5\n",
            "6\n",
            "7\n",
            "8\n",
            "1222\n",
            "9\n"
          ],
          "name": "stdout"
        }
      ]
    }
  ]
}