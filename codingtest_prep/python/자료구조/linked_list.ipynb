{
  "nbformat": 4,
  "nbformat_minor": 0,
  "metadata": {
    "colab": {
      "name": "linked_list.ipynb",
      "provenance": [],
      "collapsed_sections": [],
      "authorship_tag": "ABX9TyM5mQo2TAqq7axIf/8azJF+",
      "include_colab_link": true
    },
    "kernelspec": {
      "name": "python3",
      "display_name": "Python 3"
    },
    "language_info": {
      "name": "python"
    }
  },
  "cells": [
    {
      "cell_type": "markdown",
      "metadata": {
        "id": "view-in-github",
        "colab_type": "text"
      },
      "source": [
        "<a href=\"https://colab.research.google.com/github/ckim415/Yeonny/blob/master/codingtest_prep/python/%EC%9E%90%EB%A3%8C%EA%B5%AC%EC%A1%B0/linked_list.ipynb\" target=\"_parent\"><img src=\"https://colab.research.google.com/assets/colab-badge.svg\" alt=\"Open In Colab\"/></a>"
      ]
    },
    {
      "cell_type": "markdown",
      "metadata": {
        "id": "mHazYBQu1mkl"
      },
      "source": [
        "# 간단한 링크드 리스트를 class로 구현"
      ]
    },
    {
      "cell_type": "markdown",
      "metadata": {
        "id": "FTzXm0Ai1tC8"
      },
      "source": [
        "## node구현"
      ]
    },
    {
      "cell_type": "code",
      "metadata": {
        "id": "_MdBP8-9QElS"
      },
      "source": [
        "class Node:\n",
        "  def __init__(self, data, next=None):\n",
        "    self.data = data\n",
        "    self.next = next"
      ],
      "execution_count": 1,
      "outputs": []
    },
    {
      "cell_type": "markdown",
      "metadata": {
        "id": "Q9vAsWo22UG7"
      },
      "source": [
        "## 노드와 노드 연결하기 (포인터 활용)"
      ]
    },
    {
      "cell_type": "code",
      "metadata": {
        "id": "nP6ld_OYQTOG"
      },
      "source": [
        "node1 = Node(1)\n",
        "node2 = Node(2)\n",
        "node3 = Node(3)\n",
        "node1.next = node2\n",
        "node2.next = node3\n",
        "head = node1"
      ],
      "execution_count": 8,
      "outputs": []
    },
    {
      "cell_type": "code",
      "metadata": {
        "colab": {
          "base_uri": "https://localhost:8080/"
        },
        "id": "cl929cv82HkF",
        "outputId": "d67998bc-98eb-40d7-804b-64ae87f2a00e"
      },
      "source": [
        "print(node1)\n",
        "node1.__dict__"
      ],
      "execution_count": 12,
      "outputs": [
        {
          "output_type": "stream",
          "text": [
            "<__main__.Node object at 0x7f59b5e893d0>\n"
          ],
          "name": "stdout"
        },
        {
          "output_type": "execute_result",
          "data": {
            "text/plain": [
              "{'data': 1, 'next': <__main__.Node at 0x7f59b5e89390>}"
            ]
          },
          "metadata": {
            "tags": []
          },
          "execution_count": 12
        }
      ]
    },
    {
      "cell_type": "code",
      "metadata": {
        "colab": {
          "base_uri": "https://localhost:8080/"
        },
        "id": "MV9kSFBI2aCL",
        "outputId": "665979b1-5aef-4a01-ee32-8db98ecc4baa"
      },
      "source": [
        "print(node2)\n",
        "node2.__dict__"
      ],
      "execution_count": 10,
      "outputs": [
        {
          "output_type": "stream",
          "text": [
            "<__main__.Node object at 0x7f59b5e89390>\n"
          ],
          "name": "stdout"
        },
        {
          "output_type": "execute_result",
          "data": {
            "text/plain": [
              "{'data': 2, 'next': <__main__.Node at 0x7f59b5e89250>}"
            ]
          },
          "metadata": {
            "tags": []
          },
          "execution_count": 10
        }
      ]
    },
    {
      "cell_type": "code",
      "metadata": {
        "colab": {
          "base_uri": "https://localhost:8080/"
        },
        "id": "2zDzpUrH20-e",
        "outputId": "5f5149ae-2d4a-4c12-8a2e-1969f6e15a6b"
      },
      "source": [
        "print(node3)\n",
        "node3.__dict__"
      ],
      "execution_count": 11,
      "outputs": [
        {
          "output_type": "stream",
          "text": [
            "<__main__.Node object at 0x7f59b5e89250>\n"
          ],
          "name": "stdout"
        },
        {
          "output_type": "execute_result",
          "data": {
            "text/plain": [
              "{'data': 3, 'next': None}"
            ]
          },
          "metadata": {
            "tags": []
          },
          "execution_count": 11
        }
      ]
    },
    {
      "cell_type": "markdown",
      "metadata": {
        "id": "eI9C1Nps3G2C"
      },
      "source": [
        "## 링크드 리스트로 데이터 추가하기"
      ]
    },
    {
      "cell_type": "code",
      "metadata": {
        "id": "nS901ghPQkDX"
      },
      "source": [
        "class Node:\n",
        "  def __init__(self, data, next=None):\n",
        "    self.data = data\n",
        "    self.next = next\n",
        "\n",
        "\n",
        "def add(data):\n",
        "  node = head\n",
        "  while node.next:  #노드에 연결된 노드가 있는 동안\n",
        "    node = node.next  #다음 노드로 이동\n",
        "\n",
        "  #이 while문은 마지막 노드를 찾기 위한 구문\n",
        "  \n",
        "  node.next = Node(data) #연결된 노드가 더 이상 없으면 노드 연결\n",
        "\n"
      ],
      "execution_count": 13,
      "outputs": []
    },
    {
      "cell_type": "code",
      "metadata": {
        "id": "VR3fb8qBTLDI"
      },
      "source": [
        "node1 = Node(1)\n",
        "node2 = Node(2)\n",
        "node3 = Node(3)\n",
        "node1.next = node2\n",
        "node2.next = node3\n",
        "head = node1"
      ],
      "execution_count": 17,
      "outputs": []
    },
    {
      "cell_type": "code",
      "metadata": {
        "id": "PnuBQ4D_TODf"
      },
      "source": [
        "for index in range(4,6):\n",
        "  add(index)"
      ],
      "execution_count": 18,
      "outputs": []
    },
    {
      "cell_type": "markdown",
      "metadata": {
        "id": "50OyJrZ19UEV"
      },
      "source": [
        "## 링크드 리스트 데이터 출력하기"
      ]
    },
    {
      "cell_type": "code",
      "metadata": {
        "colab": {
          "base_uri": "https://localhost:8080/"
        },
        "id": "UqUkZgcl8mg_",
        "outputId": "25f3519f-5f89-4a21-e233-d2cc3d5b6220"
      },
      "source": [
        "node = head #첫번째 노드 설정 / 이 예시에서는 node1\n",
        "while node.next: #node에 연결된 다음 노드가 있는 동안 / 이예시에서는 노드 4까지\n",
        "  \n",
        "  print(\"node :\",node,'data: ', node.data, 'node.next: ', node.next) \n",
        "  node = node.next #다음 노드로 이동\n",
        "\n",
        "print(node.data, node.next)  #마지막 노드 출력"
      ],
      "execution_count": 25,
      "outputs": [
        {
          "output_type": "stream",
          "text": [
            "node : <__main__.Node object at 0x7f59b5df4790> data:  1 node.next:  <__main__.Node object at 0x7f59b5df4450>\n",
            "node : <__main__.Node object at 0x7f59b5df4450> data:  2 node.next:  <__main__.Node object at 0x7f59b5df4c50>\n",
            "node : <__main__.Node object at 0x7f59b5df4c50> data:  3 node.next:  <__main__.Node object at 0x7f59b5e89910>\n",
            "node : <__main__.Node object at 0x7f59b5e89910> data:  4 node.next:  <__main__.Node object at 0x7f59b5e89b10>\n",
            "5 None\n"
          ],
          "name": "stdout"
        }
      ]
    },
    {
      "cell_type": "markdown",
      "metadata": {
        "id": "VYMAK51CAkRZ"
      },
      "source": [
        "# 링크드 리스트의 복잡한 기능 \n",
        " - 링크드 리스트 데이터 사이에 데이터를 추가"
      ]
    },
    {
      "cell_type": "code",
      "metadata": {
        "id": "APKPDWD_H5lJ",
        "colab": {
          "base_uri": "https://localhost:8080/"
        },
        "outputId": "1f72e570-1a4f-4be8-bd67-8a2b82b3d1fc"
      },
      "source": [
        "node = head\n",
        "while node.next:\n",
        "  print(node.data)\n",
        "  node = node.next \n",
        "\n",
        "print(node.data) "
      ],
      "execution_count": 27,
      "outputs": [
        {
          "output_type": "stream",
          "text": [
            "1\n",
            "2\n",
            "3\n",
            "4\n",
            "5\n"
          ],
          "name": "stdout"
        }
      ]
    },
    {
      "cell_type": "code",
      "metadata": {
        "id": "SLKjmHFHA-7K"
      },
      "source": [
        "#추가할 데이터\n",
        "node4 = Node(1.5)"
      ],
      "execution_count": 29,
      "outputs": []
    },
    {
      "cell_type": "code",
      "metadata": {
        "id": "hhGo7xKWIDO7"
      },
      "source": [
        "node = head\n",
        "search = True\n",
        "while search:\n",
        "  if node.data == 1:\n",
        "    search = False\n",
        "  else:\n",
        "    node = node.next\n",
        "  \n",
        "  #while문은 노드 데이터가 1인 노드를 찾는 구문\n",
        "\n",
        "node_next = node.next # 데이터가 1인 노드의 node.next\n",
        "node.next = node4 \n",
        "node4.next = node_next"
      ],
      "execution_count": 32,
      "outputs": []
    },
    {
      "cell_type": "markdown",
      "metadata": {
        "id": "XPgdUHF4Ej8y"
      },
      "source": [
        "## 데이터 출력하기"
      ]
    },
    {
      "cell_type": "code",
      "metadata": {
        "colab": {
          "base_uri": "https://localhost:8080/"
        },
        "id": "EV0bjwPQIl2W",
        "outputId": "b45aaa39-68dd-4628-f081-49b54068cbe0"
      },
      "source": [
        "#출력하기\n",
        "node = head\n",
        "while node.next:\n",
        "  print(node.data)\n",
        "  node = node.next\n",
        "print(node.data)"
      ],
      "execution_count": 33,
      "outputs": [
        {
          "output_type": "stream",
          "text": [
            "1\n",
            "1.5\n",
            "2\n",
            "3\n",
            "4\n",
            "5\n"
          ],
          "name": "stdout"
        }
      ]
    },
    {
      "cell_type": "markdown",
      "metadata": {
        "id": "UCKuHJq-EsHr"
      },
      "source": [
        "#파이썬 객체지향 프로그래밍으로 리스트 구현하기"
      ]
    },
    {
      "cell_type": "code",
      "metadata": {
        "id": "jY7h91sTJ9_T"
      },
      "source": [
        "class Node:\n",
        "  def __init__(self, data, next=None):\n",
        "    self.data = data\n",
        "    self.next = next\n",
        "\n",
        "class NodeMgmt:\n",
        "  def __init__(self, data):\n",
        "    self.head = Node(data) #Node가 맨처음 생성이 되면 head 값으로도 생성이 됨\n",
        "\n",
        "  def add(self, data):\n",
        "    if self.head == None:\n",
        "      self.head = Node(data)\n",
        "    else:\n",
        "      node = self.head\n",
        "      while node.next:\n",
        "        node = node.next\n",
        "      node.next = Node(data)\n",
        "\n",
        "  def desc(self): #전체 링크드 리스트를 출력하는 함수\n",
        "    node = self.head\n",
        "    while node:\n",
        "      print(node.data)\n",
        "      node = node.next"
      ],
      "execution_count": null,
      "outputs": []
    },
    {
      "cell_type": "code",
      "metadata": {
        "colab": {
          "base_uri": "https://localhost:8080/"
        },
        "id": "ymFRqt-ET56v",
        "outputId": "1774d47d-2bdf-4c20-e456-8c5d4bcfe223"
      },
      "source": [
        "linkedlist1 = NodeMgmt(0)\n",
        "linkedlist1.desc()"
      ],
      "execution_count": null,
      "outputs": [
        {
          "output_type": "stream",
          "text": [
            "0\n"
          ],
          "name": "stdout"
        }
      ]
    },
    {
      "cell_type": "code",
      "metadata": {
        "colab": {
          "base_uri": "https://localhost:8080/"
        },
        "id": "WqiEKsf7UHyS",
        "outputId": "711b180a-9d21-4395-9425-e6f4d67dffd8"
      },
      "source": [
        "for data in range(1,10):\n",
        "  linkedlist1.add(data)\n",
        "linkedlist1.desc()"
      ],
      "execution_count": null,
      "outputs": [
        {
          "output_type": "stream",
          "text": [
            "0\n",
            "1\n",
            "2\n",
            "3\n",
            "4\n",
            "5\n",
            "6\n",
            "7\n",
            "8\n",
            "9\n"
          ],
          "name": "stdout"
        }
      ]
    }
  ]
}