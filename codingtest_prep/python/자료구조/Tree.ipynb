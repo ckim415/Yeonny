{
  "nbformat": 4,
  "nbformat_minor": 0,
  "metadata": {
    "colab": {
      "name": "Tree.ipynb",
      "provenance": [],
      "authorship_tag": "ABX9TyO0f7zBS4kJlYWlegOPOzXP",
      "include_colab_link": true
    },
    "kernelspec": {
      "name": "python3",
      "display_name": "Python 3"
    },
    "language_info": {
      "name": "python"
    }
  },
  "cells": [
    {
      "cell_type": "markdown",
      "metadata": {
        "id": "view-in-github",
        "colab_type": "text"
      },
      "source": [
        "<a href=\"https://colab.research.google.com/github/ckim415/Yeonny/blob/master/codingtest_prep/python/%EC%9E%90%EB%A3%8C%EA%B5%AC%EC%A1%B0/Tree.ipynb\" target=\"_parent\"><img src=\"https://colab.research.google.com/assets/colab-badge.svg\" alt=\"Open In Colab\"/></a>"
      ]
    },
    {
      "cell_type": "markdown",
      "metadata": {
        "id": "ypp2CiPmY8dp"
      },
      "source": [
        "#객체 지향 프로그래밍으로 트리 구현하기"
      ]
    },
    {
      "cell_type": "markdown",
      "metadata": {
        "id": "g-Jij1WyZCfW"
      },
      "source": [
        "## 노드 클래스 만들기"
      ]
    },
    {
      "cell_type": "code",
      "metadata": {
        "id": "eyCIf8CqY0xZ"
      },
      "source": [
        "class Node:\n",
        "\n",
        "  def __init__(self, value, left=None, right=None):\n",
        "    self.value = value\n",
        "    self.left = left\n",
        "    self.right = right\n"
      ],
      "execution_count": null,
      "outputs": []
    },
    {
      "cell_type": "markdown",
      "metadata": {
        "id": "7UYw_Oy1eBKY"
      },
      "source": [
        "## 이진 탐색 트리에 데이터 넣기"
      ]
    },
    {
      "cell_type": "code",
      "metadata": {
        "id": "Fi0qxWoOeFKp"
      },
      "source": [
        "class NodeMgmt:\n",
        "\n",
        "  def __init__(self, head):\n",
        "    self.head = head\n",
        "\n",
        "  def insert(self, value):\n",
        "    self.current_node = self.head\n",
        "\n",
        "    while True:\n",
        "      if value < self.current_node.value:\n",
        "        if self.current_node.left != None:\n",
        "          self.current_node = self.current_node.left\n",
        "        else:\n",
        "          self.current_node.left =  Node(value)\n",
        "          break\n",
        "      \n",
        "      else:\n",
        "        if self.current_node.right != None:\n",
        "          self.current_node = self.current_node.right\n",
        "        else:\n",
        "          self.current_node.right = Node(value)\n",
        "          break\n"
      ],
      "execution_count": null,
      "outputs": []
    },
    {
      "cell_type": "code",
      "metadata": {
        "id": "E01k37Z3mVK-"
      },
      "source": [
        "head = Node(1)\n",
        "BST = NodeMgmt(head)"
      ],
      "execution_count": null,
      "outputs": []
    },
    {
      "cell_type": "code",
      "metadata": {
        "id": "z2HZ-S2OmiIJ"
      },
      "source": [
        "BST.insert(2)"
      ],
      "execution_count": null,
      "outputs": []
    },
    {
      "cell_type": "markdown",
      "metadata": {
        "id": "nr0PnPPdmwJq"
      },
      "source": [
        "## 이진 탐색 트리 탐색"
      ]
    },
    {
      "cell_type": "code",
      "metadata": {
        "id": "bIloiLpOmmSI"
      },
      "source": [
        "class NodeMgmt:\n",
        "\n",
        "  def __init__(self, head):\n",
        "    self.head = head\n",
        "\n",
        "  def insert(self, value):\n",
        "    self.current_node = self.head\n",
        "\n",
        "    while True:\n",
        "      if value < self.current_node.value:\n",
        "        if self.current_node.left != None:\n",
        "          self.current_node = self.current_node.left\n",
        "        else:\n",
        "          self.current_node.left =  Node(value)\n",
        "          break\n",
        "      \n",
        "      else:\n",
        "        if self.current_node.right != None:\n",
        "          self.current_node = self.current_node.right\n",
        "        else:\n",
        "          self.current_node.right = Node(value)\n",
        "          break\n",
        "\n",
        "  def search(self, value):\n",
        "    self.current_node = self.head\n",
        "    while self.current_node:\n",
        "      if self.current_node.value == value:\n",
        "        return True\n",
        "      elif value < self.current_node.value:\n",
        "        self.current_node = self.current_node.left\n",
        "      else:\n",
        "        self.current_node = self.current_node.right\n",
        "\n",
        "    return False\n",
        "\n"
      ],
      "execution_count": null,
      "outputs": []
    },
    {
      "cell_type": "code",
      "metadata": {
        "id": "zxxCyyhdnwSV"
      },
      "source": [
        "head = Node(1)\n",
        "BST = NodeMgmt(head)\n",
        "BST.insert(2)\n",
        "BST.insert(3)\n",
        "BST.insert(0)\n",
        "BST.insert(5)"
      ],
      "execution_count": null,
      "outputs": []
    },
    {
      "cell_type": "code",
      "metadata": {
        "colab": {
          "base_uri": "https://localhost:8080/"
        },
        "id": "MmTGdZP8nyjP",
        "outputId": "c39efb5e-df0b-495c-b776-177edcf28c6e"
      },
      "source": [
        "BST.search(2) "
      ],
      "execution_count": null,
      "outputs": [
        {
          "output_type": "execute_result",
          "data": {
            "text/plain": [
              "True"
            ]
          },
          "metadata": {
            "tags": []
          },
          "execution_count": 11
        }
      ]
    },
    {
      "cell_type": "markdown",
      "metadata": {
        "id": "AEt1Rn3wYfYS"
      },
      "source": [
        "## 이진 탐색 트리 삭제\n",
        "- 경우의 수\n",
        " 1. leaf node를 삭제\n",
        " 2. child node가 하나인 node 삭제\n",
        " 3. child node가 두개인 node 삭제\n",
        "  - 삭제할 node의 오른쪽 자식중, 가장 작은 값을 삭제할 node의 parent node가 가르키도록 한다.\n",
        "  - 삭제할 node의 왼쪽 자식중, 가장 큰 값을 삭제할 node의 parent node가 가리키도록 한다."
      ]
    },
    {
      "cell_type": "markdown",
      "metadata": {
        "id": "b8mtPa-vjXyb"
      },
      "source": [
        "## 삭제할 노드 탐색\n",
        " - 삭제할 노드가 없는 경우도 고려해야함\n",
        "  - 삭제할 노드가 없으면 return False, 함수 종료\n"
      ]
    },
    {
      "cell_type": "code",
      "metadata": {
        "id": "TD4hdhLyYhTJ"
      },
      "source": [
        "  searched = False\n",
        "  self.current_node = self.root\n",
        "  self.parent = self.root\n",
        "  while self.current_node:\n",
        "    if self.current_node.value == value:\n",
        "      searched = True\n",
        "      break\n",
        "\n",
        "    elif value < self.current_node.value:\n",
        "      self.parent = self.current_node\n",
        "      self.current_node = self.current_node.left\n",
        "    else:\n",
        "      self.parent = self.current_node\n",
        "      self.current_node = self.current_node.right\n",
        "\n",
        "  if searched == False:\n",
        "    return False\n",
        "  \n",
        "  ## 케이스 별로 분리해서 코드 작성\n",
        "  "
      ],
      "execution_count": null,
      "outputs": []
    },
    {
      "cell_type": "markdown",
      "metadata": {
        "id": "zk5NTH5-lCJQ"
      },
      "source": [
        "### 케이스1. leaf node 삭제\n"
      ]
    },
    {
      "cell_type": "code",
      "metadata": {
        "id": "s3Xd_cthlK-j"
      },
      "source": [
        "#self.current_node가 삭제할 node\n",
        "#self.parent는 삭제할 노드의 parent 노드 인 상태\n",
        "if self.current_node.left == None and self.current_node.right == None:\n",
        "  if value < self.current_node.value:\n",
        "    self.parent.left = None\n",
        "    \n",
        "  else:\n",
        "    self.parent.right = None\n",
        "  \n",
        "  del self.current_node\n",
        "     "
      ],
      "execution_count": null,
      "outputs": []
    },
    {
      "cell_type": "markdown",
      "metadata": {
        "id": "QA1dP7jw4Cy2"
      },
      "source": [
        "### 케이스2 : 한개의 child node를 가지고 있는 노드 삭제\n",
        " - 2-1: 삭제할 노드가 왼쪽에 child노드를 가지고 있는 경우\n",
        " - 2-2: 삭제할 노드가 오른쪽에 child노드를 가지고 있는 경우"
      ]
    },
    {
      "cell_type": "code",
      "metadata": {
        "id": "YGp_ltwF4bI0"
      },
      "source": [
        "#2-1\n",
        "if self.current_node.left != None and self.current_node.right == None:\n",
        "  if value < self.parent.value:\n",
        "    self.parent.left = self.current_node.left\n",
        "\n",
        "  else:\n",
        "    self.parent.right = self.current_node.left\n",
        "\n",
        "#2-2\n",
        "else:  #self.current_node.left == None and self.current_node.right != None:\n",
        "  if value < self.parent.value:\n",
        "    self.parent.left = self.current_node.right\n",
        "  else:\n",
        "    self.parent.right = self.current_node.right"
      ],
      "execution_count": null,
      "outputs": []
    }
  ]
}