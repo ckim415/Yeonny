{
  "nbformat": 4,
  "nbformat_minor": 0,
  "metadata": {
    "colab": {
      "name": "Tree.ipynb",
      "provenance": [],
      "authorship_tag": "ABX9TyMQElgG3UENGM4FPiZnG/oR",
      "include_colab_link": true
    },
    "kernelspec": {
      "name": "python3",
      "display_name": "Python 3"
    },
    "language_info": {
      "name": "python"
    }
  },
  "cells": [
    {
      "cell_type": "markdown",
      "metadata": {
        "id": "view-in-github",
        "colab_type": "text"
      },
      "source": [
        "<a href=\"https://colab.research.google.com/github/ckim415/Yeonny/blob/master/codingtest_prep/python/%EC%9E%90%EB%A3%8C%EA%B5%AC%EC%A1%B0/Tree.ipynb\" target=\"_parent\"><img src=\"https://colab.research.google.com/assets/colab-badge.svg\" alt=\"Open In Colab\"/></a>"
      ]
    },
    {
      "cell_type": "markdown",
      "metadata": {
        "id": "ypp2CiPmY8dp"
      },
      "source": [
        "#객체 지향 프로그래밍으로 트리 구현하기"
      ]
    },
    {
      "cell_type": "markdown",
      "metadata": {
        "id": "g-Jij1WyZCfW"
      },
      "source": [
        "## 노드 클래스 만들기"
      ]
    },
    {
      "cell_type": "code",
      "metadata": {
        "id": "eyCIf8CqY0xZ"
      },
      "source": [
        "class Node:\n",
        "\n",
        "  def __init__(self, value, left=None, right=None):\n",
        "    self.value = value\n",
        "    self.left = left\n",
        "    self.right = right\n"
      ],
      "execution_count": 2,
      "outputs": []
    },
    {
      "cell_type": "markdown",
      "metadata": {
        "id": "7UYw_Oy1eBKY"
      },
      "source": [
        "## 이진 탐색 트리에 데이터 넣기"
      ]
    },
    {
      "cell_type": "code",
      "metadata": {
        "id": "Fi0qxWoOeFKp"
      },
      "source": [
        "class NodeMgmt:\n",
        "\n",
        "  def __init__(self, head):\n",
        "    self.head = head\n",
        "\n",
        "  def insert(self, value):\n",
        "    self.current_node = self.head\n",
        "\n",
        "    while True:\n",
        "      if value < self.current_node.value:\n",
        "        if self.current_node.left != None:\n",
        "          self.current_node = self.current_node.left\n",
        "        else:\n",
        "          self.current_node.left =  Node(value)\n",
        "          break\n",
        "      \n",
        "      else:\n",
        "        if self.current_node.right != None:\n",
        "          self.current_node = self.current_node.right\n",
        "        else:\n",
        "          self.current_node.right = Node(value)\n",
        "          break\n"
      ],
      "execution_count": 3,
      "outputs": []
    },
    {
      "cell_type": "code",
      "metadata": {
        "id": "E01k37Z3mVK-"
      },
      "source": [
        "head = Node(1)\n",
        "BST = NodeMgmt(head)"
      ],
      "execution_count": 5,
      "outputs": []
    },
    {
      "cell_type": "code",
      "metadata": {
        "id": "z2HZ-S2OmiIJ"
      },
      "source": [
        "BST.insert(2)"
      ],
      "execution_count": 6,
      "outputs": []
    },
    {
      "cell_type": "markdown",
      "metadata": {
        "id": "nr0PnPPdmwJq"
      },
      "source": [
        "## 이진 탐색 트리 탐색"
      ]
    },
    {
      "cell_type": "code",
      "metadata": {
        "id": "bIloiLpOmmSI"
      },
      "source": [
        "class NodeMgmt:\n",
        "\n",
        "  def __init__(self, head):\n",
        "    self.head = head\n",
        "\n",
        "  def insert(self, value):\n",
        "    self.current_node = self.head\n",
        "\n",
        "    while True:\n",
        "      if value < self.current_node.value:\n",
        "        if self.current_node.left != None:\n",
        "          self.current_node = self.current_node.left\n",
        "        else:\n",
        "          self.current_node.left =  Node(value)\n",
        "          break\n",
        "      \n",
        "      else:\n",
        "        if self.current_node.right != None:\n",
        "          self.current_node = self.current_node.right\n",
        "        else:\n",
        "          self.current_node.right = Node(value)\n",
        "          break\n",
        "\n",
        "  def search(self, value):\n",
        "    self.current_node = self.head\n",
        "    while self.current_node:\n",
        "      if self.current_node.value == value:\n",
        "        return True\n",
        "      elif value < self.current_node.value:\n",
        "        self.current_node = self.current_node.left\n",
        "      else:\n",
        "        self.current_node = self.current_node.right\n",
        "\n",
        "    return False\n",
        "\n"
      ],
      "execution_count": 7,
      "outputs": []
    },
    {
      "cell_type": "code",
      "metadata": {
        "id": "zxxCyyhdnwSV"
      },
      "source": [
        "head = Node(1)\n",
        "BST = NodeMgmt(head)\n",
        "BST.insert(2)\n",
        "BST.insert(3)\n",
        "BST.insert(0)\n",
        "BST.insert(5)"
      ],
      "execution_count": 10,
      "outputs": []
    },
    {
      "cell_type": "code",
      "metadata": {
        "colab": {
          "base_uri": "https://localhost:8080/"
        },
        "id": "MmTGdZP8nyjP",
        "outputId": "c39efb5e-df0b-495c-b776-177edcf28c6e"
      },
      "source": [
        "BST.search(2) "
      ],
      "execution_count": 11,
      "outputs": [
        {
          "output_type": "execute_result",
          "data": {
            "text/plain": [
              "True"
            ]
          },
          "metadata": {
            "tags": []
          },
          "execution_count": 11
        }
      ]
    }
  ]
}