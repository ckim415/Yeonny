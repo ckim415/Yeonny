{
  "nbformat": 4,
  "nbformat_minor": 0,
  "metadata": {
    "colab": {
      "name": "hash_table.ipynb",
      "provenance": [],
      "include_colab_link": true
    },
    "kernelspec": {
      "name": "python3",
      "display_name": "Python 3"
    },
    "language_info": {
      "name": "python"
    }
  },
  "cells": [
    {
      "cell_type": "markdown",
      "metadata": {
        "id": "view-in-github",
        "colab_type": "text"
      },
      "source": [
        "<a href=\"https://colab.research.google.com/github/ckim415/Yeonny/blob/master/codingtest_prep/python/%EC%9E%90%EB%A3%8C%EA%B5%AC%EC%A1%B0/hash_table.ipynb\" target=\"_parent\"><img src=\"https://colab.research.google.com/assets/colab-badge.svg\" alt=\"Open In Colab\"/></a>"
      ]
    },
    {
      "cell_type": "code",
      "metadata": {
        "id": "4_WPQ7LzvS32"
      },
      "source": [
        "hash_table = [0 for i in range(8)]\n",
        "  \n",
        "def get_key(data):\n",
        "    return hash(data)\n",
        "    \n",
        "def hash_function(key):\n",
        "    return key % 8\n",
        "\n",
        "def save_data(data, value):\n",
        "    hash_address = hash_function(get_key(data))\n",
        "    hash_table[hash_address] = value\n",
        "    \n",
        "def read_data(data):\n",
        "    hash_address = hash_function(get_key(data))\n",
        "    return hash_table[hash_address]"
      ],
      "execution_count": null,
      "outputs": []
    },
    {
      "cell_type": "code",
      "metadata": {
        "colab": {
          "base_uri": "https://localhost:8080/"
        },
        "id": "OWAbsISbvYnV",
        "outputId": "47667415-f44a-4bc6-9d17-f3e05624614d"
      },
      "source": [
        "hash_table"
      ],
      "execution_count": null,
      "outputs": [
        {
          "output_type": "execute_result",
          "data": {
            "text/plain": [
              "[0, 0, 0, 0, 0, 0, 0, 0]"
            ]
          },
          "metadata": {
            "tags": []
          },
          "execution_count": 8
        }
      ]
    },
    {
      "cell_type": "code",
      "metadata": {
        "id": "yS1ezUo0GxiH"
      },
      "source": [
        "hash_table = [0 for i in range(8)]"
      ],
      "execution_count": null,
      "outputs": []
    },
    {
      "cell_type": "code",
      "metadata": {
        "id": "pOg76btLvcJ-"
      },
      "source": [
        "save_data('dave', '101')"
      ],
      "execution_count": null,
      "outputs": []
    },
    {
      "cell_type": "code",
      "metadata": {
        "id": "nBm0ph-Jv6Ar"
      },
      "source": [
        "save_data('andy', '333')"
      ],
      "execution_count": null,
      "outputs": []
    },
    {
      "cell_type": "code",
      "metadata": {
        "colab": {
          "base_uri": "https://localhost:8080/"
        },
        "id": "5x1_9ak7vtla",
        "outputId": "e6438a34-7744-48fa-b392-d5cb05882b67"
      },
      "source": [
        "hash_table"
      ],
      "execution_count": null,
      "outputs": [
        {
          "output_type": "execute_result",
          "data": {
            "text/plain": [
              "[0, 0, 0, 0, '333', '101', 0, 0]"
            ]
          },
          "metadata": {
            "tags": []
          },
          "execution_count": 5
        }
      ]
    },
    {
      "cell_type": "markdown",
      "metadata": {
        "id": "-nyy_YR2DYcv"
      },
      "source": [
        "# 충돌 해결 방법\n",
        " - 1. open hashing : linked list를 연결하여 저장하는 방법"
      ]
    },
    {
      "cell_type": "code",
      "metadata": {
        "id": "owmyP_ROCwXj"
      },
      "source": [
        "def get_key(data):\n",
        "  return hash(data)\n",
        "      \n",
        "def hash_function(key):\n",
        "  return key % 8\n",
        "\n",
        "def save_data(data, value):\n",
        "  index_key = get_key(data)   #따로 저장한 이유 : 링크드 리스트로 연결 되어 있기 때문에 어떤게 무엇인지 따로 명시 필요함\n",
        "  hash_address = hash_function(index_key)\n",
        "  if hash_table[hash_address] != 0:\n",
        "      for index in range(len(hash_table[hash_address])): #해쉬테이블의 한 슬롯에 연결된 리스트가 있는지\n",
        "          if hash_table[hash_address][index][0] == index_key:\n",
        "              hash_table[hash_address][index][1] = value\n",
        "              # return \n",
        "      hash_table[hash_address].append([index_key, value])  \n",
        "      \n",
        "  else:\n",
        "      hash_table[hash_address] = [[index_key, value]]\n",
        "\n",
        "def read_data(data):\n",
        "  index_key = get_key(data)\n",
        "  hash_address = hash_function(index_key)\n",
        "  if hash_table[hash_address] != 0:\n",
        "      for index in range(len(hash_table[hash_address])):\n",
        "          if hash_table[hash_address][index][0] == index_key:\n",
        "              return hash_table[hash_address][index][1]\n",
        "      return None\n",
        "  else:\n",
        "      return None\n"
      ],
      "execution_count": null,
      "outputs": []
    },
    {
      "cell_type": "code",
      "metadata": {
        "colab": {
          "base_uri": "https://localhost:8080/"
        },
        "id": "v5YjVza4DqAZ",
        "outputId": "0ad01499-2e8e-4b4e-80c3-7aaa1c906994"
      },
      "source": [
        "print(hash('Dave') % 8)\n",
        "print(hash('Dd') % 8)\n",
        "print(hash('Data') % 8)\n",
        "print(hash('Da')%8)"
      ],
      "execution_count": null,
      "outputs": [
        {
          "output_type": "stream",
          "text": [
            "4\n",
            "3\n",
            "7\n",
            "7\n"
          ],
          "name": "stdout"
        }
      ]
    },
    {
      "cell_type": "code",
      "metadata": {
        "id": "HuNS6MxcFfyU"
      },
      "source": [
        "save_data('Data', '123')"
      ],
      "execution_count": null,
      "outputs": []
    },
    {
      "cell_type": "code",
      "metadata": {
        "id": "JVDXKgfIF4cs"
      },
      "source": [
        "save_data('Da', '456')"
      ],
      "execution_count": null,
      "outputs": []
    },
    {
      "cell_type": "code",
      "metadata": {
        "colab": {
          "base_uri": "https://localhost:8080/"
        },
        "id": "-poJK88qF7Vx",
        "outputId": "0fd15912-c17b-4b86-b74d-9f594038b199"
      },
      "source": [
        "read_data('Data'), read_data('Da')"
      ],
      "execution_count": null,
      "outputs": [
        {
          "output_type": "execute_result",
          "data": {
            "text/plain": [
              "('123', '456')"
            ]
          },
          "metadata": {
            "tags": []
          },
          "execution_count": 28
        }
      ]
    },
    {
      "cell_type": "code",
      "metadata": {
        "colab": {
          "base_uri": "https://localhost:8080/"
        },
        "id": "oz0Yo2Z1GVGE",
        "outputId": "dd633222-1c79-4b9f-d5a7-5f597c909ee3"
      },
      "source": [
        "hash_table"
      ],
      "execution_count": null,
      "outputs": [
        {
          "output_type": "execute_result",
          "data": {
            "text/plain": [
              "[0,\n",
              " 0,\n",
              " 0,\n",
              " 0,\n",
              " 0,\n",
              " 0,\n",
              " 0,\n",
              " [[6468146159654828583, '123'], [8433050192016974543, '456']]]"
            ]
          },
          "metadata": {
            "tags": []
          },
          "execution_count": 29
        }
      ]
    },
    {
      "cell_type": "markdown",
      "metadata": {
        "id": "CUDpbhg3HYqC"
      },
      "source": [
        " - 2. linear probing"
      ]
    },
    {
      "cell_type": "code",
      "metadata": {
        "id": "En_1iJkrHYUx"
      },
      "source": [
        "hash_table = [0 for i in range(9)]\n",
        "\n",
        "def get_key(data):\n",
        "  return hash(data)\n",
        "      \n",
        "def hash_function(key):\n",
        "  return key % 8\n",
        "\n",
        "def save_data(data, value):\n",
        "  index_key = get_key(data)   #따로 저장한 이유 : 링크드 리스트로 연결 되어 있기 때문에 어떤게 무엇인지 따로 명시 필요함\n",
        "  hash_address = hash_function(index_key)\n",
        "  if hash_table[hash_address] != 0:\n",
        "      for index in range(hash_address, len(hash_table)): #데이터의 해쉬 주소부터 해쉬 테이블 끝까지\n",
        "          if hash_table[index] == 0:  #해쉬 주소에 값이 있는지 없는지\n",
        "              hash_table[index] = [index_key, value]\n",
        "              return \n",
        "\n",
        "          elif hash_table[index][0] == index_key: #키가 동일하고 이미 값이 있는 경우 -> 업데이트\n",
        "            hash_table[index][1] = value\n",
        "            return \n",
        "      \n",
        "  else:\n",
        "    hash_table[hash_address] = [index_key, value]\n",
        "\n",
        "    \n",
        "\n",
        "def read_data(data):\n",
        "  index_key = get_key(data)\n",
        "  hash_address = hash_function(index_key)\n",
        "  if hash_table[hash_address] != 0:\n",
        "      for index in range(hash_address, len(hash_table)):\n",
        "          if hash_table[index] == 0:\n",
        "              return None\n",
        "\n",
        "          elif hash_table[index][0] == index_key:\n",
        "            return hash_table[index][1]    \n",
        "\n",
        "  else:\n",
        "      return None\n"
      ],
      "execution_count": null,
      "outputs": []
    },
    {
      "cell_type": "code",
      "metadata": {
        "colab": {
          "base_uri": "https://localhost:8080/"
        },
        "id": "Tq3Fr46xK5eO",
        "outputId": "9bb8ad68-ea58-4024-a2bf-10e65a7d66cc"
      },
      "source": [
        "print(hash('Dave') % 8)\n",
        "print(hash('Dd') % 8)\n",
        "print(hash('Data') % 8)\n",
        "print(hash('Da')%8)"
      ],
      "execution_count": null,
      "outputs": [
        {
          "output_type": "stream",
          "text": [
            "4\n",
            "3\n",
            "7\n",
            "7\n"
          ],
          "name": "stdout"
        }
      ]
    },
    {
      "cell_type": "code",
      "metadata": {
        "colab": {
          "base_uri": "https://localhost:8080/"
        },
        "id": "GorrmOV7K5iM",
        "outputId": "81890b1e-b07f-4a37-8804-61c109069b91"
      },
      "source": [
        "save_data('Data', '123'), save_data('Da', '456')"
      ],
      "execution_count": null,
      "outputs": [
        {
          "output_type": "execute_result",
          "data": {
            "text/plain": [
              "(None, None)"
            ]
          },
          "metadata": {
            "tags": []
          },
          "execution_count": 36
        }
      ]
    },
    {
      "cell_type": "code",
      "metadata": {
        "colab": {
          "base_uri": "https://localhost:8080/"
        },
        "id": "7RIQFktTLJ2W",
        "outputId": "49f2311d-c924-4a11-8e6c-e931d4366bda"
      },
      "source": [
        "read_data('Data'), read_data('Da')"
      ],
      "execution_count": null,
      "outputs": [
        {
          "output_type": "execute_result",
          "data": {
            "text/plain": [
              "('123', '456')"
            ]
          },
          "metadata": {
            "tags": []
          },
          "execution_count": 37
        }
      ]
    },
    {
      "cell_type": "code",
      "metadata": {
        "colab": {
          "base_uri": "https://localhost:8080/"
        },
        "id": "CV2RDDnBLRLd",
        "outputId": "292eb4a9-451b-4a7a-b00d-1040c238103d"
      },
      "source": [
        "hash_table"
      ],
      "execution_count": null,
      "outputs": [
        {
          "output_type": "execute_result",
          "data": {
            "text/plain": [
              "[0,\n",
              " 0,\n",
              " 0,\n",
              " 0,\n",
              " 0,\n",
              " 0,\n",
              " 0,\n",
              " [6468146159654828583, '123'],\n",
              " [8433050192016974543, '456']]"
            ]
          },
          "metadata": {
            "tags": []
          },
          "execution_count": 38
        }
      ]
    },
    {
      "cell_type": "markdown",
      "metadata": {
        "id": "kEnM1D8DMxd6"
      },
      "source": [
        "# 참고 : 해쉬 함수와 키 생성 함수\n",
        " - SHA(Secure Hash Algorithm)"
      ]
    },
    {
      "cell_type": "code",
      "metadata": {
        "id": "dLGXTEq0M8o_"
      },
      "source": [
        "import hashlib"
      ],
      "execution_count": null,
      "outputs": []
    },
    {
      "cell_type": "code",
      "metadata": {
        "colab": {
          "base_uri": "https://localhost:8080/"
        },
        "id": "0szAOcYBM8z9",
        "outputId": "8269fef3-0e6d-4a1e-bf38-c4d5125d6254"
      },
      "source": [
        "#sha-1()\n",
        "data = 'test'.encode()\n",
        "# print('test'.encode())\n",
        "hash_object = hashlib.sha1() #byte형태로 형변환 해줘야함\n",
        "hash_object.update(b'data')\n",
        "hex_dig = hash_object.hexdigest()\n",
        "print(hex_dig)"
      ],
      "execution_count": null,
      "outputs": [
        {
          "output_type": "stream",
          "text": [
            "a17c9aaa61e80a1bf71d0d850af4e5baa9800bbd\n"
          ],
          "name": "stdout"
        }
      ]
    },
    {
      "cell_type": "code",
      "metadata": {
        "colab": {
          "base_uri": "https://localhost:8080/"
        },
        "id": "xxKSR0tDRIlb",
        "outputId": "4e703d54-cca3-454c-fab4-bc726c9a2a35"
      },
      "source": [
        "#sha-256() : sha-1보다 더 보안이 좋음\n",
        "data = 'test'.encode()\n",
        "hash_object = hashlib.sha256() \n",
        "hash_object.update(b'data')\n",
        "hex_dig = hash_object.hexdigest()\n",
        "print(hex_dig)\n",
        "#원래의 데이터가 무엇이엿는지 추론할 수 없다"
      ],
      "execution_count": null,
      "outputs": [
        {
          "output_type": "stream",
          "text": [
            "3a6eb0790f39ac87c94f3856b2dd2c5d110e6811602261a9a923d3bb23adc8b7\n"
          ],
          "name": "stdout"
        }
      ]
    },
    {
      "cell_type": "code",
      "metadata": {
        "id": "7pMRR5O1Rwfq"
      },
      "source": [
        "#기존의 예시에서 hash를 hash256으로 변경\n",
        "hash_table = [0 for i in range(9)]\n",
        "\n",
        "def get_key(data):\n",
        "  hash_object = hashlib.sha256()\n",
        "  hash_object.update(data.encode())\n",
        "  hex_dig = hash_object.hexdigest()\n",
        "  return int(hex_dig, 16)\n",
        "      \n",
        "def hash_function(key):\n",
        "  return key % 8\n",
        "\n",
        "def save_data(data, value):\n",
        "  index_key = get_key(data)   #따로 저장한 이유 : 링크드 리스트로 연결 되어 있기 때문에 어떤게 무엇인지 따로 명시 필요함\n",
        "  hash_address = hash_function(index_key)\n",
        "  if hash_table[hash_address] != 0:\n",
        "      for index in range(hash_address, len(hash_table)): #데이터의 해쉬 주소부터 해쉬 테이블 끝까지\n",
        "          if hash_table[index] == 0:  #해쉬 주소에 값이 있는지 없는지\n",
        "              hash_table[index] = [index_key, value]\n",
        "              return \n",
        "\n",
        "          elif hash_table[index][0] == index_key: #키가 동일하고 이미 값이 있는 경우 -> 업데이트\n",
        "            hash_table[index][1] = value\n",
        "            return \n",
        "      \n",
        "  else:\n",
        "    hash_table[hash_address] = [index_key, value]\n",
        "\n",
        "    \n",
        "\n",
        "def read_data(data):\n",
        "  index_key = get_key(data)\n",
        "  hash_address = hash_function(index_key)\n",
        "  if hash_table[hash_address] != 0:\n",
        "      for index in range(hash_address, len(hash_table)):\n",
        "          if hash_table[index] == 0:\n",
        "              return None\n",
        "\n",
        "          elif hash_table[index][0] == index_key:\n",
        "            return hash_table[index][1]    \n",
        "\n",
        "  else:\n",
        "      return None\n"
      ],
      "execution_count": null,
      "outputs": []
    },
    {
      "cell_type": "code",
      "metadata": {
        "colab": {
          "base_uri": "https://localhost:8080/"
        },
        "id": "n8mGl9N4SWbJ",
        "outputId": "97040325-32f8-4cec-f224-fe7849b6e5d6"
      },
      "source": [
        "print(get_key('da') % 8)\n",
        "print(get_key('db') % 8)\n",
        "print(get_key('dc') % 8)\n",
        "print(get_key('dd') % 8)\n",
        "print(get_key('dh') % 8)"
      ],
      "execution_count": null,
      "outputs": [
        {
          "output_type": "stream",
          "text": [
            "2\n",
            "1\n",
            "5\n",
            "3\n",
            "2\n"
          ],
          "name": "stdout"
        }
      ]
    },
    {
      "cell_type": "code",
      "metadata": {
        "id": "nCA5Et_hSleV"
      },
      "source": [
        "save_data('da','123')\n",
        "save_data('dh','456')"
      ],
      "execution_count": null,
      "outputs": []
    },
    {
      "cell_type": "code",
      "metadata": {
        "colab": {
          "base_uri": "https://localhost:8080/",
          "height": 35
        },
        "id": "l1fRqVopStL-",
        "outputId": "dea70640-05c7-41e1-cc1d-110880bef2fc"
      },
      "source": [
        "read_data('da')"
      ],
      "execution_count": null,
      "outputs": [
        {
          "output_type": "execute_result",
          "data": {
            "application/vnd.google.colaboratory.intrinsic+json": {
              "type": "string"
            },
            "text/plain": [
              "'123'"
            ]
          },
          "metadata": {
            "tags": []
          },
          "execution_count": 53
        }
      ]
    },
    {
      "cell_type": "code",
      "metadata": {
        "colab": {
          "base_uri": "https://localhost:8080/",
          "height": 35
        },
        "id": "ymi-RdeeSvg-",
        "outputId": "04c9a9b9-f1e9-4f5d-9e55-82a2c26d9e66"
      },
      "source": [
        "read_data('dh')"
      ],
      "execution_count": null,
      "outputs": [
        {
          "output_type": "execute_result",
          "data": {
            "application/vnd.google.colaboratory.intrinsic+json": {
              "type": "string"
            },
            "text/plain": [
              "'456'"
            ]
          },
          "metadata": {
            "tags": []
          },
          "execution_count": 54
        }
      ]
    },
    {
      "cell_type": "code",
      "metadata": {
        "colab": {
          "base_uri": "https://localhost:8080/"
        },
        "id": "9EzcYcEFSxNH",
        "outputId": "3604a3c9-cd33-427f-ab1d-dc33bea78025"
      },
      "source": [
        "hash_table"
      ],
      "execution_count": null,
      "outputs": [
        {
          "output_type": "execute_result",
          "data": {
            "text/plain": [
              "[0,\n",
              " 0,\n",
              " [77049896039817716104633086125973601665927154587286664305423403838091909979274,\n",
              "  '123'],\n",
              " [25902807790238191969936164090115518991880572428612380032453909518048593055890,\n",
              "  '456'],\n",
              " 0,\n",
              " 0,\n",
              " 0,\n",
              " 0,\n",
              " 0]"
            ]
          },
          "metadata": {
            "tags": []
          },
          "execution_count": 55
        }
      ]
    }
  ]
}