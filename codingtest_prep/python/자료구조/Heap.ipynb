{
  "nbformat": 4,
  "nbformat_minor": 0,
  "metadata": {
    "colab": {
      "name": "Heap.ipynb",
      "provenance": [],
      "authorship_tag": "ABX9TyMzNa1IVzarN0nI8FXdRRRz",
      "include_colab_link": true
    },
    "kernelspec": {
      "name": "python3",
      "display_name": "Python 3"
    },
    "language_info": {
      "name": "python"
    }
  },
  "cells": [
    {
      "cell_type": "markdown",
      "metadata": {
        "id": "view-in-github",
        "colab_type": "text"
      },
      "source": [
        "<a href=\"https://colab.research.google.com/github/ckim415/Yeonny/blob/master/codingtest_prep/python/%EC%9E%90%EB%A3%8C%EA%B5%AC%EC%A1%B0/Heap.ipynb\" target=\"_parent\"><img src=\"https://colab.research.google.com/assets/colab-badge.svg\" alt=\"Open In Colab\"/></a>"
      ]
    },
    {
      "cell_type": "markdown",
      "metadata": {
        "id": "tDgUAZXljVjZ"
      },
      "source": [
        "# 힙구현\n",
        " - 배열로 구현\n",
        " - 인덱스가 1부터 시작은 배열\n",
        "  - 부모노드 = 자식 노드 index // 2\n",
        "  - 왼쪽 자식 노드 = 부모 노드 index * 2\n",
        "  - 오른쪽 자식 노드 = 부모 노드 index * 2 + 1 "
      ]
    },
    {
      "cell_type": "markdown",
      "metadata": {
        "id": "6ZrDMlCLj1he"
      },
      "source": [
        "## 1. 데이터 삽입"
      ]
    },
    {
      "cell_type": "code",
      "metadata": {
        "id": "x8vnebgsir7F"
      },
      "source": [
        "#1-1 왼쪽에서 부터 삽입\n",
        "class Heap:\n",
        "  \n",
        "  def __init__(self, value):\n",
        "    self.heap_array = list()\n",
        "    self.heap_array.append(None) \n",
        "    self.heap_array.append(value)\n",
        "\n",
        "  def insert(self, value):\n",
        "    if len(heap_array) == 0:\n",
        "      self.heap_array.append(None) \n",
        "      self.heap_array.append(value)\n",
        "      return True\n",
        "\n",
        "    self.heap_array.append(value)\n",
        "    return True\n",
        "\n",
        "  \n"
      ],
      "execution_count": 3,
      "outputs": []
    },
    {
      "cell_type": "code",
      "metadata": {
        "colab": {
          "base_uri": "https://localhost:8080/"
        },
        "id": "HF9lh6kylrQS",
        "outputId": "a0c00052-ae0f-4722-d583-6e07c95c4b9b"
      },
      "source": [
        "heap = Heap(1)\n",
        "heap.heap_array"
      ],
      "execution_count": 4,
      "outputs": [
        {
          "output_type": "execute_result",
          "data": {
            "text/plain": [
              "[None, 1]"
            ]
          },
          "metadata": {
            "tags": []
          },
          "execution_count": 4
        }
      ]
    },
    {
      "cell_type": "code",
      "metadata": {
        "id": "1ss5yX1HqAnq"
      },
      "source": [
        "#1-2 자식노드와 부모노드를 비교하여 자식노드의 값이 더 크면 바꾸기\n",
        "class Heap:\n",
        "  \n",
        "  def __init__(self, value):\n",
        "    self.heap_array = list()\n",
        "    self.heap_array.append(None) \n",
        "    self.heap_array.append(value)\n",
        "\n",
        "  def move_up(self, inserted_idx):\n",
        "\n",
        "    if inserted_idx <= 1:\n",
        "      return False\n",
        "\n",
        "    parent_idx = inserted_idx // 2\n",
        "    if self.heap_array[inserted_idx] > self.heap_array[parent_idx]:\n",
        "      return True\n",
        "    else:\n",
        "      return False\n",
        "\n",
        "  def insert(self, value):\n",
        "    if len(self.heap_array) == 0:\n",
        "      self.heap_array.append(None) \n",
        "      self.heap_array.append(value)\n",
        "      return True\n",
        "\n",
        "    self.heap_array.append(value)\n",
        "\n",
        "    inserted_idx = len(self.heap_array) - 1\n",
        "    while self.move_up(inserted_idx):\n",
        "      parent_idx = inserted_idx // 2\n",
        "      self.heap_array[inserted_idx], self.heap_array[parent_idx] = self.heap_array[parent_idx], self.heap_array[inserted_idx]\n",
        "      inserted_idx = parent_idx\n",
        "\n",
        "    return True\n"
      ],
      "execution_count": 32,
      "outputs": []
    },
    {
      "cell_type": "code",
      "metadata": {
        "colab": {
          "base_uri": "https://localhost:8080/"
        },
        "id": "6m0Xw0ynyNlE",
        "outputId": "27e73492-6369-4b87-a1c9-69f1daac7476"
      },
      "source": [
        "heap = Heap(15)\n",
        "heap.insert(10)\n",
        "heap.insert(8)\n",
        "heap.insert(5)\n",
        "heap.insert(4)\n"
      ],
      "execution_count": 33,
      "outputs": [
        {
          "output_type": "stream",
          "text": [
            "inserted_idx : 2 parent_idx:  1\n",
            "inserted_idx : 3 parent_idx:  1\n",
            "inserted_idx : 4 parent_idx:  2\n",
            "inserted_idx : 5 parent_idx:  2\n"
          ],
          "name": "stdout"
        },
        {
          "output_type": "execute_result",
          "data": {
            "text/plain": [
              "True"
            ]
          },
          "metadata": {
            "tags": []
          },
          "execution_count": 33
        }
      ]
    },
    {
      "cell_type": "code",
      "metadata": {
        "colab": {
          "base_uri": "https://localhost:8080/"
        },
        "id": "1Pc40EnD0Krb",
        "outputId": "437c36c3-f829-454e-a4c8-19d0b783216d"
      },
      "source": [
        "heap.heap_array"
      ],
      "execution_count": 34,
      "outputs": [
        {
          "output_type": "execute_result",
          "data": {
            "text/plain": [
              "[None, 15, 10, 8, 5, 4]"
            ]
          },
          "metadata": {
            "tags": []
          },
          "execution_count": 34
        }
      ]
    },
    {
      "cell_type": "code",
      "metadata": {
        "colab": {
          "base_uri": "https://localhost:8080/"
        },
        "id": "UAvN4JEl0Sco",
        "outputId": "1067a9b6-d915-4853-84fc-8e8e0e9d45b0"
      },
      "source": [
        "heap.insert(20)"
      ],
      "execution_count": 35,
      "outputs": [
        {
          "output_type": "stream",
          "text": [
            "inserted_idx : 6 parent_idx:  3\n",
            "inserted_idx : 3 parent_idx:  1\n",
            "root노드 입니다.\n"
          ],
          "name": "stdout"
        },
        {
          "output_type": "execute_result",
          "data": {
            "text/plain": [
              "True"
            ]
          },
          "metadata": {
            "tags": []
          },
          "execution_count": 35
        }
      ]
    },
    {
      "cell_type": "code",
      "metadata": {
        "colab": {
          "base_uri": "https://localhost:8080/"
        },
        "id": "O5YrPK-C2DH_",
        "outputId": "9c436886-c823-4954-f3f2-ad6f77e3c98b"
      },
      "source": [
        "heap.heap_array"
      ],
      "execution_count": 36,
      "outputs": [
        {
          "output_type": "execute_result",
          "data": {
            "text/plain": [
              "[None, 20, 10, 15, 5, 4, 8]"
            ]
          },
          "metadata": {
            "tags": []
          },
          "execution_count": 36
        }
      ]
    }
  ]
}