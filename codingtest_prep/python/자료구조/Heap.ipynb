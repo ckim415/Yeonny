{
  "nbformat": 4,
  "nbformat_minor": 0,
  "metadata": {
    "colab": {
      "name": "Heap.ipynb",
      "provenance": [],
      "authorship_tag": "ABX9TyP2+2IsxbUnYY2ao3Y2OOtb",
      "include_colab_link": true
    },
    "kernelspec": {
      "name": "python3",
      "display_name": "Python 3"
    },
    "language_info": {
      "name": "python"
    }
  },
  "cells": [
    {
      "cell_type": "markdown",
      "metadata": {
        "id": "view-in-github",
        "colab_type": "text"
      },
      "source": [
        "<a href=\"https://colab.research.google.com/github/ckim415/Yeonny/blob/master/codingtest_prep/python/%EC%9E%90%EB%A3%8C%EA%B5%AC%EC%A1%B0/Heap.ipynb\" target=\"_parent\"><img src=\"https://colab.research.google.com/assets/colab-badge.svg\" alt=\"Open In Colab\"/></a>"
      ]
    },
    {
      "cell_type": "markdown",
      "metadata": {
        "id": "tDgUAZXljVjZ"
      },
      "source": [
        "# 힙구현\n",
        " - 배열로 구현\n",
        " - 인덱스가 1부터 시작은 배열\n",
        "  - 부모노드 = 자식 노드 index // 2\n",
        "  - 왼쪽 자식 노드 = 부모 노드 index * 2\n",
        "  - 오른쪽 자식 노드 = 부모 노드 index * 2 + 1 "
      ]
    },
    {
      "cell_type": "markdown",
      "metadata": {
        "id": "6ZrDMlCLj1he"
      },
      "source": [
        "## 1. 데이터 삽입"
      ]
    },
    {
      "cell_type": "code",
      "metadata": {
        "id": "x8vnebgsir7F"
      },
      "source": [
        "#1-1 왼쪽에서 부터 삽입\n",
        "class Heap:\n",
        "  \n",
        "  def __init__(self, value):\n",
        "    self.heap_array = list()\n",
        "    self.heap_array.append(None) \n",
        "    self.heap_array.append(value)\n",
        "\n",
        "  def insert(self, value):\n",
        "    if len(heap_array) == 0:\n",
        "      self.heap_array.append(None) \n",
        "      self.heap_array.append(value)\n",
        "      return True\n",
        "\n",
        "    self.heap_array.append(value)\n",
        "    return True\n",
        "\n",
        "  \n"
      ],
      "execution_count": 37,
      "outputs": []
    },
    {
      "cell_type": "code",
      "metadata": {
        "colab": {
          "base_uri": "https://localhost:8080/"
        },
        "id": "HF9lh6kylrQS",
        "outputId": "b05cf0f4-e971-4235-dba0-04f692d52d22"
      },
      "source": [
        "heap = Heap(1)\n",
        "heap.heap_array"
      ],
      "execution_count": 38,
      "outputs": [
        {
          "output_type": "execute_result",
          "data": {
            "text/plain": [
              "[None, 1]"
            ]
          },
          "metadata": {
            "tags": []
          },
          "execution_count": 38
        }
      ]
    },
    {
      "cell_type": "code",
      "metadata": {
        "id": "1ss5yX1HqAnq"
      },
      "source": [
        "#1-2 자식노드와 부모노드를 비교하여 자식노드의 값이 더 크면 바꾸기\n",
        "class Heap:\n",
        "  \n",
        "  def __init__(self, value):\n",
        "    self.heap_array = list()\n",
        "    self.heap_array.append(None) \n",
        "    self.heap_array.append(value)\n",
        "\n",
        "  def move_up(self, inserted_idx):\n",
        "\n",
        "    if inserted_idx <= 1:\n",
        "      return False\n",
        "\n",
        "    parent_idx = inserted_idx // 2\n",
        "    if self.heap_array[inserted_idx] > self.heap_array[parent_idx]:\n",
        "      return True\n",
        "    else:\n",
        "      return False\n",
        "\n",
        "  def insert(self, value):\n",
        "    if len(self.heap_array) == 0:\n",
        "      self.heap_array.append(None) \n",
        "      self.heap_array.append(value)\n",
        "      return True\n",
        "\n",
        "    self.heap_array.append(value)\n",
        "\n",
        "    inserted_idx = len(self.heap_array) - 1\n",
        "    while self.move_up(inserted_idx):\n",
        "      parent_idx = inserted_idx // 2\n",
        "      self.heap_array[inserted_idx], self.heap_array[parent_idx] = self.heap_array[parent_idx], self.heap_array[inserted_idx]\n",
        "      inserted_idx = parent_idx\n",
        "\n",
        "    return True\n"
      ],
      "execution_count": 39,
      "outputs": []
    },
    {
      "cell_type": "code",
      "metadata": {
        "colab": {
          "base_uri": "https://localhost:8080/"
        },
        "id": "6m0Xw0ynyNlE",
        "outputId": "f295cf14-13fa-4b33-9310-c2c7856df8d9"
      },
      "source": [
        "heap = Heap(15)\n",
        "heap.insert(10)\n",
        "heap.insert(8)\n",
        "heap.insert(5)\n",
        "heap.insert(4)\n"
      ],
      "execution_count": 40,
      "outputs": [
        {
          "output_type": "execute_result",
          "data": {
            "text/plain": [
              "True"
            ]
          },
          "metadata": {
            "tags": []
          },
          "execution_count": 40
        }
      ]
    },
    {
      "cell_type": "code",
      "metadata": {
        "colab": {
          "base_uri": "https://localhost:8080/"
        },
        "id": "1Pc40EnD0Krb",
        "outputId": "0a1630e7-59d8-47e2-fc03-a90d70787467"
      },
      "source": [
        "heap.heap_array"
      ],
      "execution_count": 41,
      "outputs": [
        {
          "output_type": "execute_result",
          "data": {
            "text/plain": [
              "[None, 15, 10, 8, 5, 4]"
            ]
          },
          "metadata": {
            "tags": []
          },
          "execution_count": 41
        }
      ]
    },
    {
      "cell_type": "code",
      "metadata": {
        "colab": {
          "base_uri": "https://localhost:8080/"
        },
        "id": "UAvN4JEl0Sco",
        "outputId": "eb44af1c-053b-47fc-e796-3530ee2cc000"
      },
      "source": [
        "heap.insert(20)\n"
      ],
      "execution_count": 42,
      "outputs": [
        {
          "output_type": "execute_result",
          "data": {
            "text/plain": [
              "True"
            ]
          },
          "metadata": {
            "tags": []
          },
          "execution_count": 42
        }
      ]
    },
    {
      "cell_type": "code",
      "metadata": {
        "colab": {
          "base_uri": "https://localhost:8080/"
        },
        "id": "O5YrPK-C2DH_",
        "outputId": "c00200b4-fdb6-4d44-bfb2-07fe429d42ef"
      },
      "source": [
        "heap.heap_array"
      ],
      "execution_count": 43,
      "outputs": [
        {
          "output_type": "execute_result",
          "data": {
            "text/plain": [
              "[None, 20, 10, 15, 5, 4, 8]"
            ]
          },
          "metadata": {
            "tags": []
          },
          "execution_count": 43
        }
      ]
    },
    {
      "cell_type": "markdown",
      "metadata": {
        "id": "DPz-UqWQ2Y1X"
      },
      "source": [
        "## 2.데이터 삭제\n",
        " - 2-1 맨위의 root 노드 삭제\n",
        " - 2-2 가장 늦게 추가된 데이터를 올리고 힙의 구조 다시 쌓기"
      ]
    },
    {
      "cell_type": "code",
      "metadata": {
        "id": "muDpND6P2qd3"
      },
      "source": [
        "class Heap:\n",
        "  \n",
        "  def __init__(self, value):\n",
        "    self.heap_array = list()\n",
        "    self.heap_array.append(None) \n",
        "    self.heap_array.append(value)\n",
        "\n",
        "  def move_down(self, popped_idx):\n",
        "    popped_idx_left_child = popped_idx * 2\n",
        "    popped_idx_right_child = popped_idx * 2 + 1\n",
        "\n",
        "    #case1 자식 노드가 없을때:\n",
        "    if popped_idx_left_child >= len(self.heap_array):\n",
        "      return False\n",
        "    \n",
        "    #case2 오른쪽 자식 노드만 없을때\n",
        "    elif popped_idx_right_child >= len(self.heap_array):\n",
        "      if self.heap_array[popped_idx] < self.heap_array[popped_idx_left_child]:\n",
        "        return True\n",
        "      else:\n",
        "        return False\n",
        "    \n",
        "    #case3 자식 노드가 두개 다 있을때\n",
        "    else:\n",
        "      if self.heap_array[popped_idx_left_child] > self.heap_array[popped_idx_right_child]:\n",
        "        if self.heap_array[popped_idx] < self.heap_array[popped_idx_left_child]:\n",
        "          return True\n",
        "        else:\n",
        "          return False\n",
        "\n",
        "      else:\n",
        "        if self.heap_array[popped_idx] < self.heap_array[popped_idx_right_child]:\n",
        "          return True\n",
        "        else:\n",
        "          return False\n",
        "\n",
        "\n",
        "  def pop(self):\n",
        "    #2-1\n",
        "    if len(self.heap_array) <= 1:\n",
        "      return None\n",
        "\n",
        "    returned_data = self.heap_array[1]\n",
        "    \n",
        "    #2-2\n",
        "    self.heap_array[1] = self.heap_array[-1]\n",
        "    del self.heap_array[-1]\n",
        "    popped_idx = 1\n",
        "\n",
        "    while self.move_down(popped_idx):\n",
        "      popped_idx_left_child = popped_idx * 2\n",
        "      popped_idx_right_child = popped_idx * 2 + 1\n",
        "\n",
        "      if popped_idx_right_child >= len(self.heap_array):\n",
        "        if self.heap_array[popped_idx] < self.heap_array[popped_idx_left_child]:\n",
        "          self.heap_array[popped_idx],self.heap_array[popped_idx_left_child] = self.heap_array[popped_idx_left_child], self.heap_array[popped_idx]\n",
        "          popped_idx = popped_idx_left_child\n",
        "      \n",
        "      else:\n",
        "        if self.heap_array[popped_idx_left_child] > self.heap_array[popped_idx_right_child]:\n",
        "          if self.heap_array[popped_idx] < self.heap_array[popped_idx_left_child]:\n",
        "            self.heap_array[popped_idx],self.heap_array[popped_idx_left_child] = self.heap_array[popped_idx_left_child], self.heap_array[popped_idx]\n",
        "            popped_idx = popped_idx_left_child\n",
        "        else:\n",
        "          if self.heap_array[popped_idx] > self.heap_array[popped_idx_right_child]:\n",
        "            self.heap_array[popped_idx],self.heap_array[popped_idx_right_child] = self.heap_array[popped_idx_right_child], self.heap_array[popped_idx]\n",
        "            popped_idx = popped_idx_right_child\n",
        "\n",
        "      return returned_data\n",
        "\n",
        "\n",
        "  def move_up(self, inserted_idx):\n",
        "    if inserted_idx <= 1:\n",
        "      return False\n",
        "\n",
        "    parent_idx = inserted_idx // 2\n",
        "    if self.heap_array[inserted_idx] > self.heap_array[parent_idx]:\n",
        "      return True\n",
        "    else:\n",
        "      return False\n",
        "\n",
        "  def insert(self, value):\n",
        "    if len(self.heap_array) == 0:\n",
        "      self.heap_array.append(None) \n",
        "      self.heap_array.append(value)\n",
        "      return True\n",
        "\n",
        "    self.heap_array.append(value)\n",
        "\n",
        "    inserted_idx = len(self.heap_array) - 1\n",
        "    while self.move_up(inserted_idx):\n",
        "      parent_idx = inserted_idx // 2\n",
        "      self.heap_array[inserted_idx], self.heap_array[parent_idx] = self.heap_array[parent_idx], self.heap_array[inserted_idx]\n",
        "      inserted_idx = parent_idx\n",
        "\n",
        "    return True\n",
        "    \n"
      ],
      "execution_count": 6,
      "outputs": []
    },
    {
      "cell_type": "code",
      "metadata": {
        "colab": {
          "base_uri": "https://localhost:8080/"
        },
        "id": "4_8ocvtEa52l",
        "outputId": "8ba65f2a-6191-4ef0-dc55-2521ca651e5d"
      },
      "source": [
        "heap = Heap(15)\n",
        "heap.insert(10)\n",
        "heap.insert(8)\n",
        "heap.insert(5)\n",
        "heap.insert(4)"
      ],
      "execution_count": 7,
      "outputs": [
        {
          "output_type": "execute_result",
          "data": {
            "text/plain": [
              "True"
            ]
          },
          "metadata": {
            "tags": []
          },
          "execution_count": 7
        }
      ]
    },
    {
      "cell_type": "code",
      "metadata": {
        "colab": {
          "base_uri": "https://localhost:8080/"
        },
        "id": "3MvBagUFa6jB",
        "outputId": "32344660-868e-4afd-bade-bf2e7b2249a0"
      },
      "source": [
        "heap.heap_array"
      ],
      "execution_count": 8,
      "outputs": [
        {
          "output_type": "execute_result",
          "data": {
            "text/plain": [
              "[None, 15, 10, 8, 5, 4]"
            ]
          },
          "metadata": {
            "tags": []
          },
          "execution_count": 8
        }
      ]
    },
    {
      "cell_type": "code",
      "metadata": {
        "colab": {
          "base_uri": "https://localhost:8080/"
        },
        "id": "6SDRP3Ina8Oj",
        "outputId": "65a6ef73-5759-4327-9bd0-7f78f41610d7"
      },
      "source": [
        "heap.insert(20)\n",
        "heap.heap_array"
      ],
      "execution_count": 9,
      "outputs": [
        {
          "output_type": "execute_result",
          "data": {
            "text/plain": [
              "[None, 20, 10, 15, 5, 4, 8]"
            ]
          },
          "metadata": {
            "tags": []
          },
          "execution_count": 9
        }
      ]
    },
    {
      "cell_type": "code",
      "metadata": {
        "colab": {
          "base_uri": "https://localhost:8080/"
        },
        "id": "VCc9QOlRa-kZ",
        "outputId": "15187787-040f-4719-d734-5309d194dc86"
      },
      "source": [
        "heap.pop()\n",
        "heap.heap_array\n",
        "# should be [None, 15, 10, 8, 5, 4]"
      ],
      "execution_count": 5,
      "outputs": [
        {
          "output_type": "execute_result",
          "data": {
            "text/plain": [
              "[None, 8, 10, 15, 5, 4]"
            ]
          },
          "metadata": {
            "tags": []
          },
          "execution_count": 5
        }
      ]
    }
  ]
}