{
  "nbformat": 4,
  "nbformat_minor": 0,
  "metadata": {
    "colab": {
      "name": "stack.ipynb",
      "provenance": [],
      "collapsed_sections": [],
      "authorship_tag": "ABX9TyMh/AShg4IVxlfHc11lSwYh",
      "include_colab_link": true
    },
    "kernelspec": {
      "name": "python3",
      "display_name": "Python 3"
    },
    "language_info": {
      "name": "python"
    }
  },
  "cells": [
    {
      "cell_type": "markdown",
      "metadata": {
        "id": "view-in-github",
        "colab_type": "text"
      },
      "source": [
        "<a href=\"https://colab.research.google.com/github/ckim415/Yeonny/blob/master/codingtest_prep/python/%EC%9E%90%EB%A3%8C%EA%B5%AC%EC%A1%B0/stack.ipynb\" target=\"_parent\"><img src=\"https://colab.research.google.com/assets/colab-badge.svg\" alt=\"Open In Colab\"/></a>"
      ]
    },
    {
      "cell_type": "markdown",
      "metadata": {
        "id": "T3f11nu2X6gQ"
      },
      "source": [
        "# 파이썬 리스트 기능에서 제공하는 메서드로 스택 사용해보기\n",
        " - push : append()\n",
        " - pop : pop()"
      ]
    },
    {
      "cell_type": "code",
      "metadata": {
        "colab": {
          "base_uri": "https://localhost:8080/"
        },
        "id": "8OtKoLtDX21q",
        "outputId": "b8764088-2138-4f6e-d213-8c0e3e77db4a"
      },
      "source": [
        "data_stack = []\n",
        "data_stack.append(1)\n",
        "data_stack.append(2)\n",
        "data_stack"
      ],
      "execution_count": null,
      "outputs": [
        {
          "output_type": "execute_result",
          "data": {
            "text/plain": [
              "[1, 2]"
            ]
          },
          "metadata": {
            "tags": []
          },
          "execution_count": 1
        }
      ]
    },
    {
      "cell_type": "code",
      "metadata": {
        "colab": {
          "base_uri": "https://localhost:8080/"
        },
        "id": "mjUltgAVYQ0c",
        "outputId": "2b5745a8-8692-4355-9857-0431775342b0"
      },
      "source": [
        "data_stack.pop()"
      ],
      "execution_count": null,
      "outputs": [
        {
          "output_type": "execute_result",
          "data": {
            "text/plain": [
              "2"
            ]
          },
          "metadata": {
            "tags": []
          },
          "execution_count": 2
        }
      ]
    },
    {
      "cell_type": "code",
      "metadata": {
        "colab": {
          "base_uri": "https://localhost:8080/"
        },
        "id": "5tL3pzOxYTOg",
        "outputId": "c5753f2f-98bb-4010-c115-40f81b8bb8ec"
      },
      "source": [
        "data_stack"
      ],
      "execution_count": null,
      "outputs": [
        {
          "output_type": "execute_result",
          "data": {
            "text/plain": [
              "[1]"
            ]
          },
          "metadata": {
            "tags": []
          },
          "execution_count": 3
        }
      ]
    },
    {
      "cell_type": "markdown",
      "metadata": {
        "id": "h5mcIHoVYdf7"
      },
      "source": [
        "# 프로그래밍 연습"
      ]
    },
    {
      "cell_type": "code",
      "metadata": {
        "id": "6SUVKWRZYfoF"
      },
      "source": [
        "stack_list = list()\n",
        "\n",
        "def push(data):\n",
        "  stack_list.append(data)\n",
        "\n",
        "def pop():\n",
        "  data = stack_list[-1]\n",
        "  del stack_list[-1]\n",
        "  return data\n"
      ],
      "execution_count": null,
      "outputs": []
    },
    {
      "cell_type": "code",
      "metadata": {
        "id": "iyJPUUDDZAZg"
      },
      "source": [
        "for index in range(10):\n",
        "  push(index)"
      ],
      "execution_count": null,
      "outputs": []
    },
    {
      "cell_type": "code",
      "metadata": {
        "colab": {
          "base_uri": "https://localhost:8080/"
        },
        "id": "XQa2BdPAZGry",
        "outputId": "45e4ffdc-2ac1-4d31-9576-4414e7b33db9"
      },
      "source": [
        "pop()"
      ],
      "execution_count": null,
      "outputs": [
        {
          "output_type": "execute_result",
          "data": {
            "text/plain": [
              "9"
            ]
          },
          "metadata": {
            "tags": []
          },
          "execution_count": 10
        }
      ]
    },
    {
      "cell_type": "code",
      "metadata": {
        "id": "zFIZ5RSFur7m"
      },
      "source": [
        "#class로 구현\n",
        "class Stack():\n",
        "\n",
        "  def __init__(self):\n",
        "    self.list = list()\n",
        "\n",
        "  def push(self, data):\n",
        "    self.list.append(data)\n",
        "\n",
        "  def pop(self):\n",
        "    last = self.list[-1]\n",
        "    del self.list[-1]\n",
        "    return last\n"
      ],
      "execution_count": 1,
      "outputs": []
    },
    {
      "cell_type": "code",
      "metadata": {
        "colab": {
          "base_uri": "https://localhost:8080/"
        },
        "id": "2KW4O-_HvNFL",
        "outputId": "cdfc7dd5-d705-4ba1-ce7c-101bc553fa95"
      },
      "source": [
        "stack = Stack()\n",
        "for i in range(5):\n",
        "  stack.push(i)\n",
        "  print(stack.list)"
      ],
      "execution_count": 10,
      "outputs": [
        {
          "output_type": "stream",
          "text": [
            "[0]\n",
            "[0, 1]\n",
            "[0, 1, 2]\n",
            "[0, 1, 2, 3]\n",
            "[0, 1, 2, 3, 4]\n"
          ],
          "name": "stdout"
        }
      ]
    },
    {
      "cell_type": "code",
      "metadata": {
        "colab": {
          "base_uri": "https://localhost:8080/"
        },
        "id": "XU__PnlZvg1w",
        "outputId": "caa271b3-ceb8-4a93-f488-7cec200de201"
      },
      "source": [
        "for i in range(5):\n",
        "  print(stack.pop())\n",
        "  print(stack.list)"
      ],
      "execution_count": 11,
      "outputs": [
        {
          "output_type": "stream",
          "text": [
            "4\n",
            "[0, 1, 2, 3]\n",
            "3\n",
            "[0, 1, 2]\n",
            "2\n",
            "[0, 1]\n",
            "1\n",
            "[0]\n",
            "0\n",
            "[]\n"
          ],
          "name": "stdout"
        }
      ]
    },
    {
      "cell_type": "markdown",
      "metadata": {
        "id": "_6Wf5QFhwM2-"
      },
      "source": [
        "## 스택 구조와 프로세스 스택"
      ]
    },
    {
      "cell_type": "code",
      "metadata": {
        "id": "gEtCtX4XwMd8"
      },
      "source": [
        "def recursive(data):\n",
        "  if data < 0:\n",
        "    print('ended')\n",
        "  else:\n",
        "    print(data)\n",
        "    recursive(data-1)\n",
        "    print('returned', data)"
      ],
      "execution_count": 16,
      "outputs": []
    },
    {
      "cell_type": "code",
      "metadata": {
        "colab": {
          "base_uri": "https://localhost:8080/"
        },
        "id": "yqxjTwbfwhLv",
        "outputId": "9aaac00c-e14a-473c-9ca7-3ed9dd028030"
      },
      "source": [
        "recursive(3)"
      ],
      "execution_count": 18,
      "outputs": [
        {
          "output_type": "stream",
          "text": [
            "3\n",
            "2\n",
            "1\n",
            "0\n",
            "ended\n",
            "returned 0\n",
            "returned 1\n",
            "returned 2\n",
            "returned 3\n"
          ],
          "name": "stdout"
        }
      ]
    }
  ]
}