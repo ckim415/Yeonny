{
  "nbformat": 4,
  "nbformat_minor": 0,
  "metadata": {
    "colab": {
      "name": "Queue.ipynb",
      "provenance": [],
      "authorship_tag": "ABX9TyPRYEXOuPtbwFvze58dg7yA",
      "include_colab_link": true
    },
    "kernelspec": {
      "name": "python3",
      "display_name": "Python 3"
    },
    "language_info": {
      "name": "python"
    }
  },
  "cells": [
    {
      "cell_type": "markdown",
      "metadata": {
        "id": "view-in-github",
        "colab_type": "text"
      },
      "source": [
        "<a href=\"https://colab.research.google.com/github/ckim415/Yeonny/blob/master/codingtest_prep/python/%EC%9E%90%EB%A3%8C%EA%B5%AC%EC%A1%B0/Queue.ipynb\" target=\"_parent\"><img src=\"https://colab.research.google.com/assets/colab-badge.svg\" alt=\"Open In Colab\"/></a>"
      ]
    },
    {
      "cell_type": "code",
      "metadata": {
        "id": "sf0B7lcWncZh"
      },
      "source": [
        "class Queue:\n",
        "  #First in First Out\n",
        "\n",
        "  def __init__(self):\n",
        "    self.list = list()\n",
        "\n",
        "  def put(self, data):\n",
        "    self.list.append(data)\n",
        "\n",
        "  def get(self):\n",
        "    first = self.list[0]\n",
        "    del first\n",
        "    return first\n",
        "\n",
        "  def qsize(self):\n",
        "    return len(self.list)\n",
        "\n"
      ],
      "execution_count": 53,
      "outputs": []
    },
    {
      "cell_type": "code",
      "metadata": {
        "colab": {
          "base_uri": "https://localhost:8080/"
        },
        "id": "-Y_MCii_oANw",
        "outputId": "0fe3a58b-f202-4006-b563-bf803a92b883"
      },
      "source": [
        "queue = Queue()\n",
        "for i in range(5):\n",
        "  queue.put(i)\n",
        "  print('qsize: ',queue.qsize())\n",
        "  print('queue: ',queue.list)\n",
        "  print('*'*20)"
      ],
      "execution_count": 55,
      "outputs": [
        {
          "output_type": "stream",
          "text": [
            "qsize:  1\n",
            "queue:  [0]\n",
            "********************\n",
            "qsize:  2\n",
            "queue:  [0, 1]\n",
            "********************\n",
            "qsize:  3\n",
            "queue:  [0, 1, 2]\n",
            "********************\n",
            "qsize:  4\n",
            "queue:  [0, 1, 2, 3]\n",
            "********************\n",
            "qsize:  5\n",
            "queue:  [0, 1, 2, 3, 4]\n",
            "********************\n"
          ],
          "name": "stdout"
        }
      ]
    },
    {
      "cell_type": "code",
      "metadata": {
        "colab": {
          "base_uri": "https://localhost:8080/"
        },
        "id": "kQ9c94DToT-Q",
        "outputId": "8ba03d42-b2a4-4749-8a19-48815db96f91"
      },
      "source": [
        "for i in range(5):\n",
        "  queue.get()\n",
        "  print('qsize: ',queue.qsize())"
      ],
      "execution_count": 48,
      "outputs": [
        {
          "output_type": "stream",
          "text": [
            "0 [0, 1, 2, 3, 4]\n",
            "qsize:  4\n",
            "1 [1, 2, 3, 4]\n",
            "qsize:  3\n",
            "2 [2, 3, 4]\n",
            "qsize:  2\n",
            "3 [3, 4]\n",
            "qsize:  1\n",
            "4 [4]\n",
            "qsize:  0\n"
          ],
          "name": "stdout"
        }
      ]
    }
  ]
}