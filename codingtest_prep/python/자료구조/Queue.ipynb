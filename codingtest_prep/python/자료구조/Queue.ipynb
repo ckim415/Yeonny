{
  "nbformat": 4,
  "nbformat_minor": 0,
  "metadata": {
    "colab": {
      "name": "Queue.ipynb",
      "provenance": [],
      "authorship_tag": "ABX9TyNIwa3N4Bt2ZROpzOdGR6nC",
      "include_colab_link": true
    },
    "kernelspec": {
      "name": "python3",
      "display_name": "Python 3"
    },
    "language_info": {
      "name": "python"
    }
  },
  "cells": [
    {
      "cell_type": "markdown",
      "metadata": {
        "id": "view-in-github",
        "colab_type": "text"
      },
      "source": [
        "<a href=\"https://colab.research.google.com/github/ckim415/Yeonny/blob/master/codingtest_prep/python/%EC%9E%90%EB%A3%8C%EA%B5%AC%EC%A1%B0/Queue.ipynb\" target=\"_parent\"><img src=\"https://colab.research.google.com/assets/colab-badge.svg\" alt=\"Open In Colab\"/></a>"
      ]
    },
    {
      "cell_type": "code",
      "metadata": {
        "id": "sf0B7lcWncZh"
      },
      "source": [
        "class Queue:\n",
        "  #First in First Out\n",
        "\n",
        "  def __init__(self):\n",
        "    self.list = list()\n",
        "\n",
        "  def put(self, data):\n",
        "    self.list.append(data)\n",
        "    print(data, self.list)\n",
        "\n",
        "  def get(self):\n",
        "    print(self.list[0], self.list, )\n",
        "    return self.list.pop(0)\n",
        "\n"
      ],
      "execution_count": 41,
      "outputs": []
    },
    {
      "cell_type": "code",
      "metadata": {
        "colab": {
          "base_uri": "https://localhost:8080/"
        },
        "id": "-Y_MCii_oANw",
        "outputId": "56655996-8587-4b8f-89d6-6fc8a75b9ccc"
      },
      "source": [
        "queue = Queue()\n",
        "for i in range(5):\n",
        "  queue.put(i)"
      ],
      "execution_count": 42,
      "outputs": [
        {
          "output_type": "stream",
          "text": [
            "0 [0]\n",
            "1 [0, 1]\n",
            "2 [0, 1, 2]\n",
            "3 [0, 1, 2, 3]\n",
            "4 [0, 1, 2, 3, 4]\n"
          ],
          "name": "stdout"
        }
      ]
    },
    {
      "cell_type": "code",
      "metadata": {
        "colab": {
          "base_uri": "https://localhost:8080/"
        },
        "id": "kQ9c94DToT-Q",
        "outputId": "2b0b451e-1832-4eb6-9f87-bdb75edc6cec"
      },
      "source": [
        "for i in range(5):\n",
        "  queue.get()"
      ],
      "execution_count": 43,
      "outputs": [
        {
          "output_type": "stream",
          "text": [
            "0 [0, 1, 2, 3, 4]\n",
            "1 [1, 2, 3, 4]\n",
            "2 [2, 3, 4]\n",
            "3 [3, 4]\n",
            "4 [4]\n"
          ],
          "name": "stdout"
        }
      ]
    }
  ]
}