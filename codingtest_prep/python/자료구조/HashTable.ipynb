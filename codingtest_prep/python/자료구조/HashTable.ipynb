{
  "nbformat": 4,
  "nbformat_minor": 0,
  "metadata": {
    "colab": {
      "name": "HashTable.ipynb",
      "provenance": [],
      "authorship_tag": "ABX9TyOFyYB4hGyahs9h7s0JimSc",
      "include_colab_link": true
    },
    "kernelspec": {
      "name": "python3",
      "display_name": "Python 3"
    },
    "language_info": {
      "name": "python"
    }
  },
  "cells": [
    {
      "cell_type": "markdown",
      "metadata": {
        "id": "view-in-github",
        "colab_type": "text"
      },
      "source": [
        "<a href=\"https://colab.research.google.com/github/ckim415/Yeonny/blob/master/codingtest_prep/python/%EC%9E%90%EB%A3%8C%EA%B5%AC%EC%A1%B0/HashTable.ipynb\" target=\"_parent\"><img src=\"https://colab.research.google.com/assets/colab-badge.svg\" alt=\"Open In Colab\"/></a>"
      ]
    },
    {
      "cell_type": "markdown",
      "metadata": {
        "id": "qKcPOcDtZes4"
      },
      "source": [
        "# Hash table 의 간단한 예시"
      ]
    },
    {
      "cell_type": "code",
      "metadata": {
        "colab": {
          "base_uri": "https://localhost:8080/"
        },
        "id": "DYWlfHFcZb68",
        "outputId": "381a9447-2034-4496-b776-9952dcd0c88c"
      },
      "source": [
        "#해쉬 테이블 예시\n",
        "hash_table = list([0 for i in range(10)])\n",
        "hash_table"
      ],
      "execution_count": 2,
      "outputs": [
        {
          "output_type": "execute_result",
          "data": {
            "text/plain": [
              "[0, 0, 0, 0, 0, 0, 0, 0, 0, 0]"
            ]
          },
          "metadata": {
            "tags": []
          },
          "execution_count": 2
        }
      ]
    },
    {
      "cell_type": "code",
      "metadata": {
        "id": "i9O4U7PuauIb"
      },
      "source": [
        "#해쉬 함쉬 예시\n",
        "def hash_func(key):\n",
        "  return key % 10"
      ],
      "execution_count": 17,
      "outputs": []
    },
    {
      "cell_type": "code",
      "metadata": {
        "colab": {
          "base_uri": "https://localhost:8080/"
        },
        "id": "k0-rjDlpa5tI",
        "outputId": "9997a400-7fc1-41f6-a304-546b8d1ee6f8"
      },
      "source": [
        "hash_func(10)"
      ],
      "execution_count": 6,
      "outputs": [
        {
          "output_type": "execute_result",
          "data": {
            "text/plain": [
              "0"
            ]
          },
          "metadata": {
            "tags": []
          },
          "execution_count": 6
        }
      ]
    },
    {
      "cell_type": "code",
      "metadata": {
        "colab": {
          "base_uri": "https://localhost:8080/"
        },
        "id": "NAUqHxGLa9v_",
        "outputId": "ed798662-b0ad-438e-9c08-54b8e20d25d4"
      },
      "source": [
        "#해쉬 테이블에 저장\n",
        "data1 = \"Andy\"\n",
        "data2 = 'Dave'\n",
        "data3 = 'Trump'\n",
        "\n",
        "#ord() : 문자의 ASCII코드를 리턴\n",
        "print(ord(data1[0]),hash_func(ord(data1[0])), ord(data2[0]),hash_func(ord(data2[0])), ord(data3[0]),hash_func(ord(data3[0])))\n"
      ],
      "execution_count": 16,
      "outputs": [
        {
          "output_type": "stream",
          "text": [
            "65 0 68 3 84 4\n"
          ],
          "name": "stdout"
        }
      ]
    },
    {
      "cell_type": "code",
      "metadata": {
        "id": "cbNQ2bvHbxmC"
      },
      "source": [
        "def storage_data(data, value):\n",
        "  key = ord(data[0])\n",
        "  key_address = hash_func(key)\n",
        "  hash_table[key_address] = value"
      ],
      "execution_count": 9,
      "outputs": []
    },
    {
      "cell_type": "code",
      "metadata": {
        "id": "iwsMZ8ngcCzi"
      },
      "source": [
        "storage_data(data1, '012345')\n",
        "storage_data(data2, '678910')\n",
        "storage_data(data2, '345678')"
      ],
      "execution_count": 10,
      "outputs": []
    },
    {
      "cell_type": "code",
      "metadata": {
        "id": "LkCvnHBPcRFm"
      },
      "source": [
        "def get_data(data):\n",
        "  key = ord(data[0])\n",
        "  key_address = hash_func(key)\n",
        "  return hash_table[key_address]"
      ],
      "execution_count": 11,
      "outputs": []
    },
    {
      "cell_type": "code",
      "metadata": {
        "colab": {
          "base_uri": "https://localhost:8080/",
          "height": 35
        },
        "id": "aJ4LQdE3ca9G",
        "outputId": "7be52f21-5750-43f5-9d6d-8a9a51f888df"
      },
      "source": [
        "get_data(data1)"
      ],
      "execution_count": 12,
      "outputs": [
        {
          "output_type": "execute_result",
          "data": {
            "application/vnd.google.colaboratory.intrinsic+json": {
              "type": "string"
            },
            "text/plain": [
              "'012345'"
            ]
          },
          "metadata": {
            "tags": []
          },
          "execution_count": 12
        }
      ]
    },
    {
      "cell_type": "code",
      "metadata": {
        "colab": {
          "base_uri": "https://localhost:8080/"
        },
        "id": "ID8j59q5gxba",
        "outputId": "15c56e46-72a7-4c75-f27f-9e107e6344fd"
      },
      "source": [
        "hash_table"
      ],
      "execution_count": 13,
      "outputs": [
        {
          "output_type": "execute_result",
          "data": {
            "text/plain": [
              "[0, 0, 0, 0, 0, '012345', 0, 0, '345678', 0]"
            ]
          },
          "metadata": {
            "tags": []
          },
          "execution_count": 13
        }
      ]
    }
  ]
}