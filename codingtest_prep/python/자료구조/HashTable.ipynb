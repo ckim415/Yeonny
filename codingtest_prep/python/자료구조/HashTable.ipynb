{
  "nbformat": 4,
  "nbformat_minor": 0,
  "metadata": {
    "colab": {
      "name": "HashTable.ipynb",
      "provenance": [],
      "authorship_tag": "ABX9TyPrbAolbK+zwGN1b9XFKy4G",
      "include_colab_link": true
    },
    "kernelspec": {
      "name": "python3",
      "display_name": "Python 3"
    },
    "language_info": {
      "name": "python"
    }
  },
  "cells": [
    {
      "cell_type": "markdown",
      "metadata": {
        "id": "view-in-github",
        "colab_type": "text"
      },
      "source": [
        "<a href=\"https://colab.research.google.com/github/ckim415/Yeonny/blob/master/codingtest_prep/python/%EC%9E%90%EB%A3%8C%EA%B5%AC%EC%A1%B0/HashTable.ipynb\" target=\"_parent\"><img src=\"https://colab.research.google.com/assets/colab-badge.svg\" alt=\"Open In Colab\"/></a>"
      ]
    },
    {
      "cell_type": "markdown",
      "metadata": {
        "id": "qKcPOcDtZes4"
      },
      "source": [
        "# Hash table 의 간단한 예시"
      ]
    },
    {
      "cell_type": "code",
      "metadata": {
        "colab": {
          "base_uri": "https://localhost:8080/"
        },
        "id": "DYWlfHFcZb68",
        "outputId": "381a9447-2034-4496-b776-9952dcd0c88c"
      },
      "source": [
        "#해쉬 테이블 예시\n",
        "hash_table = list([0 for i in range(10)])\n",
        "hash_table"
      ],
      "execution_count": null,
      "outputs": [
        {
          "output_type": "execute_result",
          "data": {
            "text/plain": [
              "[0, 0, 0, 0, 0, 0, 0, 0, 0, 0]"
            ]
          },
          "metadata": {
            "tags": []
          },
          "execution_count": 2
        }
      ]
    },
    {
      "cell_type": "code",
      "metadata": {
        "id": "i9O4U7PuauIb"
      },
      "source": [
        "#해쉬 함쉬 예시\n",
        "def hash_func(key):\n",
        "  return key % 10"
      ],
      "execution_count": null,
      "outputs": []
    },
    {
      "cell_type": "code",
      "metadata": {
        "colab": {
          "base_uri": "https://localhost:8080/"
        },
        "id": "k0-rjDlpa5tI",
        "outputId": "9997a400-7fc1-41f6-a304-546b8d1ee6f8"
      },
      "source": [
        "hash_func(10)"
      ],
      "execution_count": null,
      "outputs": [
        {
          "output_type": "execute_result",
          "data": {
            "text/plain": [
              "0"
            ]
          },
          "metadata": {
            "tags": []
          },
          "execution_count": 6
        }
      ]
    },
    {
      "cell_type": "code",
      "metadata": {
        "colab": {
          "base_uri": "https://localhost:8080/"
        },
        "id": "NAUqHxGLa9v_",
        "outputId": "ed798662-b0ad-438e-9c08-54b8e20d25d4"
      },
      "source": [
        "#해쉬 테이블에 저장\n",
        "data1 = \"Andy\"\n",
        "data2 = 'Dave'\n",
        "data3 = 'Trump'\n",
        "\n",
        "#ord() : 문자의 ASCII코드를 리턴\n",
        "print(ord(data1[0]),hash_func(ord(data1[0])), ord(data2[0]),hash_func(ord(data2[0])), ord(data3[0]),hash_func(ord(data3[0])))\n"
      ],
      "execution_count": null,
      "outputs": [
        {
          "output_type": "stream",
          "text": [
            "65 0 68 3 84 4\n"
          ],
          "name": "stdout"
        }
      ]
    },
    {
      "cell_type": "code",
      "metadata": {
        "id": "cbNQ2bvHbxmC"
      },
      "source": [
        "def storage_data(data, value):\n",
        "  key = ord(data[0])\n",
        "  key_address = hash_func(key)\n",
        "  hash_table[key_address] = value"
      ],
      "execution_count": null,
      "outputs": []
    },
    {
      "cell_type": "code",
      "metadata": {
        "id": "iwsMZ8ngcCzi"
      },
      "source": [
        "storage_data(data1, '012345')\n",
        "storage_data(data2, '678910')\n",
        "storage_data(data2, '345678')"
      ],
      "execution_count": null,
      "outputs": []
    },
    {
      "cell_type": "code",
      "metadata": {
        "id": "LkCvnHBPcRFm"
      },
      "source": [
        "def get_data(data):\n",
        "  key = ord(data[0])\n",
        "  key_address = hash_func(key)\n",
        "  return hash_table[key_address]"
      ],
      "execution_count": null,
      "outputs": []
    },
    {
      "cell_type": "code",
      "metadata": {
        "colab": {
          "base_uri": "https://localhost:8080/",
          "height": 35
        },
        "id": "aJ4LQdE3ca9G",
        "outputId": "7be52f21-5750-43f5-9d6d-8a9a51f888df"
      },
      "source": [
        "get_data(data1)"
      ],
      "execution_count": null,
      "outputs": [
        {
          "output_type": "execute_result",
          "data": {
            "application/vnd.google.colaboratory.intrinsic+json": {
              "type": "string"
            },
            "text/plain": [
              "'012345'"
            ]
          },
          "metadata": {
            "tags": []
          },
          "execution_count": 12
        }
      ]
    },
    {
      "cell_type": "code",
      "metadata": {
        "colab": {
          "base_uri": "https://localhost:8080/"
        },
        "id": "ID8j59q5gxba",
        "outputId": "15c56e46-72a7-4c75-f27f-9e107e6344fd"
      },
      "source": [
        "hash_table"
      ],
      "execution_count": null,
      "outputs": [
        {
          "output_type": "execute_result",
          "data": {
            "text/plain": [
              "[0, 0, 0, 0, 0, '012345', 0, 0, '345678', 0]"
            ]
          },
          "metadata": {
            "tags": []
          },
          "execution_count": 13
        }
      ]
    },
    {
      "cell_type": "markdown",
      "metadata": {
        "id": "wrbl-1AluCN4"
      },
      "source": [
        "# 프로그래밍 연습"
      ]
    },
    {
      "cell_type": "code",
      "metadata": {
        "id": "CZI_xcQEuO24",
        "outputId": "014db2f7-d3b4-4836-8342-6c844e3da41b",
        "colab": {
          "base_uri": "https://localhost:8080/"
        }
      },
      "source": [
        "hash(10)"
      ],
      "execution_count": 1,
      "outputs": [
        {
          "output_type": "execute_result",
          "data": {
            "text/plain": [
              "10"
            ]
          },
          "metadata": {
            "tags": []
          },
          "execution_count": 1
        }
      ]
    },
    {
      "cell_type": "code",
      "metadata": {
        "id": "lcP-SCAJuBt1"
      },
      "source": [
        "hash_table = list([0 for i in range(8)])\n",
        "\n",
        "def get_key(data):\n",
        "  return hash(data)\n",
        "\n",
        "def hash_function(key):\n",
        "  return key % 8\n",
        "\n",
        "def save_data(data, value):\n",
        "  hash_address = hash_function(get_key(data))\n",
        "  hash_table[hash_address] = value\n",
        "\n",
        "def read_data(data):\n",
        "  hash_address = hash_function(get_key(data))\n",
        "  return hash_table[hash_address]"
      ],
      "execution_count": 2,
      "outputs": []
    },
    {
      "cell_type": "code",
      "metadata": {
        "id": "QyNHsLbw1I0G",
        "outputId": "e43a8b18-7ddc-4b39-b673-8a7f8cb890b2",
        "colab": {
          "base_uri": "https://localhost:8080/"
        }
      },
      "source": [
        "get_key('dave')"
      ],
      "execution_count": 6,
      "outputs": [
        {
          "output_type": "execute_result",
          "data": {
            "text/plain": [
              "4306190630600598682"
            ]
          },
          "metadata": {
            "tags": []
          },
          "execution_count": 6
        }
      ]
    },
    {
      "cell_type": "code",
      "metadata": {
        "id": "9v39_Uyw028V"
      },
      "source": [
        "save_data('dave','123')\n",
        "save_data('amy','456')"
      ],
      "execution_count": 3,
      "outputs": []
    },
    {
      "cell_type": "code",
      "metadata": {
        "id": "JzrULP0I0-HW",
        "outputId": "a5afe707-92ab-40c3-bd85-24e92d208b6a",
        "colab": {
          "base_uri": "https://localhost:8080/",
          "height": 35
        }
      },
      "source": [
        "read_data('dave')"
      ],
      "execution_count": 4,
      "outputs": [
        {
          "output_type": "execute_result",
          "data": {
            "application/vnd.google.colaboratory.intrinsic+json": {
              "type": "string"
            },
            "text/plain": [
              "'123'"
            ]
          },
          "metadata": {
            "tags": []
          },
          "execution_count": 4
        }
      ]
    },
    {
      "cell_type": "code",
      "metadata": {
        "id": "n2XHBjEA1Bt4",
        "outputId": "489d0755-7d07-4941-9f16-9fae00d9db36",
        "colab": {
          "base_uri": "https://localhost:8080/"
        }
      },
      "source": [
        "hash_table"
      ],
      "execution_count": 5,
      "outputs": [
        {
          "output_type": "execute_result",
          "data": {
            "text/plain": [
              "[0, 0, '123', 0, '456', 0, 0, 0]"
            ]
          },
          "metadata": {
            "tags": []
          },
          "execution_count": 5
        }
      ]
    },
    {
      "cell_type": "markdown",
      "metadata": {
        "id": "xC1hTbE15R4l"
      },
      "source": [
        "# 충돌해결 방법\n",
        "1. chaining 기법\n",
        "2. linear probing"
      ]
    },
    {
      "cell_type": "markdown",
      "metadata": {
        "id": "gnvF7-f85aVM"
      },
      "source": [
        "## chaining\n",
        " - open chaining 기법 : 링크드 리스트로 연결\n",
        " - 위에 코드에 chaining 기법으로 충돌 해결하기"
      ]
    },
    {
      "cell_type": "code",
      "metadata": {
        "id": "OEXroYYZ5uIb"
      },
      "source": [
        "hash_table = list([0 for i in range(8)])\n",
        "\n",
        "def get_key(data):\n",
        "  return hash(data) # return number\n",
        "\n",
        "def hash_function(key):\n",
        "  return key % 8 \n",
        "  # dict의 index처럼 \n",
        "\n",
        "def save_data(data, value):\n",
        "  index_key = get_key(data)\n",
        "  hash_address = hash_function(index_key)\n",
        "  if hash_table[hash_address] != 0:   #해쉬테이블의 인덱스값에 벨류가 있다면,\n",
        "    for index in range(len(hash_table[hash_address])):\n",
        "      if hash_table[hash_address][index][0] == index_key:\n",
        "        hash_table[hash_address][index][1] = value\n",
        "        return\n",
        "\n",
        "    hash_table[hash_address].append([index_key, value]) \n",
        "\n",
        "  else:\n",
        "    hash_table[hash_address] = [[index_key,value]]\n",
        "\n",
        "def read_data(data):\n",
        "  index_key = get_key(data)\n",
        "  hash_address = hash_function(index_key)\n",
        "  if hash_table[hash_address] != 0:\n",
        "    for index in range(len(hash_table[hash_address])):\n",
        "      if hash_table[hash_address][index][0] == index_key:\n",
        "        return hash_table[hash_address][index][1]\n",
        "\n",
        "    return None\n",
        "\n",
        "  else:\n",
        "    return None"
      ],
      "execution_count": 20,
      "outputs": []
    },
    {
      "cell_type": "code",
      "metadata": {
        "id": "NVUBmCZM-ppK",
        "outputId": "b9187b2d-9262-426a-d54d-b2116bad98f1",
        "colab": {
          "base_uri": "https://localhost:8080/"
        }
      },
      "source": [
        "hash_table"
      ],
      "execution_count": 21,
      "outputs": [
        {
          "output_type": "execute_result",
          "data": {
            "text/plain": [
              "[0, 0, 0, 0, 0, 0, 0, 0]"
            ]
          },
          "metadata": {
            "tags": []
          },
          "execution_count": 21
        }
      ]
    },
    {
      "cell_type": "code",
      "metadata": {
        "id": "efmruIM1-MJ8",
        "outputId": "878a20e0-6a6a-4cd6-bbfb-4e2627573beb",
        "colab": {
          "base_uri": "https://localhost:8080/"
        }
      },
      "source": [
        "print(hash('Dave') % 8)\n",
        "print(hash('Dd') % 8)\n",
        "print(hash('Data') % 8)"
      ],
      "execution_count": 8,
      "outputs": [
        {
          "output_type": "stream",
          "text": [
            "2\n",
            "4\n",
            "2\n"
          ],
          "name": "stdout"
        }
      ]
    },
    {
      "cell_type": "code",
      "metadata": {
        "id": "Oq8V8Mkn-ZGz"
      },
      "source": [
        "save_data('Dave', '0123')\n",
        "save_data('Data', '4567')"
      ],
      "execution_count": 22,
      "outputs": []
    },
    {
      "cell_type": "code",
      "metadata": {
        "id": "C8aHsPYd-h3C",
        "outputId": "6a347ea6-a791-4426-d7b8-597ab9a54239",
        "colab": {
          "base_uri": "https://localhost:8080/",
          "height": 35
        }
      },
      "source": [
        "read_data('Dave')"
      ],
      "execution_count": 23,
      "outputs": [
        {
          "output_type": "execute_result",
          "data": {
            "application/vnd.google.colaboratory.intrinsic+json": {
              "type": "string"
            },
            "text/plain": [
              "'0123'"
            ]
          },
          "metadata": {
            "tags": []
          },
          "execution_count": 23
        }
      ]
    },
    {
      "cell_type": "code",
      "metadata": {
        "id": "jf0WfEJu-lI5",
        "outputId": "9542581b-2db3-4218-94cc-4140a656ac28",
        "colab": {
          "base_uri": "https://localhost:8080/"
        }
      },
      "source": [
        "hash_table"
      ],
      "execution_count": 24,
      "outputs": [
        {
          "output_type": "execute_result",
          "data": {
            "text/plain": [
              "[0,\n",
              " 0,\n",
              " [[-7076179377891225726, '0123'], [6382321846764623882, '4567']],\n",
              " 0,\n",
              " 0,\n",
              " 0,\n",
              " 0,\n",
              " 0]"
            ]
          },
          "metadata": {
            "tags": []
          },
          "execution_count": 24
        }
      ]
    },
    {
      "cell_type": "markdown",
      "metadata": {
        "id": "VziSGFTI_V8S"
      },
      "source": [
        "## linear probing\n",
        "- 비어있는 인덱스에 데이터 추가\n",
        "- 저장 공간의 효율성이 좋다"
      ]
    },
    {
      "cell_type": "code",
      "metadata": {
        "id": "mHu7-n3V_inn"
      },
      "source": [
        "hash_table = list([0 for i in range(8)])\n",
        "\n",
        "def get_key(data):\n",
        "  return hash(data) # return number\n",
        "\n",
        "def hash_function(key):\n",
        "  return key % 8 \n",
        "  # dict의 index처럼 \n",
        "\n",
        "def save_data(data, value):\n",
        "  index_key = get_key(data)\n",
        "  hash_address = hash_function(index_key)\n",
        "  if hash_table[hash_address] != 0:   #해쉬테이블의 인덱스값에 벨류가 있다면,\n",
        "    for index in range(hash_address, len(hash_table))):\n",
        "      if hash_table[index] == 0:\n",
        "        hash_table[index] = [hash_address, value]\n",
        "        return \n",
        "\n",
        "      elif hash_table[index][0] == index_key:\n",
        "        hash_table[index][1] = value\n",
        "        return\n",
        "\n",
        "  else:\n",
        "    hash_table[hash_address] = [index_key,value]\n",
        "\n",
        "def read_data(data):\n",
        "  index_key = get_key(data)\n",
        "  hash_address = hash_function(index_key)\n",
        "  if hash_table[hash_address] != 0:\n",
        "    for index in range(hash_address, len(hash_table)):\n",
        "      if hash_table[index] == 0:\n",
        "        return None\n",
        "      \n",
        "      elif hash_table[index] == index_key:\n",
        "        return hash_table[index][1]\n",
        "\n",
        "  else:\n",
        "    return None"
      ],
      "execution_count": null,
      "outputs": []
    }
  ]
}