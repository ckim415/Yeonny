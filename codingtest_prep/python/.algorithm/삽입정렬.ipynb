{
  "nbformat": 4,
  "nbformat_minor": 0,
  "metadata": {
    "colab": {
      "name": "삽입정렬.ipynb",
      "provenance": [],
      "authorship_tag": "ABX9TyOOgFfU0w0Bvm+NYG/fvm//",
      "include_colab_link": true
    },
    "kernelspec": {
      "name": "python3",
      "display_name": "Python 3"
    },
    "language_info": {
      "name": "python"
    }
  },
  "cells": [
    {
      "cell_type": "markdown",
      "metadata": {
        "id": "view-in-github",
        "colab_type": "text"
      },
      "source": [
        "<a href=\"https://colab.research.google.com/github/ckim415/Yeonny/blob/master/codingtest_prep/python/.algorithm/%EC%82%BD%EC%9E%85%EC%A0%95%EB%A0%AC.ipynb\" target=\"_parent\"><img src=\"https://colab.research.google.com/assets/colab-badge.svg\" alt=\"Open In Colab\"/></a>"
      ]
    },
    {
      "cell_type": "markdown",
      "metadata": {
        "id": "SBsH0-lX8TNw"
      },
      "source": [
        "#파이썬으로 구현"
      ]
    },
    {
      "cell_type": "code",
      "metadata": {
        "id": "-FB5VUWM8Pf-"
      },
      "source": [
        "def insert_sort(data):\n",
        "\n",
        "  for index in range(len(data)-1):\n",
        "    for index2 in range(index+1, 0, -1):\n",
        "      if data[index2] < data[index2-1]:\n",
        "        data[index2], data[index2-1] = data[index2-1], data[index2]\n",
        "      else:\n",
        "        break\n",
        "\n",
        "  return data"
      ],
      "execution_count": 14,
      "outputs": []
    },
    {
      "cell_type": "code",
      "metadata": {
        "colab": {
          "base_uri": "https://localhost:8080/"
        },
        "id": "wtdMt9FD8vQ9",
        "outputId": "e4a4a056-719c-4863-b900-ce45c7765d40"
      },
      "source": [
        "import random\n",
        "sample_data = random.sample(range(100), 20)\n",
        "sample_data"
      ],
      "execution_count": 15,
      "outputs": [
        {
          "output_type": "execute_result",
          "data": {
            "text/plain": [
              "[18, 87, 12, 15, 54, 11, 41, 14, 53, 42, 63, 93, 40, 71, 2, 62, 49, 81, 90, 30]"
            ]
          },
          "metadata": {
            "tags": []
          },
          "execution_count": 15
        }
      ]
    },
    {
      "cell_type": "code",
      "metadata": {
        "colab": {
          "base_uri": "https://localhost:8080/"
        },
        "id": "JGXGD-Lj854R",
        "outputId": "de6248e9-f7c9-4c82-bd36-428ccba66416"
      },
      "source": [
        "insert_sort(sample_data)"
      ],
      "execution_count": 16,
      "outputs": [
        {
          "output_type": "execute_result",
          "data": {
            "text/plain": [
              "[2, 11, 12, 14, 15, 18, 30, 40, 41, 42, 49, 53, 54, 62, 63, 71, 81, 87, 90, 93]"
            ]
          },
          "metadata": {
            "tags": []
          },
          "execution_count": 16
        }
      ]
    },
    {
      "cell_type": "code",
      "metadata": {
        "id": "kKAKC3Pf_uaD"
      },
      "source": [
        "for i in range(20):\n"
      ],
      "execution_count": null,
      "outputs": []
    }
  ]
}