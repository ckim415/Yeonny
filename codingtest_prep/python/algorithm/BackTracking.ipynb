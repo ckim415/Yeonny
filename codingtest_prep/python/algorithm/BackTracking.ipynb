{
  "nbformat": 4,
  "nbformat_minor": 0,
  "metadata": {
    "colab": {
      "name": "BackTracking.ipynb",
      "provenance": [],
      "authorship_tag": "ABX9TyPeFGOkzw1v3ZdzvfW/mN5H",
      "include_colab_link": true
    },
    "kernelspec": {
      "name": "python3",
      "display_name": "Python 3"
    },
    "language_info": {
      "name": "python"
    }
  },
  "cells": [
    {
      "cell_type": "markdown",
      "metadata": {
        "id": "view-in-github",
        "colab_type": "text"
      },
      "source": [
        "<a href=\"https://colab.research.google.com/github/ckim415/Yeonny/blob/master/codingtest_prep/python/algorithm/BackTracking.ipynb\" target=\"_parent\"><img src=\"https://colab.research.google.com/assets/colab-badge.svg\" alt=\"Open In Colab\"/></a>"
      ]
    },
    {
      "cell_type": "markdown",
      "metadata": {
        "id": "8C6cENFrpMaa"
      },
      "source": [
        "# 코드로 구현"
      ]
    },
    {
      "cell_type": "code",
      "metadata": {
        "id": "2E7VQasqpItE"
      },
      "source": [
        "def is_available(candidate, current_col):\n",
        "  current_row = len(candidate)\n",
        "  for queen_row in range(current_row):\n",
        "    if candidate[queen_row] == current_col or abs(candidate[queen_row] - current_col) == current_row - queen_row:\n",
        "      return False\n",
        "  return True\n",
        "\n",
        "\n",
        "def DFS(N, current_row, current_candidate, final_result):\n",
        "  if current_row == N:\n",
        "    final_result.append(current_candidate[:])\n",
        "    return\n",
        "\n",
        "  for candidate_col in range(N):\n",
        "    if is_available(current_candidate, candidate_col):\n",
        "      current_candidate.append(candidate_col)\n",
        "      DFS(N, current_row+1, current_candidate, final_result)\n",
        "      current_candidate.pop()\n",
        "\n",
        "def n_queens(N):\n",
        "  final_result = []\n",
        "  DFS(N, 0, [], final_result)\n",
        "  return final_result"
      ],
      "execution_count": 2,
      "outputs": []
    },
    {
      "cell_type": "code",
      "metadata": {
        "colab": {
          "base_uri": "https://localhost:8080/"
        },
        "id": "QsnMpHHDr6ag",
        "outputId": "9c0e6b21-b759-4740-baef-bcfae1ebe109"
      },
      "source": [
        "n_queens(4)"
      ],
      "execution_count": 3,
      "outputs": [
        {
          "output_type": "execute_result",
          "data": {
            "text/plain": [
              "[[1, 3, 0, 2], [2, 0, 3, 1]]"
            ]
          },
          "metadata": {
            "tags": []
          },
          "execution_count": 3
        }
      ]
    }
  ]
}