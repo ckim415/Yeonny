{
  "nbformat": 4,
  "nbformat_minor": 0,
  "metadata": {
    "colab": {
      "name": "선택정렬.ipynb",
      "provenance": [],
      "authorship_tag": "ABX9TyO2UXxizvutWfzk36v/kYRD",
      "include_colab_link": true
    },
    "kernelspec": {
      "name": "python3",
      "display_name": "Python 3"
    },
    "language_info": {
      "name": "python"
    }
  },
  "cells": [
    {
      "cell_type": "markdown",
      "metadata": {
        "id": "view-in-github",
        "colab_type": "text"
      },
      "source": [
        "<a href=\"https://colab.research.google.com/github/ckim415/Yeonny/blob/master/codingtest_prep/python/algorithm/%EC%84%A0%ED%83%9D%EC%A0%95%EB%A0%AC.ipynb\" target=\"_parent\"><img src=\"https://colab.research.google.com/assets/colab-badge.svg\" alt=\"Open In Colab\"/></a>"
      ]
    },
    {
      "cell_type": "markdown",
      "metadata": {
        "id": "T1LfhADtEtfB"
      },
      "source": [
        "# 코드로 구현"
      ]
    },
    {
      "cell_type": "code",
      "metadata": {
        "id": "rQatEgNRErtH"
      },
      "source": [
        "def selection_sort(data):\n",
        "\n",
        "  for index in range(len(data)-1):\n",
        "    lowest = index\n",
        "\n",
        "    for index2 in range(index+1, len(data)):\n",
        "      if data[lowest] > data[index2]:\n",
        "        lowest = index2\n",
        "    \n",
        "    data[lowest], data[index] = data[index], data[lowest]\n",
        "\n",
        "  return data"
      ],
      "execution_count": 1,
      "outputs": []
    },
    {
      "cell_type": "code",
      "metadata": {
        "colab": {
          "base_uri": "https://localhost:8080/"
        },
        "id": "LvlwMNABFHoV",
        "outputId": "291e67d6-f7e4-4372-f0a3-4347476e4556"
      },
      "source": [
        "import random\n",
        "data_list = random.sample(range(100), 20)\n",
        "data_list"
      ],
      "execution_count": 2,
      "outputs": [
        {
          "output_type": "execute_result",
          "data": {
            "text/plain": [
              "[73, 31, 85, 32, 88, 52, 75, 29, 35, 68, 24, 17, 42, 86, 40, 9, 3, 57, 5, 64]"
            ]
          },
          "metadata": {
            "tags": []
          },
          "execution_count": 2
        }
      ]
    },
    {
      "cell_type": "code",
      "metadata": {
        "colab": {
          "base_uri": "https://localhost:8080/"
        },
        "id": "NLkW9Qr7FPF8",
        "outputId": "0e51646b-59e6-4b0d-e7c0-6c33a70f96a3"
      },
      "source": [
        "selection_sort(data_list)"
      ],
      "execution_count": 3,
      "outputs": [
        {
          "output_type": "execute_result",
          "data": {
            "text/plain": [
              "[3, 5, 9, 17, 24, 29, 31, 32, 35, 40, 42, 52, 57, 64, 68, 73, 75, 85, 86, 88]"
            ]
          },
          "metadata": {
            "tags": []
          },
          "execution_count": 3
        }
      ]
    }
  ]
}