{
  "nbformat": 4,
  "nbformat_minor": 0,
  "metadata": {
    "colab": {
      "name": "greedy.ipynb",
      "provenance": [],
      "authorship_tag": "ABX9TyMpG9+Gy91HYEqJZwL+AIde",
      "include_colab_link": true
    },
    "kernelspec": {
      "name": "python3",
      "display_name": "Python 3"
    },
    "language_info": {
      "name": "python"
    }
  },
  "cells": [
    {
      "cell_type": "markdown",
      "metadata": {
        "id": "view-in-github",
        "colab_type": "text"
      },
      "source": [
        "<a href=\"https://colab.research.google.com/github/ckim415/Yeonny/blob/master/codingtest_prep/python/algorithm/greedy.ipynb\" target=\"_parent\"><img src=\"https://colab.research.google.com/assets/colab-badge.svg\" alt=\"Open In Colab\"/></a>"
      ]
    },
    {
      "cell_type": "markdown",
      "metadata": {
        "id": "jlZmFAjsRt2W"
      },
      "source": [
        "# 파이썬으로 구현"
      ]
    },
    {
      "cell_type": "markdown",
      "metadata": {
        "id": "dMlNce5HUbRa"
      },
      "source": [
        "## 동전문제"
      ]
    },
    {
      "cell_type": "code",
      "metadata": {
        "id": "fMcO57uprX0l"
      },
      "source": [
        "coin_list = [500,100,50,1]\n",
        "def min_coin_count(value, coin_list):\n",
        "  total_coin_count = 0\n",
        "  details = list()\n",
        "  coin_list.sort(reverse=True)\n",
        "\n",
        "  for coin in coin_list:\n",
        "    coin_num = value // coin\n",
        "    total_coin_count += coin_num\n",
        "    value -= coin_num * coin\n",
        "    details.append([coin, coin_num])\n",
        "\n",
        "  return details "
      ],
      "execution_count": null,
      "outputs": []
    },
    {
      "cell_type": "code",
      "metadata": {
        "colab": {
          "base_uri": "https://localhost:8080/"
        },
        "id": "slbfe1QqsC6m",
        "outputId": "8e2f1a39-209b-4bb4-8dad-8bb646f57eb7"
      },
      "source": [
        "min_coin_count(4720, coin_list)"
      ],
      "execution_count": null,
      "outputs": [
        {
          "output_type": "execute_result",
          "data": {
            "text/plain": [
              "[[500, 9], [100, 2], [50, 0], [1, 20]]"
            ]
          },
          "metadata": {
            "tags": []
          },
          "execution_count": 5
        }
      ]
    },
    {
      "cell_type": "markdown",
      "metadata": {
        "id": "nuDm0EusUc4t"
      },
      "source": [
        "## fractional knapsack "
      ]
    },
    {
      "cell_type": "code",
      "metadata": {
        "colab": {
          "base_uri": "https://localhost:8080/"
        },
        "id": "atuyTIYiUgI9",
        "outputId": "8e08367f-fc83-4996-d6bb-a0af3d6a2ff4"
      },
      "source": [
        "data_list = [(10,10), (15,12), (20,10), (25,8), (30,5)]\n",
        "data_list = sorted(data_list, key = lambda x : x[1]/x[0], reverse=True)\n",
        "data_list"
      ],
      "execution_count": 1,
      "outputs": [
        {
          "output_type": "execute_result",
          "data": {
            "text/plain": [
              "[(10, 10), (15, 12), (20, 10), (25, 8), (30, 5)]"
            ]
          },
          "metadata": {
            "tags": []
          },
          "execution_count": 1
        }
      ]
    },
    {
      "cell_type": "code",
      "metadata": {
        "id": "fUk2DOajYgVa"
      },
      "source": [
        "def get_max_value(data_list, capacity):\n",
        "\n",
        "  data_list = sorted(data_list, key = lambda x : x[1]/x[0], reverse=True)\n",
        "  total_value = 0\n",
        "  details = []\n",
        "\n",
        "  for data in data_list:\n",
        "    if capacity - data[0] >= 0:\n",
        "      capacity -= data[0]\n",
        "      total_value += data[1]\n",
        "      details.append([data[0],data[1],1])\n",
        "    else:\n",
        "      fraction = capacity / data[0]\n",
        "      total_value += data[1] * fraction\n",
        "      details.append([data[0],data[1],fraction])\n",
        "      break\n",
        "  \n",
        "  return total_value, details\n",
        "  \n"
      ],
      "execution_count": 2,
      "outputs": []
    },
    {
      "cell_type": "code",
      "metadata": {
        "colab": {
          "base_uri": "https://localhost:8080/"
        },
        "id": "VCP0Huc_Zxrg",
        "outputId": "11f8aa6a-23fa-498b-f990-2bd211a2a13e"
      },
      "source": [
        "get_max_value(data_list, 50)"
      ],
      "execution_count": 3,
      "outputs": [
        {
          "output_type": "execute_result",
          "data": {
            "text/plain": [
              "(33.6, [[10, 10, 1], [15, 12, 1], [20, 10, 1], [25, 8, 0.2]])"
            ]
          },
          "metadata": {
            "tags": []
          },
          "execution_count": 3
        }
      ]
    },
    {
      "cell_type": "code",
      "metadata": {
        "colab": {
          "base_uri": "https://localhost:8080/"
        },
        "id": "NpR-J1QiZ5NK",
        "outputId": "9f5f4f0f-b322-45d1-c4d7-16ff2757f2f4"
      },
      "source": [
        "get_max_value(data_list, 30)"
      ],
      "execution_count": 4,
      "outputs": [
        {
          "output_type": "execute_result",
          "data": {
            "text/plain": [
              "(24.5, [[10, 10, 1], [15, 12, 1], [20, 10, 0.25]])"
            ]
          },
          "metadata": {
            "tags": []
          },
          "execution_count": 4
        }
      ]
    }
  ]
}