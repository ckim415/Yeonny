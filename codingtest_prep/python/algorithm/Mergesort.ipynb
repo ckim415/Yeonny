{
  "nbformat": 4,
  "nbformat_minor": 0,
  "metadata": {
    "colab": {
      "name": "Mergesort.ipynb",
      "provenance": [],
      "authorship_tag": "ABX9TyPurf3Pakf0cEYdXxW8HL9W",
      "include_colab_link": true
    },
    "kernelspec": {
      "name": "python3",
      "display_name": "Python 3"
    },
    "language_info": {
      "name": "python"
    }
  },
  "cells": [
    {
      "cell_type": "markdown",
      "metadata": {
        "id": "view-in-github",
        "colab_type": "text"
      },
      "source": [
        "<a href=\"https://colab.research.google.com/github/ckim415/Yeonny/blob/master/codingtest_prep/python/algorithm/Mergesort.ipynb\" target=\"_parent\"><img src=\"https://colab.research.google.com/assets/colab-badge.svg\" alt=\"Open In Colab\"/></a>"
      ]
    },
    {
      "cell_type": "markdown",
      "metadata": {
        "id": "r5vctZqwI2UJ"
      },
      "source": [
        "# 파이썬 코드로 구현\n",
        " - 함수 2개 필요\n",
        "  - split\n",
        "  - merge\n",
        "\n",
        "  \n",
        "\n",
        "```\n",
        "# split\n",
        "def split(data):\n",
        "  if len(data)<=1:\n",
        "    return data\n",
        "\n",
        "  left = data[:len(data)/2]\n",
        "  right = data[len(data)/2:]\n",
        "  return merge(split(left), split(right))\n",
        "```\n",
        "\n",
        "\n",
        "\n",
        "```\n",
        "# merge\n",
        "def merge(left, right):\n",
        "  if len(left) < len(right):\n",
        "    list.append(left[lp]) lp += 1\n",
        "  else:\n",
        "    list.append(right[rp]) rp += 1\n",
        "  \n",
        "  return list\n",
        "\n",
        "```\n",
        "\n"
      ]
    },
    {
      "cell_type": "markdown",
      "metadata": {
        "id": "vJnWd5mnv_-R"
      },
      "source": [
        "## 연습"
      ]
    },
    {
      "cell_type": "markdown",
      "metadata": {
        "id": "oYm5AMH-wOYU"
      },
      "source": [
        "### 연습1\n",
        " - 리스트를 left, right으로 분리하는 코드"
      ]
    },
    {
      "cell_type": "code",
      "metadata": {
        "id": "ahGNODeWI2CI"
      },
      "source": [
        "def split(data):\n",
        "  if len(data) <= 1:\n",
        "    return data\n",
        "\n",
        "  mid = int(len(data) / 2)\n",
        "\n",
        "  left = data[:mid]\n",
        "  print(left)\n",
        "  right = data[mid:]\n",
        "  print(right)"
      ],
      "execution_count": 21,
      "outputs": []
    },
    {
      "cell_type": "code",
      "metadata": {
        "colab": {
          "base_uri": "https://localhost:8080/"
        },
        "id": "hHAtB5BOwzvj",
        "outputId": "9db2643d-6ff3-4040-c77d-fc7b25eda4af"
      },
      "source": [
        "split([1,2,3])"
      ],
      "execution_count": 22,
      "outputs": [
        {
          "output_type": "stream",
          "text": [
            "[1]\n",
            "[2, 3]\n"
          ],
          "name": "stdout"
        }
      ]
    },
    {
      "cell_type": "code",
      "metadata": {
        "colab": {
          "base_uri": "https://localhost:8080/"
        },
        "id": "LGjwXnIOxuwb",
        "outputId": "0f1889c1-778e-4788-da55-0382139bd881"
      },
      "source": [
        "split([1,2,3,4,5,6,7,8,9,10])"
      ],
      "execution_count": 23,
      "outputs": [
        {
          "output_type": "stream",
          "text": [
            "[1, 2, 3, 4, 5]\n",
            "[6, 7, 8, 9, 10]\n"
          ],
          "name": "stdout"
        }
      ]
    },
    {
      "cell_type": "code",
      "metadata": {
        "id": "nSvzjnhnx2ig"
      },
      "source": [
        "#재귀함수 활용\n",
        "def mergesplit(data):\n",
        "  if len(data) <= 1:\n",
        "    return data\n",
        "\n",
        "  mid = int(len(data)/2)\n",
        "  left = mergesplit(data[:mid])\n",
        "  right = mergesplit(data[mid:])\n",
        "\n",
        "  return merge(left, right)"
      ],
      "execution_count": 24,
      "outputs": []
    },
    {
      "cell_type": "code",
      "metadata": {
        "id": "a8lIIwkMyWGe"
      },
      "source": [
        "#재귀함수 활용\n",
        "def mergesplit(data):\n",
        "  if len(data) <= 1:\n",
        "    return data\n",
        "\n",
        "  mid = int(len(data)/2)\n",
        "  left = mergesplit(data[:mid])\n",
        "  right = mergesplit(data[mid:])\n",
        "  print('left :',left,' right :', right)"
      ],
      "execution_count": 52,
      "outputs": []
    },
    {
      "cell_type": "code",
      "metadata": {
        "colab": {
          "base_uri": "https://localhost:8080/"
        },
        "id": "Br8WQ3fy8R4Q",
        "outputId": "43a2716d-43dd-4e1e-be91-3eab69fc8df3"
      },
      "source": [
        "mergesplit([1,2,3]) "
      ],
      "execution_count": 53,
      "outputs": [
        {
          "output_type": "stream",
          "text": [
            "left : [2]  right : [3]\n",
            "left : [1]  right : None\n"
          ],
          "name": "stdout"
        }
      ]
    },
    {
      "cell_type": "code",
      "metadata": {
        "colab": {
          "base_uri": "https://localhost:8080/"
        },
        "id": "xZhTiBuVylNL",
        "outputId": "b35671f9-516b-4a82-ad6b-456ff3c8d746"
      },
      "source": [
        "mergesplit([1,2,3,4,5])"
      ],
      "execution_count": 49,
      "outputs": [
        {
          "output_type": "stream",
          "text": [
            "left : [1]  right : [2]\n",
            "left : [4]  right : [5]\n",
            "left : [3]  right : None\n",
            "left : None  right : None\n"
          ],
          "name": "stdout"
        }
      ]
    },
    {
      "cell_type": "code",
      "metadata": {
        "colab": {
          "base_uri": "https://localhost:8080/"
        },
        "id": "5e48fxiR41CY",
        "outputId": "140ab8fe-d7de-43ef-b4d2-dee09b882f43"
      },
      "source": [
        "mergesplit([1,2,3,4,5,6,7,8,9,10])"
      ],
      "execution_count": 50,
      "outputs": [
        {
          "output_type": "stream",
          "text": [
            "left : [1]  right : [2]\n",
            "left : [4]  right : [5]\n",
            "left : [3]  right : None\n",
            "left : None  right : None\n",
            "left : [6]  right : [7]\n",
            "left : [9]  right : [10]\n",
            "left : [8]  right : None\n",
            "left : None  right : None\n",
            "left : None  right : None\n"
          ],
          "name": "stdout"
        }
      ]
    },
    {
      "cell_type": "markdown",
      "metadata": {
        "id": "qfSNgCnBy488"
      },
      "source": [
        "### 연습2\n",
        " - merge 함수"
      ]
    },
    {
      "cell_type": "code",
      "metadata": {
        "id": "qb8PteVJy1C6"
      },
      "source": [
        "#left 부터 하나씩 right와 비교\n",
        "#left>right이면, left를 sorted_list에 넣고, 다음 left리스트와 right 비교\n",
        " #- 그렇지 않으면 반대로 하기\n",
        "\n",
        "# 다음 경우 프로그래밍 해보기\n",
        "# left = [0]\n",
        "# right = [3]\n",
        "def merge(left, right):\n",
        "  sorted_list = []\n",
        "  if left[0] > right[0]:\n",
        "    sorted_list.append(right[0])\n",
        "    sorted_list.append(left[0])\n",
        "\n",
        "  sorted_list.append(left[0])\n",
        "  sorted_list.append(right[0])\n",
        "  return sorted_list\n",
        "\n"
      ],
      "execution_count": 32,
      "outputs": []
    },
    {
      "cell_type": "code",
      "metadata": {
        "colab": {
          "base_uri": "https://localhost:8080/"
        },
        "id": "tiz0JRNO0Oe0",
        "outputId": "4a46f8fa-718b-4184-c3ed-507bf9ecfbd1"
      },
      "source": [
        "left = [0]\n",
        "right = [3]\n",
        "merge(left, right)"
      ],
      "execution_count": 33,
      "outputs": [
        {
          "output_type": "execute_result",
          "data": {
            "text/plain": [
              "[0, 3]"
            ]
          },
          "metadata": {
            "tags": []
          },
          "execution_count": 33
        }
      ]
    },
    {
      "cell_type": "code",
      "metadata": {
        "id": "vHVMIml_0Ojl"
      },
      "source": [
        "def merge(left, right):\n",
        "  merged = list()\n",
        "  left_point, right_point = 0, 0\n",
        "\n",
        "  #case1: left/right 아직 남아 있을때\n",
        "  while len(left) > left_point and len(right) > right_point:\n",
        "    if left[left_point] > right[right_point]:\n",
        "      merged.append(right_point)\n",
        "      right_point += 1\n",
        "    else:\n",
        "      merged.append(left_point)\n",
        "      left_point += 1\n",
        "\n",
        "  #case2: left만 남아있을때\n",
        "  while len(left) > left_point:\n",
        "    merged.append(left_point)\n",
        "    left_point += 1\n",
        "\n",
        "  #case3: right만 남아있을때\n",
        "  while len(right) > right_point:\n",
        "    merged.append(right_point)\n",
        "    right_point += 1\n",
        "\n",
        "  return merged"
      ],
      "execution_count": 34,
      "outputs": []
    },
    {
      "cell_type": "markdown",
      "metadata": {
        "id": "g11D5oo729I4"
      },
      "source": [
        "## 최종 코드"
      ]
    },
    {
      "cell_type": "code",
      "metadata": {
        "id": "d0wCCHU2z2l-"
      },
      "source": [
        "def mergesplit(data):\n",
        "  if len(data) <= 1:\n",
        "    return data\n",
        "\n",
        "  mid = int(len(data)/2)\n",
        "  left = mergesplit(data[:mid])\n",
        "  right = mergesplit(data[mid:])\n",
        "\n",
        "  return merge(left, right)\n",
        "\n",
        "def merge(left, right):\n",
        "  merged = list()\n",
        "  left_point, right_point = 0, 0\n",
        "\n",
        "  #case1: left/right 아직 남아 있을때\n",
        "  while len(left) > left_point and len(right) > right_point:\n",
        "    if left[left_point] > right[right_point]:\n",
        "      merged.append(right[right_point])\n",
        "      right_point += 1\n",
        "    else:\n",
        "      merged.append(left[left_point])\n",
        "      left_point += 1\n",
        "\n",
        "  #case2: left만 남아있을때\n",
        "  while len(left) > left_point:\n",
        "    merged.append(left[left_point])\n",
        "    left_point += 1\n",
        "\n",
        "  #case3: right만 남아있을때\n",
        "  while len(right) > right_point:\n",
        "    merged.append(right[right_point])\n",
        "    right_point += 1\n",
        "\n",
        "  return merged"
      ],
      "execution_count": 37,
      "outputs": []
    },
    {
      "cell_type": "code",
      "metadata": {
        "colab": {
          "base_uri": "https://localhost:8080/"
        },
        "id": "SoDtfhLm2Okf",
        "outputId": "2ad4d66a-d925-4e20-a745-b927aee4ff06"
      },
      "source": [
        "mergesplit([1,2,3])"
      ],
      "execution_count": 47,
      "outputs": [
        {
          "output_type": "stream",
          "text": [
            "left : [2]  right : [3]\n",
            "left : [1]  right : None\n"
          ],
          "name": "stdout"
        }
      ]
    },
    {
      "cell_type": "code",
      "metadata": {
        "colab": {
          "base_uri": "https://localhost:8080/"
        },
        "id": "NoqK0oeN2cCx",
        "outputId": "b16bb217-2550-48c1-8a06-74da1065f9dd"
      },
      "source": [
        "mergesplit([1,2,3,4,5,6,7,8,9,10])"
      ],
      "execution_count": 39,
      "outputs": [
        {
          "output_type": "execute_result",
          "data": {
            "text/plain": [
              "[1, 2, 3, 4, 5, 6, 7, 8, 9, 10]"
            ]
          },
          "metadata": {
            "tags": []
          },
          "execution_count": 39
        }
      ]
    },
    {
      "cell_type": "code",
      "metadata": {
        "colab": {
          "base_uri": "https://localhost:8080/"
        },
        "id": "dtmnVM0i2euc",
        "outputId": "d4b845a2-44b2-4dd5-9a1d-7e933ef37ba9"
      },
      "source": [
        "import random\n",
        "data_list = random.sample(range(100),20)\n",
        "data_list"
      ],
      "execution_count": 40,
      "outputs": [
        {
          "output_type": "execute_result",
          "data": {
            "text/plain": [
              "[31, 38, 96, 68, 69, 76, 45, 33, 97, 49, 87, 54, 19, 34, 4, 32, 58, 90, 3, 12]"
            ]
          },
          "metadata": {
            "tags": []
          },
          "execution_count": 40
        }
      ]
    },
    {
      "cell_type": "code",
      "metadata": {
        "colab": {
          "base_uri": "https://localhost:8080/"
        },
        "id": "rOA4JsD92nCa",
        "outputId": "e8e8ab68-0cc1-4150-c4e1-bc4c3a5b4970"
      },
      "source": [
        "from datetime import datetime\n",
        "start_time = datetime.now()\n",
        "print(mergesplit(data_list))\n",
        "end_time = datetime.now()\n",
        "print('duration: ', end_time-start_time)"
      ],
      "execution_count": 41,
      "outputs": [
        {
          "output_type": "stream",
          "text": [
            "[3, 4, 12, 19, 31, 32, 33, 34, 38, 45, 49, 54, 58, 68, 69, 76, 87, 90, 96, 97]\n",
            "duration:  0:00:00.000262\n"
          ],
          "name": "stdout"
        }
      ]
    }
  ]
}