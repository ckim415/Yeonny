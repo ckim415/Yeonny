{
  "nbformat": 4,
  "nbformat_minor": 0,
  "metadata": {
    "colab": {
      "name": "BinarySearch.ipynb",
      "provenance": [],
      "authorship_tag": "ABX9TyMSEfgs5dEiPqMBhIAHjmYC",
      "include_colab_link": true
    },
    "kernelspec": {
      "name": "python3",
      "display_name": "Python 3"
    },
    "language_info": {
      "name": "python"
    }
  },
  "cells": [
    {
      "cell_type": "markdown",
      "metadata": {
        "id": "view-in-github",
        "colab_type": "text"
      },
      "source": [
        "<a href=\"https://colab.research.google.com/github/ckim415/Yeonny/blob/master/codingtest_prep/python/algorithm/BinarySearch.ipynb\" target=\"_parent\"><img src=\"https://colab.research.google.com/assets/colab-badge.svg\" alt=\"Open In Colab\"/></a>"
      ]
    },
    {
      "cell_type": "markdown",
      "metadata": {
        "id": "11Edt_SN51tG"
      },
      "source": [
        "# 파이썬으로 구현"
      ]
    },
    {
      "cell_type": "code",
      "metadata": {
        "id": "wC1bjIjv5yrV"
      },
      "source": [
        "def binary_search(data, search):\n",
        "  print(data)\n",
        "  if len(data) == 1 and data[0] == search:\n",
        "    return True\n",
        "\n",
        "  if len(data) == 1 and data[0] != search:\n",
        "    return False\n",
        "\n",
        "  if len(data) == 0:\n",
        "    return False\n",
        "\n",
        "  mid = len(data) // 2\n",
        "  if data[mid] == search:\n",
        "    return True\n",
        "  else: \n",
        "    if search > data[mid]:\n",
        "      return binary_search(data[mid+1:], search)\n",
        "\n",
        "    else:\n",
        "      return binary_search(data[:mid], search)\n"
      ],
      "execution_count": 10,
      "outputs": []
    },
    {
      "cell_type": "code",
      "metadata": {
        "colab": {
          "base_uri": "https://localhost:8080/"
        },
        "id": "D6eZvkR26l89",
        "outputId": "a0120d42-4f69-463b-9eaf-9d431a81bc55"
      },
      "source": [
        "import random\n",
        "data_list = random.sample(range(100),20)\n",
        "data_list"
      ],
      "execution_count": 2,
      "outputs": [
        {
          "output_type": "execute_result",
          "data": {
            "text/plain": [
              "[80, 76, 72, 3, 37, 81, 35, 14, 92, 55, 5, 89, 25, 69, 12, 9, 46, 27, 18, 77]"
            ]
          },
          "metadata": {
            "tags": []
          },
          "execution_count": 2
        }
      ]
    },
    {
      "cell_type": "code",
      "metadata": {
        "colab": {
          "base_uri": "https://localhost:8080/"
        },
        "id": "eDIcqeDT6sFQ",
        "outputId": "e7beed7e-a4ea-47a0-8bb4-2f832c1b5145"
      },
      "source": [
        "binary_search(sorted(data_list), 25)"
      ],
      "execution_count": 11,
      "outputs": [
        {
          "output_type": "stream",
          "text": [
            "[3, 5, 9, 12, 14, 18, 25, 27, 35, 37, 46, 55, 69, 72, 76, 77, 80, 81, 89, 92]\n",
            "[3, 5, 9, 12, 14, 18, 25, 27, 35, 37]\n",
            "[25, 27, 35, 37]\n",
            "[25, 27]\n",
            "[25]\n"
          ],
          "name": "stdout"
        },
        {
          "output_type": "execute_result",
          "data": {
            "text/plain": [
              "True"
            ]
          },
          "metadata": {
            "tags": []
          },
          "execution_count": 11
        }
      ]
    }
  ]
}