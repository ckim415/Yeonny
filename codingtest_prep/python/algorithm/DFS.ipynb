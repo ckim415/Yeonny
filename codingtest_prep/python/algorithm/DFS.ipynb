{
  "nbformat": 4,
  "nbformat_minor": 0,
  "metadata": {
    "colab": {
      "name": "DFS.ipynb",
      "provenance": [],
      "authorship_tag": "ABX9TyMTRRilwD1FI0UxJU2710z2",
      "include_colab_link": true
    },
    "kernelspec": {
      "name": "python3",
      "display_name": "Python 3"
    },
    "language_info": {
      "name": "python"
    }
  },
  "cells": [
    {
      "cell_type": "markdown",
      "metadata": {
        "id": "view-in-github",
        "colab_type": "text"
      },
      "source": [
        "<a href=\"https://colab.research.google.com/github/ckim415/Yeonny/blob/master/codingtest_prep/python/algorithm/DFS.ipynb\" target=\"_parent\"><img src=\"https://colab.research.google.com/assets/colab-badge.svg\" alt=\"Open In Colab\"/></a>"
      ]
    },
    {
      "cell_type": "code",
      "metadata": {
        "id": "oYep_FOBv_CD"
      },
      "source": [
        "graph = dict()\n",
        "\n",
        "graph['A'] = ['B','C']\n",
        "graph['B'] = ['A','D']\n",
        "graph['C'] = ['A','G','H','I']\n",
        "graph['D'] = ['B','E','F']\n",
        "graph['E'] = ['D']\n",
        "graph['F'] = ['D']\n",
        "graph['G'] = ['C']\n",
        "graph['H'] = ['C']\n",
        "graph['I'] = ['C','J']\n",
        "graph['J'] = ['I']"
      ],
      "execution_count": 1,
      "outputs": []
    },
    {
      "cell_type": "code",
      "metadata": {
        "id": "_QPyh8e4wolT"
      },
      "source": [
        "def dfs(data, start_node):\n",
        "  visited = []\n",
        "  need_visit = []\n",
        "  need_visit.append(start_node)\n",
        "\n",
        "  while need_visit:\n",
        "    \n",
        "    node = need_visit.pop()\n",
        "    if node not in visited:\n",
        "      visited.append(node)\n",
        "      need_visit.extend(data[node])\n",
        "\n",
        "\n",
        "  return visited"
      ],
      "execution_count": 7,
      "outputs": []
    },
    {
      "cell_type": "code",
      "metadata": {
        "colab": {
          "base_uri": "https://localhost:8080/"
        },
        "id": "ZFYXjwyLxjqB",
        "outputId": "6012e158-b58a-48c5-ac83-967ad32d6534"
      },
      "source": [
        "dfs(graph, 'A')"
      ],
      "execution_count": 8,
      "outputs": [
        {
          "output_type": "execute_result",
          "data": {
            "text/plain": [
              "['A', 'C', 'I', 'J', 'H', 'G', 'B', 'D', 'F', 'E']"
            ]
          },
          "metadata": {
            "tags": []
          },
          "execution_count": 8
        }
      ]
    }
  ]
}