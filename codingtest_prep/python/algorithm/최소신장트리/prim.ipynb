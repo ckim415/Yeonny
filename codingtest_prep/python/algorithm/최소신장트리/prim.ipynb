{
  "nbformat": 4,
  "nbformat_minor": 0,
  "metadata": {
    "colab": {
      "name": "prim.ipynb",
      "provenance": [],
      "authorship_tag": "ABX9TyNGBBx6bNzdPoANvBmaVHTL",
      "include_colab_link": true
    },
    "kernelspec": {
      "name": "python3",
      "display_name": "Python 3"
    },
    "language_info": {
      "name": "python"
    }
  },
  "cells": [
    {
      "cell_type": "markdown",
      "metadata": {
        "id": "view-in-github",
        "colab_type": "text"
      },
      "source": [
        "<a href=\"https://colab.research.google.com/github/ckim415/Yeonny/blob/master/codingtest_prep/python/algorithm/%EC%B5%9C%EC%86%8C%EC%8B%A0%EC%9E%A5%ED%8A%B8%EB%A6%AC/prim.ipynb\" target=\"_parent\"><img src=\"https://colab.research.google.com/assets/colab-badge.svg\" alt=\"Open In Colab\"/></a>"
      ]
    },
    {
      "cell_type": "markdown",
      "metadata": {
        "id": "irUDKbNEdGNx"
      },
      "source": [
        "# 코드로 구현"
      ]
    },
    {
      "cell_type": "markdown",
      "metadata": {
        "id": "fQPeXzg8dIoI"
      },
      "source": [
        "## heapq 활용\n",
        " - 우선 순위 큐"
      ]
    },
    {
      "cell_type": "code",
      "metadata": {
        "colab": {
          "base_uri": "https://localhost:8080/"
        },
        "id": "Sa8Q2r-kc_86",
        "outputId": "c99588f2-e252-47cc-85ff-399f7efd9d53"
      },
      "source": [
        "import heapq\n",
        "queue = []\n",
        "graph_data = [[2,'A'], [5,'B'], [3,'C']]\n",
        "\n",
        "for edge in graph_data:\n",
        "  heapq.heappush(queue, edge)\n",
        "\n",
        "for index in range(len(queue)):\n",
        "  print(heapq.heappop(queue))\n",
        "\n",
        "print(queue)"
      ],
      "execution_count": 1,
      "outputs": [
        {
          "output_type": "stream",
          "text": [
            "[2, 'A']\n",
            "[3, 'C']\n",
            "[5, 'B']\n",
            "[]\n"
          ],
          "name": "stdout"
        }
      ]
    },
    {
      "cell_type": "code",
      "metadata": {
        "colab": {
          "base_uri": "https://localhost:8080/"
        },
        "id": "H_Nob6cxdqb_",
        "outputId": "09529012-be2e-46a5-ac37-3e3a06862c6d"
      },
      "source": [
        "#heapq.heapify() 함수를 사용해 리스트 데이터를 heap 형태로 한번에 변환 할 수 있음\n",
        "#따로 list를 만들어서 heappush를 하지 않아도됨\n",
        "graph_data = [[2,'A'], [5,'B'], [3,'C']]\n",
        "heapq.heapify(graph_data)\n",
        "print(graph_data)\n",
        "\n",
        "for index in range(len(graph_data)):\n",
        "  print(heapq.heappop(graph_data))\n",
        "print(graph_data)\n"
      ],
      "execution_count": 3,
      "outputs": [
        {
          "output_type": "stream",
          "text": [
            "[[2, 'A'], [5, 'B'], [3, 'C']]\n",
            "[2, 'A']\n",
            "[3, 'C']\n",
            "[5, 'B']\n",
            "[]\n"
          ],
          "name": "stdout"
        }
      ]
    },
    {
      "cell_type": "markdown",
      "metadata": {
        "id": "kM_-K2R4eOTo"
      },
      "source": [
        "## collections defaultdict 함수 활용하기\n",
        " - 이 함수를 활용해서, key에 대한 value를 지정하지 않았을 시, 빈 리스트로 초기화 하기"
      ]
    },
    {
      "cell_type": "code",
      "metadata": {
        "colab": {
          "base_uri": "https://localhost:8080/",
          "height": 245
        },
        "id": "jjgHrZi0edRh",
        "outputId": "daf0dcbe-d036-4e98-e178-e1245f39cd7b"
      },
      "source": [
        "from collections import defaultdict\n",
        "list_dict = defaultdict(list) # list말고도 set등 다양한 데이터 형태가 들어갈수 있음\n",
        "print(list_dict['key!'])\n",
        "print(list_dict)\n",
        "\n",
        "list_dict2 = dict()\n",
        "print(list_dict2['key!'])"
      ],
      "execution_count": 6,
      "outputs": [
        {
          "output_type": "stream",
          "text": [
            "[]\n",
            "defaultdict(<class 'list'>, {'key!': []})\n"
          ],
          "name": "stdout"
        },
        {
          "output_type": "error",
          "ename": "KeyError",
          "evalue": "ignored",
          "traceback": [
            "\u001b[0;31m---------------------------------------------------------------------------\u001b[0m",
            "\u001b[0;31mKeyError\u001b[0m                                  Traceback (most recent call last)",
            "\u001b[0;32m<ipython-input-6-e81b621b84b2>\u001b[0m in \u001b[0;36m<module>\u001b[0;34m()\u001b[0m\n\u001b[1;32m      5\u001b[0m \u001b[0;34m\u001b[0m\u001b[0m\n\u001b[1;32m      6\u001b[0m \u001b[0mlist_dict2\u001b[0m \u001b[0;34m=\u001b[0m \u001b[0mdict\u001b[0m\u001b[0;34m(\u001b[0m\u001b[0;34m)\u001b[0m\u001b[0;34m\u001b[0m\u001b[0;34m\u001b[0m\u001b[0m\n\u001b[0;32m----> 7\u001b[0;31m \u001b[0mprint\u001b[0m\u001b[0;34m(\u001b[0m\u001b[0mlist_dict2\u001b[0m\u001b[0;34m[\u001b[0m\u001b[0;34m'key!'\u001b[0m\u001b[0;34m]\u001b[0m\u001b[0;34m)\u001b[0m\u001b[0;34m\u001b[0m\u001b[0;34m\u001b[0m\u001b[0m\n\u001b[0m",
            "\u001b[0;31mKeyError\u001b[0m: 'key!'"
          ]
        }
      ]
    },
    {
      "cell_type": "markdown",
      "metadata": {
        "id": "l1J8_K5ye_Pc"
      },
      "source": [
        "## prim 알고리즘\n",
        "1. 임의의 정점을 선택, connected_nodes에 삽입\n",
        "2. 선택된 정점에 연결된 간선들을 candidate_edge_list에 삽입\n",
        "3. candidate_edge_list에서 최소 가중치를 가지는 간선 부터 추출해서,\n",
        "  \n",
        " - 해당 간선에 연결된 인접 정점이 connected_nodes에 이미 있다면, 스킵\n",
        " - 해당 간선에 연결된 인접 정점이 connected_nodes에 없다면, 해당 간선을 선택하고, 해당 간선 정보를 mst에 삽입\n",
        "    \n",
        "    - 해당 간선에 연결된 인접 정점의 간선들 중, connected_nodes에 없는 노드와 연결된 간선들만 candidate_edge_list에 삽입\n",
        "\n",
        "      - connected_nodes에 있는 노드와 연결된 간선들을 간선 리스트에 삽입해도, 해당 간선은 스킵되기 때문에\n",
        "      - 어차피 스킵될 간선을 candidate_edge_list에 넣지 않으므로, candidate_edge_list에서 최소 가중치를 가지는 간선부터 추출하기 위한 자료구조 유지를 위한 effort를 줄일 수 있음(최소힙 구조 사용)\n",
        "\n",
        "4. 선택된 간선은 간선 리스트에서 제거\n",
        "5. 간선 리스트에 더 이상의 간선이 없을 때까지 반복\n"
      ]
    },
    {
      "cell_type": "code",
      "metadata": {
        "id": "aaIEcYCffDHi"
      },
      "source": [
        "edges = [\n",
        "             (7,'A','B'),\n",
        "             (5,'A','D'),\n",
        "             (8,'B','C'),\n",
        "             (9,'B','D'),\n",
        "             (7,'B','E'),\n",
        "             (5,'C','E'),\n",
        "             (7,'D','E'),\n",
        "             (6,'D','F'),      \n",
        "             (8,'E','F'),\n",
        "             (9,'E','G'),\n",
        "             (11,'F','G'),\n",
        "    ]"
      ],
      "execution_count": 20,
      "outputs": []
    },
    {
      "cell_type": "code",
      "metadata": {
        "id": "8PIQssZghL5R"
      },
      "source": [
        "from collections import defaultdict\n",
        "from heapq import *"
      ],
      "execution_count": 26,
      "outputs": []
    },
    {
      "cell_type": "code",
      "metadata": {
        "id": "bj7w2BZ9hSxa"
      },
      "source": [
        "def prim(start_node, edges):\n",
        "  adjacent_edges = defaultdict(list)\n",
        "  for weight, n1, n2 in edges:\n",
        "    adjacent_edges[n1].append((weight,n1,n2))\n",
        "    adjacent_edges[n2].append((weight,n1,n2))\n",
        "  print(adjacent_edges)"
      ],
      "execution_count": 9,
      "outputs": []
    },
    {
      "cell_type": "code",
      "metadata": {
        "colab": {
          "base_uri": "https://localhost:8080/"
        },
        "id": "gQ8y4Plkh_86",
        "outputId": "6c70b2b1-7aea-4b0d-8951-6697f1cc26db"
      },
      "source": [
        "prim('A', edges)"
      ],
      "execution_count": 10,
      "outputs": [
        {
          "output_type": "stream",
          "text": [
            "defaultdict(<class 'list'>, {'A': [(7, 'A', 'B'), (5, 'A', 'D')], 'B': [(7, 'A', 'B'), (8, 'B', 'C'), (9, 'B', 'D'), (7, 'B', 'E')], 'D': [(5, 'A', 'D'), (9, 'B', 'D'), (7, 'D', 'E'), (8, 'D', 'F')], 'C': [(8, 'B', 'C'), (5, 'C', 'E')], 'E': [(7, 'B', 'E'), (5, 'C', 'E'), (7, 'D', 'E'), (8, 'E', 'F'), (9, 'E', 'G')], 'F': [(8, 'D', 'F'), (8, 'E', 'F'), (11, 'F', 'G')], 'G': [(9, 'E', 'G'), (11, 'F', 'G')]})\n"
          ],
          "name": "stdout"
        }
      ]
    },
    {
      "cell_type": "code",
      "metadata": {
        "id": "u9Ak7kr-ihzM"
      },
      "source": [
        "def prim(start_node, edges):\n",
        "  mst = []\n",
        "  adjacent_edges = defaultdict(list)\n",
        "  for weight, n1, n2 in edges:\n",
        "    adjacent_edges[n1].append((weight,n1,n2))\n",
        "    adjacent_edges[n2].append((weight,n2,n1))\n",
        "    \n",
        "  connected_nodes = set(start_node)\n",
        "  candidate_edge_list = adjacent_edges[start_node]\n",
        "  heapify(candidate_edge_list)\n",
        "\n",
        "  while candidate_edge_list:\n",
        "    weight, n1, n2 = heappop(candidate_edge_list)\n",
        "    if n2 not in connected_nodes:\n",
        "      connected_nodes.add(n2)\n",
        "      mst.append((weight, n1, n2))\n",
        "\n",
        "      for edge in adjacent_edges[n2]:\n",
        "        if edge[2] not in connected_nodes:\n",
        "          heappush(candidate_edge_list, edge)\n",
        "  \n",
        "  return mst"
      ],
      "execution_count": 37,
      "outputs": []
    },
    {
      "cell_type": "code",
      "metadata": {
        "colab": {
          "base_uri": "https://localhost:8080/"
        },
        "id": "MXtreAEJlxlJ",
        "outputId": "1246d7e2-b40e-4e4e-a151-3f5cd570e3b4"
      },
      "source": [
        "prim('A', edges)"
      ],
      "execution_count": 38,
      "outputs": [
        {
          "output_type": "execute_result",
          "data": {
            "text/plain": [
              "[(5, 'A', 'D'),\n",
              " (6, 'D', 'F'),\n",
              " (7, 'A', 'B'),\n",
              " (7, 'B', 'E'),\n",
              " (5, 'E', 'C'),\n",
              " (9, 'E', 'G')]"
            ]
          },
          "metadata": {
            "tags": []
          },
          "execution_count": 38
        }
      ]
    },
    {
      "cell_type": "markdown",
      "metadata": {
        "id": "nTtswsMW5-gw"
      },
      "source": [
        "## [참고]개선된 프림 알고리즘\n",
        " - heapdict 사용: it works pretty much like a regular Python dictionary. It’s designed to be used as a priority queue.\n",
        "\n",
        "  - peekitem() : returns lowest item\n",
        "  - keys() : returns all the keys\n",
        "  - values() : returns all the values\n",
        "  - popitem() : remove the lowest value items from heapdict and return them"
      ]
    },
    {
      "cell_type": "code",
      "metadata": {
        "id": "61fUp93h8J4R"
      },
      "source": [
        "graph = {\n",
        "    'A' : {'B':7, 'D':5},\n",
        "    'B' : {'A':7, 'D':9, 'C':8, 'E':7},\n",
        "    'C' : {'D':9, 'E':5},\n",
        "    'D' : {'A':5, 'B':9, 'E':7, 'F':6},\n",
        "    'E' : {'B':7, 'C':5, 'D':7, 'F':8, 'G':9},\n",
        "    'F' : {'D':6, 'E':8, 'G':11},\n",
        "    'G' : {'E':9, 'F':11}\n",
        "}"
      ],
      "execution_count": 41,
      "outputs": []
    },
    {
      "cell_type": "code",
      "metadata": {
        "id": "UIbojLaG6Aza"
      },
      "source": [
        "from heapdict import heapdict\n",
        "\n",
        "def prim(graph, start):\n",
        "  mst, keys, pi, total_weight = list(), heapdict(), dict(), 0\n",
        "  for node in graph.keys():\n",
        "    keys[node] = float('inf')\n",
        "    pi[node] = None\n",
        "  keys[start], pi[start] = 0,start\n",
        "\n",
        "  while keys:\n",
        "    current_node, current_key = keys.popitem()\n",
        "    mst.append([pi[current_node], current_node, current_key])\n",
        "    total_weight += current_key\n",
        "    for adjacent, weight in graph[current_node].items():\n",
        "      if adjacent in keys and weight < keys[adjacent]:\n",
        "        keys[adjacent] = weight\n",
        "        pi[adjacent] = current_node\n",
        "  return mst, total_weight"
      ],
      "execution_count": 45,
      "outputs": []
    },
    {
      "cell_type": "code",
      "metadata": {
        "colab": {
          "base_uri": "https://localhost:8080/"
        },
        "id": "qsYJL9Me9L8F",
        "outputId": "247a3d39-c05b-46ba-89b3-4872e0a905f8"
      },
      "source": [
        "mst, total_weight = prim(graph, 'A')\n",
        "print('mst', mst)\n",
        "print('t_w', total_weight)"
      ],
      "execution_count": 46,
      "outputs": [
        {
          "output_type": "stream",
          "text": [
            "mst [['A', 'A', 0], ['A', 'D', 5], ['D', 'F', 6], ['A', 'B', 7], ['D', 'E', 7], ['E', 'C', 5], ['E', 'G', 9]]\n",
            "t_w 39\n"
          ],
          "name": "stdout"
        }
      ]
    }
  ]
}