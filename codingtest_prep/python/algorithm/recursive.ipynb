{
  "nbformat": 4,
  "nbformat_minor": 0,
  "metadata": {
    "colab": {
      "name": "recursive.ipynb",
      "provenance": [],
      "authorship_tag": "ABX9TyO7RdF5grehDjg1S8C5wlUn",
      "include_colab_link": true
    },
    "kernelspec": {
      "name": "python3",
      "display_name": "Python 3"
    },
    "language_info": {
      "name": "python"
    }
  },
  "cells": [
    {
      "cell_type": "markdown",
      "metadata": {
        "id": "view-in-github",
        "colab_type": "text"
      },
      "source": [
        "<a href=\"https://colab.research.google.com/github/ckim415/Yeonny/blob/master/codingtest_prep/python/algorithm/recursive.ipynb\" target=\"_parent\"><img src=\"https://colab.research.google.com/assets/colab-badge.svg\" alt=\"Open In Colab\"/></a>"
      ]
    },
    {
      "cell_type": "markdown",
      "metadata": {
        "id": "HTYlmksK2APP"
      },
      "source": [
        "# recursive"
      ]
    },
    {
      "cell_type": "markdown",
      "metadata": {
        "id": "MXuiPkwjntVv"
      },
      "source": [
        "## factorial 구현"
      ]
    },
    {
      "cell_type": "code",
      "metadata": {
        "id": "i7OgrlZDnpbA"
      },
      "source": [
        "#1\n",
        "def factorial(num):\n",
        "\n",
        "  if num > 1:\n",
        "    return num * factorial(num-1)\n",
        "  else:\n",
        "    return num\n"
      ],
      "execution_count": 1,
      "outputs": []
    },
    {
      "cell_type": "code",
      "metadata": {
        "colab": {
          "base_uri": "https://localhost:8080/"
        },
        "id": "Jqoz3ppcoCGy",
        "outputId": "cb533bb7-9e5f-4c4e-bfa9-c5bf880f3900"
      },
      "source": [
        "for num in range(5):\n",
        "  print(num, factorial(num))"
      ],
      "execution_count": 3,
      "outputs": [
        {
          "output_type": "stream",
          "text": [
            "0 0\n",
            "1 1\n",
            "2 2\n",
            "3 6\n",
            "4 24\n"
          ],
          "name": "stdout"
        }
      ]
    },
    {
      "cell_type": "code",
      "metadata": {
        "id": "yonNItbtpJOK"
      },
      "source": [
        "#2\n",
        "def factorial(num):\n",
        "\n",
        "  if num <= 1:\n",
        "    return num\n",
        "\n",
        "  return num * factorial(num - 1)"
      ],
      "execution_count": 4,
      "outputs": []
    },
    {
      "cell_type": "code",
      "metadata": {
        "colab": {
          "base_uri": "https://localhost:8080/"
        },
        "id": "57g3mCfDpSkd",
        "outputId": "2bf8b6cb-a16b-44d4-9d38-d4397b2f8c3d"
      },
      "source": [
        "for num in range(5):\n",
        "  print(num, factorial(num))"
      ],
      "execution_count": 5,
      "outputs": [
        {
          "output_type": "stream",
          "text": [
            "0 0\n",
            "1 1\n",
            "2 2\n",
            "3 6\n",
            "4 24\n"
          ],
          "name": "stdout"
        }
      ]
    },
    {
      "cell_type": "markdown",
      "metadata": {
        "id": "JK0oFVeR2Dz4"
      },
      "source": [
        "## 예제\n"
      ]
    },
    {
      "cell_type": "markdown",
      "metadata": {
        "id": "hADYB37-2ON4"
      },
      "source": [
        "### 예제1\n",
        " - 1 부터 n 까지의 곱을 출력\n",
        "\n",
        " "
      ]
    },
    {
      "cell_type": "code",
      "metadata": {
        "id": "5Gtjc__y2rnP"
      },
      "source": [
        "#일반 반복문 써서 구현\n",
        "def multiple(num):\n",
        "  \n",
        "  data = num\n",
        "  for i in range(num-1, 1, -1):\n",
        "    data *= i\n",
        "\n",
        "  return data\n"
      ],
      "execution_count": 10,
      "outputs": []
    },
    {
      "cell_type": "code",
      "metadata": {
        "colab": {
          "base_uri": "https://localhost:8080/"
        },
        "id": "d6jbtw2b3Gk4",
        "outputId": "e2aa37c0-222d-4daf-ceb5-942c6d612f82"
      },
      "source": [
        "multiple(10)"
      ],
      "execution_count": 11,
      "outputs": [
        {
          "output_type": "execute_result",
          "data": {
            "text/plain": [
              "3628800"
            ]
          },
          "metadata": {
            "tags": []
          },
          "execution_count": 11
        }
      ]
    },
    {
      "cell_type": "code",
      "metadata": {
        "id": "6yQ0ukoi2LAn"
      },
      "source": [
        "# 재귀 용법\n",
        "def multiple(data):\n",
        "\n",
        "  if data <= 1:\n",
        "    return data\n",
        "\n",
        "  return data * multiple(data-1)\n"
      ],
      "execution_count": 6,
      "outputs": []
    },
    {
      "cell_type": "code",
      "metadata": {
        "colab": {
          "base_uri": "https://localhost:8080/"
        },
        "id": "kSWuT3kP2oD7",
        "outputId": "5d2da9a2-4880-4b19-f458-f64035b7e207"
      },
      "source": [
        "multiple(10)"
      ],
      "execution_count": 7,
      "outputs": [
        {
          "output_type": "execute_result",
          "data": {
            "text/plain": [
              "3628800"
            ]
          },
          "metadata": {
            "tags": []
          },
          "execution_count": 7
        }
      ]
    },
    {
      "cell_type": "markdown",
      "metadata": {
        "id": "pCf-kg2Q3jel"
      },
      "source": [
        "### 예제2\n",
        " - 리스트의 합을 리턴하는 함수"
      ]
    },
    {
      "cell_type": "code",
      "metadata": {
        "id": "IBsfpNuE4DuQ"
      },
      "source": [
        "#일반 함수\n",
        "def sum_list(data):\n",
        "  sum = 0\n",
        "  for i in data:\n",
        "    sum += i\n",
        "\n",
        "  return sum\n"
      ],
      "execution_count": 14,
      "outputs": []
    },
    {
      "cell_type": "code",
      "metadata": {
        "colab": {
          "base_uri": "https://localhost:8080/"
        },
        "id": "zZg3h9S24Nfy",
        "outputId": "2ea41d73-18c9-4abd-cd56-ad8ebe2a70b3"
      },
      "source": [
        "sum_list([i for i in range(11)])"
      ],
      "execution_count": 15,
      "outputs": [
        {
          "output_type": "execute_result",
          "data": {
            "text/plain": [
              "55"
            ]
          },
          "metadata": {
            "tags": []
          },
          "execution_count": 15
        }
      ]
    },
    {
      "cell_type": "code",
      "metadata": {
        "id": "uK_qirwz3rxh"
      },
      "source": [
        "def sum(data):\n",
        "  if len(data) <= 1:\n",
        "    return data[0]\n",
        "\n",
        "  return data[0] + sum(data[1:])"
      ],
      "execution_count": 16,
      "outputs": []
    },
    {
      "cell_type": "code",
      "metadata": {
        "colab": {
          "base_uri": "https://localhost:8080/"
        },
        "id": "7h3YrgXn34-W",
        "outputId": "b3ddc62d-7642-4a2a-873c-a359fc8db35e"
      },
      "source": [
        "sum([i for i in range(11)])"
      ],
      "execution_count": 18,
      "outputs": [
        {
          "output_type": "execute_result",
          "data": {
            "text/plain": [
              "55"
            ]
          },
          "metadata": {
            "tags": []
          },
          "execution_count": 18
        }
      ]
    },
    {
      "cell_type": "markdown",
      "metadata": {
        "id": "4ifmk76O5hNj"
      },
      "source": [
        "### 예제3\n",
        "- 회문: 순서를 거꾸로 읽어도 제대로 읽은 것과 같은 단어\n",
        "- 회문을 판별할수 있는 함수를 리스트 슬라이싱을 활용해서 만드시\n"
      ]
    },
    {
      "cell_type": "code",
      "metadata": {
        "id": "AvnEtr3x50km"
      },
      "source": [
        "def palindrome(string):\n",
        "  if len(string) <= 1:\n",
        "    return True\n",
        "\n",
        "  if string[0] != string[-1]:\n",
        "    return False\n",
        "\n",
        "  return palindrome(string[1:-1])"
      ],
      "execution_count": 20,
      "outputs": []
    },
    {
      "cell_type": "code",
      "metadata": {
        "colab": {
          "base_uri": "https://localhost:8080/"
        },
        "id": "QH1jml686pY-",
        "outputId": "877f3ff2-b448-465d-b031-09b79c0b971c"
      },
      "source": [
        "palindrome('level')"
      ],
      "execution_count": 21,
      "outputs": [
        {
          "output_type": "execute_result",
          "data": {
            "text/plain": [
              "True"
            ]
          },
          "metadata": {
            "tags": []
          },
          "execution_count": 21
        }
      ]
    },
    {
      "cell_type": "code",
      "metadata": {
        "colab": {
          "base_uri": "https://localhost:8080/"
        },
        "id": "GoH1hn0J7x8G",
        "outputId": "56ab1f7d-202c-4e8b-d1ca-6884878f660a"
      },
      "source": [
        "palindrome('Dave')"
      ],
      "execution_count": 22,
      "outputs": [
        {
          "output_type": "execute_result",
          "data": {
            "text/plain": [
              "False"
            ]
          },
          "metadata": {
            "tags": []
          },
          "execution_count": 22
        }
      ]
    },
    {
      "cell_type": "markdown",
      "metadata": {
        "id": "Kh0dzDCm8NCj"
      },
      "source": [
        "### 예제4\n",
        " - 입력값이 홀수면 3*입력값 + 1\n",
        " - 짝수면 입력값 / 2\n",
        " - 입력값이 1이 될때까지"
      ]
    },
    {
      "cell_type": "code",
      "metadata": {
        "id": "dCdpCqpB8bCz"
      },
      "source": [
        "def function(num):\n",
        "  print(num)\n",
        "  if num == 1:\n",
        "    return num\n",
        "\n",
        "  if num%2 == 0:\n",
        "    return function(int(num /2))\n",
        "  else:\n",
        "    return function(3*num+1)"
      ],
      "execution_count": 27,
      "outputs": []
    },
    {
      "cell_type": "code",
      "metadata": {
        "colab": {
          "base_uri": "https://localhost:8080/"
        },
        "id": "4t9a1gpq9BHd",
        "outputId": "92213e1b-db39-4344-b229-345852ed11c6"
      },
      "source": [
        "function(3)"
      ],
      "execution_count": 28,
      "outputs": [
        {
          "output_type": "stream",
          "text": [
            "3\n",
            "10\n",
            "5\n",
            "16\n",
            "8\n",
            "4\n",
            "2\n",
            "1\n"
          ],
          "name": "stdout"
        },
        {
          "output_type": "execute_result",
          "data": {
            "text/plain": [
              "1"
            ]
          },
          "metadata": {
            "tags": []
          },
          "execution_count": 28
        }
      ]
    },
    {
      "cell_type": "markdown",
      "metadata": {
        "id": "4_u5NxHf9loZ"
      },
      "source": [
        "### 예제5\n",
        " - 정수 4를 1,2,3의 조합으로 나타내는 방법\n",
        " - ex \n",
        "  1. 1+1+1+1\n",
        "  2. 1+1+2\n",
        "  3. 1+2+1\n",
        "  4. 2+1+1\n",
        "  5. 2+2\n",
        "  6. 1+3\n",
        "  7. 3+1"
      ]
    },
    {
      "cell_type": "code",
      "metadata": {
        "id": "u-JH3x_i9pYe"
      },
      "source": [
        ""
      ],
      "execution_count": null,
      "outputs": []
    }
  ]
}