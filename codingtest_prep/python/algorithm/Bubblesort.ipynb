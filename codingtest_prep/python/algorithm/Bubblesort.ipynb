{
  "nbformat": 4,
  "nbformat_minor": 0,
  "metadata": {
    "colab": {
      "name": "Bubblesort.ipynb",
      "provenance": [],
      "authorship_tag": "ABX9TyNuI8vu50LlCKH+q3XlUSJh",
      "include_colab_link": true
    },
    "kernelspec": {
      "name": "python3",
      "display_name": "Python 3"
    },
    "language_info": {
      "name": "python"
    }
  },
  "cells": [
    {
      "cell_type": "markdown",
      "metadata": {
        "id": "view-in-github",
        "colab_type": "text"
      },
      "source": [
        "<a href=\"https://colab.research.google.com/github/ckim415/Yeonny/blob/master/codingtest_prep/python/algorithm/Bubblesort.ipynb\" target=\"_parent\"><img src=\"https://colab.research.google.com/assets/colab-badge.svg\" alt=\"Open In Colab\"/></a>"
      ]
    },
    {
      "cell_type": "markdown",
      "metadata": {
        "id": "SXz_J5-h-Z0x"
      },
      "source": [
        "# 파이썬으로 구현"
      ]
    },
    {
      "cell_type": "code",
      "metadata": {
        "id": "XndTC1Yi-XuS"
      },
      "source": [
        "def bubblesort(data):\n",
        "\n",
        "  for index in range(len(data) - 1):\n",
        "    swap = False\n",
        "    for index2 in range(len(data)-index-1):\n",
        "      if data[index2] > data[index2+1]:\n",
        "         data[index2], data[index2+1] = data[index2+1], data[index2]\n",
        "         swap = True\n",
        "\n",
        "    if swap == False:\n",
        "      break\n",
        "  \n",
        "  return data"
      ],
      "execution_count": 1,
      "outputs": []
    },
    {
      "cell_type": "code",
      "metadata": {
        "colab": {
          "base_uri": "https://localhost:8080/"
        },
        "id": "KnePeSQ1-3_0",
        "outputId": "2a342b65-4638-4172-b3bd-3ef0976669e4"
      },
      "source": [
        "import random\n",
        "data_list = random.sample(range(100), 30)\n",
        "data_list"
      ],
      "execution_count": 2,
      "outputs": [
        {
          "output_type": "execute_result",
          "data": {
            "text/plain": [
              "[90,\n",
              " 46,\n",
              " 69,\n",
              " 85,\n",
              " 93,\n",
              " 77,\n",
              " 14,\n",
              " 95,\n",
              " 6,\n",
              " 79,\n",
              " 39,\n",
              " 0,\n",
              " 13,\n",
              " 34,\n",
              " 97,\n",
              " 7,\n",
              " 50,\n",
              " 67,\n",
              " 8,\n",
              " 22,\n",
              " 45,\n",
              " 72,\n",
              " 81,\n",
              " 12,\n",
              " 40,\n",
              " 86,\n",
              " 82,\n",
              " 87,\n",
              " 52,\n",
              " 91]"
            ]
          },
          "metadata": {
            "tags": []
          },
          "execution_count": 2
        }
      ]
    },
    {
      "cell_type": "code",
      "metadata": {
        "colab": {
          "base_uri": "https://localhost:8080/"
        },
        "id": "_fxJfKdR--yC",
        "outputId": "84cd3664-baae-43aa-8f2d-bd9357a00b21"
      },
      "source": [
        "bubblesort(data_list)"
      ],
      "execution_count": 3,
      "outputs": [
        {
          "output_type": "execute_result",
          "data": {
            "text/plain": [
              "[0,\n",
              " 6,\n",
              " 7,\n",
              " 8,\n",
              " 12,\n",
              " 13,\n",
              " 14,\n",
              " 22,\n",
              " 34,\n",
              " 39,\n",
              " 40,\n",
              " 45,\n",
              " 46,\n",
              " 50,\n",
              " 52,\n",
              " 67,\n",
              " 69,\n",
              " 72,\n",
              " 77,\n",
              " 79,\n",
              " 81,\n",
              " 82,\n",
              " 85,\n",
              " 86,\n",
              " 87,\n",
              " 90,\n",
              " 91,\n",
              " 93,\n",
              " 95,\n",
              " 97]"
            ]
          },
          "metadata": {
            "tags": []
          },
          "execution_count": 3
        }
      ]
    }
  ]
}