{
  "nbformat": 4,
  "nbformat_minor": 0,
  "metadata": {
    "colab": {
      "name": "Kruskal.ipynb",
      "provenance": [],
      "authorship_tag": "ABX9TyNOVxUP8b9cTT1M7hoEBhVi",
      "include_colab_link": true
    },
    "kernelspec": {
      "name": "python3",
      "display_name": "Python 3"
    },
    "language_info": {
      "name": "python"
    }
  },
  "cells": [
    {
      "cell_type": "markdown",
      "metadata": {
        "id": "view-in-github",
        "colab_type": "text"
      },
      "source": [
        "<a href=\"https://colab.research.google.com/github/ckim415/Yeonny/blob/master/codingtest_prep/python/algorithm/Kruskal.ipynb\" target=\"_parent\"><img src=\"https://colab.research.google.com/assets/colab-badge.svg\" alt=\"Open In Colab\"/></a>"
      ]
    },
    {
      "cell_type": "markdown",
      "metadata": {
        "id": "Pc4WCXvDS2CE"
      },
      "source": [
        "# 파이썬으로 구현"
      ]
    },
    {
      "cell_type": "code",
      "metadata": {
        "id": "tVIFAXgySlu4"
      },
      "source": [
        "graph = {\n",
        "    'vertices':['A','B','C','D','E','F','G'],\n",
        "    'edges':[\n",
        "             (7,'A','B'),\n",
        "             (5,'A','D'),\n",
        "             (7,'B','A'),\n",
        "             (8,'B','C'),\n",
        "             (9,'B','D'),\n",
        "             (7,'B','E'),\n",
        "             (5,'D','A'),\n",
        "             (9,'D','B'),\n",
        "             (7,'D','E'),\n",
        "             (8,'D','F'),\n",
        "             (7,'E','B'),\n",
        "             (5,'E','C'),\n",
        "             (7,'E','D'),\n",
        "             (8,'E','F'),\n",
        "             (9,'E','G'),\n",
        "             (6,'F','D'),\n",
        "             (8,'F','E'),\n",
        "             (11,'F','G'),\n",
        "             (9,'G','E'),\n",
        "             (11,'G','F'),\n",
        "    ]\n",
        "}"
      ],
      "execution_count": 19,
      "outputs": []
    },
    {
      "cell_type": "code",
      "metadata": {
        "id": "dLOZW9dSU9AI"
      },
      "source": [
        "parent = dict()\n",
        "rank = dict()"
      ],
      "execution_count": 20,
      "outputs": []
    },
    {
      "cell_type": "code",
      "metadata": {
        "id": "vx9egBWSVFFb"
      },
      "source": [
        "def find(node):\n",
        "  #pass compression 기법\n",
        "  if parent[node] != node:\n",
        "    parent[node] = find(parent[node]) \n",
        "  return parent[node] \n",
        "\n",
        "def union(node_v, node_u):\n",
        "  #union by rank 기법\n",
        "  root1 = find(node_v)\n",
        "  root2 = find(node_u)\n",
        "\n",
        "  if rank[root1] > rank[root2]:\n",
        "    parent[root2] = root1\n",
        "  else:\n",
        "    parent[root1] = root2\n",
        "\n",
        "    if rank[root1] == rank[root2]:\n",
        "      rank[root2] += 1\n",
        "\n",
        "def make_set(node):\n",
        "  parent[node] = node\n",
        "  rank[node] = 0\n",
        "\n",
        "def kruskal(graph):\n",
        "  mst = []\n",
        "\n",
        "  #union find\n",
        "  #-1 초기화: 부분집합으로 \n",
        "  for node in graph['vertices']:\n",
        "    make_set(node)\n",
        "\n",
        "  #-2 간선 weight sorting\n",
        "  edges = graph['edges']\n",
        "  edges.sort() #quick sort를 사용하면 시간복잡도를 줄일 수 있음\n",
        "\n",
        "  #quick sort 구현\n",
        "\n",
        "\n",
        "  #-3 간선 연결(사이클없는)\n",
        "  for edge in edges:\n",
        "    #사이클이 있는지 확ㄷ인\n",
        "    weight, node_v, node_u = edge\n",
        "    if find(node_v) != find(node_u):  #루트노드 같은지 확인\n",
        "      union(node_v, node_u)\n",
        "      mst.append(edge)\n",
        "\n",
        "  return mst"
      ],
      "execution_count": 21,
      "outputs": []
    },
    {
      "cell_type": "code",
      "metadata": {
        "colab": {
          "base_uri": "https://localhost:8080/"
        },
        "id": "GC6RsiAMZJLF",
        "outputId": "e8c12e03-02de-4a2d-fa97-7d06e329784f"
      },
      "source": [
        "import datetime\n",
        "start = datetime.datetime.now()\n",
        "print(kruskal(graph))\n",
        "end = datetime.datetime.now()\n",
        "print('duration: ',end-start)"
      ],
      "execution_count": 22,
      "outputs": [
        {
          "output_type": "stream",
          "text": [
            "[(5, 'A', 'D'), (5, 'E', 'C'), (6, 'F', 'D'), (7, 'A', 'B'), (7, 'B', 'E'), (9, 'E', 'G')]\n",
            "duration:  0:00:00.001128\n"
          ],
          "name": "stdout"
        }
      ]
    },
    {
      "cell_type": "markdown",
      "metadata": {
        "id": "TXqoZP70qJjw"
      },
      "source": [
        "# quick sort 사용해서 비교\n"
      ]
    },
    {
      "cell_type": "code",
      "metadata": {
        "id": "52YjSzTvt_PC"
      },
      "source": [
        "graph = {\n",
        "    'vertices':['A','B','C','D','E','F','G'],\n",
        "    'edges':[\n",
        "             (7,'A','B'),\n",
        "             (5,'A','D'),\n",
        "             (7,'B','A'),\n",
        "             (8,'B','C'),\n",
        "             (9,'B','D'),\n",
        "             (7,'B','E'),\n",
        "             (5,'D','A'),\n",
        "             (9,'D','B'),\n",
        "             (7,'D','E'),\n",
        "             (8,'D','F'),\n",
        "             (7,'E','B'),\n",
        "             (5,'E','C'),\n",
        "             (7,'E','D'),\n",
        "             (8,'E','F'),\n",
        "             (9,'E','G'),\n",
        "             (6,'F','D'),\n",
        "             (8,'F','E'),\n",
        "             (11,'F','G'),\n",
        "             (9,'G','E'),\n",
        "             (11,'G','F'),\n",
        "    ]\n",
        "}\n",
        "parent = dict()\n",
        "rank = dict()"
      ],
      "execution_count": 23,
      "outputs": []
    },
    {
      "cell_type": "code",
      "metadata": {
        "id": "P7_M5x8PqITq"
      },
      "source": [
        "def find(node):\n",
        "  #pass compression 기법\n",
        "  if parent[node] != node:\n",
        "    parent[node] = find(parent[node]) \n",
        "  return parent[node] \n",
        "\n",
        "def union(node_v, node_u):\n",
        "  #union by rank 기법\n",
        "  root1 = find(node_v)\n",
        "  root2 = find(node_u)\n",
        "\n",
        "  if rank[root1] > rank[root2]:\n",
        "    parent[root2] = root1\n",
        "  else:\n",
        "    parent[root1] = root2\n",
        "\n",
        "    if rank[root1] == rank[root2]:\n",
        "      rank[root2] += 1\n",
        "\n",
        "def quick_sort(data):\n",
        "  if len(data) <= 1:\n",
        "    return False\n",
        "\n",
        "  pivot = data[0][0]\n",
        "  pivot_data = data[0]\n",
        "  left = []\n",
        "  right = []\n",
        "  for idx in range(1, len(data)+1):\n",
        "    if data[idx][0] > pivot:\n",
        "      right.append(data[idx])\n",
        "    else:\n",
        "      left.append(data[idx])\n",
        "\n",
        "  return quick_sort(left) + [pivot_data] + quick_sort[right]\n",
        "  \n",
        "\n",
        "def make_set(node):\n",
        "  parent[node] = node\n",
        "  rank[node] = 0\n",
        "\n",
        "def kruskal(graph):\n",
        "  mst = []\n",
        "\n",
        "  #union find\n",
        "  #-1 초기화: 부분집합으로 \n",
        "  for node in graph['vertices']:\n",
        "    make_set(node)\n",
        "\n",
        "  #-2 간선 weight sorting\n",
        "  edges = graph['edges']\n",
        "  edges.sort() #quick sort를 사용하면 시간복잡도를 줄일 수 있음\n",
        "\n",
        "  #quick sort 구현\n",
        "\n",
        "\n",
        "  #-3 간선 연결(사이클없는)\n",
        "  for edge in edges:\n",
        "    #사이클이 있는지 확ㄷ인\n",
        "    weight, node_v, node_u = edge\n",
        "    if find(node_v) != find(node_u):  #루트노드 같은지 확인\n",
        "      union(node_v, node_u)\n",
        "      mst.append(edge)\n",
        "\n",
        "  return mst"
      ],
      "execution_count": 24,
      "outputs": []
    },
    {
      "cell_type": "code",
      "metadata": {
        "colab": {
          "base_uri": "https://localhost:8080/"
        },
        "id": "0BBLYFFet5IA",
        "outputId": "e64dc6c5-3a81-409a-c840-a73b70573f71"
      },
      "source": [
        "import datetime\n",
        "start = datetime.datetime.now()\n",
        "print(kruskal(graph))\n",
        "end = datetime.datetime.now()\n",
        "print('duration: ',end-start)"
      ],
      "execution_count": 25,
      "outputs": [
        {
          "output_type": "stream",
          "text": [
            "[(5, 'A', 'D'), (5, 'E', 'C'), (6, 'F', 'D'), (7, 'A', 'B'), (7, 'B', 'E'), (9, 'E', 'G')]\n",
            "duration:  0:00:00.001031\n"
          ],
          "name": "stdout"
        }
      ]
    }
  ]
}