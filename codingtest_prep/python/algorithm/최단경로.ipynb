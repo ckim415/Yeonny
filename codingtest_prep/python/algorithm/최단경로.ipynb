{
  "nbformat": 4,
  "nbformat_minor": 0,
  "metadata": {
    "colab": {
      "name": "최단경로.ipynb",
      "provenance": [],
      "authorship_tag": "ABX9TyMvSF8WwuA3yiznAjGelZj4",
      "include_colab_link": true
    },
    "kernelspec": {
      "name": "python3",
      "display_name": "Python 3"
    },
    "language_info": {
      "name": "python"
    }
  },
  "cells": [
    {
      "cell_type": "markdown",
      "metadata": {
        "id": "view-in-github",
        "colab_type": "text"
      },
      "source": [
        "<a href=\"https://colab.research.google.com/github/ckim415/Yeonny/blob/master/codingtest_prep/python/algorithm/%EC%B5%9C%EB%8B%A8%EA%B2%BD%EB%A1%9C.ipynb\" target=\"_parent\"><img src=\"https://colab.research.google.com/assets/colab-badge.svg\" alt=\"Open In Colab\"/></a>"
      ]
    },
    {
      "cell_type": "markdown",
      "metadata": {
        "id": "1OBPKjhXhpZa"
      },
      "source": [
        "# 파이썬으로 구현\n",
        " - 다익스트라 알고리즘\n"
      ]
    },
    {
      "cell_type": "markdown",
      "metadata": {
        "id": "UmBaaAQYh5K1"
      },
      "source": [
        "## 우선순위 큐 사용\n"
      ]
    },
    {
      "cell_type": "code",
      "metadata": {
        "id": "x09771Qgho8q"
      },
      "source": [
        "import heapq\n",
        "\n",
        "queue = []\n",
        "\n",
        "heapq.heappush(queue,[2,'A'])\n",
        "heapq.heappush(queue,[5,'B'])\n",
        "heapq.heappush(queue,[1,'C'])\n",
        "heapq.heappush(queue,[7,'D'])\n",
        "heapq.heappush(queue,[3,'E'])"
      ],
      "execution_count": 2,
      "outputs": []
    },
    {
      "cell_type": "code",
      "metadata": {
        "colab": {
          "base_uri": "https://localhost:8080/"
        },
        "id": "IBY-MBG0iPNO",
        "outputId": "58800ab3-b570-4e7e-d36b-73d12e4a3686"
      },
      "source": [
        "queue"
      ],
      "execution_count": 3,
      "outputs": [
        {
          "output_type": "execute_result",
          "data": {
            "text/plain": [
              "[[1, 'C'], [3, 'E'], [2, 'A'], [7, 'D'], [5, 'B']]"
            ]
          },
          "metadata": {
            "tags": []
          },
          "execution_count": 3
        }
      ]
    },
    {
      "cell_type": "code",
      "metadata": {
        "colab": {
          "base_uri": "https://localhost:8080/"
        },
        "id": "3PaMTtaoiYNk",
        "outputId": "de8c751a-e08c-43cc-b994-1c1e171044e8"
      },
      "source": [
        "for index in range(len(queue)):\n",
        "  print(heapq.heappop(queue))   #가장 작은 값부터 pop"
      ],
      "execution_count": 4,
      "outputs": [
        {
          "output_type": "stream",
          "text": [
            "[1, 'C']\n",
            "[2, 'A']\n",
            "[3, 'E']\n",
            "[5, 'B']\n",
            "[7, 'D']\n"
          ],
          "name": "stdout"
        }
      ]
    },
    {
      "cell_type": "markdown",
      "metadata": {
        "id": "5EdCyTkgikEf"
      },
      "source": [
        "## 다익스트라 구현"
      ]
    },
    {
      "cell_type": "code",
      "metadata": {
        "id": "12eD4lEUimXR"
      },
      "source": [
        "#graph \n",
        "mygraph = {\n",
        "    'A' : {'B':8, 'C':1, 'D':2},\n",
        "    'B' : {},\n",
        "    'C' : {'B':5, 'D':2},\n",
        "    'D' : {'E':3, 'F':5},\n",
        "    'E' : {'F':1},\n",
        "    'F' : {'A':5}\n",
        "}"
      ],
      "execution_count": 6,
      "outputs": []
    },
    {
      "cell_type": "code",
      "metadata": {
        "colab": {
          "base_uri": "https://localhost:8080/"
        },
        "id": "_6bhE62LiyVE",
        "outputId": "ed73412b-e49f-4459-bf01-1451ff339f3c"
      },
      "source": [
        "mygraph"
      ],
      "execution_count": 7,
      "outputs": [
        {
          "output_type": "execute_result",
          "data": {
            "text/plain": [
              "{'A': {'B': 8, 'C': 1, 'D': 2},\n",
              " 'B': {},\n",
              " 'C': {'B': 5, 'D': 2},\n",
              " 'D': {'E': 3, 'F': 5},\n",
              " 'E': {'F': 1},\n",
              " 'F': {'A': 5}}"
            ]
          },
          "metadata": {
            "tags": []
          },
          "execution_count": 7
        }
      ]
    },
    {
      "cell_type": "code",
      "metadata": {
        "id": "vEii5NjHjL2v"
      },
      "source": [
        "def dijksta(graph, start):\n",
        "\n",
        "  distances = {node: float('inf') for node in graph}\n",
        "  distances[start] = 0\n",
        "  queue = []\n",
        "  heapq.heappush(queue, [distances[start], start])\n",
        "\n",
        "  while queue:\n",
        "    current_distance, current_node = heapq.heappop(queue)\n",
        "\n",
        "    if distances[current_node] < current_distance:\n",
        "      continue \n",
        "\n",
        "    for adjacent, weight in graph[current_node].items():\n",
        "      distance = current_distance + weight\n",
        "\n",
        "      if distance < distances[adjacent]:\n",
        "        distances[adjacent] = distance\n",
        "        heapq.heappush(queue, [distance, adjacent])\n",
        "\n",
        "  return distances\n",
        "\n",
        "\n",
        "\n"
      ],
      "execution_count": 12,
      "outputs": []
    },
    {
      "cell_type": "code",
      "metadata": {
        "colab": {
          "base_uri": "https://localhost:8080/"
        },
        "id": "t5pD9lDflTTP",
        "outputId": "c426d66e-976e-456b-a50a-5c839676111b"
      },
      "source": [
        "dijksta(mygraph, 'A')"
      ],
      "execution_count": 13,
      "outputs": [
        {
          "output_type": "execute_result",
          "data": {
            "text/plain": [
              "{'A': 0, 'B': 6, 'C': 1, 'D': 2, 'E': 5, 'F': 6}"
            ]
          },
          "metadata": {
            "tags": []
          },
          "execution_count": 13
        }
      ]
    },
    {
      "cell_type": "code",
      "metadata": {
        "colab": {
          "base_uri": "https://localhost:8080/"
        },
        "id": "GIjc19ASlh1Q",
        "outputId": "73f13f57-fe24-4671-a956-9f95e780823a"
      },
      "source": [
        "dijksta(mygraph, 'C')"
      ],
      "execution_count": 15,
      "outputs": [
        {
          "output_type": "execute_result",
          "data": {
            "text/plain": [
              "{'A': 11, 'B': 5, 'C': 0, 'D': 2, 'E': 5, 'F': 6}"
            ]
          },
          "metadata": {
            "tags": []
          },
          "execution_count": 15
        }
      ]
    }
  ]
}