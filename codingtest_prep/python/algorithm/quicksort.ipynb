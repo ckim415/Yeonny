{
  "nbformat": 4,
  "nbformat_minor": 0,
  "metadata": {
    "colab": {
      "name": "quicksort.ipynb",
      "provenance": [],
      "authorship_tag": "ABX9TyOjw9WZe1dirHmwSzBevfqG",
      "include_colab_link": true
    },
    "kernelspec": {
      "name": "python3",
      "display_name": "Python 3"
    },
    "language_info": {
      "name": "python"
    }
  },
  "cells": [
    {
      "cell_type": "markdown",
      "metadata": {
        "id": "view-in-github",
        "colab_type": "text"
      },
      "source": [
        "<a href=\"https://colab.research.google.com/github/ckim415/Yeonny/blob/master/codingtest_prep/python/algorithm/quicksort.ipynb\" target=\"_parent\"><img src=\"https://colab.research.google.com/assets/colab-badge.svg\" alt=\"Open In Colab\"/></a>"
      ]
    },
    {
      "cell_type": "markdown",
      "metadata": {
        "id": "2kG2-61wy6uf"
      },
      "source": [
        "# 파이썬으로 구현\n",
        "\n",
        "\n",
        "```\n",
        "#큰틀\n",
        "def qsort(data):\n",
        "  if len(data) <= 1:\n",
        "    return data\n",
        "  pivot = data[0]\n",
        "  for n in range(1, len(data)+1):\n",
        "    if pivot < data[n]:\n",
        "      left.append(data[n])\n",
        "    else:\n",
        "      right.append(data[n])\n",
        "\n",
        "  return qsort(left) + pivot + qsort(right)\n",
        "```\n",
        "\n"
      ]
    },
    {
      "cell_type": "markdown",
      "metadata": {
        "id": "sKRHWnur6Fzo"
      },
      "source": [
        "##연습"
      ]
    },
    {
      "cell_type": "markdown",
      "metadata": {
        "id": "QB0mi6ud6G_Y"
      },
      "source": [
        "### 연습1\n",
        " - list slicing"
      ]
    },
    {
      "cell_type": "code",
      "metadata": {
        "colab": {
          "base_uri": "https://localhost:8080/"
        },
        "id": "cY79S7U8y55f",
        "outputId": "bf59dff6-5cbd-4dbd-fb8a-60479462e5d5"
      },
      "source": [
        "data= [1,2,3,4,5]\n",
        "print(data[:2])\n",
        "print(data[2])\n",
        "print(data[3:])"
      ],
      "execution_count": 1,
      "outputs": [
        {
          "output_type": "stream",
          "text": [
            "[1, 2]\n",
            "3\n",
            "[4, 5]\n"
          ],
          "name": "stdout"
        }
      ]
    },
    {
      "cell_type": "markdown",
      "metadata": {
        "id": "Y4t9rUF06atm"
      },
      "source": [
        "### 연습2\n",
        " - 인덱스 0 보다 작은 값을 왼쪽에 크면 오른쪽에"
      ]
    },
    {
      "cell_type": "code",
      "metadata": {
        "colab": {
          "base_uri": "https://localhost:8080/"
        },
        "id": "-SZQxUoJ6f8O",
        "outputId": "78c33caf-8877-4c8e-a42c-273e0f45e1bc"
      },
      "source": [
        "data = [4,1,2,5,7]\n",
        "left = []\n",
        "right = []\n",
        "for i in range(1, len(data)):\n",
        "  if data[0] > data[i]:\n",
        "    left.append(data[i])\n",
        "  else:\n",
        "    right.append(data[i])\n",
        "print(left + [data[0]] + right)"
      ],
      "execution_count": 4,
      "outputs": [
        {
          "output_type": "stream",
          "text": [
            "[1, 2, 4, 5, 7]\n"
          ],
          "name": "stdout"
        }
      ]
    },
    {
      "cell_type": "markdown",
      "metadata": {
        "id": "Wi_evaXY7Xdz"
      },
      "source": [
        "## 구현"
      ]
    },
    {
      "cell_type": "code",
      "metadata": {
        "id": "gBxvnJEo7US9"
      },
      "source": [
        "def qsort(data):\n",
        "  if len(data) <= 1:\n",
        "    return data\n",
        "\n",
        "  pivot = data[0]\n",
        "  left = []\n",
        "  right = []\n",
        "  for index in range(1, len(data)):\n",
        "    if pivot > data[index]:\n",
        "      left.append(data[index])\n",
        "    else:\n",
        "      right.append(data[index])\n",
        "\n",
        "  return qsort(left) + [pivot] + qsort(right)"
      ],
      "execution_count": 10,
      "outputs": []
    },
    {
      "cell_type": "code",
      "metadata": {
        "colab": {
          "base_uri": "https://localhost:8080/"
        },
        "id": "8FfAlu_17w5w",
        "outputId": "641cb02c-7373-4b57-eba9-de7983b7612f"
      },
      "source": [
        "qsort([4,1,2,5,7])"
      ],
      "execution_count": 11,
      "outputs": [
        {
          "output_type": "execute_result",
          "data": {
            "text/plain": [
              "[1, 2, 4, 5, 7]"
            ]
          },
          "metadata": {
            "tags": []
          },
          "execution_count": 11
        }
      ]
    },
    {
      "cell_type": "code",
      "metadata": {
        "colab": {
          "base_uri": "https://localhost:8080/"
        },
        "id": "kVbS2mWb71jP",
        "outputId": "c6b1750c-c5af-4fa0-b2d6-e3032ad1a81e"
      },
      "source": [
        "import random\n",
        "data_list = random.sample(range(100), 20)\n",
        "print('before qsort ', data_list)\n",
        "print('after qsort ', qsort(data_list))"
      ],
      "execution_count": 12,
      "outputs": [
        {
          "output_type": "stream",
          "text": [
            "before qsort  [70, 37, 38, 5, 8, 30, 73, 40, 44, 27, 0, 54, 4, 62, 25, 71, 98, 95, 47, 92]\n",
            "after qsort  [0, 4, 5, 8, 25, 27, 30, 37, 38, 40, 44, 47, 54, 62, 70, 71, 73, 92, 95, 98]\n"
          ],
          "name": "stdout"
        }
      ]
    },
    {
      "cell_type": "code",
      "metadata": {
        "colab": {
          "base_uri": "https://localhost:8080/"
        },
        "id": "7FiIF66B83ap",
        "outputId": "ca4df92c-ca5a-4e01-fea1-05cb26631a41"
      },
      "source": [
        "from datetime import datetime\n",
        "start_time = datetime.now()\n",
        "print(qsort(data_list))\n",
        "end_time = datetime.now()\n",
        "print('duration: ', end_time-start_time)"
      ],
      "execution_count": 14,
      "outputs": [
        {
          "output_type": "stream",
          "text": [
            "[0, 4, 5, 8, 25, 27, 30, 37, 38, 40, 44, 47, 54, 62, 70, 71, 73, 92, 95, 98]\n",
            "duration:  0:00:00.000274\n"
          ],
          "name": "stdout"
        }
      ]
    },
    {
      "cell_type": "markdown",
      "metadata": {
        "id": "ueVEx7k69FG6"
      },
      "source": [
        "## list comprehension 활용"
      ]
    },
    {
      "cell_type": "code",
      "metadata": {
        "id": "dIKgzRSw9MNL"
      },
      "source": [
        "def qsort(data):\n",
        "  if len(data) <= 1:\n",
        "    return data\n",
        "\n",
        "  pivot = data[0]\n",
        "  left = [i for i in data[1:] if pivot> i]\n",
        "  right = [i  for i in data[1:] if pivot <= i]\n",
        "\n",
        "  return qsort(left) + [pivot] + qsort(right)"
      ],
      "execution_count": 23,
      "outputs": []
    },
    {
      "cell_type": "code",
      "metadata": {
        "colab": {
          "base_uri": "https://localhost:8080/"
        },
        "id": "qrWwEufL95nd",
        "outputId": "960f97b3-aaee-4184-935b-b39abd78ea05"
      },
      "source": [
        "from datetime import datetime\n",
        "start_time = datetime.now()\n",
        "print(qsort(data_list))\n",
        "end_time = datetime.now()\n",
        "print('duration: ', end_time-start_time)"
      ],
      "execution_count": 24,
      "outputs": [
        {
          "output_type": "stream",
          "text": [
            "[0, 4, 5, 8, 25, 27, 30, 37, 38, 40, 44, 47, 54, 62, 70, 71, 73, 92, 95, 98]\n",
            "duration:  0:00:00.002275\n"
          ],
          "name": "stdout"
        }
      ]
    }
  ]
}