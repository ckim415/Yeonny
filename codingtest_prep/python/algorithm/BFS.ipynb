{
  "nbformat": 4,
  "nbformat_minor": 0,
  "metadata": {
    "colab": {
      "name": "BFS.ipynb",
      "provenance": [],
      "authorship_tag": "ABX9TyNGA9RZjGIzYr7JdedLE7Kr",
      "include_colab_link": true
    },
    "kernelspec": {
      "name": "python3",
      "display_name": "Python 3"
    },
    "language_info": {
      "name": "python"
    }
  },
  "cells": [
    {
      "cell_type": "markdown",
      "metadata": {
        "id": "view-in-github",
        "colab_type": "text"
      },
      "source": [
        "<a href=\"https://colab.research.google.com/github/ckim415/Yeonny/blob/master/codingtest_prep/python/algorithm/BFS.ipynb\" target=\"_parent\"><img src=\"https://colab.research.google.com/assets/colab-badge.svg\" alt=\"Open In Colab\"/></a>"
      ]
    },
    {
      "cell_type": "markdown",
      "metadata": {
        "id": "bygZRgITOn1Z"
      },
      "source": [
        "# 파이썬으로 구현"
      ]
    },
    {
      "cell_type": "code",
      "metadata": {
        "id": "0XHFEQAVMbaR"
      },
      "source": [
        "graph = dict()\n",
        "\n",
        "graph['A'] = ['B','C']\n",
        "graph['B'] = ['A','D']\n",
        "graph['C'] = ['A','G','H','I']\n",
        "graph['D'] = ['B','E','F']\n",
        "graph['E'] = ['D']\n",
        "graph['F'] = ['D']\n",
        "graph['G'] = ['C']\n",
        "graph['H'] = ['C']\n",
        "graph['I'] = ['C','J']\n",
        "graph['J'] = ['I']"
      ],
      "execution_count": 7,
      "outputs": []
    },
    {
      "cell_type": "code",
      "metadata": {
        "colab": {
          "base_uri": "https://localhost:8080/"
        },
        "id": "ZZuGlQklM8CS",
        "outputId": "fb001059-45e9-445c-edfe-df67ba9118ec"
      },
      "source": [
        "graph"
      ],
      "execution_count": 3,
      "outputs": [
        {
          "output_type": "execute_result",
          "data": {
            "text/plain": [
              "{'A': ['B', 'C'],\n",
              " 'B': ['A', 'D'],\n",
              " 'C': ['A', 'G', 'H', 'I'],\n",
              " 'D': ['B', 'E', 'F'],\n",
              " 'E': ['D'],\n",
              " 'F': ['D'],\n",
              " 'G': ['C'],\n",
              " 'H': ['C'],\n",
              " 'I': ['C', 'J'],\n",
              " 'J': ['I']}"
            ]
          },
          "metadata": {
            "tags": []
          },
          "execution_count": 3
        }
      ]
    },
    {
      "cell_type": "code",
      "metadata": {
        "id": "G_CjnZMkMGRz"
      },
      "source": [
        "def bfs(graph, start_node):\n",
        "  visited = list()\n",
        "  need_visit = list()\n",
        "  need_visit.append(start_node)\n",
        "\n",
        "  while need_visit:\n",
        "    node = need_visit.pop(0)\n",
        "    if node not in visited:\n",
        "      visited.append(node)\n",
        "      need_visit.extend(graph[node])\n",
        "  \n",
        "  return visited"
      ],
      "execution_count": 11,
      "outputs": []
    },
    {
      "cell_type": "code",
      "metadata": {
        "colab": {
          "base_uri": "https://localhost:8080/"
        },
        "id": "slPIj1VMODcP",
        "outputId": "a2d25492-7b6a-4140-ed7a-b988121b1009"
      },
      "source": [
        "bfs(graph, 'A')"
      ],
      "execution_count": 12,
      "outputs": [
        {
          "output_type": "execute_result",
          "data": {
            "text/plain": [
              "['A', 'B', 'C', 'D', 'G', 'H', 'I', 'E', 'F', 'J']"
            ]
          },
          "metadata": {
            "tags": []
          },
          "execution_count": 12
        }
      ]
    }
  ]
}