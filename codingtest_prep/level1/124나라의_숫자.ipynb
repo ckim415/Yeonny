{
  "nbformat": 4,
  "nbformat_minor": 0,
  "metadata": {
    "colab": {
      "name": "124나라의 숫자.ipynb",
      "provenance": [],
      "authorship_tag": "ABX9TyMBe2UI6iTJKnEUOwQspBFb",
      "include_colab_link": true
    },
    "kernelspec": {
      "name": "python3",
      "display_name": "Python 3"
    },
    "language_info": {
      "name": "python"
    }
  },
  "cells": [
    {
      "cell_type": "markdown",
      "metadata": {
        "id": "view-in-github",
        "colab_type": "text"
      },
      "source": [
        "<a href=\"https://colab.research.google.com/github/ckim415/Yeonny/blob/master/124%EB%82%98%EB%9D%BC%EC%9D%98_%EC%88%AB%EC%9E%90.ipynb\" target=\"_parent\"><img src=\"https://colab.research.google.com/assets/colab-badge.svg\" alt=\"Open In Colab\"/></a>"
      ]
    },
    {
      "cell_type": "markdown",
      "metadata": {
        "id": "gTgNOVafKdpp"
      },
      "source": [
        "# 124 나라의 숫자"
      ]
    },
    {
      "cell_type": "markdown",
      "metadata": {
        "id": "KRhQGU_gKhSj"
      },
      "source": [
        "# 문제 설명\n",
        "- 124 나라가 있습니다. 124 나라에서는 10진법이 아닌 다음과 같은 자신들만의 규칙으로 수를 표현합니다.\n",
        "  - 124 나라에는 자연수만 존재합니다.\n",
        "  - 124 나라에는 모든 수를 표현할 때 1, 2, 4만 사용합니다.\n",
        "- 예를 들어서 124 나라에서 사용하는 숫자는 다음과 같이 변환됩니다.\n",
        "\n",
        "\n",
        "\n",
        "```\n",
        "10진법\t124 나라\t10진법\t124 나라\n",
        "   1\t   1\t      6\t       14\n",
        "   2\t   2\t      7\t       21\n",
        "   3\t   4\t      8\t       22\n",
        "   4   \t11\t     9\t       24\n",
        "   5\t   12\t     10\t      41\n",
        "```\n",
        "\n",
        "- 자연수 n이 매개변수로 주어질 때, n을 124 나라에서 사용하는 숫자로 바꾼 값을 return 하도록 solution 함수를 완성해 주세요.\n",
        "\n",
        "- 제한사항 : n은 500,000,000이하의 자연수 입니다.\n",
        "\n"
      ]
    },
    {
      "cell_type": "code",
      "metadata": {
        "colab": {
          "base_uri": "https://localhost:8080/"
        },
        "id": "OuwydsIxKc5o",
        "outputId": "26c5cbe2-927b-483a-bebf-fc5a537cd80b"
      },
      "source": [
        "n =1\n",
        "\n",
        "n // 2, n%2"
      ],
      "execution_count": null,
      "outputs": [
        {
          "output_type": "execute_result",
          "data": {
            "text/plain": [
              "(0, 1)"
            ]
          },
          "metadata": {
            "tags": []
          },
          "execution_count": 4
        }
      ]
    },
    {
      "cell_type": "code",
      "metadata": {
        "id": "nC82lzDyaulM"
      },
      "source": [
        "x,y = divmod(22,3)"
      ],
      "execution_count": 15,
      "outputs": []
    },
    {
      "cell_type": "code",
      "metadata": {
        "colab": {
          "base_uri": "https://localhost:8080/"
        },
        "id": "bzaZdXfRa2UJ",
        "outputId": "ae1c8739-ece1-4b15-886d-24a6ab0e4a2a"
      },
      "source": [
        "n = 20\n",
        "answer = []\n",
        "while n > 0 :\n",
        "  if n % 3 == 0:\n",
        "    answer.append(4)\n",
        "    n = n//3 -1\n",
        "\n",
        "  elif n%3 == 1:\n",
        "    answer.append(1)\n",
        "    n = n//3\n",
        "  else:\n",
        "    answer.append(2)\n",
        "    n = n//3\n",
        "\n",
        "print(''.join([str(i) for i in answer[::-1]])) "
      ],
      "execution_count": 11,
      "outputs": [
        {
          "output_type": "stream",
          "text": [
            "142\n"
          ],
          "name": "stdout"
        }
      ]
    },
    {
      "cell_type": "markdown",
      "metadata": {
        "id": "6qX2JfaQwzkn"
      },
      "source": [
        "# 다른 풀이"
      ]
    },
    {
      "cell_type": "code",
      "metadata": {
        "colab": {
          "base_uri": "https://localhost:8080/"
        },
        "id": "sEJ0RMi3vxJb",
        "outputId": "609dfa96-cde5-4a3e-89ef-613868932160"
      },
      "source": [
        "num = ['1','2','4']\n",
        "n =11\n",
        "answer = ''\n",
        "while n > 0:\n",
        "  n -= 1\n",
        "  answer = num[n%3] + answer\n",
        "  n //= 3\n",
        "\n",
        "print(answer)"
      ],
      "execution_count": 14,
      "outputs": [
        {
          "output_type": "stream",
          "text": [
            "42\n"
          ],
          "name": "stdout"
        }
      ]
    }
  ]
}
