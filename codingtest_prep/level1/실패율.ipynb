{
  "nbformat": 4,
  "nbformat_minor": 0,
  "metadata": {
    "colab": {
      "name": "실패율.ipynb",
      "provenance": [],
      "authorship_tag": "ABX9TyPSiqQTgPl0mB09UacFLiJY",
      "include_colab_link": true
    },
    "kernelspec": {
      "name": "python3",
      "display_name": "Python 3"
    },
    "language_info": {
      "name": "python"
    }
  },
  "cells": [
    {
      "cell_type": "markdown",
      "metadata": {
        "id": "view-in-github",
        "colab_type": "text"
      },
      "source": [
        "<a href=\"https://colab.research.google.com/github/ckim415/Yeonny/blob/master/codingtest_prep/level1/%EC%8B%A4%ED%8C%A8%EC%9C%A8.ipynb\" target=\"_parent\"><img src=\"https://colab.research.google.com/assets/colab-badge.svg\" alt=\"Open In Colab\"/></a>"
      ]
    },
    {
      "cell_type": "markdown",
      "metadata": {
        "id": "q6b3Jrqp47K_"
      },
      "source": [
        "# 실패율"
      ]
    },
    {
      "cell_type": "markdown",
      "metadata": {
        "id": "7II0m5f14_41"
      },
      "source": [
        "## 문제설명\n",
        "- 슈퍼 게임 개발자 오렐리는 큰 고민에 빠졌다. 그녀가 만든 프랜즈 오천성이 대성공을 거뒀지만, 요즘 신규 사용자의 수가 급감한 것이다. 원인은 신규 사용자와 기존 사용자 사이에 스테이지 차이가 너무 큰 것이 문제였다.\n",
        "\n",
        "- 이 문제를 어떻게 할까 고민 한 그녀는 동적으로 게임 시간을 늘려서 난이도를 조절하기로 했다. 역시 슈퍼 개발자라 대부분의 로직은 쉽게 구현했지만, 실패율을 구하는 부분에서 위기에 빠지고 말았다. 오렐리를 위해 실패율을 구하는 코드를 완성하라.\n",
        "\n",
        "- 실패율은 다음과 같이 정의한다.\n",
        "  - 스테이지에 도달했으나 아직 클리어하지 못한 플레이어의 수 / 스테이지에 도달한 플레이어 수\n",
        "- 전체 스테이지의 개수 N, 게임을 이용하는 사용자가 현재 멈춰있는 스테이지의 번호가 담긴 배열 stages가 매개변수로 주어질 때, 실패율이 높은 스테이지부터 내림차순으로 스테이지의 번호가 담겨있는 배열을 return 하도록 solution 함수를 완성하라.\n"
      ]
    },
    {
      "cell_type": "markdown",
      "metadata": {
        "id": "JLn2yFv35IUh"
      },
      "source": [
        "## 제한사항\n",
        "- 스테이지의 개수 N은 1 이상 500 이하의 자연수이다.\n",
        "- stages의 길이는 1 이상 200,000 이하이다.\n",
        "- stages에는 1 이상 N + 1 이하의 자연수가 담겨있다.\n",
        "- 각 자연수는 사용자가 현재 도전 중인 스테이지의 번호를 나타낸다.\n",
        "- 단, N + 1 은 마지막 스테이지(N 번째 스테이지) 까지 클리어 한 사용자를 나타낸다.\n",
        "- 만약 실패율이 같은 스테이지가 있다면 작은 번호의 스테이지가 먼저 오도록 하면 된다.\n",
        "- 스테이지에 도달한 유저가 없는 경우 해당 스테이지의 실패율은 0 으로 정의한다."
      ]
    },
    {
      "cell_type": "code",
      "metadata": {
        "id": "AT2K0lJc5VZf"
      },
      "source": [
        "from collections import Counter"
      ],
      "execution_count": 2,
      "outputs": []
    },
    {
      "cell_type": "code",
      "metadata": {
        "id": "-o54lDltG4j4"
      },
      "source": [
        "import operator\n",
        "import collections"
      ],
      "execution_count": 102,
      "outputs": []
    },
    {
      "cell_type": "code",
      "metadata": {
        "id": "pDe9zxgE5X_8"
      },
      "source": [
        "stages = [2, 1, 2, 6, 2, 4, 3, 3]\n",
        "# origin_len = len(stages)\n",
        "# n = 0\n",
        "# for i in stages:\n",
        "#   if i> N:\n",
        "#     n+=1\n",
        "#     stages.remove(i)"
      ],
      "execution_count": 51,
      "outputs": []
    },
    {
      "cell_type": "code",
      "metadata": {
        "colab": {
          "base_uri": "https://localhost:8080/"
        },
        "id": "yuUje6Om6lpc",
        "outputId": "bd399128-f551-4959-d024-e3669e0edaf0"
      },
      "source": [
        "stages"
      ],
      "execution_count": 52,
      "outputs": [
        {
          "output_type": "execute_result",
          "data": {
            "text/plain": [
              "[2, 1, 2, 6, 2, 4, 3, 3]"
            ]
          },
          "metadata": {
            "tags": []
          },
          "execution_count": 52
        }
      ]
    },
    {
      "cell_type": "code",
      "metadata": {
        "colab": {
          "base_uri": "https://localhost:8080/"
        },
        "id": "LlW5MYDY6ydU",
        "outputId": "5b879914-ecef-4c3e-d84b-c350272e3d99"
      },
      "source": [
        "count = Counter(stages)\n",
        "count"
      ],
      "execution_count": 67,
      "outputs": [
        {
          "output_type": "execute_result",
          "data": {
            "text/plain": [
              "Counter({1: 1, 2: 3, 3: 2, 4: 1, 6: 1})"
            ]
          },
          "metadata": {
            "tags": []
          },
          "execution_count": 67
        }
      ]
    },
    {
      "cell_type": "code",
      "metadata": {
        "id": "OFtkzTvlAa8i"
      },
      "source": [
        "from collections import Counter\n",
        "def solution(N, stages):\n",
        "    answer = {}\n",
        "    count = Counter(stages)\n",
        "\n",
        "    for num in range(1,N+1):\n",
        "        if num not in count.keys():\n",
        "            answer[num] = 0\n",
        "            continue\n",
        "        answer[num] = count[num]/sum(count.values())\n",
        "        count.pop(num, None)\n",
        "        \n",
        "    return [ k for k,v in sorted( answer.items(), key=lambda x:x[1], reverse=True)]"
      ],
      "execution_count": 103,
      "outputs": []
    },
    {
      "cell_type": "markdown",
      "metadata": {
        "id": "G0OMTXWWIAy3"
      },
      "source": [
        "## 결과\n",
        "- 테스트 1 〉\t통과 (0.04ms, 10.2MB)\n",
        "- 테스트 2 〉\t통과 (0.10ms, 10.2MB)\n",
        "- 테스트 3 〉\t통과 (2.34ms, 10.5MB)\n",
        "- 테스트 4 〉\t통과 (3.93ms, 10.8MB)\n",
        "- 테스트 5 〉\t통과 (12.04ms, 15MB)\n",
        "- 테스트 6 〉\t통과 (0.19ms, 10.2MB)\n",
        "- 테스트 7 〉\t통과 (0.71ms, 10.3MB)\n",
        "- 테스트 8 〉\t통과 (5.21ms, 10.9MB)\n",
        "- 테스트 9 〉\t통과 (11.84ms, 15MB)\n",
        "- 테스트 10 〉\t통과 (4.71ms, 10.9MB)\n",
        "- 테스트 11 〉\t통과 (4.41ms, 10.9MB)\n",
        "- 테스트 12 〉\t통과 (6.57ms, 11.5MB)\n",
        "- 테스트 13 〉\t통과 (6.94ms, 11.4MB)\n",
        "- 테스트 14 〉\t통과 (0.04ms, 10.2MB)\n",
        "- 테스트 15 〉\t통과 (2.73ms, 10.7MB)\n",
        "- 테스트 16 〉\t통과 (1.47ms, 10.3MB)\n",
        "- 테스트 17 〉\t통과 (2.73ms, 10.5MB)\n",
        "- 테스트 18 〉\t통과 (1.56ms, 10.4MB)\n",
        "- 테스트 19 〉\t통과 (0.52ms, 10.3MB)\n",
        "- 테스트 20 〉\t통과 (1.99ms, 10.3MB)\n",
        "- 테스트 21 〉\t통과 (3.57ms, 11MB)\n",
        "- 테스트 22 〉\t통과 (13.26ms, 18.3MB)\n",
        "- 테스트 23 〉\t통과 (7.96ms, 11.6MB)\n",
        "- 테스트 24 〉\t통과 (8.24ms, 11.6MB)\n",
        "- 테스트 25 〉\t통과 (0.04ms, 10.2MB)\n",
        "- 테스트 26 〉\t통과 (0.03ms, 10.1MB)\n",
        "- 테스트 27 〉\t통과 (0.03ms, 10.1MB)"
      ]
    },
    {
      "cell_type": "markdown",
      "metadata": {
        "id": "0fTKCZY-IgII"
      },
      "source": [
        "## 다른 사람의 풀이\n",
        "- 이것보다 내 코드가 더빠름"
      ]
    },
    {
      "cell_type": "code",
      "metadata": {
        "id": "lZFyl7w0IjXW"
      },
      "source": [
        "def solution(N, stages):\n",
        "  result = {}\n",
        "  denominator = len(stages)\n",
        "  for stage in range(1, N+1):\n",
        "    if denominator != 0:\n",
        "      count = stages.count(stage)\n",
        "      result[stage] = count / denominator\n",
        "      denominator -= count\n",
        "    else:\n",
        "      result[stage] = 0\n",
        "  return sorted(result, key=lambda x : result[x], reverse=True)\n"
      ],
      "execution_count": 104,
      "outputs": []
    },
    {
      "cell_type": "markdown",
      "metadata": {
        "id": "36-k67JcI3VO"
      },
      "source": [
        ""
      ]
    }
  ]
}