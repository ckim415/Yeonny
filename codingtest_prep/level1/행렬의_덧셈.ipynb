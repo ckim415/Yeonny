{
  "nbformat": 4,
  "nbformat_minor": 0,
  "metadata": {
    "colab": {
      "name": "행렬의 덧셈.ipynb",
      "provenance": [],
      "authorship_tag": "ABX9TyNRXcnyu3ZjYyPqRwArquzz",
      "include_colab_link": true
    },
    "kernelspec": {
      "name": "python3",
      "display_name": "Python 3"
    },
    "language_info": {
      "name": "python"
    }
  },
  "cells": [
    {
      "cell_type": "markdown",
      "metadata": {
        "id": "view-in-github",
        "colab_type": "text"
      },
      "source": [
        "<a href=\"https://colab.research.google.com/github/ckim415/Yeonny/blob/master/codingtest_prep/level1/%ED%96%89%EB%A0%AC%EC%9D%98_%EB%8D%A7%EC%85%88.ipynb\" target=\"_parent\"><img src=\"https://colab.research.google.com/assets/colab-badge.svg\" alt=\"Open In Colab\"/></a>"
      ]
    },
    {
      "cell_type": "markdown",
      "metadata": {
        "id": "1_RM62KfhcgO"
      },
      "source": [
        "# 행렬의 덧셈"
      ]
    },
    {
      "cell_type": "markdown",
      "metadata": {
        "id": "iumTE47lhaHh"
      },
      "source": [
        "## 문제 설명\n",
        "행렬의 덧셈은 행과 열의 크기가 같은 두 행렬의 같은 행, 같은 열의 값을 서로 더한 결과가 됩니다. 2개의 행렬 arr1과 arr2를 입력받아, 행렬 덧셈의 결과를 반환하는 함수, solution을 완성해주세요."
      ]
    },
    {
      "cell_type": "code",
      "metadata": {
        "id": "gXVg1oVVhS1Y"
      },
      "source": [
        "arr1, arr2 = [[1,2],[2,3]],\t[[3,4],[5,6]]"
      ],
      "execution_count": 1,
      "outputs": []
    },
    {
      "cell_type": "code",
      "metadata": {
        "colab": {
          "base_uri": "https://localhost:8080/"
        },
        "id": "ivAHJMsHsUkz",
        "outputId": "1bf5942f-ace9-4b62-c197-aa89160a1795"
      },
      "source": [
        "answer = [[num1 + num2 for num1, num2 in zip(x,y) ] for x,y in zip(arr1, arr2)]\n",
        "answer"
      ],
      "execution_count": 7,
      "outputs": [
        {
          "output_type": "execute_result",
          "data": {
            "text/plain": [
              "[[4, 6], [7, 9]]"
            ]
          },
          "metadata": {
            "tags": []
          },
          "execution_count": 7
        }
      ]
    },
    {
      "cell_type": "code",
      "metadata": {
        "id": "9ZY5Q6pAti5_"
      },
      "source": [
        "def solution(arr1, arr2):\n",
        "  answer = []\n",
        "  for i in range(len(arr1)):\n",
        "    alist = []\n",
        "    for j in range(len(arr1[0])):\n",
        "        add = arr1[i][j] + arr2[i][j]\n",
        "        alist.append(add)\n",
        "    answer.append(alist)\n",
        "          \n",
        "  return answer"
      ],
      "execution_count": 12,
      "outputs": []
    }
  ]
}