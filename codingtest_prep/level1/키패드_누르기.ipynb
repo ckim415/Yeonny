{
  "nbformat": 4,
  "nbformat_minor": 0,
  "metadata": {
    "colab": {
      "name": "키패드 누르기.ipynb",
      "provenance": [],
      "authorship_tag": "ABX9TyOqIcaKFo0f+e+Lh3k6QGWY",
      "include_colab_link": true
    },
    "kernelspec": {
      "name": "python3",
      "display_name": "Python 3"
    },
    "language_info": {
      "name": "python"
    }
  },
  "cells": [
    {
      "cell_type": "markdown",
      "metadata": {
        "id": "view-in-github",
        "colab_type": "text"
      },
      "source": [
        "<a href=\"https://colab.research.google.com/github/ckim415/Yeonny/blob/master/codingtest_prep/level1/%ED%82%A4%ED%8C%A8%EB%93%9C_%EB%88%84%EB%A5%B4%EA%B8%B0.ipynb\" target=\"_parent\"><img src=\"https://colab.research.google.com/assets/colab-badge.svg\" alt=\"Open In Colab\"/></a>"
      ]
    },
    {
      "cell_type": "markdown",
      "metadata": {
        "id": "isyhmuJdSpRL"
      },
      "source": [
        "# [카카오 인턴] 키패드 누르기"
      ]
    },
    {
      "cell_type": "markdown",
      "metadata": {
        "id": "7_4jZZv4SuBe"
      },
      "source": [
        "## 문제 설명\n",
        "- 스마트폰 전화 키패드의 각 칸에 다음과 같이 숫자들이 적혀 있습니다.\n",
        "\n",
        "<img src=\"https://grepp-programmers.s3.ap-northeast-2.amazonaws.com/files/production/4b69a271-5f4a-4bf4-9ebf-6ebed5a02d8d/kakao_phone1.png\" title=\"\" alt=\"kakao_phone1.png\">\n",
        "\n",
        "- 이 전화 키패드에서 왼손과 오른손의 엄지손가락만을 이용해서 숫자만을 입력하려고 합니다.\n",
        "- 맨 처음 왼손 엄지손가락은 * 키패드에 오른손 엄지손가락은 # 키패드 위치에서 시작하며, 엄지손가락을 사용하는 규칙은 다음과 같습니다.\n",
        "\n",
        "  - 1.엄지손가락은 상하좌우 4가지 방향으로만 이동할 수 있으며 키패드 이동 한 칸은 거리로 1에 해당합니다.\n",
        "  - 2.왼쪽 열의 3개의 숫자 1, 4, 7을 입력할 때는 왼손 엄지손가락을 사용합니다.\n",
        "  - 3.오른쪽 열의 3개의 숫자 3, 6, 9를 입력할 때는 오른손 엄지손가락을 사용합니다.\n",
        "  - 4.가운데 열의 4개의 숫자 2, 5, 8, 0을 입력할 때는 두 엄지손가락의 현재 키패드의 위치에서 더 가까운 엄지손가락을 사용합니다.\n",
        "    - 4-1. 만약 두 엄지손가락의 거리가 같다면, 오른손잡이는 오른손 엄지손가락 왼손잡이는 왼손 엄지손가락을 사용합니다.\n",
        "\n",
        " - 순서대로 누를 번호가 담긴 배열 numbers, 왼손잡이인지 오른손잡이인 지를 나타내는 문자열 hand가 매개변수로 주어질 때, 각 번호를 누른 엄지손가락이 왼손인 지 오른손인 지를 나타내는 연속된 문자열 형태로 return 하도록 solution 함수를 완성해주세요."
      ]
    },
    {
      "cell_type": "markdown",
      "metadata": {
        "id": "y1_7Oxy8TqRo"
      },
      "source": [
        "## 제한사항\n",
        " - numbers 배열의 크기는 1 이상 1,000 이하입니다.\n",
        " - numbers 배열 원소의 값은 0 이상 9 이하인 정수입니다.\n",
        " - hand는 \"left\" 또는 \"right\" 입니다.\n",
        "  - \"left\"는 왼손잡이, \"right\"는 오른손잡이를 의미합니다.\n",
        " - 왼손 엄지손가락을 사용한 경우는 L, 오른손 엄지손가락을 사용한 경우는 R을 순서대로 이어붙여 문자열 형태로 return 해주세요."
      ]
    },
    {
      "cell_type": "code",
      "metadata": {
        "id": "qvxg41ZdSkzO"
      },
      "source": [
        "numbers = [1, 3, 4, 5, 8, 2, 1, 4, 5, 9, 5]\n",
        "hand = 'right'"
      ],
      "execution_count": 4,
      "outputs": []
    },
    {
      "cell_type": "code",
      "metadata": {
        "colab": {
          "base_uri": "https://localhost:8080/",
          "height": 35
        },
        "id": "FLSq7fJudf1o",
        "outputId": "cd761f4a-f058-45c9-94c8-ab2b7135f9b4"
      },
      "source": [
        "hand[0].upper()"
      ],
      "execution_count": 6,
      "outputs": [
        {
          "output_type": "execute_result",
          "data": {
            "application/vnd.google.colaboratory.intrinsic+json": {
              "type": "string"
            },
            "text/plain": [
              "'R'"
            ]
          },
          "metadata": {
            "tags": []
          },
          "execution_count": 6
        }
      ]
    },
    {
      "cell_type": "code",
      "metadata": {
        "id": "bPVaqrteWDE-"
      },
      "source": [
        "left = [1,4,7]\n",
        "right = [3,6,9]"
      ],
      "execution_count": null,
      "outputs": []
    },
    {
      "cell_type": "code",
      "metadata": {
        "id": "LY-dxcK1a5V3"
      },
      "source": [
        "key_pad = {\n",
        "    '1' : [0,0],\n",
        "    '2' : [0,1],\n",
        "    '3' : [0,2],\n",
        "    '4' : [1,0],\n",
        "    '5' : [1,1],\n",
        "    '6' : [1,2],\n",
        "    '7' : [2,0],\n",
        "    '8' : [2,1],\n",
        "    '9' : [2,2],\n",
        "    '*' : [3,0],\n",
        "    '0' : [3,1],\n",
        "    '#' : [3,2],\n",
        "}"
      ],
      "execution_count": 1,
      "outputs": []
    },
    {
      "cell_type": "code",
      "metadata": {
        "colab": {
          "base_uri": "https://localhost:8080/"
        },
        "id": "0jrblXiObYx9",
        "outputId": "90690a3a-b651-4926-f7c6-889e07d37ef6"
      },
      "source": [
        "left_pos = key_pad['*']\n",
        "right_pos = key_pad['#']\n",
        "\n",
        "answer = ''\n",
        "for num in numbers:\n",
        "  now = key_pad[str(num)]\n",
        "\n",
        "  if now == key_pad['1'] or now == key_pad['4'] or now == key_pad['7']: \n",
        "    answer += 'L'\n",
        "    left_pos = now\n",
        "\n",
        "  elif now == key_pad['3'] or now == key_pad['6'] or now == key_pad['9']:\n",
        "    answer += 'R'\n",
        "    right_pos = now\n",
        "  \n",
        "  else:\n",
        "    distance_left = ( (now[0]-left_pos[0])**2 + (now[1]-left_pos[1])**2 ) **(2)\n",
        "    distance_right = ( (now[0]-right_pos[0])**2 + (now[1]-right_pos[1])**2 ) **(2) \n",
        "\n",
        "    if distance_left == distance_right and hand == 'right':\n",
        "      answer += hand[0].upper()\n",
        "      right_pos = now\n",
        "\n",
        "    elif distance_left == distance_right and hand == 'left':\n",
        "      answer += hand[0].upper()\n",
        "      left_pos = now\n",
        "    \n",
        "    elif distance_left < distance_right:\n",
        "      answer += 'L'\n",
        "      left_pos = now\n",
        "    \n",
        "    else:\n",
        "      answer += 'R'\n",
        "      right_pos = now\n",
        "\n",
        "\n",
        "print(answer)"
      ],
      "execution_count": 16,
      "outputs": [
        {
          "output_type": "stream",
          "text": [
            "LRLLLRLLRRL\n"
          ],
          "name": "stdout"
        }
      ]
    },
    {
      "cell_type": "code",
      "metadata": {
        "id": "tSZWuOHSieac"
      },
      "source": [
        "def solution(numbers, hand):\n",
        "  key_pad = {\n",
        "  '1' : [0,0],\n",
        "  '2' : [0,1],\n",
        "  '3' : [0,2],\n",
        "  '4' : [1,0],\n",
        "  '5' : [1,1],\n",
        "  '6' : [1,2],\n",
        "  '7' : [2,0],\n",
        "  '8' : [2,1],\n",
        "  '9' : [2,2],\n",
        "  '*' : [3,0],\n",
        "  '0' : [3,1],\n",
        "  '#' : [3,2],}\n",
        "  \n",
        "  left_pos = key_pad['*']\n",
        "  right_pos = key_pad['#']\n",
        "\n",
        "  answer = ''\n",
        "  for num in numbers:\n",
        "    now = key_pad[str(num)]\n",
        "\n",
        "    if now == key_pad['1'] or now == key_pad['4'] or now == key_pad['7']: \n",
        "        answer += 'L'\n",
        "        left_pos = now\n",
        "\n",
        "    elif now == key_pad['3'] or now == key_pad['6'] or now == key_pad['9']:\n",
        "        answer += 'R'\n",
        "        right_pos = now\n",
        "        \n",
        "    else:\n",
        "        distance_left = abs((now[0]-left_pos[0])) + abs((now[1]-left_pos[1]))\n",
        "        distance_right = abs((now[0]-right_pos[0])) + abs((now[1]-right_pos[1])) \n",
        "\n",
        "        if distance_left == distance_right and hand == 'right':\n",
        "            answer += 'R'\n",
        "            right_pos = now\n",
        "\n",
        "        elif distance_left == distance_right and hand == 'left':\n",
        "            answer += 'L'\n",
        "            left_pos = now\n",
        "\n",
        "        elif distance_left < distance_right:\n",
        "            answer += 'L'\n",
        "            left_pos = now\n",
        "\n",
        "        else:\n",
        "            answer += 'R'\n",
        "            right_pos = now\n",
        "              \n",
        "  return answer"
      ],
      "execution_count": null,
      "outputs": []
    },
    {
      "cell_type": "markdown",
      "metadata": {
        "id": "Z2h7OLm9i90D"
      },
      "source": [
        "## 효율성\n",
        "- 테스트 1 〉\t통과 (0.01ms, 10.4MB)\n",
        "- 테스트 2 〉\t통과 (0.01ms, 10.3MB)\n",
        "- 테스트 3 〉\t통과 (0.01ms, 10.3MB)\n",
        "- 테스트 4 〉\t통과 (0.01ms, 10.3MB)\n",
        "- 테스트 5 〉\t통과 (0.01ms, 10.3MB)\n",
        "- 테스트 6 〉\t통과 (0.01ms, 10.2MB)\n",
        "- 테스트 7 〉\t통과 (0.02ms, 10.4MB)\n",
        "- 테스트 8 〉\t통과 (0.03ms, 10.3MB)\n",
        "- 테스트 9 〉\t통과 (0.03ms, 10.3MB)\n",
        "- 테스트 10 〉\t통과 (0.03ms, 10.3MB)\n",
        "- 테스트 11 〉\t통과 (0.06ms, 10.3MB)\n",
        "- 테스트 12 〉\t통과 (0.05ms, 10.3MB)\n",
        "- 테스트 13 〉\t통과 (0.10ms, 10.3MB)\n",
        "- 테스트 14 〉\t통과 (0.21ms, 10.2MB)\n",
        "- 테스트 15 〉\t통과 (0.57ms, 10.2MB)\n",
        "- 테스트 16 〉\t통과 (0.50ms, 10.1MB)\n",
        "- 테스트 17 〉\t통과 (1.14ms, 10.3MB)\n",
        "- 테스트 18 〉\t통과 (1.10ms, 10.3MB)\n",
        "- 테스트 19 〉\t통과 (1.10ms, 10.3MB)\n",
        "- 테스트 20 〉\t통과 (1.05ms, 10.3MB)"
      ]
    }
  ]
}