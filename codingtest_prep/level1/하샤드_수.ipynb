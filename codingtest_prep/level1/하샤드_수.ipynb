{
  "nbformat": 4,
  "nbformat_minor": 0,
  "metadata": {
    "colab": {
      "name": "하샤드 수.ipynb",
      "provenance": [],
      "authorship_tag": "ABX9TyMnpw+9bt+sjJMkFDy+vTZX",
      "include_colab_link": true
    },
    "kernelspec": {
      "name": "python3",
      "display_name": "Python 3"
    },
    "language_info": {
      "name": "python"
    }
  },
  "cells": [
    {
      "cell_type": "markdown",
      "metadata": {
        "id": "view-in-github",
        "colab_type": "text"
      },
      "source": [
        "<a href=\"https://colab.research.google.com/github/ckim415/Yeonny/blob/master/codingtest_prep/level1/%ED%95%98%EC%83%A4%EB%93%9C_%EC%88%98.ipynb\" target=\"_parent\"><img src=\"https://colab.research.google.com/assets/colab-badge.svg\" alt=\"Open In Colab\"/></a>"
      ]
    },
    {
      "cell_type": "markdown",
      "metadata": {
        "id": "kk0WH89Vy8IE"
      },
      "source": [
        "# 하샤드 수\n"
      ]
    },
    {
      "cell_type": "markdown",
      "metadata": {
        "id": "v9HD5iEFy98o"
      },
      "source": [
        "## 문제설명\n",
        "양의 정수 x가 하샤드 수이려면 x의 자릿수의 합으로 x가 나누어져야 합니다. 예를 들어 18의 자릿수 합은 1+8=9이고, 18은 9로 나누어 떨어지므로 18은 하샤드 수입니다. 자연수 x를 입력받아 x가 하샤드 수인지 아닌지 검사하는 함수, solution을 완성해주세요."
      ]
    },
    {
      "cell_type": "code",
      "metadata": {
        "id": "4duhf-fOy7pi"
      },
      "source": [
        "def solution(arr):\n",
        "  divisor = sum_num(arr) \n",
        "  if arr % divisor == 0:\n",
        "    return True\n",
        "  return False"
      ],
      "execution_count": 5,
      "outputs": []
    },
    {
      "cell_type": "code",
      "metadata": {
        "colab": {
          "base_uri": "https://localhost:8080/"
        },
        "id": "xck878RD1Wx3",
        "outputId": "9c1f4b1d-5533-4853-df7c-a197251a4383"
      },
      "source": [
        "solution(10)"
      ],
      "execution_count": 6,
      "outputs": [
        {
          "output_type": "execute_result",
          "data": {
            "text/plain": [
              "True"
            ]
          },
          "metadata": {
            "tags": []
          },
          "execution_count": 6
        }
      ]
    },
    {
      "cell_type": "code",
      "metadata": {
        "id": "WQpczFGa0zWV"
      },
      "source": [
        "def sum_num(arr):\n",
        "  sum = ''\n",
        "  for i in str(arr):\n",
        "    sum += \"+\"+i  \n",
        "\n",
        "  return eval(sum)"
      ],
      "execution_count": 3,
      "outputs": []
    },
    {
      "cell_type": "code",
      "metadata": {
        "colab": {
          "base_uri": "https://localhost:8080/"
        },
        "id": "Eb9GIHED1FcD",
        "outputId": "1913eabb-ac65-4013-81ae-7a7e34f3d5fd"
      },
      "source": [
        "sum_num(10)"
      ],
      "execution_count": 4,
      "outputs": [
        {
          "output_type": "execute_result",
          "data": {
            "text/plain": [
              "1"
            ]
          },
          "metadata": {
            "tags": []
          },
          "execution_count": 4
        }
      ]
    },
    {
      "cell_type": "code",
      "metadata": {
        "id": "VvmWyABJ10TJ"
      },
      "source": [
        "def solution(x):\n",
        "\n",
        "  return x % sum([int(i) for i in str(x)]) == 0"
      ],
      "execution_count": 7,
      "outputs": []
    },
    {
      "cell_type": "code",
      "metadata": {
        "colab": {
          "base_uri": "https://localhost:8080/"
        },
        "id": "Y5xG_Abg2L1a",
        "outputId": "6276c429-a428-4a22-9932-fb92dcbf7f15"
      },
      "source": [
        "solution(10)"
      ],
      "execution_count": 8,
      "outputs": [
        {
          "output_type": "execute_result",
          "data": {
            "text/plain": [
              "True"
            ]
          },
          "metadata": {
            "tags": []
          },
          "execution_count": 8
        }
      ]
    }
  ]
}