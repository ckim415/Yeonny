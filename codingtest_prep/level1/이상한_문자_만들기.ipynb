{
  "nbformat": 4,
  "nbformat_minor": 0,
  "metadata": {
    "colab": {
      "name": "이상한 문자 만들기.ipynb",
      "provenance": [],
      "authorship_tag": "ABX9TyORMxfPaW3F4x5J+zS66Mdc",
      "include_colab_link": true
    },
    "kernelspec": {
      "name": "python3",
      "display_name": "Python 3"
    },
    "language_info": {
      "name": "python"
    }
  },
  "cells": [
    {
      "cell_type": "markdown",
      "metadata": {
        "id": "view-in-github",
        "colab_type": "text"
      },
      "source": [
        "<a href=\"https://colab.research.google.com/github/ckim415/Yeonny/blob/master/codingtest_prep/level1/%EC%9D%B4%EC%83%81%ED%95%9C_%EB%AC%B8%EC%9E%90_%EB%A7%8C%EB%93%A4%EA%B8%B0.ipynb\" target=\"_parent\"><img src=\"https://colab.research.google.com/assets/colab-badge.svg\" alt=\"Open In Colab\"/></a>"
      ]
    },
    {
      "cell_type": "markdown",
      "metadata": {
        "id": "pcH2_eAzSsAz"
      },
      "source": [
        "# 이상한 문자 만들기"
      ]
    },
    {
      "cell_type": "markdown",
      "metadata": {
        "id": "gIo5nCKLStvC"
      },
      "source": [
        "## 문제 설명\n",
        "- 문자열 s는 한 개 이상의 단어로 구성되어 있습니다. 각 단어는 하나 이상의 공백문자로 구분되어 있습니다. 각 단어의 짝수번째 알파벳은 대문자로, 홀수번째 알파벳은 소문자로 바꾼 문자열을 리턴하는 함수, solution을 완성하세요.\n",
        "\n",
        "## 제한 사항\n",
        "- 문자열 전체의 짝/홀수 인덱스가 아니라, 단어(공백을 기준)별로 짝/홀수 인덱스를 판단해야합니다.\n",
        "- 첫 번째 글자는 0번째 인덱스로 보아 짝수번째 알파벳으로 처리해야 합니다.\n"
      ]
    },
    {
      "cell_type": "code",
      "metadata": {
        "id": "HMbtVRdRN1pu"
      },
      "source": [
        "#이상한 문자 만들기\n",
        "s = \"try hello world\""
      ],
      "execution_count": 1,
      "outputs": []
    },
    {
      "cell_type": "code",
      "metadata": {
        "colab": {
          "base_uri": "https://localhost:8080/"
        },
        "id": "bU0rm2lMN6ES",
        "outputId": "08d48f62-6f78-4e27-f343-fa96fe1767ca"
      },
      "source": [
        "for i in s:\n",
        "  print(s)"
      ],
      "execution_count": 2,
      "outputs": [
        {
          "output_type": "stream",
          "text": [
            "try hello world\n",
            "try hello world\n",
            "try hello world\n",
            "try hello world\n",
            "try hello world\n",
            "try hello world\n",
            "try hello world\n",
            "try hello world\n",
            "try hello world\n",
            "try hello world\n",
            "try hello world\n",
            "try hello world\n",
            "try hello world\n",
            "try hello world\n",
            "try hello world\n"
          ],
          "name": "stdout"
        }
      ]
    },
    {
      "cell_type": "code",
      "metadata": {
        "colab": {
          "base_uri": "https://localhost:8080/"
        },
        "id": "QGx7-N85N8lt",
        "outputId": "182d81ed-1bc0-4846-b196-4f15d552c1ba"
      },
      "source": [
        "len(s)"
      ],
      "execution_count": 3,
      "outputs": [
        {
          "output_type": "execute_result",
          "data": {
            "text/plain": [
              "15"
            ]
          },
          "metadata": {
            "tags": []
          },
          "execution_count": 3
        }
      ]
    },
    {
      "cell_type": "code",
      "metadata": {
        "id": "GCsB5kzgOA7f"
      },
      "source": [
        "s_split = s.split(' ')\n",
        "# for i in range(len(s)):\n",
        "#   if i % 2 ==0:\n",
        "#     answer += s[i].upper()\n",
        "#   else:\n",
        "#     answer += s[i].lower()"
      ],
      "execution_count": 6,
      "outputs": []
    },
    {
      "cell_type": "code",
      "metadata": {
        "id": "tI39HB_WQRPF"
      },
      "source": [
        "def solution(s):\n",
        "\n",
        "    answer = ''\n",
        "    for idx,word in enumerate(s.split(' ')):\n",
        "        for i in range(len(word)):\n",
        "            if i % 2 ==0:\n",
        "                answer += word[i].upper()\n",
        "            else:\n",
        "                answer += word[i].lower()\n",
        "                \n",
        "        if idx == len(s.split(' '))-1:\n",
        "            \n",
        "            return answer\n",
        "        \n",
        "        answer += ' '"
      ],
      "execution_count": 13,
      "outputs": []
    },
    {
      "cell_type": "code",
      "metadata": {
        "colab": {
          "base_uri": "https://localhost:8080/",
          "height": 35
        },
        "id": "vq6U6vLgOTm9",
        "outputId": "727121ca-d18d-423a-dbb1-2650e5163baf"
      },
      "source": [
        "answer"
      ],
      "execution_count": 14,
      "outputs": [
        {
          "output_type": "execute_result",
          "data": {
            "application/vnd.google.colaboratory.intrinsic+json": {
              "type": "string"
            },
            "text/plain": [
              "'TrY HeLlO WoRlD '"
            ]
          },
          "metadata": {
            "tags": []
          },
          "execution_count": 14
        }
      ]
    }
  ]
}