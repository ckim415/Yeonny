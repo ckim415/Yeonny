{
  "nbformat": 4,
  "nbformat_minor": 0,
  "metadata": {
    "colab": {
      "name": "콜라츠 추측.ipynb",
      "provenance": [],
      "authorship_tag": "ABX9TyNxec7uaP0VQ8XpxHPfhQG0",
      "include_colab_link": true
    },
    "kernelspec": {
      "name": "python3",
      "display_name": "Python 3"
    },
    "language_info": {
      "name": "python"
    }
  },
  "cells": [
    {
      "cell_type": "markdown",
      "metadata": {
        "id": "view-in-github",
        "colab_type": "text"
      },
      "source": [
        "<a href=\"https://colab.research.google.com/github/ckim415/Yeonny/blob/master/codingtest_prep/level1/%EC%BD%9C%EB%9D%BC%EC%B8%A0_%EC%B6%94%EC%B8%A1.ipynb\" target=\"_parent\"><img src=\"https://colab.research.google.com/assets/colab-badge.svg\" alt=\"Open In Colab\"/></a>"
      ]
    },
    {
      "cell_type": "markdown",
      "metadata": {
        "id": "heIWp5HICeQz"
      },
      "source": [
        "# 콜라츠 추측"
      ]
    },
    {
      "cell_type": "markdown",
      "metadata": {
        "id": "qvFcGAlDCg4b"
      },
      "source": [
        "##문제 설명\n",
        "1937년 Collatz란 사람에 의해 제기된 이 추측은, 주어진 수가 1이 될때까지 다음 작업을 반복하면, 모든 수를 1로 만들 수 있다는 추측입니다. 작업은 다음과 같습니다.\n",
        "\n",
        "\n",
        "\n",
        "```\n",
        "1-1. 입력된 수가 짝수라면 2로 나눕니다. \n",
        "1-2. 입력된 수가 홀수라면 3을 곱하고 1을 더합니다.\n",
        "2. 결과로 나온 수에 같은 작업을 1이 될 때까지 반복합니다.\n",
        "```\n",
        "\n",
        "예를 들어, 입력된 수가 6이라면 6→3→10→5→16→8→4→2→1 이 되어 총 8번 만에 1이 됩니다. 위 작업을 몇 번이나 반복해야하는지 반환하는 함수, solution을 완성해 주세요. 단, 작업을 500번을 반복해도 1이 되지 않는다면 –1을 반환해 주세요.\n",
        "\n",
        "##제한 사항\n",
        "입력된 수, num은 1 이상 8000000 미만인 정수입니다."
      ]
    },
    {
      "cell_type": "code",
      "metadata": {
        "id": "AI2NItrNCdgq"
      },
      "source": [
        "n = 6"
      ],
      "execution_count": 1,
      "outputs": []
    },
    {
      "cell_type": "code",
      "metadata": {
        "colab": {
          "base_uri": "https://localhost:8080/"
        },
        "id": "QtdkXSSMCx_h",
        "outputId": "146cad5b-09e9-42e4-83f9-29b7a90a8a58"
      },
      "source": [
        "def solution(num):\n",
        "    answer = 0\n",
        "    while num >1:\n",
        "        if num % 2 == 0:\n",
        "            num /= 2\n",
        "            answer += 1\n",
        "\n",
        "        else:\n",
        "            num = num*3 + 1\n",
        "            answer += 1\n",
        "\n",
        "    if answer >= 500:\n",
        "        return -1\n",
        "    \n",
        "    return answer\n",
        "\n",
        "solution(6)"
      ],
      "execution_count": 14,
      "outputs": [
        {
          "output_type": "execute_result",
          "data": {
            "text/plain": [
              "8"
            ]
          },
          "metadata": {
            "tags": []
          },
          "execution_count": 14
        }
      ]
    },
    {
      "cell_type": "markdown",
      "metadata": {
        "id": "fWmfP4Q7EdJe"
      },
      "source": [
        "## 효울성\n",
        "- 테스트 1 〉\t통과 (0.05ms, 10.1MB)\n",
        "- 테스트 2 〉\t통과 (0.07ms, 10.1MB)\n",
        "- 테스트 3 〉\t통과 (0.06ms, 10.1MB)\n",
        "- 테스트 4 〉\t통과 (0.03ms, 10.2MB)\n",
        "- 테스트 5 〉\t통과 (0.18ms, 10.2MB)\n",
        "- 테스트 6 〉\t통과 (0.04ms, 10.2MB)\n",
        "- 테스트 7 〉\t통과 (0.75ms, 10.2MB)\n",
        "- 테스트 8 〉\t통과 (0.04ms, 10.2MB)\n",
        "- 테스트 9 〉\t통과 (0.02ms, 10.2MB)\n",
        "- 테스트 10 〉\t통과 (0.19ms, 10.2MB)\n",
        "- 테스트 11 〉\t통과 (0.19ms, 10.2MB)\n",
        "- 테스트 12 〉\t통과 (0.03ms, 10MB)\n",
        "- 테스트 13 〉\t통과 (0.00ms, 10.1MB)\n",
        "- 테스트 14 〉\t통과 (0.04ms, 10.3MB)\n",
        "- 테스트 15 〉\t통과 (0.05ms, 10.3MB)\n",
        "- 테스트 16 〉\t통과 (0.03ms, 10.2MB)"
      ]
    },
    {
      "cell_type": "markdown",
      "metadata": {
        "id": "taFbAQ3-EwGr"
      },
      "source": [
        "## 다른풀이\n",
        "\n",
        "\n",
        "```\n",
        "def collatz(num):\n",
        "    for i in range(500):\n",
        "        num = num / 2 if num % 2 == 0 else num*3 + 1\n",
        "        if num == 1:\n",
        "            return i + 1\n",
        "    return -1\n",
        "```\n",
        "\n"
      ]
    }
  ]
}