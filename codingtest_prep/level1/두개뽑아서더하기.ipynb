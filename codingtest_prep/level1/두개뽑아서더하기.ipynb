{
  "nbformat": 4,
  "nbformat_minor": 0,
  "metadata": {
    "colab": {
      "name": "두개뽑아서더하기.ipynb",
      "provenance": [],
      "authorship_tag": "ABX9TyMSLizohnkmNVJcgd6kbSZf",
      "include_colab_link": true
    },
    "kernelspec": {
      "name": "python3",
      "display_name": "Python 3"
    },
    "language_info": {
      "name": "python"
    }
  },
  "cells": [
    {
      "cell_type": "markdown",
      "metadata": {
        "id": "view-in-github",
        "colab_type": "text"
      },
      "source": [
        "<a href=\"https://colab.research.google.com/github/ckim415/Yeonny/blob/master/codingtest_prep/level1/%EB%91%90%EA%B0%9C%EB%BD%91%EC%95%84%EC%84%9C%EB%8D%94%ED%95%98%EA%B8%B0.ipynb\" target=\"_parent\"><img src=\"https://colab.research.google.com/assets/colab-badge.svg\" alt=\"Open In Colab\"/></a>"
      ]
    },
    {
      "cell_type": "markdown",
      "metadata": {
        "id": "n6SZ2Kc3pmha"
      },
      "source": [
        "# 두 개 뽑아서 더하기"
      ]
    },
    {
      "cell_type": "markdown",
      "metadata": {
        "id": "jPxiUnpCpv_Y"
      },
      "source": [
        "## 문제설명\n",
        "- 정수 배열 numbers가 주어집니다. numbers에서 서로 다른 인덱스에 있는 두 개의 수를 뽑아 더해서 만들 수 있는 모든 수를 배열에 오름차순으로 담아 return 하도록 solution 함수를 완성해주세요."
      ]
    },
    {
      "cell_type": "markdown",
      "metadata": {
        "id": "18RnCNCip2Ct"
      },
      "source": [
        "## 제한사항\n",
        "- numbers의 길이는 2 이상 100 이하입니다.\n",
        "- numbers의 모든 수는 0 이상 100 이하입니다.\n"
      ]
    },
    {
      "cell_type": "code",
      "metadata": {
        "id": "jwXNUmEPn31C"
      },
      "source": [
        "from itertools import combinations"
      ],
      "execution_count": 1,
      "outputs": []
    },
    {
      "cell_type": "code",
      "metadata": {
        "id": "QMwby6o5oFpj"
      },
      "source": [
        "numbers= [2,1,3,4,1]\n",
        "combi = combinations(numbers,2)"
      ],
      "execution_count": 10,
      "outputs": []
    },
    {
      "cell_type": "code",
      "metadata": {
        "id": "U9MiDD5-oKj-"
      },
      "source": [
        "from itertools import combinations\n",
        "def solution(numbers):\n",
        "  answer = []\n",
        "  for x,y in combinations(numbers,2):\n",
        "      answer.append(x+y)\n",
        "      \n",
        "  return sorted(list(set(answer)))"
      ],
      "execution_count": 11,
      "outputs": []
    },
    {
      "cell_type": "code",
      "metadata": {
        "colab": {
          "base_uri": "https://localhost:8080/"
        },
        "id": "SnPXD_2IoTO3",
        "outputId": "e8172ea0-914e-4ede-a801-57d894879311"
      },
      "source": [
        "solution(numbers)"
      ],
      "execution_count": 12,
      "outputs": [
        {
          "output_type": "execute_result",
          "data": {
            "text/plain": [
              "[2, 3, 4, 5, 6, 7]"
            ]
          },
          "metadata": {
            "tags": []
          },
          "execution_count": 12
        }
      ]
    },
    {
      "cell_type": "markdown",
      "metadata": {
        "id": "WFB_A48opN74"
      },
      "source": [
        "- 테스트 1 〉\t통과 (0.01ms, 10.1MB)\n",
        "- 테스트 2 〉\t통과 (0.01ms, 10MB)\n",
        "- 테스트 3 〉\t통과 (0.01ms, 10.1MB)\n",
        "- 테스트 4 〉\t통과 (0.01ms, 9.93MB)\n",
        "- 테스트 5 〉\t통과 (0.02ms, 10.2MB)\n",
        "- 테스트 6 〉\t통과 (0.03ms, 9.92MB)\n",
        "- 테스트 7 〉\t통과 (0.57ms, 10.2MB)\n",
        "- 테스트 8 〉\t통과 (0.63ms, 10.2MB)\n",
        "- 테스트 9 〉\t통과 (0.58ms, 10.1MB)"
      ]
    }
  ]
}