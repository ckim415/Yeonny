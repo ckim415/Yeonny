{
  "nbformat": 4,
  "nbformat_minor": 0,
  "metadata": {
    "colab": {
      "name": "문자열내림차순.ipynb",
      "provenance": [],
      "authorship_tag": "ABX9TyM5F9+BKNLkkyF+msFDNmQa",
      "include_colab_link": true
    },
    "kernelspec": {
      "name": "python3",
      "display_name": "Python 3"
    },
    "language_info": {
      "name": "python"
    }
  },
  "cells": [
    {
      "cell_type": "markdown",
      "metadata": {
        "id": "view-in-github",
        "colab_type": "text"
      },
      "source": [
        "<a href=\"https://colab.research.google.com/github/ckim415/Yeonny/blob/master/codingtest_prep/level1/%EB%AC%B8%EC%9E%90%EC%97%B4%EB%82%B4%EB%A6%BC%EC%B0%A8%EC%88%9C.ipynb\" target=\"_parent\"><img src=\"https://colab.research.google.com/assets/colab-badge.svg\" alt=\"Open In Colab\"/></a>"
      ]
    },
    {
      "cell_type": "markdown",
      "metadata": {
        "id": "xk_B9VFnVBwh"
      },
      "source": [
        "#문자열 내림차순으로 배열하기"
      ]
    },
    {
      "cell_type": "markdown",
      "metadata": {
        "id": "BjzfEdsCVFYl"
      },
      "source": [
        "## 문제설명\n",
        "문자열 s에 나타나는 문자를 큰것부터 작은 순으로 정렬해 새로운 문자열을 리턴하는 함수, solution을 완성해주세요.\n",
        "s는 영문 대소문자로만 구성되어 있으며, 대문자는 소문자보다 작은 것으로 간주합니다.\n",
        "\n",
        "##제한 사항\n",
        "str은 길이 1 이상인 문자열입니다."
      ]
    },
    {
      "cell_type": "code",
      "metadata": {
        "id": "XZGTdqMLU7tR"
      },
      "source": [
        "s = 'Zbcdefg'"
      ],
      "execution_count": 1,
      "outputs": []
    },
    {
      "cell_type": "code",
      "metadata": {
        "colab": {
          "base_uri": "https://localhost:8080/",
          "height": 35
        },
        "id": "2kLD3H85VN1x",
        "outputId": "5c73decf-6b9a-4b77-adc6-d87bbcca216b"
      },
      "source": [
        "def solution(s):\n",
        "  answer = [i for i in s]\n",
        "  answer.sort(reverse=True)\n",
        "  return ''.join(answer)"
      ],
      "execution_count": 5,
      "outputs": [
        {
          "output_type": "execute_result",
          "data": {
            "application/vnd.google.colaboratory.intrinsic+json": {
              "type": "string"
            },
            "text/plain": [
              "'gfedcbZ'"
            ]
          },
          "metadata": {
            "tags": []
          },
          "execution_count": 5
        }
      ]
    },
    {
      "cell_type": "code",
      "metadata": {
        "colab": {
          "base_uri": "https://localhost:8080/",
          "height": 35
        },
        "id": "qkAVZAc3V_Kj",
        "outputId": "2ab8fe5a-bc89-4da4-842f-da1aac9f30aa"
      },
      "source": [
        "def solution(s):\n",
        "  return ''.join(sorted(s,reverse=True))\n",
        "\n",
        "solution(s)"
      ],
      "execution_count": 6,
      "outputs": [
        {
          "output_type": "execute_result",
          "data": {
            "application/vnd.google.colaboratory.intrinsic+json": {
              "type": "string"
            },
            "text/plain": [
              "'gfedcbZ'"
            ]
          },
          "metadata": {
            "tags": []
          },
          "execution_count": 6
        }
      ]
    },
    {
      "cell_type": "markdown",
      "metadata": {
        "id": "vN2YDeV4V11z"
      },
      "source": [
        "## 정확성\n",
        "- 테스트 1 〉\t통과 (0.01ms, 10.2MB)\n",
        "- 테스트 2 〉\t통과 (0.01ms, 10.1MB)\n",
        "- 테스트 3 〉\t통과 (0.01ms, 10.2MB)\n",
        "- 테스트 4 〉\t통과 (0.01ms, 10.2MB)\n",
        "- 테스트 5 〉\t통과 (0.08ms, 10.2MB)\n",
        "- 테스트 6 〉\t통과 (0.04ms, 10.3MB)\n",
        "- 테스트 7 〉\t통과 (0.01ms, 10.2MB)\n",
        "- 테스트 8 〉\t통과 (0.02ms, 10.2MB)\n",
        "- 테스트 9 〉\t통과 (0.02ms, 10.2MB)\n",
        "- 테스트 10 〉\t통과 (0.02ms, 10.2MB)\n",
        "- 테스트 11 〉\t통과 (0.01ms, 10.2MB)\n",
        "- 테스트 12 〉\t통과 (0.01ms, 10.1MB)\n",
        "- 테스트 13 〉\t통과 (0.01ms, 10.1MB)\n",
        "- 테스트 14 〉\t통과 (0.01ms, 10.2MB)\n",
        "- 테스트 15 〉\t통과 (0.01ms, 10.1MB)\n",
        "- 테스트 16 〉\t통과 (0.01ms, 10.2MB)"
      ]
    }
  ]
}