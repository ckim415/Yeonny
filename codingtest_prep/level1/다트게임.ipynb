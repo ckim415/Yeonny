{
  "nbformat": 4,
  "nbformat_minor": 0,
  "metadata": {
    "colab": {
      "name": "다트게임.ipynb",
      "provenance": [],
      "authorship_tag": "ABX9TyNI31GrtoCFJUPJz5w0nuyn",
      "include_colab_link": true
    },
    "kernelspec": {
      "name": "python3",
      "display_name": "Python 3"
    },
    "language_info": {
      "name": "python"
    }
  },
  "cells": [
    {
      "cell_type": "markdown",
      "metadata": {
        "id": "view-in-github",
        "colab_type": "text"
      },
      "source": [
        "<a href=\"https://colab.research.google.com/github/ckim415/Yeonny/blob/master/codingtest_prep/level1/%EB%8B%A4%ED%8A%B8%EA%B2%8C%EC%9E%84.ipynb\" target=\"_parent\"><img src=\"https://colab.research.google.com/assets/colab-badge.svg\" alt=\"Open In Colab\"/></a>"
      ]
    },
    {
      "cell_type": "markdown",
      "metadata": {
        "id": "0RJCke68n0j-"
      },
      "source": [
        "# 다트 게임"
      ]
    },
    {
      "cell_type": "markdown",
      "metadata": {
        "id": "x2K0CcYln2qt"
      },
      "source": [
        "## 문제 설명\n",
        "- 카카오톡 게임별의 하반기 신규 서비스로 다트 게임을 출시하기로 했다. 다트 게임은 다트판에 다트를 세 차례 던져 그 점수의 합계로 실력을 겨루는 게임으로, 모두가 간단히 즐길 수 있다.\n",
        "- 갓 입사한 무지는 코딩 실력을 인정받아 게임의 핵심 부분인 점수 계산 로직을 맡게 되었다. 다트 게임의 점수 계산 로직은 아래와 같다.\n",
        "\n",
        "  - 다트 게임은 총 3번의 기회로 구성된다.\n",
        "  - 각 기회마다 얻을 수 있는 점수는 0점에서 10점까지이다.\n",
        "  - 점수와 함께 Single(S), Double(D), Triple(T) 영역이 존재하고 각 영역 당첨 시 점수에서 1제곱, 2제곱, 3제곱 (점수1 , 점수2 , 점수3 )으로 계산된다.\n",
        "  - 옵션으로 스타상(*) , 아차상(#)이 존재하며 스타상(*) 당첨 시 해당 점수와 바로 전에 얻은 점수를 각 2배로 만든다. 아차상(#) 당첨 시 해당 점수는 마이너스된다.\n",
        "  - 스타상(*)은 첫 번째 기회에서도 나올 수 있다. 이 경우 첫 번째 스타상(*)의 점수만 2배가 된다. (예제 4번 참고)\n",
        "  - 스타상(*)의 효과는 다른 스타상(*)의 효과와 중첩될 수 있다. 이 경우 중첩된 스타상(*) 점수는 4배가 된다. (예제 4번 참고)\n",
        "  - 스타상(*)의 효과는 아차상(#)의 효과와 중첩될 수 있다. 이 경우 중첩된 아차상(#)의 점수는 -2배가 된다. (예제 5번 참고)\n",
        "  - Single(S), Double(D), Triple(T)은 점수마다 하나씩 존재한다.\n",
        "  - 스타상(*), 아차상(#)은 점수마다 둘 중 하나만 존재할 수 있으며, 존재하지 않을 수도 있다.\n",
        "- 0~10의 정수와 문자 S, D, T, *, #로 구성된 문자열이 입력될 시 총점수를 반환하는 함수를 작성하라."
      ]
    },
    {
      "cell_type": "markdown",
      "metadata": {
        "id": "Hphf5mjXoLvB"
      },
      "source": [
        "## 입력형식\n",
        "- \"점수|보너스|[옵션]\"으로 이루어진 문자열 3세트.\n",
        "- 예) 1S2D*3T\n",
        "\n",
        "- 점수는 0에서 10 사이의 정수이다.\n",
        "- 보너스는 S, D, T 중 하나이다.\n",
        "- 옵선은 *이나 # 중 하나이며, 없을 수도 있다.\n",
        "## 출력 형식\n",
        "- 3번의 기회에서 얻은 점수 합계에 해당하는 정수값을 출력한다.\n",
        "예) 37"
      ]
    },
    {
      "cell_type": "code",
      "metadata": {
        "id": "Y9549kyjn0M1"
      },
      "source": [
        "dartResult = '1D2S#10S'"
      ],
      "execution_count": 47,
      "outputs": []
    },
    {
      "cell_type": "code",
      "metadata": {
        "id": "i9DSjPkMueMk"
      },
      "source": [
        "import re"
      ],
      "execution_count": 41,
      "outputs": []
    },
    {
      "cell_type": "code",
      "metadata": {
        "id": "eQOOGMFR4YUL"
      },
      "source": [
        "pattern = re.compile('(\\d+)([SDT])([*#]?)')\n",
        "dart = pattern.findall(dartResult)"
      ],
      "execution_count": 48,
      "outputs": []
    },
    {
      "cell_type": "code",
      "metadata": {
        "colab": {
          "base_uri": "https://localhost:8080/"
        },
        "id": "8sSnMti34ehy",
        "outputId": "6ae7c9d1-1666-491d-d728-5970694d9f37"
      },
      "source": [
        "dart"
      ],
      "execution_count": 49,
      "outputs": [
        {
          "output_type": "execute_result",
          "data": {
            "text/plain": [
              "[('1', 'D', ''), ('2', 'S', '#'), ('10', 'S', '')]"
            ]
          },
          "metadata": {
            "tags": []
          },
          "execution_count": 49
        }
      ]
    },
    {
      "cell_type": "code",
      "metadata": {
        "id": "aLAjYg_wwLCS"
      },
      "source": [
        "bonus = {'S' : 1, 'D' : 2, 'T' : 3}\n",
        "option = {'' : 1, '*' : 2, '#' : -1}"
      ],
      "execution_count": 46,
      "outputs": []
    },
    {
      "cell_type": "code",
      "metadata": {
        "id": "6a1jwN3Z4y96"
      },
      "source": [
        "for i in range(3):\n",
        "  if dart[i][2] == '*' and i>0:\n",
        "    dart[i-1] *= 2\n",
        "\n",
        "  dart[i] = int(dart[i][0]) ** bonus[dart[i][1]] * option[dart[i][2]]\n",
        "\n",
        "  "
      ],
      "execution_count": 54,
      "outputs": []
    },
    {
      "cell_type": "code",
      "metadata": {
        "colab": {
          "base_uri": "https://localhost:8080/"
        },
        "id": "s-6MdufX7BBn",
        "outputId": "5b1a9975-46db-4119-97da-0479da76dca6"
      },
      "source": [
        "dart"
      ],
      "execution_count": 55,
      "outputs": [
        {
          "output_type": "execute_result",
          "data": {
            "text/plain": [
              "[1, -2, 10]"
            ]
          },
          "metadata": {
            "tags": []
          },
          "execution_count": 55
        }
      ]
    },
    {
      "cell_type": "code",
      "metadata": {
        "colab": {
          "base_uri": "https://localhost:8080/"
        },
        "id": "jWjSZEWV8TLC",
        "outputId": "ed044b46-133e-4613-8d12-2660741f4a49"
      },
      "source": [
        "sum(dart)"
      ],
      "execution_count": 56,
      "outputs": [
        {
          "output_type": "execute_result",
          "data": {
            "text/plain": [
              "9"
            ]
          },
          "metadata": {
            "tags": []
          },
          "execution_count": 56
        }
      ]
    }
  ]
}