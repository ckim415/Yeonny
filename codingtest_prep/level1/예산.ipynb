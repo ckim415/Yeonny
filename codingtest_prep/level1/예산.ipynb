{
  "nbformat": 4,
  "nbformat_minor": 0,
  "metadata": {
    "colab": {
      "name": "예산.ipynb",
      "provenance": [],
      "toc_visible": true,
      "authorship_tag": "ABX9TyNUStejSmrDvKhWntiNmWK5",
      "include_colab_link": true
    },
    "kernelspec": {
      "name": "python3",
      "display_name": "Python 3"
    },
    "language_info": {
      "name": "python"
    }
  },
  "cells": [
    {
      "cell_type": "markdown",
      "metadata": {
        "id": "view-in-github",
        "colab_type": "text"
      },
      "source": [
        "<a href=\"https://colab.research.google.com/github/ckim415/Yeonny/blob/master/codingtest_prep/level1/%EC%98%88%EC%82%B0.ipynb\" target=\"_parent\"><img src=\"https://colab.research.google.com/assets/colab-badge.svg\" alt=\"Open In Colab\"/></a>"
      ]
    },
    {
      "cell_type": "markdown",
      "metadata": {
        "id": "hclJxpkNcHT8"
      },
      "source": [
        "# 예산"
      ]
    },
    {
      "cell_type": "markdown",
      "metadata": {
        "id": "Mv-mHvFdcJ0h"
      },
      "source": [
        "## 문제 설명\n",
        "- S사에서는 각 부서에 필요한 물품을 지원해 주기 위해 부서별로 물품을 구매하는데 필요한 금액을 조사했습니다. 그러나, 전체 예산이 정해져 있기 때문에 모든 부서의 물품을 구매해 줄 수는 없습니다. 그래서 최대한 많은 부서의 물품을 구매해 줄 수 있도록 하려고 합니다.\n",
        "\n",
        "- 물품을 구매해 줄 때는 각 부서가 신청한 금액만큼을 모두 지원해 줘야 합니다. 예를 들어 1,000원을 신청한 부서에는 정확히 1,000원을 지원해야 하며, 1,000원보다 적은 금액을 지원해 줄 수는 없습니다.\n",
        "\n",
        "- 부서별로 신청한 금액이 들어있는 배열 d와 예산 budget이 매개변수로 주어질 때, 최대 몇 개의 부서에 물품을 지원할 수 있는지 return 하도록 solution 함수를 완성해주세요."
      ]
    },
    {
      "cell_type": "markdown",
      "metadata": {
        "id": "zt1hsiILcSv3"
      },
      "source": [
        "## 제한사항\n",
        "\n",
        "- d는 부서별로 신청한 금액이 들어있는 배열이며, 길이(전체 부서의 개수)는 1 이상 100 이하입니다.\n",
        "- d의 각 원소는 부서별로 신청한 금액을 나타내며, 부서별 신청 금액은 1 이상 100,000 이하의 자연수입니다.\n",
        "- budget은 예산을 나타내며, 1 이상 10,000,000 이하의 자연수입니다."
      ]
    },
    {
      "cell_type": "code",
      "metadata": {
        "id": "HGyx3988cGIo"
      },
      "source": [
        "d = [1,3,2,5,4]\n",
        "budget = 9\n",
        "from itertools import combinations\n",
        "def solution(d, budget):\n",
        "  combi = combinations(d, len(d))\n",
        "  for numbers in combi: \n",
        "    if sum(numbers) <= budget :\n",
        "      return len(d)\n",
        "\n",
        "  d.remove(max(d))\n",
        "  return solution(d, budget)"
      ],
      "execution_count": 2,
      "outputs": []
    },
    {
      "cell_type": "code",
      "metadata": {
        "colab": {
          "base_uri": "https://localhost:8080/"
        },
        "id": "8CayFVATg2G3",
        "outputId": "e2c8d159-25b9-4101-ebc2-a90ed1c5ff58"
      },
      "source": [
        "solution(d, budget)"
      ],
      "execution_count": 3,
      "outputs": [
        {
          "output_type": "execute_result",
          "data": {
            "text/plain": [
              "3"
            ]
          },
          "metadata": {
            "tags": []
          },
          "execution_count": 3
        }
      ]
    },
    {
      "cell_type": "code",
      "metadata": {
        "colab": {
          "base_uri": "https://localhost:8080/"
        },
        "id": "KIahtaMtg8Yg",
        "outputId": "0bdf53dd-cb6a-4fcc-90ae-929a3ff38c35"
      },
      "source": [
        "solution([2,2,3,3], 10)"
      ],
      "execution_count": 4,
      "outputs": [
        {
          "output_type": "execute_result",
          "data": {
            "text/plain": [
              "4"
            ]
          },
          "metadata": {
            "tags": []
          },
          "execution_count": 4
        }
      ]
    },
    {
      "cell_type": "markdown",
      "metadata": {
        "id": "k1K8Zv1Bk-2w"
      },
      "source": [
        "- 테스트 1 〉\t통과 (0.00ms, 10MB)\n",
        "- 테스트 2 〉\t통과 (0.01ms, 10.2MB)\n",
        "- 테스트 3 〉\t통과 (0.01ms, 10.1MB)\n",
        "- 테스트 4 〉\t통과 (0.01ms, 10.2MB)\n",
        "- 테스트 5 〉\t통과 (0.01ms, 10.1MB)\n",
        "- 테스트 6 〉\t통과 (0.00ms, 10.1MB)\n",
        "- 테스트 7 〉\t통과 (0.21ms, 10.2MB)\n",
        "- 테스트 8 〉\t통과 (0.40ms, 10.2MB)\n",
        "- 테스트 9 〉\t통과 (0.37ms, 10.1MB)\n",
        "- 테스트 10 〉\t통과 (0.34ms, 10.3MB)\n",
        "- 테스트 11 〉\t통과 (0.32ms, 10.3MB)\n",
        "- 테스트 12 〉\t통과 (0.20ms, 10.2MB)\n",
        "- 테스트 13 〉\t통과 (0.35ms, 10.2MB)\n",
        "- 테스트 14 〉\t통과 (0.33ms, 10.3MB)\n",
        "- 테스트 15 〉\t통과 (0.17ms, 10.3MB)\n",
        "- 테스트 16 〉\t통과 (0.10ms, 10.2MB)\n",
        "- 테스트 17 〉\t통과 (0.08ms, 10.2MB)\n",
        "- 테스트 18 〉\t통과 (0.01ms, 10.1MB)\n",
        "- 테스트 19 〉\t통과 (0.01ms, 10.3MB)\n",
        "- 테스트 20 〉\t통과 (0.01ms, 10.2MB)\n",
        "- 테스트 21 〉\t통과 (0.01ms, 10.3MB)\n",
        "- 테스트 22 〉\t통과 (0.01ms, 10.1MB)\n",
        "- 테스트 23 〉\t통과 (0.01ms, 10.2MB)"
      ]
    },
    {
      "cell_type": "markdown",
      "metadata": {
        "id": "SSKAXw-Mh8mF"
      },
      "source": [
        "## 다른풀이"
      ]
    },
    {
      "cell_type": "code",
      "metadata": {
        "id": "2BvNFzGvh_cY"
      },
      "source": [
        "def solution(d, budget):\n",
        "  d.sort()\n",
        "  cnt = 0\n",
        "  for num in d: \n",
        "    budget -= num\n",
        "    if budget <0:\n",
        "      break\n",
        "    cnt +=1\n",
        "\n",
        "  return cnt"
      ],
      "execution_count": 5,
      "outputs": []
    },
    {
      "cell_type": "code",
      "metadata": {
        "colab": {
          "base_uri": "https://localhost:8080/"
        },
        "id": "flLNuzhFkLpA",
        "outputId": "a743f582-31b1-491b-eeb6-0a66c9467947"
      },
      "source": [
        "solution([2,2,3,3], 10)"
      ],
      "execution_count": 6,
      "outputs": [
        {
          "output_type": "execute_result",
          "data": {
            "text/plain": [
              "4"
            ]
          },
          "metadata": {
            "tags": []
          },
          "execution_count": 6
        }
      ]
    },
    {
      "cell_type": "markdown",
      "metadata": {
        "id": "KZWmvfqDlo3O"
      },
      "source": [
        "## 결과\n",
        "- 통과 하지 못함"
      ]
    }
  ]
}